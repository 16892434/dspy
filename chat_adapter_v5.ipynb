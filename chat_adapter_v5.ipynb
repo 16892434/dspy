{
 "cells": [
  {
   "attachments": {},
   "cell_type": "markdown",
   "id": "219211db",
   "metadata": {},
   "source": [
    "# Given example and template, demonstrate how chat adapter works"
   ]
  },
  {
   "cell_type": "code",
   "execution_count": 1,
   "id": "13235a66",
   "metadata": {},
   "outputs": [],
   "source": [
    "%load_ext autoreload\n",
    "%autoreload 2\n",
    "\n",
    "import openai\n",
    "import os\n",
    "\n",
    "openai.api_key = os.getenv('PERSONAL_OPENAI_API_KEY')\n",
    "openai.api_base = os.getenv('API_BASE')"
   ]
  },
  {
   "cell_type": "code",
   "execution_count": 2,
   "id": "1810a047",
   "metadata": {},
   "outputs": [
    {
     "name": "stdout",
     "output_type": "stream",
     "text": [
      "Not loading Cohere because it is not installed.\n"
     ]
    }
   ],
   "source": [
    "try: import google.colab; root_path = 'dsp'\n",
    "except: root_path = '.'\n",
    "    \n",
    "import dsp\n",
    "    \n",
    "os.environ[\"DSP_NOTEBOOK_CACHEDIR\"] = os.path.join(root_path, 'cache')\n",
    "\n",
    "openai_key = os.getenv('PERSONAL_OPENAI_API_KEY')  # or replace with your API key (optional)\n",
    "colbert_server = 'http://ec2-44-228-128-229.us-west-2.compute.amazonaws.com:8893/api/search'"
   ]
  },
  {
   "cell_type": "code",
   "execution_count": 3,
   "id": "f61109d4",
   "metadata": {},
   "outputs": [],
   "source": [
    "train = [('Who produced the album that included a re-recording of \"Lithium\"?', ['Butch Vig']),\n",
    "         ('Who was the director of the 2009 movie featuring Peter Outerbridge as William Easton?', ['Kevin Greutert']),\n",
    "         ('The heir to the Du Pont family fortune sponsored what wrestling team?', ['Foxcatcher', 'Team Foxcatcher', 'Foxcatcher Team']),\n",
    "         ('In what year was the star of To Hell and Back born?', ['1925']),\n",
    "         ('Which award did the first book of Gary Zukav receive?', ['U.S. National Book Award', 'National Book Award']),\n",
    "         ('What city was the victim of Joseph Druces working in?', ['Boston, Massachusetts', 'Boston']),]\n",
    "\n",
    "# Train is an array of examples\n",
    "train = [dsp.Example(question=question, answer=answer) for question, answer in train]"
   ]
  },
  {
   "cell_type": "code",
   "execution_count": 4,
   "id": "cafcba3b",
   "metadata": {},
   "outputs": [],
   "source": [
    "dev = [('Who has a broader scope of profession: E. L. Doctorow or Julia Peterkin?', ['E. L. Doctorow', 'E.L. Doctorow', 'Doctorow']),\n",
    "       ('What documentary about the Gilgo Beach Killer debuted on A&E?', ['The Killing Season']),\n",
    "       ('Right Back At It Again contains lyrics co-written by the singer born in what city?', ['Gainesville, Florida', 'Gainesville']),\n",
    "       ('What year was the party of the winner of the 1971 San Francisco mayoral election founded?', ['1828']),\n",
    "       ('Which author is English: John Braine or Studs Terkel?', ['John Braine']),\n",
    "       ('Anthony Dirrell is the brother of which super middleweight title holder?', ['Andre Dirrell']),\n",
    "       ('In which city is the sports nutrition business established by Oliver Cookson based ?', ['Cheshire', 'Cheshire, UK']),\n",
    "       ('Find the birth date of the actor who played roles in First Wives Club and Searching for the Elephant.', ['February 13, 1980']),\n",
    "       ('Kyle Moran was born in the town on what river?', ['Castletown', 'Castletown River']),\n",
    "       (\"What is the name of one branch of Robert D. Braun's speciality?\", ['aeronautical engineering', 'astronautical engineering', 'aeronautics', 'astronautics']),\n",
    "       (\"Where was the actress who played the niece in the Priest film born?\", ['Surrey', 'Guildford, Surrey']),\n",
    "       ('Name the movie in which the daughter of Noel Harrison plays Violet Trefusis.', ['Portrait of a Marriage']),\n",
    "       ('What year was the father of the Princes in the Tower born?', ['1442'])]\n",
    "\n",
    "dev = [dsp.Example(question=question, answer=answer) for question, answer in dev]"
   ]
  },
  {
   "cell_type": "code",
   "execution_count": 5,
   "id": "ab0e23bf",
   "metadata": {},
   "outputs": [],
   "source": [
    "# Template, Demos, and Question Construction\n",
    "Question = dsp.Type(prefix=\"Question:\", desc=\"${the question to be answered}\")\n",
    "Answer = dsp.Type(prefix=\"Answer:\", desc=\"${a short factoid answer, often between 1 and 5 words}\", format=dsp.format_answers)\n",
    "qa_template = dsp.Template(instructions=\"Answer questions with short factoid answers.\", question=Question(), answer=Answer())"
   ]
  },
  {
   "attachments": {},
   "cell_type": "markdown",
   "id": "f579170f",
   "metadata": {},
   "source": [
    "### Load Models and Adapters"
   ]
  },
  {
   "cell_type": "code",
   "execution_count": 95,
   "id": "9109feb6",
   "metadata": {},
   "outputs": [],
   "source": [
    "from dsp.evaluation.utils import evaluate\n",
    "from dsp.modules import ChatAdapter, BasicAdapter\n",
    "\n",
    "rm = dsp.ColBERTv2(url=colbert_server)\n",
    "davinci = dsp.GPT3(model='text-davinci-002', api_key=openai_key)\n",
    "turbo = dsp.GPT3(model='gpt-3.5-turbo-0613', api_key=openai_key, model_type=\"chat\")"
   ]
  },
  {
   "attachments": {},
   "cell_type": "markdown",
   "id": "6116b0e4",
   "metadata": {},
   "source": [
    "# Program 1: Vanilla GPT-3.5"
   ]
  },
  {
   "cell_type": "code",
   "execution_count": 22,
   "id": "635800d7",
   "metadata": {},
   "outputs": [],
   "source": [
    "def vanilla_LM_QA(question: str) -> str:\n",
    "    demos = dsp.sample(train, k=7)\n",
    "    example = dsp.Example(question=question, demos=demos)\n",
    "    example, completions = dsp.generate(qa_template)(example, stage='qa')\n",
    "    return completions.answer"
   ]
  },
  {
   "attachments": {},
   "cell_type": "markdown",
   "id": "956a8cfc",
   "metadata": {},
   "source": [
    "## Chat Adapter with system_turn=False, multi_turn=False, strict_turn=False"
   ]
  },
  {
   "cell_type": "code",
   "execution_count": 23,
   "id": "1e80f347",
   "metadata": {
    "scrolled": true
   },
   "outputs": [
    {
     "name": "stdout",
     "output_type": "stream",
     "text": [
      "\n",
      "\n",
      "\n",
      "\n",
      "{'model': 'gpt-3.5-turbo-0613', 'messages': [{'role': 'user', 'content': 'Answer questions with short factoid answers.\\n\\n---\\n\\nFollow the following format.\\n\\nQuestion: ${the question to be answered}\\nAnswer: ${a short factoid answer, often between 1 and 5 words}\\n\\n---\\n\\nQuestion: Which award did the first book of Gary Zukav receive?\\nAnswer: U.S. National Book Award\\n\\nQuestion: The heir to the Du Pont family fortune sponsored what wrestling team?\\nAnswer: Foxcatcher\\n\\nQuestion: Who was the director of the 2009 movie featuring Peter Outerbridge as William Easton?\\nAnswer: Kevin Greutert\\n\\nQuestion: Who produced the album that included a re-recording of \"Lithium\"?\\nAnswer: Butch Vig\\n\\nQuestion: What city was the victim of Joseph Druces working in?\\nAnswer: Boston, Massachusetts\\n\\nQuestion: In what year was the star of To Hell and Back born?\\nAnswer: 1925\\n\\nQuestion: What documentary about the Gilgo Beach Killer debuted on A&E?\\nAnswer:'}]}\u001b[32mThe Killing Season\u001b[0m\n",
      "\n",
      "\n",
      "\n"
     ]
    },
    {
     "data": {
      "text/plain": [
       "('The Killing Season', None)"
      ]
     },
     "execution_count": 23,
     "metadata": {},
     "output_type": "execute_result"
    }
   ],
   "source": [
    "dsp.settings.configure(lm=turbo, rm=rm, adapter=ChatAdapter(system_turn=False, multi_turn=False, strict_turn=False))\n",
    "vanilla_LM_QA(dev[1].question), turbo.inspect_history(n=1)"
   ]
  },
  {
   "cell_type": "code",
   "execution_count": 24,
   "id": "72c4f1b1",
   "metadata": {},
   "outputs": [
    {
     "name": "stderr",
     "output_type": "stream",
     "text": [
      "100%|██████████| 13/13 [00:00<00:00, 504.83it/s]"
     ]
    },
    {
     "name": "stdout",
     "output_type": "stream",
     "text": [
      "Answered 4 / 13 (30.8%) correctly.\n"
     ]
    },
    {
     "name": "stderr",
     "output_type": "stream",
     "text": [
      "\n"
     ]
    },
    {
     "data": {
      "text/html": [
       "<style type=\"text/css\">\n",
       "#T_81069 th {\n",
       "  text-align: left;\n",
       "}\n",
       "#T_81069 td {\n",
       "  text-align: left;\n",
       "}\n",
       "</style>\n",
       "<table id=\"T_81069\">\n",
       "  <thead>\n",
       "    <tr>\n",
       "      <th class=\"blank level0\" >&nbsp;</th>\n",
       "      <th id=\"T_81069_level0_col0\" class=\"col_heading level0 col0\" >question</th>\n",
       "      <th id=\"T_81069_level0_col1\" class=\"col_heading level0 col1\" >answer</th>\n",
       "      <th id=\"T_81069_level0_col2\" class=\"col_heading level0 col2\" >prediction</th>\n",
       "      <th id=\"T_81069_level0_col3\" class=\"col_heading level0 col3\" >correct</th>\n",
       "    </tr>\n",
       "  </thead>\n",
       "  <tbody>\n",
       "    <tr>\n",
       "      <th id=\"T_81069_level0_row0\" class=\"row_heading level0 row0\" >0</th>\n",
       "      <td id=\"T_81069_row0_col0\" class=\"data row0 col0\" >Who has a broader scope of profession: E. L. Doctorow or Julia Peterkin?</td>\n",
       "      <td id=\"T_81069_row0_col1\" class=\"data row0 col1\" >['E. L. Doctorow', 'E.L. Doctorow', 'Doctorow']</td>\n",
       "      <td id=\"T_81069_row0_col2\" class=\"data row0 col2\" >E. L. Doctorow</td>\n",
       "      <td id=\"T_81069_row0_col3\" class=\"data row0 col3\" >✔️</td>\n",
       "    </tr>\n",
       "    <tr>\n",
       "      <th id=\"T_81069_level0_row1\" class=\"row_heading level0 row1\" >1</th>\n",
       "      <td id=\"T_81069_row1_col0\" class=\"data row1 col0\" >What documentary about the Gilgo Beach Killer debuted on A&E?</td>\n",
       "      <td id=\"T_81069_row1_col1\" class=\"data row1 col1\" >['The Killing Season']</td>\n",
       "      <td id=\"T_81069_row1_col2\" class=\"data row1 col2\" >The Killing Season</td>\n",
       "      <td id=\"T_81069_row1_col3\" class=\"data row1 col3\" >✔️</td>\n",
       "    </tr>\n",
       "    <tr>\n",
       "      <th id=\"T_81069_level0_row2\" class=\"row_heading level0 row2\" >2</th>\n",
       "      <td id=\"T_81069_row2_col0\" class=\"data row2 col0\" >Right Back At It Again contains lyrics co-written by the singer born in what city?</td>\n",
       "      <td id=\"T_81069_row2_col1\" class=\"data row2 col1\" >['Gainesville, Florida', 'Gainesville']</td>\n",
       "      <td id=\"T_81069_row2_col2\" class=\"data row2 col2\" >Ocala</td>\n",
       "      <td id=\"T_81069_row2_col3\" class=\"data row2 col3\" >❌</td>\n",
       "    </tr>\n",
       "    <tr>\n",
       "      <th id=\"T_81069_level0_row3\" class=\"row_heading level0 row3\" >3</th>\n",
       "      <td id=\"T_81069_row3_col0\" class=\"data row3 col0\" >What year was the party of the winner of the 1971 San Francisco mayoral election founded?</td>\n",
       "      <td id=\"T_81069_row3_col1\" class=\"data row3 col1\" >['1828']</td>\n",
       "      <td id=\"T_81069_row3_col2\" class=\"data row3 col2\" >1971</td>\n",
       "      <td id=\"T_81069_row3_col3\" class=\"data row3 col3\" >❌</td>\n",
       "    </tr>\n",
       "    <tr>\n",
       "      <th id=\"T_81069_level0_row4\" class=\"row_heading level0 row4\" >4</th>\n",
       "      <td id=\"T_81069_row4_col0\" class=\"data row4 col0\" >Which author is English: John Braine or Studs Terkel?</td>\n",
       "      <td id=\"T_81069_row4_col1\" class=\"data row4 col1\" >['John Braine']</td>\n",
       "      <td id=\"T_81069_row4_col2\" class=\"data row4 col2\" >John Braine</td>\n",
       "      <td id=\"T_81069_row4_col3\" class=\"data row4 col3\" >✔️</td>\n",
       "    </tr>\n",
       "    <tr>\n",
       "      <th id=\"T_81069_level0_row5\" class=\"row_heading level0 row5\" >5</th>\n",
       "      <td id=\"T_81069_row5_col0\" class=\"data row5 col0\" >Anthony Dirrell is the brother of which super middleweight title holder?</td>\n",
       "      <td id=\"T_81069_row5_col1\" class=\"data row5 col1\" >['Andre Dirrell']</td>\n",
       "      <td id=\"T_81069_row5_col2\" class=\"data row5 col2\" >Andre Dirrell</td>\n",
       "      <td id=\"T_81069_row5_col3\" class=\"data row5 col3\" >✔️</td>\n",
       "    </tr>\n",
       "    <tr>\n",
       "      <th id=\"T_81069_level0_row6\" class=\"row_heading level0 row6\" >6</th>\n",
       "      <td id=\"T_81069_row6_col0\" class=\"data row6 col0\" >In which city is the sports nutrition business established by Oliver Cookson based ?</td>\n",
       "      <td id=\"T_81069_row6_col1\" class=\"data row6 col1\" >['Cheshire', 'Cheshire, UK']</td>\n",
       "      <td id=\"T_81069_row6_col2\" class=\"data row6 col2\" >Manchester, England</td>\n",
       "      <td id=\"T_81069_row6_col3\" class=\"data row6 col3\" >❌</td>\n",
       "    </tr>\n",
       "    <tr>\n",
       "      <th id=\"T_81069_level0_row7\" class=\"row_heading level0 row7\" >7</th>\n",
       "      <td id=\"T_81069_row7_col0\" class=\"data row7 col0\" >Find the birth date of the actor who played roles in First Wives Club and Searching for the Elephant.</td>\n",
       "      <td id=\"T_81069_row7_col1\" class=\"data row7 col1\" >['February 13, 1980']</td>\n",
       "      <td id=\"T_81069_row7_col2\" class=\"data row7 col2\" >1947</td>\n",
       "      <td id=\"T_81069_row7_col3\" class=\"data row7 col3\" >❌</td>\n",
       "    </tr>\n",
       "    <tr>\n",
       "      <th id=\"T_81069_level0_row8\" class=\"row_heading level0 row8\" >8</th>\n",
       "      <td id=\"T_81069_row8_col0\" class=\"data row8 col0\" >Kyle Moran was born in the town on what river?</td>\n",
       "      <td id=\"T_81069_row8_col1\" class=\"data row8 col1\" >['Castletown', 'Castletown River']</td>\n",
       "      <td id=\"T_81069_row8_col2\" class=\"data row8 col2\" >Mississippi River</td>\n",
       "      <td id=\"T_81069_row8_col3\" class=\"data row8 col3\" >❌</td>\n",
       "    </tr>\n",
       "    <tr>\n",
       "      <th id=\"T_81069_level0_row9\" class=\"row_heading level0 row9\" >9</th>\n",
       "      <td id=\"T_81069_row9_col0\" class=\"data row9 col0\" >What is the name of one branch of Robert D. Braun's speciality?</td>\n",
       "      <td id=\"T_81069_row9_col1\" class=\"data row9 col1\" >['aeronautical engineering', 'astronautical engineering', 'aeronautics', 'astronautics']</td>\n",
       "      <td id=\"T_81069_row9_col2\" class=\"data row9 col2\" >Space Systems Engineering</td>\n",
       "      <td id=\"T_81069_row9_col3\" class=\"data row9 col3\" >❌</td>\n",
       "    </tr>\n",
       "    <tr>\n",
       "      <th id=\"T_81069_level0_row10\" class=\"row_heading level0 row10\" >10</th>\n",
       "      <td id=\"T_81069_row10_col0\" class=\"data row10 col0\" >Where was the actress who played the niece in the Priest film born?</td>\n",
       "      <td id=\"T_81069_row10_col1\" class=\"data row10 col1\" >['Surrey', 'Guildford, Surrey']</td>\n",
       "      <td id=\"T_81069_row10_col2\" class=\"data row10 col2\" >Ireland</td>\n",
       "      <td id=\"T_81069_row10_col3\" class=\"data row10 col3\" >❌</td>\n",
       "    </tr>\n",
       "    <tr>\n",
       "      <th id=\"T_81069_level0_row11\" class=\"row_heading level0 row11\" >11</th>\n",
       "      <td id=\"T_81069_row11_col0\" class=\"data row11 col0\" >Name the movie in which the daughter of Noel Harrison plays Violet Trefusis.</td>\n",
       "      <td id=\"T_81069_row11_col1\" class=\"data row11 col1\" >['Portrait of a Marriage']</td>\n",
       "      <td id=\"T_81069_row11_col2\" class=\"data row11 col2\" >The Girl with the Dragon Tattoo</td>\n",
       "      <td id=\"T_81069_row11_col3\" class=\"data row11 col3\" >❌</td>\n",
       "    </tr>\n",
       "    <tr>\n",
       "      <th id=\"T_81069_level0_row12\" class=\"row_heading level0 row12\" >12</th>\n",
       "      <td id=\"T_81069_row12_col0\" class=\"data row12 col0\" >What year was the father of the Princes in the Tower born?</td>\n",
       "      <td id=\"T_81069_row12_col1\" class=\"data row12 col1\" >['1442']</td>\n",
       "      <td id=\"T_81069_row12_col2\" class=\"data row12 col2\" >1452</td>\n",
       "      <td id=\"T_81069_row12_col3\" class=\"data row12 col3\" >❌</td>\n",
       "    </tr>\n",
       "  </tbody>\n",
       "</table>\n"
      ],
      "text/plain": [
       "<pandas.io.formats.style.Styler at 0x124e6fa50>"
      ]
     },
     "metadata": {},
     "output_type": "display_data"
    },
    {
     "data": {
      "text/plain": [
       "30.8"
      ]
     },
     "execution_count": 24,
     "metadata": {},
     "output_type": "execute_result"
    }
   ],
   "source": [
    "evaluate(vanilla_LM_QA, dev)"
   ]
  },
  {
   "attachments": {},
   "cell_type": "markdown",
   "id": "9a02b579",
   "metadata": {},
   "source": [
    "## Chat Adapter with system_turn=True, multi_turn=False, strict_turn=False"
   ]
  },
  {
   "cell_type": "code",
   "execution_count": 25,
   "id": "3758108d",
   "metadata": {},
   "outputs": [
    {
     "name": "stdout",
     "output_type": "stream",
     "text": [
      "\n",
      "\n",
      "\n",
      "\n",
      "{'model': 'gpt-3.5-turbo-0613', 'messages': [{'role': 'system', 'content': 'Answer questions with short factoid answers.'}, {'role': 'user', 'content': 'Follow the following format.\\n\\nQuestion: ${the question to be answered}\\nAnswer: ${a short factoid answer, often between 1 and 5 words}\\n\\n---\\n\\nQuestion: Which award did the first book of Gary Zukav receive?\\nAnswer: U.S. National Book Award\\n\\nQuestion: The heir to the Du Pont family fortune sponsored what wrestling team?\\nAnswer: Foxcatcher\\n\\nQuestion: Who was the director of the 2009 movie featuring Peter Outerbridge as William Easton?\\nAnswer: Kevin Greutert\\n\\nQuestion: Who produced the album that included a re-recording of \"Lithium\"?\\nAnswer: Butch Vig\\n\\nQuestion: What city was the victim of Joseph Druces working in?\\nAnswer: Boston, Massachusetts\\n\\nQuestion: In what year was the star of To Hell and Back born?\\nAnswer: 1925\\n\\nQuestion: What documentary about the Gilgo Beach Killer debuted on A&E?\\nAnswer:'}]}\u001b[32mThe Killing Season\u001b[0m\n",
      "\n",
      "\n",
      "\n"
     ]
    },
    {
     "data": {
      "text/plain": [
       "('The Killing Season', None)"
      ]
     },
     "execution_count": 25,
     "metadata": {},
     "output_type": "execute_result"
    }
   ],
   "source": [
    "dsp.settings.configure(lm=turbo, rm=rm, adapter=ChatAdapter(system_turn=True, multi_turn=False, strict_turn=False))\n",
    "vanilla_LM_QA(dev[1].question), turbo.inspect_history(n=1)"
   ]
  },
  {
   "cell_type": "code",
   "execution_count": 26,
   "id": "15184216",
   "metadata": {},
   "outputs": [
    {
     "name": "stderr",
     "output_type": "stream",
     "text": [
      "100%|██████████| 13/13 [00:00<00:00, 723.75it/s]"
     ]
    },
    {
     "name": "stdout",
     "output_type": "stream",
     "text": [
      "Answered 5 / 13 (38.5%) correctly.\n"
     ]
    },
    {
     "name": "stderr",
     "output_type": "stream",
     "text": [
      "\n"
     ]
    },
    {
     "data": {
      "text/html": [
       "<style type=\"text/css\">\n",
       "#T_f1e5a th {\n",
       "  text-align: left;\n",
       "}\n",
       "#T_f1e5a td {\n",
       "  text-align: left;\n",
       "}\n",
       "</style>\n",
       "<table id=\"T_f1e5a\">\n",
       "  <thead>\n",
       "    <tr>\n",
       "      <th class=\"blank level0\" >&nbsp;</th>\n",
       "      <th id=\"T_f1e5a_level0_col0\" class=\"col_heading level0 col0\" >question</th>\n",
       "      <th id=\"T_f1e5a_level0_col1\" class=\"col_heading level0 col1\" >answer</th>\n",
       "      <th id=\"T_f1e5a_level0_col2\" class=\"col_heading level0 col2\" >prediction</th>\n",
       "      <th id=\"T_f1e5a_level0_col3\" class=\"col_heading level0 col3\" >correct</th>\n",
       "    </tr>\n",
       "  </thead>\n",
       "  <tbody>\n",
       "    <tr>\n",
       "      <th id=\"T_f1e5a_level0_row0\" class=\"row_heading level0 row0\" >0</th>\n",
       "      <td id=\"T_f1e5a_row0_col0\" class=\"data row0 col0\" >Who has a broader scope of profession: E. L. Doctorow or Julia Peterkin?</td>\n",
       "      <td id=\"T_f1e5a_row0_col1\" class=\"data row0 col1\" >['E. L. Doctorow', 'E.L. Doctorow', 'Doctorow']</td>\n",
       "      <td id=\"T_f1e5a_row0_col2\" class=\"data row0 col2\" >E. L. Doctorow</td>\n",
       "      <td id=\"T_f1e5a_row0_col3\" class=\"data row0 col3\" >✔️</td>\n",
       "    </tr>\n",
       "    <tr>\n",
       "      <th id=\"T_f1e5a_level0_row1\" class=\"row_heading level0 row1\" >1</th>\n",
       "      <td id=\"T_f1e5a_row1_col0\" class=\"data row1 col0\" >What documentary about the Gilgo Beach Killer debuted on A&E?</td>\n",
       "      <td id=\"T_f1e5a_row1_col1\" class=\"data row1 col1\" >['The Killing Season']</td>\n",
       "      <td id=\"T_f1e5a_row1_col2\" class=\"data row1 col2\" >The Killing Season</td>\n",
       "      <td id=\"T_f1e5a_row1_col3\" class=\"data row1 col3\" >✔️</td>\n",
       "    </tr>\n",
       "    <tr>\n",
       "      <th id=\"T_f1e5a_level0_row2\" class=\"row_heading level0 row2\" >2</th>\n",
       "      <td id=\"T_f1e5a_row2_col0\" class=\"data row2 col0\" >Right Back At It Again contains lyrics co-written by the singer born in what city?</td>\n",
       "      <td id=\"T_f1e5a_row2_col1\" class=\"data row2 col1\" >['Gainesville, Florida', 'Gainesville']</td>\n",
       "      <td id=\"T_f1e5a_row2_col2\" class=\"data row2 col2\" >Ocala</td>\n",
       "      <td id=\"T_f1e5a_row2_col3\" class=\"data row2 col3\" >❌</td>\n",
       "    </tr>\n",
       "    <tr>\n",
       "      <th id=\"T_f1e5a_level0_row3\" class=\"row_heading level0 row3\" >3</th>\n",
       "      <td id=\"T_f1e5a_row3_col0\" class=\"data row3 col0\" >What year was the party of the winner of the 1971 San Francisco mayoral election founded?</td>\n",
       "      <td id=\"T_f1e5a_row3_col1\" class=\"data row3 col1\" >['1828']</td>\n",
       "      <td id=\"T_f1e5a_row3_col2\" class=\"data row3 col2\" >1964</td>\n",
       "      <td id=\"T_f1e5a_row3_col3\" class=\"data row3 col3\" >❌</td>\n",
       "    </tr>\n",
       "    <tr>\n",
       "      <th id=\"T_f1e5a_level0_row4\" class=\"row_heading level0 row4\" >4</th>\n",
       "      <td id=\"T_f1e5a_row4_col0\" class=\"data row4 col0\" >Which author is English: John Braine or Studs Terkel?</td>\n",
       "      <td id=\"T_f1e5a_row4_col1\" class=\"data row4 col1\" >['John Braine']</td>\n",
       "      <td id=\"T_f1e5a_row4_col2\" class=\"data row4 col2\" >John Braine</td>\n",
       "      <td id=\"T_f1e5a_row4_col3\" class=\"data row4 col3\" >✔️</td>\n",
       "    </tr>\n",
       "    <tr>\n",
       "      <th id=\"T_f1e5a_level0_row5\" class=\"row_heading level0 row5\" >5</th>\n",
       "      <td id=\"T_f1e5a_row5_col0\" class=\"data row5 col0\" >Anthony Dirrell is the brother of which super middleweight title holder?</td>\n",
       "      <td id=\"T_f1e5a_row5_col1\" class=\"data row5 col1\" >['Andre Dirrell']</td>\n",
       "      <td id=\"T_f1e5a_row5_col2\" class=\"data row5 col2\" >Andre Dirrell</td>\n",
       "      <td id=\"T_f1e5a_row5_col3\" class=\"data row5 col3\" >✔️</td>\n",
       "    </tr>\n",
       "    <tr>\n",
       "      <th id=\"T_f1e5a_level0_row6\" class=\"row_heading level0 row6\" >6</th>\n",
       "      <td id=\"T_f1e5a_row6_col0\" class=\"data row6 col0\" >In which city is the sports nutrition business established by Oliver Cookson based ?</td>\n",
       "      <td id=\"T_f1e5a_row6_col1\" class=\"data row6 col1\" >['Cheshire', 'Cheshire, UK']</td>\n",
       "      <td id=\"T_f1e5a_row6_col2\" class=\"data row6 col2\" >Manchester</td>\n",
       "      <td id=\"T_f1e5a_row6_col3\" class=\"data row6 col3\" >❌</td>\n",
       "    </tr>\n",
       "    <tr>\n",
       "      <th id=\"T_f1e5a_level0_row7\" class=\"row_heading level0 row7\" >7</th>\n",
       "      <td id=\"T_f1e5a_row7_col0\" class=\"data row7 col0\" >Find the birth date of the actor who played roles in First Wives Club and Searching for the Elephant.</td>\n",
       "      <td id=\"T_f1e5a_row7_col1\" class=\"data row7 col1\" >['February 13, 1980']</td>\n",
       "      <td id=\"T_f1e5a_row7_col2\" class=\"data row7 col2\" >September 19, 1940</td>\n",
       "      <td id=\"T_f1e5a_row7_col3\" class=\"data row7 col3\" >❌</td>\n",
       "    </tr>\n",
       "    <tr>\n",
       "      <th id=\"T_f1e5a_level0_row8\" class=\"row_heading level0 row8\" >8</th>\n",
       "      <td id=\"T_f1e5a_row8_col0\" class=\"data row8 col0\" >Kyle Moran was born in the town on what river?</td>\n",
       "      <td id=\"T_f1e5a_row8_col1\" class=\"data row8 col1\" >['Castletown', 'Castletown River']</td>\n",
       "      <td id=\"T_f1e5a_row8_col2\" class=\"data row8 col2\" >Mississippi River</td>\n",
       "      <td id=\"T_f1e5a_row8_col3\" class=\"data row8 col3\" >❌</td>\n",
       "    </tr>\n",
       "    <tr>\n",
       "      <th id=\"T_f1e5a_level0_row9\" class=\"row_heading level0 row9\" >9</th>\n",
       "      <td id=\"T_f1e5a_row9_col0\" class=\"data row9 col0\" >What is the name of one branch of Robert D. Braun's speciality?</td>\n",
       "      <td id=\"T_f1e5a_row9_col1\" class=\"data row9 col1\" >['aeronautical engineering', 'astronautical engineering', 'aeronautics', 'astronautics']</td>\n",
       "      <td id=\"T_f1e5a_row9_col2\" class=\"data row9 col2\" >Space Systems Engineering</td>\n",
       "      <td id=\"T_f1e5a_row9_col3\" class=\"data row9 col3\" >❌</td>\n",
       "    </tr>\n",
       "    <tr>\n",
       "      <th id=\"T_f1e5a_level0_row10\" class=\"row_heading level0 row10\" >10</th>\n",
       "      <td id=\"T_f1e5a_row10_col0\" class=\"data row10 col0\" >Where was the actress who played the niece in the Priest film born?</td>\n",
       "      <td id=\"T_f1e5a_row10_col1\" class=\"data row10 col1\" >['Surrey', 'Guildford, Surrey']</td>\n",
       "      <td id=\"T_f1e5a_row10_col2\" class=\"data row10 col2\" >I'm sorry, but I don't have access to specific information about actors or films.</td>\n",
       "      <td id=\"T_f1e5a_row10_col3\" class=\"data row10 col3\" >❌</td>\n",
       "    </tr>\n",
       "    <tr>\n",
       "      <th id=\"T_f1e5a_level0_row11\" class=\"row_heading level0 row11\" >11</th>\n",
       "      <td id=\"T_f1e5a_row11_col0\" class=\"data row11 col0\" >Name the movie in which the daughter of Noel Harrison plays Violet Trefusis.</td>\n",
       "      <td id=\"T_f1e5a_row11_col1\" class=\"data row11 col1\" >['Portrait of a Marriage']</td>\n",
       "      <td id=\"T_f1e5a_row11_col2\" class=\"data row11 col2\" >The Bostonians</td>\n",
       "      <td id=\"T_f1e5a_row11_col3\" class=\"data row11 col3\" >❌</td>\n",
       "    </tr>\n",
       "    <tr>\n",
       "      <th id=\"T_f1e5a_level0_row12\" class=\"row_heading level0 row12\" >12</th>\n",
       "      <td id=\"T_f1e5a_row12_col0\" class=\"data row12 col0\" >What year was the father of the Princes in the Tower born?</td>\n",
       "      <td id=\"T_f1e5a_row12_col1\" class=\"data row12 col1\" >['1442']</td>\n",
       "      <td id=\"T_f1e5a_row12_col2\" class=\"data row12 col2\" >1442</td>\n",
       "      <td id=\"T_f1e5a_row12_col3\" class=\"data row12 col3\" >✔️</td>\n",
       "    </tr>\n",
       "  </tbody>\n",
       "</table>\n"
      ],
      "text/plain": [
       "<pandas.io.formats.style.Styler at 0x11a621f90>"
      ]
     },
     "metadata": {},
     "output_type": "display_data"
    },
    {
     "data": {
      "text/plain": [
       "38.5"
      ]
     },
     "execution_count": 26,
     "metadata": {},
     "output_type": "execute_result"
    }
   ],
   "source": [
    "evaluate(vanilla_LM_QA, dev)"
   ]
  },
  {
   "attachments": {},
   "cell_type": "markdown",
   "id": "8c57ac82",
   "metadata": {},
   "source": [
    "## Chat Adapter with system_turn=True, multi_turn=True, strict_turn=False"
   ]
  },
  {
   "cell_type": "code",
   "execution_count": 27,
   "id": "6e124170",
   "metadata": {},
   "outputs": [
    {
     "name": "stdout",
     "output_type": "stream",
     "text": [
      "\n",
      "\n",
      "\n",
      "\n",
      "{'model': 'gpt-3.5-turbo-0613', 'messages': [{'role': 'system', 'content': 'Answer questions with short factoid answers.'}, {'role': 'user', 'content': 'Follow the following format.\\n\\nQuestion: ${the question to be answered}\\nAnswer: ${a short factoid answer, often between 1 and 5 words}'}, {'role': 'user', 'content': 'Question: Which award did the first book of Gary Zukav receive?\\nAnswer: U.S. National Book Award\\n\\nQuestion: The heir to the Du Pont family fortune sponsored what wrestling team?\\nAnswer: Foxcatcher\\n\\nQuestion: Who was the director of the 2009 movie featuring Peter Outerbridge as William Easton?\\nAnswer: Kevin Greutert\\n\\nQuestion: Who produced the album that included a re-recording of \"Lithium\"?\\nAnswer: Butch Vig\\n\\nQuestion: What city was the victim of Joseph Druces working in?\\nAnswer: Boston, Massachusetts\\n\\nQuestion: In what year was the star of To Hell and Back born?\\nAnswer: 1925'}, {'role': 'user', 'content': 'Question: What documentary about the Gilgo Beach Killer debuted on A&E?\\nAnswer:'}]}\u001b[32mThe Killing Season\u001b[0m\n",
      "\n",
      "\n",
      "\n"
     ]
    },
    {
     "data": {
      "text/plain": [
       "('The Killing Season', None)"
      ]
     },
     "execution_count": 27,
     "metadata": {},
     "output_type": "execute_result"
    }
   ],
   "source": [
    "dsp.settings.configure(lm=turbo, rm=rm, adapter=ChatAdapter(system_turn=True, multi_turn=True, strict_turn=False))\n",
    "vanilla_LM_QA(dev[1].question), turbo.inspect_history(n=1)"
   ]
  },
  {
   "cell_type": "code",
   "execution_count": 28,
   "id": "af61f9a5",
   "metadata": {
    "scrolled": true
   },
   "outputs": [
    {
     "name": "stderr",
     "output_type": "stream",
     "text": [
      "100%|██████████| 13/13 [00:00<00:00, 720.62it/s]"
     ]
    },
    {
     "name": "stdout",
     "output_type": "stream",
     "text": [
      "Answered 4 / 13 (30.8%) correctly.\n"
     ]
    },
    {
     "name": "stderr",
     "output_type": "stream",
     "text": [
      "\n"
     ]
    },
    {
     "data": {
      "text/html": [
       "<style type=\"text/css\">\n",
       "#T_0d6b3 th {\n",
       "  text-align: left;\n",
       "}\n",
       "#T_0d6b3 td {\n",
       "  text-align: left;\n",
       "}\n",
       "</style>\n",
       "<table id=\"T_0d6b3\">\n",
       "  <thead>\n",
       "    <tr>\n",
       "      <th class=\"blank level0\" >&nbsp;</th>\n",
       "      <th id=\"T_0d6b3_level0_col0\" class=\"col_heading level0 col0\" >question</th>\n",
       "      <th id=\"T_0d6b3_level0_col1\" class=\"col_heading level0 col1\" >answer</th>\n",
       "      <th id=\"T_0d6b3_level0_col2\" class=\"col_heading level0 col2\" >prediction</th>\n",
       "      <th id=\"T_0d6b3_level0_col3\" class=\"col_heading level0 col3\" >correct</th>\n",
       "    </tr>\n",
       "  </thead>\n",
       "  <tbody>\n",
       "    <tr>\n",
       "      <th id=\"T_0d6b3_level0_row0\" class=\"row_heading level0 row0\" >0</th>\n",
       "      <td id=\"T_0d6b3_row0_col0\" class=\"data row0 col0\" >Who has a broader scope of profession: E. L. Doctorow or Julia Peterkin?</td>\n",
       "      <td id=\"T_0d6b3_row0_col1\" class=\"data row0 col1\" >['E. L. Doctorow', 'E.L. Doctorow', 'Doctorow']</td>\n",
       "      <td id=\"T_0d6b3_row0_col2\" class=\"data row0 col2\" >E. L. Doctorow</td>\n",
       "      <td id=\"T_0d6b3_row0_col3\" class=\"data row0 col3\" >✔️</td>\n",
       "    </tr>\n",
       "    <tr>\n",
       "      <th id=\"T_0d6b3_level0_row1\" class=\"row_heading level0 row1\" >1</th>\n",
       "      <td id=\"T_0d6b3_row1_col0\" class=\"data row1 col0\" >What documentary about the Gilgo Beach Killer debuted on A&E?</td>\n",
       "      <td id=\"T_0d6b3_row1_col1\" class=\"data row1 col1\" >['The Killing Season']</td>\n",
       "      <td id=\"T_0d6b3_row1_col2\" class=\"data row1 col2\" >The Killing Season</td>\n",
       "      <td id=\"T_0d6b3_row1_col3\" class=\"data row1 col3\" >✔️</td>\n",
       "    </tr>\n",
       "    <tr>\n",
       "      <th id=\"T_0d6b3_level0_row2\" class=\"row_heading level0 row2\" >2</th>\n",
       "      <td id=\"T_0d6b3_row2_col0\" class=\"data row2 col0\" >Right Back At It Again contains lyrics co-written by the singer born in what city?</td>\n",
       "      <td id=\"T_0d6b3_row2_col1\" class=\"data row2 col1\" >['Gainesville, Florida', 'Gainesville']</td>\n",
       "      <td id=\"T_0d6b3_row2_col2\" class=\"data row2 col2\" >Ocala, Florida</td>\n",
       "      <td id=\"T_0d6b3_row2_col3\" class=\"data row2 col3\" >❌</td>\n",
       "    </tr>\n",
       "    <tr>\n",
       "      <th id=\"T_0d6b3_level0_row3\" class=\"row_heading level0 row3\" >3</th>\n",
       "      <td id=\"T_0d6b3_row3_col0\" class=\"data row3 col0\" >What year was the party of the winner of the 1971 San Francisco mayoral election founded?</td>\n",
       "      <td id=\"T_0d6b3_row3_col1\" class=\"data row3 col1\" >['1828']</td>\n",
       "      <td id=\"T_0d6b3_row3_col2\" class=\"data row3 col2\" >1971</td>\n",
       "      <td id=\"T_0d6b3_row3_col3\" class=\"data row3 col3\" >❌</td>\n",
       "    </tr>\n",
       "    <tr>\n",
       "      <th id=\"T_0d6b3_level0_row4\" class=\"row_heading level0 row4\" >4</th>\n",
       "      <td id=\"T_0d6b3_row4_col0\" class=\"data row4 col0\" >Which author is English: John Braine or Studs Terkel?</td>\n",
       "      <td id=\"T_0d6b3_row4_col1\" class=\"data row4 col1\" >['John Braine']</td>\n",
       "      <td id=\"T_0d6b3_row4_col2\" class=\"data row4 col2\" >John Braine</td>\n",
       "      <td id=\"T_0d6b3_row4_col3\" class=\"data row4 col3\" >✔️</td>\n",
       "    </tr>\n",
       "    <tr>\n",
       "      <th id=\"T_0d6b3_level0_row5\" class=\"row_heading level0 row5\" >5</th>\n",
       "      <td id=\"T_0d6b3_row5_col0\" class=\"data row5 col0\" >Anthony Dirrell is the brother of which super middleweight title holder?</td>\n",
       "      <td id=\"T_0d6b3_row5_col1\" class=\"data row5 col1\" >['Andre Dirrell']</td>\n",
       "      <td id=\"T_0d6b3_row5_col2\" class=\"data row5 col2\" >David Benavidez</td>\n",
       "      <td id=\"T_0d6b3_row5_col3\" class=\"data row5 col3\" >❌</td>\n",
       "    </tr>\n",
       "    <tr>\n",
       "      <th id=\"T_0d6b3_level0_row6\" class=\"row_heading level0 row6\" >6</th>\n",
       "      <td id=\"T_0d6b3_row6_col0\" class=\"data row6 col0\" >In which city is the sports nutrition business established by Oliver Cookson based ?</td>\n",
       "      <td id=\"T_0d6b3_row6_col1\" class=\"data row6 col1\" >['Cheshire', 'Cheshire, UK']</td>\n",
       "      <td id=\"T_0d6b3_row6_col2\" class=\"data row6 col2\" >Manchester, United Kingdom</td>\n",
       "      <td id=\"T_0d6b3_row6_col3\" class=\"data row6 col3\" >❌</td>\n",
       "    </tr>\n",
       "    <tr>\n",
       "      <th id=\"T_0d6b3_level0_row7\" class=\"row_heading level0 row7\" >7</th>\n",
       "      <td id=\"T_0d6b3_row7_col0\" class=\"data row7 col0\" >Find the birth date of the actor who played roles in First Wives Club and Searching for the Elephant.</td>\n",
       "      <td id=\"T_0d6b3_row7_col1\" class=\"data row7 col1\" >['February 13, 1980']</td>\n",
       "      <td id=\"T_0d6b3_row7_col2\" class=\"data row7 col2\" >No information provided.</td>\n",
       "      <td id=\"T_0d6b3_row7_col3\" class=\"data row7 col3\" >❌</td>\n",
       "    </tr>\n",
       "    <tr>\n",
       "      <th id=\"T_0d6b3_level0_row8\" class=\"row_heading level0 row8\" >8</th>\n",
       "      <td id=\"T_0d6b3_row8_col0\" class=\"data row8 col0\" >Kyle Moran was born in the town on what river?</td>\n",
       "      <td id=\"T_0d6b3_row8_col1\" class=\"data row8 col1\" >['Castletown', 'Castletown River']</td>\n",
       "      <td id=\"T_0d6b3_row8_col2\" class=\"data row8 col2\" >Unknown.</td>\n",
       "      <td id=\"T_0d6b3_row8_col3\" class=\"data row8 col3\" >❌</td>\n",
       "    </tr>\n",
       "    <tr>\n",
       "      <th id=\"T_0d6b3_level0_row9\" class=\"row_heading level0 row9\" >9</th>\n",
       "      <td id=\"T_0d6b3_row9_col0\" class=\"data row9 col0\" >What is the name of one branch of Robert D. Braun's speciality?</td>\n",
       "      <td id=\"T_0d6b3_row9_col1\" class=\"data row9 col1\" >['aeronautical engineering', 'astronautical engineering', 'aeronautics', 'astronautics']</td>\n",
       "      <td id=\"T_0d6b3_row9_col2\" class=\"data row9 col2\" >Aerospace engineering</td>\n",
       "      <td id=\"T_0d6b3_row9_col3\" class=\"data row9 col3\" >❌</td>\n",
       "    </tr>\n",
       "    <tr>\n",
       "      <th id=\"T_0d6b3_level0_row10\" class=\"row_heading level0 row10\" >10</th>\n",
       "      <td id=\"T_0d6b3_row10_col0\" class=\"data row10 col0\" >Where was the actress who played the niece in the Priest film born?</td>\n",
       "      <td id=\"T_0d6b3_row10_col1\" class=\"data row10 col1\" >['Surrey', 'Guildford, Surrey']</td>\n",
       "      <td id=\"T_0d6b3_row10_col2\" class=\"data row10 col2\" >Unknown</td>\n",
       "      <td id=\"T_0d6b3_row10_col3\" class=\"data row10 col3\" >❌</td>\n",
       "    </tr>\n",
       "    <tr>\n",
       "      <th id=\"T_0d6b3_level0_row11\" class=\"row_heading level0 row11\" >11</th>\n",
       "      <td id=\"T_0d6b3_row11_col0\" class=\"data row11 col0\" >Name the movie in which the daughter of Noel Harrison plays Violet Trefusis.</td>\n",
       "      <td id=\"T_0d6b3_row11_col1\" class=\"data row11 col1\" >['Portrait of a Marriage']</td>\n",
       "      <td id=\"T_0d6b3_row11_col2\" class=\"data row11 col2\" >The movie is \"The Bostonians\"</td>\n",
       "      <td id=\"T_0d6b3_row11_col3\" class=\"data row11 col3\" >❌</td>\n",
       "    </tr>\n",
       "    <tr>\n",
       "      <th id=\"T_0d6b3_level0_row12\" class=\"row_heading level0 row12\" >12</th>\n",
       "      <td id=\"T_0d6b3_row12_col0\" class=\"data row12 col0\" >What year was the father of the Princes in the Tower born?</td>\n",
       "      <td id=\"T_0d6b3_row12_col1\" class=\"data row12 col1\" >['1442']</td>\n",
       "      <td id=\"T_0d6b3_row12_col2\" class=\"data row12 col2\" >1442</td>\n",
       "      <td id=\"T_0d6b3_row12_col3\" class=\"data row12 col3\" >✔️</td>\n",
       "    </tr>\n",
       "  </tbody>\n",
       "</table>\n"
      ],
      "text/plain": [
       "<pandas.io.formats.style.Styler at 0x11a621f90>"
      ]
     },
     "metadata": {},
     "output_type": "display_data"
    },
    {
     "data": {
      "text/plain": [
       "30.8"
      ]
     },
     "execution_count": 28,
     "metadata": {},
     "output_type": "execute_result"
    }
   ],
   "source": [
    "evaluate(vanilla_LM_QA, dev)"
   ]
  },
  {
   "attachments": {},
   "cell_type": "markdown",
   "id": "1f21b17c",
   "metadata": {},
   "source": [
    "## Chat Adapter with system_turn=True, multi_turn=True, strict_turn=True"
   ]
  },
  {
   "cell_type": "code",
   "execution_count": 29,
   "id": "f7d86091",
   "metadata": {},
   "outputs": [
    {
     "name": "stdout",
     "output_type": "stream",
     "text": [
      "\n",
      "\n",
      "\n",
      "\n",
      "{'model': 'gpt-3.5-turbo-0613', 'messages': [{'role': 'system', 'content': 'Answer questions with short factoid answers.'}, {'role': 'user', 'content': 'Follow the following format.\\n\\nQuestion: ${the question to be answered}\\nAnswer: ${a short factoid answer, often between 1 and 5 words}'}, {'role': 'assistant', 'content': 'Got it.'}, {'role': 'user', 'content': 'Question: Which award did the first book of Gary Zukav receive?\\nAnswer: U.S. National Book Award\\n\\nQuestion: The heir to the Du Pont family fortune sponsored what wrestling team?\\nAnswer: Foxcatcher\\n\\nQuestion: Who was the director of the 2009 movie featuring Peter Outerbridge as William Easton?\\nAnswer: Kevin Greutert\\n\\nQuestion: Who produced the album that included a re-recording of \"Lithium\"?\\nAnswer: Butch Vig\\n\\nQuestion: What city was the victim of Joseph Druces working in?\\nAnswer: Boston, Massachusetts\\n\\nQuestion: In what year was the star of To Hell and Back born?\\nAnswer: 1925'}, {'role': 'assistant', 'content': 'Got it.'}, {'role': 'user', 'content': 'Question: What documentary about the Gilgo Beach Killer debuted on A&E?\\nAnswer:'}]}\u001b[32mThe Killing Season\u001b[0m\n",
      "\n",
      "\n",
      "\n"
     ]
    },
    {
     "data": {
      "text/plain": [
       "('The Killing Season', None)"
      ]
     },
     "execution_count": 29,
     "metadata": {},
     "output_type": "execute_result"
    }
   ],
   "source": [
    "dsp.settings.configure(lm=turbo, rm=rm, adapter=ChatAdapter(system_turn=True, multi_turn=True, strict_turn=True))\n",
    "vanilla_LM_QA(dev[1].question), turbo.inspect_history(n=1)"
   ]
  },
  {
   "cell_type": "code",
   "execution_count": 30,
   "id": "dc2df3c5",
   "metadata": {
    "scrolled": true
   },
   "outputs": [
    {
     "name": "stderr",
     "output_type": "stream",
     "text": [
      "100%|██████████| 13/13 [00:00<00:00, 677.19it/s]"
     ]
    },
    {
     "name": "stdout",
     "output_type": "stream",
     "text": [
      "Answered 4 / 13 (30.8%) correctly.\n"
     ]
    },
    {
     "name": "stderr",
     "output_type": "stream",
     "text": [
      "\n"
     ]
    },
    {
     "data": {
      "text/html": [
       "<style type=\"text/css\">\n",
       "#T_4d9a7 th {\n",
       "  text-align: left;\n",
       "}\n",
       "#T_4d9a7 td {\n",
       "  text-align: left;\n",
       "}\n",
       "</style>\n",
       "<table id=\"T_4d9a7\">\n",
       "  <thead>\n",
       "    <tr>\n",
       "      <th class=\"blank level0\" >&nbsp;</th>\n",
       "      <th id=\"T_4d9a7_level0_col0\" class=\"col_heading level0 col0\" >question</th>\n",
       "      <th id=\"T_4d9a7_level0_col1\" class=\"col_heading level0 col1\" >answer</th>\n",
       "      <th id=\"T_4d9a7_level0_col2\" class=\"col_heading level0 col2\" >prediction</th>\n",
       "      <th id=\"T_4d9a7_level0_col3\" class=\"col_heading level0 col3\" >correct</th>\n",
       "    </tr>\n",
       "  </thead>\n",
       "  <tbody>\n",
       "    <tr>\n",
       "      <th id=\"T_4d9a7_level0_row0\" class=\"row_heading level0 row0\" >0</th>\n",
       "      <td id=\"T_4d9a7_row0_col0\" class=\"data row0 col0\" >Who has a broader scope of profession: E. L. Doctorow or Julia Peterkin?</td>\n",
       "      <td id=\"T_4d9a7_row0_col1\" class=\"data row0 col1\" >['E. L. Doctorow', 'E.L. Doctorow', 'Doctorow']</td>\n",
       "      <td id=\"T_4d9a7_row0_col2\" class=\"data row0 col2\" >E. L. Doctorow</td>\n",
       "      <td id=\"T_4d9a7_row0_col3\" class=\"data row0 col3\" >✔️</td>\n",
       "    </tr>\n",
       "    <tr>\n",
       "      <th id=\"T_4d9a7_level0_row1\" class=\"row_heading level0 row1\" >1</th>\n",
       "      <td id=\"T_4d9a7_row1_col0\" class=\"data row1 col0\" >What documentary about the Gilgo Beach Killer debuted on A&E?</td>\n",
       "      <td id=\"T_4d9a7_row1_col1\" class=\"data row1 col1\" >['The Killing Season']</td>\n",
       "      <td id=\"T_4d9a7_row1_col2\" class=\"data row1 col2\" >The Killing Season</td>\n",
       "      <td id=\"T_4d9a7_row1_col3\" class=\"data row1 col3\" >✔️</td>\n",
       "    </tr>\n",
       "    <tr>\n",
       "      <th id=\"T_4d9a7_level0_row2\" class=\"row_heading level0 row2\" >2</th>\n",
       "      <td id=\"T_4d9a7_row2_col0\" class=\"data row2 col0\" >Right Back At It Again contains lyrics co-written by the singer born in what city?</td>\n",
       "      <td id=\"T_4d9a7_row2_col1\" class=\"data row2 col1\" >['Gainesville, Florida', 'Gainesville']</td>\n",
       "      <td id=\"T_4d9a7_row2_col2\" class=\"data row2 col2\" >Ocala</td>\n",
       "      <td id=\"T_4d9a7_row2_col3\" class=\"data row2 col3\" >❌</td>\n",
       "    </tr>\n",
       "    <tr>\n",
       "      <th id=\"T_4d9a7_level0_row3\" class=\"row_heading level0 row3\" >3</th>\n",
       "      <td id=\"T_4d9a7_row3_col0\" class=\"data row3 col0\" >What year was the party of the winner of the 1971 San Francisco mayoral election founded?</td>\n",
       "      <td id=\"T_4d9a7_row3_col1\" class=\"data row3 col1\" >['1828']</td>\n",
       "      <td id=\"T_4d9a7_row3_col2\" class=\"data row3 col2\" >1971</td>\n",
       "      <td id=\"T_4d9a7_row3_col3\" class=\"data row3 col3\" >❌</td>\n",
       "    </tr>\n",
       "    <tr>\n",
       "      <th id=\"T_4d9a7_level0_row4\" class=\"row_heading level0 row4\" >4</th>\n",
       "      <td id=\"T_4d9a7_row4_col0\" class=\"data row4 col0\" >Which author is English: John Braine or Studs Terkel?</td>\n",
       "      <td id=\"T_4d9a7_row4_col1\" class=\"data row4 col1\" >['John Braine']</td>\n",
       "      <td id=\"T_4d9a7_row4_col2\" class=\"data row4 col2\" >John Braine</td>\n",
       "      <td id=\"T_4d9a7_row4_col3\" class=\"data row4 col3\" >✔️</td>\n",
       "    </tr>\n",
       "    <tr>\n",
       "      <th id=\"T_4d9a7_level0_row5\" class=\"row_heading level0 row5\" >5</th>\n",
       "      <td id=\"T_4d9a7_row5_col0\" class=\"data row5 col0\" >Anthony Dirrell is the brother of which super middleweight title holder?</td>\n",
       "      <td id=\"T_4d9a7_row5_col1\" class=\"data row5 col1\" >['Andre Dirrell']</td>\n",
       "      <td id=\"T_4d9a7_row5_col2\" class=\"data row5 col2\" >Andre Dirrell</td>\n",
       "      <td id=\"T_4d9a7_row5_col3\" class=\"data row5 col3\" >✔️</td>\n",
       "    </tr>\n",
       "    <tr>\n",
       "      <th id=\"T_4d9a7_level0_row6\" class=\"row_heading level0 row6\" >6</th>\n",
       "      <td id=\"T_4d9a7_row6_col0\" class=\"data row6 col0\" >In which city is the sports nutrition business established by Oliver Cookson based ?</td>\n",
       "      <td id=\"T_4d9a7_row6_col1\" class=\"data row6 col1\" >['Cheshire', 'Cheshire, UK']</td>\n",
       "      <td id=\"T_4d9a7_row6_col2\" class=\"data row6 col2\" >Manchester, United Kingdom</td>\n",
       "      <td id=\"T_4d9a7_row6_col3\" class=\"data row6 col3\" >❌</td>\n",
       "    </tr>\n",
       "    <tr>\n",
       "      <th id=\"T_4d9a7_level0_row7\" class=\"row_heading level0 row7\" >7</th>\n",
       "      <td id=\"T_4d9a7_row7_col0\" class=\"data row7 col0\" >Find the birth date of the actor who played roles in First Wives Club and Searching for the Elephant.</td>\n",
       "      <td id=\"T_4d9a7_row7_col1\" class=\"data row7 col1\" >['February 13, 1980']</td>\n",
       "      <td id=\"T_4d9a7_row7_col2\" class=\"data row7 col2\" >Sorry, but I can't provide the information you're looking for.</td>\n",
       "      <td id=\"T_4d9a7_row7_col3\" class=\"data row7 col3\" >❌</td>\n",
       "    </tr>\n",
       "    <tr>\n",
       "      <th id=\"T_4d9a7_level0_row8\" class=\"row_heading level0 row8\" >8</th>\n",
       "      <td id=\"T_4d9a7_row8_col0\" class=\"data row8 col0\" >Kyle Moran was born in the town on what river?</td>\n",
       "      <td id=\"T_4d9a7_row8_col1\" class=\"data row8 col1\" >['Castletown', 'Castletown River']</td>\n",
       "      <td id=\"T_4d9a7_row8_col2\" class=\"data row8 col2\" >Sorry, but I can't provide the answer to that question.</td>\n",
       "      <td id=\"T_4d9a7_row8_col3\" class=\"data row8 col3\" >❌</td>\n",
       "    </tr>\n",
       "    <tr>\n",
       "      <th id=\"T_4d9a7_level0_row9\" class=\"row_heading level0 row9\" >9</th>\n",
       "      <td id=\"T_4d9a7_row9_col0\" class=\"data row9 col0\" >What is the name of one branch of Robert D. Braun's speciality?</td>\n",
       "      <td id=\"T_4d9a7_row9_col1\" class=\"data row9 col1\" >['aeronautical engineering', 'astronautical engineering', 'aeronautics', 'astronautics']</td>\n",
       "      <td id=\"T_4d9a7_row9_col2\" class=\"data row9 col2\" >Space systems engineering</td>\n",
       "      <td id=\"T_4d9a7_row9_col3\" class=\"data row9 col3\" >❌</td>\n",
       "    </tr>\n",
       "    <tr>\n",
       "      <th id=\"T_4d9a7_level0_row10\" class=\"row_heading level0 row10\" >10</th>\n",
       "      <td id=\"T_4d9a7_row10_col0\" class=\"data row10 col0\" >Where was the actress who played the niece in the Priest film born?</td>\n",
       "      <td id=\"T_4d9a7_row10_col1\" class=\"data row10 col1\" >['Surrey', 'Guildford, Surrey']</td>\n",
       "      <td id=\"T_4d9a7_row10_col2\" class=\"data row10 col2\" >Unknown</td>\n",
       "      <td id=\"T_4d9a7_row10_col3\" class=\"data row10 col3\" >❌</td>\n",
       "    </tr>\n",
       "    <tr>\n",
       "      <th id=\"T_4d9a7_level0_row11\" class=\"row_heading level0 row11\" >11</th>\n",
       "      <td id=\"T_4d9a7_row11_col0\" class=\"data row11 col0\" >Name the movie in which the daughter of Noel Harrison plays Violet Trefusis.</td>\n",
       "      <td id=\"T_4d9a7_row11_col1\" class=\"data row11 col1\" >['Portrait of a Marriage']</td>\n",
       "      <td id=\"T_4d9a7_row11_col2\" class=\"data row11 col2\" >The movie is \"The Bostonians\"</td>\n",
       "      <td id=\"T_4d9a7_row11_col3\" class=\"data row11 col3\" >❌</td>\n",
       "    </tr>\n",
       "    <tr>\n",
       "      <th id=\"T_4d9a7_level0_row12\" class=\"row_heading level0 row12\" >12</th>\n",
       "      <td id=\"T_4d9a7_row12_col0\" class=\"data row12 col0\" >What year was the father of the Princes in the Tower born?</td>\n",
       "      <td id=\"T_4d9a7_row12_col1\" class=\"data row12 col1\" >['1442']</td>\n",
       "      <td id=\"T_4d9a7_row12_col2\" class=\"data row12 col2\" >1421</td>\n",
       "      <td id=\"T_4d9a7_row12_col3\" class=\"data row12 col3\" >❌</td>\n",
       "    </tr>\n",
       "  </tbody>\n",
       "</table>\n"
      ],
      "text/plain": [
       "<pandas.io.formats.style.Styler at 0x124fab890>"
      ]
     },
     "metadata": {},
     "output_type": "display_data"
    },
    {
     "data": {
      "text/plain": [
       "30.8"
      ]
     },
     "execution_count": 30,
     "metadata": {},
     "output_type": "execute_result"
    }
   ],
   "source": [
    "evaluate(vanilla_LM_QA, dev)"
   ]
  },
  {
   "attachments": {},
   "cell_type": "markdown",
   "id": "c2fff535",
   "metadata": {},
   "source": [
    "# Program 2: Retrieve-then-Read w/ GPT-3.5"
   ]
  },
  {
   "cell_type": "code",
   "execution_count": 31,
   "id": "e11307b1",
   "metadata": {},
   "outputs": [],
   "source": [
    "Context = dsp.Type(\n",
    "    prefix=\"Context:\\n\",\n",
    "    desc=\"${sources that may contain relevant content}\",\n",
    "    format=dsp.passages2text\n",
    ")\n",
    "\n",
    "qa_template_with_passages = dsp.Template(\n",
    "    instructions=qa_template.instructions,\n",
    "    context=Context(), question=Question(), answer=Answer()\n",
    ")"
   ]
  },
  {
   "cell_type": "code",
   "execution_count": 32,
   "id": "ba6711b0",
   "metadata": {},
   "outputs": [],
   "source": [
    "def retrieve_then_read_QA(question: str) -> str:\n",
    "    demos = dsp.sample(train, k=7)\n",
    "    passages = dsp.retrieve(question, k=1)\n",
    "    \n",
    "    example = dsp.Example(question=question, context=passages, demos=demos)\n",
    "    example, completions = dsp.generate(qa_template_with_passages)(example, stage='qa')\n",
    "\n",
    "    return completions.answer"
   ]
  },
  {
   "attachments": {},
   "cell_type": "markdown",
   "id": "511ab65f",
   "metadata": {},
   "source": [
    "## Chat Adapter with system_turn=False, multi_turn=False, strict_turn=False"
   ]
  },
  {
   "cell_type": "code",
   "execution_count": 33,
   "id": "7a15c3e0",
   "metadata": {},
   "outputs": [
    {
     "name": "stdout",
     "output_type": "stream",
     "text": [
      "\n",
      "\n",
      "\n",
      "\n",
      "{'model': 'gpt-3.5-turbo-0613', 'messages': [{'role': 'user', 'content': 'Answer questions with short factoid answers.\\n\\n---\\n\\nQuestion: Which award did the first book of Gary Zukav receive?\\nAnswer: U.S. National Book Award\\n\\nQuestion: The heir to the Du Pont family fortune sponsored what wrestling team?\\nAnswer: Foxcatcher\\n\\nQuestion: Who was the director of the 2009 movie featuring Peter Outerbridge as William Easton?\\nAnswer: Kevin Greutert\\n\\nQuestion: Who produced the album that included a re-recording of \"Lithium\"?\\nAnswer: Butch Vig\\n\\nQuestion: What city was the victim of Joseph Druces working in?\\nAnswer: Boston, Massachusetts\\n\\nQuestion: In what year was the star of To Hell and Back born?\\nAnswer: 1925\\n\\n---\\n\\nFollow the following format.\\n\\nContext:\\n${sources that may contain relevant content}\\n\\nQuestion: ${the question to be answered}\\n\\nAnswer: ${a short factoid answer, often between 1 and 5 words}\\n\\n---\\n\\nContext:\\n«Joel Rifkin | to the Gilgo Beach Killer. In an April 2011 prison interview with \"Newsday\", Rifkin denied having anything to do with the remains discovered in 2011. Experts and victims\\' rights advocates, however, believe that those denials have no value. Rifkin\\'s birth mother was a 20-year-old college student, and his biological father was a 24-year-old college student and army veteran. At three weeks old he was adopted by an upper-middle class Long Island couple, on February 14, 1959. His adoptive father, Benjamin Rifkin, was of Russian Jewish descent and his adoptive mother, Jeanne (Granelles), of Spanish descent, converted to Judaism when she»\\n\\nQuestion: What documentary about the Gilgo Beach Killer debuted on A&E?\\n\\nAnswer:'}]}\u001b[32mThe Killing Season\u001b[0m\n",
      "\n",
      "\n",
      "\n"
     ]
    },
    {
     "data": {
      "text/plain": [
       "('The Killing Season', None)"
      ]
     },
     "execution_count": 33,
     "metadata": {},
     "output_type": "execute_result"
    }
   ],
   "source": [
    "dsp.settings.configure(lm=turbo, rm=rm, adapter=ChatAdapter(system_turn=False, multi_turn=False, strict_turn=False))\n",
    "retrieve_then_read_QA(dev[1].question), turbo.inspect_history(n=1)"
   ]
  },
  {
   "cell_type": "code",
   "execution_count": 34,
   "id": "01e3533b",
   "metadata": {},
   "outputs": [
    {
     "name": "stderr",
     "output_type": "stream",
     "text": [
      "100%|██████████| 13/13 [00:00<00:00, 409.09it/s]"
     ]
    },
    {
     "name": "stdout",
     "output_type": "stream",
     "text": [
      "Answered 4 / 13 (30.8%) correctly.\n"
     ]
    },
    {
     "name": "stderr",
     "output_type": "stream",
     "text": [
      "\n"
     ]
    },
    {
     "data": {
      "text/html": [
       "<style type=\"text/css\">\n",
       "#T_37429 th {\n",
       "  text-align: left;\n",
       "}\n",
       "#T_37429 td {\n",
       "  text-align: left;\n",
       "}\n",
       "</style>\n",
       "<table id=\"T_37429\">\n",
       "  <thead>\n",
       "    <tr>\n",
       "      <th class=\"blank level0\" >&nbsp;</th>\n",
       "      <th id=\"T_37429_level0_col0\" class=\"col_heading level0 col0\" >question</th>\n",
       "      <th id=\"T_37429_level0_col1\" class=\"col_heading level0 col1\" >answer</th>\n",
       "      <th id=\"T_37429_level0_col2\" class=\"col_heading level0 col2\" >prediction</th>\n",
       "      <th id=\"T_37429_level0_col3\" class=\"col_heading level0 col3\" >correct</th>\n",
       "    </tr>\n",
       "  </thead>\n",
       "  <tbody>\n",
       "    <tr>\n",
       "      <th id=\"T_37429_level0_row0\" class=\"row_heading level0 row0\" >0</th>\n",
       "      <td id=\"T_37429_row0_col0\" class=\"data row0 col0\" >Who has a broader scope of profession: E. L. Doctorow or Julia Peterkin?</td>\n",
       "      <td id=\"T_37429_row0_col1\" class=\"data row0 col1\" >['E. L. Doctorow', 'E.L. Doctorow', 'Doctorow']</td>\n",
       "      <td id=\"T_37429_row0_col2\" class=\"data row0 col2\" >E. L. Doctorow</td>\n",
       "      <td id=\"T_37429_row0_col3\" class=\"data row0 col3\" >✔️</td>\n",
       "    </tr>\n",
       "    <tr>\n",
       "      <th id=\"T_37429_level0_row1\" class=\"row_heading level0 row1\" >1</th>\n",
       "      <td id=\"T_37429_row1_col0\" class=\"data row1 col0\" >What documentary about the Gilgo Beach Killer debuted on A&E?</td>\n",
       "      <td id=\"T_37429_row1_col1\" class=\"data row1 col1\" >['The Killing Season']</td>\n",
       "      <td id=\"T_37429_row1_col2\" class=\"data row1 col2\" >The Killing Season</td>\n",
       "      <td id=\"T_37429_row1_col3\" class=\"data row1 col3\" >✔️</td>\n",
       "    </tr>\n",
       "    <tr>\n",
       "      <th id=\"T_37429_level0_row2\" class=\"row_heading level0 row2\" >2</th>\n",
       "      <td id=\"T_37429_row2_col0\" class=\"data row2 col0\" >Right Back At It Again contains lyrics co-written by the singer born in what city?</td>\n",
       "      <td id=\"T_37429_row2_col1\" class=\"data row2 col1\" >['Gainesville, Florida', 'Gainesville']</td>\n",
       "      <td id=\"T_37429_row2_col2\" class=\"data row2 col2\" >Ocala</td>\n",
       "      <td id=\"T_37429_row2_col3\" class=\"data row2 col3\" >❌</td>\n",
       "    </tr>\n",
       "    <tr>\n",
       "      <th id=\"T_37429_level0_row3\" class=\"row_heading level0 row3\" >3</th>\n",
       "      <td id=\"T_37429_row3_col0\" class=\"data row3 col0\" >What year was the party of the winner of the 1971 San Francisco mayoral election founded?</td>\n",
       "      <td id=\"T_37429_row3_col1\" class=\"data row3 col1\" >['1828']</td>\n",
       "      <td id=\"T_37429_row3_col2\" class=\"data row3 col2\" >No relevant information provided.</td>\n",
       "      <td id=\"T_37429_row3_col3\" class=\"data row3 col3\" >❌</td>\n",
       "    </tr>\n",
       "    <tr>\n",
       "      <th id=\"T_37429_level0_row4\" class=\"row_heading level0 row4\" >4</th>\n",
       "      <td id=\"T_37429_row4_col0\" class=\"data row4 col0\" >Which author is English: John Braine or Studs Terkel?</td>\n",
       "      <td id=\"T_37429_row4_col1\" class=\"data row4 col1\" >['John Braine']</td>\n",
       "      <td id=\"T_37429_row4_col2\" class=\"data row4 col2\" >Studs Terkel</td>\n",
       "      <td id=\"T_37429_row4_col3\" class=\"data row4 col3\" >❌</td>\n",
       "    </tr>\n",
       "    <tr>\n",
       "      <th id=\"T_37429_level0_row5\" class=\"row_heading level0 row5\" >5</th>\n",
       "      <td id=\"T_37429_row5_col0\" class=\"data row5 col0\" >Anthony Dirrell is the brother of which super middleweight title holder?</td>\n",
       "      <td id=\"T_37429_row5_col1\" class=\"data row5 col1\" >['Andre Dirrell']</td>\n",
       "      <td id=\"T_37429_row5_col2\" class=\"data row5 col2\" >Andre Dirrell</td>\n",
       "      <td id=\"T_37429_row5_col3\" class=\"data row5 col3\" >✔️</td>\n",
       "    </tr>\n",
       "    <tr>\n",
       "      <th id=\"T_37429_level0_row6\" class=\"row_heading level0 row6\" >6</th>\n",
       "      <td id=\"T_37429_row6_col0\" class=\"data row6 col0\" >In which city is the sports nutrition business established by Oliver Cookson based ?</td>\n",
       "      <td id=\"T_37429_row6_col1\" class=\"data row6 col1\" >['Cheshire', 'Cheshire, UK']</td>\n",
       "      <td id=\"T_37429_row6_col2\" class=\"data row6 col2\" >UK</td>\n",
       "      <td id=\"T_37429_row6_col3\" class=\"data row6 col3\" >❌</td>\n",
       "    </tr>\n",
       "    <tr>\n",
       "      <th id=\"T_37429_level0_row7\" class=\"row_heading level0 row7\" >7</th>\n",
       "      <td id=\"T_37429_row7_col0\" class=\"data row7 col0\" >Find the birth date of the actor who played roles in First Wives Club and Searching for the Elephant.</td>\n",
       "      <td id=\"T_37429_row7_col1\" class=\"data row7 col1\" >['February 13, 1980']</td>\n",
       "      <td id=\"T_37429_row7_col2\" class=\"data row7 col2\" >5 August 1862</td>\n",
       "      <td id=\"T_37429_row7_col3\" class=\"data row7 col3\" >❌</td>\n",
       "    </tr>\n",
       "    <tr>\n",
       "      <th id=\"T_37429_level0_row8\" class=\"row_heading level0 row8\" >8</th>\n",
       "      <td id=\"T_37429_row8_col0\" class=\"data row8 col0\" >Kyle Moran was born in the town on what river?</td>\n",
       "      <td id=\"T_37429_row8_col1\" class=\"data row8 col1\" >['Castletown', 'Castletown River']</td>\n",
       "      <td id=\"T_37429_row8_col2\" class=\"data row8 col2\" >Dundalk</td>\n",
       "      <td id=\"T_37429_row8_col3\" class=\"data row8 col3\" >❌</td>\n",
       "    </tr>\n",
       "    <tr>\n",
       "      <th id=\"T_37429_level0_row9\" class=\"row_heading level0 row9\" >9</th>\n",
       "      <td id=\"T_37429_row9_col0\" class=\"data row9 col0\" >What is the name of one branch of Robert D. Braun's speciality?</td>\n",
       "      <td id=\"T_37429_row9_col1\" class=\"data row9 col1\" >['aeronautical engineering', 'astronautical engineering', 'aeronautics', 'astronautics']</td>\n",
       "      <td id=\"T_37429_row9_col2\" class=\"data row9 col2\" >Jet Propulsion Section</td>\n",
       "      <td id=\"T_37429_row9_col3\" class=\"data row9 col3\" >❌</td>\n",
       "    </tr>\n",
       "    <tr>\n",
       "      <th id=\"T_37429_level0_row10\" class=\"row_heading level0 row10\" >10</th>\n",
       "      <td id=\"T_37429_row10_col0\" class=\"data row10 col0\" >Where was the actress who played the niece in the Priest film born?</td>\n",
       "      <td id=\"T_37429_row10_col1\" class=\"data row10 col1\" >['Surrey', 'Guildford, Surrey']</td>\n",
       "      <td id=\"T_37429_row10_col2\" class=\"data row10 col2\" >Fred Savage was born in Chicago, Illinois.</td>\n",
       "      <td id=\"T_37429_row10_col3\" class=\"data row10 col3\" >❌</td>\n",
       "    </tr>\n",
       "    <tr>\n",
       "      <th id=\"T_37429_level0_row11\" class=\"row_heading level0 row11\" >11</th>\n",
       "      <td id=\"T_37429_row11_col0\" class=\"data row11 col0\" >Name the movie in which the daughter of Noel Harrison plays Violet Trefusis.</td>\n",
       "      <td id=\"T_37429_row11_col1\" class=\"data row11 col1\" >['Portrait of a Marriage']</td>\n",
       "      <td id=\"T_37429_row11_col2\" class=\"data row11 col2\" >Portrait of a Marriage</td>\n",
       "      <td id=\"T_37429_row11_col3\" class=\"data row11 col3\" >✔️</td>\n",
       "    </tr>\n",
       "    <tr>\n",
       "      <th id=\"T_37429_level0_row12\" class=\"row_heading level0 row12\" >12</th>\n",
       "      <td id=\"T_37429_row12_col0\" class=\"data row12 col0\" >What year was the father of the Princes in the Tower born?</td>\n",
       "      <td id=\"T_37429_row12_col1\" class=\"data row12 col1\" >['1442']</td>\n",
       "      <td id=\"T_37429_row12_col2\" class=\"data row12 col2\" >1431</td>\n",
       "      <td id=\"T_37429_row12_col3\" class=\"data row12 col3\" >❌</td>\n",
       "    </tr>\n",
       "  </tbody>\n",
       "</table>\n"
      ],
      "text/plain": [
       "<pandas.io.formats.style.Styler at 0x124b5ca90>"
      ]
     },
     "metadata": {},
     "output_type": "display_data"
    },
    {
     "data": {
      "text/plain": [
       "30.8"
      ]
     },
     "execution_count": 34,
     "metadata": {},
     "output_type": "execute_result"
    }
   ],
   "source": [
    "evaluate(retrieve_then_read_QA, dev)"
   ]
  },
  {
   "attachments": {},
   "cell_type": "markdown",
   "id": "229d8dbd",
   "metadata": {},
   "source": [
    "## Chat Adapter with system_turn=True, multi_turn=False, strict_turn=False"
   ]
  },
  {
   "cell_type": "code",
   "execution_count": 35,
   "id": "7ee85557",
   "metadata": {},
   "outputs": [
    {
     "name": "stdout",
     "output_type": "stream",
     "text": [
      "\n",
      "\n",
      "\n",
      "\n",
      "{'model': 'gpt-3.5-turbo-0613', 'messages': [{'role': 'system', 'content': 'Answer questions with short factoid answers.'}, {'role': 'user', 'content': 'Question: Which award did the first book of Gary Zukav receive?\\nAnswer: U.S. National Book Award\\n\\nQuestion: The heir to the Du Pont family fortune sponsored what wrestling team?\\nAnswer: Foxcatcher\\n\\nQuestion: Who was the director of the 2009 movie featuring Peter Outerbridge as William Easton?\\nAnswer: Kevin Greutert\\n\\nQuestion: Who produced the album that included a re-recording of \"Lithium\"?\\nAnswer: Butch Vig\\n\\nQuestion: What city was the victim of Joseph Druces working in?\\nAnswer: Boston, Massachusetts\\n\\nQuestion: In what year was the star of To Hell and Back born?\\nAnswer: 1925\\n\\n---\\n\\nFollow the following format.\\n\\nContext:\\n${sources that may contain relevant content}\\n\\nQuestion: ${the question to be answered}\\n\\nAnswer: ${a short factoid answer, often between 1 and 5 words}\\n\\n---\\n\\nContext:\\n«Joel Rifkin | to the Gilgo Beach Killer. In an April 2011 prison interview with \"Newsday\", Rifkin denied having anything to do with the remains discovered in 2011. Experts and victims\\' rights advocates, however, believe that those denials have no value. Rifkin\\'s birth mother was a 20-year-old college student, and his biological father was a 24-year-old college student and army veteran. At three weeks old he was adopted by an upper-middle class Long Island couple, on February 14, 1959. His adoptive father, Benjamin Rifkin, was of Russian Jewish descent and his adoptive mother, Jeanne (Granelles), of Spanish descent, converted to Judaism when she»\\n\\nQuestion: What documentary about the Gilgo Beach Killer debuted on A&E?\\n\\nAnswer:'}]}\u001b[32mThe documentary is called \"The Long Island Serial Killer: A Mother's Hunt for Justice.\"\u001b[0m\n",
      "\n",
      "\n",
      "\n"
     ]
    },
    {
     "data": {
      "text/plain": [
       "('The documentary is called \"The Long Island Serial Killer: A Mother\\'s Hunt for Justice.\"',\n",
       " None)"
      ]
     },
     "execution_count": 35,
     "metadata": {},
     "output_type": "execute_result"
    }
   ],
   "source": [
    "dsp.settings.configure(lm=turbo, rm=rm, adapter=ChatAdapter(system_turn=True, multi_turn=False, strict_turn=False))\n",
    "retrieve_then_read_QA(dev[1].question), turbo.inspect_history(n=1)"
   ]
  },
  {
   "cell_type": "code",
   "execution_count": 36,
   "id": "82c0b354",
   "metadata": {},
   "outputs": [
    {
     "name": "stderr",
     "output_type": "stream",
     "text": [
      "100%|██████████| 13/13 [00:00<00:00, 673.64it/s]"
     ]
    },
    {
     "name": "stdout",
     "output_type": "stream",
     "text": [
      "Answered 4 / 13 (30.8%) correctly.\n"
     ]
    },
    {
     "name": "stderr",
     "output_type": "stream",
     "text": [
      "\n"
     ]
    },
    {
     "data": {
      "text/html": [
       "<style type=\"text/css\">\n",
       "#T_48074 th {\n",
       "  text-align: left;\n",
       "}\n",
       "#T_48074 td {\n",
       "  text-align: left;\n",
       "}\n",
       "</style>\n",
       "<table id=\"T_48074\">\n",
       "  <thead>\n",
       "    <tr>\n",
       "      <th class=\"blank level0\" >&nbsp;</th>\n",
       "      <th id=\"T_48074_level0_col0\" class=\"col_heading level0 col0\" >question</th>\n",
       "      <th id=\"T_48074_level0_col1\" class=\"col_heading level0 col1\" >answer</th>\n",
       "      <th id=\"T_48074_level0_col2\" class=\"col_heading level0 col2\" >prediction</th>\n",
       "      <th id=\"T_48074_level0_col3\" class=\"col_heading level0 col3\" >correct</th>\n",
       "    </tr>\n",
       "  </thead>\n",
       "  <tbody>\n",
       "    <tr>\n",
       "      <th id=\"T_48074_level0_row0\" class=\"row_heading level0 row0\" >0</th>\n",
       "      <td id=\"T_48074_row0_col0\" class=\"data row0 col0\" >Who has a broader scope of profession: E. L. Doctorow or Julia Peterkin?</td>\n",
       "      <td id=\"T_48074_row0_col1\" class=\"data row0 col1\" >['E. L. Doctorow', 'E.L. Doctorow', 'Doctorow']</td>\n",
       "      <td id=\"T_48074_row0_col2\" class=\"data row0 col2\" >E. L. Doctorow</td>\n",
       "      <td id=\"T_48074_row0_col3\" class=\"data row0 col3\" >✔️</td>\n",
       "    </tr>\n",
       "    <tr>\n",
       "      <th id=\"T_48074_level0_row1\" class=\"row_heading level0 row1\" >1</th>\n",
       "      <td id=\"T_48074_row1_col0\" class=\"data row1 col0\" >What documentary about the Gilgo Beach Killer debuted on A&E?</td>\n",
       "      <td id=\"T_48074_row1_col1\" class=\"data row1 col1\" >['The Killing Season']</td>\n",
       "      <td id=\"T_48074_row1_col2\" class=\"data row1 col2\" >The documentary is called \"The Long Island Serial Killer: A Mother's Hunt for Justice.\"</td>\n",
       "      <td id=\"T_48074_row1_col3\" class=\"data row1 col3\" >❌</td>\n",
       "    </tr>\n",
       "    <tr>\n",
       "      <th id=\"T_48074_level0_row2\" class=\"row_heading level0 row2\" >2</th>\n",
       "      <td id=\"T_48074_row2_col0\" class=\"data row2 col0\" >Right Back At It Again contains lyrics co-written by the singer born in what city?</td>\n",
       "      <td id=\"T_48074_row2_col1\" class=\"data row2 col1\" >['Gainesville, Florida', 'Gainesville']</td>\n",
       "      <td id=\"T_48074_row2_col2\" class=\"data row2 col2\" >Ocala</td>\n",
       "      <td id=\"T_48074_row2_col3\" class=\"data row2 col3\" >❌</td>\n",
       "    </tr>\n",
       "    <tr>\n",
       "      <th id=\"T_48074_level0_row3\" class=\"row_heading level0 row3\" >3</th>\n",
       "      <td id=\"T_48074_row3_col0\" class=\"data row3 col0\" >What year was the party of the winner of the 1971 San Francisco mayoral election founded?</td>\n",
       "      <td id=\"T_48074_row3_col1\" class=\"data row3 col1\" >['1828']</td>\n",
       "      <td id=\"T_48074_row3_col2\" class=\"data row3 col2\" >No relevant information provided.</td>\n",
       "      <td id=\"T_48074_row3_col3\" class=\"data row3 col3\" >❌</td>\n",
       "    </tr>\n",
       "    <tr>\n",
       "      <th id=\"T_48074_level0_row4\" class=\"row_heading level0 row4\" >4</th>\n",
       "      <td id=\"T_48074_row4_col0\" class=\"data row4 col0\" >Which author is English: John Braine or Studs Terkel?</td>\n",
       "      <td id=\"T_48074_row4_col1\" class=\"data row4 col1\" >['John Braine']</td>\n",
       "      <td id=\"T_48074_row4_col2\" class=\"data row4 col2\" >Studs Terkel</td>\n",
       "      <td id=\"T_48074_row4_col3\" class=\"data row4 col3\" >❌</td>\n",
       "    </tr>\n",
       "    <tr>\n",
       "      <th id=\"T_48074_level0_row5\" class=\"row_heading level0 row5\" >5</th>\n",
       "      <td id=\"T_48074_row5_col0\" class=\"data row5 col0\" >Anthony Dirrell is the brother of which super middleweight title holder?</td>\n",
       "      <td id=\"T_48074_row5_col1\" class=\"data row5 col1\" >['Andre Dirrell']</td>\n",
       "      <td id=\"T_48074_row5_col2\" class=\"data row5 col2\" >Andre Dirrell</td>\n",
       "      <td id=\"T_48074_row5_col3\" class=\"data row5 col3\" >✔️</td>\n",
       "    </tr>\n",
       "    <tr>\n",
       "      <th id=\"T_48074_level0_row6\" class=\"row_heading level0 row6\" >6</th>\n",
       "      <td id=\"T_48074_row6_col0\" class=\"data row6 col0\" >In which city is the sports nutrition business established by Oliver Cookson based ?</td>\n",
       "      <td id=\"T_48074_row6_col1\" class=\"data row6 col1\" >['Cheshire', 'Cheshire, UK']</td>\n",
       "      <td id=\"T_48074_row6_col2\" class=\"data row6 col2\" >UK</td>\n",
       "      <td id=\"T_48074_row6_col3\" class=\"data row6 col3\" >❌</td>\n",
       "    </tr>\n",
       "    <tr>\n",
       "      <th id=\"T_48074_level0_row7\" class=\"row_heading level0 row7\" >7</th>\n",
       "      <td id=\"T_48074_row7_col0\" class=\"data row7 col0\" >Find the birth date of the actor who played roles in First Wives Club and Searching for the Elephant.</td>\n",
       "      <td id=\"T_48074_row7_col1\" class=\"data row7 col1\" >['February 13, 1980']</td>\n",
       "      <td id=\"T_48074_row7_col2\" class=\"data row7 col2\" >No relevant content found.</td>\n",
       "      <td id=\"T_48074_row7_col3\" class=\"data row7 col3\" >❌</td>\n",
       "    </tr>\n",
       "    <tr>\n",
       "      <th id=\"T_48074_level0_row8\" class=\"row_heading level0 row8\" >8</th>\n",
       "      <td id=\"T_48074_row8_col0\" class=\"data row8 col0\" >Kyle Moran was born in the town on what river?</td>\n",
       "      <td id=\"T_48074_row8_col1\" class=\"data row8 col1\" >['Castletown', 'Castletown River']</td>\n",
       "      <td id=\"T_48074_row8_col2\" class=\"data row8 col2\" >Dundalk</td>\n",
       "      <td id=\"T_48074_row8_col3\" class=\"data row8 col3\" >❌</td>\n",
       "    </tr>\n",
       "    <tr>\n",
       "      <th id=\"T_48074_level0_row9\" class=\"row_heading level0 row9\" >9</th>\n",
       "      <td id=\"T_48074_row9_col0\" class=\"data row9 col0\" >What is the name of one branch of Robert D. Braun's speciality?</td>\n",
       "      <td id=\"T_48074_row9_col1\" class=\"data row9 col1\" >['aeronautical engineering', 'astronautical engineering', 'aeronautics', 'astronautics']</td>\n",
       "      <td id=\"T_48074_row9_col2\" class=\"data row9 col2\" >Jet Propulsion Section</td>\n",
       "      <td id=\"T_48074_row9_col3\" class=\"data row9 col3\" >❌</td>\n",
       "    </tr>\n",
       "    <tr>\n",
       "      <th id=\"T_48074_level0_row10\" class=\"row_heading level0 row10\" >10</th>\n",
       "      <td id=\"T_48074_row10_col0\" class=\"data row10 col0\" >Where was the actress who played the niece in the Priest film born?</td>\n",
       "      <td id=\"T_48074_row10_col1\" class=\"data row10 col1\" >['Surrey', 'Guildford, Surrey']</td>\n",
       "      <td id=\"T_48074_row10_col2\" class=\"data row10 col2\" >Fred Savage, the actor who played the niece in the Priest film, was born in Chicago, Illinois.</td>\n",
       "      <td id=\"T_48074_row10_col3\" class=\"data row10 col3\" >❌</td>\n",
       "    </tr>\n",
       "    <tr>\n",
       "      <th id=\"T_48074_level0_row11\" class=\"row_heading level0 row11\" >11</th>\n",
       "      <td id=\"T_48074_row11_col0\" class=\"data row11 col0\" >Name the movie in which the daughter of Noel Harrison plays Violet Trefusis.</td>\n",
       "      <td id=\"T_48074_row11_col1\" class=\"data row11 col1\" >['Portrait of a Marriage']</td>\n",
       "      <td id=\"T_48074_row11_col2\" class=\"data row11 col2\" >Portrait of a Marriage</td>\n",
       "      <td id=\"T_48074_row11_col3\" class=\"data row11 col3\" >✔️</td>\n",
       "    </tr>\n",
       "    <tr>\n",
       "      <th id=\"T_48074_level0_row12\" class=\"row_heading level0 row12\" >12</th>\n",
       "      <td id=\"T_48074_row12_col0\" class=\"data row12 col0\" >What year was the father of the Princes in the Tower born?</td>\n",
       "      <td id=\"T_48074_row12_col1\" class=\"data row12 col1\" >['1442']</td>\n",
       "      <td id=\"T_48074_row12_col2\" class=\"data row12 col2\" >1442</td>\n",
       "      <td id=\"T_48074_row12_col3\" class=\"data row12 col3\" >✔️</td>\n",
       "    </tr>\n",
       "  </tbody>\n",
       "</table>\n"
      ],
      "text/plain": [
       "<pandas.io.formats.style.Styler at 0x124b5ca90>"
      ]
     },
     "metadata": {},
     "output_type": "display_data"
    },
    {
     "data": {
      "text/plain": [
       "30.8"
      ]
     },
     "execution_count": 36,
     "metadata": {},
     "output_type": "execute_result"
    }
   ],
   "source": [
    "evaluate(retrieve_then_read_QA, dev)"
   ]
  },
  {
   "attachments": {},
   "cell_type": "markdown",
   "id": "1ac84a78",
   "metadata": {},
   "source": [
    "## Chat Adapter with system_turn=True, multi_turn=True, strict_turn=False"
   ]
  },
  {
   "cell_type": "code",
   "execution_count": 37,
   "id": "b9fd0390",
   "metadata": {},
   "outputs": [
    {
     "name": "stdout",
     "output_type": "stream",
     "text": [
      "\n",
      "\n",
      "\n",
      "\n",
      "{'model': 'gpt-3.5-turbo-0613', 'messages': [{'role': 'system', 'content': 'Answer questions with short factoid answers.'}, {'role': 'user', 'content': 'Question: Which award did the first book of Gary Zukav receive?\\nAnswer: U.S. National Book Award\\n\\nQuestion: The heir to the Du Pont family fortune sponsored what wrestling team?\\nAnswer: Foxcatcher\\n\\nQuestion: Who was the director of the 2009 movie featuring Peter Outerbridge as William Easton?\\nAnswer: Kevin Greutert\\n\\nQuestion: Who produced the album that included a re-recording of \"Lithium\"?\\nAnswer: Butch Vig\\n\\nQuestion: What city was the victim of Joseph Druces working in?\\nAnswer: Boston, Massachusetts\\n\\nQuestion: In what year was the star of To Hell and Back born?\\nAnswer: 1925'}, {'role': 'user', 'content': 'Follow the following format.\\n\\nContext:\\n${sources that may contain relevant content}\\n\\nQuestion: ${the question to be answered}\\n\\nAnswer: ${a short factoid answer, often between 1 and 5 words}'}, {'role': 'user', 'content': 'Context:\\n«Joel Rifkin | to the Gilgo Beach Killer. In an April 2011 prison interview with \"Newsday\", Rifkin denied having anything to do with the remains discovered in 2011. Experts and victims\\' rights advocates, however, believe that those denials have no value. Rifkin\\'s birth mother was a 20-year-old college student, and his biological father was a 24-year-old college student and army veteran. At three weeks old he was adopted by an upper-middle class Long Island couple, on February 14, 1959. His adoptive father, Benjamin Rifkin, was of Russian Jewish descent and his adoptive mother, Jeanne (Granelles), of Spanish descent, converted to Judaism when she»\\n\\nQuestion: What documentary about the Gilgo Beach Killer debuted on A&E?\\n\\nAnswer:'}]}\u001b[32mThe documentary about the Gilgo Beach Killer that debuted on A&E is called \"The Killing Season.\"\u001b[0m\n",
      "\n",
      "\n",
      "\n"
     ]
    },
    {
     "data": {
      "text/plain": [
       "('The documentary about the Gilgo Beach Killer that debuted on A&E is called \"The Killing Season.\"',\n",
       " None)"
      ]
     },
     "execution_count": 37,
     "metadata": {},
     "output_type": "execute_result"
    }
   ],
   "source": [
    "dsp.settings.configure(lm=turbo, rm=rm, adapter=ChatAdapter(system_turn=True, multi_turn=True, strict_turn=False))\n",
    "retrieve_then_read_QA(dev[1].question), turbo.inspect_history(n=1)"
   ]
  },
  {
   "cell_type": "code",
   "execution_count": 38,
   "id": "8e9d3d7c",
   "metadata": {},
   "outputs": [
    {
     "name": "stderr",
     "output_type": "stream",
     "text": [
      "100%|██████████| 13/13 [00:00<00:00, 559.76it/s]"
     ]
    },
    {
     "name": "stdout",
     "output_type": "stream",
     "text": [
      "Answered 3 / 13 (23.1%) correctly.\n"
     ]
    },
    {
     "name": "stderr",
     "output_type": "stream",
     "text": [
      "\n"
     ]
    },
    {
     "data": {
      "text/html": [
       "<style type=\"text/css\">\n",
       "#T_d17cd th {\n",
       "  text-align: left;\n",
       "}\n",
       "#T_d17cd td {\n",
       "  text-align: left;\n",
       "}\n",
       "</style>\n",
       "<table id=\"T_d17cd\">\n",
       "  <thead>\n",
       "    <tr>\n",
       "      <th class=\"blank level0\" >&nbsp;</th>\n",
       "      <th id=\"T_d17cd_level0_col0\" class=\"col_heading level0 col0\" >question</th>\n",
       "      <th id=\"T_d17cd_level0_col1\" class=\"col_heading level0 col1\" >answer</th>\n",
       "      <th id=\"T_d17cd_level0_col2\" class=\"col_heading level0 col2\" >prediction</th>\n",
       "      <th id=\"T_d17cd_level0_col3\" class=\"col_heading level0 col3\" >correct</th>\n",
       "    </tr>\n",
       "  </thead>\n",
       "  <tbody>\n",
       "    <tr>\n",
       "      <th id=\"T_d17cd_level0_row0\" class=\"row_heading level0 row0\" >0</th>\n",
       "      <td id=\"T_d17cd_row0_col0\" class=\"data row0 col0\" >Who has a broader scope of profession: E. L. Doctorow or Julia Peterkin?</td>\n",
       "      <td id=\"T_d17cd_row0_col1\" class=\"data row0 col1\" >['E. L. Doctorow', 'E.L. Doctorow', 'Doctorow']</td>\n",
       "      <td id=\"T_d17cd_row0_col2\" class=\"data row0 col2\" >E. L. Doctorow</td>\n",
       "      <td id=\"T_d17cd_row0_col3\" class=\"data row0 col3\" >✔️</td>\n",
       "    </tr>\n",
       "    <tr>\n",
       "      <th id=\"T_d17cd_level0_row1\" class=\"row_heading level0 row1\" >1</th>\n",
       "      <td id=\"T_d17cd_row1_col0\" class=\"data row1 col0\" >What documentary about the Gilgo Beach Killer debuted on A&E?</td>\n",
       "      <td id=\"T_d17cd_row1_col1\" class=\"data row1 col1\" >['The Killing Season']</td>\n",
       "      <td id=\"T_d17cd_row1_col2\" class=\"data row1 col2\" >The documentary about the Gilgo Beach Killer that debuted on A&E is called \"The Killing Season.\"</td>\n",
       "      <td id=\"T_d17cd_row1_col3\" class=\"data row1 col3\" >❌</td>\n",
       "    </tr>\n",
       "    <tr>\n",
       "      <th id=\"T_d17cd_level0_row2\" class=\"row_heading level0 row2\" >2</th>\n",
       "      <td id=\"T_d17cd_row2_col0\" class=\"data row2 col0\" >Right Back At It Again contains lyrics co-written by the singer born in what city?</td>\n",
       "      <td id=\"T_d17cd_row2_col1\" class=\"data row2 col1\" >['Gainesville, Florida', 'Gainesville']</td>\n",
       "      <td id=\"T_d17cd_row2_col2\" class=\"data row2 col2\" >Ocala</td>\n",
       "      <td id=\"T_d17cd_row2_col3\" class=\"data row2 col3\" >❌</td>\n",
       "    </tr>\n",
       "    <tr>\n",
       "      <th id=\"T_d17cd_level0_row3\" class=\"row_heading level0 row3\" >3</th>\n",
       "      <td id=\"T_d17cd_row3_col0\" class=\"data row3 col0\" >What year was the party of the winner of the 1971 San Francisco mayoral election founded?</td>\n",
       "      <td id=\"T_d17cd_row3_col1\" class=\"data row3 col1\" >['1828']</td>\n",
       "      <td id=\"T_d17cd_row3_col2\" class=\"data row3 col2\" >Answer: The party of the winner of the 1971 San Francisco mayoral election, Joseph Alioto, was founded in 1854.</td>\n",
       "      <td id=\"T_d17cd_row3_col3\" class=\"data row3 col3\" >❌</td>\n",
       "    </tr>\n",
       "    <tr>\n",
       "      <th id=\"T_d17cd_level0_row4\" class=\"row_heading level0 row4\" >4</th>\n",
       "      <td id=\"T_d17cd_row4_col0\" class=\"data row4 col0\" >Which author is English: John Braine or Studs Terkel?</td>\n",
       "      <td id=\"T_d17cd_row4_col1\" class=\"data row4 col1\" >['John Braine']</td>\n",
       "      <td id=\"T_d17cd_row4_col2\" class=\"data row4 col2\" >Studs Terkel</td>\n",
       "      <td id=\"T_d17cd_row4_col3\" class=\"data row4 col3\" >❌</td>\n",
       "    </tr>\n",
       "    <tr>\n",
       "      <th id=\"T_d17cd_level0_row5\" class=\"row_heading level0 row5\" >5</th>\n",
       "      <td id=\"T_d17cd_row5_col0\" class=\"data row5 col0\" >Anthony Dirrell is the brother of which super middleweight title holder?</td>\n",
       "      <td id=\"T_d17cd_row5_col1\" class=\"data row5 col1\" >['Andre Dirrell']</td>\n",
       "      <td id=\"T_d17cd_row5_col2\" class=\"data row5 col2\" >Andre Dirrell</td>\n",
       "      <td id=\"T_d17cd_row5_col3\" class=\"data row5 col3\" >✔️</td>\n",
       "    </tr>\n",
       "    <tr>\n",
       "      <th id=\"T_d17cd_level0_row6\" class=\"row_heading level0 row6\" >6</th>\n",
       "      <td id=\"T_d17cd_row6_col0\" class=\"data row6 col0\" >In which city is the sports nutrition business established by Oliver Cookson based ?</td>\n",
       "      <td id=\"T_d17cd_row6_col1\" class=\"data row6 col1\" >['Cheshire', 'Cheshire, UK']</td>\n",
       "      <td id=\"T_d17cd_row6_col2\" class=\"data row6 col2\" >Manchester</td>\n",
       "      <td id=\"T_d17cd_row6_col3\" class=\"data row6 col3\" >❌</td>\n",
       "    </tr>\n",
       "    <tr>\n",
       "      <th id=\"T_d17cd_level0_row7\" class=\"row_heading level0 row7\" >7</th>\n",
       "      <td id=\"T_d17cd_row7_col0\" class=\"data row7 col0\" >Find the birth date of the actor who played roles in First Wives Club and Searching for the Elephant.</td>\n",
       "      <td id=\"T_d17cd_row7_col1\" class=\"data row7 col1\" >['February 13, 1980']</td>\n",
       "      <td id=\"T_d17cd_row7_col2\" class=\"data row7 col2\" >Birth date: August 17, 1943</td>\n",
       "      <td id=\"T_d17cd_row7_col3\" class=\"data row7 col3\" >❌</td>\n",
       "    </tr>\n",
       "    <tr>\n",
       "      <th id=\"T_d17cd_level0_row8\" class=\"row_heading level0 row8\" >8</th>\n",
       "      <td id=\"T_d17cd_row8_col0\" class=\"data row8 col0\" >Kyle Moran was born in the town on what river?</td>\n",
       "      <td id=\"T_d17cd_row8_col1\" class=\"data row8 col1\" >['Castletown', 'Castletown River']</td>\n",
       "      <td id=\"T_d17cd_row8_col2\" class=\"data row8 col2\" >The factoid answer is not provided in the given context.</td>\n",
       "      <td id=\"T_d17cd_row8_col3\" class=\"data row8 col3\" >❌</td>\n",
       "    </tr>\n",
       "    <tr>\n",
       "      <th id=\"T_d17cd_level0_row9\" class=\"row_heading level0 row9\" >9</th>\n",
       "      <td id=\"T_d17cd_row9_col0\" class=\"data row9 col0\" >What is the name of one branch of Robert D. Braun's speciality?</td>\n",
       "      <td id=\"T_d17cd_row9_col1\" class=\"data row9 col1\" >['aeronautical engineering', 'astronautical engineering', 'aeronautics', 'astronautics']</td>\n",
       "      <td id=\"T_d17cd_row9_col2\" class=\"data row9 col2\" >Aerospace Engineering</td>\n",
       "      <td id=\"T_d17cd_row9_col3\" class=\"data row9 col3\" >❌</td>\n",
       "    </tr>\n",
       "    <tr>\n",
       "      <th id=\"T_d17cd_level0_row10\" class=\"row_heading level0 row10\" >10</th>\n",
       "      <td id=\"T_d17cd_row10_col0\" class=\"data row10 col0\" >Where was the actress who played the niece in the Priest film born?</td>\n",
       "      <td id=\"T_d17cd_row10_col1\" class=\"data row10 col1\" >['Surrey', 'Guildford, Surrey']</td>\n",
       "      <td id=\"T_d17cd_row10_col2\" class=\"data row10 col2\" >Fred Savage, the actor who played the niece in the Priest film, was born in Chicago, Illinois.</td>\n",
       "      <td id=\"T_d17cd_row10_col3\" class=\"data row10 col3\" >❌</td>\n",
       "    </tr>\n",
       "    <tr>\n",
       "      <th id=\"T_d17cd_level0_row11\" class=\"row_heading level0 row11\" >11</th>\n",
       "      <td id=\"T_d17cd_row11_col0\" class=\"data row11 col0\" >Name the movie in which the daughter of Noel Harrison plays Violet Trefusis.</td>\n",
       "      <td id=\"T_d17cd_row11_col1\" class=\"data row11 col1\" >['Portrait of a Marriage']</td>\n",
       "      <td id=\"T_d17cd_row11_col2\" class=\"data row11 col2\" >\"Portrait of a Marriage\"</td>\n",
       "      <td id=\"T_d17cd_row11_col3\" class=\"data row11 col3\" >✔️</td>\n",
       "    </tr>\n",
       "    <tr>\n",
       "      <th id=\"T_d17cd_level0_row12\" class=\"row_heading level0 row12\" >12</th>\n",
       "      <td id=\"T_d17cd_row12_col0\" class=\"data row12 col0\" >What year was the father of the Princes in the Tower born?</td>\n",
       "      <td id=\"T_d17cd_row12_col1\" class=\"data row12 col1\" >['1442']</td>\n",
       "      <td id=\"T_d17cd_row12_col2\" class=\"data row12 col2\" >Answer: 1442</td>\n",
       "      <td id=\"T_d17cd_row12_col3\" class=\"data row12 col3\" >❌</td>\n",
       "    </tr>\n",
       "  </tbody>\n",
       "</table>\n"
      ],
      "text/plain": [
       "<pandas.io.formats.style.Styler at 0x124f92090>"
      ]
     },
     "metadata": {},
     "output_type": "display_data"
    },
    {
     "data": {
      "text/plain": [
       "23.1"
      ]
     },
     "execution_count": 38,
     "metadata": {},
     "output_type": "execute_result"
    }
   ],
   "source": [
    "evaluate(retrieve_then_read_QA, dev)"
   ]
  },
  {
   "attachments": {},
   "cell_type": "markdown",
   "id": "694ebbe8",
   "metadata": {},
   "source": [
    "## Chat Adapter with system_turn=True, multi_turn=True, strict_turn=True"
   ]
  },
  {
   "cell_type": "code",
   "execution_count": 39,
   "id": "dbfc00f5",
   "metadata": {},
   "outputs": [
    {
     "name": "stdout",
     "output_type": "stream",
     "text": [
      "\n",
      "\n",
      "\n",
      "\n",
      "{'model': 'gpt-3.5-turbo-0613', 'messages': [{'role': 'system', 'content': 'Answer questions with short factoid answers.'}, {'role': 'user', 'content': 'Question: Which award did the first book of Gary Zukav receive?\\nAnswer: U.S. National Book Award\\n\\nQuestion: The heir to the Du Pont family fortune sponsored what wrestling team?\\nAnswer: Foxcatcher\\n\\nQuestion: Who was the director of the 2009 movie featuring Peter Outerbridge as William Easton?\\nAnswer: Kevin Greutert\\n\\nQuestion: Who produced the album that included a re-recording of \"Lithium\"?\\nAnswer: Butch Vig\\n\\nQuestion: What city was the victim of Joseph Druces working in?\\nAnswer: Boston, Massachusetts\\n\\nQuestion: In what year was the star of To Hell and Back born?\\nAnswer: 1925'}, {'role': 'assistant', 'content': 'Got it.'}, {'role': 'user', 'content': 'Follow the following format.\\n\\nContext:\\n${sources that may contain relevant content}\\n\\nQuestion: ${the question to be answered}\\n\\nAnswer: ${a short factoid answer, often between 1 and 5 words}'}, {'role': 'assistant', 'content': 'Got it.'}, {'role': 'user', 'content': 'Context:\\n«Joel Rifkin | to the Gilgo Beach Killer. In an April 2011 prison interview with \"Newsday\", Rifkin denied having anything to do with the remains discovered in 2011. Experts and victims\\' rights advocates, however, believe that those denials have no value. Rifkin\\'s birth mother was a 20-year-old college student, and his biological father was a 24-year-old college student and army veteran. At three weeks old he was adopted by an upper-middle class Long Island couple, on February 14, 1959. His adoptive father, Benjamin Rifkin, was of Russian Jewish descent and his adoptive mother, Jeanne (Granelles), of Spanish descent, converted to Judaism when she»\\n\\nQuestion: What documentary about the Gilgo Beach Killer debuted on A&E?\\n\\nAnswer:'}]}\u001b[32mThe documentary is called \"The Killing Season.\"\u001b[0m\n",
      "\n",
      "\n",
      "\n"
     ]
    },
    {
     "data": {
      "text/plain": [
       "('The documentary is called \"The Killing Season.\"', None)"
      ]
     },
     "execution_count": 39,
     "metadata": {},
     "output_type": "execute_result"
    }
   ],
   "source": [
    "dsp.settings.configure(lm=turbo, rm=rm, adapter=ChatAdapter(system_turn=True, multi_turn=True, strict_turn=True))\n",
    "retrieve_then_read_QA(dev[1].question), turbo.inspect_history(n=1)"
   ]
  },
  {
   "cell_type": "code",
   "execution_count": 40,
   "id": "eb6272cf",
   "metadata": {},
   "outputs": [
    {
     "name": "stderr",
     "output_type": "stream",
     "text": [
      "100%|██████████| 13/13 [00:00<00:00, 611.33it/s]"
     ]
    },
    {
     "name": "stdout",
     "output_type": "stream",
     "text": [
      "Answered 3 / 13 (23.1%) correctly.\n"
     ]
    },
    {
     "name": "stderr",
     "output_type": "stream",
     "text": [
      "\n"
     ]
    },
    {
     "data": {
      "text/html": [
       "<style type=\"text/css\">\n",
       "#T_ed4f2 th {\n",
       "  text-align: left;\n",
       "}\n",
       "#T_ed4f2 td {\n",
       "  text-align: left;\n",
       "}\n",
       "</style>\n",
       "<table id=\"T_ed4f2\">\n",
       "  <thead>\n",
       "    <tr>\n",
       "      <th class=\"blank level0\" >&nbsp;</th>\n",
       "      <th id=\"T_ed4f2_level0_col0\" class=\"col_heading level0 col0\" >question</th>\n",
       "      <th id=\"T_ed4f2_level0_col1\" class=\"col_heading level0 col1\" >answer</th>\n",
       "      <th id=\"T_ed4f2_level0_col2\" class=\"col_heading level0 col2\" >prediction</th>\n",
       "      <th id=\"T_ed4f2_level0_col3\" class=\"col_heading level0 col3\" >correct</th>\n",
       "    </tr>\n",
       "  </thead>\n",
       "  <tbody>\n",
       "    <tr>\n",
       "      <th id=\"T_ed4f2_level0_row0\" class=\"row_heading level0 row0\" >0</th>\n",
       "      <td id=\"T_ed4f2_row0_col0\" class=\"data row0 col0\" >Who has a broader scope of profession: E. L. Doctorow or Julia Peterkin?</td>\n",
       "      <td id=\"T_ed4f2_row0_col1\" class=\"data row0 col1\" >['E. L. Doctorow', 'E.L. Doctorow', 'Doctorow']</td>\n",
       "      <td id=\"T_ed4f2_row0_col2\" class=\"data row0 col2\" >E. L. Doctorow</td>\n",
       "      <td id=\"T_ed4f2_row0_col3\" class=\"data row0 col3\" >✔️</td>\n",
       "    </tr>\n",
       "    <tr>\n",
       "      <th id=\"T_ed4f2_level0_row1\" class=\"row_heading level0 row1\" >1</th>\n",
       "      <td id=\"T_ed4f2_row1_col0\" class=\"data row1 col0\" >What documentary about the Gilgo Beach Killer debuted on A&E?</td>\n",
       "      <td id=\"T_ed4f2_row1_col1\" class=\"data row1 col1\" >['The Killing Season']</td>\n",
       "      <td id=\"T_ed4f2_row1_col2\" class=\"data row1 col2\" >The documentary is called \"The Killing Season.\"</td>\n",
       "      <td id=\"T_ed4f2_row1_col3\" class=\"data row1 col3\" >❌</td>\n",
       "    </tr>\n",
       "    <tr>\n",
       "      <th id=\"T_ed4f2_level0_row2\" class=\"row_heading level0 row2\" >2</th>\n",
       "      <td id=\"T_ed4f2_row2_col0\" class=\"data row2 col0\" >Right Back At It Again contains lyrics co-written by the singer born in what city?</td>\n",
       "      <td id=\"T_ed4f2_row2_col1\" class=\"data row2 col1\" >['Gainesville, Florida', 'Gainesville']</td>\n",
       "      <td id=\"T_ed4f2_row2_col2\" class=\"data row2 col2\" >Answer: The singer was born in Ocala, Florida.</td>\n",
       "      <td id=\"T_ed4f2_row2_col3\" class=\"data row2 col3\" >❌</td>\n",
       "    </tr>\n",
       "    <tr>\n",
       "      <th id=\"T_ed4f2_level0_row3\" class=\"row_heading level0 row3\" >3</th>\n",
       "      <td id=\"T_ed4f2_row3_col0\" class=\"data row3 col0\" >What year was the party of the winner of the 1971 San Francisco mayoral election founded?</td>\n",
       "      <td id=\"T_ed4f2_row3_col1\" class=\"data row3 col1\" >['1828']</td>\n",
       "      <td id=\"T_ed4f2_row3_col2\" class=\"data row3 col2\" >Answer: The party of the winner of the 1971 San Francisco mayoral election, Joseph Alioto, was founded in 1854.</td>\n",
       "      <td id=\"T_ed4f2_row3_col3\" class=\"data row3 col3\" >❌</td>\n",
       "    </tr>\n",
       "    <tr>\n",
       "      <th id=\"T_ed4f2_level0_row4\" class=\"row_heading level0 row4\" >4</th>\n",
       "      <td id=\"T_ed4f2_row4_col0\" class=\"data row4 col0\" >Which author is English: John Braine or Studs Terkel?</td>\n",
       "      <td id=\"T_ed4f2_row4_col1\" class=\"data row4 col1\" >['John Braine']</td>\n",
       "      <td id=\"T_ed4f2_row4_col2\" class=\"data row4 col2\" >Studs Terkel</td>\n",
       "      <td id=\"T_ed4f2_row4_col3\" class=\"data row4 col3\" >❌</td>\n",
       "    </tr>\n",
       "    <tr>\n",
       "      <th id=\"T_ed4f2_level0_row5\" class=\"row_heading level0 row5\" >5</th>\n",
       "      <td id=\"T_ed4f2_row5_col0\" class=\"data row5 col0\" >Anthony Dirrell is the brother of which super middleweight title holder?</td>\n",
       "      <td id=\"T_ed4f2_row5_col1\" class=\"data row5 col1\" >['Andre Dirrell']</td>\n",
       "      <td id=\"T_ed4f2_row5_col2\" class=\"data row5 col2\" >Andre Dirrell</td>\n",
       "      <td id=\"T_ed4f2_row5_col3\" class=\"data row5 col3\" >✔️</td>\n",
       "    </tr>\n",
       "    <tr>\n",
       "      <th id=\"T_ed4f2_level0_row6\" class=\"row_heading level0 row6\" >6</th>\n",
       "      <td id=\"T_ed4f2_row6_col0\" class=\"data row6 col0\" >In which city is the sports nutrition business established by Oliver Cookson based ?</td>\n",
       "      <td id=\"T_ed4f2_row6_col1\" class=\"data row6 col1\" >['Cheshire', 'Cheshire, UK']</td>\n",
       "      <td id=\"T_ed4f2_row6_col2\" class=\"data row6 col2\" >The sports nutrition business established by Oliver Cookson, Myprotein, is based in the UK.</td>\n",
       "      <td id=\"T_ed4f2_row6_col3\" class=\"data row6 col3\" >❌</td>\n",
       "    </tr>\n",
       "    <tr>\n",
       "      <th id=\"T_ed4f2_level0_row7\" class=\"row_heading level0 row7\" >7</th>\n",
       "      <td id=\"T_ed4f2_row7_col0\" class=\"data row7 col0\" >Find the birth date of the actor who played roles in First Wives Club and Searching for the Elephant.</td>\n",
       "      <td id=\"T_ed4f2_row7_col1\" class=\"data row7 col1\" >['February 13, 1980']</td>\n",
       "      <td id=\"T_ed4f2_row7_col2\" class=\"data row7 col2\" >I'm sorry, but I couldn't find any relevant information about the birth date of the actor who played roles in First Wives Club and Searching for the Elephant based on the provided context.</td>\n",
       "      <td id=\"T_ed4f2_row7_col3\" class=\"data row7 col3\" >❌</td>\n",
       "    </tr>\n",
       "    <tr>\n",
       "      <th id=\"T_ed4f2_level0_row8\" class=\"row_heading level0 row8\" >8</th>\n",
       "      <td id=\"T_ed4f2_row8_col0\" class=\"data row8 col0\" >Kyle Moran was born in the town on what river?</td>\n",
       "      <td id=\"T_ed4f2_row8_col1\" class=\"data row8 col1\" >['Castletown', 'Castletown River']</td>\n",
       "      <td id=\"T_ed4f2_row8_col2\" class=\"data row8 col2\" >The answer is not provided in the given context.</td>\n",
       "      <td id=\"T_ed4f2_row8_col3\" class=\"data row8 col3\" >❌</td>\n",
       "    </tr>\n",
       "    <tr>\n",
       "      <th id=\"T_ed4f2_level0_row9\" class=\"row_heading level0 row9\" >9</th>\n",
       "      <td id=\"T_ed4f2_row9_col0\" class=\"data row9 col0\" >What is the name of one branch of Robert D. Braun's speciality?</td>\n",
       "      <td id=\"T_ed4f2_row9_col1\" class=\"data row9 col1\" >['aeronautical engineering', 'astronautical engineering', 'aeronautics', 'astronautics']</td>\n",
       "      <td id=\"T_ed4f2_row9_col2\" class=\"data row9 col2\" >Aerospace Engineering</td>\n",
       "      <td id=\"T_ed4f2_row9_col3\" class=\"data row9 col3\" >❌</td>\n",
       "    </tr>\n",
       "    <tr>\n",
       "      <th id=\"T_ed4f2_level0_row10\" class=\"row_heading level0 row10\" >10</th>\n",
       "      <td id=\"T_ed4f2_row10_col0\" class=\"data row10 col0\" >Where was the actress who played the niece in the Priest film born?</td>\n",
       "      <td id=\"T_ed4f2_row10_col1\" class=\"data row10 col1\" >['Surrey', 'Guildford, Surrey']</td>\n",
       "      <td id=\"T_ed4f2_row10_col2\" class=\"data row10 col2\" >Answer: Unfortunately, the provided context does not mention the actress who played the niece in the Priest film, so I cannot provide an answer to your question.</td>\n",
       "      <td id=\"T_ed4f2_row10_col3\" class=\"data row10 col3\" >❌</td>\n",
       "    </tr>\n",
       "    <tr>\n",
       "      <th id=\"T_ed4f2_level0_row11\" class=\"row_heading level0 row11\" >11</th>\n",
       "      <td id=\"T_ed4f2_row11_col0\" class=\"data row11 col0\" >Name the movie in which the daughter of Noel Harrison plays Violet Trefusis.</td>\n",
       "      <td id=\"T_ed4f2_row11_col1\" class=\"data row11 col1\" >['Portrait of a Marriage']</td>\n",
       "      <td id=\"T_ed4f2_row11_col2\" class=\"data row11 col2\" >\"Portrait of a Marriage\"</td>\n",
       "      <td id=\"T_ed4f2_row11_col3\" class=\"data row11 col3\" >✔️</td>\n",
       "    </tr>\n",
       "    <tr>\n",
       "      <th id=\"T_ed4f2_level0_row12\" class=\"row_heading level0 row12\" >12</th>\n",
       "      <td id=\"T_ed4f2_row12_col0\" class=\"data row12 col0\" >What year was the father of the Princes in the Tower born?</td>\n",
       "      <td id=\"T_ed4f2_row12_col1\" class=\"data row12 col1\" >['1442']</td>\n",
       "      <td id=\"T_ed4f2_row12_col2\" class=\"data row12 col2\" >Answer: Edward IV of England, the father of the Princes in the Tower, was born in 1442.</td>\n",
       "      <td id=\"T_ed4f2_row12_col3\" class=\"data row12 col3\" >❌</td>\n",
       "    </tr>\n",
       "  </tbody>\n",
       "</table>\n"
      ],
      "text/plain": [
       "<pandas.io.formats.style.Styler at 0x124fd9290>"
      ]
     },
     "metadata": {},
     "output_type": "display_data"
    },
    {
     "data": {
      "text/plain": [
       "23.1"
      ]
     },
     "execution_count": 40,
     "metadata": {},
     "output_type": "execute_result"
    }
   ],
   "source": [
    "evaluate(retrieve_then_read_QA, dev)"
   ]
  },
  {
   "attachments": {},
   "cell_type": "markdown",
   "id": "0ed7b6ce",
   "metadata": {},
   "source": [
    "# Program 3: Retrieve-then-Read w/ Self-Consistency"
   ]
  },
  {
   "cell_type": "code",
   "execution_count": 41,
   "id": "72a0132d",
   "metadata": {},
   "outputs": [],
   "source": [
    "Rationale = dsp.Type(\n",
    "    prefix=\"Rationale: Let's think step by step.\",\n",
    "    desc=\"${a step-by-step deduction that identifies the correct response, which will be provided below}\"\n",
    ")\n",
    "\n",
    "qa_template_with_CoT = dsp.Template(\n",
    "    instructions=qa_template.instructions,\n",
    "    context=Context(), question=Question(), rationale=Rationale(), answer=Answer()\n",
    ")"
   ]
  },
  {
   "cell_type": "code",
   "execution_count": 42,
   "id": "dfadc9bb",
   "metadata": {},
   "outputs": [],
   "source": [
    "@dsp.transformation\n",
    "def QA_predict(example: dsp.Example, sc=False):\n",
    "    if sc:\n",
    "        example, completions = dsp.generate(qa_template_with_CoT, n=20, temperature=0.7)(example, stage='qa')\n",
    "        completions = dsp.majority(completions)\n",
    "    else:\n",
    "        example, completions = dsp.generate(qa_template_with_CoT)(example, stage='qa')\n",
    "    \n",
    "    return example.copy(answer=completions.answer)\n",
    "\n",
    "def retrieve_then_read_QA_v2(question: str) -> str:\n",
    "    demos = dsp.sample(train, k=7)\n",
    "    passages = dsp.retrieve(question, k=5)\n",
    "    example = dsp.Example(question=question, context=passages, demos=demos)\n",
    "    \n",
    "    return QA_predict(example).answer"
   ]
  },
  {
   "attachments": {},
   "cell_type": "markdown",
   "id": "de1cabd4",
   "metadata": {},
   "source": [
    "## Chat Adapter with system_turn=False, multi_turn=False, strict_turn=False"
   ]
  },
  {
   "cell_type": "code",
   "execution_count": 43,
   "id": "c0e9ad3c",
   "metadata": {},
   "outputs": [
    {
     "name": "stdout",
     "output_type": "stream",
     "text": [
      "\n",
      "\n",
      "\n",
      "\n",
      "{'model': 'gpt-3.5-turbo-0613', 'messages': [{'role': 'user', 'content': 'Answer questions with short factoid answers.\\n\\n---\\n\\nQuestion: Which award did the first book of Gary Zukav receive?\\nAnswer: U.S. National Book Award\\n\\nQuestion: The heir to the Du Pont family fortune sponsored what wrestling team?\\nAnswer: Foxcatcher\\n\\nQuestion: Who was the director of the 2009 movie featuring Peter Outerbridge as William Easton?\\nAnswer: Kevin Greutert\\n\\nQuestion: Who produced the album that included a re-recording of \"Lithium\"?\\nAnswer: Butch Vig\\n\\nQuestion: What city was the victim of Joseph Druces working in?\\nAnswer: Boston, Massachusetts\\n\\nQuestion: In what year was the star of To Hell and Back born?\\nAnswer: 1925\\n\\n---\\n\\nFollow the following format.\\n\\nContext:\\n${sources that may contain relevant content}\\n\\nQuestion: ${the question to be answered}\\n\\nRationale: Let\\'s think step by step. ${a step-by-step deduction that identifies the correct response, which will be provided below}\\n\\nAnswer: ${a short factoid answer, often between 1 and 5 words}\\n\\n---\\n\\nContext:\\n[1] «Joel Rifkin | to the Gilgo Beach Killer. In an April 2011 prison interview with \"Newsday\", Rifkin denied having anything to do with the remains discovered in 2011. Experts and victims\\' rights advocates, however, believe that those denials have no value. Rifkin\\'s birth mother was a 20-year-old college student, and his biological father was a 24-year-old college student and army veteran. At three weeks old he was adopted by an upper-middle class Long Island couple, on February 14, 1959. His adoptive father, Benjamin Rifkin, was of Russian Jewish descent and his adoptive mother, Jeanne (Granelles), of Spanish descent, converted to Judaism when she»\\n[2] «Lyle and Erik Menendez | documentary on Tammi, \"Mrs. Menéndez\". In late 2017, A&E aired a five-part documentary, titled \"The Menendez Murders: Erik Tells All\", in which Erik, via telephone, recalls the murders and the aftermath. The series also provides never-before-seen photos and new interviews with prosecutors, law enforcement, close family, friends and medical experts. The Menéndez brothers were featured in a 2017 documentary titled \"Truth and Lies: The Menéndez Brothers — American Sons, American Murderers\" on ABC, as well as on an episode of \"Snapped\" in 2016. The murders are the subjects of multiple docu-dramas, including the Lifetime movie \"\" (2017), as well as»\\n[3] «The Killing Season (U.S. TV series) | The Killing Season (U.S. TV series) The Killing Season is an American true crime documentary television series which debuted on November 12, 2016, on A&E. Executive produced by Alex Gibney, the series follows documentarians Joshua Zeman and Rachel Mills as they explore the case of the Long Island serial killer and other unsolved cases such as the Eastbound Strangler, and the victims and investigations that have been connected to the cases. Some new investigating and interviewing is done during the series, including contacting internet amateur crime investigation group Websleuths.com group members, and following-up on Websleuths activities. Series producers found sex»\\n[4] «Long Island serial killer | Long Island serial killer The Long Island serial killer (also referred to as LISK, the Gilgo Beach Killer or the Craigslist Ripper) is an unidentified suspected serial killer who is believed to have murdered 10 to 16 people associated with prostitution, over a period of nearly 20 years, and dumped their bodies along the Ocean Parkway, near the remote Long Island, New York beach towns of Gilgo and Oak Beach in Suffolk County, and the area of Jones Beach State Park in Nassau County. The remains of four victims were found in December 2010, while six more sets of remains»\\n[5] «Long Island serial killer | skull and a partial set of remains were found on April 11 after the search expanded into Nassau County. They were found about one mile apart, approximately five miles west of those found in December. These additional cases have not been officially linked to the other 10 bodies, but are being reviewed by police: Numerous films and television programs have covered the case, e.g.: Long Island serial killer The Long Island serial killer (also referred to as LISK, the Gilgo Beach Killer or the Craigslist Ripper) is an unidentified suspected serial killer who is believed to have murdered 10 to»\\n\\nQuestion: What documentary about the Gilgo Beach Killer debuted on A&E?\\n\\nRationale: Let\\'s think step by step.'}]}\u001b[32mStep 1: The question is asking about a documentary about the Gilgo Beach Killer.\n",
      "Step 2: The context mentions a documentary series that explores the case of the Long Island serial killer.\n",
      "Step 3: The context also mentions that the documentary series debuted on A&E.\n",
      "\n",
      "Answer: The Killing Season\u001b[0m\n",
      "\n",
      "\n",
      "\n"
     ]
    },
    {
     "data": {
      "text/plain": [
       "('The Killing Season', None)"
      ]
     },
     "execution_count": 43,
     "metadata": {},
     "output_type": "execute_result"
    }
   ],
   "source": [
    "dsp.settings.configure(lm=turbo, rm=rm, adapter=ChatAdapter(system_turn=False, multi_turn=False, strict_turn=False))\n",
    "retrieve_then_read_QA_v2(dev[1].question), turbo.inspect_history(n=1)"
   ]
  },
  {
   "cell_type": "code",
   "execution_count": 44,
   "id": "417d3c03",
   "metadata": {},
   "outputs": [
    {
     "name": "stderr",
     "output_type": "stream",
     "text": [
      "100%|██████████| 13/13 [00:00<00:00, 329.03it/s]"
     ]
    },
    {
     "name": "stdout",
     "output_type": "stream",
     "text": [
      "Answered 7 / 13 (53.8%) correctly.\n"
     ]
    },
    {
     "name": "stderr",
     "output_type": "stream",
     "text": [
      "\n"
     ]
    },
    {
     "data": {
      "text/html": [
       "<style type=\"text/css\">\n",
       "#T_96265 th {\n",
       "  text-align: left;\n",
       "}\n",
       "#T_96265 td {\n",
       "  text-align: left;\n",
       "}\n",
       "</style>\n",
       "<table id=\"T_96265\">\n",
       "  <thead>\n",
       "    <tr>\n",
       "      <th class=\"blank level0\" >&nbsp;</th>\n",
       "      <th id=\"T_96265_level0_col0\" class=\"col_heading level0 col0\" >question</th>\n",
       "      <th id=\"T_96265_level0_col1\" class=\"col_heading level0 col1\" >answer</th>\n",
       "      <th id=\"T_96265_level0_col2\" class=\"col_heading level0 col2\" >prediction</th>\n",
       "      <th id=\"T_96265_level0_col3\" class=\"col_heading level0 col3\" >correct</th>\n",
       "    </tr>\n",
       "  </thead>\n",
       "  <tbody>\n",
       "    <tr>\n",
       "      <th id=\"T_96265_level0_row0\" class=\"row_heading level0 row0\" >0</th>\n",
       "      <td id=\"T_96265_row0_col0\" class=\"data row0 col0\" >Who has a broader scope of profession: E. L. Doctorow or Julia Peterkin?</td>\n",
       "      <td id=\"T_96265_row0_col1\" class=\"data row0 col1\" >['E. L. Doctorow', 'E.L. Doctorow', 'Doctorow']</td>\n",
       "      <td id=\"T_96265_row0_col2\" class=\"data row0 col2\" >E. L. Doctorow</td>\n",
       "      <td id=\"T_96265_row0_col3\" class=\"data row0 col3\" >✔️</td>\n",
       "    </tr>\n",
       "    <tr>\n",
       "      <th id=\"T_96265_level0_row1\" class=\"row_heading level0 row1\" >1</th>\n",
       "      <td id=\"T_96265_row1_col0\" class=\"data row1 col0\" >What documentary about the Gilgo Beach Killer debuted on A&E?</td>\n",
       "      <td id=\"T_96265_row1_col1\" class=\"data row1 col1\" >['The Killing Season']</td>\n",
       "      <td id=\"T_96265_row1_col2\" class=\"data row1 col2\" >The Killing Season</td>\n",
       "      <td id=\"T_96265_row1_col3\" class=\"data row1 col3\" >✔️</td>\n",
       "    </tr>\n",
       "    <tr>\n",
       "      <th id=\"T_96265_level0_row2\" class=\"row_heading level0 row2\" >2</th>\n",
       "      <td id=\"T_96265_row2_col0\" class=\"data row2 col0\" >Right Back At It Again contains lyrics co-written by the singer born in what city?</td>\n",
       "      <td id=\"T_96265_row2_col1\" class=\"data row2 col1\" >['Gainesville, Florida', 'Gainesville']</td>\n",
       "      <td id=\"T_96265_row2_col2\" class=\"data row2 col2\" >Ocala</td>\n",
       "      <td id=\"T_96265_row2_col3\" class=\"data row2 col3\" >❌</td>\n",
       "    </tr>\n",
       "    <tr>\n",
       "      <th id=\"T_96265_level0_row3\" class=\"row_heading level0 row3\" >3</th>\n",
       "      <td id=\"T_96265_row3_col0\" class=\"data row3 col0\" >What year was the party of the winner of the 1971 San Francisco mayoral election founded?</td>\n",
       "      <td id=\"T_96265_row3_col1\" class=\"data row3 col1\" >['1828']</td>\n",
       "      <td id=\"T_96265_row3_col2\" class=\"data row3 col2\" >Democratic Party</td>\n",
       "      <td id=\"T_96265_row3_col3\" class=\"data row3 col3\" >❌</td>\n",
       "    </tr>\n",
       "    <tr>\n",
       "      <th id=\"T_96265_level0_row4\" class=\"row_heading level0 row4\" >4</th>\n",
       "      <td id=\"T_96265_row4_col0\" class=\"data row4 col0\" >Which author is English: John Braine or Studs Terkel?</td>\n",
       "      <td id=\"T_96265_row4_col1\" class=\"data row4 col1\" >['John Braine']</td>\n",
       "      <td id=\"T_96265_row4_col2\" class=\"data row4 col2\" >John Braine</td>\n",
       "      <td id=\"T_96265_row4_col3\" class=\"data row4 col3\" >✔️</td>\n",
       "    </tr>\n",
       "    <tr>\n",
       "      <th id=\"T_96265_level0_row5\" class=\"row_heading level0 row5\" >5</th>\n",
       "      <td id=\"T_96265_row5_col0\" class=\"data row5 col0\" >Anthony Dirrell is the brother of which super middleweight title holder?</td>\n",
       "      <td id=\"T_96265_row5_col1\" class=\"data row5 col1\" >['Andre Dirrell']</td>\n",
       "      <td id=\"T_96265_row5_col2\" class=\"data row5 col2\" >Andre Dirrell</td>\n",
       "      <td id=\"T_96265_row5_col3\" class=\"data row5 col3\" >✔️</td>\n",
       "    </tr>\n",
       "    <tr>\n",
       "      <th id=\"T_96265_level0_row6\" class=\"row_heading level0 row6\" >6</th>\n",
       "      <td id=\"T_96265_row6_col0\" class=\"data row6 col0\" >In which city is the sports nutrition business established by Oliver Cookson based ?</td>\n",
       "      <td id=\"T_96265_row6_col1\" class=\"data row6 col1\" >['Cheshire', 'Cheshire, UK']</td>\n",
       "      <td id=\"T_96265_row6_col2\" class=\"data row6 col2\" >Cheshire, UK</td>\n",
       "      <td id=\"T_96265_row6_col3\" class=\"data row6 col3\" >✔️</td>\n",
       "    </tr>\n",
       "    <tr>\n",
       "      <th id=\"T_96265_level0_row7\" class=\"row_heading level0 row7\" >7</th>\n",
       "      <td id=\"T_96265_row7_col0\" class=\"data row7 col0\" >Find the birth date of the actor who played roles in First Wives Club and Searching for the Elephant.</td>\n",
       "      <td id=\"T_96265_row7_col1\" class=\"data row7 col1\" >['February 13, 1980']</td>\n",
       "      <td id=\"T_96265_row7_col2\" class=\"data row7 col2\" >The birth date of the actor is not provided in the given sources.</td>\n",
       "      <td id=\"T_96265_row7_col3\" class=\"data row7 col3\" >❌</td>\n",
       "    </tr>\n",
       "    <tr>\n",
       "      <th id=\"T_96265_level0_row8\" class=\"row_heading level0 row8\" >8</th>\n",
       "      <td id=\"T_96265_row8_col0\" class=\"data row8 col0\" >Kyle Moran was born in the town on what river?</td>\n",
       "      <td id=\"T_96265_row8_col1\" class=\"data row8 col1\" >['Castletown', 'Castletown River']</td>\n",
       "      <td id=\"T_96265_row8_col2\" class=\"data row8 col2\" >Unknown</td>\n",
       "      <td id=\"T_96265_row8_col3\" class=\"data row8 col3\" >❌</td>\n",
       "    </tr>\n",
       "    <tr>\n",
       "      <th id=\"T_96265_level0_row9\" class=\"row_heading level0 row9\" >9</th>\n",
       "      <td id=\"T_96265_row9_col0\" class=\"data row9 col0\" >What is the name of one branch of Robert D. Braun's speciality?</td>\n",
       "      <td id=\"T_96265_row9_col1\" class=\"data row9 col1\" >['aeronautical engineering', 'astronautical engineering', 'aeronautics', 'astronautics']</td>\n",
       "      <td id=\"T_96265_row9_col2\" class=\"data row9 col2\" >Planetary exploration</td>\n",
       "      <td id=\"T_96265_row9_col3\" class=\"data row9 col3\" >❌</td>\n",
       "    </tr>\n",
       "    <tr>\n",
       "      <th id=\"T_96265_level0_row10\" class=\"row_heading level0 row10\" >10</th>\n",
       "      <td id=\"T_96265_row10_col0\" class=\"data row10 col0\" >Where was the actress who played the niece in the Priest film born?</td>\n",
       "      <td id=\"T_96265_row10_col1\" class=\"data row10 col1\" >['Surrey', 'Guildford, Surrey']</td>\n",
       "      <td id=\"T_96265_row10_col2\" class=\"data row10 col2\" >Italy</td>\n",
       "      <td id=\"T_96265_row10_col3\" class=\"data row10 col3\" >❌</td>\n",
       "    </tr>\n",
       "    <tr>\n",
       "      <th id=\"T_96265_level0_row11\" class=\"row_heading level0 row11\" >11</th>\n",
       "      <td id=\"T_96265_row11_col0\" class=\"data row11 col0\" >Name the movie in which the daughter of Noel Harrison plays Violet Trefusis.</td>\n",
       "      <td id=\"T_96265_row11_col1\" class=\"data row11 col1\" >['Portrait of a Marriage']</td>\n",
       "      <td id=\"T_96265_row11_col2\" class=\"data row11 col2\" >Portrait of a Marriage</td>\n",
       "      <td id=\"T_96265_row11_col3\" class=\"data row11 col3\" >✔️</td>\n",
       "    </tr>\n",
       "    <tr>\n",
       "      <th id=\"T_96265_level0_row12\" class=\"row_heading level0 row12\" >12</th>\n",
       "      <td id=\"T_96265_row12_col0\" class=\"data row12 col0\" >What year was the father of the Princes in the Tower born?</td>\n",
       "      <td id=\"T_96265_row12_col1\" class=\"data row12 col1\" >['1442']</td>\n",
       "      <td id=\"T_96265_row12_col2\" class=\"data row12 col2\" >1442</td>\n",
       "      <td id=\"T_96265_row12_col3\" class=\"data row12 col3\" >✔️</td>\n",
       "    </tr>\n",
       "  </tbody>\n",
       "</table>\n"
      ],
      "text/plain": [
       "<pandas.io.formats.style.Styler at 0x124fe9cd0>"
      ]
     },
     "metadata": {},
     "output_type": "display_data"
    },
    {
     "data": {
      "text/plain": [
       "53.8"
      ]
     },
     "execution_count": 44,
     "metadata": {},
     "output_type": "execute_result"
    }
   ],
   "source": [
    "evaluate(retrieve_then_read_QA_v2, dev)"
   ]
  },
  {
   "attachments": {},
   "cell_type": "markdown",
   "id": "41be53ea",
   "metadata": {},
   "source": [
    "## Chat Adapter with system_turn=True, multi_turn=False, strict_turn=False"
   ]
  },
  {
   "cell_type": "code",
   "execution_count": 45,
   "id": "2be3b4bb",
   "metadata": {},
   "outputs": [
    {
     "name": "stdout",
     "output_type": "stream",
     "text": [
      "\n",
      "\n",
      "\n",
      "\n",
      "{'model': 'gpt-3.5-turbo-0613', 'messages': [{'role': 'system', 'content': 'Answer questions with short factoid answers.'}, {'role': 'user', 'content': 'Question: Which award did the first book of Gary Zukav receive?\\nAnswer: U.S. National Book Award\\n\\nQuestion: The heir to the Du Pont family fortune sponsored what wrestling team?\\nAnswer: Foxcatcher\\n\\nQuestion: Who was the director of the 2009 movie featuring Peter Outerbridge as William Easton?\\nAnswer: Kevin Greutert\\n\\nQuestion: Who produced the album that included a re-recording of \"Lithium\"?\\nAnswer: Butch Vig\\n\\nQuestion: What city was the victim of Joseph Druces working in?\\nAnswer: Boston, Massachusetts\\n\\nQuestion: In what year was the star of To Hell and Back born?\\nAnswer: 1925\\n\\n---\\n\\nFollow the following format.\\n\\nContext:\\n${sources that may contain relevant content}\\n\\nQuestion: ${the question to be answered}\\n\\nRationale: Let\\'s think step by step. ${a step-by-step deduction that identifies the correct response, which will be provided below}\\n\\nAnswer: ${a short factoid answer, often between 1 and 5 words}\\n\\n---\\n\\nContext:\\n[1] «Joel Rifkin | to the Gilgo Beach Killer. In an April 2011 prison interview with \"Newsday\", Rifkin denied having anything to do with the remains discovered in 2011. Experts and victims\\' rights advocates, however, believe that those denials have no value. Rifkin\\'s birth mother was a 20-year-old college student, and his biological father was a 24-year-old college student and army veteran. At three weeks old he was adopted by an upper-middle class Long Island couple, on February 14, 1959. His adoptive father, Benjamin Rifkin, was of Russian Jewish descent and his adoptive mother, Jeanne (Granelles), of Spanish descent, converted to Judaism when she»\\n[2] «Lyle and Erik Menendez | documentary on Tammi, \"Mrs. Menéndez\". In late 2017, A&E aired a five-part documentary, titled \"The Menendez Murders: Erik Tells All\", in which Erik, via telephone, recalls the murders and the aftermath. The series also provides never-before-seen photos and new interviews with prosecutors, law enforcement, close family, friends and medical experts. The Menéndez brothers were featured in a 2017 documentary titled \"Truth and Lies: The Menéndez Brothers — American Sons, American Murderers\" on ABC, as well as on an episode of \"Snapped\" in 2016. The murders are the subjects of multiple docu-dramas, including the Lifetime movie \"\" (2017), as well as»\\n[3] «The Killing Season (U.S. TV series) | The Killing Season (U.S. TV series) The Killing Season is an American true crime documentary television series which debuted on November 12, 2016, on A&E. Executive produced by Alex Gibney, the series follows documentarians Joshua Zeman and Rachel Mills as they explore the case of the Long Island serial killer and other unsolved cases such as the Eastbound Strangler, and the victims and investigations that have been connected to the cases. Some new investigating and interviewing is done during the series, including contacting internet amateur crime investigation group Websleuths.com group members, and following-up on Websleuths activities. Series producers found sex»\\n[4] «Long Island serial killer | Long Island serial killer The Long Island serial killer (also referred to as LISK, the Gilgo Beach Killer or the Craigslist Ripper) is an unidentified suspected serial killer who is believed to have murdered 10 to 16 people associated with prostitution, over a period of nearly 20 years, and dumped their bodies along the Ocean Parkway, near the remote Long Island, New York beach towns of Gilgo and Oak Beach in Suffolk County, and the area of Jones Beach State Park in Nassau County. The remains of four victims were found in December 2010, while six more sets of remains»\\n[5] «Long Island serial killer | skull and a partial set of remains were found on April 11 after the search expanded into Nassau County. They were found about one mile apart, approximately five miles west of those found in December. These additional cases have not been officially linked to the other 10 bodies, but are being reviewed by police: Numerous films and television programs have covered the case, e.g.: Long Island serial killer The Long Island serial killer (also referred to as LISK, the Gilgo Beach Killer or the Craigslist Ripper) is an unidentified suspected serial killer who is believed to have murdered 10 to»\\n\\nQuestion: What documentary about the Gilgo Beach Killer debuted on A&E?\\n\\nRationale: Let\\'s think step by step.'}]}\u001b[32mStep 1: The question asks about a documentary about the Gilgo Beach Killer.\n",
      "Step 2: The context mentions a documentary series that debuted on A&E.\n",
      "Step 3: Putting these together, the answer is the documentary series \"The Killing Season.\"\n",
      "\n",
      "Answer: \"The Killing Season\"\u001b[0m\n",
      "\n",
      "\n",
      "\n"
     ]
    },
    {
     "data": {
      "text/plain": [
       "('\"The Killing Season\"', None)"
      ]
     },
     "execution_count": 45,
     "metadata": {},
     "output_type": "execute_result"
    }
   ],
   "source": [
    "dsp.settings.configure(lm=turbo, rm=rm, adapter=ChatAdapter(system_turn=True, multi_turn=False, strict_turn=False))\n",
    "retrieve_then_read_QA_v2(dev[1].question), turbo.inspect_history(n=1)"
   ]
  },
  {
   "cell_type": "code",
   "execution_count": 46,
   "id": "88e35cc4",
   "metadata": {},
   "outputs": [
    {
     "name": "stderr",
     "output_type": "stream",
     "text": [
      "100%|██████████| 13/13 [00:00<00:00, 497.95it/s]"
     ]
    },
    {
     "name": "stdout",
     "output_type": "stream",
     "text": [
      "Answered 6 / 13 (46.2%) correctly.\n"
     ]
    },
    {
     "name": "stderr",
     "output_type": "stream",
     "text": [
      "\n"
     ]
    },
    {
     "data": {
      "text/html": [
       "<style type=\"text/css\">\n",
       "#T_0ca73 th {\n",
       "  text-align: left;\n",
       "}\n",
       "#T_0ca73 td {\n",
       "  text-align: left;\n",
       "}\n",
       "</style>\n",
       "<table id=\"T_0ca73\">\n",
       "  <thead>\n",
       "    <tr>\n",
       "      <th class=\"blank level0\" >&nbsp;</th>\n",
       "      <th id=\"T_0ca73_level0_col0\" class=\"col_heading level0 col0\" >question</th>\n",
       "      <th id=\"T_0ca73_level0_col1\" class=\"col_heading level0 col1\" >answer</th>\n",
       "      <th id=\"T_0ca73_level0_col2\" class=\"col_heading level0 col2\" >prediction</th>\n",
       "      <th id=\"T_0ca73_level0_col3\" class=\"col_heading level0 col3\" >correct</th>\n",
       "    </tr>\n",
       "  </thead>\n",
       "  <tbody>\n",
       "    <tr>\n",
       "      <th id=\"T_0ca73_level0_row0\" class=\"row_heading level0 row0\" >0</th>\n",
       "      <td id=\"T_0ca73_row0_col0\" class=\"data row0 col0\" >Who has a broader scope of profession: E. L. Doctorow or Julia Peterkin?</td>\n",
       "      <td id=\"T_0ca73_row0_col1\" class=\"data row0 col1\" >['E. L. Doctorow', 'E.L. Doctorow', 'Doctorow']</td>\n",
       "      <td id=\"T_0ca73_row0_col2\" class=\"data row0 col2\" >It is not explicitly mentioned which author, Julia Peterkin or E. L. Doctorow, has a broader scope of profession.</td>\n",
       "      <td id=\"T_0ca73_row0_col3\" class=\"data row0 col3\" >❌</td>\n",
       "    </tr>\n",
       "    <tr>\n",
       "      <th id=\"T_0ca73_level0_row1\" class=\"row_heading level0 row1\" >1</th>\n",
       "      <td id=\"T_0ca73_row1_col0\" class=\"data row1 col0\" >What documentary about the Gilgo Beach Killer debuted on A&E?</td>\n",
       "      <td id=\"T_0ca73_row1_col1\" class=\"data row1 col1\" >['The Killing Season']</td>\n",
       "      <td id=\"T_0ca73_row1_col2\" class=\"data row1 col2\" >\"The Killing Season\"</td>\n",
       "      <td id=\"T_0ca73_row1_col3\" class=\"data row1 col3\" >✔️</td>\n",
       "    </tr>\n",
       "    <tr>\n",
       "      <th id=\"T_0ca73_level0_row2\" class=\"row_heading level0 row2\" >2</th>\n",
       "      <td id=\"T_0ca73_row2_col0\" class=\"data row2 col0\" >Right Back At It Again contains lyrics co-written by the singer born in what city?</td>\n",
       "      <td id=\"T_0ca73_row2_col1\" class=\"data row2 col1\" >['Gainesville, Florida', 'Gainesville']</td>\n",
       "      <td id=\"T_0ca73_row2_col2\" class=\"data row2 col2\" >Ocala</td>\n",
       "      <td id=\"T_0ca73_row2_col3\" class=\"data row2 col3\" >❌</td>\n",
       "    </tr>\n",
       "    <tr>\n",
       "      <th id=\"T_0ca73_level0_row3\" class=\"row_heading level0 row3\" >3</th>\n",
       "      <td id=\"T_0ca73_row3_col0\" class=\"data row3 col0\" >What year was the party of the winner of the 1971 San Francisco mayoral election founded?</td>\n",
       "      <td id=\"T_0ca73_row3_col1\" class=\"data row3 col1\" >['1828']</td>\n",
       "      <td id=\"T_0ca73_row3_col2\" class=\"data row3 col2\" >The party of the winner of the 1971 San Francisco mayoral election, Joseph Alioto, was founded in 1854.</td>\n",
       "      <td id=\"T_0ca73_row3_col3\" class=\"data row3 col3\" >❌</td>\n",
       "    </tr>\n",
       "    <tr>\n",
       "      <th id=\"T_0ca73_level0_row4\" class=\"row_heading level0 row4\" >4</th>\n",
       "      <td id=\"T_0ca73_row4_col0\" class=\"data row4 col0\" >Which author is English: John Braine or Studs Terkel?</td>\n",
       "      <td id=\"T_0ca73_row4_col1\" class=\"data row4 col1\" >['John Braine']</td>\n",
       "      <td id=\"T_0ca73_row4_col2\" class=\"data row4 col2\" >John Braine</td>\n",
       "      <td id=\"T_0ca73_row4_col3\" class=\"data row4 col3\" >✔️</td>\n",
       "    </tr>\n",
       "    <tr>\n",
       "      <th id=\"T_0ca73_level0_row5\" class=\"row_heading level0 row5\" >5</th>\n",
       "      <td id=\"T_0ca73_row5_col0\" class=\"data row5 col0\" >Anthony Dirrell is the brother of which super middleweight title holder?</td>\n",
       "      <td id=\"T_0ca73_row5_col1\" class=\"data row5 col1\" >['Andre Dirrell']</td>\n",
       "      <td id=\"T_0ca73_row5_col2\" class=\"data row5 col2\" >Andre Dirrell</td>\n",
       "      <td id=\"T_0ca73_row5_col3\" class=\"data row5 col3\" >✔️</td>\n",
       "    </tr>\n",
       "    <tr>\n",
       "      <th id=\"T_0ca73_level0_row6\" class=\"row_heading level0 row6\" >6</th>\n",
       "      <td id=\"T_0ca73_row6_col0\" class=\"data row6 col0\" >In which city is the sports nutrition business established by Oliver Cookson based ?</td>\n",
       "      <td id=\"T_0ca73_row6_col1\" class=\"data row6 col1\" >['Cheshire', 'Cheshire, UK']</td>\n",
       "      <td id=\"T_0ca73_row6_col2\" class=\"data row6 col2\" >Cheshire, UK</td>\n",
       "      <td id=\"T_0ca73_row6_col3\" class=\"data row6 col3\" >✔️</td>\n",
       "    </tr>\n",
       "    <tr>\n",
       "      <th id=\"T_0ca73_level0_row7\" class=\"row_heading level0 row7\" >7</th>\n",
       "      <td id=\"T_0ca73_row7_col0\" class=\"data row7 col0\" >Find the birth date of the actor who played roles in First Wives Club and Searching for the Elephant.</td>\n",
       "      <td id=\"T_0ca73_row7_col1\" class=\"data row7 col1\" >['February 13, 1980']</td>\n",
       "      <td id=\"T_0ca73_row7_col2\" class=\"data row7 col2\" >March 15, 1973</td>\n",
       "      <td id=\"T_0ca73_row7_col3\" class=\"data row7 col3\" >❌</td>\n",
       "    </tr>\n",
       "    <tr>\n",
       "      <th id=\"T_0ca73_level0_row8\" class=\"row_heading level0 row8\" >8</th>\n",
       "      <td id=\"T_0ca73_row8_col0\" class=\"data row8 col0\" >Kyle Moran was born in the town on what river?</td>\n",
       "      <td id=\"T_0ca73_row8_col1\" class=\"data row8 col1\" >['Castletown', 'Castletown River']</td>\n",
       "      <td id=\"T_0ca73_row8_col2\" class=\"data row8 col2\" >The town of Dundalk, where Kyle Moran was born, is located on the River Castletown.</td>\n",
       "      <td id=\"T_0ca73_row8_col3\" class=\"data row8 col3\" >❌</td>\n",
       "    </tr>\n",
       "    <tr>\n",
       "      <th id=\"T_0ca73_level0_row9\" class=\"row_heading level0 row9\" >9</th>\n",
       "      <td id=\"T_0ca73_row9_col0\" class=\"data row9 col0\" >What is the name of one branch of Robert D. Braun's speciality?</td>\n",
       "      <td id=\"T_0ca73_row9_col1\" class=\"data row9 col1\" >['aeronautical engineering', 'astronautical engineering', 'aeronautics', 'astronautics']</td>\n",
       "      <td id=\"T_0ca73_row9_col2\" class=\"data row9 col2\" >Planetary exploration</td>\n",
       "      <td id=\"T_0ca73_row9_col3\" class=\"data row9 col3\" >❌</td>\n",
       "    </tr>\n",
       "    <tr>\n",
       "      <th id=\"T_0ca73_level0_row10\" class=\"row_heading level0 row10\" >10</th>\n",
       "      <td id=\"T_0ca73_row10_col0\" class=\"data row10 col0\" >Where was the actress who played the niece in the Priest film born?</td>\n",
       "      <td id=\"T_0ca73_row10_col1\" class=\"data row10 col1\" >['Surrey', 'Guildford, Surrey']</td>\n",
       "      <td id=\"T_0ca73_row10_col2\" class=\"data row10 col2\" >Italy</td>\n",
       "      <td id=\"T_0ca73_row10_col3\" class=\"data row10 col3\" >❌</td>\n",
       "    </tr>\n",
       "    <tr>\n",
       "      <th id=\"T_0ca73_level0_row11\" class=\"row_heading level0 row11\" >11</th>\n",
       "      <td id=\"T_0ca73_row11_col0\" class=\"data row11 col0\" >Name the movie in which the daughter of Noel Harrison plays Violet Trefusis.</td>\n",
       "      <td id=\"T_0ca73_row11_col1\" class=\"data row11 col1\" >['Portrait of a Marriage']</td>\n",
       "      <td id=\"T_0ca73_row11_col2\" class=\"data row11 col2\" >\"Portrait of a Marriage\"</td>\n",
       "      <td id=\"T_0ca73_row11_col3\" class=\"data row11 col3\" >✔️</td>\n",
       "    </tr>\n",
       "    <tr>\n",
       "      <th id=\"T_0ca73_level0_row12\" class=\"row_heading level0 row12\" >12</th>\n",
       "      <td id=\"T_0ca73_row12_col0\" class=\"data row12 col0\" >What year was the father of the Princes in the Tower born?</td>\n",
       "      <td id=\"T_0ca73_row12_col1\" class=\"data row12 col1\" >['1442']</td>\n",
       "      <td id=\"T_0ca73_row12_col2\" class=\"data row12 col2\" >1442</td>\n",
       "      <td id=\"T_0ca73_row12_col3\" class=\"data row12 col3\" >✔️</td>\n",
       "    </tr>\n",
       "  </tbody>\n",
       "</table>\n"
      ],
      "text/plain": [
       "<pandas.io.formats.style.Styler at 0x124f7e650>"
      ]
     },
     "metadata": {},
     "output_type": "display_data"
    },
    {
     "data": {
      "text/plain": [
       "46.2"
      ]
     },
     "execution_count": 46,
     "metadata": {},
     "output_type": "execute_result"
    }
   ],
   "source": [
    "evaluate(retrieve_then_read_QA_v2, dev)"
   ]
  },
  {
   "attachments": {},
   "cell_type": "markdown",
   "id": "391bf38c",
   "metadata": {},
   "source": [
    "## Chat Adapter with system_turn=True, multi_turn=True, strict_turn=False"
   ]
  },
  {
   "cell_type": "code",
   "execution_count": 47,
   "id": "48b63ffb",
   "metadata": {},
   "outputs": [
    {
     "name": "stdout",
     "output_type": "stream",
     "text": [
      "\n",
      "\n",
      "\n",
      "\n",
      "{'model': 'gpt-3.5-turbo-0613', 'messages': [{'role': 'system', 'content': 'Answer questions with short factoid answers.'}, {'role': 'user', 'content': 'Question: Which award did the first book of Gary Zukav receive?\\nAnswer: U.S. National Book Award\\n\\nQuestion: The heir to the Du Pont family fortune sponsored what wrestling team?\\nAnswer: Foxcatcher\\n\\nQuestion: Who was the director of the 2009 movie featuring Peter Outerbridge as William Easton?\\nAnswer: Kevin Greutert\\n\\nQuestion: Who produced the album that included a re-recording of \"Lithium\"?\\nAnswer: Butch Vig\\n\\nQuestion: What city was the victim of Joseph Druces working in?\\nAnswer: Boston, Massachusetts\\n\\nQuestion: In what year was the star of To Hell and Back born?\\nAnswer: 1925'}, {'role': 'user', 'content': \"Follow the following format.\\n\\nContext:\\n${sources that may contain relevant content}\\n\\nQuestion: ${the question to be answered}\\n\\nRationale: Let's think step by step. ${a step-by-step deduction that identifies the correct response, which will be provided below}\\n\\nAnswer: ${a short factoid answer, often between 1 and 5 words}\"}, {'role': 'user', 'content': 'Context:\\n[1] «Joel Rifkin | to the Gilgo Beach Killer. In an April 2011 prison interview with \"Newsday\", Rifkin denied having anything to do with the remains discovered in 2011. Experts and victims\\' rights advocates, however, believe that those denials have no value. Rifkin\\'s birth mother was a 20-year-old college student, and his biological father was a 24-year-old college student and army veteran. At three weeks old he was adopted by an upper-middle class Long Island couple, on February 14, 1959. His adoptive father, Benjamin Rifkin, was of Russian Jewish descent and his adoptive mother, Jeanne (Granelles), of Spanish descent, converted to Judaism when she»\\n[2] «Lyle and Erik Menendez | documentary on Tammi, \"Mrs. Menéndez\". In late 2017, A&E aired a five-part documentary, titled \"The Menendez Murders: Erik Tells All\", in which Erik, via telephone, recalls the murders and the aftermath. The series also provides never-before-seen photos and new interviews with prosecutors, law enforcement, close family, friends and medical experts. The Menéndez brothers were featured in a 2017 documentary titled \"Truth and Lies: The Menéndez Brothers — American Sons, American Murderers\" on ABC, as well as on an episode of \"Snapped\" in 2016. The murders are the subjects of multiple docu-dramas, including the Lifetime movie \"\" (2017), as well as»\\n[3] «The Killing Season (U.S. TV series) | The Killing Season (U.S. TV series) The Killing Season is an American true crime documentary television series which debuted on November 12, 2016, on A&E. Executive produced by Alex Gibney, the series follows documentarians Joshua Zeman and Rachel Mills as they explore the case of the Long Island serial killer and other unsolved cases such as the Eastbound Strangler, and the victims and investigations that have been connected to the cases. Some new investigating and interviewing is done during the series, including contacting internet amateur crime investigation group Websleuths.com group members, and following-up on Websleuths activities. Series producers found sex»\\n[4] «Long Island serial killer | Long Island serial killer The Long Island serial killer (also referred to as LISK, the Gilgo Beach Killer or the Craigslist Ripper) is an unidentified suspected serial killer who is believed to have murdered 10 to 16 people associated with prostitution, over a period of nearly 20 years, and dumped their bodies along the Ocean Parkway, near the remote Long Island, New York beach towns of Gilgo and Oak Beach in Suffolk County, and the area of Jones Beach State Park in Nassau County. The remains of four victims were found in December 2010, while six more sets of remains»\\n[5] «Long Island serial killer | skull and a partial set of remains were found on April 11 after the search expanded into Nassau County. They were found about one mile apart, approximately five miles west of those found in December. These additional cases have not been officially linked to the other 10 bodies, but are being reviewed by police: Numerous films and television programs have covered the case, e.g.: Long Island serial killer The Long Island serial killer (also referred to as LISK, the Gilgo Beach Killer or the Craigslist Ripper) is an unidentified suspected serial killer who is believed to have murdered 10 to»\\n\\nQuestion: What documentary about the Gilgo Beach Killer debuted on A&E?\\n\\nRationale: Let\\'s think step by step.'}]}\u001b[32mRationale: The question asks about a documentary about the Gilgo Beach Killer that debuted on A&E. From the context, we can see that there are multiple references to documentaries and TV series related to the Long Island serial killer case. We can narrow down the search by focusing on the information provided in [3], which mentions a true crime documentary series called \"The Killing Season\" that debuted on A&E. This series explores the case of the Long Island serial killer and other unsolved cases. Therefore, the answer to the question is likely \"The Killing Season.\"\n",
      "\n",
      "Answer: The Killing Season\u001b[0m\n",
      "\n",
      "\n",
      "\n"
     ]
    },
    {
     "data": {
      "text/plain": [
       "('The Killing Season', None)"
      ]
     },
     "execution_count": 47,
     "metadata": {},
     "output_type": "execute_result"
    }
   ],
   "source": [
    "dsp.settings.configure(lm=turbo, rm=rm, adapter=ChatAdapter(system_turn=True, multi_turn=True, strict_turn=False))\n",
    "retrieve_then_read_QA_v2(dev[1].question), turbo.inspect_history(n=1)"
   ]
  },
  {
   "cell_type": "code",
   "execution_count": 48,
   "id": "c1fc3bac",
   "metadata": {},
   "outputs": [
    {
     "name": "stderr",
     "output_type": "stream",
     "text": [
      "100%|██████████| 13/13 [00:00<00:00, 451.01it/s]"
     ]
    },
    {
     "name": "stdout",
     "output_type": "stream",
     "text": [
      "Answered 6 / 13 (46.2%) correctly.\n"
     ]
    },
    {
     "name": "stderr",
     "output_type": "stream",
     "text": [
      "\n"
     ]
    },
    {
     "data": {
      "text/html": [
       "<style type=\"text/css\">\n",
       "#T_4960b th {\n",
       "  text-align: left;\n",
       "}\n",
       "#T_4960b td {\n",
       "  text-align: left;\n",
       "}\n",
       "</style>\n",
       "<table id=\"T_4960b\">\n",
       "  <thead>\n",
       "    <tr>\n",
       "      <th class=\"blank level0\" >&nbsp;</th>\n",
       "      <th id=\"T_4960b_level0_col0\" class=\"col_heading level0 col0\" >question</th>\n",
       "      <th id=\"T_4960b_level0_col1\" class=\"col_heading level0 col1\" >answer</th>\n",
       "      <th id=\"T_4960b_level0_col2\" class=\"col_heading level0 col2\" >prediction</th>\n",
       "      <th id=\"T_4960b_level0_col3\" class=\"col_heading level0 col3\" >correct</th>\n",
       "    </tr>\n",
       "  </thead>\n",
       "  <tbody>\n",
       "    <tr>\n",
       "      <th id=\"T_4960b_level0_row0\" class=\"row_heading level0 row0\" >0</th>\n",
       "      <td id=\"T_4960b_row0_col0\" class=\"data row0 col0\" >Who has a broader scope of profession: E. L. Doctorow or Julia Peterkin?</td>\n",
       "      <td id=\"T_4960b_row0_col1\" class=\"data row0 col1\" >['E. L. Doctorow', 'E.L. Doctorow', 'Doctorow']</td>\n",
       "      <td id=\"T_4960b_row0_col2\" class=\"data row0 col2\" >broader scope of profession.</td>\n",
       "      <td id=\"T_4960b_row0_col3\" class=\"data row0 col3\" >❌</td>\n",
       "    </tr>\n",
       "    <tr>\n",
       "      <th id=\"T_4960b_level0_row1\" class=\"row_heading level0 row1\" >1</th>\n",
       "      <td id=\"T_4960b_row1_col0\" class=\"data row1 col0\" >What documentary about the Gilgo Beach Killer debuted on A&E?</td>\n",
       "      <td id=\"T_4960b_row1_col1\" class=\"data row1 col1\" >['The Killing Season']</td>\n",
       "      <td id=\"T_4960b_row1_col2\" class=\"data row1 col2\" >The Killing Season</td>\n",
       "      <td id=\"T_4960b_row1_col3\" class=\"data row1 col3\" >✔️</td>\n",
       "    </tr>\n",
       "    <tr>\n",
       "      <th id=\"T_4960b_level0_row2\" class=\"row_heading level0 row2\" >2</th>\n",
       "      <td id=\"T_4960b_row2_col0\" class=\"data row2 col0\" >Right Back At It Again contains lyrics co-written by the singer born in what city?</td>\n",
       "      <td id=\"T_4960b_row2_col1\" class=\"data row2 col1\" >['Gainesville, Florida', 'Gainesville']</td>\n",
       "      <td id=\"T_4960b_row2_col2\" class=\"data row2 col2\" >Ocala</td>\n",
       "      <td id=\"T_4960b_row2_col3\" class=\"data row2 col3\" >❌</td>\n",
       "    </tr>\n",
       "    <tr>\n",
       "      <th id=\"T_4960b_level0_row3\" class=\"row_heading level0 row3\" >3</th>\n",
       "      <td id=\"T_4960b_row3_col0\" class=\"data row3 col0\" >What year was the party of the winner of the 1971 San Francisco mayoral election founded?</td>\n",
       "      <td id=\"T_4960b_row3_col1\" class=\"data row3 col1\" >['1828']</td>\n",
       "      <td id=\"T_4960b_row3_col2\" class=\"data row3 col2\" >Democratic Party</td>\n",
       "      <td id=\"T_4960b_row3_col3\" class=\"data row3 col3\" >❌</td>\n",
       "    </tr>\n",
       "    <tr>\n",
       "      <th id=\"T_4960b_level0_row4\" class=\"row_heading level0 row4\" >4</th>\n",
       "      <td id=\"T_4960b_row4_col0\" class=\"data row4 col0\" >Which author is English: John Braine or Studs Terkel?</td>\n",
       "      <td id=\"T_4960b_row4_col1\" class=\"data row4 col1\" >['John Braine']</td>\n",
       "      <td id=\"T_4960b_row4_col2\" class=\"data row4 col2\" >John Braine</td>\n",
       "      <td id=\"T_4960b_row4_col3\" class=\"data row4 col3\" >✔️</td>\n",
       "    </tr>\n",
       "    <tr>\n",
       "      <th id=\"T_4960b_level0_row5\" class=\"row_heading level0 row5\" >5</th>\n",
       "      <td id=\"T_4960b_row5_col0\" class=\"data row5 col0\" >Anthony Dirrell is the brother of which super middleweight title holder?</td>\n",
       "      <td id=\"T_4960b_row5_col1\" class=\"data row5 col1\" >['Andre Dirrell']</td>\n",
       "      <td id=\"T_4960b_row5_col2\" class=\"data row5 col2\" >Andre Dirrell</td>\n",
       "      <td id=\"T_4960b_row5_col3\" class=\"data row5 col3\" >✔️</td>\n",
       "    </tr>\n",
       "    <tr>\n",
       "      <th id=\"T_4960b_level0_row6\" class=\"row_heading level0 row6\" >6</th>\n",
       "      <td id=\"T_4960b_row6_col0\" class=\"data row6 col0\" >In which city is the sports nutrition business established by Oliver Cookson based ?</td>\n",
       "      <td id=\"T_4960b_row6_col1\" class=\"data row6 col1\" >['Cheshire', 'Cheshire, UK']</td>\n",
       "      <td id=\"T_4960b_row6_col2\" class=\"data row6 col2\" >Cheshire, UK</td>\n",
       "      <td id=\"T_4960b_row6_col3\" class=\"data row6 col3\" >✔️</td>\n",
       "    </tr>\n",
       "    <tr>\n",
       "      <th id=\"T_4960b_level0_row7\" class=\"row_heading level0 row7\" >7</th>\n",
       "      <td id=\"T_4960b_row7_col0\" class=\"data row7 col0\" >Find the birth date of the actor who played roles in First Wives Club and Searching for the Elephant.</td>\n",
       "      <td id=\"T_4960b_row7_col1\" class=\"data row7 col1\" >['February 13, 1980']</td>\n",
       "      <td id=\"T_4960b_row7_col2\" class=\"data row7 col2\" >The birth date of the actor who played roles in \"First Wives Club\" and \"Searching for the Elephant\" is unknown.</td>\n",
       "      <td id=\"T_4960b_row7_col3\" class=\"data row7 col3\" >❌</td>\n",
       "    </tr>\n",
       "    <tr>\n",
       "      <th id=\"T_4960b_level0_row8\" class=\"row_heading level0 row8\" >8</th>\n",
       "      <td id=\"T_4960b_row8_col0\" class=\"data row8 col0\" >Kyle Moran was born in the town on what river?</td>\n",
       "      <td id=\"T_4960b_row8_col1\" class=\"data row8 col1\" >['Castletown', 'Castletown River']</td>\n",
       "      <td id=\"T_4960b_row8_col2\" class=\"data row8 col2\" >Dundalk is located on the Castletown River.</td>\n",
       "      <td id=\"T_4960b_row8_col3\" class=\"data row8 col3\" >❌</td>\n",
       "    </tr>\n",
       "    <tr>\n",
       "      <th id=\"T_4960b_level0_row9\" class=\"row_heading level0 row9\" >9</th>\n",
       "      <td id=\"T_4960b_row9_col0\" class=\"data row9 col0\" >What is the name of one branch of Robert D. Braun's speciality?</td>\n",
       "      <td id=\"T_4960b_row9_col1\" class=\"data row9 col1\" >['aeronautical engineering', 'astronautical engineering', 'aeronautics', 'astronautics']</td>\n",
       "      <td id=\"T_4960b_row9_col2\" class=\"data row9 col2\" >Planetary exploration.</td>\n",
       "      <td id=\"T_4960b_row9_col3\" class=\"data row9 col3\" >❌</td>\n",
       "    </tr>\n",
       "    <tr>\n",
       "      <th id=\"T_4960b_level0_row10\" class=\"row_heading level0 row10\" >10</th>\n",
       "      <td id=\"T_4960b_row10_col0\" class=\"data row10 col0\" >Where was the actress who played the niece in the Priest film born?</td>\n",
       "      <td id=\"T_4960b_row10_col1\" class=\"data row10 col1\" >['Surrey', 'Guildford, Surrey']</td>\n",
       "      <td id=\"T_4960b_row10_col2\" class=\"data row10 col2\" >The context does not provide the information about the birthplace of the actress who played the niece in the Priest film.</td>\n",
       "      <td id=\"T_4960b_row10_col3\" class=\"data row10 col3\" >❌</td>\n",
       "    </tr>\n",
       "    <tr>\n",
       "      <th id=\"T_4960b_level0_row11\" class=\"row_heading level0 row11\" >11</th>\n",
       "      <td id=\"T_4960b_row11_col0\" class=\"data row11 col0\" >Name the movie in which the daughter of Noel Harrison plays Violet Trefusis.</td>\n",
       "      <td id=\"T_4960b_row11_col1\" class=\"data row11 col1\" >['Portrait of a Marriage']</td>\n",
       "      <td id=\"T_4960b_row11_col2\" class=\"data row11 col2\" >Portrait of a Marriage</td>\n",
       "      <td id=\"T_4960b_row11_col3\" class=\"data row11 col3\" >✔️</td>\n",
       "    </tr>\n",
       "    <tr>\n",
       "      <th id=\"T_4960b_level0_row12\" class=\"row_heading level0 row12\" >12</th>\n",
       "      <td id=\"T_4960b_row12_col0\" class=\"data row12 col0\" >What year was the father of the Princes in the Tower born?</td>\n",
       "      <td id=\"T_4960b_row12_col1\" class=\"data row12 col1\" >['1442']</td>\n",
       "      <td id=\"T_4960b_row12_col2\" class=\"data row12 col2\" >1442</td>\n",
       "      <td id=\"T_4960b_row12_col3\" class=\"data row12 col3\" >✔️</td>\n",
       "    </tr>\n",
       "  </tbody>\n",
       "</table>\n"
      ],
      "text/plain": [
       "<pandas.io.formats.style.Styler at 0x124fe9e50>"
      ]
     },
     "metadata": {},
     "output_type": "display_data"
    },
    {
     "data": {
      "text/plain": [
       "46.2"
      ]
     },
     "execution_count": 48,
     "metadata": {},
     "output_type": "execute_result"
    }
   ],
   "source": [
    "evaluate(retrieve_then_read_QA_v2, dev)"
   ]
  },
  {
   "attachments": {},
   "cell_type": "markdown",
   "id": "edfbfa40",
   "metadata": {},
   "source": [
    "## Chat Adapter with system_turn=True, multi_turn=True, strict_turn=True"
   ]
  },
  {
   "cell_type": "code",
   "execution_count": 49,
   "id": "20063127",
   "metadata": {},
   "outputs": [
    {
     "name": "stdout",
     "output_type": "stream",
     "text": [
      "\n",
      "\n",
      "\n",
      "\n",
      "{'model': 'gpt-3.5-turbo-0613', 'messages': [{'role': 'system', 'content': 'Answer questions with short factoid answers.'}, {'role': 'user', 'content': 'Question: Which award did the first book of Gary Zukav receive?\\nAnswer: U.S. National Book Award\\n\\nQuestion: The heir to the Du Pont family fortune sponsored what wrestling team?\\nAnswer: Foxcatcher\\n\\nQuestion: Who was the director of the 2009 movie featuring Peter Outerbridge as William Easton?\\nAnswer: Kevin Greutert\\n\\nQuestion: Who produced the album that included a re-recording of \"Lithium\"?\\nAnswer: Butch Vig\\n\\nQuestion: What city was the victim of Joseph Druces working in?\\nAnswer: Boston, Massachusetts\\n\\nQuestion: In what year was the star of To Hell and Back born?\\nAnswer: 1925'}, {'role': 'assistant', 'content': 'Got it.'}, {'role': 'user', 'content': \"Follow the following format.\\n\\nContext:\\n${sources that may contain relevant content}\\n\\nQuestion: ${the question to be answered}\\n\\nRationale: Let's think step by step. ${a step-by-step deduction that identifies the correct response, which will be provided below}\\n\\nAnswer: ${a short factoid answer, often between 1 and 5 words}\"}, {'role': 'assistant', 'content': 'Got it.'}, {'role': 'user', 'content': 'Context:\\n[1] «Joel Rifkin | to the Gilgo Beach Killer. In an April 2011 prison interview with \"Newsday\", Rifkin denied having anything to do with the remains discovered in 2011. Experts and victims\\' rights advocates, however, believe that those denials have no value. Rifkin\\'s birth mother was a 20-year-old college student, and his biological father was a 24-year-old college student and army veteran. At three weeks old he was adopted by an upper-middle class Long Island couple, on February 14, 1959. His adoptive father, Benjamin Rifkin, was of Russian Jewish descent and his adoptive mother, Jeanne (Granelles), of Spanish descent, converted to Judaism when she»\\n[2] «Lyle and Erik Menendez | documentary on Tammi, \"Mrs. Menéndez\". In late 2017, A&E aired a five-part documentary, titled \"The Menendez Murders: Erik Tells All\", in which Erik, via telephone, recalls the murders and the aftermath. The series also provides never-before-seen photos and new interviews with prosecutors, law enforcement, close family, friends and medical experts. The Menéndez brothers were featured in a 2017 documentary titled \"Truth and Lies: The Menéndez Brothers — American Sons, American Murderers\" on ABC, as well as on an episode of \"Snapped\" in 2016. The murders are the subjects of multiple docu-dramas, including the Lifetime movie \"\" (2017), as well as»\\n[3] «The Killing Season (U.S. TV series) | The Killing Season (U.S. TV series) The Killing Season is an American true crime documentary television series which debuted on November 12, 2016, on A&E. Executive produced by Alex Gibney, the series follows documentarians Joshua Zeman and Rachel Mills as they explore the case of the Long Island serial killer and other unsolved cases such as the Eastbound Strangler, and the victims and investigations that have been connected to the cases. Some new investigating and interviewing is done during the series, including contacting internet amateur crime investigation group Websleuths.com group members, and following-up on Websleuths activities. Series producers found sex»\\n[4] «Long Island serial killer | Long Island serial killer The Long Island serial killer (also referred to as LISK, the Gilgo Beach Killer or the Craigslist Ripper) is an unidentified suspected serial killer who is believed to have murdered 10 to 16 people associated with prostitution, over a period of nearly 20 years, and dumped their bodies along the Ocean Parkway, near the remote Long Island, New York beach towns of Gilgo and Oak Beach in Suffolk County, and the area of Jones Beach State Park in Nassau County. The remains of four victims were found in December 2010, while six more sets of remains»\\n[5] «Long Island serial killer | skull and a partial set of remains were found on April 11 after the search expanded into Nassau County. They were found about one mile apart, approximately five miles west of those found in December. These additional cases have not been officially linked to the other 10 bodies, but are being reviewed by police: Numerous films and television programs have covered the case, e.g.: Long Island serial killer The Long Island serial killer (also referred to as LISK, the Gilgo Beach Killer or the Craigslist Ripper) is an unidentified suspected serial killer who is believed to have murdered 10 to»\\n\\nQuestion: What documentary about the Gilgo Beach Killer debuted on A&E?\\n\\nRationale: Let\\'s think step by step.'}]}\u001b[32mRationale: The context mentions several documentaries and TV series related to the Gilgo Beach Killer. We need to identify the specific documentary that debuted on A&E.\n",
      "\n",
      "Answer: \"The Killing Season\"\u001b[0m\n",
      "\n",
      "\n",
      "\n"
     ]
    },
    {
     "data": {
      "text/plain": [
       "('\"The Killing Season\"', None)"
      ]
     },
     "execution_count": 49,
     "metadata": {},
     "output_type": "execute_result"
    }
   ],
   "source": [
    "dsp.settings.configure(lm=turbo, rm=rm, adapter=ChatAdapter(system_turn=True, multi_turn=True, strict_turn=True))\n",
    "retrieve_then_read_QA_v2(dev[1].question), turbo.inspect_history(n=1)"
   ]
  },
  {
   "cell_type": "code",
   "execution_count": 50,
   "id": "8fb29159",
   "metadata": {},
   "outputs": [
    {
     "name": "stderr",
     "output_type": "stream",
     "text": [
      "100%|██████████| 13/13 [00:00<00:00, 588.58it/s]"
     ]
    },
    {
     "name": "stdout",
     "output_type": "stream",
     "text": [
      "Answered 6 / 13 (46.2%) correctly.\n"
     ]
    },
    {
     "name": "stderr",
     "output_type": "stream",
     "text": [
      "\n"
     ]
    },
    {
     "data": {
      "text/html": [
       "<style type=\"text/css\">\n",
       "#T_45f89 th {\n",
       "  text-align: left;\n",
       "}\n",
       "#T_45f89 td {\n",
       "  text-align: left;\n",
       "}\n",
       "</style>\n",
       "<table id=\"T_45f89\">\n",
       "  <thead>\n",
       "    <tr>\n",
       "      <th class=\"blank level0\" >&nbsp;</th>\n",
       "      <th id=\"T_45f89_level0_col0\" class=\"col_heading level0 col0\" >question</th>\n",
       "      <th id=\"T_45f89_level0_col1\" class=\"col_heading level0 col1\" >answer</th>\n",
       "      <th id=\"T_45f89_level0_col2\" class=\"col_heading level0 col2\" >prediction</th>\n",
       "      <th id=\"T_45f89_level0_col3\" class=\"col_heading level0 col3\" >correct</th>\n",
       "    </tr>\n",
       "  </thead>\n",
       "  <tbody>\n",
       "    <tr>\n",
       "      <th id=\"T_45f89_level0_row0\" class=\"row_heading level0 row0\" >0</th>\n",
       "      <td id=\"T_45f89_row0_col0\" class=\"data row0 col0\" >Who has a broader scope of profession: E. L. Doctorow or Julia Peterkin?</td>\n",
       "      <td id=\"T_45f89_row0_col1\" class=\"data row0 col1\" >['E. L. Doctorow', 'E.L. Doctorow', 'Doctorow']</td>\n",
       "      <td id=\"T_45f89_row0_col2\" class=\"data row0 col2\" >E. L. Doctorow has a broader scope of profession as he is known for his works of historical fiction, while Julia Peterkin is primarily known for her novels about the plantation South and the African-American experience.</td>\n",
       "      <td id=\"T_45f89_row0_col3\" class=\"data row0 col3\" >❌</td>\n",
       "    </tr>\n",
       "    <tr>\n",
       "      <th id=\"T_45f89_level0_row1\" class=\"row_heading level0 row1\" >1</th>\n",
       "      <td id=\"T_45f89_row1_col0\" class=\"data row1 col0\" >What documentary about the Gilgo Beach Killer debuted on A&E?</td>\n",
       "      <td id=\"T_45f89_row1_col1\" class=\"data row1 col1\" >['The Killing Season']</td>\n",
       "      <td id=\"T_45f89_row1_col2\" class=\"data row1 col2\" >\"The Killing Season\"</td>\n",
       "      <td id=\"T_45f89_row1_col3\" class=\"data row1 col3\" >✔️</td>\n",
       "    </tr>\n",
       "    <tr>\n",
       "      <th id=\"T_45f89_level0_row2\" class=\"row_heading level0 row2\" >2</th>\n",
       "      <td id=\"T_45f89_row2_col0\" class=\"data row2 col0\" >Right Back At It Again contains lyrics co-written by the singer born in what city?</td>\n",
       "      <td id=\"T_45f89_row2_col1\" class=\"data row2 col1\" >['Gainesville, Florida', 'Gainesville']</td>\n",
       "      <td id=\"T_45f89_row2_col2\" class=\"data row2 col2\" >Ocala</td>\n",
       "      <td id=\"T_45f89_row2_col3\" class=\"data row2 col3\" >❌</td>\n",
       "    </tr>\n",
       "    <tr>\n",
       "      <th id=\"T_45f89_level0_row3\" class=\"row_heading level0 row3\" >3</th>\n",
       "      <td id=\"T_45f89_row3_col0\" class=\"data row3 col0\" >What year was the party of the winner of the 1971 San Francisco mayoral election founded?</td>\n",
       "      <td id=\"T_45f89_row3_col1\" class=\"data row3 col1\" >['1828']</td>\n",
       "      <td id=\"T_45f89_row3_col2\" class=\"data row3 col2\" >Democratic Party</td>\n",
       "      <td id=\"T_45f89_row3_col3\" class=\"data row3 col3\" >❌</td>\n",
       "    </tr>\n",
       "    <tr>\n",
       "      <th id=\"T_45f89_level0_row4\" class=\"row_heading level0 row4\" >4</th>\n",
       "      <td id=\"T_45f89_row4_col0\" class=\"data row4 col0\" >Which author is English: John Braine or Studs Terkel?</td>\n",
       "      <td id=\"T_45f89_row4_col1\" class=\"data row4 col1\" >['John Braine']</td>\n",
       "      <td id=\"T_45f89_row4_col2\" class=\"data row4 col2\" >John Braine</td>\n",
       "      <td id=\"T_45f89_row4_col3\" class=\"data row4 col3\" >✔️</td>\n",
       "    </tr>\n",
       "    <tr>\n",
       "      <th id=\"T_45f89_level0_row5\" class=\"row_heading level0 row5\" >5</th>\n",
       "      <td id=\"T_45f89_row5_col0\" class=\"data row5 col0\" >Anthony Dirrell is the brother of which super middleweight title holder?</td>\n",
       "      <td id=\"T_45f89_row5_col1\" class=\"data row5 col1\" >['Andre Dirrell']</td>\n",
       "      <td id=\"T_45f89_row5_col2\" class=\"data row5 col2\" >Andre Dirrell</td>\n",
       "      <td id=\"T_45f89_row5_col3\" class=\"data row5 col3\" >✔️</td>\n",
       "    </tr>\n",
       "    <tr>\n",
       "      <th id=\"T_45f89_level0_row6\" class=\"row_heading level0 row6\" >6</th>\n",
       "      <td id=\"T_45f89_row6_col0\" class=\"data row6 col0\" >In which city is the sports nutrition business established by Oliver Cookson based ?</td>\n",
       "      <td id=\"T_45f89_row6_col1\" class=\"data row6 col1\" >['Cheshire', 'Cheshire, UK']</td>\n",
       "      <td id=\"T_45f89_row6_col2\" class=\"data row6 col2\" >Cheshire, UK</td>\n",
       "      <td id=\"T_45f89_row6_col3\" class=\"data row6 col3\" >✔️</td>\n",
       "    </tr>\n",
       "    <tr>\n",
       "      <th id=\"T_45f89_level0_row7\" class=\"row_heading level0 row7\" >7</th>\n",
       "      <td id=\"T_45f89_row7_col0\" class=\"data row7 col0\" >Find the birth date of the actor who played roles in First Wives Club and Searching for the Elephant.</td>\n",
       "      <td id=\"T_45f89_row7_col1\" class=\"data row7 col1\" >['February 13, 1980']</td>\n",
       "      <td id=\"T_45f89_row7_col2\" class=\"data row7 col2\" >Peter McEnery</td>\n",
       "      <td id=\"T_45f89_row7_col3\" class=\"data row7 col3\" >❌</td>\n",
       "    </tr>\n",
       "    <tr>\n",
       "      <th id=\"T_45f89_level0_row8\" class=\"row_heading level0 row8\" >8</th>\n",
       "      <td id=\"T_45f89_row8_col0\" class=\"data row8 col0\" >Kyle Moran was born in the town on what river?</td>\n",
       "      <td id=\"T_45f89_row8_col1\" class=\"data row8 col1\" >['Castletown', 'Castletown River']</td>\n",
       "      <td id=\"T_45f89_row8_col2\" class=\"data row8 col2\" >N/A (The town on the river is not mentioned in the provided context)</td>\n",
       "      <td id=\"T_45f89_row8_col3\" class=\"data row8 col3\" >❌</td>\n",
       "    </tr>\n",
       "    <tr>\n",
       "      <th id=\"T_45f89_level0_row9\" class=\"row_heading level0 row9\" >9</th>\n",
       "      <td id=\"T_45f89_row9_col0\" class=\"data row9 col0\" >What is the name of one branch of Robert D. Braun's speciality?</td>\n",
       "      <td id=\"T_45f89_row9_col1\" class=\"data row9 col1\" >['aeronautical engineering', 'astronautical engineering', 'aeronautics', 'astronautics']</td>\n",
       "      <td id=\"T_45f89_row9_col2\" class=\"data row9 col2\" >Planetary exploration.</td>\n",
       "      <td id=\"T_45f89_row9_col3\" class=\"data row9 col3\" >❌</td>\n",
       "    </tr>\n",
       "    <tr>\n",
       "      <th id=\"T_45f89_level0_row10\" class=\"row_heading level0 row10\" >10</th>\n",
       "      <td id=\"T_45f89_row10_col0\" class=\"data row10 col0\" >Where was the actress who played the niece in the Priest film born?</td>\n",
       "      <td id=\"T_45f89_row10_col1\" class=\"data row10 col1\" >['Surrey', 'Guildford, Surrey']</td>\n",
       "      <td id=\"T_45f89_row10_col2\" class=\"data row10 col2\" >The birthplace of the actress who played the niece in the Priest film is not provided in the given sources.</td>\n",
       "      <td id=\"T_45f89_row10_col3\" class=\"data row10 col3\" >❌</td>\n",
       "    </tr>\n",
       "    <tr>\n",
       "      <th id=\"T_45f89_level0_row11\" class=\"row_heading level0 row11\" >11</th>\n",
       "      <td id=\"T_45f89_row11_col0\" class=\"data row11 col0\" >Name the movie in which the daughter of Noel Harrison plays Violet Trefusis.</td>\n",
       "      <td id=\"T_45f89_row11_col1\" class=\"data row11 col1\" >['Portrait of a Marriage']</td>\n",
       "      <td id=\"T_45f89_row11_col2\" class=\"data row11 col2\" >\"Portrait of a Marriage\"</td>\n",
       "      <td id=\"T_45f89_row11_col3\" class=\"data row11 col3\" >✔️</td>\n",
       "    </tr>\n",
       "    <tr>\n",
       "      <th id=\"T_45f89_level0_row12\" class=\"row_heading level0 row12\" >12</th>\n",
       "      <td id=\"T_45f89_row12_col0\" class=\"data row12 col0\" >What year was the father of the Princes in the Tower born?</td>\n",
       "      <td id=\"T_45f89_row12_col1\" class=\"data row12 col1\" >['1442']</td>\n",
       "      <td id=\"T_45f89_row12_col2\" class=\"data row12 col2\" >1442</td>\n",
       "      <td id=\"T_45f89_row12_col3\" class=\"data row12 col3\" >✔️</td>\n",
       "    </tr>\n",
       "  </tbody>\n",
       "</table>\n"
      ],
      "text/plain": [
       "<pandas.io.formats.style.Styler at 0x123cfdd10>"
      ]
     },
     "metadata": {},
     "output_type": "display_data"
    },
    {
     "data": {
      "text/plain": [
       "46.2"
      ]
     },
     "execution_count": 50,
     "metadata": {},
     "output_type": "execute_result"
    }
   ],
   "source": [
    "evaluate(retrieve_then_read_QA_v2, dev)"
   ]
  },
  {
   "attachments": {},
   "cell_type": "markdown",
   "id": "56433ec6",
   "metadata": {},
   "source": [
    "# Program 4: Multi-Hop Retrieval"
   ]
  },
  {
   "cell_type": "code",
   "execution_count": 85,
   "id": "4dc40d10",
   "metadata": {},
   "outputs": [],
   "source": [
    "SearchRationale = dsp.Type(\n",
    "    prefix=\"Rationale: Let's think step by step. To answer this question, we first need to find out\",\n",
    "    desc=\"${the missing information}\"\n",
    ")\n",
    "\n",
    "SearchQuery = dsp.Type(\n",
    "    prefix=\"Search Query:\",\n",
    "    desc=\"${a simple question for seeking the missing information}\"\n",
    ")\n",
    "\n",
    "rewrite_template = dsp.Template(\n",
    "    instructions=\"Write a search query that will help answer a complex question.\",\n",
    "    question=Question(), rationale=SearchRationale(), query=SearchQuery()\n",
    ")"
   ]
  },
  {
   "cell_type": "code",
   "execution_count": 86,
   "id": "9fb3093c",
   "metadata": {},
   "outputs": [],
   "source": [
    "CondenseRationale = dsp.Type(\n",
    "    prefix=\"Rationale: Let's think step by step. Based on the context, we have learned the following.\",\n",
    "    desc=\"${information from the context that provides useful clues}\"\n",
    ")\n",
    "\n",
    "hop_template = dsp.Template(\n",
    "    instructions=rewrite_template.instructions,\n",
    "    context=Context(), question=Question(), rationale=CondenseRationale(), query=SearchQuery()\n",
    ")"
   ]
  },
  {
   "cell_type": "code",
   "execution_count": 87,
   "id": "6c6cabf0",
   "metadata": {},
   "outputs": [],
   "source": [
    "from dsp.utils import deduplicate\n",
    "\n",
    "@dsp.transformation\n",
    "def multihop_search_v1(example: dsp.Example, max_hops=2, k=2) -> dsp.Example:\n",
    "    example.context = []\n",
    "    \n",
    "    for hop in range(max_hops):\n",
    "        # Generate a query based\n",
    "        template = rewrite_template if hop == 0 else hop_template\n",
    "        example, completions = dsp.generate(template)(example, stage=f'h{hop}')\n",
    "\n",
    "        # Retrieve k results based on the query generated\n",
    "        passages = dsp.retrieve(completions.query, k=k)\n",
    "\n",
    "        # Update the context by concatenating old and new passages\n",
    "        example.context = deduplicate(example.context + passages)\n",
    "\n",
    "    return example\n",
    "\n",
    "\n",
    "def multihop_QA_v1(question: str) -> str:\n",
    "    demos = dsp.sample(train, k=7)\n",
    "    x = dsp.Example(question=question, demos=demos)\n",
    "    \n",
    "    x = multihop_search_v1(x)\n",
    "    x = QA_predict(x, sc=False)\n",
    "\n",
    "    return x.answer"
   ]
  },
  {
   "attachments": {},
   "cell_type": "markdown",
   "id": "b17866bf",
   "metadata": {},
   "source": [
    "## Chat Adapter with system_turn=False, multi_turn=False, strict_turn=False"
   ]
  },
  {
   "cell_type": "code",
   "execution_count": 88,
   "id": "5a82961f",
   "metadata": {},
   "outputs": [
    {
     "name": "stdout",
     "output_type": "stream",
     "text": [
      "\n",
      "\n",
      "\n",
      "\n",
      "{'model': 'gpt-3.5-turbo-0613', 'messages': [{'role': 'user', 'content': 'Answer questions with short factoid answers.\\n\\n---\\n\\nQuestion: Which award did the first book of Gary Zukav receive?\\nAnswer: U.S. National Book Award\\n\\nQuestion: The heir to the Du Pont family fortune sponsored what wrestling team?\\nAnswer: Foxcatcher\\n\\nQuestion: Who was the director of the 2009 movie featuring Peter Outerbridge as William Easton?\\nAnswer: Kevin Greutert\\n\\nQuestion: Who produced the album that included a re-recording of \"Lithium\"?\\nAnswer: Butch Vig\\n\\nQuestion: What city was the victim of Joseph Druces working in?\\nAnswer: Boston, Massachusetts\\n\\nQuestion: In what year was the star of To Hell and Back born?\\nAnswer: 1925\\n\\n---\\n\\nFollow the following format.\\n\\nContext:\\n${sources that may contain relevant content}\\n\\nQuestion: ${the question to be answered}\\n\\nRationale: Let\\'s think step by step. ${a step-by-step deduction that identifies the correct response, which will be provided below}\\n\\nAnswer: ${a short factoid answer, often between 1 and 5 words}\\n\\n---\\n\\nContext:\\n[1] «Long Island serial killer | Long Island serial killer The Long Island serial killer (also referred to as LISK, the Gilgo Beach Killer or the Craigslist Ripper) is an unidentified suspected serial killer who is believed to have murdered 10 to 16 people associated with prostitution, over a period of nearly 20 years, and dumped their bodies along the Ocean Parkway, near the remote Long Island, New York beach towns of Gilgo and Oak Beach in Suffolk County, and the area of Jones Beach State Park in Nassau County. The remains of four victims were found in December 2010, while six more sets of remains»\\n[2] «Joel Rifkin | to the Gilgo Beach Killer. In an April 2011 prison interview with \"Newsday\", Rifkin denied having anything to do with the remains discovered in 2011. Experts and victims\\' rights advocates, however, believe that those denials have no value. Rifkin\\'s birth mother was a 20-year-old college student, and his biological father was a 24-year-old college student and army veteran. At three weeks old he was adopted by an upper-middle class Long Island couple, on February 14, 1959. His adoptive father, Benjamin Rifkin, was of Russian Jewish descent and his adoptive mother, Jeanne (Granelles), of Spanish descent, converted to Judaism when she»\\n[3] «Lyle and Erik Menendez | documentary on Tammi, \"Mrs. Menéndez\". In late 2017, A&E aired a five-part documentary, titled \"The Menendez Murders: Erik Tells All\", in which Erik, via telephone, recalls the murders and the aftermath. The series also provides never-before-seen photos and new interviews with prosecutors, law enforcement, close family, friends and medical experts. The Menéndez brothers were featured in a 2017 documentary titled \"Truth and Lies: The Menéndez Brothers — American Sons, American Murderers\" on ABC, as well as on an episode of \"Snapped\" in 2016. The murders are the subjects of multiple docu-dramas, including the Lifetime movie \"\" (2017), as well as»\\n\\nQuestion: What documentary about the Gilgo Beach Killer debuted on A&E?\\n\\nRationale: Let\\'s think step by step.'}]}\u001b[32mStep 1: The question asks about a documentary about the Gilgo Beach Killer.\n",
      "Step 2: The context mentions a documentary on the Gilgo Beach Killer that aired on A&E.\n",
      "Step 3: Therefore, the documentary in question is the one mentioned in the context.\n",
      "\n",
      "Answer: The Menendez Murders: Erik Tells All\u001b[0m\n",
      "\n",
      "\n",
      "\n"
     ]
    },
    {
     "data": {
      "text/plain": [
       "('The Menendez Murders: Erik Tells All', None)"
      ]
     },
     "execution_count": 88,
     "metadata": {},
     "output_type": "execute_result"
    }
   ],
   "source": [
    "dsp.settings.configure(lm=turbo, rm=rm, adapter=ChatAdapter(system_turn=False, multi_turn=False, strict_turn=False))\n",
    "multihop_QA_v1(dev[1].question), turbo.inspect_history(n=1)"
   ]
  },
  {
   "cell_type": "code",
   "execution_count": 89,
   "id": "9b4f2e4b",
   "metadata": {},
   "outputs": [
    {
     "name": "stderr",
     "output_type": "stream",
     "text": [
      "100%|██████████| 13/13 [00:00<00:00, 1358.70it/s]"
     ]
    },
    {
     "name": "stdout",
     "output_type": "stream",
     "text": [
      "Answered 8 / 13 (61.5%) correctly.\n"
     ]
    },
    {
     "name": "stderr",
     "output_type": "stream",
     "text": [
      "\n"
     ]
    },
    {
     "data": {
      "text/html": [
       "<style type=\"text/css\">\n",
       "#T_8ebd5 th {\n",
       "  text-align: left;\n",
       "}\n",
       "#T_8ebd5 td {\n",
       "  text-align: left;\n",
       "}\n",
       "</style>\n",
       "<table id=\"T_8ebd5\">\n",
       "  <thead>\n",
       "    <tr>\n",
       "      <th class=\"blank level0\" >&nbsp;</th>\n",
       "      <th id=\"T_8ebd5_level0_col0\" class=\"col_heading level0 col0\" >question</th>\n",
       "      <th id=\"T_8ebd5_level0_col1\" class=\"col_heading level0 col1\" >answer</th>\n",
       "      <th id=\"T_8ebd5_level0_col2\" class=\"col_heading level0 col2\" >prediction</th>\n",
       "      <th id=\"T_8ebd5_level0_col3\" class=\"col_heading level0 col3\" >correct</th>\n",
       "    </tr>\n",
       "  </thead>\n",
       "  <tbody>\n",
       "    <tr>\n",
       "      <th id=\"T_8ebd5_level0_row0\" class=\"row_heading level0 row0\" >0</th>\n",
       "      <td id=\"T_8ebd5_row0_col0\" class=\"data row0 col0\" >Who has a broader scope of profession: E. L. Doctorow or Julia Peterkin?</td>\n",
       "      <td id=\"T_8ebd5_row0_col1\" class=\"data row0 col1\" >['E. L. Doctorow', 'E.L. Doctorow', 'Doctorow']</td>\n",
       "      <td id=\"T_8ebd5_row0_col2\" class=\"data row0 col2\" >E. L. Doctorow</td>\n",
       "      <td id=\"T_8ebd5_row0_col3\" class=\"data row0 col3\" >✔️</td>\n",
       "    </tr>\n",
       "    <tr>\n",
       "      <th id=\"T_8ebd5_level0_row1\" class=\"row_heading level0 row1\" >1</th>\n",
       "      <td id=\"T_8ebd5_row1_col0\" class=\"data row1 col0\" >What documentary about the Gilgo Beach Killer debuted on A&E?</td>\n",
       "      <td id=\"T_8ebd5_row1_col1\" class=\"data row1 col1\" >['The Killing Season']</td>\n",
       "      <td id=\"T_8ebd5_row1_col2\" class=\"data row1 col2\" >The Menendez Murders: Erik Tells All</td>\n",
       "      <td id=\"T_8ebd5_row1_col3\" class=\"data row1 col3\" >❌</td>\n",
       "    </tr>\n",
       "    <tr>\n",
       "      <th id=\"T_8ebd5_level0_row2\" class=\"row_heading level0 row2\" >2</th>\n",
       "      <td id=\"T_8ebd5_row2_col0\" class=\"data row2 col0\" >Right Back At It Again contains lyrics co-written by the singer born in what city?</td>\n",
       "      <td id=\"T_8ebd5_row2_col1\" class=\"data row2 col1\" >['Gainesville, Florida', 'Gainesville']</td>\n",
       "      <td id=\"T_8ebd5_row2_col2\" class=\"data row2 col2\" >Gainesville</td>\n",
       "      <td id=\"T_8ebd5_row2_col3\" class=\"data row2 col3\" >✔️</td>\n",
       "    </tr>\n",
       "    <tr>\n",
       "      <th id=\"T_8ebd5_level0_row3\" class=\"row_heading level0 row3\" >3</th>\n",
       "      <td id=\"T_8ebd5_row3_col0\" class=\"data row3 col0\" >What year was the party of the winner of the 1971 San Francisco mayoral election founded?</td>\n",
       "      <td id=\"T_8ebd5_row3_col1\" class=\"data row3 col1\" >['1828']</td>\n",
       "      <td id=\"T_8ebd5_row3_col2\" class=\"data row3 col2\" >The party of Joseph Alioto, the winner of the 1971 San Francisco mayoral election, was not mentioned in the provided context.</td>\n",
       "      <td id=\"T_8ebd5_row3_col3\" class=\"data row3 col3\" >❌</td>\n",
       "    </tr>\n",
       "    <tr>\n",
       "      <th id=\"T_8ebd5_level0_row4\" class=\"row_heading level0 row4\" >4</th>\n",
       "      <td id=\"T_8ebd5_row4_col0\" class=\"data row4 col0\" >Which author is English: John Braine or Studs Terkel?</td>\n",
       "      <td id=\"T_8ebd5_row4_col1\" class=\"data row4 col1\" >['John Braine']</td>\n",
       "      <td id=\"T_8ebd5_row4_col2\" class=\"data row4 col2\" >John Braine</td>\n",
       "      <td id=\"T_8ebd5_row4_col3\" class=\"data row4 col3\" >✔️</td>\n",
       "    </tr>\n",
       "    <tr>\n",
       "      <th id=\"T_8ebd5_level0_row5\" class=\"row_heading level0 row5\" >5</th>\n",
       "      <td id=\"T_8ebd5_row5_col0\" class=\"data row5 col0\" >Anthony Dirrell is the brother of which super middleweight title holder?</td>\n",
       "      <td id=\"T_8ebd5_row5_col1\" class=\"data row5 col1\" >['Andre Dirrell']</td>\n",
       "      <td id=\"T_8ebd5_row5_col2\" class=\"data row5 col2\" >Andre Dirrell</td>\n",
       "      <td id=\"T_8ebd5_row5_col3\" class=\"data row5 col3\" >✔️</td>\n",
       "    </tr>\n",
       "    <tr>\n",
       "      <th id=\"T_8ebd5_level0_row6\" class=\"row_heading level0 row6\" >6</th>\n",
       "      <td id=\"T_8ebd5_row6_col0\" class=\"data row6 col0\" >In which city is the sports nutrition business established by Oliver Cookson based ?</td>\n",
       "      <td id=\"T_8ebd5_row6_col1\" class=\"data row6 col1\" >['Cheshire', 'Cheshire, UK']</td>\n",
       "      <td id=\"T_8ebd5_row6_col2\" class=\"data row6 col2\" >Cheshire, UK</td>\n",
       "      <td id=\"T_8ebd5_row6_col3\" class=\"data row6 col3\" >✔️</td>\n",
       "    </tr>\n",
       "    <tr>\n",
       "      <th id=\"T_8ebd5_level0_row7\" class=\"row_heading level0 row7\" >7</th>\n",
       "      <td id=\"T_8ebd5_row7_col0\" class=\"data row7 col0\" >Find the birth date of the actor who played roles in First Wives Club and Searching for the Elephant.</td>\n",
       "      <td id=\"T_8ebd5_row7_col1\" class=\"data row7 col1\" >['February 13, 1980']</td>\n",
       "      <td id=\"T_8ebd5_row7_col2\" class=\"data row7 col2\" >November 4, 1968</td>\n",
       "      <td id=\"T_8ebd5_row7_col3\" class=\"data row7 col3\" >❌</td>\n",
       "    </tr>\n",
       "    <tr>\n",
       "      <th id=\"T_8ebd5_level0_row8\" class=\"row_heading level0 row8\" >8</th>\n",
       "      <td id=\"T_8ebd5_row8_col0\" class=\"data row8 col0\" >Kyle Moran was born in the town on what river?</td>\n",
       "      <td id=\"T_8ebd5_row8_col1\" class=\"data row8 col1\" >['Castletown', 'Castletown River']</td>\n",
       "      <td id=\"T_8ebd5_row8_col2\" class=\"data row8 col2\" >Castletown River</td>\n",
       "      <td id=\"T_8ebd5_row8_col3\" class=\"data row8 col3\" >✔️</td>\n",
       "    </tr>\n",
       "    <tr>\n",
       "      <th id=\"T_8ebd5_level0_row9\" class=\"row_heading level0 row9\" >9</th>\n",
       "      <td id=\"T_8ebd5_row9_col0\" class=\"data row9 col0\" >What is the name of one branch of Robert D. Braun's speciality?</td>\n",
       "      <td id=\"T_8ebd5_row9_col1\" class=\"data row9 col1\" >['aeronautical engineering', 'astronautical engineering', 'aeronautics', 'astronautics']</td>\n",
       "      <td id=\"T_8ebd5_row9_col2\" class=\"data row9 col2\" >Planetary exploration</td>\n",
       "      <td id=\"T_8ebd5_row9_col3\" class=\"data row9 col3\" >❌</td>\n",
       "    </tr>\n",
       "    <tr>\n",
       "      <th id=\"T_8ebd5_level0_row10\" class=\"row_heading level0 row10\" >10</th>\n",
       "      <td id=\"T_8ebd5_row10_col0\" class=\"data row10 col0\" >Where was the actress who played the niece in the Priest film born?</td>\n",
       "      <td id=\"T_8ebd5_row10_col1\" class=\"data row10 col1\" >['Surrey', 'Guildford, Surrey']</td>\n",
       "      <td id=\"T_8ebd5_row10_col2\" class=\"data row10 col2\" >Lily Collins was born in Guildford, Surrey, England.</td>\n",
       "      <td id=\"T_8ebd5_row10_col3\" class=\"data row10 col3\" >❌</td>\n",
       "    </tr>\n",
       "    <tr>\n",
       "      <th id=\"T_8ebd5_level0_row11\" class=\"row_heading level0 row11\" >11</th>\n",
       "      <td id=\"T_8ebd5_row11_col0\" class=\"data row11 col0\" >Name the movie in which the daughter of Noel Harrison plays Violet Trefusis.</td>\n",
       "      <td id=\"T_8ebd5_row11_col1\" class=\"data row11 col1\" >['Portrait of a Marriage']</td>\n",
       "      <td id=\"T_8ebd5_row11_col2\" class=\"data row11 col2\" >Portrait of a Marriage</td>\n",
       "      <td id=\"T_8ebd5_row11_col3\" class=\"data row11 col3\" >✔️</td>\n",
       "    </tr>\n",
       "    <tr>\n",
       "      <th id=\"T_8ebd5_level0_row12\" class=\"row_heading level0 row12\" >12</th>\n",
       "      <td id=\"T_8ebd5_row12_col0\" class=\"data row12 col0\" >What year was the father of the Princes in the Tower born?</td>\n",
       "      <td id=\"T_8ebd5_row12_col1\" class=\"data row12 col1\" >['1442']</td>\n",
       "      <td id=\"T_8ebd5_row12_col2\" class=\"data row12 col2\" >1442</td>\n",
       "      <td id=\"T_8ebd5_row12_col3\" class=\"data row12 col3\" >✔️</td>\n",
       "    </tr>\n",
       "  </tbody>\n",
       "</table>\n"
      ],
      "text/plain": [
       "<pandas.io.formats.style.Styler at 0x1269ecfd0>"
      ]
     },
     "metadata": {},
     "output_type": "display_data"
    },
    {
     "data": {
      "text/plain": [
       "61.5"
      ]
     },
     "execution_count": 89,
     "metadata": {},
     "output_type": "execute_result"
    }
   ],
   "source": [
    "evaluate(multihop_QA_v1, dev)"
   ]
  },
  {
   "attachments": {},
   "cell_type": "markdown",
   "id": "bd54d75e",
   "metadata": {},
   "source": [
    "## Chat Adapter with system_turn=True, multi_turn=False, strict_turn=False"
   ]
  },
  {
   "cell_type": "code",
   "execution_count": 90,
   "id": "a4ea961b",
   "metadata": {},
   "outputs": [
    {
     "name": "stdout",
     "output_type": "stream",
     "text": [
      "\n",
      "\n",
      "\n",
      "\n",
      "{'model': 'gpt-3.5-turbo-0613', 'messages': [{'role': 'system', 'content': 'Answer questions with short factoid answers.'}, {'role': 'user', 'content': 'Question: Which award did the first book of Gary Zukav receive?\\nAnswer: U.S. National Book Award\\n\\nQuestion: The heir to the Du Pont family fortune sponsored what wrestling team?\\nAnswer: Foxcatcher\\n\\nQuestion: Who was the director of the 2009 movie featuring Peter Outerbridge as William Easton?\\nAnswer: Kevin Greutert\\n\\nQuestion: Who produced the album that included a re-recording of \"Lithium\"?\\nAnswer: Butch Vig\\n\\nQuestion: What city was the victim of Joseph Druces working in?\\nAnswer: Boston, Massachusetts\\n\\nQuestion: In what year was the star of To Hell and Back born?\\nAnswer: 1925\\n\\n---\\n\\nFollow the following format.\\n\\nContext:\\n${sources that may contain relevant content}\\n\\nQuestion: ${the question to be answered}\\n\\nRationale: Let\\'s think step by step. ${a step-by-step deduction that identifies the correct response, which will be provided below}\\n\\nAnswer: ${a short factoid answer, often between 1 and 5 words}\\n\\n---\\n\\nContext:\\n[1] «Long Island serial killer | Long Island serial killer The Long Island serial killer (also referred to as LISK, the Gilgo Beach Killer or the Craigslist Ripper) is an unidentified suspected serial killer who is believed to have murdered 10 to 16 people associated with prostitution, over a period of nearly 20 years, and dumped their bodies along the Ocean Parkway, near the remote Long Island, New York beach towns of Gilgo and Oak Beach in Suffolk County, and the area of Jones Beach State Park in Nassau County. The remains of four victims were found in December 2010, while six more sets of remains»\\n[2] «Joel Rifkin | to the Gilgo Beach Killer. In an April 2011 prison interview with \"Newsday\", Rifkin denied having anything to do with the remains discovered in 2011. Experts and victims\\' rights advocates, however, believe that those denials have no value. Rifkin\\'s birth mother was a 20-year-old college student, and his biological father was a 24-year-old college student and army veteran. At three weeks old he was adopted by an upper-middle class Long Island couple, on February 14, 1959. His adoptive father, Benjamin Rifkin, was of Russian Jewish descent and his adoptive mother, Jeanne (Granelles), of Spanish descent, converted to Judaism when she»\\n[3] «Lyle and Erik Menendez | documentary on Tammi, \"Mrs. Menéndez\". In late 2017, A&E aired a five-part documentary, titled \"The Menendez Murders: Erik Tells All\", in which Erik, via telephone, recalls the murders and the aftermath. The series also provides never-before-seen photos and new interviews with prosecutors, law enforcement, close family, friends and medical experts. The Menéndez brothers were featured in a 2017 documentary titled \"Truth and Lies: The Menéndez Brothers — American Sons, American Murderers\" on ABC, as well as on an episode of \"Snapped\" in 2016. The murders are the subjects of multiple docu-dramas, including the Lifetime movie \"\" (2017), as well as»\\n\\nQuestion: What documentary about the Gilgo Beach Killer debuted on A&E?\\n\\nRationale: Let\\'s think step by step.'}]}\u001b[32mStep 1: The question asks about a documentary about the Gilgo Beach Killer.\n",
      "Step 2: The context mentions a documentary on the Gilgo Beach Killer that aired on A&E.\n",
      "Step 3: Therefore, the documentary about the Gilgo Beach Killer that debuted on A&E is the one mentioned in the context.\n",
      "\n",
      "Answer: \"The Menendez Murders: Erik Tells All\"\u001b[0m\n",
      "\n",
      "\n",
      "\n"
     ]
    },
    {
     "data": {
      "text/plain": [
       "('\"The Menendez Murders: Erik Tells All\"', None)"
      ]
     },
     "execution_count": 90,
     "metadata": {},
     "output_type": "execute_result"
    }
   ],
   "source": [
    "dsp.settings.configure(lm=turbo, rm=rm, adapter=ChatAdapter(system_turn=True, multi_turn=False, strict_turn=False))\n",
    "multihop_QA_v1(dev[1].question), turbo.inspect_history(n=1)"
   ]
  },
  {
   "cell_type": "code",
   "execution_count": 91,
   "id": "d87c0050",
   "metadata": {},
   "outputs": [
    {
     "name": "stderr",
     "output_type": "stream",
     "text": [
      "  0%|          | 0/13 [00:10<?, ?it/s]\n"
     ]
    },
    {
     "ename": "ConnectTimeout",
     "evalue": "HTTPConnectionPool(host='ec2-44-228-128-229.us-west-2.compute.amazonaws.com', port=8893): Max retries exceeded with url: /api/search?query=What+are+the+professions+of+E.+L.+Doctorow+and+Julia+Peterkin%3F&k=2 (Caused by ConnectTimeoutError(<urllib3.connection.HTTPConnection object at 0x126a4cf50>, 'Connection to ec2-44-228-128-229.us-west-2.compute.amazonaws.com timed out. (connect timeout=10)'))",
     "output_type": "error",
     "traceback": [
      "\u001b[0;31m---------------------------------------------------------------------------\u001b[0m",
      "\u001b[0;31mTimeoutError\u001b[0m                              Traceback (most recent call last)",
      "File \u001b[0;32m~/.pyenv/versions/dsp-env/lib/python3.11/site-packages/urllib3/connection.py:200\u001b[0m, in \u001b[0;36mHTTPConnection._new_conn\u001b[0;34m(self)\u001b[0m\n\u001b[1;32m    199\u001b[0m \u001b[39mtry\u001b[39;00m:\n\u001b[0;32m--> 200\u001b[0m     sock \u001b[39m=\u001b[39m connection\u001b[39m.\u001b[39;49mcreate_connection(\n\u001b[1;32m    201\u001b[0m         (\u001b[39mself\u001b[39;49m\u001b[39m.\u001b[39;49m_dns_host, \u001b[39mself\u001b[39;49m\u001b[39m.\u001b[39;49mport),\n\u001b[1;32m    202\u001b[0m         \u001b[39mself\u001b[39;49m\u001b[39m.\u001b[39;49mtimeout,\n\u001b[1;32m    203\u001b[0m         source_address\u001b[39m=\u001b[39;49m\u001b[39mself\u001b[39;49m\u001b[39m.\u001b[39;49msource_address,\n\u001b[1;32m    204\u001b[0m         socket_options\u001b[39m=\u001b[39;49m\u001b[39mself\u001b[39;49m\u001b[39m.\u001b[39;49msocket_options,\n\u001b[1;32m    205\u001b[0m     )\n\u001b[1;32m    206\u001b[0m \u001b[39mexcept\u001b[39;00m socket\u001b[39m.\u001b[39mgaierror \u001b[39mas\u001b[39;00m e:\n",
      "File \u001b[0;32m~/.pyenv/versions/dsp-env/lib/python3.11/site-packages/urllib3/util/connection.py:85\u001b[0m, in \u001b[0;36mcreate_connection\u001b[0;34m(address, timeout, source_address, socket_options)\u001b[0m\n\u001b[1;32m     84\u001b[0m \u001b[39mtry\u001b[39;00m:\n\u001b[0;32m---> 85\u001b[0m     \u001b[39mraise\u001b[39;00m err\n\u001b[1;32m     86\u001b[0m \u001b[39mfinally\u001b[39;00m:\n\u001b[1;32m     87\u001b[0m     \u001b[39m# Break explicitly a reference cycle\u001b[39;00m\n",
      "File \u001b[0;32m~/.pyenv/versions/dsp-env/lib/python3.11/site-packages/urllib3/util/connection.py:73\u001b[0m, in \u001b[0;36mcreate_connection\u001b[0;34m(address, timeout, source_address, socket_options)\u001b[0m\n\u001b[1;32m     72\u001b[0m     sock\u001b[39m.\u001b[39mbind(source_address)\n\u001b[0;32m---> 73\u001b[0m sock\u001b[39m.\u001b[39;49mconnect(sa)\n\u001b[1;32m     74\u001b[0m \u001b[39m# Break explicitly a reference cycle\u001b[39;00m\n",
      "\u001b[0;31mTimeoutError\u001b[0m: timed out",
      "\nThe above exception was the direct cause of the following exception:\n",
      "\u001b[0;31mConnectTimeoutError\u001b[0m                       Traceback (most recent call last)",
      "File \u001b[0;32m~/.pyenv/versions/dsp-env/lib/python3.11/site-packages/urllib3/connectionpool.py:790\u001b[0m, in \u001b[0;36mHTTPConnectionPool.urlopen\u001b[0;34m(self, method, url, body, headers, retries, redirect, assert_same_host, timeout, pool_timeout, release_conn, chunked, body_pos, preload_content, decode_content, **response_kw)\u001b[0m\n\u001b[1;32m    789\u001b[0m \u001b[39m# Make the request on the HTTPConnection object\u001b[39;00m\n\u001b[0;32m--> 790\u001b[0m response \u001b[39m=\u001b[39m \u001b[39mself\u001b[39;49m\u001b[39m.\u001b[39;49m_make_request(\n\u001b[1;32m    791\u001b[0m     conn,\n\u001b[1;32m    792\u001b[0m     method,\n\u001b[1;32m    793\u001b[0m     url,\n\u001b[1;32m    794\u001b[0m     timeout\u001b[39m=\u001b[39;49mtimeout_obj,\n\u001b[1;32m    795\u001b[0m     body\u001b[39m=\u001b[39;49mbody,\n\u001b[1;32m    796\u001b[0m     headers\u001b[39m=\u001b[39;49mheaders,\n\u001b[1;32m    797\u001b[0m     chunked\u001b[39m=\u001b[39;49mchunked,\n\u001b[1;32m    798\u001b[0m     retries\u001b[39m=\u001b[39;49mretries,\n\u001b[1;32m    799\u001b[0m     response_conn\u001b[39m=\u001b[39;49mresponse_conn,\n\u001b[1;32m    800\u001b[0m     preload_content\u001b[39m=\u001b[39;49mpreload_content,\n\u001b[1;32m    801\u001b[0m     decode_content\u001b[39m=\u001b[39;49mdecode_content,\n\u001b[1;32m    802\u001b[0m     \u001b[39m*\u001b[39;49m\u001b[39m*\u001b[39;49mresponse_kw,\n\u001b[1;32m    803\u001b[0m )\n\u001b[1;32m    805\u001b[0m \u001b[39m# Everything went great!\u001b[39;00m\n",
      "File \u001b[0;32m~/.pyenv/versions/dsp-env/lib/python3.11/site-packages/urllib3/connectionpool.py:496\u001b[0m, in \u001b[0;36mHTTPConnectionPool._make_request\u001b[0;34m(self, conn, method, url, body, headers, retries, timeout, chunked, response_conn, preload_content, decode_content, enforce_content_length)\u001b[0m\n\u001b[1;32m    495\u001b[0m \u001b[39mtry\u001b[39;00m:\n\u001b[0;32m--> 496\u001b[0m     conn\u001b[39m.\u001b[39;49mrequest(\n\u001b[1;32m    497\u001b[0m         method,\n\u001b[1;32m    498\u001b[0m         url,\n\u001b[1;32m    499\u001b[0m         body\u001b[39m=\u001b[39;49mbody,\n\u001b[1;32m    500\u001b[0m         headers\u001b[39m=\u001b[39;49mheaders,\n\u001b[1;32m    501\u001b[0m         chunked\u001b[39m=\u001b[39;49mchunked,\n\u001b[1;32m    502\u001b[0m         preload_content\u001b[39m=\u001b[39;49mpreload_content,\n\u001b[1;32m    503\u001b[0m         decode_content\u001b[39m=\u001b[39;49mdecode_content,\n\u001b[1;32m    504\u001b[0m         enforce_content_length\u001b[39m=\u001b[39;49menforce_content_length,\n\u001b[1;32m    505\u001b[0m     )\n\u001b[1;32m    507\u001b[0m \u001b[39m# We are swallowing BrokenPipeError (errno.EPIPE) since the server is\u001b[39;00m\n\u001b[1;32m    508\u001b[0m \u001b[39m# legitimately able to close the connection after sending a valid response.\u001b[39;00m\n\u001b[1;32m    509\u001b[0m \u001b[39m# With this behaviour, the received response is still readable.\u001b[39;00m\n",
      "File \u001b[0;32m~/.pyenv/versions/dsp-env/lib/python3.11/site-packages/urllib3/connection.py:388\u001b[0m, in \u001b[0;36mHTTPConnection.request\u001b[0;34m(self, method, url, body, headers, chunked, preload_content, decode_content, enforce_content_length)\u001b[0m\n\u001b[1;32m    387\u001b[0m     \u001b[39mself\u001b[39m\u001b[39m.\u001b[39mputheader(header, value)\n\u001b[0;32m--> 388\u001b[0m \u001b[39mself\u001b[39;49m\u001b[39m.\u001b[39;49mendheaders()\n\u001b[1;32m    390\u001b[0m \u001b[39m# If we're given a body we start sending that in chunks.\u001b[39;00m\n",
      "File \u001b[0;32m/usr/local/Cellar/python@3.11/3.11.2_1/Frameworks/Python.framework/Versions/3.11/lib/python3.11/http/client.py:1277\u001b[0m, in \u001b[0;36mHTTPConnection.endheaders\u001b[0;34m(self, message_body, encode_chunked)\u001b[0m\n\u001b[1;32m   1276\u001b[0m     \u001b[39mraise\u001b[39;00m CannotSendHeader()\n\u001b[0;32m-> 1277\u001b[0m \u001b[39mself\u001b[39;49m\u001b[39m.\u001b[39;49m_send_output(message_body, encode_chunked\u001b[39m=\u001b[39;49mencode_chunked)\n",
      "File \u001b[0;32m/usr/local/Cellar/python@3.11/3.11.2_1/Frameworks/Python.framework/Versions/3.11/lib/python3.11/http/client.py:1037\u001b[0m, in \u001b[0;36mHTTPConnection._send_output\u001b[0;34m(self, message_body, encode_chunked)\u001b[0m\n\u001b[1;32m   1036\u001b[0m \u001b[39mdel\u001b[39;00m \u001b[39mself\u001b[39m\u001b[39m.\u001b[39m_buffer[:]\n\u001b[0;32m-> 1037\u001b[0m \u001b[39mself\u001b[39;49m\u001b[39m.\u001b[39;49msend(msg)\n\u001b[1;32m   1039\u001b[0m \u001b[39mif\u001b[39;00m message_body \u001b[39mis\u001b[39;00m \u001b[39mnot\u001b[39;00m \u001b[39mNone\u001b[39;00m:\n\u001b[1;32m   1040\u001b[0m \n\u001b[1;32m   1041\u001b[0m     \u001b[39m# create a consistent interface to message_body\u001b[39;00m\n",
      "File \u001b[0;32m/usr/local/Cellar/python@3.11/3.11.2_1/Frameworks/Python.framework/Versions/3.11/lib/python3.11/http/client.py:975\u001b[0m, in \u001b[0;36mHTTPConnection.send\u001b[0;34m(self, data)\u001b[0m\n\u001b[1;32m    974\u001b[0m \u001b[39mif\u001b[39;00m \u001b[39mself\u001b[39m\u001b[39m.\u001b[39mauto_open:\n\u001b[0;32m--> 975\u001b[0m     \u001b[39mself\u001b[39;49m\u001b[39m.\u001b[39;49mconnect()\n\u001b[1;32m    976\u001b[0m \u001b[39melse\u001b[39;00m:\n",
      "File \u001b[0;32m~/.pyenv/versions/dsp-env/lib/python3.11/site-packages/urllib3/connection.py:236\u001b[0m, in \u001b[0;36mHTTPConnection.connect\u001b[0;34m(self)\u001b[0m\n\u001b[1;32m    235\u001b[0m \u001b[39mdef\u001b[39;00m \u001b[39mconnect\u001b[39m(\u001b[39mself\u001b[39m) \u001b[39m-\u001b[39m\u001b[39m>\u001b[39m \u001b[39mNone\u001b[39;00m:\n\u001b[0;32m--> 236\u001b[0m     \u001b[39mself\u001b[39m\u001b[39m.\u001b[39msock \u001b[39m=\u001b[39m \u001b[39mself\u001b[39;49m\u001b[39m.\u001b[39;49m_new_conn()\n\u001b[1;32m    237\u001b[0m     \u001b[39mif\u001b[39;00m \u001b[39mself\u001b[39m\u001b[39m.\u001b[39m_tunnel_host:\n\u001b[1;32m    238\u001b[0m         \u001b[39m# If we're tunneling it means we're connected to our proxy.\u001b[39;00m\n",
      "File \u001b[0;32m~/.pyenv/versions/dsp-env/lib/python3.11/site-packages/urllib3/connection.py:209\u001b[0m, in \u001b[0;36mHTTPConnection._new_conn\u001b[0;34m(self)\u001b[0m\n\u001b[1;32m    208\u001b[0m \u001b[39mexcept\u001b[39;00m SocketTimeout \u001b[39mas\u001b[39;00m e:\n\u001b[0;32m--> 209\u001b[0m     \u001b[39mraise\u001b[39;00m ConnectTimeoutError(\n\u001b[1;32m    210\u001b[0m         \u001b[39mself\u001b[39m,\n\u001b[1;32m    211\u001b[0m         \u001b[39mf\u001b[39m\u001b[39m\"\u001b[39m\u001b[39mConnection to \u001b[39m\u001b[39m{\u001b[39;00m\u001b[39mself\u001b[39m\u001b[39m.\u001b[39mhost\u001b[39m}\u001b[39;00m\u001b[39m timed out. (connect timeout=\u001b[39m\u001b[39m{\u001b[39;00m\u001b[39mself\u001b[39m\u001b[39m.\u001b[39mtimeout\u001b[39m}\u001b[39;00m\u001b[39m)\u001b[39m\u001b[39m\"\u001b[39m,\n\u001b[1;32m    212\u001b[0m     ) \u001b[39mfrom\u001b[39;00m \u001b[39me\u001b[39;00m\n\u001b[1;32m    214\u001b[0m \u001b[39mexcept\u001b[39;00m \u001b[39mOSError\u001b[39;00m \u001b[39mas\u001b[39;00m e:\n",
      "\u001b[0;31mConnectTimeoutError\u001b[0m: (<urllib3.connection.HTTPConnection object at 0x126a4cf50>, 'Connection to ec2-44-228-128-229.us-west-2.compute.amazonaws.com timed out. (connect timeout=10)')",
      "\nThe above exception was the direct cause of the following exception:\n",
      "\u001b[0;31mMaxRetryError\u001b[0m                             Traceback (most recent call last)",
      "File \u001b[0;32m~/.pyenv/versions/dsp-env/lib/python3.11/site-packages/requests/adapters.py:486\u001b[0m, in \u001b[0;36mHTTPAdapter.send\u001b[0;34m(self, request, stream, timeout, verify, cert, proxies)\u001b[0m\n\u001b[1;32m    485\u001b[0m \u001b[39mtry\u001b[39;00m:\n\u001b[0;32m--> 486\u001b[0m     resp \u001b[39m=\u001b[39m conn\u001b[39m.\u001b[39;49murlopen(\n\u001b[1;32m    487\u001b[0m         method\u001b[39m=\u001b[39;49mrequest\u001b[39m.\u001b[39;49mmethod,\n\u001b[1;32m    488\u001b[0m         url\u001b[39m=\u001b[39;49murl,\n\u001b[1;32m    489\u001b[0m         body\u001b[39m=\u001b[39;49mrequest\u001b[39m.\u001b[39;49mbody,\n\u001b[1;32m    490\u001b[0m         headers\u001b[39m=\u001b[39;49mrequest\u001b[39m.\u001b[39;49mheaders,\n\u001b[1;32m    491\u001b[0m         redirect\u001b[39m=\u001b[39;49m\u001b[39mFalse\u001b[39;49;00m,\n\u001b[1;32m    492\u001b[0m         assert_same_host\u001b[39m=\u001b[39;49m\u001b[39mFalse\u001b[39;49;00m,\n\u001b[1;32m    493\u001b[0m         preload_content\u001b[39m=\u001b[39;49m\u001b[39mFalse\u001b[39;49;00m,\n\u001b[1;32m    494\u001b[0m         decode_content\u001b[39m=\u001b[39;49m\u001b[39mFalse\u001b[39;49;00m,\n\u001b[1;32m    495\u001b[0m         retries\u001b[39m=\u001b[39;49m\u001b[39mself\u001b[39;49m\u001b[39m.\u001b[39;49mmax_retries,\n\u001b[1;32m    496\u001b[0m         timeout\u001b[39m=\u001b[39;49mtimeout,\n\u001b[1;32m    497\u001b[0m         chunked\u001b[39m=\u001b[39;49mchunked,\n\u001b[1;32m    498\u001b[0m     )\n\u001b[1;32m    500\u001b[0m \u001b[39mexcept\u001b[39;00m (ProtocolError, \u001b[39mOSError\u001b[39;00m) \u001b[39mas\u001b[39;00m err:\n",
      "File \u001b[0;32m~/.pyenv/versions/dsp-env/lib/python3.11/site-packages/urllib3/connectionpool.py:844\u001b[0m, in \u001b[0;36mHTTPConnectionPool.urlopen\u001b[0;34m(self, method, url, body, headers, retries, redirect, assert_same_host, timeout, pool_timeout, release_conn, chunked, body_pos, preload_content, decode_content, **response_kw)\u001b[0m\n\u001b[1;32m    842\u001b[0m     new_e \u001b[39m=\u001b[39m ProtocolError(\u001b[39m\"\u001b[39m\u001b[39mConnection aborted.\u001b[39m\u001b[39m\"\u001b[39m, new_e)\n\u001b[0;32m--> 844\u001b[0m retries \u001b[39m=\u001b[39m retries\u001b[39m.\u001b[39;49mincrement(\n\u001b[1;32m    845\u001b[0m     method, url, error\u001b[39m=\u001b[39;49mnew_e, _pool\u001b[39m=\u001b[39;49m\u001b[39mself\u001b[39;49m, _stacktrace\u001b[39m=\u001b[39;49msys\u001b[39m.\u001b[39;49mexc_info()[\u001b[39m2\u001b[39;49m]\n\u001b[1;32m    846\u001b[0m )\n\u001b[1;32m    847\u001b[0m retries\u001b[39m.\u001b[39msleep()\n",
      "File \u001b[0;32m~/.pyenv/versions/dsp-env/lib/python3.11/site-packages/urllib3/util/retry.py:515\u001b[0m, in \u001b[0;36mRetry.increment\u001b[0;34m(self, method, url, response, error, _pool, _stacktrace)\u001b[0m\n\u001b[1;32m    514\u001b[0m     reason \u001b[39m=\u001b[39m error \u001b[39mor\u001b[39;00m ResponseError(cause)\n\u001b[0;32m--> 515\u001b[0m     \u001b[39mraise\u001b[39;00m MaxRetryError(_pool, url, reason) \u001b[39mfrom\u001b[39;00m \u001b[39mreason\u001b[39;00m  \u001b[39m# type: ignore[arg-type]\u001b[39;00m\n\u001b[1;32m    517\u001b[0m log\u001b[39m.\u001b[39mdebug(\u001b[39m\"\u001b[39m\u001b[39mIncremented Retry for (url=\u001b[39m\u001b[39m'\u001b[39m\u001b[39m%s\u001b[39;00m\u001b[39m'\u001b[39m\u001b[39m): \u001b[39m\u001b[39m%r\u001b[39;00m\u001b[39m\"\u001b[39m, url, new_retry)\n",
      "\u001b[0;31mMaxRetryError\u001b[0m: HTTPConnectionPool(host='ec2-44-228-128-229.us-west-2.compute.amazonaws.com', port=8893): Max retries exceeded with url: /api/search?query=What+are+the+professions+of+E.+L.+Doctorow+and+Julia+Peterkin%3F&k=2 (Caused by ConnectTimeoutError(<urllib3.connection.HTTPConnection object at 0x126a4cf50>, 'Connection to ec2-44-228-128-229.us-west-2.compute.amazonaws.com timed out. (connect timeout=10)'))",
      "\nDuring handling of the above exception, another exception occurred:\n",
      "\u001b[0;31mConnectTimeout\u001b[0m                            Traceback (most recent call last)",
      "Cell \u001b[0;32mIn[91], line 1\u001b[0m\n\u001b[0;32m----> 1\u001b[0m evaluate(multihop_QA_v1, dev)\n",
      "File \u001b[0;32m~/programming/dsp/dsp/evaluation/utils.py:63\u001b[0m, in \u001b[0;36mevaluate\u001b[0;34m(fn, dev, metric)\u001b[0m\n\u001b[1;32m     61\u001b[0m \u001b[39mfor\u001b[39;00m example \u001b[39min\u001b[39;00m tqdm\u001b[39m.\u001b[39mtqdm(dev):\n\u001b[1;32m     62\u001b[0m     question \u001b[39m=\u001b[39m example\u001b[39m.\u001b[39mquestion\n\u001b[0;32m---> 63\u001b[0m     prediction \u001b[39m=\u001b[39m fn(question)\n\u001b[1;32m     65\u001b[0m     d \u001b[39m=\u001b[39m \u001b[39mdict\u001b[39m(example)\n\u001b[1;32m     67\u001b[0m     pred \u001b[39m=\u001b[39m prediction\u001b[39m#.answer\u001b[39;00m\n",
      "Cell \u001b[0;32mIn[87], line 25\u001b[0m, in \u001b[0;36mmultihop_QA_v1\u001b[0;34m(question)\u001b[0m\n\u001b[1;32m     22\u001b[0m demos \u001b[39m=\u001b[39m dsp\u001b[39m.\u001b[39msample(train, k\u001b[39m=\u001b[39m\u001b[39m7\u001b[39m)\n\u001b[1;32m     23\u001b[0m x \u001b[39m=\u001b[39m dsp\u001b[39m.\u001b[39mExample(question\u001b[39m=\u001b[39mquestion, demos\u001b[39m=\u001b[39mdemos)\n\u001b[0;32m---> 25\u001b[0m x \u001b[39m=\u001b[39m multihop_search_v1(x)\n\u001b[1;32m     26\u001b[0m x \u001b[39m=\u001b[39m QA_predict(x, sc\u001b[39m=\u001b[39m\u001b[39mFalse\u001b[39;00m)\n\u001b[1;32m     28\u001b[0m \u001b[39mreturn\u001b[39;00m x\u001b[39m.\u001b[39manswer\n",
      "File \u001b[0;32m~/programming/dsp/dsp/primitives/primitives.py:19\u001b[0m, in \u001b[0;36mshallow_copy_example_args.<locals>.wrapper\u001b[0;34m(*args, **kwargs)\u001b[0m\n\u001b[1;32m     17\u001b[0m args \u001b[39m=\u001b[39m [dsp\u001b[39m.\u001b[39mExample(arg) \u001b[39mif\u001b[39;00m \u001b[39misinstance\u001b[39m(arg, dsp\u001b[39m.\u001b[39mExample) \u001b[39melse\u001b[39;00m arg \u001b[39mfor\u001b[39;00m arg \u001b[39min\u001b[39;00m args]\n\u001b[1;32m     18\u001b[0m kwargs \u001b[39m=\u001b[39m {key: dsp\u001b[39m.\u001b[39mExample(value) \u001b[39mif\u001b[39;00m \u001b[39misinstance\u001b[39m(value, dsp\u001b[39m.\u001b[39mExample) \u001b[39melse\u001b[39;00m value \u001b[39mfor\u001b[39;00m key, value \u001b[39min\u001b[39;00m kwargs\u001b[39m.\u001b[39mitems()}\n\u001b[0;32m---> 19\u001b[0m \u001b[39mreturn\u001b[39;00m func(\u001b[39m*\u001b[39;49margs, \u001b[39m*\u001b[39;49m\u001b[39m*\u001b[39;49mkwargs)\n",
      "Cell \u001b[0;32mIn[87], line 13\u001b[0m, in \u001b[0;36mmultihop_search_v1\u001b[0;34m(example, max_hops, k)\u001b[0m\n\u001b[1;32m     10\u001b[0m example, completions \u001b[39m=\u001b[39m dsp\u001b[39m.\u001b[39mgenerate(template)(example, stage\u001b[39m=\u001b[39m\u001b[39mf\u001b[39m\u001b[39m'\u001b[39m\u001b[39mh\u001b[39m\u001b[39m{\u001b[39;00mhop\u001b[39m}\u001b[39;00m\u001b[39m'\u001b[39m)\n\u001b[1;32m     12\u001b[0m \u001b[39m# Retrieve k results based on the query generated\u001b[39;00m\n\u001b[0;32m---> 13\u001b[0m passages \u001b[39m=\u001b[39m dsp\u001b[39m.\u001b[39;49mretrieve(completions\u001b[39m.\u001b[39;49mquery, k\u001b[39m=\u001b[39;49mk)\n\u001b[1;32m     15\u001b[0m \u001b[39m# Update the context by concatenating old and new passages\u001b[39;00m\n\u001b[1;32m     16\u001b[0m example\u001b[39m.\u001b[39mcontext \u001b[39m=\u001b[39m deduplicate(example\u001b[39m.\u001b[39mcontext \u001b[39m+\u001b[39m passages)\n",
      "File \u001b[0;32m~/programming/dsp/dsp/primitives/search.py:9\u001b[0m, in \u001b[0;36mretrieve\u001b[0;34m(query, k)\u001b[0m\n\u001b[1;32m      7\u001b[0m \u001b[39mif\u001b[39;00m \u001b[39mnot\u001b[39;00m dsp\u001b[39m.\u001b[39msettings\u001b[39m.\u001b[39mrm:\n\u001b[1;32m      8\u001b[0m     \u001b[39mraise\u001b[39;00m \u001b[39mAssertionError\u001b[39;00m(\u001b[39m\"\u001b[39m\u001b[39mNo RM is loaded.\u001b[39m\u001b[39m\"\u001b[39m)\n\u001b[0;32m----> 9\u001b[0m passages \u001b[39m=\u001b[39m dsp\u001b[39m.\u001b[39;49msettings\u001b[39m.\u001b[39;49mrm(query, k\u001b[39m=\u001b[39;49mk)\n\u001b[1;32m     10\u001b[0m passages \u001b[39m=\u001b[39m [psg\u001b[39m.\u001b[39mlong_text \u001b[39mfor\u001b[39;00m psg \u001b[39min\u001b[39;00m passages]\n\u001b[1;32m     12\u001b[0m \u001b[39mif\u001b[39;00m dsp\u001b[39m.\u001b[39msettings\u001b[39m.\u001b[39mreranker:\n",
      "File \u001b[0;32m~/programming/dsp/dsp/modules/colbertv2.py:30\u001b[0m, in \u001b[0;36mColBERTv2.__call__\u001b[0;34m(self, query, k, simplify)\u001b[0m\n\u001b[1;32m     28\u001b[0m     topk: \u001b[39mlist\u001b[39m[\u001b[39mdict\u001b[39m[\u001b[39mstr\u001b[39m, Any]] \u001b[39m=\u001b[39m colbertv2_post_request(\u001b[39mself\u001b[39m\u001b[39m.\u001b[39murl, query, k)\n\u001b[1;32m     29\u001b[0m \u001b[39melse\u001b[39;00m:\n\u001b[0;32m---> 30\u001b[0m     topk: \u001b[39mlist\u001b[39m[\u001b[39mdict\u001b[39m[\u001b[39mstr\u001b[39m, Any]] \u001b[39m=\u001b[39m colbertv2_get_request(\u001b[39mself\u001b[39;49m\u001b[39m.\u001b[39;49murl, query, k)\n\u001b[1;32m     32\u001b[0m \u001b[39mif\u001b[39;00m simplify:\n\u001b[1;32m     33\u001b[0m     \u001b[39mreturn\u001b[39;00m [psg[\u001b[39m\"\u001b[39m\u001b[39mlong_text\u001b[39m\u001b[39m\"\u001b[39m] \u001b[39mfor\u001b[39;00m psg \u001b[39min\u001b[39;00m topk]\n",
      "File \u001b[0;32m~/programming/dsp/dsp/modules/cache_utils.py:16\u001b[0m, in \u001b[0;36mnoop_decorator.<locals>.wrapper\u001b[0;34m(*args, **kwargs)\u001b[0m\n\u001b[1;32m     14\u001b[0m \u001b[39m@wraps\u001b[39m(func)\n\u001b[1;32m     15\u001b[0m \u001b[39mdef\u001b[39;00m \u001b[39mwrapper\u001b[39m(\u001b[39m*\u001b[39margs, \u001b[39m*\u001b[39m\u001b[39m*\u001b[39mkwargs):\n\u001b[0;32m---> 16\u001b[0m     \u001b[39mreturn\u001b[39;00m func(\u001b[39m*\u001b[39;49margs, \u001b[39m*\u001b[39;49m\u001b[39m*\u001b[39;49mkwargs)\n",
      "File \u001b[0;32m~/programming/dsp/dsp/modules/colbertv2.py:55\u001b[0m, in \u001b[0;36mcolbertv2_get_request_v2_wrapped\u001b[0;34m(*args, **kwargs)\u001b[0m\n\u001b[1;32m     52\u001b[0m \u001b[39m@functools\u001b[39m\u001b[39m.\u001b[39mlru_cache(maxsize\u001b[39m=\u001b[39m\u001b[39mNone\u001b[39;00m)\n\u001b[1;32m     53\u001b[0m \u001b[39m@NotebookCacheMemory\u001b[39m\u001b[39m.\u001b[39mcache\n\u001b[1;32m     54\u001b[0m \u001b[39mdef\u001b[39;00m \u001b[39mcolbertv2_get_request_v2_wrapped\u001b[39m(\u001b[39m*\u001b[39margs, \u001b[39m*\u001b[39m\u001b[39m*\u001b[39mkwargs):\n\u001b[0;32m---> 55\u001b[0m     \u001b[39mreturn\u001b[39;00m colbertv2_get_request_v2(\u001b[39m*\u001b[39;49margs, \u001b[39m*\u001b[39;49m\u001b[39m*\u001b[39;49mkwargs)\n",
      "File \u001b[0;32m~/.pyenv/versions/dsp-env/lib/python3.11/site-packages/joblib/memory.py:594\u001b[0m, in \u001b[0;36mMemorizedFunc.__call__\u001b[0;34m(self, *args, **kwargs)\u001b[0m\n\u001b[1;32m    593\u001b[0m \u001b[39mdef\u001b[39;00m \u001b[39m__call__\u001b[39m(\u001b[39mself\u001b[39m, \u001b[39m*\u001b[39margs, \u001b[39m*\u001b[39m\u001b[39m*\u001b[39mkwargs):\n\u001b[0;32m--> 594\u001b[0m     \u001b[39mreturn\u001b[39;00m \u001b[39mself\u001b[39;49m\u001b[39m.\u001b[39;49m_cached_call(args, kwargs)[\u001b[39m0\u001b[39m]\n",
      "File \u001b[0;32m~/.pyenv/versions/dsp-env/lib/python3.11/site-packages/joblib/memory.py:537\u001b[0m, in \u001b[0;36mMemorizedFunc._cached_call\u001b[0;34m(self, args, kwargs, shelving)\u001b[0m\n\u001b[1;32m    534\u001b[0m         must_call \u001b[39m=\u001b[39m \u001b[39mTrue\u001b[39;00m\n\u001b[1;32m    536\u001b[0m \u001b[39mif\u001b[39;00m must_call:\n\u001b[0;32m--> 537\u001b[0m     out, metadata \u001b[39m=\u001b[39m \u001b[39mself\u001b[39;49m\u001b[39m.\u001b[39;49mcall(\u001b[39m*\u001b[39;49margs, \u001b[39m*\u001b[39;49m\u001b[39m*\u001b[39;49mkwargs)\n\u001b[1;32m    538\u001b[0m     \u001b[39mif\u001b[39;00m \u001b[39mself\u001b[39m\u001b[39m.\u001b[39mmmap_mode \u001b[39mis\u001b[39;00m \u001b[39mnot\u001b[39;00m \u001b[39mNone\u001b[39;00m:\n\u001b[1;32m    539\u001b[0m         \u001b[39m# Memmap the output at the first call to be consistent with\u001b[39;00m\n\u001b[1;32m    540\u001b[0m         \u001b[39m# later calls\u001b[39;00m\n\u001b[1;32m    541\u001b[0m         \u001b[39mif\u001b[39;00m \u001b[39mself\u001b[39m\u001b[39m.\u001b[39m_verbose:\n",
      "File \u001b[0;32m~/.pyenv/versions/dsp-env/lib/python3.11/site-packages/joblib/memory.py:779\u001b[0m, in \u001b[0;36mMemorizedFunc.call\u001b[0;34m(self, *args, **kwargs)\u001b[0m\n\u001b[1;32m    777\u001b[0m \u001b[39mif\u001b[39;00m \u001b[39mself\u001b[39m\u001b[39m.\u001b[39m_verbose \u001b[39m>\u001b[39m \u001b[39m0\u001b[39m:\n\u001b[1;32m    778\u001b[0m     \u001b[39mprint\u001b[39m(format_call(\u001b[39mself\u001b[39m\u001b[39m.\u001b[39mfunc, args, kwargs))\n\u001b[0;32m--> 779\u001b[0m output \u001b[39m=\u001b[39m \u001b[39mself\u001b[39;49m\u001b[39m.\u001b[39;49mfunc(\u001b[39m*\u001b[39;49margs, \u001b[39m*\u001b[39;49m\u001b[39m*\u001b[39;49mkwargs)\n\u001b[1;32m    780\u001b[0m \u001b[39mself\u001b[39m\u001b[39m.\u001b[39mstore_backend\u001b[39m.\u001b[39mdump_item(\n\u001b[1;32m    781\u001b[0m     [func_id, args_id], output, verbose\u001b[39m=\u001b[39m\u001b[39mself\u001b[39m\u001b[39m.\u001b[39m_verbose)\n\u001b[1;32m    783\u001b[0m duration \u001b[39m=\u001b[39m time\u001b[39m.\u001b[39mtime() \u001b[39m-\u001b[39m start_time\n",
      "File \u001b[0;32m~/programming/dsp/dsp/modules/colbertv2.py:45\u001b[0m, in \u001b[0;36mcolbertv2_get_request_v2\u001b[0;34m(url, query, k)\u001b[0m\n\u001b[1;32m     40\u001b[0m \u001b[39massert\u001b[39;00m (\n\u001b[1;32m     41\u001b[0m     k \u001b[39m<\u001b[39m\u001b[39m=\u001b[39m \u001b[39m100\u001b[39m\n\u001b[1;32m     42\u001b[0m ), \u001b[39m\"\u001b[39m\u001b[39mOnly k <= 100 is supported for the hosted ColBERTv2 server at the moment.\u001b[39m\u001b[39m\"\u001b[39m\n\u001b[1;32m     44\u001b[0m payload \u001b[39m=\u001b[39m {\u001b[39m\"\u001b[39m\u001b[39mquery\u001b[39m\u001b[39m\"\u001b[39m: query, \u001b[39m\"\u001b[39m\u001b[39mk\u001b[39m\u001b[39m\"\u001b[39m: k}\n\u001b[0;32m---> 45\u001b[0m res \u001b[39m=\u001b[39m requests\u001b[39m.\u001b[39;49mget(url, params\u001b[39m=\u001b[39;49mpayload, timeout\u001b[39m=\u001b[39;49m\u001b[39m10\u001b[39;49m)\n\u001b[1;32m     47\u001b[0m topk \u001b[39m=\u001b[39m res\u001b[39m.\u001b[39mjson()[\u001b[39m\"\u001b[39m\u001b[39mtopk\u001b[39m\u001b[39m\"\u001b[39m][:k]\n\u001b[1;32m     48\u001b[0m topk \u001b[39m=\u001b[39m [{\u001b[39m*\u001b[39m\u001b[39m*\u001b[39md, \u001b[39m\"\u001b[39m\u001b[39mlong_text\u001b[39m\u001b[39m\"\u001b[39m: d[\u001b[39m\"\u001b[39m\u001b[39mtext\u001b[39m\u001b[39m\"\u001b[39m]} \u001b[39mfor\u001b[39;00m d \u001b[39min\u001b[39;00m topk]\n",
      "File \u001b[0;32m~/.pyenv/versions/dsp-env/lib/python3.11/site-packages/requests/api.py:73\u001b[0m, in \u001b[0;36mget\u001b[0;34m(url, params, **kwargs)\u001b[0m\n\u001b[1;32m     62\u001b[0m \u001b[39mdef\u001b[39;00m \u001b[39mget\u001b[39m(url, params\u001b[39m=\u001b[39m\u001b[39mNone\u001b[39;00m, \u001b[39m*\u001b[39m\u001b[39m*\u001b[39mkwargs):\n\u001b[1;32m     63\u001b[0m \u001b[39m    \u001b[39m\u001b[39mr\u001b[39m\u001b[39m\"\"\"Sends a GET request.\u001b[39;00m\n\u001b[1;32m     64\u001b[0m \n\u001b[1;32m     65\u001b[0m \u001b[39m    :param url: URL for the new :class:`Request` object.\u001b[39;00m\n\u001b[0;32m   (...)\u001b[0m\n\u001b[1;32m     70\u001b[0m \u001b[39m    :rtype: requests.Response\u001b[39;00m\n\u001b[1;32m     71\u001b[0m \u001b[39m    \"\"\"\u001b[39;00m\n\u001b[0;32m---> 73\u001b[0m     \u001b[39mreturn\u001b[39;00m request(\u001b[39m\"\u001b[39;49m\u001b[39mget\u001b[39;49m\u001b[39m\"\u001b[39;49m, url, params\u001b[39m=\u001b[39;49mparams, \u001b[39m*\u001b[39;49m\u001b[39m*\u001b[39;49mkwargs)\n",
      "File \u001b[0;32m~/.pyenv/versions/dsp-env/lib/python3.11/site-packages/requests/api.py:59\u001b[0m, in \u001b[0;36mrequest\u001b[0;34m(method, url, **kwargs)\u001b[0m\n\u001b[1;32m     55\u001b[0m \u001b[39m# By using the 'with' statement we are sure the session is closed, thus we\u001b[39;00m\n\u001b[1;32m     56\u001b[0m \u001b[39m# avoid leaving sockets open which can trigger a ResourceWarning in some\u001b[39;00m\n\u001b[1;32m     57\u001b[0m \u001b[39m# cases, and look like a memory leak in others.\u001b[39;00m\n\u001b[1;32m     58\u001b[0m \u001b[39mwith\u001b[39;00m sessions\u001b[39m.\u001b[39mSession() \u001b[39mas\u001b[39;00m session:\n\u001b[0;32m---> 59\u001b[0m     \u001b[39mreturn\u001b[39;00m session\u001b[39m.\u001b[39;49mrequest(method\u001b[39m=\u001b[39;49mmethod, url\u001b[39m=\u001b[39;49murl, \u001b[39m*\u001b[39;49m\u001b[39m*\u001b[39;49mkwargs)\n",
      "File \u001b[0;32m~/.pyenv/versions/dsp-env/lib/python3.11/site-packages/requests/sessions.py:589\u001b[0m, in \u001b[0;36mSession.request\u001b[0;34m(self, method, url, params, data, headers, cookies, files, auth, timeout, allow_redirects, proxies, hooks, stream, verify, cert, json)\u001b[0m\n\u001b[1;32m    584\u001b[0m send_kwargs \u001b[39m=\u001b[39m {\n\u001b[1;32m    585\u001b[0m     \u001b[39m\"\u001b[39m\u001b[39mtimeout\u001b[39m\u001b[39m\"\u001b[39m: timeout,\n\u001b[1;32m    586\u001b[0m     \u001b[39m\"\u001b[39m\u001b[39mallow_redirects\u001b[39m\u001b[39m\"\u001b[39m: allow_redirects,\n\u001b[1;32m    587\u001b[0m }\n\u001b[1;32m    588\u001b[0m send_kwargs\u001b[39m.\u001b[39mupdate(settings)\n\u001b[0;32m--> 589\u001b[0m resp \u001b[39m=\u001b[39m \u001b[39mself\u001b[39;49m\u001b[39m.\u001b[39;49msend(prep, \u001b[39m*\u001b[39;49m\u001b[39m*\u001b[39;49msend_kwargs)\n\u001b[1;32m    591\u001b[0m \u001b[39mreturn\u001b[39;00m resp\n",
      "File \u001b[0;32m~/.pyenv/versions/dsp-env/lib/python3.11/site-packages/requests/sessions.py:703\u001b[0m, in \u001b[0;36mSession.send\u001b[0;34m(self, request, **kwargs)\u001b[0m\n\u001b[1;32m    700\u001b[0m start \u001b[39m=\u001b[39m preferred_clock()\n\u001b[1;32m    702\u001b[0m \u001b[39m# Send the request\u001b[39;00m\n\u001b[0;32m--> 703\u001b[0m r \u001b[39m=\u001b[39m adapter\u001b[39m.\u001b[39;49msend(request, \u001b[39m*\u001b[39;49m\u001b[39m*\u001b[39;49mkwargs)\n\u001b[1;32m    705\u001b[0m \u001b[39m# Total elapsed time of the request (approximately)\u001b[39;00m\n\u001b[1;32m    706\u001b[0m elapsed \u001b[39m=\u001b[39m preferred_clock() \u001b[39m-\u001b[39m start\n",
      "File \u001b[0;32m~/.pyenv/versions/dsp-env/lib/python3.11/site-packages/requests/adapters.py:507\u001b[0m, in \u001b[0;36mHTTPAdapter.send\u001b[0;34m(self, request, stream, timeout, verify, cert, proxies)\u001b[0m\n\u001b[1;32m    504\u001b[0m \u001b[39mif\u001b[39;00m \u001b[39misinstance\u001b[39m(e\u001b[39m.\u001b[39mreason, ConnectTimeoutError):\n\u001b[1;32m    505\u001b[0m     \u001b[39m# TODO: Remove this in 3.0.0: see #2811\u001b[39;00m\n\u001b[1;32m    506\u001b[0m     \u001b[39mif\u001b[39;00m \u001b[39mnot\u001b[39;00m \u001b[39misinstance\u001b[39m(e\u001b[39m.\u001b[39mreason, NewConnectionError):\n\u001b[0;32m--> 507\u001b[0m         \u001b[39mraise\u001b[39;00m ConnectTimeout(e, request\u001b[39m=\u001b[39mrequest)\n\u001b[1;32m    509\u001b[0m \u001b[39mif\u001b[39;00m \u001b[39misinstance\u001b[39m(e\u001b[39m.\u001b[39mreason, ResponseError):\n\u001b[1;32m    510\u001b[0m     \u001b[39mraise\u001b[39;00m RetryError(e, request\u001b[39m=\u001b[39mrequest)\n",
      "\u001b[0;31mConnectTimeout\u001b[0m: HTTPConnectionPool(host='ec2-44-228-128-229.us-west-2.compute.amazonaws.com', port=8893): Max retries exceeded with url: /api/search?query=What+are+the+professions+of+E.+L.+Doctorow+and+Julia+Peterkin%3F&k=2 (Caused by ConnectTimeoutError(<urllib3.connection.HTTPConnection object at 0x126a4cf50>, 'Connection to ec2-44-228-128-229.us-west-2.compute.amazonaws.com timed out. (connect timeout=10)'))"
     ]
    }
   ],
   "source": [
    "evaluate(multihop_QA_v1, dev)"
   ]
  },
  {
   "attachments": {},
   "cell_type": "markdown",
   "id": "293204f5",
   "metadata": {},
   "source": [
    "## Chat Adapter with system_turn=True, multi_turn=True, strict_turn=False"
   ]
  },
  {
   "cell_type": "code",
   "execution_count": 61,
   "id": "99e51359",
   "metadata": {},
   "outputs": [
    {
     "name": "stdout",
     "output_type": "stream",
     "text": [
      "\n",
      "\n",
      "\n",
      "\n",
      "{'model': 'gpt-3.5-turbo-0613', 'messages': [{'role': 'system', 'content': 'Answer questions with short factoid answers.'}, {'role': 'user', 'content': 'Question: Which award did the first book of Gary Zukav receive?\\nAnswer: U.S. National Book Award\\n\\nQuestion: The heir to the Du Pont family fortune sponsored what wrestling team?\\nAnswer: Foxcatcher\\n\\nQuestion: Who was the director of the 2009 movie featuring Peter Outerbridge as William Easton?\\nAnswer: Kevin Greutert\\n\\nQuestion: Who produced the album that included a re-recording of \"Lithium\"?\\nAnswer: Butch Vig\\n\\nQuestion: What city was the victim of Joseph Druces working in?\\nAnswer: Boston, Massachusetts\\n\\nQuestion: In what year was the star of To Hell and Back born?\\nAnswer: 1925'}, {'role': 'user', 'content': \"Follow the following format.\\n\\nContext:\\n${sources that may contain relevant content}\\n\\nQuestion: ${the question to be answered}\\n\\nRationale: Let's think step by step. ${a step-by-step deduction that identifies the correct response, which will be provided below}\\n\\nAnswer: ${a short factoid answer, often between 1 and 5 words}\"}, {'role': 'user', 'content': 'Context:\\n[1] «Long Island serial killer | Long Island serial killer The Long Island serial killer (also referred to as LISK, the Gilgo Beach Killer or the Craigslist Ripper) is an unidentified suspected serial killer who is believed to have murdered 10 to 16 people associated with prostitution, over a period of nearly 20 years, and dumped their bodies along the Ocean Parkway, near the remote Long Island, New York beach towns of Gilgo and Oak Beach in Suffolk County, and the area of Jones Beach State Park in Nassau County. The remains of four victims were found in December 2010, while six more sets of remains»\\n[2] «Joel Rifkin | to the Gilgo Beach Killer. In an April 2011 prison interview with \"Newsday\", Rifkin denied having anything to do with the remains discovered in 2011. Experts and victims\\' rights advocates, however, believe that those denials have no value. Rifkin\\'s birth mother was a 20-year-old college student, and his biological father was a 24-year-old college student and army veteran. At three weeks old he was adopted by an upper-middle class Long Island couple, on February 14, 1959. His adoptive father, Benjamin Rifkin, was of Russian Jewish descent and his adoptive mother, Jeanne (Granelles), of Spanish descent, converted to Judaism when she»\\n[3] «Uri Gil | the Guinness World Record for being the longest-flying fighter pilot. In 2008, Gil was featured in an Israel documentary titled \"The Best Pilot in the World\". The film was directed by Dr. Amir Har-Gil. In the film, Gil talks about his over 41 years of service in the Israeli Air Force, and the many enemy planes he shot down. Gil stated in the film that he was the only pilot who had downed planes in all the wars. Gil started painting as a pastime when he was in his late twenties while still a career officer in the Israeli Air»\\n[4] «Joaquin \"Kino\" Gil | studies were under Morton Subotnick and Mark Waldrep. He has also a degree in Social Anthropology from the Universidad de Costa Rica (1971). His earliest recorded work occurs in Costa Rica with the Centro Costarricense de Produccion Cinematografica, where he participates in the creation of the Center\\'s first three documentaries on bio-diversity and conservation. Gil has written and registered with WGA West (Los Angeles, California) seven screenplays for film and video, and has two unpublished Steampunk novels as of May 2010, \"Gatekeeper\" and \"Castle Griffon\", as well as numerous artistic and technical articles for film, imagery and animation themes published»\\n\\nQuestion: What documentary about the Gilgo Beach Killer debuted on A&E?\\n\\nRationale: Let\\'s think step by step. Rationale: The question asks about a documentary about the Gilgo Beach Killer that debuted on A&E. To find the answer, we need to identify the relevant information from the provided sources. From the context, we can see that the Long Island serial killer is also referred to as the Gilgo Beach Killer. However, the provided sources [1] and [2] do not mention any documentary about the Gilgo Beach Killer. Source [3] mentions a documentary titled \"The Best Pilot in the World,\" but it is about Uri Gil, a fighter pilot, and not related to the Gilgo Beach Killer. Source [4] mentions Joaquin \"Kino\" Gil, but there is no mention of a documentary about the Gilgo\\n\\nAnswer:'}]}\u001b[32mThere is no information provided about a documentary about the Gilgo Beach Killer that debuted on A&E.\u001b[0m\n",
      "\n",
      "\n",
      "\n"
     ]
    },
    {
     "data": {
      "text/plain": [
       "('There is no information provided about a documentary about the Gilgo Beach Killer that debuted on A&E.',\n",
       " None)"
      ]
     },
     "execution_count": 61,
     "metadata": {},
     "output_type": "execute_result"
    }
   ],
   "source": [
    "dsp.settings.configure(lm=turbo, rm=rm, adapter=ChatAdapter(system_turn=True, multi_turn=True, strict_turn=False))\n",
    "multihop_QA_v1(dev[1].question), turbo.inspect_history(n=1)"
   ]
  },
  {
   "cell_type": "code",
   "execution_count": 62,
   "id": "8ab36988",
   "metadata": {},
   "outputs": [
    {
     "name": "stderr",
     "output_type": "stream",
     "text": [
      "  0%|          | 0/13 [00:12<?, ?it/s]\n"
     ]
    },
    {
     "ename": "ConnectTimeout",
     "evalue": "HTTPConnectionPool(host='ec2-44-228-128-229.us-west-2.compute.amazonaws.com', port=8893): Max retries exceeded with url: /api/search?query=What+professions+did+E.+L.+Doctorow+and+Julia+Peterkin+have%3F&k=2 (Caused by ConnectTimeoutError(<urllib3.connection.HTTPConnection object at 0x125ff5990>, 'Connection to ec2-44-228-128-229.us-west-2.compute.amazonaws.com timed out. (connect timeout=10)'))",
     "output_type": "error",
     "traceback": [
      "\u001b[0;31m---------------------------------------------------------------------------\u001b[0m",
      "\u001b[0;31mTimeoutError\u001b[0m                              Traceback (most recent call last)",
      "File \u001b[0;32m~/.pyenv/versions/dsp-env/lib/python3.11/site-packages/urllib3/connection.py:200\u001b[0m, in \u001b[0;36mHTTPConnection._new_conn\u001b[0;34m(self)\u001b[0m\n\u001b[1;32m    199\u001b[0m \u001b[39mtry\u001b[39;00m:\n\u001b[0;32m--> 200\u001b[0m     sock \u001b[39m=\u001b[39m connection\u001b[39m.\u001b[39;49mcreate_connection(\n\u001b[1;32m    201\u001b[0m         (\u001b[39mself\u001b[39;49m\u001b[39m.\u001b[39;49m_dns_host, \u001b[39mself\u001b[39;49m\u001b[39m.\u001b[39;49mport),\n\u001b[1;32m    202\u001b[0m         \u001b[39mself\u001b[39;49m\u001b[39m.\u001b[39;49mtimeout,\n\u001b[1;32m    203\u001b[0m         source_address\u001b[39m=\u001b[39;49m\u001b[39mself\u001b[39;49m\u001b[39m.\u001b[39;49msource_address,\n\u001b[1;32m    204\u001b[0m         socket_options\u001b[39m=\u001b[39;49m\u001b[39mself\u001b[39;49m\u001b[39m.\u001b[39;49msocket_options,\n\u001b[1;32m    205\u001b[0m     )\n\u001b[1;32m    206\u001b[0m \u001b[39mexcept\u001b[39;00m socket\u001b[39m.\u001b[39mgaierror \u001b[39mas\u001b[39;00m e:\n",
      "File \u001b[0;32m~/.pyenv/versions/dsp-env/lib/python3.11/site-packages/urllib3/util/connection.py:85\u001b[0m, in \u001b[0;36mcreate_connection\u001b[0;34m(address, timeout, source_address, socket_options)\u001b[0m\n\u001b[1;32m     84\u001b[0m \u001b[39mtry\u001b[39;00m:\n\u001b[0;32m---> 85\u001b[0m     \u001b[39mraise\u001b[39;00m err\n\u001b[1;32m     86\u001b[0m \u001b[39mfinally\u001b[39;00m:\n\u001b[1;32m     87\u001b[0m     \u001b[39m# Break explicitly a reference cycle\u001b[39;00m\n",
      "File \u001b[0;32m~/.pyenv/versions/dsp-env/lib/python3.11/site-packages/urllib3/util/connection.py:73\u001b[0m, in \u001b[0;36mcreate_connection\u001b[0;34m(address, timeout, source_address, socket_options)\u001b[0m\n\u001b[1;32m     72\u001b[0m     sock\u001b[39m.\u001b[39mbind(source_address)\n\u001b[0;32m---> 73\u001b[0m sock\u001b[39m.\u001b[39;49mconnect(sa)\n\u001b[1;32m     74\u001b[0m \u001b[39m# Break explicitly a reference cycle\u001b[39;00m\n",
      "\u001b[0;31mTimeoutError\u001b[0m: timed out",
      "\nThe above exception was the direct cause of the following exception:\n",
      "\u001b[0;31mConnectTimeoutError\u001b[0m                       Traceback (most recent call last)",
      "File \u001b[0;32m~/.pyenv/versions/dsp-env/lib/python3.11/site-packages/urllib3/connectionpool.py:790\u001b[0m, in \u001b[0;36mHTTPConnectionPool.urlopen\u001b[0;34m(self, method, url, body, headers, retries, redirect, assert_same_host, timeout, pool_timeout, release_conn, chunked, body_pos, preload_content, decode_content, **response_kw)\u001b[0m\n\u001b[1;32m    789\u001b[0m \u001b[39m# Make the request on the HTTPConnection object\u001b[39;00m\n\u001b[0;32m--> 790\u001b[0m response \u001b[39m=\u001b[39m \u001b[39mself\u001b[39;49m\u001b[39m.\u001b[39;49m_make_request(\n\u001b[1;32m    791\u001b[0m     conn,\n\u001b[1;32m    792\u001b[0m     method,\n\u001b[1;32m    793\u001b[0m     url,\n\u001b[1;32m    794\u001b[0m     timeout\u001b[39m=\u001b[39;49mtimeout_obj,\n\u001b[1;32m    795\u001b[0m     body\u001b[39m=\u001b[39;49mbody,\n\u001b[1;32m    796\u001b[0m     headers\u001b[39m=\u001b[39;49mheaders,\n\u001b[1;32m    797\u001b[0m     chunked\u001b[39m=\u001b[39;49mchunked,\n\u001b[1;32m    798\u001b[0m     retries\u001b[39m=\u001b[39;49mretries,\n\u001b[1;32m    799\u001b[0m     response_conn\u001b[39m=\u001b[39;49mresponse_conn,\n\u001b[1;32m    800\u001b[0m     preload_content\u001b[39m=\u001b[39;49mpreload_content,\n\u001b[1;32m    801\u001b[0m     decode_content\u001b[39m=\u001b[39;49mdecode_content,\n\u001b[1;32m    802\u001b[0m     \u001b[39m*\u001b[39;49m\u001b[39m*\u001b[39;49mresponse_kw,\n\u001b[1;32m    803\u001b[0m )\n\u001b[1;32m    805\u001b[0m \u001b[39m# Everything went great!\u001b[39;00m\n",
      "File \u001b[0;32m~/.pyenv/versions/dsp-env/lib/python3.11/site-packages/urllib3/connectionpool.py:496\u001b[0m, in \u001b[0;36mHTTPConnectionPool._make_request\u001b[0;34m(self, conn, method, url, body, headers, retries, timeout, chunked, response_conn, preload_content, decode_content, enforce_content_length)\u001b[0m\n\u001b[1;32m    495\u001b[0m \u001b[39mtry\u001b[39;00m:\n\u001b[0;32m--> 496\u001b[0m     conn\u001b[39m.\u001b[39;49mrequest(\n\u001b[1;32m    497\u001b[0m         method,\n\u001b[1;32m    498\u001b[0m         url,\n\u001b[1;32m    499\u001b[0m         body\u001b[39m=\u001b[39;49mbody,\n\u001b[1;32m    500\u001b[0m         headers\u001b[39m=\u001b[39;49mheaders,\n\u001b[1;32m    501\u001b[0m         chunked\u001b[39m=\u001b[39;49mchunked,\n\u001b[1;32m    502\u001b[0m         preload_content\u001b[39m=\u001b[39;49mpreload_content,\n\u001b[1;32m    503\u001b[0m         decode_content\u001b[39m=\u001b[39;49mdecode_content,\n\u001b[1;32m    504\u001b[0m         enforce_content_length\u001b[39m=\u001b[39;49menforce_content_length,\n\u001b[1;32m    505\u001b[0m     )\n\u001b[1;32m    507\u001b[0m \u001b[39m# We are swallowing BrokenPipeError (errno.EPIPE) since the server is\u001b[39;00m\n\u001b[1;32m    508\u001b[0m \u001b[39m# legitimately able to close the connection after sending a valid response.\u001b[39;00m\n\u001b[1;32m    509\u001b[0m \u001b[39m# With this behaviour, the received response is still readable.\u001b[39;00m\n",
      "File \u001b[0;32m~/.pyenv/versions/dsp-env/lib/python3.11/site-packages/urllib3/connection.py:388\u001b[0m, in \u001b[0;36mHTTPConnection.request\u001b[0;34m(self, method, url, body, headers, chunked, preload_content, decode_content, enforce_content_length)\u001b[0m\n\u001b[1;32m    387\u001b[0m     \u001b[39mself\u001b[39m\u001b[39m.\u001b[39mputheader(header, value)\n\u001b[0;32m--> 388\u001b[0m \u001b[39mself\u001b[39;49m\u001b[39m.\u001b[39;49mendheaders()\n\u001b[1;32m    390\u001b[0m \u001b[39m# If we're given a body we start sending that in chunks.\u001b[39;00m\n",
      "File \u001b[0;32m/usr/local/Cellar/python@3.11/3.11.2_1/Frameworks/Python.framework/Versions/3.11/lib/python3.11/http/client.py:1277\u001b[0m, in \u001b[0;36mHTTPConnection.endheaders\u001b[0;34m(self, message_body, encode_chunked)\u001b[0m\n\u001b[1;32m   1276\u001b[0m     \u001b[39mraise\u001b[39;00m CannotSendHeader()\n\u001b[0;32m-> 1277\u001b[0m \u001b[39mself\u001b[39;49m\u001b[39m.\u001b[39;49m_send_output(message_body, encode_chunked\u001b[39m=\u001b[39;49mencode_chunked)\n",
      "File \u001b[0;32m/usr/local/Cellar/python@3.11/3.11.2_1/Frameworks/Python.framework/Versions/3.11/lib/python3.11/http/client.py:1037\u001b[0m, in \u001b[0;36mHTTPConnection._send_output\u001b[0;34m(self, message_body, encode_chunked)\u001b[0m\n\u001b[1;32m   1036\u001b[0m \u001b[39mdel\u001b[39;00m \u001b[39mself\u001b[39m\u001b[39m.\u001b[39m_buffer[:]\n\u001b[0;32m-> 1037\u001b[0m \u001b[39mself\u001b[39;49m\u001b[39m.\u001b[39;49msend(msg)\n\u001b[1;32m   1039\u001b[0m \u001b[39mif\u001b[39;00m message_body \u001b[39mis\u001b[39;00m \u001b[39mnot\u001b[39;00m \u001b[39mNone\u001b[39;00m:\n\u001b[1;32m   1040\u001b[0m \n\u001b[1;32m   1041\u001b[0m     \u001b[39m# create a consistent interface to message_body\u001b[39;00m\n",
      "File \u001b[0;32m/usr/local/Cellar/python@3.11/3.11.2_1/Frameworks/Python.framework/Versions/3.11/lib/python3.11/http/client.py:975\u001b[0m, in \u001b[0;36mHTTPConnection.send\u001b[0;34m(self, data)\u001b[0m\n\u001b[1;32m    974\u001b[0m \u001b[39mif\u001b[39;00m \u001b[39mself\u001b[39m\u001b[39m.\u001b[39mauto_open:\n\u001b[0;32m--> 975\u001b[0m     \u001b[39mself\u001b[39;49m\u001b[39m.\u001b[39;49mconnect()\n\u001b[1;32m    976\u001b[0m \u001b[39melse\u001b[39;00m:\n",
      "File \u001b[0;32m~/.pyenv/versions/dsp-env/lib/python3.11/site-packages/urllib3/connection.py:236\u001b[0m, in \u001b[0;36mHTTPConnection.connect\u001b[0;34m(self)\u001b[0m\n\u001b[1;32m    235\u001b[0m \u001b[39mdef\u001b[39;00m \u001b[39mconnect\u001b[39m(\u001b[39mself\u001b[39m) \u001b[39m-\u001b[39m\u001b[39m>\u001b[39m \u001b[39mNone\u001b[39;00m:\n\u001b[0;32m--> 236\u001b[0m     \u001b[39mself\u001b[39m\u001b[39m.\u001b[39msock \u001b[39m=\u001b[39m \u001b[39mself\u001b[39;49m\u001b[39m.\u001b[39;49m_new_conn()\n\u001b[1;32m    237\u001b[0m     \u001b[39mif\u001b[39;00m \u001b[39mself\u001b[39m\u001b[39m.\u001b[39m_tunnel_host:\n\u001b[1;32m    238\u001b[0m         \u001b[39m# If we're tunneling it means we're connected to our proxy.\u001b[39;00m\n",
      "File \u001b[0;32m~/.pyenv/versions/dsp-env/lib/python3.11/site-packages/urllib3/connection.py:209\u001b[0m, in \u001b[0;36mHTTPConnection._new_conn\u001b[0;34m(self)\u001b[0m\n\u001b[1;32m    208\u001b[0m \u001b[39mexcept\u001b[39;00m SocketTimeout \u001b[39mas\u001b[39;00m e:\n\u001b[0;32m--> 209\u001b[0m     \u001b[39mraise\u001b[39;00m ConnectTimeoutError(\n\u001b[1;32m    210\u001b[0m         \u001b[39mself\u001b[39m,\n\u001b[1;32m    211\u001b[0m         \u001b[39mf\u001b[39m\u001b[39m\"\u001b[39m\u001b[39mConnection to \u001b[39m\u001b[39m{\u001b[39;00m\u001b[39mself\u001b[39m\u001b[39m.\u001b[39mhost\u001b[39m}\u001b[39;00m\u001b[39m timed out. (connect timeout=\u001b[39m\u001b[39m{\u001b[39;00m\u001b[39mself\u001b[39m\u001b[39m.\u001b[39mtimeout\u001b[39m}\u001b[39;00m\u001b[39m)\u001b[39m\u001b[39m\"\u001b[39m,\n\u001b[1;32m    212\u001b[0m     ) \u001b[39mfrom\u001b[39;00m \u001b[39me\u001b[39;00m\n\u001b[1;32m    214\u001b[0m \u001b[39mexcept\u001b[39;00m \u001b[39mOSError\u001b[39;00m \u001b[39mas\u001b[39;00m e:\n",
      "\u001b[0;31mConnectTimeoutError\u001b[0m: (<urllib3.connection.HTTPConnection object at 0x125ff5990>, 'Connection to ec2-44-228-128-229.us-west-2.compute.amazonaws.com timed out. (connect timeout=10)')",
      "\nThe above exception was the direct cause of the following exception:\n",
      "\u001b[0;31mMaxRetryError\u001b[0m                             Traceback (most recent call last)",
      "File \u001b[0;32m~/.pyenv/versions/dsp-env/lib/python3.11/site-packages/requests/adapters.py:486\u001b[0m, in \u001b[0;36mHTTPAdapter.send\u001b[0;34m(self, request, stream, timeout, verify, cert, proxies)\u001b[0m\n\u001b[1;32m    485\u001b[0m \u001b[39mtry\u001b[39;00m:\n\u001b[0;32m--> 486\u001b[0m     resp \u001b[39m=\u001b[39m conn\u001b[39m.\u001b[39;49murlopen(\n\u001b[1;32m    487\u001b[0m         method\u001b[39m=\u001b[39;49mrequest\u001b[39m.\u001b[39;49mmethod,\n\u001b[1;32m    488\u001b[0m         url\u001b[39m=\u001b[39;49murl,\n\u001b[1;32m    489\u001b[0m         body\u001b[39m=\u001b[39;49mrequest\u001b[39m.\u001b[39;49mbody,\n\u001b[1;32m    490\u001b[0m         headers\u001b[39m=\u001b[39;49mrequest\u001b[39m.\u001b[39;49mheaders,\n\u001b[1;32m    491\u001b[0m         redirect\u001b[39m=\u001b[39;49m\u001b[39mFalse\u001b[39;49;00m,\n\u001b[1;32m    492\u001b[0m         assert_same_host\u001b[39m=\u001b[39;49m\u001b[39mFalse\u001b[39;49;00m,\n\u001b[1;32m    493\u001b[0m         preload_content\u001b[39m=\u001b[39;49m\u001b[39mFalse\u001b[39;49;00m,\n\u001b[1;32m    494\u001b[0m         decode_content\u001b[39m=\u001b[39;49m\u001b[39mFalse\u001b[39;49;00m,\n\u001b[1;32m    495\u001b[0m         retries\u001b[39m=\u001b[39;49m\u001b[39mself\u001b[39;49m\u001b[39m.\u001b[39;49mmax_retries,\n\u001b[1;32m    496\u001b[0m         timeout\u001b[39m=\u001b[39;49mtimeout,\n\u001b[1;32m    497\u001b[0m         chunked\u001b[39m=\u001b[39;49mchunked,\n\u001b[1;32m    498\u001b[0m     )\n\u001b[1;32m    500\u001b[0m \u001b[39mexcept\u001b[39;00m (ProtocolError, \u001b[39mOSError\u001b[39;00m) \u001b[39mas\u001b[39;00m err:\n",
      "File \u001b[0;32m~/.pyenv/versions/dsp-env/lib/python3.11/site-packages/urllib3/connectionpool.py:844\u001b[0m, in \u001b[0;36mHTTPConnectionPool.urlopen\u001b[0;34m(self, method, url, body, headers, retries, redirect, assert_same_host, timeout, pool_timeout, release_conn, chunked, body_pos, preload_content, decode_content, **response_kw)\u001b[0m\n\u001b[1;32m    842\u001b[0m     new_e \u001b[39m=\u001b[39m ProtocolError(\u001b[39m\"\u001b[39m\u001b[39mConnection aborted.\u001b[39m\u001b[39m\"\u001b[39m, new_e)\n\u001b[0;32m--> 844\u001b[0m retries \u001b[39m=\u001b[39m retries\u001b[39m.\u001b[39;49mincrement(\n\u001b[1;32m    845\u001b[0m     method, url, error\u001b[39m=\u001b[39;49mnew_e, _pool\u001b[39m=\u001b[39;49m\u001b[39mself\u001b[39;49m, _stacktrace\u001b[39m=\u001b[39;49msys\u001b[39m.\u001b[39;49mexc_info()[\u001b[39m2\u001b[39;49m]\n\u001b[1;32m    846\u001b[0m )\n\u001b[1;32m    847\u001b[0m retries\u001b[39m.\u001b[39msleep()\n",
      "File \u001b[0;32m~/.pyenv/versions/dsp-env/lib/python3.11/site-packages/urllib3/util/retry.py:515\u001b[0m, in \u001b[0;36mRetry.increment\u001b[0;34m(self, method, url, response, error, _pool, _stacktrace)\u001b[0m\n\u001b[1;32m    514\u001b[0m     reason \u001b[39m=\u001b[39m error \u001b[39mor\u001b[39;00m ResponseError(cause)\n\u001b[0;32m--> 515\u001b[0m     \u001b[39mraise\u001b[39;00m MaxRetryError(_pool, url, reason) \u001b[39mfrom\u001b[39;00m \u001b[39mreason\u001b[39;00m  \u001b[39m# type: ignore[arg-type]\u001b[39;00m\n\u001b[1;32m    517\u001b[0m log\u001b[39m.\u001b[39mdebug(\u001b[39m\"\u001b[39m\u001b[39mIncremented Retry for (url=\u001b[39m\u001b[39m'\u001b[39m\u001b[39m%s\u001b[39;00m\u001b[39m'\u001b[39m\u001b[39m): \u001b[39m\u001b[39m%r\u001b[39;00m\u001b[39m\"\u001b[39m, url, new_retry)\n",
      "\u001b[0;31mMaxRetryError\u001b[0m: HTTPConnectionPool(host='ec2-44-228-128-229.us-west-2.compute.amazonaws.com', port=8893): Max retries exceeded with url: /api/search?query=What+professions+did+E.+L.+Doctorow+and+Julia+Peterkin+have%3F&k=2 (Caused by ConnectTimeoutError(<urllib3.connection.HTTPConnection object at 0x125ff5990>, 'Connection to ec2-44-228-128-229.us-west-2.compute.amazonaws.com timed out. (connect timeout=10)'))",
      "\nDuring handling of the above exception, another exception occurred:\n",
      "\u001b[0;31mConnectTimeout\u001b[0m                            Traceback (most recent call last)",
      "Cell \u001b[0;32mIn[62], line 1\u001b[0m\n\u001b[0;32m----> 1\u001b[0m evaluate(multihop_QA_v1, dev)\n",
      "File \u001b[0;32m~/programming/dsp/dsp/evaluation/utils.py:63\u001b[0m, in \u001b[0;36mevaluate\u001b[0;34m(fn, dev, metric)\u001b[0m\n\u001b[1;32m     61\u001b[0m \u001b[39mfor\u001b[39;00m example \u001b[39min\u001b[39;00m tqdm\u001b[39m.\u001b[39mtqdm(dev):\n\u001b[1;32m     62\u001b[0m     question \u001b[39m=\u001b[39m example\u001b[39m.\u001b[39mquestion\n\u001b[0;32m---> 63\u001b[0m     prediction \u001b[39m=\u001b[39m fn(question)\n\u001b[1;32m     65\u001b[0m     d \u001b[39m=\u001b[39m \u001b[39mdict\u001b[39m(example)\n\u001b[1;32m     67\u001b[0m     pred \u001b[39m=\u001b[39m prediction\u001b[39m#.answer\u001b[39;00m\n",
      "Cell \u001b[0;32mIn[53], line 25\u001b[0m, in \u001b[0;36mmultihop_QA_v1\u001b[0;34m(question)\u001b[0m\n\u001b[1;32m     22\u001b[0m demos \u001b[39m=\u001b[39m dsp\u001b[39m.\u001b[39msample(train, k\u001b[39m=\u001b[39m\u001b[39m7\u001b[39m)\n\u001b[1;32m     23\u001b[0m x \u001b[39m=\u001b[39m dsp\u001b[39m.\u001b[39mExample(question\u001b[39m=\u001b[39mquestion, demos\u001b[39m=\u001b[39mdemos)\n\u001b[0;32m---> 25\u001b[0m x \u001b[39m=\u001b[39m multihop_search_v1(x)\n\u001b[1;32m     26\u001b[0m x \u001b[39m=\u001b[39m QA_predict(x, sc\u001b[39m=\u001b[39m\u001b[39mFalse\u001b[39;00m)\n\u001b[1;32m     28\u001b[0m \u001b[39mreturn\u001b[39;00m x\u001b[39m.\u001b[39manswer\n",
      "File \u001b[0;32m~/programming/dsp/dsp/primitives/primitives.py:19\u001b[0m, in \u001b[0;36mshallow_copy_example_args.<locals>.wrapper\u001b[0;34m(*args, **kwargs)\u001b[0m\n\u001b[1;32m     17\u001b[0m args \u001b[39m=\u001b[39m [dsp\u001b[39m.\u001b[39mExample(arg) \u001b[39mif\u001b[39;00m \u001b[39misinstance\u001b[39m(arg, dsp\u001b[39m.\u001b[39mExample) \u001b[39melse\u001b[39;00m arg \u001b[39mfor\u001b[39;00m arg \u001b[39min\u001b[39;00m args]\n\u001b[1;32m     18\u001b[0m kwargs \u001b[39m=\u001b[39m {key: dsp\u001b[39m.\u001b[39mExample(value) \u001b[39mif\u001b[39;00m \u001b[39misinstance\u001b[39m(value, dsp\u001b[39m.\u001b[39mExample) \u001b[39melse\u001b[39;00m value \u001b[39mfor\u001b[39;00m key, value \u001b[39min\u001b[39;00m kwargs\u001b[39m.\u001b[39mitems()}\n\u001b[0;32m---> 19\u001b[0m \u001b[39mreturn\u001b[39;00m func(\u001b[39m*\u001b[39;49margs, \u001b[39m*\u001b[39;49m\u001b[39m*\u001b[39;49mkwargs)\n",
      "Cell \u001b[0;32mIn[53], line 13\u001b[0m, in \u001b[0;36mmultihop_search_v1\u001b[0;34m(example, max_hops, k)\u001b[0m\n\u001b[1;32m     10\u001b[0m example, completions \u001b[39m=\u001b[39m dsp\u001b[39m.\u001b[39mgenerate(template)(example, stage\u001b[39m=\u001b[39m\u001b[39mf\u001b[39m\u001b[39m'\u001b[39m\u001b[39mh\u001b[39m\u001b[39m{\u001b[39;00mhop\u001b[39m}\u001b[39;00m\u001b[39m'\u001b[39m)\n\u001b[1;32m     12\u001b[0m \u001b[39m# Retrieve k results based on the query generated\u001b[39;00m\n\u001b[0;32m---> 13\u001b[0m passages \u001b[39m=\u001b[39m dsp\u001b[39m.\u001b[39;49mretrieve(completions\u001b[39m.\u001b[39;49mquery, k\u001b[39m=\u001b[39;49mk)\n\u001b[1;32m     15\u001b[0m \u001b[39m# Update the context by concatenating old and new passages\u001b[39;00m\n\u001b[1;32m     16\u001b[0m example\u001b[39m.\u001b[39mcontext \u001b[39m=\u001b[39m deduplicate(example\u001b[39m.\u001b[39mcontext \u001b[39m+\u001b[39m passages)\n",
      "File \u001b[0;32m~/programming/dsp/dsp/primitives/search.py:9\u001b[0m, in \u001b[0;36mretrieve\u001b[0;34m(query, k)\u001b[0m\n\u001b[1;32m      7\u001b[0m \u001b[39mif\u001b[39;00m \u001b[39mnot\u001b[39;00m dsp\u001b[39m.\u001b[39msettings\u001b[39m.\u001b[39mrm:\n\u001b[1;32m      8\u001b[0m     \u001b[39mraise\u001b[39;00m \u001b[39mAssertionError\u001b[39;00m(\u001b[39m\"\u001b[39m\u001b[39mNo RM is loaded.\u001b[39m\u001b[39m\"\u001b[39m)\n\u001b[0;32m----> 9\u001b[0m passages \u001b[39m=\u001b[39m dsp\u001b[39m.\u001b[39;49msettings\u001b[39m.\u001b[39;49mrm(query, k\u001b[39m=\u001b[39;49mk)\n\u001b[1;32m     10\u001b[0m passages \u001b[39m=\u001b[39m [psg\u001b[39m.\u001b[39mlong_text \u001b[39mfor\u001b[39;00m psg \u001b[39min\u001b[39;00m passages]\n\u001b[1;32m     12\u001b[0m \u001b[39mif\u001b[39;00m dsp\u001b[39m.\u001b[39msettings\u001b[39m.\u001b[39mreranker:\n",
      "File \u001b[0;32m~/programming/dsp/dsp/modules/colbertv2.py:30\u001b[0m, in \u001b[0;36mColBERTv2.__call__\u001b[0;34m(self, query, k, simplify)\u001b[0m\n\u001b[1;32m     28\u001b[0m     topk: \u001b[39mlist\u001b[39m[\u001b[39mdict\u001b[39m[\u001b[39mstr\u001b[39m, Any]] \u001b[39m=\u001b[39m colbertv2_post_request(\u001b[39mself\u001b[39m\u001b[39m.\u001b[39murl, query, k)\n\u001b[1;32m     29\u001b[0m \u001b[39melse\u001b[39;00m:\n\u001b[0;32m---> 30\u001b[0m     topk: \u001b[39mlist\u001b[39m[\u001b[39mdict\u001b[39m[\u001b[39mstr\u001b[39m, Any]] \u001b[39m=\u001b[39m colbertv2_get_request(\u001b[39mself\u001b[39;49m\u001b[39m.\u001b[39;49murl, query, k)\n\u001b[1;32m     32\u001b[0m \u001b[39mif\u001b[39;00m simplify:\n\u001b[1;32m     33\u001b[0m     \u001b[39mreturn\u001b[39;00m [psg[\u001b[39m\"\u001b[39m\u001b[39mlong_text\u001b[39m\u001b[39m\"\u001b[39m] \u001b[39mfor\u001b[39;00m psg \u001b[39min\u001b[39;00m topk]\n",
      "File \u001b[0;32m~/programming/dsp/dsp/modules/cache_utils.py:16\u001b[0m, in \u001b[0;36mnoop_decorator.<locals>.wrapper\u001b[0;34m(*args, **kwargs)\u001b[0m\n\u001b[1;32m     14\u001b[0m \u001b[39m@wraps\u001b[39m(func)\n\u001b[1;32m     15\u001b[0m \u001b[39mdef\u001b[39;00m \u001b[39mwrapper\u001b[39m(\u001b[39m*\u001b[39margs, \u001b[39m*\u001b[39m\u001b[39m*\u001b[39mkwargs):\n\u001b[0;32m---> 16\u001b[0m     \u001b[39mreturn\u001b[39;00m func(\u001b[39m*\u001b[39;49margs, \u001b[39m*\u001b[39;49m\u001b[39m*\u001b[39;49mkwargs)\n",
      "File \u001b[0;32m~/programming/dsp/dsp/modules/colbertv2.py:55\u001b[0m, in \u001b[0;36mcolbertv2_get_request_v2_wrapped\u001b[0;34m(*args, **kwargs)\u001b[0m\n\u001b[1;32m     52\u001b[0m \u001b[39m@functools\u001b[39m\u001b[39m.\u001b[39mlru_cache(maxsize\u001b[39m=\u001b[39m\u001b[39mNone\u001b[39;00m)\n\u001b[1;32m     53\u001b[0m \u001b[39m@NotebookCacheMemory\u001b[39m\u001b[39m.\u001b[39mcache\n\u001b[1;32m     54\u001b[0m \u001b[39mdef\u001b[39;00m \u001b[39mcolbertv2_get_request_v2_wrapped\u001b[39m(\u001b[39m*\u001b[39margs, \u001b[39m*\u001b[39m\u001b[39m*\u001b[39mkwargs):\n\u001b[0;32m---> 55\u001b[0m     \u001b[39mreturn\u001b[39;00m colbertv2_get_request_v2(\u001b[39m*\u001b[39;49margs, \u001b[39m*\u001b[39;49m\u001b[39m*\u001b[39;49mkwargs)\n",
      "File \u001b[0;32m~/.pyenv/versions/dsp-env/lib/python3.11/site-packages/joblib/memory.py:594\u001b[0m, in \u001b[0;36mMemorizedFunc.__call__\u001b[0;34m(self, *args, **kwargs)\u001b[0m\n\u001b[1;32m    593\u001b[0m \u001b[39mdef\u001b[39;00m \u001b[39m__call__\u001b[39m(\u001b[39mself\u001b[39m, \u001b[39m*\u001b[39margs, \u001b[39m*\u001b[39m\u001b[39m*\u001b[39mkwargs):\n\u001b[0;32m--> 594\u001b[0m     \u001b[39mreturn\u001b[39;00m \u001b[39mself\u001b[39;49m\u001b[39m.\u001b[39;49m_cached_call(args, kwargs)[\u001b[39m0\u001b[39m]\n",
      "File \u001b[0;32m~/.pyenv/versions/dsp-env/lib/python3.11/site-packages/joblib/memory.py:537\u001b[0m, in \u001b[0;36mMemorizedFunc._cached_call\u001b[0;34m(self, args, kwargs, shelving)\u001b[0m\n\u001b[1;32m    534\u001b[0m         must_call \u001b[39m=\u001b[39m \u001b[39mTrue\u001b[39;00m\n\u001b[1;32m    536\u001b[0m \u001b[39mif\u001b[39;00m must_call:\n\u001b[0;32m--> 537\u001b[0m     out, metadata \u001b[39m=\u001b[39m \u001b[39mself\u001b[39;49m\u001b[39m.\u001b[39;49mcall(\u001b[39m*\u001b[39;49margs, \u001b[39m*\u001b[39;49m\u001b[39m*\u001b[39;49mkwargs)\n\u001b[1;32m    538\u001b[0m     \u001b[39mif\u001b[39;00m \u001b[39mself\u001b[39m\u001b[39m.\u001b[39mmmap_mode \u001b[39mis\u001b[39;00m \u001b[39mnot\u001b[39;00m \u001b[39mNone\u001b[39;00m:\n\u001b[1;32m    539\u001b[0m         \u001b[39m# Memmap the output at the first call to be consistent with\u001b[39;00m\n\u001b[1;32m    540\u001b[0m         \u001b[39m# later calls\u001b[39;00m\n\u001b[1;32m    541\u001b[0m         \u001b[39mif\u001b[39;00m \u001b[39mself\u001b[39m\u001b[39m.\u001b[39m_verbose:\n",
      "File \u001b[0;32m~/.pyenv/versions/dsp-env/lib/python3.11/site-packages/joblib/memory.py:779\u001b[0m, in \u001b[0;36mMemorizedFunc.call\u001b[0;34m(self, *args, **kwargs)\u001b[0m\n\u001b[1;32m    777\u001b[0m \u001b[39mif\u001b[39;00m \u001b[39mself\u001b[39m\u001b[39m.\u001b[39m_verbose \u001b[39m>\u001b[39m \u001b[39m0\u001b[39m:\n\u001b[1;32m    778\u001b[0m     \u001b[39mprint\u001b[39m(format_call(\u001b[39mself\u001b[39m\u001b[39m.\u001b[39mfunc, args, kwargs))\n\u001b[0;32m--> 779\u001b[0m output \u001b[39m=\u001b[39m \u001b[39mself\u001b[39;49m\u001b[39m.\u001b[39;49mfunc(\u001b[39m*\u001b[39;49margs, \u001b[39m*\u001b[39;49m\u001b[39m*\u001b[39;49mkwargs)\n\u001b[1;32m    780\u001b[0m \u001b[39mself\u001b[39m\u001b[39m.\u001b[39mstore_backend\u001b[39m.\u001b[39mdump_item(\n\u001b[1;32m    781\u001b[0m     [func_id, args_id], output, verbose\u001b[39m=\u001b[39m\u001b[39mself\u001b[39m\u001b[39m.\u001b[39m_verbose)\n\u001b[1;32m    783\u001b[0m duration \u001b[39m=\u001b[39m time\u001b[39m.\u001b[39mtime() \u001b[39m-\u001b[39m start_time\n",
      "File \u001b[0;32m~/programming/dsp/dsp/modules/colbertv2.py:45\u001b[0m, in \u001b[0;36mcolbertv2_get_request_v2\u001b[0;34m(url, query, k)\u001b[0m\n\u001b[1;32m     40\u001b[0m \u001b[39massert\u001b[39;00m (\n\u001b[1;32m     41\u001b[0m     k \u001b[39m<\u001b[39m\u001b[39m=\u001b[39m \u001b[39m100\u001b[39m\n\u001b[1;32m     42\u001b[0m ), \u001b[39m\"\u001b[39m\u001b[39mOnly k <= 100 is supported for the hosted ColBERTv2 server at the moment.\u001b[39m\u001b[39m\"\u001b[39m\n\u001b[1;32m     44\u001b[0m payload \u001b[39m=\u001b[39m {\u001b[39m\"\u001b[39m\u001b[39mquery\u001b[39m\u001b[39m\"\u001b[39m: query, \u001b[39m\"\u001b[39m\u001b[39mk\u001b[39m\u001b[39m\"\u001b[39m: k}\n\u001b[0;32m---> 45\u001b[0m res \u001b[39m=\u001b[39m requests\u001b[39m.\u001b[39;49mget(url, params\u001b[39m=\u001b[39;49mpayload, timeout\u001b[39m=\u001b[39;49m\u001b[39m10\u001b[39;49m)\n\u001b[1;32m     47\u001b[0m topk \u001b[39m=\u001b[39m res\u001b[39m.\u001b[39mjson()[\u001b[39m\"\u001b[39m\u001b[39mtopk\u001b[39m\u001b[39m\"\u001b[39m][:k]\n\u001b[1;32m     48\u001b[0m topk \u001b[39m=\u001b[39m [{\u001b[39m*\u001b[39m\u001b[39m*\u001b[39md, \u001b[39m\"\u001b[39m\u001b[39mlong_text\u001b[39m\u001b[39m\"\u001b[39m: d[\u001b[39m\"\u001b[39m\u001b[39mtext\u001b[39m\u001b[39m\"\u001b[39m]} \u001b[39mfor\u001b[39;00m d \u001b[39min\u001b[39;00m topk]\n",
      "File \u001b[0;32m~/.pyenv/versions/dsp-env/lib/python3.11/site-packages/requests/api.py:73\u001b[0m, in \u001b[0;36mget\u001b[0;34m(url, params, **kwargs)\u001b[0m\n\u001b[1;32m     62\u001b[0m \u001b[39mdef\u001b[39;00m \u001b[39mget\u001b[39m(url, params\u001b[39m=\u001b[39m\u001b[39mNone\u001b[39;00m, \u001b[39m*\u001b[39m\u001b[39m*\u001b[39mkwargs):\n\u001b[1;32m     63\u001b[0m \u001b[39m    \u001b[39m\u001b[39mr\u001b[39m\u001b[39m\"\"\"Sends a GET request.\u001b[39;00m\n\u001b[1;32m     64\u001b[0m \n\u001b[1;32m     65\u001b[0m \u001b[39m    :param url: URL for the new :class:`Request` object.\u001b[39;00m\n\u001b[0;32m   (...)\u001b[0m\n\u001b[1;32m     70\u001b[0m \u001b[39m    :rtype: requests.Response\u001b[39;00m\n\u001b[1;32m     71\u001b[0m \u001b[39m    \"\"\"\u001b[39;00m\n\u001b[0;32m---> 73\u001b[0m     \u001b[39mreturn\u001b[39;00m request(\u001b[39m\"\u001b[39;49m\u001b[39mget\u001b[39;49m\u001b[39m\"\u001b[39;49m, url, params\u001b[39m=\u001b[39;49mparams, \u001b[39m*\u001b[39;49m\u001b[39m*\u001b[39;49mkwargs)\n",
      "File \u001b[0;32m~/.pyenv/versions/dsp-env/lib/python3.11/site-packages/requests/api.py:59\u001b[0m, in \u001b[0;36mrequest\u001b[0;34m(method, url, **kwargs)\u001b[0m\n\u001b[1;32m     55\u001b[0m \u001b[39m# By using the 'with' statement we are sure the session is closed, thus we\u001b[39;00m\n\u001b[1;32m     56\u001b[0m \u001b[39m# avoid leaving sockets open which can trigger a ResourceWarning in some\u001b[39;00m\n\u001b[1;32m     57\u001b[0m \u001b[39m# cases, and look like a memory leak in others.\u001b[39;00m\n\u001b[1;32m     58\u001b[0m \u001b[39mwith\u001b[39;00m sessions\u001b[39m.\u001b[39mSession() \u001b[39mas\u001b[39;00m session:\n\u001b[0;32m---> 59\u001b[0m     \u001b[39mreturn\u001b[39;00m session\u001b[39m.\u001b[39;49mrequest(method\u001b[39m=\u001b[39;49mmethod, url\u001b[39m=\u001b[39;49murl, \u001b[39m*\u001b[39;49m\u001b[39m*\u001b[39;49mkwargs)\n",
      "File \u001b[0;32m~/.pyenv/versions/dsp-env/lib/python3.11/site-packages/requests/sessions.py:589\u001b[0m, in \u001b[0;36mSession.request\u001b[0;34m(self, method, url, params, data, headers, cookies, files, auth, timeout, allow_redirects, proxies, hooks, stream, verify, cert, json)\u001b[0m\n\u001b[1;32m    584\u001b[0m send_kwargs \u001b[39m=\u001b[39m {\n\u001b[1;32m    585\u001b[0m     \u001b[39m\"\u001b[39m\u001b[39mtimeout\u001b[39m\u001b[39m\"\u001b[39m: timeout,\n\u001b[1;32m    586\u001b[0m     \u001b[39m\"\u001b[39m\u001b[39mallow_redirects\u001b[39m\u001b[39m\"\u001b[39m: allow_redirects,\n\u001b[1;32m    587\u001b[0m }\n\u001b[1;32m    588\u001b[0m send_kwargs\u001b[39m.\u001b[39mupdate(settings)\n\u001b[0;32m--> 589\u001b[0m resp \u001b[39m=\u001b[39m \u001b[39mself\u001b[39;49m\u001b[39m.\u001b[39;49msend(prep, \u001b[39m*\u001b[39;49m\u001b[39m*\u001b[39;49msend_kwargs)\n\u001b[1;32m    591\u001b[0m \u001b[39mreturn\u001b[39;00m resp\n",
      "File \u001b[0;32m~/.pyenv/versions/dsp-env/lib/python3.11/site-packages/requests/sessions.py:703\u001b[0m, in \u001b[0;36mSession.send\u001b[0;34m(self, request, **kwargs)\u001b[0m\n\u001b[1;32m    700\u001b[0m start \u001b[39m=\u001b[39m preferred_clock()\n\u001b[1;32m    702\u001b[0m \u001b[39m# Send the request\u001b[39;00m\n\u001b[0;32m--> 703\u001b[0m r \u001b[39m=\u001b[39m adapter\u001b[39m.\u001b[39;49msend(request, \u001b[39m*\u001b[39;49m\u001b[39m*\u001b[39;49mkwargs)\n\u001b[1;32m    705\u001b[0m \u001b[39m# Total elapsed time of the request (approximately)\u001b[39;00m\n\u001b[1;32m    706\u001b[0m elapsed \u001b[39m=\u001b[39m preferred_clock() \u001b[39m-\u001b[39m start\n",
      "File \u001b[0;32m~/.pyenv/versions/dsp-env/lib/python3.11/site-packages/requests/adapters.py:507\u001b[0m, in \u001b[0;36mHTTPAdapter.send\u001b[0;34m(self, request, stream, timeout, verify, cert, proxies)\u001b[0m\n\u001b[1;32m    504\u001b[0m \u001b[39mif\u001b[39;00m \u001b[39misinstance\u001b[39m(e\u001b[39m.\u001b[39mreason, ConnectTimeoutError):\n\u001b[1;32m    505\u001b[0m     \u001b[39m# TODO: Remove this in 3.0.0: see #2811\u001b[39;00m\n\u001b[1;32m    506\u001b[0m     \u001b[39mif\u001b[39;00m \u001b[39mnot\u001b[39;00m \u001b[39misinstance\u001b[39m(e\u001b[39m.\u001b[39mreason, NewConnectionError):\n\u001b[0;32m--> 507\u001b[0m         \u001b[39mraise\u001b[39;00m ConnectTimeout(e, request\u001b[39m=\u001b[39mrequest)\n\u001b[1;32m    509\u001b[0m \u001b[39mif\u001b[39;00m \u001b[39misinstance\u001b[39m(e\u001b[39m.\u001b[39mreason, ResponseError):\n\u001b[1;32m    510\u001b[0m     \u001b[39mraise\u001b[39;00m RetryError(e, request\u001b[39m=\u001b[39mrequest)\n",
      "\u001b[0;31mConnectTimeout\u001b[0m: HTTPConnectionPool(host='ec2-44-228-128-229.us-west-2.compute.amazonaws.com', port=8893): Max retries exceeded with url: /api/search?query=What+professions+did+E.+L.+Doctorow+and+Julia+Peterkin+have%3F&k=2 (Caused by ConnectTimeoutError(<urllib3.connection.HTTPConnection object at 0x125ff5990>, 'Connection to ec2-44-228-128-229.us-west-2.compute.amazonaws.com timed out. (connect timeout=10)'))"
     ]
    }
   ],
   "source": [
    "evaluate(multihop_QA_v1, dev)"
   ]
  },
  {
   "attachments": {},
   "cell_type": "markdown",
   "id": "03ffc7df",
   "metadata": {},
   "source": [
    "## Chat Adapter with system_turn=True, multi_turn=True, strict_turn=True"
   ]
  },
  {
   "cell_type": "code",
   "execution_count": null,
   "id": "2c4d0bec",
   "metadata": {},
   "outputs": [
    {
     "name": "stdout",
     "output_type": "stream",
     "text": [
      "\n",
      "\n",
      "\n",
      "\n",
      "{'model': 'gpt-3.5-turbo-0613', 'messages': [{'role': 'system', 'content': 'Answer questions with short factoid answers.'}, {'role': 'user', 'content': 'Question: Which award did the first book of Gary Zukav receive?\\nAnswer: U.S. National Book Award\\n\\nQuestion: The heir to the Du Pont family fortune sponsored what wrestling team?\\nAnswer: Foxcatcher\\n\\nQuestion: Who was the director of the 2009 movie featuring Peter Outerbridge as William Easton?\\nAnswer: Kevin Greutert\\n\\nQuestion: Who produced the album that included a re-recording of \"Lithium\"?\\nAnswer: Butch Vig\\n\\nQuestion: What city was the victim of Joseph Druces working in?\\nAnswer: Boston, Massachusetts\\n\\nQuestion: In what year was the star of To Hell and Back born?\\nAnswer: 1925'}, {'role': 'assistant', 'content': 'Got it.'}, {'role': 'user', 'content': \"Follow the following format.\\n\\nContext:\\n${sources that may contain relevant content}\\n\\nQuestion: ${the question to be answered}\\n\\nRationale: Let's think step by step. ${a step-by-step deduction that identifies the correct response, which will be provided below}\\n\\nAnswer: ${a short factoid answer, often between 1 and 5 words}\"}, {'role': 'assistant', 'content': 'Got it.'}, {'role': 'user', 'content': 'Context:\\n[1] «Long Island serial killer | Long Island serial killer The Long Island serial killer (also referred to as LISK, the Gilgo Beach Killer or the Craigslist Ripper) is an unidentified suspected serial killer who is believed to have murdered 10 to 16 people associated with prostitution, over a period of nearly 20 years, and dumped their bodies along the Ocean Parkway, near the remote Long Island, New York beach towns of Gilgo and Oak Beach in Suffolk County, and the area of Jones Beach State Park in Nassau County. The remains of four victims were found in December 2010, while six more sets of remains»\\n[2] «Joel Rifkin | to the Gilgo Beach Killer. In an April 2011 prison interview with \"Newsday\", Rifkin denied having anything to do with the remains discovered in 2011. Experts and victims\\' rights advocates, however, believe that those denials have no value. Rifkin\\'s birth mother was a 20-year-old college student, and his biological father was a 24-year-old college student and army veteran. At three weeks old he was adopted by an upper-middle class Long Island couple, on February 14, 1959. His adoptive father, Benjamin Rifkin, was of Russian Jewish descent and his adoptive mother, Jeanne (Granelles), of Spanish descent, converted to Judaism when she»\\n[3] «Lyle and Erik Menendez | documentary on Tammi, \"Mrs. Menéndez\". In late 2017, A&E aired a five-part documentary, titled \"The Menendez Murders: Erik Tells All\", in which Erik, via telephone, recalls the murders and the aftermath. The series also provides never-before-seen photos and new interviews with prosecutors, law enforcement, close family, friends and medical experts. The Menéndez brothers were featured in a 2017 documentary titled \"Truth and Lies: The Menéndez Brothers — American Sons, American Murderers\" on ABC, as well as on an episode of \"Snapped\" in 2016. The murders are the subjects of multiple docu-dramas, including the Lifetime movie \"\" (2017), as well as»\\n\\nQuestion: What documentary about the Gilgo Beach Killer debuted on A&E?\\n\\nRationale: Let\\'s think step by step.'}]}\u001b[32mRationale: The context mentions that A&E aired a five-part documentary about the Gilgo Beach Killer. Therefore, the answer can be found by identifying the name of this documentary.\n",
      "\n",
      "Answer: \"The Menendez Murders: Erik Tells All\"\u001b[0m\n",
      "\n",
      "\n",
      "\n"
     ]
    },
    {
     "data": {
      "text/plain": [
       "('\"The Menendez Murders: Erik Tells All\"', None)"
      ]
     },
     "execution_count": 61,
     "metadata": {},
     "output_type": "execute_result"
    }
   ],
   "source": [
    "dsp.settings.configure(lm=turbo, rm=rm, adapter=ChatAdapter(system_turn=True, multi_turn=True, strict_turn=True))\n",
    "multihop_QA_v1(dev[1].question), turbo.inspect_history(n=1)"
   ]
  },
  {
   "cell_type": "code",
   "execution_count": null,
   "id": "55256f57",
   "metadata": {},
   "outputs": [
    {
     "name": "stderr",
     "output_type": "stream",
     "text": [
      "100%|██████████| 13/13 [00:00<00:00, 3445.56it/s]"
     ]
    },
    {
     "name": "stdout",
     "output_type": "stream",
     "text": [
      "Answered 3 / 13 (23.1%) correctly.\n"
     ]
    },
    {
     "name": "stderr",
     "output_type": "stream",
     "text": [
      "\n"
     ]
    },
    {
     "data": {
      "text/html": [
       "<style type=\"text/css\">\n",
       "#T_c6fc9 th {\n",
       "  text-align: left;\n",
       "}\n",
       "#T_c6fc9 td {\n",
       "  text-align: left;\n",
       "}\n",
       "</style>\n",
       "<table id=\"T_c6fc9\">\n",
       "  <thead>\n",
       "    <tr>\n",
       "      <th class=\"blank level0\" >&nbsp;</th>\n",
       "      <th id=\"T_c6fc9_level0_col0\" class=\"col_heading level0 col0\" >question</th>\n",
       "      <th id=\"T_c6fc9_level0_col1\" class=\"col_heading level0 col1\" >answer</th>\n",
       "      <th id=\"T_c6fc9_level0_col2\" class=\"col_heading level0 col2\" >prediction</th>\n",
       "      <th id=\"T_c6fc9_level0_col3\" class=\"col_heading level0 col3\" >correct</th>\n",
       "    </tr>\n",
       "  </thead>\n",
       "  <tbody>\n",
       "    <tr>\n",
       "      <th id=\"T_c6fc9_level0_row0\" class=\"row_heading level0 row0\" >0</th>\n",
       "      <td id=\"T_c6fc9_row0_col0\" class=\"data row0 col0\" >Who has a broader scope of profession: E. L. Doctorow or Julia Peterkin?</td>\n",
       "      <td id=\"T_c6fc9_row0_col1\" class=\"data row0 col1\" >['E. L. Doctorow', 'E.L. Doctorow', 'Doctorow']</td>\n",
       "      <td id=\"T_c6fc9_row0_col2\" class=\"data row0 col2\" >E. L. Doctorow</td>\n",
       "      <td id=\"T_c6fc9_row0_col3\" class=\"data row0 col3\" >✔️</td>\n",
       "    </tr>\n",
       "    <tr>\n",
       "      <th id=\"T_c6fc9_level0_row1\" class=\"row_heading level0 row1\" >1</th>\n",
       "      <td id=\"T_c6fc9_row1_col0\" class=\"data row1 col0\" >What documentary about the Gilgo Beach Killer debuted on A&E?</td>\n",
       "      <td id=\"T_c6fc9_row1_col1\" class=\"data row1 col1\" >['The Killing Season']</td>\n",
       "      <td id=\"T_c6fc9_row1_col2\" class=\"data row1 col2\" >The documentary is called \"The Killing Season.\"</td>\n",
       "      <td id=\"T_c6fc9_row1_col3\" class=\"data row1 col3\" >❌</td>\n",
       "    </tr>\n",
       "    <tr>\n",
       "      <th id=\"T_c6fc9_level0_row2\" class=\"row_heading level0 row2\" >2</th>\n",
       "      <td id=\"T_c6fc9_row2_col0\" class=\"data row2 col0\" >Right Back At It Again contains lyrics co-written by the singer born in what city?</td>\n",
       "      <td id=\"T_c6fc9_row2_col1\" class=\"data row2 col1\" >['Gainesville, Florida', 'Gainesville']</td>\n",
       "      <td id=\"T_c6fc9_row2_col2\" class=\"data row2 col2\" >Answer: The singer was born in Ocala, Florida.</td>\n",
       "      <td id=\"T_c6fc9_row2_col3\" class=\"data row2 col3\" >❌</td>\n",
       "    </tr>\n",
       "    <tr>\n",
       "      <th id=\"T_c6fc9_level0_row3\" class=\"row_heading level0 row3\" >3</th>\n",
       "      <td id=\"T_c6fc9_row3_col0\" class=\"data row3 col0\" >What year was the party of the winner of the 1971 San Francisco mayoral election founded?</td>\n",
       "      <td id=\"T_c6fc9_row3_col1\" class=\"data row3 col1\" >['1828']</td>\n",
       "      <td id=\"T_c6fc9_row3_col2\" class=\"data row3 col2\" >Answer: The party of the winner of the 1971 San Francisco mayoral election, Joseph Alioto, was founded in 1854.</td>\n",
       "      <td id=\"T_c6fc9_row3_col3\" class=\"data row3 col3\" >❌</td>\n",
       "    </tr>\n",
       "    <tr>\n",
       "      <th id=\"T_c6fc9_level0_row4\" class=\"row_heading level0 row4\" >4</th>\n",
       "      <td id=\"T_c6fc9_row4_col0\" class=\"data row4 col0\" >Which author is English: John Braine or Studs Terkel?</td>\n",
       "      <td id=\"T_c6fc9_row4_col1\" class=\"data row4 col1\" >['John Braine']</td>\n",
       "      <td id=\"T_c6fc9_row4_col2\" class=\"data row4 col2\" >Studs Terkel</td>\n",
       "      <td id=\"T_c6fc9_row4_col3\" class=\"data row4 col3\" >❌</td>\n",
       "    </tr>\n",
       "    <tr>\n",
       "      <th id=\"T_c6fc9_level0_row5\" class=\"row_heading level0 row5\" >5</th>\n",
       "      <td id=\"T_c6fc9_row5_col0\" class=\"data row5 col0\" >Anthony Dirrell is the brother of which super middleweight title holder?</td>\n",
       "      <td id=\"T_c6fc9_row5_col1\" class=\"data row5 col1\" >['Andre Dirrell']</td>\n",
       "      <td id=\"T_c6fc9_row5_col2\" class=\"data row5 col2\" >Andre Dirrell</td>\n",
       "      <td id=\"T_c6fc9_row5_col3\" class=\"data row5 col3\" >✔️</td>\n",
       "    </tr>\n",
       "    <tr>\n",
       "      <th id=\"T_c6fc9_level0_row6\" class=\"row_heading level0 row6\" >6</th>\n",
       "      <td id=\"T_c6fc9_row6_col0\" class=\"data row6 col0\" >In which city is the sports nutrition business established by Oliver Cookson based ?</td>\n",
       "      <td id=\"T_c6fc9_row6_col1\" class=\"data row6 col1\" >['Cheshire', 'Cheshire, UK']</td>\n",
       "      <td id=\"T_c6fc9_row6_col2\" class=\"data row6 col2\" >The sports nutrition business established by Oliver Cookson, Myprotein, is based in the UK.</td>\n",
       "      <td id=\"T_c6fc9_row6_col3\" class=\"data row6 col3\" >❌</td>\n",
       "    </tr>\n",
       "    <tr>\n",
       "      <th id=\"T_c6fc9_level0_row7\" class=\"row_heading level0 row7\" >7</th>\n",
       "      <td id=\"T_c6fc9_row7_col0\" class=\"data row7 col0\" >Find the birth date of the actor who played roles in First Wives Club and Searching for the Elephant.</td>\n",
       "      <td id=\"T_c6fc9_row7_col1\" class=\"data row7 col1\" >['February 13, 1980']</td>\n",
       "      <td id=\"T_c6fc9_row7_col2\" class=\"data row7 col2\" >I'm sorry, but I couldn't find any relevant information about the birth date of the actor who played roles in First Wives Club and Searching for the Elephant based on the provided context.</td>\n",
       "      <td id=\"T_c6fc9_row7_col3\" class=\"data row7 col3\" >❌</td>\n",
       "    </tr>\n",
       "    <tr>\n",
       "      <th id=\"T_c6fc9_level0_row8\" class=\"row_heading level0 row8\" >8</th>\n",
       "      <td id=\"T_c6fc9_row8_col0\" class=\"data row8 col0\" >Kyle Moran was born in the town on what river?</td>\n",
       "      <td id=\"T_c6fc9_row8_col1\" class=\"data row8 col1\" >['Castletown', 'Castletown River']</td>\n",
       "      <td id=\"T_c6fc9_row8_col2\" class=\"data row8 col2\" >The answer is not provided in the given context.</td>\n",
       "      <td id=\"T_c6fc9_row8_col3\" class=\"data row8 col3\" >❌</td>\n",
       "    </tr>\n",
       "    <tr>\n",
       "      <th id=\"T_c6fc9_level0_row9\" class=\"row_heading level0 row9\" >9</th>\n",
       "      <td id=\"T_c6fc9_row9_col0\" class=\"data row9 col0\" >What is the name of one branch of Robert D. Braun's speciality?</td>\n",
       "      <td id=\"T_c6fc9_row9_col1\" class=\"data row9 col1\" >['aeronautical engineering', 'astronautical engineering', 'aeronautics', 'astronautics']</td>\n",
       "      <td id=\"T_c6fc9_row9_col2\" class=\"data row9 col2\" >Aerospace Engineering</td>\n",
       "      <td id=\"T_c6fc9_row9_col3\" class=\"data row9 col3\" >❌</td>\n",
       "    </tr>\n",
       "    <tr>\n",
       "      <th id=\"T_c6fc9_level0_row10\" class=\"row_heading level0 row10\" >10</th>\n",
       "      <td id=\"T_c6fc9_row10_col0\" class=\"data row10 col0\" >Where was the actress who played the niece in the Priest film born?</td>\n",
       "      <td id=\"T_c6fc9_row10_col1\" class=\"data row10 col1\" >['Surrey', 'Guildford, Surrey']</td>\n",
       "      <td id=\"T_c6fc9_row10_col2\" class=\"data row10 col2\" >Answer: Unfortunately, the provided context does not mention the actress who played the niece in the Priest film, so I cannot provide an answer to your question.</td>\n",
       "      <td id=\"T_c6fc9_row10_col3\" class=\"data row10 col3\" >❌</td>\n",
       "    </tr>\n",
       "    <tr>\n",
       "      <th id=\"T_c6fc9_level0_row11\" class=\"row_heading level0 row11\" >11</th>\n",
       "      <td id=\"T_c6fc9_row11_col0\" class=\"data row11 col0\" >Name the movie in which the daughter of Noel Harrison plays Violet Trefusis.</td>\n",
       "      <td id=\"T_c6fc9_row11_col1\" class=\"data row11 col1\" >['Portrait of a Marriage']</td>\n",
       "      <td id=\"T_c6fc9_row11_col2\" class=\"data row11 col2\" >\"Portrait of a Marriage\"</td>\n",
       "      <td id=\"T_c6fc9_row11_col3\" class=\"data row11 col3\" >✔️</td>\n",
       "    </tr>\n",
       "    <tr>\n",
       "      <th id=\"T_c6fc9_level0_row12\" class=\"row_heading level0 row12\" >12</th>\n",
       "      <td id=\"T_c6fc9_row12_col0\" class=\"data row12 col0\" >What year was the father of the Princes in the Tower born?</td>\n",
       "      <td id=\"T_c6fc9_row12_col1\" class=\"data row12 col1\" >['1442']</td>\n",
       "      <td id=\"T_c6fc9_row12_col2\" class=\"data row12 col2\" >Answer: Edward IV of England, the father of the Princes in the Tower, was born in 1442.</td>\n",
       "      <td id=\"T_c6fc9_row12_col3\" class=\"data row12 col3\" >❌</td>\n",
       "    </tr>\n",
       "  </tbody>\n",
       "</table>\n"
      ],
      "text/plain": [
       "<pandas.io.formats.style.Styler at 0x12f16a8d0>"
      ]
     },
     "metadata": {},
     "output_type": "display_data"
    },
    {
     "data": {
      "text/plain": [
       "23.1"
      ]
     },
     "metadata": {},
     "output_type": "display_data"
    }
   ],
   "source": [
    "evaluate(multihop_QA_v1, dev)"
   ]
  },
  {
   "attachments": {},
   "cell_type": "markdown",
   "id": "1713188e",
   "metadata": {},
   "source": [
    "# Program 5 with Turbo: Multi-Hop Condensed Retrieval w/ Automatic Demos and Query Fusion"
   ]
  },
  {
   "cell_type": "code",
   "execution_count": 63,
   "id": "b0296117",
   "metadata": {},
   "outputs": [],
   "source": [
    "@dsp.transformation\n",
    "def multihop_attempt(d: dsp.Example) -> dsp.Example:\n",
    "    # Prepare unaugmented demonstrations for the example.\n",
    "    x = dsp.Example(question=d.question, demos=dsp.all_but(train, d))\n",
    "    \n",
    "    # Search. And skip examples where search fails.\n",
    "    # Annotate demonstrations for multihop_search_v2 with the simpler multihop_search_v1 pipeline.\n",
    "    x = multihop_search_v1(x)\n",
    "    if not dsp.passage_match(x.context, d.answer): return None\n",
    "    \n",
    "    # Predict. And skip examples where predict fails.\n",
    "    x = QA_predict(x, sc=False)\n",
    "    if not dsp.answer_match(x.answer, d.answer): return None\n",
    "    \n",
    "    return d.copy(**x)\n",
    "\n",
    "@dsp.transformation\n",
    "def multihop_demonstrate(x: dsp.Example) -> dsp.Example:\n",
    "    demos = dsp.sample(train, k=7)\n",
    "    x.demos = dsp.annotate(multihop_attempt)(demos, k=3, return_all=True)\n",
    "    return x"
   ]
  },
  {
   "cell_type": "code",
   "execution_count": 64,
   "id": "48dc8ef9",
   "metadata": {},
   "outputs": [],
   "source": [
    "@dsp.transformation\n",
    "def multihop_search_v2(example: dsp.Example, max_hops=2, k=5) -> dsp.Example:\n",
    "    example.context = []\n",
    "\n",
    "    for hop in range(max_hops):\n",
    "        # Generate queries\n",
    "        template = rewrite_template if hop == 0 else hop_template\n",
    "        example, completions = dsp.generate(template, n=10, temperature=0.7)(example, stage=f'h{hop}')\n",
    "        \n",
    "        # Collect the queries and search with result fusion\n",
    "        queries = [c.query for c in completions] + [example.question]\n",
    "        example.context = dsp.retrieveEnsemble(queries, k=k)\n",
    "\n",
    "        # Arrange the passages for the next hop\n",
    "        if hop > 0:\n",
    "            example.context = [completions[0].rationale] + example.context\n",
    "    \n",
    "    return example\n",
    "\n",
    "def multihop_QA_v2(question: str) -> str:\n",
    "    x = dsp.Example(question=question)\n",
    "    x = multihop_demonstrate(x)\n",
    "    x = multihop_search_v2(x)\n",
    "    x = QA_predict(x)\n",
    "    return x.answer"
   ]
  },
  {
   "attachments": {},
   "cell_type": "markdown",
   "id": "cbf62a1c",
   "metadata": {},
   "source": [
    "## Chat Adapter with system_turn=False, multi_turn=False, strict_turn=False"
   ]
  },
  {
   "cell_type": "code",
   "execution_count": 65,
   "id": "98d9173c",
   "metadata": {},
   "outputs": [
    {
     "name": "stdout",
     "output_type": "stream",
     "text": [
      "\n",
      "\n",
      "\n",
      "\n",
      "{'model': 'gpt-3.5-turbo-0613', 'messages': [{'role': 'user', 'content': 'Answer questions with short factoid answers.\\n\\n---\\n\\nQuestion: Who produced the album that included a re-recording of \"Lithium\"?\\nAnswer: Butch Vig\\n\\nQuestion: What city was the victim of Joseph Druces working in?\\nAnswer: Boston, Massachusetts\\n\\nQuestion: In what year was the star of To Hell and Back born?\\nAnswer: 1925\\n\\n---\\n\\nFollow the following format.\\n\\nContext:\\n${sources that may contain relevant content}\\n\\nQuestion: ${the question to be answered}\\n\\nRationale: Let\\'s think step by step. ${a step-by-step deduction that identifies the correct response, which will be provided below}\\n\\nAnswer: ${a short factoid answer, often between 1 and 5 words}\\n\\n---\\n\\nContext:\\n[1] «Gary Zukav | experience that led to his first book, \"Dancing Wu Li Masters\", written with extensive help from Jack Sarfatti and other physicists he met through Sarfatti as described in David Kaiser\\'s book \"How the Hippies Saved Physics\". He later described this book as his \"first gift to Life\". In 1987 he moved to Mount Shasta, California, where he lived in a cabin as a self-described \"secular monk\" and spent extensive time in the surrounding wilderness. In 1993 he met Linda Francis. They co-founded the Seat of the Soul Institute in 1998 and moved to Ashland, Oregon, in 2000. Christopher Lehmann-Haupt reviewed»\\n[2] «Gary Zukav | Gary Zukav Gary Zukav (born October 17, 1942) is an American spiritual teacher and the author of four consecutive New York Times Best Sellers. Beginning in 1998, he appeared more than 30 times on \"The Oprah Winfrey Show\" to discuss transformation in human consciousness concepts presented in his book \"The Seat of the Soul\". His first book, \"The Dancing Wu Li Masters\" (1979), won a U.S. National Book Award. Gary Zukav was born in Port Arthur, Texas, and spent his early childhood in San Antonio and Houston. His family moved to Pittsburg, Kansas, while he was in fourth grade. In»\\n[3] «The Dancing Wu Li Masters | The Dancing Wu Li Masters The Dancing Wu Li Masters is a 1979 book by Gary Zukav, a popular science work exploring modern physics, and quantum phenomena in particular. It was awarded a 1980 U.S. National Book Award in category of Science. Although it explores empirical topics in modern physics research, \"The Dancing Wu Li Masters\" gained attention for leveraging metaphors taken from eastern spiritual movements, in particular the Huayen school of Buddhism with the monk Fazang\\'s treatise on The Golden Lion, to explain quantum phenomena and has been regarded by some reviewers as a New Age work, although the»\\n[4] «The Dancing Wu Li Masters | a 1976 physics conference of eastern and western scientists at Esalen Institute, California; and he used the occasion as material for his book. At the conference, it was said that the Chinese term for physics is \\'Wu Li\\', or \"patterns of organic energy.\" Zukav, among others, conceptualized \\'physics\\' as the dance of the Wu Li Masters – teachers of physical essence. Zukav explains the concept further: The Dancing Wu Li Masters The Dancing Wu Li Masters is a 1979 book by Gary Zukav, a popular science work exploring modern physics, and quantum phenomena in particular. It was awarded a 1980»\\n\\nQuestion: Which award did the first book of Gary Zukav receive?\\n\\nRationale: Let\\'s think step by step. - Gary Zukav is an American spiritual teacher and author. - He wrote a book called \"The Dancing Wu Li Masters\" in 1979. - This book explores modern physics and quantum phenomena. - It was awarded a U.S. National Book Award in 1980.\\n\\nAnswer: U.S. National Book Award\\n\\n---\\n\\nContext:\\n[1] «John du Pont | John du Pont John Eleuthère du Pont (November 22, 1938 – December 9, 2010) was an American philanthropist, heir to the Du Pont family fortune, and a convicted murderer. He had been a published ornithologist, philatelist, conchologist, sports enthusiast, and self-styled wrestling coach. He died in prison while serving a sentence of 30 years for the murder of Dave Schultz. In 1972, du Pont founded and directed the Delaware Museum of Natural History and contributed to Villanova University and other institutions. In the 1980s, he established a wrestling facility at his Foxcatcher Farm after becoming interested in the sport and»\\n[2] «Du Pont family | William du Pont, Jr. The family fortune as of 2016 was $14.3 billion with over 3,500 living members around the world, most of whom are only marginally related. Pierre Samuel du Pont de Nemours was the son of a Parisian watchmaker and a member of a Burgundian Huguenot family, and descendant of a minor noble family on his mother\\'s side. He and his sons, Victor Marie du Pont and Éleuthère Irénée du Pont, emigrated from France in 1800 to the United States and used the resources of their Huguenot heritage to found one of the most prominent of American families,»\\n[3] «John du Pont | stamps while in prison, he was not allowed to bring them there. After his mother\\'s death, du Pont developed the Liseter Hall Farm in Newtown Square as a high-quality wrestling facility for amateur wrestlers. He called the private group \"Team Foxcatcher,\" after his father\\'s noted racing stable. Du Pont established an Olympic swimming and wrestling training center and sponsored competitive events at the estate. He also allowed some people, such as Olympic champion wrestlers Mark Schultz and later his older brother Dave Schultz and his wife, to live in houses on the grounds for years. Dave Schultz also coached the»\\n[4] «John du Pont | Foxcatcher team. Du Pont became a sponsor in wrestling, swimming, track, and the modern pentathlon. He was also involved in promoting a subset of the modern pentathlon (run, swim, shoot) as a separate event. He took up athletics and became a competitive wrestler in his 50s. His only prior wrestling experience was as a freshman in high school. He began competing again at the age of 55 in the 1992 Veteran\\'s World Championships in Cali, Colombia; following that in 1993 in Toronto, Ontario; in 1994 in Rome, Italy; and in 1995 in Sofia, Bulgaria. In August 1988, a problem-plagued wrestling»\\n\\nQuestion: The heir to the Du Pont family fortune sponsored what wrestling team?\\n\\nRationale: Let\\'s think step by step. Step 1: The question asks about the wrestling team sponsored by the heir to the Du Pont family fortune. Step 2: According to the context, the heir to the Du Pont family fortune was John du Pont. Step 3: According to the context, John du Pont established a wrestling facility at his Foxcatcher Farm and called the private group \"Team Foxcatcher.\" Step 4: Therefore, the wrestling team sponsored by the heir to the Du Pont family fortune was \"Team Foxcatcher.\"\\n\\nAnswer: Team Foxcatcher\\n\\n---\\n\\nContext:\\n[1] «Peter Outerbridge | Peter Outerbridge Peter Outerbridge (born June 30, 1966) is a Canadian actor, best known for his role as Ari Tasarov in the CW action series \"Nikita\", Dr. David Sandström in the TMN series \"ReGenesis\", Henrik \"Hank\" Johanssen in \"Orphan Black\", Bob Corbett in \"Bomb Girls\", William Easton in \"Saw VI\" and George Brown in the television film \"\". He also played the lead role of Detective William Murdoch in a three-episode mini-series, \"The Murdoch Mysteries\", in its initial run on Canadian television, with two episodes shown in 2004 and a third in 2005. Outerbridge was born and raised in Toronto,»\\n[2] «Except the Dying | 2008. On March 3, 2015, Acorn Media announced a re-release for all three movies, set for May 26, 2015. Except the Dying Except the Dying is a 2004 made-for-TV film starring Peter Outerbridge, Colm Meaney, Keeley Hawes, William B. Davis and Flora Montgomery. It was adapted by Janet MacLean from the novel of the same name by Maureen Jennings. In this film, William Murdoch is introduced, as a man of strong principles, who uses his unique abilities to solve crimes, sometimes using advanced science for his time. On the street of Toronto, in the 1890s, the naked body of a»\\n[3] «Saw VI | Saw VI Saw VI is a 2009 American horror film directed by Kevin Greutert from a screenplay written by Patrick Melton and Marcus Dunstan. It is the sixth installment in the \"Saw\" franchise and stars Tobin Bell, Costas Mandylor, Betsy Russell, Mark Rolston, Peter Outerbridge, and Shawnee Smith. It was produced by Mark Burg and Oren Koules of Twisted Pictures and distributed by Lionsgate. \"Saw VI\" continues the franchise\\'s focus on the posthumous effects of the Jigsaw Killer and the progression of his successor, Mark Hoffman. In this film, Hoffman sets a series of traps for an insurance executive, William»\\n[4] «Saw VI | is a crafty move on the screenwriters\\' part, but once you get past that pseudo-ironic touch, this Saw is no more or less disturbing than any other in the series\". Saw VI Saw VI is a 2009 American horror film directed by Kevin Greutert from a screenplay written by Patrick Melton and Marcus Dunstan. It is the sixth installment in the \"Saw\" franchise and stars Tobin Bell, Costas Mandylor, Betsy Russell, Mark Rolston, Peter Outerbridge, and Shawnee Smith. It was produced by Mark Burg and Oren Koules of Twisted Pictures and distributed by Lionsgate. \"Saw VI\" continues the franchise\\'s focus»\\n\\nQuestion: Who was the director of the 2009 movie featuring Peter Outerbridge as William Easton?\\n\\nRationale: Let\\'s think step by step. Step 1: The question asks for the director of a movie. Step 2: The movie in question is from 2009. Step 3: The movie features Peter Outerbridge as William Easton. Step 4: From the context, we can see that the movie is \"Saw VI\". Step 5: Therefore, the director of the 2009 movie \"Saw VI\" is Kevin Greutert.\\n\\nAnswer: Kevin Greutert\\n\\n---\\n\\nContext:\\n[1] «- There is an unidentified suspected serial killer known as the Long Island serial killer, Gilgo Beach Killer, or Craigslist Ripper.\\n- The killer is believed to have murdered 10 to 16 people associated with prostitution over nearly 20 years.\\n- The bodies were dumped along the Ocean Parkway near Gilgo and Oak Beach in Suffolk County, New York.»\\n[2] «The Killing Season (U.S. TV series) | The Killing Season (U.S. TV series) The Killing Season is an American true crime documentary television series which debuted on November 12, 2016, on A&E. Executive produced by Alex Gibney, the series follows documentarians Joshua Zeman and Rachel Mills as they explore the case of the Long Island serial killer and other unsolved cases such as the Eastbound Strangler, and the victims and investigations that have been connected to the cases. Some new investigating and interviewing is done during the series, including contacting internet amateur crime investigation group Websleuths.com group members, and following-up on Websleuths activities. Series producers found sex»\\n[3] «Joel Rifkin | to the Gilgo Beach Killer. In an April 2011 prison interview with \"Newsday\", Rifkin denied having anything to do with the remains discovered in 2011. Experts and victims\\' rights advocates, however, believe that those denials have no value. Rifkin\\'s birth mother was a 20-year-old college student, and his biological father was a 24-year-old college student and army veteran. At three weeks old he was adopted by an upper-middle class Long Island couple, on February 14, 1959. His adoptive father, Benjamin Rifkin, was of Russian Jewish descent and his adoptive mother, Jeanne (Granelles), of Spanish descent, converted to Judaism when she»\\n[4] «Lyle and Erik Menendez | documentary on Tammi, \"Mrs. Menéndez\". In late 2017, A&E aired a five-part documentary, titled \"The Menendez Murders: Erik Tells All\", in which Erik, via telephone, recalls the murders and the aftermath. The series also provides never-before-seen photos and new interviews with prosecutors, law enforcement, close family, friends and medical experts. The Menéndez brothers were featured in a 2017 documentary titled \"Truth and Lies: The Menéndez Brothers — American Sons, American Murderers\" on ABC, as well as on an episode of \"Snapped\" in 2016. The murders are the subjects of multiple docu-dramas, including the Lifetime movie \"\" (2017), as well as»\\n[5] «Long Island serial killer | Long Island serial killer The Long Island serial killer (also referred to as LISK, the Gilgo Beach Killer or the Craigslist Ripper) is an unidentified suspected serial killer who is believed to have murdered 10 to 16 people associated with prostitution, over a period of nearly 20 years, and dumped their bodies along the Ocean Parkway, near the remote Long Island, New York beach towns of Gilgo and Oak Beach in Suffolk County, and the area of Jones Beach State Park in Nassau County. The remains of four victims were found in December 2010, while six more sets of remains»\\n[6] «Long Island serial killer | skull and a partial set of remains were found on April 11 after the search expanded into Nassau County. They were found about one mile apart, approximately five miles west of those found in December. These additional cases have not been officially linked to the other 10 bodies, but are being reviewed by police: Numerous films and television programs have covered the case, e.g.: Long Island serial killer The Long Island serial killer (also referred to as LISK, the Gilgo Beach Killer or the Craigslist Ripper) is an unidentified suspected serial killer who is believed to have murdered 10 to»\\n\\nQuestion: What documentary about the Gilgo Beach Killer debuted on A&E?\\n\\nRationale: Let\\'s think step by step.'}]}\u001b[32mStep 1: The question asks for the name of a documentary. \n",
      "Step 2: The documentary is about the Gilgo Beach Killer. \n",
      "Step 3: The documentary debuted on A&E. \n",
      "Step 4: From the context, we can see that the documentary is called \"The Killing Season.\" \n",
      "\n",
      "Answer: The Killing Season\u001b[0m\n",
      "\n",
      "\n",
      "\n"
     ]
    },
    {
     "data": {
      "text/plain": [
       "('The Killing Season', None)"
      ]
     },
     "execution_count": 65,
     "metadata": {},
     "output_type": "execute_result"
    }
   ],
   "source": [
    "dsp.settings.configure(lm=turbo, rm=rm, adapter=ChatAdapter(system_turn=False, multi_turn=False, strict_turn=False))\n",
    "multihop_QA_v2(dev[1].question), turbo.inspect_history(n=1)"
   ]
  },
  {
   "cell_type": "code",
   "execution_count": 66,
   "id": "7e2609b8",
   "metadata": {},
   "outputs": [
    {
     "name": "stderr",
     "output_type": "stream",
     "text": [
      "100%|██████████| 13/13 [00:00<00:00, 43.61it/s]"
     ]
    },
    {
     "name": "stdout",
     "output_type": "stream",
     "text": [
      "Answered 10 / 13 (76.9%) correctly.\n"
     ]
    },
    {
     "name": "stderr",
     "output_type": "stream",
     "text": [
      "\n"
     ]
    },
    {
     "data": {
      "text/html": [
       "<style type=\"text/css\">\n",
       "#T_e27f2 th {\n",
       "  text-align: left;\n",
       "}\n",
       "#T_e27f2 td {\n",
       "  text-align: left;\n",
       "}\n",
       "</style>\n",
       "<table id=\"T_e27f2\">\n",
       "  <thead>\n",
       "    <tr>\n",
       "      <th class=\"blank level0\" >&nbsp;</th>\n",
       "      <th id=\"T_e27f2_level0_col0\" class=\"col_heading level0 col0\" >question</th>\n",
       "      <th id=\"T_e27f2_level0_col1\" class=\"col_heading level0 col1\" >answer</th>\n",
       "      <th id=\"T_e27f2_level0_col2\" class=\"col_heading level0 col2\" >prediction</th>\n",
       "      <th id=\"T_e27f2_level0_col3\" class=\"col_heading level0 col3\" >correct</th>\n",
       "    </tr>\n",
       "  </thead>\n",
       "  <tbody>\n",
       "    <tr>\n",
       "      <th id=\"T_e27f2_level0_row0\" class=\"row_heading level0 row0\" >0</th>\n",
       "      <td id=\"T_e27f2_row0_col0\" class=\"data row0 col0\" >Who has a broader scope of profession: E. L. Doctorow or Julia Peterkin?</td>\n",
       "      <td id=\"T_e27f2_row0_col1\" class=\"data row0 col1\" >['E. L. Doctorow', 'E.L. Doctorow', 'Doctorow']</td>\n",
       "      <td id=\"T_e27f2_row0_col2\" class=\"data row0 col2\" >E. L. Doctorow</td>\n",
       "      <td id=\"T_e27f2_row0_col3\" class=\"data row0 col3\" >✔️</td>\n",
       "    </tr>\n",
       "    <tr>\n",
       "      <th id=\"T_e27f2_level0_row1\" class=\"row_heading level0 row1\" >1</th>\n",
       "      <td id=\"T_e27f2_row1_col0\" class=\"data row1 col0\" >What documentary about the Gilgo Beach Killer debuted on A&E?</td>\n",
       "      <td id=\"T_e27f2_row1_col1\" class=\"data row1 col1\" >['The Killing Season']</td>\n",
       "      <td id=\"T_e27f2_row1_col2\" class=\"data row1 col2\" >The Killing Season</td>\n",
       "      <td id=\"T_e27f2_row1_col3\" class=\"data row1 col3\" >✔️</td>\n",
       "    </tr>\n",
       "    <tr>\n",
       "      <th id=\"T_e27f2_level0_row2\" class=\"row_heading level0 row2\" >2</th>\n",
       "      <td id=\"T_e27f2_row2_col0\" class=\"data row2 col0\" >Right Back At It Again contains lyrics co-written by the singer born in what city?</td>\n",
       "      <td id=\"T_e27f2_row2_col1\" class=\"data row2 col1\" >['Gainesville, Florida', 'Gainesville']</td>\n",
       "      <td id=\"T_e27f2_row2_col2\" class=\"data row2 col2\" >Gainesville, Florida</td>\n",
       "      <td id=\"T_e27f2_row2_col3\" class=\"data row2 col3\" >✔️</td>\n",
       "    </tr>\n",
       "    <tr>\n",
       "      <th id=\"T_e27f2_level0_row3\" class=\"row_heading level0 row3\" >3</th>\n",
       "      <td id=\"T_e27f2_row3_col0\" class=\"data row3 col0\" >What year was the party of the winner of the 1971 San Francisco mayoral election founded?</td>\n",
       "      <td id=\"T_e27f2_row3_col1\" class=\"data row3 col1\" >['1828']</td>\n",
       "      <td id=\"T_e27f2_row3_col2\" class=\"data row3 col2\" >The party of the winner, Joseph Alioto, was already established before the 1971 election.</td>\n",
       "      <td id=\"T_e27f2_row3_col3\" class=\"data row3 col3\" >❌</td>\n",
       "    </tr>\n",
       "    <tr>\n",
       "      <th id=\"T_e27f2_level0_row4\" class=\"row_heading level0 row4\" >4</th>\n",
       "      <td id=\"T_e27f2_row4_col0\" class=\"data row4 col0\" >Which author is English: John Braine or Studs Terkel?</td>\n",
       "      <td id=\"T_e27f2_row4_col1\" class=\"data row4 col1\" >['John Braine']</td>\n",
       "      <td id=\"T_e27f2_row4_col2\" class=\"data row4 col2\" >John Braine</td>\n",
       "      <td id=\"T_e27f2_row4_col3\" class=\"data row4 col3\" >✔️</td>\n",
       "    </tr>\n",
       "    <tr>\n",
       "      <th id=\"T_e27f2_level0_row5\" class=\"row_heading level0 row5\" >5</th>\n",
       "      <td id=\"T_e27f2_row5_col0\" class=\"data row5 col0\" >Anthony Dirrell is the brother of which super middleweight title holder?</td>\n",
       "      <td id=\"T_e27f2_row5_col1\" class=\"data row5 col1\" >['Andre Dirrell']</td>\n",
       "      <td id=\"T_e27f2_row5_col2\" class=\"data row5 col2\" >Andre Dirrell</td>\n",
       "      <td id=\"T_e27f2_row5_col3\" class=\"data row5 col3\" >✔️</td>\n",
       "    </tr>\n",
       "    <tr>\n",
       "      <th id=\"T_e27f2_level0_row6\" class=\"row_heading level0 row6\" >6</th>\n",
       "      <td id=\"T_e27f2_row6_col0\" class=\"data row6 col0\" >In which city is the sports nutrition business established by Oliver Cookson based ?</td>\n",
       "      <td id=\"T_e27f2_row6_col1\" class=\"data row6 col1\" >['Cheshire', 'Cheshire, UK']</td>\n",
       "      <td id=\"T_e27f2_row6_col2\" class=\"data row6 col2\" >Cheshire, UK</td>\n",
       "      <td id=\"T_e27f2_row6_col3\" class=\"data row6 col3\" >✔️</td>\n",
       "    </tr>\n",
       "    <tr>\n",
       "      <th id=\"T_e27f2_level0_row7\" class=\"row_heading level0 row7\" >7</th>\n",
       "      <td id=\"T_e27f2_row7_col0\" class=\"data row7 col0\" >Find the birth date of the actor who played roles in First Wives Club and Searching for the Elephant.</td>\n",
       "      <td id=\"T_e27f2_row7_col1\" class=\"data row7 col1\" >['February 13, 1980']</td>\n",
       "      <td id=\"T_e27f2_row7_col2\" class=\"data row7 col2\" >1958</td>\n",
       "      <td id=\"T_e27f2_row7_col3\" class=\"data row7 col3\" >❌</td>\n",
       "    </tr>\n",
       "    <tr>\n",
       "      <th id=\"T_e27f2_level0_row8\" class=\"row_heading level0 row8\" >8</th>\n",
       "      <td id=\"T_e27f2_row8_col0\" class=\"data row8 col0\" >Kyle Moran was born in the town on what river?</td>\n",
       "      <td id=\"T_e27f2_row8_col1\" class=\"data row8 col1\" >['Castletown', 'Castletown River']</td>\n",
       "      <td id=\"T_e27f2_row8_col2\" class=\"data row8 col2\" >Castletown River</td>\n",
       "      <td id=\"T_e27f2_row8_col3\" class=\"data row8 col3\" >✔️</td>\n",
       "    </tr>\n",
       "    <tr>\n",
       "      <th id=\"T_e27f2_level0_row9\" class=\"row_heading level0 row9\" >9</th>\n",
       "      <td id=\"T_e27f2_row9_col0\" class=\"data row9 col0\" >What is the name of one branch of Robert D. Braun's speciality?</td>\n",
       "      <td id=\"T_e27f2_row9_col1\" class=\"data row9 col1\" >['aeronautical engineering', 'astronautical engineering', 'aeronautics', 'astronautics']</td>\n",
       "      <td id=\"T_e27f2_row9_col2\" class=\"data row9 col2\" >Planetary exploration</td>\n",
       "      <td id=\"T_e27f2_row9_col3\" class=\"data row9 col3\" >❌</td>\n",
       "    </tr>\n",
       "    <tr>\n",
       "      <th id=\"T_e27f2_level0_row10\" class=\"row_heading level0 row10\" >10</th>\n",
       "      <td id=\"T_e27f2_row10_col0\" class=\"data row10 col0\" >Where was the actress who played the niece in the Priest film born?</td>\n",
       "      <td id=\"T_e27f2_row10_col1\" class=\"data row10 col1\" >['Surrey', 'Guildford, Surrey']</td>\n",
       "      <td id=\"T_e27f2_row10_col2\" class=\"data row10 col2\" >Surrey</td>\n",
       "      <td id=\"T_e27f2_row10_col3\" class=\"data row10 col3\" >✔️</td>\n",
       "    </tr>\n",
       "    <tr>\n",
       "      <th id=\"T_e27f2_level0_row11\" class=\"row_heading level0 row11\" >11</th>\n",
       "      <td id=\"T_e27f2_row11_col0\" class=\"data row11 col0\" >Name the movie in which the daughter of Noel Harrison plays Violet Trefusis.</td>\n",
       "      <td id=\"T_e27f2_row11_col1\" class=\"data row11 col1\" >['Portrait of a Marriage']</td>\n",
       "      <td id=\"T_e27f2_row11_col2\" class=\"data row11 col2\" >Portrait of a Marriage</td>\n",
       "      <td id=\"T_e27f2_row11_col3\" class=\"data row11 col3\" >✔️</td>\n",
       "    </tr>\n",
       "    <tr>\n",
       "      <th id=\"T_e27f2_level0_row12\" class=\"row_heading level0 row12\" >12</th>\n",
       "      <td id=\"T_e27f2_row12_col0\" class=\"data row12 col0\" >What year was the father of the Princes in the Tower born?</td>\n",
       "      <td id=\"T_e27f2_row12_col1\" class=\"data row12 col1\" >['1442']</td>\n",
       "      <td id=\"T_e27f2_row12_col2\" class=\"data row12 col2\" >1442</td>\n",
       "      <td id=\"T_e27f2_row12_col3\" class=\"data row12 col3\" >✔️</td>\n",
       "    </tr>\n",
       "  </tbody>\n",
       "</table>\n"
      ],
      "text/plain": [
       "<pandas.io.formats.style.Styler at 0x12635cfd0>"
      ]
     },
     "metadata": {},
     "output_type": "display_data"
    },
    {
     "data": {
      "text/plain": [
       "76.9"
      ]
     },
     "execution_count": 66,
     "metadata": {},
     "output_type": "execute_result"
    }
   ],
   "source": [
    "evaluate(multihop_QA_v2, dev)"
   ]
  },
  {
   "attachments": {},
   "cell_type": "markdown",
   "id": "4a6ac39f",
   "metadata": {},
   "source": [
    "## Chat Adapter with system_turn=True, multi_turn=False, strict_turn=False"
   ]
  },
  {
   "cell_type": "code",
   "execution_count": 67,
   "id": "a45f78ac",
   "metadata": {},
   "outputs": [
    {
     "name": "stdout",
     "output_type": "stream",
     "text": [
      "\n",
      "\n",
      "\n",
      "\n",
      "{'model': 'gpt-3.5-turbo-0613', 'messages': [{'role': 'system', 'content': 'Answer questions with short factoid answers.'}, {'role': 'user', 'content': 'Question: Who produced the album that included a re-recording of \"Lithium\"?\\nAnswer: Butch Vig\\n\\nQuestion: What city was the victim of Joseph Druces working in?\\nAnswer: Boston, Massachusetts\\n\\nQuestion: In what year was the star of To Hell and Back born?\\nAnswer: 1925\\n\\n---\\n\\nFollow the following format.\\n\\nContext:\\n${sources that may contain relevant content}\\n\\nQuestion: ${the question to be answered}\\n\\nRationale: Let\\'s think step by step. ${a step-by-step deduction that identifies the correct response, which will be provided below}\\n\\nAnswer: ${a short factoid answer, often between 1 and 5 words}\\n\\n---\\n\\nContext:\\n[1] «Gary Zukav | this book enjoyable and informative.\" David Bohm, renowned quantum physicist, wrote a personal endorsement provided to the book\\'s publisher Harper Collins: \"Recommended highly for those who want to understand the essential significance of modern physics, and for those who are concerned with its implications for possible transformation of human consciousness.\" Zukav\\'s next book, \"The Seat of the Soul\", published in 1989, was a No. 1 New York Times Best Seller for 31 weeks and remained on the list for three years. In an interview by Jeffrey Mishlove, for the popular Public Television series \"Thinking Allowed\", Zukav summarized the concepts presented»\\n[2] «Gary Zukav | Gary Zukav Gary Zukav (born October 17, 1942) is an American spiritual teacher and the author of four consecutive New York Times Best Sellers. Beginning in 1998, he appeared more than 30 times on \"The Oprah Winfrey Show\" to discuss transformation in human consciousness concepts presented in his book \"The Seat of the Soul\". His first book, \"The Dancing Wu Li Masters\" (1979), won a U.S. National Book Award. Gary Zukav was born in Port Arthur, Texas, and spent his early childhood in San Antonio and Houston. His family moved to Pittsburg, Kansas, while he was in fourth grade. In»\\n[3] «The Dancing Wu Li Masters | The Dancing Wu Li Masters The Dancing Wu Li Masters is a 1979 book by Gary Zukav, a popular science work exploring modern physics, and quantum phenomena in particular. It was awarded a 1980 U.S. National Book Award in category of Science. Although it explores empirical topics in modern physics research, \"The Dancing Wu Li Masters\" gained attention for leveraging metaphors taken from eastern spiritual movements, in particular the Huayen school of Buddhism with the monk Fazang\\'s treatise on The Golden Lion, to explain quantum phenomena and has been regarded by some reviewers as a New Age work, although the»\\n[4] «The Dancing Wu Li Masters | a 1976 physics conference of eastern and western scientists at Esalen Institute, California; and he used the occasion as material for his book. At the conference, it was said that the Chinese term for physics is \\'Wu Li\\', or \"patterns of organic energy.\" Zukav, among others, conceptualized \\'physics\\' as the dance of the Wu Li Masters – teachers of physical essence. Zukav explains the concept further: The Dancing Wu Li Masters The Dancing Wu Li Masters is a 1979 book by Gary Zukav, a popular science work exploring modern physics, and quantum phenomena in particular. It was awarded a 1980»\\n\\nQuestion: Which award did the first book of Gary Zukav receive?\\n\\nRationale: Let\\'s think step by step. 1. Gary Zukav is an American spiritual teacher and author. 2. His first book, \"The Dancing Wu Li Masters,\" was published in 1979. 3. The book explores modern physics and quantum phenomena. 4. \"The Dancing Wu Li Masters\" won a U.S. National Book Award in 1980.\\n\\nAnswer: U.S. National Book Award\\n\\n---\\n\\nContext:\\n[1] «John du Pont | John du Pont John Eleuthère du Pont (November 22, 1938 – December 9, 2010) was an American philanthropist, heir to the Du Pont family fortune, and a convicted murderer. He had been a published ornithologist, philatelist, conchologist, sports enthusiast, and self-styled wrestling coach. He died in prison while serving a sentence of 30 years for the murder of Dave Schultz. In 1972, du Pont founded and directed the Delaware Museum of Natural History and contributed to Villanova University and other institutions. In the 1980s, he established a wrestling facility at his Foxcatcher Farm after becoming interested in the sport and»\\n[2] «Du Pont family | William du Pont, Jr. The family fortune as of 2016 was $14.3 billion with over 3,500 living members around the world, most of whom are only marginally related. Pierre Samuel du Pont de Nemours was the son of a Parisian watchmaker and a member of a Burgundian Huguenot family, and descendant of a minor noble family on his mother\\'s side. He and his sons, Victor Marie du Pont and Éleuthère Irénée du Pont, emigrated from France in 1800 to the United States and used the resources of their Huguenot heritage to found one of the most prominent of American families,»\\n[3] «John du Pont | stamps while in prison, he was not allowed to bring them there. After his mother\\'s death, du Pont developed the Liseter Hall Farm in Newtown Square as a high-quality wrestling facility for amateur wrestlers. He called the private group \"Team Foxcatcher,\" after his father\\'s noted racing stable. Du Pont established an Olympic swimming and wrestling training center and sponsored competitive events at the estate. He also allowed some people, such as Olympic champion wrestlers Mark Schultz and later his older brother Dave Schultz and his wife, to live in houses on the grounds for years. Dave Schultz also coached the»\\n[4] «John du Pont | Foxcatcher team. Du Pont became a sponsor in wrestling, swimming, track, and the modern pentathlon. He was also involved in promoting a subset of the modern pentathlon (run, swim, shoot) as a separate event. He took up athletics and became a competitive wrestler in his 50s. His only prior wrestling experience was as a freshman in high school. He began competing again at the age of 55 in the 1992 Veteran\\'s World Championships in Cali, Colombia; following that in 1993 in Toronto, Ontario; in 1994 in Rome, Italy; and in 1995 in Sofia, Bulgaria. In August 1988, a problem-plagued wrestling»\\n\\nQuestion: The heir to the Du Pont family fortune sponsored what wrestling team?\\n\\nRationale: Let\\'s think step by step. Step 1: The question asks about the wrestling team sponsored by the heir to the Du Pont family fortune. Step 2: According to the sources, John du Pont, the heir to the Du Pont family fortune, established a wrestling facility at his Foxcatcher Farm and formed a private group called \"Team Foxcatcher.\" Step 3: Therefore, the wrestling team sponsored by the heir to the Du Pont family fortune was \"Team Foxcatcher.\"\\n\\nAnswer: Team Foxcatcher\\n\\n---\\n\\nContext:\\n[1] «Peter Outerbridge | Peter Outerbridge Peter Outerbridge (born June 30, 1966) is a Canadian actor, best known for his role as Ari Tasarov in the CW action series \"Nikita\", Dr. David Sandström in the TMN series \"ReGenesis\", Henrik \"Hank\" Johanssen in \"Orphan Black\", Bob Corbett in \"Bomb Girls\", William Easton in \"Saw VI\" and George Brown in the television film \"\". He also played the lead role of Detective William Murdoch in a three-episode mini-series, \"The Murdoch Mysteries\", in its initial run on Canadian television, with two episodes shown in 2004 and a third in 2005. Outerbridge was born and raised in Toronto,»\\n[2] «Except the Dying | 2008. On March 3, 2015, Acorn Media announced a re-release for all three movies, set for May 26, 2015. Except the Dying Except the Dying is a 2004 made-for-TV film starring Peter Outerbridge, Colm Meaney, Keeley Hawes, William B. Davis and Flora Montgomery. It was adapted by Janet MacLean from the novel of the same name by Maureen Jennings. In this film, William Murdoch is introduced, as a man of strong principles, who uses his unique abilities to solve crimes, sometimes using advanced science for his time. On the street of Toronto, in the 1890s, the naked body of a»\\n[3] «Saw VI | Saw VI Saw VI is a 2009 American horror film directed by Kevin Greutert from a screenplay written by Patrick Melton and Marcus Dunstan. It is the sixth installment in the \"Saw\" franchise and stars Tobin Bell, Costas Mandylor, Betsy Russell, Mark Rolston, Peter Outerbridge, and Shawnee Smith. It was produced by Mark Burg and Oren Koules of Twisted Pictures and distributed by Lionsgate. \"Saw VI\" continues the franchise\\'s focus on the posthumous effects of the Jigsaw Killer and the progression of his successor, Mark Hoffman. In this film, Hoffman sets a series of traps for an insurance executive, William»\\n[4] «Saw VI | is a crafty move on the screenwriters\\' part, but once you get past that pseudo-ironic touch, this Saw is no more or less disturbing than any other in the series\". Saw VI Saw VI is a 2009 American horror film directed by Kevin Greutert from a screenplay written by Patrick Melton and Marcus Dunstan. It is the sixth installment in the \"Saw\" franchise and stars Tobin Bell, Costas Mandylor, Betsy Russell, Mark Rolston, Peter Outerbridge, and Shawnee Smith. It was produced by Mark Burg and Oren Koules of Twisted Pictures and distributed by Lionsgate. \"Saw VI\" continues the franchise\\'s focus»\\n\\nQuestion: Who was the director of the 2009 movie featuring Peter Outerbridge as William Easton?\\n\\nRationale: Let\\'s think step by step. Step 1: The question asks for the director of a specific movie. Step 2: The movie in question is from 2009. Step 3: The movie features Peter Outerbridge as William Easton. Step 4: Combining steps 2 and 3, we can conclude that the movie is \"Saw VI.\" Step 5: The director of \"Saw VI\" is Kevin Greutert.\\n\\nAnswer: Kevin Greutert\\n\\n---\\n\\nContext:\\n[1] «[1] The Long Island serial killer, also known as the Gilgo Beach Killer or the Craigslist Ripper, is an unidentified suspected serial killer. The remains of the victims were found along the Ocean Parkway in Long Island, New York.\\n[3] Numerous films and television programs have covered the case of the Long Island serial killer.»\\n[2] «The Killing Season (U.S. TV series) | The Killing Season (U.S. TV series) The Killing Season is an American true crime documentary television series which debuted on November 12, 2016, on A&E. Executive produced by Alex Gibney, the series follows documentarians Joshua Zeman and Rachel Mills as they explore the case of the Long Island serial killer and other unsolved cases such as the Eastbound Strangler, and the victims and investigations that have been connected to the cases. Some new investigating and interviewing is done during the series, including contacting internet amateur crime investigation group Websleuths.com group members, and following-up on Websleuths activities. Series producers found sex»\\n[3] «Lyle and Erik Menendez | documentary on Tammi, \"Mrs. Menéndez\". In late 2017, A&E aired a five-part documentary, titled \"The Menendez Murders: Erik Tells All\", in which Erik, via telephone, recalls the murders and the aftermath. The series also provides never-before-seen photos and new interviews with prosecutors, law enforcement, close family, friends and medical experts. The Menéndez brothers were featured in a 2017 documentary titled \"Truth and Lies: The Menéndez Brothers — American Sons, American Murderers\" on ABC, as well as on an episode of \"Snapped\" in 2016. The murders are the subjects of multiple docu-dramas, including the Lifetime movie \"\" (2017), as well as»\\n[4] «Joel Rifkin | to the Gilgo Beach Killer. In an April 2011 prison interview with \"Newsday\", Rifkin denied having anything to do with the remains discovered in 2011. Experts and victims\\' rights advocates, however, believe that those denials have no value. Rifkin\\'s birth mother was a 20-year-old college student, and his biological father was a 24-year-old college student and army veteran. At three weeks old he was adopted by an upper-middle class Long Island couple, on February 14, 1959. His adoptive father, Benjamin Rifkin, was of Russian Jewish descent and his adoptive mother, Jeanne (Granelles), of Spanish descent, converted to Judaism when she»\\n[5] «Long Island serial killer | Long Island serial killer The Long Island serial killer (also referred to as LISK, the Gilgo Beach Killer or the Craigslist Ripper) is an unidentified suspected serial killer who is believed to have murdered 10 to 16 people associated with prostitution, over a period of nearly 20 years, and dumped their bodies along the Ocean Parkway, near the remote Long Island, New York beach towns of Gilgo and Oak Beach in Suffolk County, and the area of Jones Beach State Park in Nassau County. The remains of four victims were found in December 2010, while six more sets of remains»\\n[6] «Long Island serial killer | skull and a partial set of remains were found on April 11 after the search expanded into Nassau County. They were found about one mile apart, approximately five miles west of those found in December. These additional cases have not been officially linked to the other 10 bodies, but are being reviewed by police: Numerous films and television programs have covered the case, e.g.: Long Island serial killer The Long Island serial killer (also referred to as LISK, the Gilgo Beach Killer or the Craigslist Ripper) is an unidentified suspected serial killer who is believed to have murdered 10 to»\\n\\nQuestion: What documentary about the Gilgo Beach Killer debuted on A&E?\\n\\nRationale: Let\\'s think step by step.'}]}\u001b[32mStep 1: The question asks for the name of a documentary about the Gilgo Beach Killer. \n",
      "Step 2: The documentary debuted on A&E. \n",
      "Step 3: The documentary is called \"The Killing Season.\" \n",
      "\n",
      "Answer: The Killing Season\u001b[0m\n",
      "\n",
      "\n",
      "\n"
     ]
    },
    {
     "data": {
      "text/plain": [
       "('The Killing Season', None)"
      ]
     },
     "execution_count": 67,
     "metadata": {},
     "output_type": "execute_result"
    }
   ],
   "source": [
    "dsp.settings.configure(lm=turbo, rm=rm, adapter=ChatAdapter(system_turn=True, multi_turn=False, strict_turn=False))\n",
    "multihop_QA_v2(dev[1].question), turbo.inspect_history(n=1)"
   ]
  },
  {
   "cell_type": "code",
   "execution_count": 68,
   "id": "a089a7c5",
   "metadata": {},
   "outputs": [
    {
     "name": "stderr",
     "output_type": "stream",
     "text": [
      "100%|██████████| 13/13 [00:00<00:00, 49.65it/s]"
     ]
    },
    {
     "name": "stdout",
     "output_type": "stream",
     "text": [
      "Answered 11 / 13 (84.6%) correctly.\n"
     ]
    },
    {
     "name": "stderr",
     "output_type": "stream",
     "text": [
      "\n"
     ]
    },
    {
     "data": {
      "text/html": [
       "<style type=\"text/css\">\n",
       "#T_34788 th {\n",
       "  text-align: left;\n",
       "}\n",
       "#T_34788 td {\n",
       "  text-align: left;\n",
       "}\n",
       "</style>\n",
       "<table id=\"T_34788\">\n",
       "  <thead>\n",
       "    <tr>\n",
       "      <th class=\"blank level0\" >&nbsp;</th>\n",
       "      <th id=\"T_34788_level0_col0\" class=\"col_heading level0 col0\" >question</th>\n",
       "      <th id=\"T_34788_level0_col1\" class=\"col_heading level0 col1\" >answer</th>\n",
       "      <th id=\"T_34788_level0_col2\" class=\"col_heading level0 col2\" >prediction</th>\n",
       "      <th id=\"T_34788_level0_col3\" class=\"col_heading level0 col3\" >correct</th>\n",
       "    </tr>\n",
       "  </thead>\n",
       "  <tbody>\n",
       "    <tr>\n",
       "      <th id=\"T_34788_level0_row0\" class=\"row_heading level0 row0\" >0</th>\n",
       "      <td id=\"T_34788_row0_col0\" class=\"data row0 col0\" >Who has a broader scope of profession: E. L. Doctorow or Julia Peterkin?</td>\n",
       "      <td id=\"T_34788_row0_col1\" class=\"data row0 col1\" >['E. L. Doctorow', 'E.L. Doctorow', 'Doctorow']</td>\n",
       "      <td id=\"T_34788_row0_col2\" class=\"data row0 col2\" >E. L. Doctorow</td>\n",
       "      <td id=\"T_34788_row0_col3\" class=\"data row0 col3\" >✔️</td>\n",
       "    </tr>\n",
       "    <tr>\n",
       "      <th id=\"T_34788_level0_row1\" class=\"row_heading level0 row1\" >1</th>\n",
       "      <td id=\"T_34788_row1_col0\" class=\"data row1 col0\" >What documentary about the Gilgo Beach Killer debuted on A&E?</td>\n",
       "      <td id=\"T_34788_row1_col1\" class=\"data row1 col1\" >['The Killing Season']</td>\n",
       "      <td id=\"T_34788_row1_col2\" class=\"data row1 col2\" >The Killing Season</td>\n",
       "      <td id=\"T_34788_row1_col3\" class=\"data row1 col3\" >✔️</td>\n",
       "    </tr>\n",
       "    <tr>\n",
       "      <th id=\"T_34788_level0_row2\" class=\"row_heading level0 row2\" >2</th>\n",
       "      <td id=\"T_34788_row2_col0\" class=\"data row2 col0\" >Right Back At It Again contains lyrics co-written by the singer born in what city?</td>\n",
       "      <td id=\"T_34788_row2_col1\" class=\"data row2 col1\" >['Gainesville, Florida', 'Gainesville']</td>\n",
       "      <td id=\"T_34788_row2_col2\" class=\"data row2 col2\" >Gainesville, Florida</td>\n",
       "      <td id=\"T_34788_row2_col3\" class=\"data row2 col3\" >✔️</td>\n",
       "    </tr>\n",
       "    <tr>\n",
       "      <th id=\"T_34788_level0_row3\" class=\"row_heading level0 row3\" >3</th>\n",
       "      <td id=\"T_34788_row3_col0\" class=\"data row3 col0\" >What year was the party of the winner of the 1971 San Francisco mayoral election founded?</td>\n",
       "      <td id=\"T_34788_row3_col1\" class=\"data row3 col1\" >['1828']</td>\n",
       "      <td id=\"T_34788_row3_col2\" class=\"data row3 col2\" >1828</td>\n",
       "      <td id=\"T_34788_row3_col3\" class=\"data row3 col3\" >✔️</td>\n",
       "    </tr>\n",
       "    <tr>\n",
       "      <th id=\"T_34788_level0_row4\" class=\"row_heading level0 row4\" >4</th>\n",
       "      <td id=\"T_34788_row4_col0\" class=\"data row4 col0\" >Which author is English: John Braine or Studs Terkel?</td>\n",
       "      <td id=\"T_34788_row4_col1\" class=\"data row4 col1\" >['John Braine']</td>\n",
       "      <td id=\"T_34788_row4_col2\" class=\"data row4 col2\" >John Braine</td>\n",
       "      <td id=\"T_34788_row4_col3\" class=\"data row4 col3\" >✔️</td>\n",
       "    </tr>\n",
       "    <tr>\n",
       "      <th id=\"T_34788_level0_row5\" class=\"row_heading level0 row5\" >5</th>\n",
       "      <td id=\"T_34788_row5_col0\" class=\"data row5 col0\" >Anthony Dirrell is the brother of which super middleweight title holder?</td>\n",
       "      <td id=\"T_34788_row5_col1\" class=\"data row5 col1\" >['Andre Dirrell']</td>\n",
       "      <td id=\"T_34788_row5_col2\" class=\"data row5 col2\" >Andre Dirrell</td>\n",
       "      <td id=\"T_34788_row5_col3\" class=\"data row5 col3\" >✔️</td>\n",
       "    </tr>\n",
       "    <tr>\n",
       "      <th id=\"T_34788_level0_row6\" class=\"row_heading level0 row6\" >6</th>\n",
       "      <td id=\"T_34788_row6_col0\" class=\"data row6 col0\" >In which city is the sports nutrition business established by Oliver Cookson based ?</td>\n",
       "      <td id=\"T_34788_row6_col1\" class=\"data row6 col1\" >['Cheshire', 'Cheshire, UK']</td>\n",
       "      <td id=\"T_34788_row6_col2\" class=\"data row6 col2\" >Cheshire, UK</td>\n",
       "      <td id=\"T_34788_row6_col3\" class=\"data row6 col3\" >✔️</td>\n",
       "    </tr>\n",
       "    <tr>\n",
       "      <th id=\"T_34788_level0_row7\" class=\"row_heading level0 row7\" >7</th>\n",
       "      <td id=\"T_34788_row7_col0\" class=\"data row7 col0\" >Find the birth date of the actor who played roles in First Wives Club and Searching for the Elephant.</td>\n",
       "      <td id=\"T_34788_row7_col1\" class=\"data row7 col1\" >['February 13, 1980']</td>\n",
       "      <td id=\"T_34788_row7_col2\" class=\"data row7 col2\" >February 13, 1980</td>\n",
       "      <td id=\"T_34788_row7_col3\" class=\"data row7 col3\" >✔️</td>\n",
       "    </tr>\n",
       "    <tr>\n",
       "      <th id=\"T_34788_level0_row8\" class=\"row_heading level0 row8\" >8</th>\n",
       "      <td id=\"T_34788_row8_col0\" class=\"data row8 col0\" >Kyle Moran was born in the town on what river?</td>\n",
       "      <td id=\"T_34788_row8_col1\" class=\"data row8 col1\" >['Castletown', 'Castletown River']</td>\n",
       "      <td id=\"T_34788_row8_col2\" class=\"data row8 col2\" >Castletown River</td>\n",
       "      <td id=\"T_34788_row8_col3\" class=\"data row8 col3\" >✔️</td>\n",
       "    </tr>\n",
       "    <tr>\n",
       "      <th id=\"T_34788_level0_row9\" class=\"row_heading level0 row9\" >9</th>\n",
       "      <td id=\"T_34788_row9_col0\" class=\"data row9 col0\" >What is the name of one branch of Robert D. Braun's speciality?</td>\n",
       "      <td id=\"T_34788_row9_col1\" class=\"data row9 col1\" >['aeronautical engineering', 'astronautical engineering', 'aeronautics', 'astronautics']</td>\n",
       "      <td id=\"T_34788_row9_col2\" class=\"data row9 col2\" >Planetary exploration</td>\n",
       "      <td id=\"T_34788_row9_col3\" class=\"data row9 col3\" >❌</td>\n",
       "    </tr>\n",
       "    <tr>\n",
       "      <th id=\"T_34788_level0_row10\" class=\"row_heading level0 row10\" >10</th>\n",
       "      <td id=\"T_34788_row10_col0\" class=\"data row10 col0\" >Where was the actress who played the niece in the Priest film born?</td>\n",
       "      <td id=\"T_34788_row10_col1\" class=\"data row10 col1\" >['Surrey', 'Guildford, Surrey']</td>\n",
       "      <td id=\"T_34788_row10_col2\" class=\"data row10 col2\" >Bountiful, Utah</td>\n",
       "      <td id=\"T_34788_row10_col3\" class=\"data row10 col3\" >❌</td>\n",
       "    </tr>\n",
       "    <tr>\n",
       "      <th id=\"T_34788_level0_row11\" class=\"row_heading level0 row11\" >11</th>\n",
       "      <td id=\"T_34788_row11_col0\" class=\"data row11 col0\" >Name the movie in which the daughter of Noel Harrison plays Violet Trefusis.</td>\n",
       "      <td id=\"T_34788_row11_col1\" class=\"data row11 col1\" >['Portrait of a Marriage']</td>\n",
       "      <td id=\"T_34788_row11_col2\" class=\"data row11 col2\" >Portrait of a Marriage</td>\n",
       "      <td id=\"T_34788_row11_col3\" class=\"data row11 col3\" >✔️</td>\n",
       "    </tr>\n",
       "    <tr>\n",
       "      <th id=\"T_34788_level0_row12\" class=\"row_heading level0 row12\" >12</th>\n",
       "      <td id=\"T_34788_row12_col0\" class=\"data row12 col0\" >What year was the father of the Princes in the Tower born?</td>\n",
       "      <td id=\"T_34788_row12_col1\" class=\"data row12 col1\" >['1442']</td>\n",
       "      <td id=\"T_34788_row12_col2\" class=\"data row12 col2\" >1442</td>\n",
       "      <td id=\"T_34788_row12_col3\" class=\"data row12 col3\" >✔️</td>\n",
       "    </tr>\n",
       "  </tbody>\n",
       "</table>\n"
      ],
      "text/plain": [
       "<pandas.io.formats.style.Styler at 0x126409b10>"
      ]
     },
     "metadata": {},
     "output_type": "display_data"
    },
    {
     "data": {
      "text/plain": [
       "84.6"
      ]
     },
     "execution_count": 68,
     "metadata": {},
     "output_type": "execute_result"
    }
   ],
   "source": [
    "evaluate(multihop_QA_v2, dev)"
   ]
  },
  {
   "attachments": {},
   "cell_type": "markdown",
   "id": "a174fc2a",
   "metadata": {},
   "source": [
    "## Chat Adapter with system_turn=True, multi_turn=True, strict_turn=False"
   ]
  },
  {
   "cell_type": "code",
   "execution_count": 69,
   "id": "5c6d5ac4",
   "metadata": {},
   "outputs": [
    {
     "name": "stdout",
     "output_type": "stream",
     "text": [
      "\n",
      "\n",
      "\n",
      "\n",
      "{'model': 'gpt-3.5-turbo-0613', 'messages': [{'role': 'system', 'content': 'Answer questions with short factoid answers.'}, {'role': 'user', 'content': 'Question: Who was the director of the 2009 movie featuring Peter Outerbridge as William Easton?\\nAnswer: Kevin Greutert\\n\\nQuestion: Who produced the album that included a re-recording of \"Lithium\"?\\nAnswer: Butch Vig\\n\\nQuestion: What city was the victim of Joseph Druces working in?\\nAnswer: Boston, Massachusetts'}, {'role': 'user', 'content': \"Follow the following format.\\n\\nContext:\\n${sources that may contain relevant content}\\n\\nQuestion: ${the question to be answered}\\n\\nRationale: Let's think step by step. ${a step-by-step deduction that identifies the correct response, which will be provided below}\\n\\nAnswer: ${a short factoid answer, often between 1 and 5 words}\"}, {'role': 'user', 'content': 'Context:\\n[1] «Gary Zukav | experience that led to his first book, \"Dancing Wu Li Masters\", written with extensive help from Jack Sarfatti and other physicists he met through Sarfatti as described in David Kaiser\\'s book \"How the Hippies Saved Physics\". He later described this book as his \"first gift to Life\". In 1987 he moved to Mount Shasta, California, where he lived in a cabin as a self-described \"secular monk\" and spent extensive time in the surrounding wilderness. In 1993 he met Linda Francis. They co-founded the Seat of the Soul Institute in 1998 and moved to Ashland, Oregon, in 2000. Christopher Lehmann-Haupt reviewed»\\n[2] «Gary Zukav | Gary Zukav Gary Zukav (born October 17, 1942) is an American spiritual teacher and the author of four consecutive New York Times Best Sellers. Beginning in 1998, he appeared more than 30 times on \"The Oprah Winfrey Show\" to discuss transformation in human consciousness concepts presented in his book \"The Seat of the Soul\". His first book, \"The Dancing Wu Li Masters\" (1979), won a U.S. National Book Award. Gary Zukav was born in Port Arthur, Texas, and spent his early childhood in San Antonio and Houston. His family moved to Pittsburg, Kansas, while he was in fourth grade. In»\\n[3] «The Dancing Wu Li Masters | The Dancing Wu Li Masters The Dancing Wu Li Masters is a 1979 book by Gary Zukav, a popular science work exploring modern physics, and quantum phenomena in particular. It was awarded a 1980 U.S. National Book Award in category of Science. Although it explores empirical topics in modern physics research, \"The Dancing Wu Li Masters\" gained attention for leveraging metaphors taken from eastern spiritual movements, in particular the Huayen school of Buddhism with the monk Fazang\\'s treatise on The Golden Lion, to explain quantum phenomena and has been regarded by some reviewers as a New Age work, although the»\\n[4] «The Dancing Wu Li Masters | a 1976 physics conference of eastern and western scientists at Esalen Institute, California; and he used the occasion as material for his book. At the conference, it was said that the Chinese term for physics is \\'Wu Li\\', or \"patterns of organic energy.\" Zukav, among others, conceptualized \\'physics\\' as the dance of the Wu Li Masters – teachers of physical essence. Zukav explains the concept further: The Dancing Wu Li Masters The Dancing Wu Li Masters is a 1979 book by Gary Zukav, a popular science work exploring modern physics, and quantum phenomena in particular. It was awarded a 1980»\\n\\nQuestion: Which award did the first book of Gary Zukav receive?\\n\\nRationale: Let\\'s think step by step. Rationale: The question asks about the award received by Gary Zukav\\'s first book. According to the provided context, Gary Zukav\\'s first book is \"The Dancing Wu Li Masters\" (1979). The context also mentions that this book won an award.\\n\\nAnswer: U.S. National Book Award'}, {'role': 'user', 'content': 'Context:\\n[1] «John du Pont | John du Pont John Eleuthère du Pont (November 22, 1938 – December 9, 2010) was an American philanthropist, heir to the Du Pont family fortune, and a convicted murderer. He had been a published ornithologist, philatelist, conchologist, sports enthusiast, and self-styled wrestling coach. He died in prison while serving a sentence of 30 years for the murder of Dave Schultz. In 1972, du Pont founded and directed the Delaware Museum of Natural History and contributed to Villanova University and other institutions. In the 1980s, he established a wrestling facility at his Foxcatcher Farm after becoming interested in the sport and»\\n[2] «Du Pont family | William du Pont, Jr. The family fortune as of 2016 was $14.3 billion with over 3,500 living members around the world, most of whom are only marginally related. Pierre Samuel du Pont de Nemours was the son of a Parisian watchmaker and a member of a Burgundian Huguenot family, and descendant of a minor noble family on his mother\\'s side. He and his sons, Victor Marie du Pont and Éleuthère Irénée du Pont, emigrated from France in 1800 to the United States and used the resources of their Huguenot heritage to found one of the most prominent of American families,»\\n[3] «John du Pont | Foxcatcher team. Du Pont became a sponsor in wrestling, swimming, track, and the modern pentathlon. He was also involved in promoting a subset of the modern pentathlon (run, swim, shoot) as a separate event. He took up athletics and became a competitive wrestler in his 50s. His only prior wrestling experience was as a freshman in high school. He began competing again at the age of 55 in the 1992 Veteran\\'s World Championships in Cali, Colombia; following that in 1993 in Toronto, Ontario; in 1994 in Rome, Italy; and in 1995 in Sofia, Bulgaria. In August 1988, a problem-plagued wrestling»\\n[4] «John du Pont | stamps while in prison, he was not allowed to bring them there. After his mother\\'s death, du Pont developed the Liseter Hall Farm in Newtown Square as a high-quality wrestling facility for amateur wrestlers. He called the private group \"Team Foxcatcher,\" after his father\\'s noted racing stable. Du Pont established an Olympic swimming and wrestling training center and sponsored competitive events at the estate. He also allowed some people, such as Olympic champion wrestlers Mark Schultz and later his older brother Dave Schultz and his wife, to live in houses on the grounds for years. Dave Schultz also coached the»\\n\\nQuestion: The heir to the Du Pont family fortune sponsored what wrestling team?\\n\\nRationale: Let\\'s think step by step. Rationale: 1. John du Pont, the heir to the Du Pont family fortune, was involved in promoting wrestling and became a competitive wrestler himself. 2. He developed a high-quality wrestling facility called Liseter Hall Farm and established an Olympic swimming and wrestling training center. 3. He sponsored competitive events and allowed Olympic champion wrestlers, such as Mark Schultz and Dave Schultz, to live on the grounds. 4. The private group associated with du Pont\\'s wrestling endeavors was called \"Team Foxcatcher,\" named after his father\\'s racing stable.\\n\\nAnswer: Team Foxcatcher'}, {'role': 'user', 'content': 'Context:\\n[1] «To Hell and Back (film) | To Hell and Back (film) To Hell and Back is a Technicolor and CinemaScope war film released in 1955. It was directed by Jesse Hibbs and stars Audie Murphy as himself. It is based on the 1949 autobiography of the same name and is an account of Murphy\\'s World War II experiences as a soldier in the U.S. Army. The book was ghostwritten by his friend, David \"Spec\" McClure, who served in the U.S. Army\\'s Signal Corps during World War II. Young Audie Murphy (Gordon Gebert) grows up in a large, poor sharecropper family in Texas. His father deserts them»\\n[2] «Hell and Back (film) | Hell and Back (film) Hell and Back is a 2015 American stop-motion adult animated fantasy comedy film directed by Tom Gianas and Ross Shuman, and written by Gianas, Hugh Sterbakov, and Zeb Wells. It stars the voices of Nick Swardson, Mila Kunis, Bob Odenkirk, T.J. Miller, Rob Riggle, Susan Sarandon, and Danny McBride. The film was released October 2, 2015, by Freestyle Releasing. Idealistic promoter Remy (Nick Swardson) is desperate to bring in business at a rundown pier carnival alongside his childhood friends, overweight and odd carnival repairman Augie (T.J. Miller) and their insolent assistant manager Curt Myers (Rob Riggle).»\\n[3] «Audie Murphy | Audie Murphy Audie Leon Murphy (20 June 1925 – 28 May 1971) was one of the most decorated American combat soldiers of World War II. He received every military combat award for valor available from the U.S. Army, as well as French and Belgian awards for heroism. Murphy received the Medal of Honor for valor that he demonstrated at the age of 19 for single-handedly holding off an entire company of German soldiers for an hour at the Colmar Pocket in France in January 1945, then leading a successful counterattack while wounded and out of ammunition. Murphy was born into»\\n[4] «Audie Murphy | who visit to pay their respects. It is the cemetery\\'s second most-visited gravesite, after that of President John F. Kennedy. The headstones of Medal of Honor recipients buried at Arlington National Cemetery are normally decorated in gold leaf. Murphy previously requested that his stone remain plain and inconspicuous, like that of an ordinary soldier. The headstone contains the birth year 1924, based upon purportedly falsified materials among his military records. In 1974, a large granite marker was erected just off the Appalachian Trail at at 3,100′ elevation, near the crash site. Civilian honors were bestowed on Murphy during his lifetime»\\n\\nQuestion: In what year was the star of To Hell and Back born?\\n\\nRationale: Let\\'s think step by step. Rationale: The film To Hell and Back is based on the autobiography of Audie Murphy, who stars as himself in the movie. To find out the year Audie Murphy was born, we can refer to the information provided in [3] about Audie Murphy\\'s life and achievements.\\n\\nAnswer: 1925'}, {'role': 'user', 'content': 'Context:\\n[1] «[1] The Long Island serial killer is believed to have murdered multiple people associated with prostitution.\\n[3] The bodies were found along the Ocean Parkway, near the beach towns of Gilgo and Oak Beach.\\n[4] The Suffolk County Police Department suspects a serial killer may be responsible.\\n[5] A documentary about the Menendez brothers was featured on A&E.»\\n[2] «The Killing Season (U.S. TV series) | The Killing Season (U.S. TV series) The Killing Season is an American true crime documentary television series which debuted on November 12, 2016, on A&E. Executive produced by Alex Gibney, the series follows documentarians Joshua Zeman and Rachel Mills as they explore the case of the Long Island serial killer and other unsolved cases such as the Eastbound Strangler, and the victims and investigations that have been connected to the cases. Some new investigating and interviewing is done during the series, including contacting internet amateur crime investigation group Websleuths.com group members, and following-up on Websleuths activities. Series producers found sex»\\n[3] «Lyle and Erik Menendez | documentary on Tammi, \"Mrs. Menéndez\". In late 2017, A&E aired a five-part documentary, titled \"The Menendez Murders: Erik Tells All\", in which Erik, via telephone, recalls the murders and the aftermath. The series also provides never-before-seen photos and new interviews with prosecutors, law enforcement, close family, friends and medical experts. The Menéndez brothers were featured in a 2017 documentary titled \"Truth and Lies: The Menéndez Brothers — American Sons, American Murderers\" on ABC, as well as on an episode of \"Snapped\" in 2016. The murders are the subjects of multiple docu-dramas, including the Lifetime movie \"\" (2017), as well as»\\n[4] «Joel Rifkin | to the Gilgo Beach Killer. In an April 2011 prison interview with \"Newsday\", Rifkin denied having anything to do with the remains discovered in 2011. Experts and victims\\' rights advocates, however, believe that those denials have no value. Rifkin\\'s birth mother was a 20-year-old college student, and his biological father was a 24-year-old college student and army veteran. At three weeks old he was adopted by an upper-middle class Long Island couple, on February 14, 1959. His adoptive father, Benjamin Rifkin, was of Russian Jewish descent and his adoptive mother, Jeanne (Granelles), of Spanish descent, converted to Judaism when she»\\n[5] «Long Island serial killer | Long Island serial killer The Long Island serial killer (also referred to as LISK, the Gilgo Beach Killer or the Craigslist Ripper) is an unidentified suspected serial killer who is believed to have murdered 10 to 16 people associated with prostitution, over a period of nearly 20 years, and dumped their bodies along the Ocean Parkway, near the remote Long Island, New York beach towns of Gilgo and Oak Beach in Suffolk County, and the area of Jones Beach State Park in Nassau County. The remains of four victims were found in December 2010, while six more sets of remains»\\n[6] «Long Island serial killer | skull and a partial set of remains were found on April 11 after the search expanded into Nassau County. They were found about one mile apart, approximately five miles west of those found in December. These additional cases have not been officially linked to the other 10 bodies, but are being reviewed by police: Numerous films and television programs have covered the case, e.g.: Long Island serial killer The Long Island serial killer (also referred to as LISK, the Gilgo Beach Killer or the Craigslist Ripper) is an unidentified suspected serial killer who is believed to have murdered 10 to»\\n\\nQuestion: What documentary about the Gilgo Beach Killer debuted on A&E?\\n\\nRationale: Let\\'s think step by step.'}]}\u001b[32mRationale: The question asks about a documentary about the Gilgo Beach Killer that debuted on A&E. According to the provided context, the documentary is titled \"The Killing Season\" and it follows documentarians Joshua Zeman and Rachel Mills as they explore the case of the Long Island serial killer and other unsolved cases.\n",
      "\n",
      "Answer: The Killing Season\u001b[0m\n",
      "\n",
      "\n",
      "\n"
     ]
    },
    {
     "data": {
      "text/plain": [
       "('The Killing Season', None)"
      ]
     },
     "execution_count": 69,
     "metadata": {},
     "output_type": "execute_result"
    }
   ],
   "source": [
    "dsp.settings.configure(lm=turbo, rm=rm, adapter=ChatAdapter(system_turn=True, multi_turn=True, strict_turn=False))\n",
    "multihop_QA_v2(dev[1].question), turbo.inspect_history(n=1)"
   ]
  },
  {
   "cell_type": "code",
   "execution_count": 70,
   "id": "b3e08601",
   "metadata": {},
   "outputs": [
    {
     "name": "stderr",
     "output_type": "stream",
     "text": [
      "100%|██████████| 13/13 [00:00<00:00, 43.80it/s]"
     ]
    },
    {
     "name": "stdout",
     "output_type": "stream",
     "text": [
      "Answered 10 / 13 (76.9%) correctly.\n"
     ]
    },
    {
     "name": "stderr",
     "output_type": "stream",
     "text": [
      "\n"
     ]
    },
    {
     "data": {
      "text/html": [
       "<style type=\"text/css\">\n",
       "#T_20ab4 th {\n",
       "  text-align: left;\n",
       "}\n",
       "#T_20ab4 td {\n",
       "  text-align: left;\n",
       "}\n",
       "</style>\n",
       "<table id=\"T_20ab4\">\n",
       "  <thead>\n",
       "    <tr>\n",
       "      <th class=\"blank level0\" >&nbsp;</th>\n",
       "      <th id=\"T_20ab4_level0_col0\" class=\"col_heading level0 col0\" >question</th>\n",
       "      <th id=\"T_20ab4_level0_col1\" class=\"col_heading level0 col1\" >answer</th>\n",
       "      <th id=\"T_20ab4_level0_col2\" class=\"col_heading level0 col2\" >prediction</th>\n",
       "      <th id=\"T_20ab4_level0_col3\" class=\"col_heading level0 col3\" >correct</th>\n",
       "    </tr>\n",
       "  </thead>\n",
       "  <tbody>\n",
       "    <tr>\n",
       "      <th id=\"T_20ab4_level0_row0\" class=\"row_heading level0 row0\" >0</th>\n",
       "      <td id=\"T_20ab4_row0_col0\" class=\"data row0 col0\" >Who has a broader scope of profession: E. L. Doctorow or Julia Peterkin?</td>\n",
       "      <td id=\"T_20ab4_row0_col1\" class=\"data row0 col1\" >['E. L. Doctorow', 'E.L. Doctorow', 'Doctorow']</td>\n",
       "      <td id=\"T_20ab4_row0_col2\" class=\"data row0 col2\" >E. L. Doctorow</td>\n",
       "      <td id=\"T_20ab4_row0_col3\" class=\"data row0 col3\" >✔️</td>\n",
       "    </tr>\n",
       "    <tr>\n",
       "      <th id=\"T_20ab4_level0_row1\" class=\"row_heading level0 row1\" >1</th>\n",
       "      <td id=\"T_20ab4_row1_col0\" class=\"data row1 col0\" >What documentary about the Gilgo Beach Killer debuted on A&E?</td>\n",
       "      <td id=\"T_20ab4_row1_col1\" class=\"data row1 col1\" >['The Killing Season']</td>\n",
       "      <td id=\"T_20ab4_row1_col2\" class=\"data row1 col2\" >The Killing Season</td>\n",
       "      <td id=\"T_20ab4_row1_col3\" class=\"data row1 col3\" >✔️</td>\n",
       "    </tr>\n",
       "    <tr>\n",
       "      <th id=\"T_20ab4_level0_row2\" class=\"row_heading level0 row2\" >2</th>\n",
       "      <td id=\"T_20ab4_row2_col0\" class=\"data row2 col0\" >Right Back At It Again contains lyrics co-written by the singer born in what city?</td>\n",
       "      <td id=\"T_20ab4_row2_col1\" class=\"data row2 col1\" >['Gainesville, Florida', 'Gainesville']</td>\n",
       "      <td id=\"T_20ab4_row2_col2\" class=\"data row2 col2\" >Gainesville, Florida</td>\n",
       "      <td id=\"T_20ab4_row2_col3\" class=\"data row2 col3\" >✔️</td>\n",
       "    </tr>\n",
       "    <tr>\n",
       "      <th id=\"T_20ab4_level0_row3\" class=\"row_heading level0 row3\" >3</th>\n",
       "      <td id=\"T_20ab4_row3_col0\" class=\"data row3 col0\" >What year was the party of the winner of the 1971 San Francisco mayoral election founded?</td>\n",
       "      <td id=\"T_20ab4_row3_col1\" class=\"data row3 col1\" >['1828']</td>\n",
       "      <td id=\"T_20ab4_row3_col2\" class=\"data row3 col2\" >The context does not provide information about the year the party of the winner of the 1971 San Francisco mayoral election was founded.</td>\n",
       "      <td id=\"T_20ab4_row3_col3\" class=\"data row3 col3\" >❌</td>\n",
       "    </tr>\n",
       "    <tr>\n",
       "      <th id=\"T_20ab4_level0_row4\" class=\"row_heading level0 row4\" >4</th>\n",
       "      <td id=\"T_20ab4_row4_col0\" class=\"data row4 col0\" >Which author is English: John Braine or Studs Terkel?</td>\n",
       "      <td id=\"T_20ab4_row4_col1\" class=\"data row4 col1\" >['John Braine']</td>\n",
       "      <td id=\"T_20ab4_row4_col2\" class=\"data row4 col2\" >John Braine</td>\n",
       "      <td id=\"T_20ab4_row4_col3\" class=\"data row4 col3\" >✔️</td>\n",
       "    </tr>\n",
       "    <tr>\n",
       "      <th id=\"T_20ab4_level0_row5\" class=\"row_heading level0 row5\" >5</th>\n",
       "      <td id=\"T_20ab4_row5_col0\" class=\"data row5 col0\" >Anthony Dirrell is the brother of which super middleweight title holder?</td>\n",
       "      <td id=\"T_20ab4_row5_col1\" class=\"data row5 col1\" >['Andre Dirrell']</td>\n",
       "      <td id=\"T_20ab4_row5_col2\" class=\"data row5 col2\" >Andre Dirrell</td>\n",
       "      <td id=\"T_20ab4_row5_col3\" class=\"data row5 col3\" >✔️</td>\n",
       "    </tr>\n",
       "    <tr>\n",
       "      <th id=\"T_20ab4_level0_row6\" class=\"row_heading level0 row6\" >6</th>\n",
       "      <td id=\"T_20ab4_row6_col0\" class=\"data row6 col0\" >In which city is the sports nutrition business established by Oliver Cookson based ?</td>\n",
       "      <td id=\"T_20ab4_row6_col1\" class=\"data row6 col1\" >['Cheshire', 'Cheshire, UK']</td>\n",
       "      <td id=\"T_20ab4_row6_col2\" class=\"data row6 col2\" >Cheshire, UK</td>\n",
       "      <td id=\"T_20ab4_row6_col3\" class=\"data row6 col3\" >✔️</td>\n",
       "    </tr>\n",
       "    <tr>\n",
       "      <th id=\"T_20ab4_level0_row7\" class=\"row_heading level0 row7\" >7</th>\n",
       "      <td id=\"T_20ab4_row7_col0\" class=\"data row7 col0\" >Find the birth date of the actor who played roles in First Wives Club and Searching for the Elephant.</td>\n",
       "      <td id=\"T_20ab4_row7_col1\" class=\"data row7 col1\" >['February 13, 1980']</td>\n",
       "      <td id=\"T_20ab4_row7_col2\" class=\"data row7 col2\" >February 13, 1980</td>\n",
       "      <td id=\"T_20ab4_row7_col3\" class=\"data row7 col3\" >✔️</td>\n",
       "    </tr>\n",
       "    <tr>\n",
       "      <th id=\"T_20ab4_level0_row8\" class=\"row_heading level0 row8\" >8</th>\n",
       "      <td id=\"T_20ab4_row8_col0\" class=\"data row8 col0\" >Kyle Moran was born in the town on what river?</td>\n",
       "      <td id=\"T_20ab4_row8_col1\" class=\"data row8 col1\" >['Castletown', 'Castletown River']</td>\n",
       "      <td id=\"T_20ab4_row8_col2\" class=\"data row8 col2\" >Castletown River</td>\n",
       "      <td id=\"T_20ab4_row8_col3\" class=\"data row8 col3\" >✔️</td>\n",
       "    </tr>\n",
       "    <tr>\n",
       "      <th id=\"T_20ab4_level0_row9\" class=\"row_heading level0 row9\" >9</th>\n",
       "      <td id=\"T_20ab4_row9_col0\" class=\"data row9 col0\" >What is the name of one branch of Robert D. Braun's speciality?</td>\n",
       "      <td id=\"T_20ab4_row9_col1\" class=\"data row9 col1\" >['aeronautical engineering', 'astronautical engineering', 'aeronautics', 'astronautics']</td>\n",
       "      <td id=\"T_20ab4_row9_col2\" class=\"data row9 col2\" >Planetary exploration</td>\n",
       "      <td id=\"T_20ab4_row9_col3\" class=\"data row9 col3\" >❌</td>\n",
       "    </tr>\n",
       "    <tr>\n",
       "      <th id=\"T_20ab4_level0_row10\" class=\"row_heading level0 row10\" >10</th>\n",
       "      <td id=\"T_20ab4_row10_col0\" class=\"data row10 col0\" >Where was the actress who played the niece in the Priest film born?</td>\n",
       "      <td id=\"T_20ab4_row10_col1\" class=\"data row10 col1\" >['Surrey', 'Guildford, Surrey']</td>\n",
       "      <td id=\"T_20ab4_row10_col2\" class=\"data row10 col2\" >Surrey, England</td>\n",
       "      <td id=\"T_20ab4_row10_col3\" class=\"data row10 col3\" >❌</td>\n",
       "    </tr>\n",
       "    <tr>\n",
       "      <th id=\"T_20ab4_level0_row11\" class=\"row_heading level0 row11\" >11</th>\n",
       "      <td id=\"T_20ab4_row11_col0\" class=\"data row11 col0\" >Name the movie in which the daughter of Noel Harrison plays Violet Trefusis.</td>\n",
       "      <td id=\"T_20ab4_row11_col1\" class=\"data row11 col1\" >['Portrait of a Marriage']</td>\n",
       "      <td id=\"T_20ab4_row11_col2\" class=\"data row11 col2\" >Portrait of a Marriage</td>\n",
       "      <td id=\"T_20ab4_row11_col3\" class=\"data row11 col3\" >✔️</td>\n",
       "    </tr>\n",
       "    <tr>\n",
       "      <th id=\"T_20ab4_level0_row12\" class=\"row_heading level0 row12\" >12</th>\n",
       "      <td id=\"T_20ab4_row12_col0\" class=\"data row12 col0\" >What year was the father of the Princes in the Tower born?</td>\n",
       "      <td id=\"T_20ab4_row12_col1\" class=\"data row12 col1\" >['1442']</td>\n",
       "      <td id=\"T_20ab4_row12_col2\" class=\"data row12 col2\" >1442</td>\n",
       "      <td id=\"T_20ab4_row12_col3\" class=\"data row12 col3\" >✔️</td>\n",
       "    </tr>\n",
       "  </tbody>\n",
       "</table>\n"
      ],
      "text/plain": [
       "<pandas.io.formats.style.Styler at 0x1264ecfd0>"
      ]
     },
     "metadata": {},
     "output_type": "display_data"
    },
    {
     "data": {
      "text/plain": [
       "76.9"
      ]
     },
     "execution_count": 70,
     "metadata": {},
     "output_type": "execute_result"
    }
   ],
   "source": [
    "evaluate(multihop_QA_v2, dev)"
   ]
  },
  {
   "attachments": {},
   "cell_type": "markdown",
   "id": "cbcb1d5e",
   "metadata": {},
   "source": [
    "## Chat Adapter with system_turn=True, multi_turn=True, strict_turn=True"
   ]
  },
  {
   "cell_type": "code",
   "execution_count": 71,
   "id": "e115f8de",
   "metadata": {},
   "outputs": [
    {
     "name": "stdout",
     "output_type": "stream",
     "text": [
      "\n",
      "\n",
      "\n",
      "\n",
      "{'model': 'gpt-3.5-turbo-0613', 'messages': [{'role': 'system', 'content': 'Answer questions with short factoid answers.'}, {'role': 'user', 'content': 'Question: Who was the director of the 2009 movie featuring Peter Outerbridge as William Easton?\\nAnswer: Kevin Greutert\\n\\nQuestion: What city was the victim of Joseph Druces working in?\\nAnswer: Boston, Massachusetts\\n\\nQuestion: In what year was the star of To Hell and Back born?\\nAnswer: 1925'}, {'role': 'assistant', 'content': 'Got it.'}, {'role': 'user', 'content': \"Follow the following format.\\n\\nContext:\\n${sources that may contain relevant content}\\n\\nQuestion: ${the question to be answered}\\n\\nRationale: Let's think step by step. ${a step-by-step deduction that identifies the correct response, which will be provided below}\\n\\nAnswer: ${a short factoid answer, often between 1 and 5 words}\"}, {'role': 'assistant', 'content': 'Got it.'}, {'role': 'user', 'content': 'Context:\\n[1] «Gary Zukav | Gary Zukav Gary Zukav (born October 17, 1942) is an American spiritual teacher and the author of four consecutive New York Times Best Sellers. Beginning in 1998, he appeared more than 30 times on \"The Oprah Winfrey Show\" to discuss transformation in human consciousness concepts presented in his book \"The Seat of the Soul\". His first book, \"The Dancing Wu Li Masters\" (1979), won a U.S. National Book Award. Gary Zukav was born in Port Arthur, Texas, and spent his early childhood in San Antonio and Houston. His family moved to Pittsburg, Kansas, while he was in fourth grade. In»\\n[2] «Gary Zukav | experience that led to his first book, \"Dancing Wu Li Masters\", written with extensive help from Jack Sarfatti and other physicists he met through Sarfatti as described in David Kaiser\\'s book \"How the Hippies Saved Physics\". He later described this book as his \"first gift to Life\". In 1987 he moved to Mount Shasta, California, where he lived in a cabin as a self-described \"secular monk\" and spent extensive time in the surrounding wilderness. In 1993 he met Linda Francis. They co-founded the Seat of the Soul Institute in 1998 and moved to Ashland, Oregon, in 2000. Christopher Lehmann-Haupt reviewed»\\n[3] «The Dancing Wu Li Masters | The Dancing Wu Li Masters The Dancing Wu Li Masters is a 1979 book by Gary Zukav, a popular science work exploring modern physics, and quantum phenomena in particular. It was awarded a 1980 U.S. National Book Award in category of Science. Although it explores empirical topics in modern physics research, \"The Dancing Wu Li Masters\" gained attention for leveraging metaphors taken from eastern spiritual movements, in particular the Huayen school of Buddhism with the monk Fazang\\'s treatise on The Golden Lion, to explain quantum phenomena and has been regarded by some reviewers as a New Age work, although the»\\n\\nQuestion: Which award did the first book of Gary Zukav receive?\\n\\nRationale: Let\\'s think step by step. Rationale: The context mentions that Gary Zukav\\'s first book is titled \"The Dancing Wu Li Masters\" and that it won an award. The context also mentions that this book won a U.S. National Book Award.\\n\\nAnswer: U.S. National Book Award'}, {'role': 'assistant', 'content': 'Got it.'}, {'role': 'user', 'content': 'Context:\\n[1] «John du Pont | John du Pont John Eleuthère du Pont (November 22, 1938 – December 9, 2010) was an American philanthropist, heir to the Du Pont family fortune, and a convicted murderer. He had been a published ornithologist, philatelist, conchologist, sports enthusiast, and self-styled wrestling coach. He died in prison while serving a sentence of 30 years for the murder of Dave Schultz. In 1972, du Pont founded and directed the Delaware Museum of Natural History and contributed to Villanova University and other institutions. In the 1980s, he established a wrestling facility at his Foxcatcher Farm after becoming interested in the sport and»\\n[2] «Du Pont family | William du Pont, Jr. The family fortune as of 2016 was $14.3 billion with over 3,500 living members around the world, most of whom are only marginally related. Pierre Samuel du Pont de Nemours was the son of a Parisian watchmaker and a member of a Burgundian Huguenot family, and descendant of a minor noble family on his mother\\'s side. He and his sons, Victor Marie du Pont and Éleuthère Irénée du Pont, emigrated from France in 1800 to the United States and used the resources of their Huguenot heritage to found one of the most prominent of American families,»\\n[3] «John du Pont | stamps while in prison, he was not allowed to bring them there. After his mother\\'s death, du Pont developed the Liseter Hall Farm in Newtown Square as a high-quality wrestling facility for amateur wrestlers. He called the private group \"Team Foxcatcher,\" after his father\\'s noted racing stable. Du Pont established an Olympic swimming and wrestling training center and sponsored competitive events at the estate. He also allowed some people, such as Olympic champion wrestlers Mark Schultz and later his older brother Dave Schultz and his wife, to live in houses on the grounds for years. Dave Schultz also coached the»\\n[4] «John du Pont | Foxcatcher team. Du Pont became a sponsor in wrestling, swimming, track, and the modern pentathlon. He was also involved in promoting a subset of the modern pentathlon (run, swim, shoot) as a separate event. He took up athletics and became a competitive wrestler in his 50s. His only prior wrestling experience was as a freshman in high school. He began competing again at the age of 55 in the 1992 Veteran\\'s World Championships in Cali, Colombia; following that in 1993 in Toronto, Ontario; in 1994 in Rome, Italy; and in 1995 in Sofia, Bulgaria. In August 1988, a problem-plagued wrestling»\\n\\nQuestion: The heir to the Du Pont family fortune sponsored what wrestling team?\\n\\nRationale: Let\\'s think step by step. Rationale: Based on the provided context, John du Pont, the heir to the Du Pont family fortune, established a wrestling facility at his Foxcatcher Farm and sponsored a wrestling team.\\n\\nAnswer: Foxcatcher team.'}, {'role': 'assistant', 'content': 'Got it.'}, {'role': 'user', 'content': 'Context:\\n[1] «Lithium (Nirvana song) | Lithium (Nirvana song) \"Lithium\" is a song by American rock band Nirvana. Written by frontman Kurt Cobain, the song is about a man who turns to religion amid thoughts of suicide. Nirvana first recorded \"Lithium\" in 1990 but then re-recorded the song the following year for the group\\'s second album \"Nevermind\" (1991). Released as the third single from \"Nevermind\" in July 1992, \"Lithium\" peaked at number 64 on the US \"Billboard\" Hot 100 and number 11 on the UK Singles Chart. It was also a number 1 hit in Finland. The accompanying music video, directed by Kevin Kerslake, is a»\\n[2] «Lithium (Evanescence song) | Lithium (Evanescence song) \"Lithium\" is a song by American rock band Evanescence recorded for their second studio album \"The Open Door\". It was released on January 1, 2007 as the album\\'s second single through the band\\'s record label Wind-up Records. An alternative version appears on the band\\'s fourth studio album \"Synthesis\" (2017). \"Lithium\" was written by the band\\'s lead singer Amy Lee and produced by music producer Dave Fortman. Initially written on the guitar when Lee was 16-years old, the song was rearranged with a complete band performance and a piano introduction. The song is a midtempo power ballad which»\\n[3] «Nevermind | Nevermind Nevermind is the second studio album by American rock band Nirvana, released on September 24, 1991 by DGC Records. Produced by Butch Vig, it was the band\\'s first release on the label, as well as the first to feature drummer Dave Grohl. Despite low commercial expectations, the album became an unexpected breakout success, largely due to the popularity of its lead single \"Smells Like Teen Spirit\". By January 1992, it had replaced Michael Jackson\\'s \"Dangerous\" at number one on the US \"Billboard\" 200, and also produced three other successful singles: \"Come as You Are\", \"Lithium\", and \"In Bloom\". \"Nevermind\"»\\n[4] «Nevermind | at the Paramount\" DVD music videos Nirvana Additional musicians Technical staff and artwork Nevermind Nevermind is the second studio album by American rock band Nirvana, released on September 24, 1991 by DGC Records. Produced by Butch Vig, it was the band\\'s first release on the label, as well as the first to feature drummer Dave Grohl. Despite low commercial expectations, the album became an unexpected breakout success, largely due to the popularity of its lead single \"Smells Like Teen Spirit\". By January 1992, it had replaced Michael Jackson\\'s \"Dangerous\" at number one on the US \"Billboard\" 200, and also produced»\\n\\nQuestion: Who produced the album that included a re-recording of \"Lithium\"?\\n\\nRationale: Let\\'s think step by step. Rationale: The question asks about the producer of the album that included a re-recording of \"Lithium.\" We know from the context that \"Lithium\" is a song by Nirvana and that it was re-recorded for an album. The context also mentions two albums: \"Nevermind\" by Nirvana and \"The Open Door\" by Evanescence. To find the correct answer, we need to identify the album that included the re-recording of \"Lithium\" by Nirvana.\\n\\nAnswer: Butch Vig'}, {'role': 'assistant', 'content': 'Got it.'}, {'role': 'user', 'content': 'Context:\\n[1] «Rationale: Based on the context, we know that the Gilgo Beach Killer is an unidentified suspected serial killer who is believed to have murdered multiple people associated with prostitution. The Long Island Serial Killer is also referred to as LISK, the Gilgo Beach Killer, or the Craigslist Ripper. In the context, it is mentioned that a documentary about the Gilgo Beach Killer debuted on A&E.»\\n[2] «Long Island serial killer | Long Island serial killer The Long Island serial killer (also referred to as LISK, the Gilgo Beach Killer or the Craigslist Ripper) is an unidentified suspected serial killer who is believed to have murdered 10 to 16 people associated with prostitution, over a period of nearly 20 years, and dumped their bodies along the Ocean Parkway, near the remote Long Island, New York beach towns of Gilgo and Oak Beach in Suffolk County, and the area of Jones Beach State Park in Nassau County. The remains of four victims were found in December 2010, while six more sets of remains»\\n[3] «Joel Rifkin | to the Gilgo Beach Killer. In an April 2011 prison interview with \"Newsday\", Rifkin denied having anything to do with the remains discovered in 2011. Experts and victims\\' rights advocates, however, believe that those denials have no value. Rifkin\\'s birth mother was a 20-year-old college student, and his biological father was a 24-year-old college student and army veteran. At three weeks old he was adopted by an upper-middle class Long Island couple, on February 14, 1959. His adoptive father, Benjamin Rifkin, was of Russian Jewish descent and his adoptive mother, Jeanne (Granelles), of Spanish descent, converted to Judaism when she»\\n[4] «Lyle and Erik Menendez | documentary on Tammi, \"Mrs. Menéndez\". In late 2017, A&E aired a five-part documentary, titled \"The Menendez Murders: Erik Tells All\", in which Erik, via telephone, recalls the murders and the aftermath. The series also provides never-before-seen photos and new interviews with prosecutors, law enforcement, close family, friends and medical experts. The Menéndez brothers were featured in a 2017 documentary titled \"Truth and Lies: The Menéndez Brothers — American Sons, American Murderers\" on ABC, as well as on an episode of \"Snapped\" in 2016. The murders are the subjects of multiple docu-dramas, including the Lifetime movie \"\" (2017), as well as»\\n[5] «Long Island serial killer | skull and a partial set of remains were found on April 11 after the search expanded into Nassau County. They were found about one mile apart, approximately five miles west of those found in December. These additional cases have not been officially linked to the other 10 bodies, but are being reviewed by police: Numerous films and television programs have covered the case, e.g.: Long Island serial killer The Long Island serial killer (also referred to as LISK, the Gilgo Beach Killer or the Craigslist Ripper) is an unidentified suspected serial killer who is believed to have murdered 10 to»\\n[6] «The Killing Season (U.S. TV series) | The Killing Season (U.S. TV series) The Killing Season is an American true crime documentary television series which debuted on November 12, 2016, on A&E. Executive produced by Alex Gibney, the series follows documentarians Joshua Zeman and Rachel Mills as they explore the case of the Long Island serial killer and other unsolved cases such as the Eastbound Strangler, and the victims and investigations that have been connected to the cases. Some new investigating and interviewing is done during the series, including contacting internet amateur crime investigation group Websleuths.com group members, and following-up on Websleuths activities. Series producers found sex»\\n\\nQuestion: What documentary about the Gilgo Beach Killer debuted on A&E?\\n\\nRationale: Let\\'s think step by step.'}]}\u001b[32mRationale: The question asks about a documentary about the Gilgo Beach Killer that debuted on A&E. The context mentions that a documentary about the Gilgo Beach Killer premiered on A&E. To find the correct answer, we need to identify the specific documentary mentioned in the context.\n",
      "\n",
      "Answer: The Killing Season (U.S. TV series)\u001b[0m\n",
      "\n",
      "\n",
      "\n"
     ]
    },
    {
     "data": {
      "text/plain": [
       "('The Killing Season (U.S. TV series)', None)"
      ]
     },
     "execution_count": 71,
     "metadata": {},
     "output_type": "execute_result"
    }
   ],
   "source": [
    "dsp.settings.configure(lm=turbo, rm=rm, adapter=ChatAdapter(system_turn=True, multi_turn=True, strict_turn=True))\n",
    "multihop_QA_v2(dev[1].question), turbo.inspect_history(n=1)"
   ]
  },
  {
   "cell_type": "code",
   "execution_count": 72,
   "id": "dedb0cf6",
   "metadata": {},
   "outputs": [
    {
     "name": "stderr",
     "output_type": "stream",
     "text": [
      "100%|██████████| 13/13 [00:00<00:00, 45.02it/s]"
     ]
    },
    {
     "name": "stdout",
     "output_type": "stream",
     "text": [
      "Answered 5 / 13 (38.5%) correctly.\n"
     ]
    },
    {
     "name": "stderr",
     "output_type": "stream",
     "text": [
      "\n"
     ]
    },
    {
     "data": {
      "text/html": [
       "<style type=\"text/css\">\n",
       "#T_77105 th {\n",
       "  text-align: left;\n",
       "}\n",
       "#T_77105 td {\n",
       "  text-align: left;\n",
       "}\n",
       "</style>\n",
       "<table id=\"T_77105\">\n",
       "  <thead>\n",
       "    <tr>\n",
       "      <th class=\"blank level0\" >&nbsp;</th>\n",
       "      <th id=\"T_77105_level0_col0\" class=\"col_heading level0 col0\" >question</th>\n",
       "      <th id=\"T_77105_level0_col1\" class=\"col_heading level0 col1\" >answer</th>\n",
       "      <th id=\"T_77105_level0_col2\" class=\"col_heading level0 col2\" >prediction</th>\n",
       "      <th id=\"T_77105_level0_col3\" class=\"col_heading level0 col3\" >correct</th>\n",
       "    </tr>\n",
       "  </thead>\n",
       "  <tbody>\n",
       "    <tr>\n",
       "      <th id=\"T_77105_level0_row0\" class=\"row_heading level0 row0\" >0</th>\n",
       "      <td id=\"T_77105_row0_col0\" class=\"data row0 col0\" >Who has a broader scope of profession: E. L. Doctorow or Julia Peterkin?</td>\n",
       "      <td id=\"T_77105_row0_col1\" class=\"data row0 col1\" >['E. L. Doctorow', 'E.L. Doctorow', 'Doctorow']</td>\n",
       "      <td id=\"T_77105_row0_col2\" class=\"data row0 col2\" >E. L. Doctorow</td>\n",
       "      <td id=\"T_77105_row0_col3\" class=\"data row0 col3\" >✔️</td>\n",
       "    </tr>\n",
       "    <tr>\n",
       "      <th id=\"T_77105_level0_row1\" class=\"row_heading level0 row1\" >1</th>\n",
       "      <td id=\"T_77105_row1_col0\" class=\"data row1 col0\" >What documentary about the Gilgo Beach Killer debuted on A&E?</td>\n",
       "      <td id=\"T_77105_row1_col1\" class=\"data row1 col1\" >['The Killing Season']</td>\n",
       "      <td id=\"T_77105_row1_col2\" class=\"data row1 col2\" >The Killing Season (U.S. TV series)</td>\n",
       "      <td id=\"T_77105_row1_col3\" class=\"data row1 col3\" >❌</td>\n",
       "    </tr>\n",
       "    <tr>\n",
       "      <th id=\"T_77105_level0_row2\" class=\"row_heading level0 row2\" >2</th>\n",
       "      <td id=\"T_77105_row2_col0\" class=\"data row2 col0\" >Right Back At It Again contains lyrics co-written by the singer born in what city?</td>\n",
       "      <td id=\"T_77105_row2_col1\" class=\"data row2 col1\" >['Gainesville, Florida', 'Gainesville']</td>\n",
       "      <td id=\"T_77105_row2_col2\" class=\"data row2 col2\" >Gainesville, Florida</td>\n",
       "      <td id=\"T_77105_row2_col3\" class=\"data row2 col3\" >✔️</td>\n",
       "    </tr>\n",
       "    <tr>\n",
       "      <th id=\"T_77105_level0_row3\" class=\"row_heading level0 row3\" >3</th>\n",
       "      <td id=\"T_77105_row3_col0\" class=\"data row3 col0\" >What year was the party of the winner of the 1971 San Francisco mayoral election founded?</td>\n",
       "      <td id=\"T_77105_row3_col1\" class=\"data row3 col1\" >['1828']</td>\n",
       "      <td id=\"T_77105_row3_col2\" class=\"data row3 col2\" >The party of the winner, Joseph Alioto, was the Democratic Party, which was founded in 1828.</td>\n",
       "      <td id=\"T_77105_row3_col3\" class=\"data row3 col3\" >❌</td>\n",
       "    </tr>\n",
       "    <tr>\n",
       "      <th id=\"T_77105_level0_row4\" class=\"row_heading level0 row4\" >4</th>\n",
       "      <td id=\"T_77105_row4_col0\" class=\"data row4 col0\" >Which author is English: John Braine or Studs Terkel?</td>\n",
       "      <td id=\"T_77105_row4_col1\" class=\"data row4 col1\" >['John Braine']</td>\n",
       "      <td id=\"T_77105_row4_col2\" class=\"data row4 col2\" >John Braine is English.</td>\n",
       "      <td id=\"T_77105_row4_col3\" class=\"data row4 col3\" >❌</td>\n",
       "    </tr>\n",
       "    <tr>\n",
       "      <th id=\"T_77105_level0_row5\" class=\"row_heading level0 row5\" >5</th>\n",
       "      <td id=\"T_77105_row5_col0\" class=\"data row5 col0\" >Anthony Dirrell is the brother of which super middleweight title holder?</td>\n",
       "      <td id=\"T_77105_row5_col1\" class=\"data row5 col1\" >['Andre Dirrell']</td>\n",
       "      <td id=\"T_77105_row5_col2\" class=\"data row5 col2\" >Andre Dirrell</td>\n",
       "      <td id=\"T_77105_row5_col3\" class=\"data row5 col3\" >✔️</td>\n",
       "    </tr>\n",
       "    <tr>\n",
       "      <th id=\"T_77105_level0_row6\" class=\"row_heading level0 row6\" >6</th>\n",
       "      <td id=\"T_77105_row6_col0\" class=\"data row6 col0\" >In which city is the sports nutrition business established by Oliver Cookson based ?</td>\n",
       "      <td id=\"T_77105_row6_col1\" class=\"data row6 col1\" >['Cheshire', 'Cheshire, UK']</td>\n",
       "      <td id=\"T_77105_row6_col2\" class=\"data row6 col2\" >Cheshire, UK.</td>\n",
       "      <td id=\"T_77105_row6_col3\" class=\"data row6 col3\" >✔️</td>\n",
       "    </tr>\n",
       "    <tr>\n",
       "      <th id=\"T_77105_level0_row7\" class=\"row_heading level0 row7\" >7</th>\n",
       "      <td id=\"T_77105_row7_col0\" class=\"data row7 col0\" >Find the birth date of the actor who played roles in First Wives Club and Searching for the Elephant.</td>\n",
       "      <td id=\"T_77105_row7_col1\" class=\"data row7 col1\" >['February 13, 1980']</td>\n",
       "      <td id=\"T_77105_row7_col2\" class=\"data row7 col2\" >Lee Joon-hyuk was born on March 13, 1984.</td>\n",
       "      <td id=\"T_77105_row7_col3\" class=\"data row7 col3\" >❌</td>\n",
       "    </tr>\n",
       "    <tr>\n",
       "      <th id=\"T_77105_level0_row8\" class=\"row_heading level0 row8\" >8</th>\n",
       "      <td id=\"T_77105_row8_col0\" class=\"data row8 col0\" >Kyle Moran was born in the town on what river?</td>\n",
       "      <td id=\"T_77105_row8_col1\" class=\"data row8 col1\" >['Castletown', 'Castletown River']</td>\n",
       "      <td id=\"T_77105_row8_col2\" class=\"data row8 col2\" >Not enough information provided to determine the town on the river where Kyle Moran was born.</td>\n",
       "      <td id=\"T_77105_row8_col3\" class=\"data row8 col3\" >❌</td>\n",
       "    </tr>\n",
       "    <tr>\n",
       "      <th id=\"T_77105_level0_row9\" class=\"row_heading level0 row9\" >9</th>\n",
       "      <td id=\"T_77105_row9_col0\" class=\"data row9 col0\" >What is the name of one branch of Robert D. Braun's speciality?</td>\n",
       "      <td id=\"T_77105_row9_col1\" class=\"data row9 col1\" >['aeronautical engineering', 'astronautical engineering', 'aeronautics', 'astronautics']</td>\n",
       "      <td id=\"T_77105_row9_col2\" class=\"data row9 col2\" >Planetary exploration.</td>\n",
       "      <td id=\"T_77105_row9_col3\" class=\"data row9 col3\" >❌</td>\n",
       "    </tr>\n",
       "    <tr>\n",
       "      <th id=\"T_77105_level0_row10\" class=\"row_heading level0 row10\" >10</th>\n",
       "      <td id=\"T_77105_row10_col0\" class=\"data row10 col0\" >Where was the actress who played the niece in the Priest film born?</td>\n",
       "      <td id=\"T_77105_row10_col1\" class=\"data row10 col1\" >['Surrey', 'Guildford, Surrey']</td>\n",
       "      <td id=\"T_77105_row10_col2\" class=\"data row10 col2\" >Bountiful, Utah</td>\n",
       "      <td id=\"T_77105_row10_col3\" class=\"data row10 col3\" >❌</td>\n",
       "    </tr>\n",
       "    <tr>\n",
       "      <th id=\"T_77105_level0_row11\" class=\"row_heading level0 row11\" >11</th>\n",
       "      <td id=\"T_77105_row11_col0\" class=\"data row11 col0\" >Name the movie in which the daughter of Noel Harrison plays Violet Trefusis.</td>\n",
       "      <td id=\"T_77105_row11_col1\" class=\"data row11 col1\" >['Portrait of a Marriage']</td>\n",
       "      <td id=\"T_77105_row11_col2\" class=\"data row11 col2\" >Portrait of a Marriage</td>\n",
       "      <td id=\"T_77105_row11_col3\" class=\"data row11 col3\" >✔️</td>\n",
       "    </tr>\n",
       "    <tr>\n",
       "      <th id=\"T_77105_level0_row12\" class=\"row_heading level0 row12\" >12</th>\n",
       "      <td id=\"T_77105_row12_col0\" class=\"data row12 col0\" >What year was the father of the Princes in the Tower born?</td>\n",
       "      <td id=\"T_77105_row12_col1\" class=\"data row12 col1\" >['1442']</td>\n",
       "      <td id=\"T_77105_row12_col2\" class=\"data row12 col2\" >The birth year of Edward IV is not provided in the given context.</td>\n",
       "      <td id=\"T_77105_row12_col3\" class=\"data row12 col3\" >❌</td>\n",
       "    </tr>\n",
       "  </tbody>\n",
       "</table>\n"
      ],
      "text/plain": [
       "<pandas.io.formats.style.Styler at 0x12657ca90>"
      ]
     },
     "metadata": {},
     "output_type": "display_data"
    },
    {
     "data": {
      "text/plain": [
       "38.5"
      ]
     },
     "execution_count": 72,
     "metadata": {},
     "output_type": "execute_result"
    }
   ],
   "source": [
    "evaluate(multihop_QA_v2, dev)"
   ]
  },
  {
   "attachments": {},
   "cell_type": "markdown",
   "id": "bf8fecfc",
   "metadata": {},
   "source": [
    "# Program 5 with Davinci: Multi-Hop Condensed Retrieval w/ Automatic Demos and Query Fusion"
   ]
  },
  {
   "cell_type": "code",
   "execution_count": 96,
   "id": "b8f32891",
   "metadata": {},
   "outputs": [],
   "source": [
    "@dsp.transformation\n",
    "def multihop_attempt(d: dsp.Example) -> dsp.Example:\n",
    "    # Prepare unaugmented demonstrations for the example.\n",
    "    x = dsp.Example(question=d.question, demos=dsp.all_but(train, d))\n",
    "    \n",
    "    # Search. And skip examples where search fails.\n",
    "    # Annotate demonstrations for multihop_search_v2 with the simpler multihop_search_v1 pipeline.\n",
    "    x = multihop_search_v1(x)\n",
    "    if not dsp.passage_match(x.context, d.answer): return None\n",
    "    \n",
    "    # Predict. And skip examples where predict fails.\n",
    "    x = QA_predict(x, sc=False)\n",
    "    if not dsp.answer_match(x.answer, d.answer): return None\n",
    "    \n",
    "    return d.copy(**x)\n",
    "\n",
    "@dsp.transformation\n",
    "def multihop_demonstrate(x: dsp.Example) -> dsp.Example:\n",
    "    demos = dsp.sample(train, k=7)\n",
    "    x.demos = dsp.annotate(multihop_attempt)(demos, k=3, return_all=True)\n",
    "    return x"
   ]
  },
  {
   "cell_type": "code",
   "execution_count": 97,
   "id": "e14fd519",
   "metadata": {},
   "outputs": [],
   "source": [
    "@dsp.transformation\n",
    "def multihop_search_v3(example: dsp.Example, max_hops=2, k=5) -> dsp.Example:\n",
    "    example.context = []\n",
    "\n",
    "    for hop in range(max_hops):\n",
    "        # Generate queries\n",
    "        template = rewrite_template if hop == 0 else hop_template\n",
    "        example, completions = dsp.generate(template, n=10, temperature=0.7)(example, stage=f'h{hop}')\n",
    "        \n",
    "        # Collect the queries and search with result fusion\n",
    "        queries = [c.query for c in completions] + [example.question]\n",
    "        example.context = dsp.retrieveEnsemble(queries, k=k)\n",
    "\n",
    "        # Arrange the passages for the next hop\n",
    "        if hop > 0:\n",
    "            example.context = [completions[0].rationale] + example.context\n",
    "    \n",
    "    return example\n",
    "\n",
    "def multihop_QA_v3(question: str) -> str:\n",
    "    x = dsp.Example(question=question)\n",
    "    with dsp.settings.context(lm=davinci):\n",
    "        x = multihop_demonstrate(x)\n",
    "    x = multihop_search_v3(x)\n",
    "    x = QA_predict(x)\n",
    "    return x.answer"
   ]
  },
  {
   "attachments": {},
   "cell_type": "markdown",
   "id": "a4bdacb2",
   "metadata": {},
   "source": [
    "## Basic Adapter"
   ]
  },
  {
   "cell_type": "code",
   "execution_count": 98,
   "id": "d2eab998",
   "metadata": {},
   "outputs": [
    {
     "name": "stdout",
     "output_type": "stream",
     "text": [
      "{'temperature': 0.0, 'max_tokens': 150, 'top_p': 1, 'frequency_penalty': 0, 'presence_penalty': 0, 'n': 1, 'model': 'text-davinci-002', 'prompt': \"Write a search query that will help answer a complex question.\\n\\n---\\n\\nFollow the following format.\\n\\nQuestion: ${the question to be answered}\\nRationale: Let's think step by step. To answer this question, we first need to find out ${the missing information}\\nSearch Query: ${a simple question for seeking the missing information}\\n\\n---\\n\\nQuestion: Which award did the first book of Gary Zukav receive?\\nRationale: Let's think step by step. To answer this question, we first need to find out\"}\n"
     ]
    },
    {
     "ename": "ConnectTimeout",
     "evalue": "HTTPConnectionPool(host='ec2-44-228-128-229.us-west-2.compute.amazonaws.com', port=8893): Max retries exceeded with url: /api/search?query=%22What+is+the+name+of+Gary+Zukav%27s+first+book%3F%22&k=2 (Caused by ConnectTimeoutError(<urllib3.connection.HTTPConnection object at 0x126df8dd0>, 'Connection to ec2-44-228-128-229.us-west-2.compute.amazonaws.com timed out. (connect timeout=10)'))",
     "output_type": "error",
     "traceback": [
      "\u001b[0;31m---------------------------------------------------------------------------\u001b[0m",
      "\u001b[0;31mTimeoutError\u001b[0m                              Traceback (most recent call last)",
      "File \u001b[0;32m~/.pyenv/versions/dsp-env/lib/python3.11/site-packages/urllib3/connection.py:200\u001b[0m, in \u001b[0;36mHTTPConnection._new_conn\u001b[0;34m(self)\u001b[0m\n\u001b[1;32m    199\u001b[0m \u001b[39mtry\u001b[39;00m:\n\u001b[0;32m--> 200\u001b[0m     sock \u001b[39m=\u001b[39m connection\u001b[39m.\u001b[39;49mcreate_connection(\n\u001b[1;32m    201\u001b[0m         (\u001b[39mself\u001b[39;49m\u001b[39m.\u001b[39;49m_dns_host, \u001b[39mself\u001b[39;49m\u001b[39m.\u001b[39;49mport),\n\u001b[1;32m    202\u001b[0m         \u001b[39mself\u001b[39;49m\u001b[39m.\u001b[39;49mtimeout,\n\u001b[1;32m    203\u001b[0m         source_address\u001b[39m=\u001b[39;49m\u001b[39mself\u001b[39;49m\u001b[39m.\u001b[39;49msource_address,\n\u001b[1;32m    204\u001b[0m         socket_options\u001b[39m=\u001b[39;49m\u001b[39mself\u001b[39;49m\u001b[39m.\u001b[39;49msocket_options,\n\u001b[1;32m    205\u001b[0m     )\n\u001b[1;32m    206\u001b[0m \u001b[39mexcept\u001b[39;00m socket\u001b[39m.\u001b[39mgaierror \u001b[39mas\u001b[39;00m e:\n",
      "File \u001b[0;32m~/.pyenv/versions/dsp-env/lib/python3.11/site-packages/urllib3/util/connection.py:85\u001b[0m, in \u001b[0;36mcreate_connection\u001b[0;34m(address, timeout, source_address, socket_options)\u001b[0m\n\u001b[1;32m     84\u001b[0m \u001b[39mtry\u001b[39;00m:\n\u001b[0;32m---> 85\u001b[0m     \u001b[39mraise\u001b[39;00m err\n\u001b[1;32m     86\u001b[0m \u001b[39mfinally\u001b[39;00m:\n\u001b[1;32m     87\u001b[0m     \u001b[39m# Break explicitly a reference cycle\u001b[39;00m\n",
      "File \u001b[0;32m~/.pyenv/versions/dsp-env/lib/python3.11/site-packages/urllib3/util/connection.py:73\u001b[0m, in \u001b[0;36mcreate_connection\u001b[0;34m(address, timeout, source_address, socket_options)\u001b[0m\n\u001b[1;32m     72\u001b[0m     sock\u001b[39m.\u001b[39mbind(source_address)\n\u001b[0;32m---> 73\u001b[0m sock\u001b[39m.\u001b[39;49mconnect(sa)\n\u001b[1;32m     74\u001b[0m \u001b[39m# Break explicitly a reference cycle\u001b[39;00m\n",
      "\u001b[0;31mTimeoutError\u001b[0m: timed out",
      "\nThe above exception was the direct cause of the following exception:\n",
      "\u001b[0;31mConnectTimeoutError\u001b[0m                       Traceback (most recent call last)",
      "File \u001b[0;32m~/.pyenv/versions/dsp-env/lib/python3.11/site-packages/urllib3/connectionpool.py:790\u001b[0m, in \u001b[0;36mHTTPConnectionPool.urlopen\u001b[0;34m(self, method, url, body, headers, retries, redirect, assert_same_host, timeout, pool_timeout, release_conn, chunked, body_pos, preload_content, decode_content, **response_kw)\u001b[0m\n\u001b[1;32m    789\u001b[0m \u001b[39m# Make the request on the HTTPConnection object\u001b[39;00m\n\u001b[0;32m--> 790\u001b[0m response \u001b[39m=\u001b[39m \u001b[39mself\u001b[39;49m\u001b[39m.\u001b[39;49m_make_request(\n\u001b[1;32m    791\u001b[0m     conn,\n\u001b[1;32m    792\u001b[0m     method,\n\u001b[1;32m    793\u001b[0m     url,\n\u001b[1;32m    794\u001b[0m     timeout\u001b[39m=\u001b[39;49mtimeout_obj,\n\u001b[1;32m    795\u001b[0m     body\u001b[39m=\u001b[39;49mbody,\n\u001b[1;32m    796\u001b[0m     headers\u001b[39m=\u001b[39;49mheaders,\n\u001b[1;32m    797\u001b[0m     chunked\u001b[39m=\u001b[39;49mchunked,\n\u001b[1;32m    798\u001b[0m     retries\u001b[39m=\u001b[39;49mretries,\n\u001b[1;32m    799\u001b[0m     response_conn\u001b[39m=\u001b[39;49mresponse_conn,\n\u001b[1;32m    800\u001b[0m     preload_content\u001b[39m=\u001b[39;49mpreload_content,\n\u001b[1;32m    801\u001b[0m     decode_content\u001b[39m=\u001b[39;49mdecode_content,\n\u001b[1;32m    802\u001b[0m     \u001b[39m*\u001b[39;49m\u001b[39m*\u001b[39;49mresponse_kw,\n\u001b[1;32m    803\u001b[0m )\n\u001b[1;32m    805\u001b[0m \u001b[39m# Everything went great!\u001b[39;00m\n",
      "File \u001b[0;32m~/.pyenv/versions/dsp-env/lib/python3.11/site-packages/urllib3/connectionpool.py:496\u001b[0m, in \u001b[0;36mHTTPConnectionPool._make_request\u001b[0;34m(self, conn, method, url, body, headers, retries, timeout, chunked, response_conn, preload_content, decode_content, enforce_content_length)\u001b[0m\n\u001b[1;32m    495\u001b[0m \u001b[39mtry\u001b[39;00m:\n\u001b[0;32m--> 496\u001b[0m     conn\u001b[39m.\u001b[39;49mrequest(\n\u001b[1;32m    497\u001b[0m         method,\n\u001b[1;32m    498\u001b[0m         url,\n\u001b[1;32m    499\u001b[0m         body\u001b[39m=\u001b[39;49mbody,\n\u001b[1;32m    500\u001b[0m         headers\u001b[39m=\u001b[39;49mheaders,\n\u001b[1;32m    501\u001b[0m         chunked\u001b[39m=\u001b[39;49mchunked,\n\u001b[1;32m    502\u001b[0m         preload_content\u001b[39m=\u001b[39;49mpreload_content,\n\u001b[1;32m    503\u001b[0m         decode_content\u001b[39m=\u001b[39;49mdecode_content,\n\u001b[1;32m    504\u001b[0m         enforce_content_length\u001b[39m=\u001b[39;49menforce_content_length,\n\u001b[1;32m    505\u001b[0m     )\n\u001b[1;32m    507\u001b[0m \u001b[39m# We are swallowing BrokenPipeError (errno.EPIPE) since the server is\u001b[39;00m\n\u001b[1;32m    508\u001b[0m \u001b[39m# legitimately able to close the connection after sending a valid response.\u001b[39;00m\n\u001b[1;32m    509\u001b[0m \u001b[39m# With this behaviour, the received response is still readable.\u001b[39;00m\n",
      "File \u001b[0;32m~/.pyenv/versions/dsp-env/lib/python3.11/site-packages/urllib3/connection.py:388\u001b[0m, in \u001b[0;36mHTTPConnection.request\u001b[0;34m(self, method, url, body, headers, chunked, preload_content, decode_content, enforce_content_length)\u001b[0m\n\u001b[1;32m    387\u001b[0m     \u001b[39mself\u001b[39m\u001b[39m.\u001b[39mputheader(header, value)\n\u001b[0;32m--> 388\u001b[0m \u001b[39mself\u001b[39;49m\u001b[39m.\u001b[39;49mendheaders()\n\u001b[1;32m    390\u001b[0m \u001b[39m# If we're given a body we start sending that in chunks.\u001b[39;00m\n",
      "File \u001b[0;32m/usr/local/Cellar/python@3.11/3.11.2_1/Frameworks/Python.framework/Versions/3.11/lib/python3.11/http/client.py:1277\u001b[0m, in \u001b[0;36mHTTPConnection.endheaders\u001b[0;34m(self, message_body, encode_chunked)\u001b[0m\n\u001b[1;32m   1276\u001b[0m     \u001b[39mraise\u001b[39;00m CannotSendHeader()\n\u001b[0;32m-> 1277\u001b[0m \u001b[39mself\u001b[39;49m\u001b[39m.\u001b[39;49m_send_output(message_body, encode_chunked\u001b[39m=\u001b[39;49mencode_chunked)\n",
      "File \u001b[0;32m/usr/local/Cellar/python@3.11/3.11.2_1/Frameworks/Python.framework/Versions/3.11/lib/python3.11/http/client.py:1037\u001b[0m, in \u001b[0;36mHTTPConnection._send_output\u001b[0;34m(self, message_body, encode_chunked)\u001b[0m\n\u001b[1;32m   1036\u001b[0m \u001b[39mdel\u001b[39;00m \u001b[39mself\u001b[39m\u001b[39m.\u001b[39m_buffer[:]\n\u001b[0;32m-> 1037\u001b[0m \u001b[39mself\u001b[39;49m\u001b[39m.\u001b[39;49msend(msg)\n\u001b[1;32m   1039\u001b[0m \u001b[39mif\u001b[39;00m message_body \u001b[39mis\u001b[39;00m \u001b[39mnot\u001b[39;00m \u001b[39mNone\u001b[39;00m:\n\u001b[1;32m   1040\u001b[0m \n\u001b[1;32m   1041\u001b[0m     \u001b[39m# create a consistent interface to message_body\u001b[39;00m\n",
      "File \u001b[0;32m/usr/local/Cellar/python@3.11/3.11.2_1/Frameworks/Python.framework/Versions/3.11/lib/python3.11/http/client.py:975\u001b[0m, in \u001b[0;36mHTTPConnection.send\u001b[0;34m(self, data)\u001b[0m\n\u001b[1;32m    974\u001b[0m \u001b[39mif\u001b[39;00m \u001b[39mself\u001b[39m\u001b[39m.\u001b[39mauto_open:\n\u001b[0;32m--> 975\u001b[0m     \u001b[39mself\u001b[39;49m\u001b[39m.\u001b[39;49mconnect()\n\u001b[1;32m    976\u001b[0m \u001b[39melse\u001b[39;00m:\n",
      "File \u001b[0;32m~/.pyenv/versions/dsp-env/lib/python3.11/site-packages/urllib3/connection.py:236\u001b[0m, in \u001b[0;36mHTTPConnection.connect\u001b[0;34m(self)\u001b[0m\n\u001b[1;32m    235\u001b[0m \u001b[39mdef\u001b[39;00m \u001b[39mconnect\u001b[39m(\u001b[39mself\u001b[39m) \u001b[39m-\u001b[39m\u001b[39m>\u001b[39m \u001b[39mNone\u001b[39;00m:\n\u001b[0;32m--> 236\u001b[0m     \u001b[39mself\u001b[39m\u001b[39m.\u001b[39msock \u001b[39m=\u001b[39m \u001b[39mself\u001b[39;49m\u001b[39m.\u001b[39;49m_new_conn()\n\u001b[1;32m    237\u001b[0m     \u001b[39mif\u001b[39;00m \u001b[39mself\u001b[39m\u001b[39m.\u001b[39m_tunnel_host:\n\u001b[1;32m    238\u001b[0m         \u001b[39m# If we're tunneling it means we're connected to our proxy.\u001b[39;00m\n",
      "File \u001b[0;32m~/.pyenv/versions/dsp-env/lib/python3.11/site-packages/urllib3/connection.py:209\u001b[0m, in \u001b[0;36mHTTPConnection._new_conn\u001b[0;34m(self)\u001b[0m\n\u001b[1;32m    208\u001b[0m \u001b[39mexcept\u001b[39;00m SocketTimeout \u001b[39mas\u001b[39;00m e:\n\u001b[0;32m--> 209\u001b[0m     \u001b[39mraise\u001b[39;00m ConnectTimeoutError(\n\u001b[1;32m    210\u001b[0m         \u001b[39mself\u001b[39m,\n\u001b[1;32m    211\u001b[0m         \u001b[39mf\u001b[39m\u001b[39m\"\u001b[39m\u001b[39mConnection to \u001b[39m\u001b[39m{\u001b[39;00m\u001b[39mself\u001b[39m\u001b[39m.\u001b[39mhost\u001b[39m}\u001b[39;00m\u001b[39m timed out. (connect timeout=\u001b[39m\u001b[39m{\u001b[39;00m\u001b[39mself\u001b[39m\u001b[39m.\u001b[39mtimeout\u001b[39m}\u001b[39;00m\u001b[39m)\u001b[39m\u001b[39m\"\u001b[39m,\n\u001b[1;32m    212\u001b[0m     ) \u001b[39mfrom\u001b[39;00m \u001b[39me\u001b[39;00m\n\u001b[1;32m    214\u001b[0m \u001b[39mexcept\u001b[39;00m \u001b[39mOSError\u001b[39;00m \u001b[39mas\u001b[39;00m e:\n",
      "\u001b[0;31mConnectTimeoutError\u001b[0m: (<urllib3.connection.HTTPConnection object at 0x126df8dd0>, 'Connection to ec2-44-228-128-229.us-west-2.compute.amazonaws.com timed out. (connect timeout=10)')",
      "\nThe above exception was the direct cause of the following exception:\n",
      "\u001b[0;31mMaxRetryError\u001b[0m                             Traceback (most recent call last)",
      "File \u001b[0;32m~/.pyenv/versions/dsp-env/lib/python3.11/site-packages/requests/adapters.py:486\u001b[0m, in \u001b[0;36mHTTPAdapter.send\u001b[0;34m(self, request, stream, timeout, verify, cert, proxies)\u001b[0m\n\u001b[1;32m    485\u001b[0m \u001b[39mtry\u001b[39;00m:\n\u001b[0;32m--> 486\u001b[0m     resp \u001b[39m=\u001b[39m conn\u001b[39m.\u001b[39;49murlopen(\n\u001b[1;32m    487\u001b[0m         method\u001b[39m=\u001b[39;49mrequest\u001b[39m.\u001b[39;49mmethod,\n\u001b[1;32m    488\u001b[0m         url\u001b[39m=\u001b[39;49murl,\n\u001b[1;32m    489\u001b[0m         body\u001b[39m=\u001b[39;49mrequest\u001b[39m.\u001b[39;49mbody,\n\u001b[1;32m    490\u001b[0m         headers\u001b[39m=\u001b[39;49mrequest\u001b[39m.\u001b[39;49mheaders,\n\u001b[1;32m    491\u001b[0m         redirect\u001b[39m=\u001b[39;49m\u001b[39mFalse\u001b[39;49;00m,\n\u001b[1;32m    492\u001b[0m         assert_same_host\u001b[39m=\u001b[39;49m\u001b[39mFalse\u001b[39;49;00m,\n\u001b[1;32m    493\u001b[0m         preload_content\u001b[39m=\u001b[39;49m\u001b[39mFalse\u001b[39;49;00m,\n\u001b[1;32m    494\u001b[0m         decode_content\u001b[39m=\u001b[39;49m\u001b[39mFalse\u001b[39;49;00m,\n\u001b[1;32m    495\u001b[0m         retries\u001b[39m=\u001b[39;49m\u001b[39mself\u001b[39;49m\u001b[39m.\u001b[39;49mmax_retries,\n\u001b[1;32m    496\u001b[0m         timeout\u001b[39m=\u001b[39;49mtimeout,\n\u001b[1;32m    497\u001b[0m         chunked\u001b[39m=\u001b[39;49mchunked,\n\u001b[1;32m    498\u001b[0m     )\n\u001b[1;32m    500\u001b[0m \u001b[39mexcept\u001b[39;00m (ProtocolError, \u001b[39mOSError\u001b[39;00m) \u001b[39mas\u001b[39;00m err:\n",
      "File \u001b[0;32m~/.pyenv/versions/dsp-env/lib/python3.11/site-packages/urllib3/connectionpool.py:844\u001b[0m, in \u001b[0;36mHTTPConnectionPool.urlopen\u001b[0;34m(self, method, url, body, headers, retries, redirect, assert_same_host, timeout, pool_timeout, release_conn, chunked, body_pos, preload_content, decode_content, **response_kw)\u001b[0m\n\u001b[1;32m    842\u001b[0m     new_e \u001b[39m=\u001b[39m ProtocolError(\u001b[39m\"\u001b[39m\u001b[39mConnection aborted.\u001b[39m\u001b[39m\"\u001b[39m, new_e)\n\u001b[0;32m--> 844\u001b[0m retries \u001b[39m=\u001b[39m retries\u001b[39m.\u001b[39;49mincrement(\n\u001b[1;32m    845\u001b[0m     method, url, error\u001b[39m=\u001b[39;49mnew_e, _pool\u001b[39m=\u001b[39;49m\u001b[39mself\u001b[39;49m, _stacktrace\u001b[39m=\u001b[39;49msys\u001b[39m.\u001b[39;49mexc_info()[\u001b[39m2\u001b[39;49m]\n\u001b[1;32m    846\u001b[0m )\n\u001b[1;32m    847\u001b[0m retries\u001b[39m.\u001b[39msleep()\n",
      "File \u001b[0;32m~/.pyenv/versions/dsp-env/lib/python3.11/site-packages/urllib3/util/retry.py:515\u001b[0m, in \u001b[0;36mRetry.increment\u001b[0;34m(self, method, url, response, error, _pool, _stacktrace)\u001b[0m\n\u001b[1;32m    514\u001b[0m     reason \u001b[39m=\u001b[39m error \u001b[39mor\u001b[39;00m ResponseError(cause)\n\u001b[0;32m--> 515\u001b[0m     \u001b[39mraise\u001b[39;00m MaxRetryError(_pool, url, reason) \u001b[39mfrom\u001b[39;00m \u001b[39mreason\u001b[39;00m  \u001b[39m# type: ignore[arg-type]\u001b[39;00m\n\u001b[1;32m    517\u001b[0m log\u001b[39m.\u001b[39mdebug(\u001b[39m\"\u001b[39m\u001b[39mIncremented Retry for (url=\u001b[39m\u001b[39m'\u001b[39m\u001b[39m%s\u001b[39;00m\u001b[39m'\u001b[39m\u001b[39m): \u001b[39m\u001b[39m%r\u001b[39;00m\u001b[39m\"\u001b[39m, url, new_retry)\n",
      "\u001b[0;31mMaxRetryError\u001b[0m: HTTPConnectionPool(host='ec2-44-228-128-229.us-west-2.compute.amazonaws.com', port=8893): Max retries exceeded with url: /api/search?query=%22What+is+the+name+of+Gary+Zukav%27s+first+book%3F%22&k=2 (Caused by ConnectTimeoutError(<urllib3.connection.HTTPConnection object at 0x126df8dd0>, 'Connection to ec2-44-228-128-229.us-west-2.compute.amazonaws.com timed out. (connect timeout=10)'))",
      "\nDuring handling of the above exception, another exception occurred:\n",
      "\u001b[0;31mConnectTimeout\u001b[0m                            Traceback (most recent call last)",
      "Cell \u001b[0;32mIn[98], line 2\u001b[0m\n\u001b[1;32m      1\u001b[0m dsp\u001b[39m.\u001b[39msettings\u001b[39m.\u001b[39mconfigure(lm\u001b[39m=\u001b[39mdavinci, rm\u001b[39m=\u001b[39mrm, adapter\u001b[39m=\u001b[39mBasicAdapter())\n\u001b[0;32m----> 2\u001b[0m multihop_QA_v3(dev[\u001b[39m1\u001b[39;49m]\u001b[39m.\u001b[39;49mquestion), davinci\u001b[39m.\u001b[39minspect_history(n\u001b[39m=\u001b[39m\u001b[39m1\u001b[39m)\n",
      "Cell \u001b[0;32mIn[97], line 23\u001b[0m, in \u001b[0;36mmultihop_QA_v3\u001b[0;34m(question)\u001b[0m\n\u001b[1;32m     21\u001b[0m x \u001b[39m=\u001b[39m dsp\u001b[39m.\u001b[39mExample(question\u001b[39m=\u001b[39mquestion)\n\u001b[1;32m     22\u001b[0m \u001b[39mwith\u001b[39;00m dsp\u001b[39m.\u001b[39msettings\u001b[39m.\u001b[39mcontext(lm\u001b[39m=\u001b[39mdavinci):\n\u001b[0;32m---> 23\u001b[0m     x \u001b[39m=\u001b[39m multihop_demonstrate(x)\n\u001b[1;32m     24\u001b[0m x \u001b[39m=\u001b[39m multihop_search_v3(x)\n\u001b[1;32m     25\u001b[0m x \u001b[39m=\u001b[39m QA_predict(x)\n",
      "File \u001b[0;32m~/programming/dsp/dsp/primitives/primitives.py:19\u001b[0m, in \u001b[0;36mshallow_copy_example_args.<locals>.wrapper\u001b[0;34m(*args, **kwargs)\u001b[0m\n\u001b[1;32m     17\u001b[0m args \u001b[39m=\u001b[39m [dsp\u001b[39m.\u001b[39mExample(arg) \u001b[39mif\u001b[39;00m \u001b[39misinstance\u001b[39m(arg, dsp\u001b[39m.\u001b[39mExample) \u001b[39melse\u001b[39;00m arg \u001b[39mfor\u001b[39;00m arg \u001b[39min\u001b[39;00m args]\n\u001b[1;32m     18\u001b[0m kwargs \u001b[39m=\u001b[39m {key: dsp\u001b[39m.\u001b[39mExample(value) \u001b[39mif\u001b[39;00m \u001b[39misinstance\u001b[39m(value, dsp\u001b[39m.\u001b[39mExample) \u001b[39melse\u001b[39;00m value \u001b[39mfor\u001b[39;00m key, value \u001b[39min\u001b[39;00m kwargs\u001b[39m.\u001b[39mitems()}\n\u001b[0;32m---> 19\u001b[0m \u001b[39mreturn\u001b[39;00m func(\u001b[39m*\u001b[39;49margs, \u001b[39m*\u001b[39;49m\u001b[39m*\u001b[39;49mkwargs)\n",
      "Cell \u001b[0;32mIn[96], line 20\u001b[0m, in \u001b[0;36mmultihop_demonstrate\u001b[0;34m(x)\u001b[0m\n\u001b[1;32m     17\u001b[0m \u001b[39m@dsp\u001b[39m\u001b[39m.\u001b[39mtransformation\n\u001b[1;32m     18\u001b[0m \u001b[39mdef\u001b[39;00m \u001b[39mmultihop_demonstrate\u001b[39m(x: dsp\u001b[39m.\u001b[39mExample) \u001b[39m-\u001b[39m\u001b[39m>\u001b[39m dsp\u001b[39m.\u001b[39mExample:\n\u001b[1;32m     19\u001b[0m     demos \u001b[39m=\u001b[39m dsp\u001b[39m.\u001b[39msample(train, k\u001b[39m=\u001b[39m\u001b[39m7\u001b[39m)\n\u001b[0;32m---> 20\u001b[0m     x\u001b[39m.\u001b[39mdemos \u001b[39m=\u001b[39m dsp\u001b[39m.\u001b[39;49mannotate(multihop_attempt)(demos, k\u001b[39m=\u001b[39;49m\u001b[39m3\u001b[39;49m, return_all\u001b[39m=\u001b[39;49m\u001b[39mTrue\u001b[39;49;00m)\n\u001b[1;32m     21\u001b[0m     \u001b[39mreturn\u001b[39;00m x\n",
      "File \u001b[0;32m~/programming/dsp/dsp/primitives/demonstrate.py:65\u001b[0m, in \u001b[0;36mannotate.<locals>.do_augment\u001b[0;34m(train, k, return_all)\u001b[0m\n\u001b[1;32m     62\u001b[0m     \u001b[39mif\u001b[39;00m example \u001b[39mis\u001b[39;00m \u001b[39mNone\u001b[39;00m:\n\u001b[1;32m     63\u001b[0m         \u001b[39mbreak\u001b[39;00m\n\u001b[0;32m---> 65\u001b[0m     example \u001b[39m=\u001b[39m f(example)\n\u001b[1;32m     67\u001b[0m \u001b[39mif\u001b[39;00m example \u001b[39mis\u001b[39;00m \u001b[39mnot\u001b[39;00m \u001b[39mNone\u001b[39;00m:\n\u001b[1;32m     68\u001b[0m     example\u001b[39m.\u001b[39maugmented \u001b[39m=\u001b[39m \u001b[39mTrue\u001b[39;00m\n",
      "File \u001b[0;32m~/programming/dsp/dsp/primitives/primitives.py:19\u001b[0m, in \u001b[0;36mshallow_copy_example_args.<locals>.wrapper\u001b[0;34m(*args, **kwargs)\u001b[0m\n\u001b[1;32m     17\u001b[0m args \u001b[39m=\u001b[39m [dsp\u001b[39m.\u001b[39mExample(arg) \u001b[39mif\u001b[39;00m \u001b[39misinstance\u001b[39m(arg, dsp\u001b[39m.\u001b[39mExample) \u001b[39melse\u001b[39;00m arg \u001b[39mfor\u001b[39;00m arg \u001b[39min\u001b[39;00m args]\n\u001b[1;32m     18\u001b[0m kwargs \u001b[39m=\u001b[39m {key: dsp\u001b[39m.\u001b[39mExample(value) \u001b[39mif\u001b[39;00m \u001b[39misinstance\u001b[39m(value, dsp\u001b[39m.\u001b[39mExample) \u001b[39melse\u001b[39;00m value \u001b[39mfor\u001b[39;00m key, value \u001b[39min\u001b[39;00m kwargs\u001b[39m.\u001b[39mitems()}\n\u001b[0;32m---> 19\u001b[0m \u001b[39mreturn\u001b[39;00m func(\u001b[39m*\u001b[39;49margs, \u001b[39m*\u001b[39;49m\u001b[39m*\u001b[39;49mkwargs)\n",
      "Cell \u001b[0;32mIn[96], line 8\u001b[0m, in \u001b[0;36mmultihop_attempt\u001b[0;34m(d)\u001b[0m\n\u001b[1;32m      4\u001b[0m x \u001b[39m=\u001b[39m dsp\u001b[39m.\u001b[39mExample(question\u001b[39m=\u001b[39md\u001b[39m.\u001b[39mquestion, demos\u001b[39m=\u001b[39mdsp\u001b[39m.\u001b[39mall_but(train, d))\n\u001b[1;32m      6\u001b[0m \u001b[39m# Search. And skip examples where search fails.\u001b[39;00m\n\u001b[1;32m      7\u001b[0m \u001b[39m# Annotate demonstrations for multihop_search_v2 with the simpler multihop_search_v1 pipeline.\u001b[39;00m\n\u001b[0;32m----> 8\u001b[0m x \u001b[39m=\u001b[39m multihop_search_v1(x)\n\u001b[1;32m      9\u001b[0m \u001b[39mif\u001b[39;00m \u001b[39mnot\u001b[39;00m dsp\u001b[39m.\u001b[39mpassage_match(x\u001b[39m.\u001b[39mcontext, d\u001b[39m.\u001b[39manswer): \u001b[39mreturn\u001b[39;00m \u001b[39mNone\u001b[39;00m\n\u001b[1;32m     11\u001b[0m \u001b[39m# Predict. And skip examples where predict fails.\u001b[39;00m\n",
      "File \u001b[0;32m~/programming/dsp/dsp/primitives/primitives.py:19\u001b[0m, in \u001b[0;36mshallow_copy_example_args.<locals>.wrapper\u001b[0;34m(*args, **kwargs)\u001b[0m\n\u001b[1;32m     17\u001b[0m args \u001b[39m=\u001b[39m [dsp\u001b[39m.\u001b[39mExample(arg) \u001b[39mif\u001b[39;00m \u001b[39misinstance\u001b[39m(arg, dsp\u001b[39m.\u001b[39mExample) \u001b[39melse\u001b[39;00m arg \u001b[39mfor\u001b[39;00m arg \u001b[39min\u001b[39;00m args]\n\u001b[1;32m     18\u001b[0m kwargs \u001b[39m=\u001b[39m {key: dsp\u001b[39m.\u001b[39mExample(value) \u001b[39mif\u001b[39;00m \u001b[39misinstance\u001b[39m(value, dsp\u001b[39m.\u001b[39mExample) \u001b[39melse\u001b[39;00m value \u001b[39mfor\u001b[39;00m key, value \u001b[39min\u001b[39;00m kwargs\u001b[39m.\u001b[39mitems()}\n\u001b[0;32m---> 19\u001b[0m \u001b[39mreturn\u001b[39;00m func(\u001b[39m*\u001b[39;49margs, \u001b[39m*\u001b[39;49m\u001b[39m*\u001b[39;49mkwargs)\n",
      "Cell \u001b[0;32mIn[87], line 13\u001b[0m, in \u001b[0;36mmultihop_search_v1\u001b[0;34m(example, max_hops, k)\u001b[0m\n\u001b[1;32m     10\u001b[0m example, completions \u001b[39m=\u001b[39m dsp\u001b[39m.\u001b[39mgenerate(template)(example, stage\u001b[39m=\u001b[39m\u001b[39mf\u001b[39m\u001b[39m'\u001b[39m\u001b[39mh\u001b[39m\u001b[39m{\u001b[39;00mhop\u001b[39m}\u001b[39;00m\u001b[39m'\u001b[39m)\n\u001b[1;32m     12\u001b[0m \u001b[39m# Retrieve k results based on the query generated\u001b[39;00m\n\u001b[0;32m---> 13\u001b[0m passages \u001b[39m=\u001b[39m dsp\u001b[39m.\u001b[39;49mretrieve(completions\u001b[39m.\u001b[39;49mquery, k\u001b[39m=\u001b[39;49mk)\n\u001b[1;32m     15\u001b[0m \u001b[39m# Update the context by concatenating old and new passages\u001b[39;00m\n\u001b[1;32m     16\u001b[0m example\u001b[39m.\u001b[39mcontext \u001b[39m=\u001b[39m deduplicate(example\u001b[39m.\u001b[39mcontext \u001b[39m+\u001b[39m passages)\n",
      "File \u001b[0;32m~/programming/dsp/dsp/primitives/search.py:9\u001b[0m, in \u001b[0;36mretrieve\u001b[0;34m(query, k)\u001b[0m\n\u001b[1;32m      7\u001b[0m \u001b[39mif\u001b[39;00m \u001b[39mnot\u001b[39;00m dsp\u001b[39m.\u001b[39msettings\u001b[39m.\u001b[39mrm:\n\u001b[1;32m      8\u001b[0m     \u001b[39mraise\u001b[39;00m \u001b[39mAssertionError\u001b[39;00m(\u001b[39m\"\u001b[39m\u001b[39mNo RM is loaded.\u001b[39m\u001b[39m\"\u001b[39m)\n\u001b[0;32m----> 9\u001b[0m passages \u001b[39m=\u001b[39m dsp\u001b[39m.\u001b[39;49msettings\u001b[39m.\u001b[39;49mrm(query, k\u001b[39m=\u001b[39;49mk)\n\u001b[1;32m     10\u001b[0m passages \u001b[39m=\u001b[39m [psg\u001b[39m.\u001b[39mlong_text \u001b[39mfor\u001b[39;00m psg \u001b[39min\u001b[39;00m passages]\n\u001b[1;32m     12\u001b[0m \u001b[39mif\u001b[39;00m dsp\u001b[39m.\u001b[39msettings\u001b[39m.\u001b[39mreranker:\n",
      "File \u001b[0;32m~/programming/dsp/dsp/modules/colbertv2.py:30\u001b[0m, in \u001b[0;36mColBERTv2.__call__\u001b[0;34m(self, query, k, simplify)\u001b[0m\n\u001b[1;32m     28\u001b[0m     topk: \u001b[39mlist\u001b[39m[\u001b[39mdict\u001b[39m[\u001b[39mstr\u001b[39m, Any]] \u001b[39m=\u001b[39m colbertv2_post_request(\u001b[39mself\u001b[39m\u001b[39m.\u001b[39murl, query, k)\n\u001b[1;32m     29\u001b[0m \u001b[39melse\u001b[39;00m:\n\u001b[0;32m---> 30\u001b[0m     topk: \u001b[39mlist\u001b[39m[\u001b[39mdict\u001b[39m[\u001b[39mstr\u001b[39m, Any]] \u001b[39m=\u001b[39m colbertv2_get_request(\u001b[39mself\u001b[39;49m\u001b[39m.\u001b[39;49murl, query, k)\n\u001b[1;32m     32\u001b[0m \u001b[39mif\u001b[39;00m simplify:\n\u001b[1;32m     33\u001b[0m     \u001b[39mreturn\u001b[39;00m [psg[\u001b[39m\"\u001b[39m\u001b[39mlong_text\u001b[39m\u001b[39m\"\u001b[39m] \u001b[39mfor\u001b[39;00m psg \u001b[39min\u001b[39;00m topk]\n",
      "File \u001b[0;32m~/programming/dsp/dsp/modules/cache_utils.py:16\u001b[0m, in \u001b[0;36mnoop_decorator.<locals>.wrapper\u001b[0;34m(*args, **kwargs)\u001b[0m\n\u001b[1;32m     14\u001b[0m \u001b[39m@wraps\u001b[39m(func)\n\u001b[1;32m     15\u001b[0m \u001b[39mdef\u001b[39;00m \u001b[39mwrapper\u001b[39m(\u001b[39m*\u001b[39margs, \u001b[39m*\u001b[39m\u001b[39m*\u001b[39mkwargs):\n\u001b[0;32m---> 16\u001b[0m     \u001b[39mreturn\u001b[39;00m func(\u001b[39m*\u001b[39;49margs, \u001b[39m*\u001b[39;49m\u001b[39m*\u001b[39;49mkwargs)\n",
      "File \u001b[0;32m~/programming/dsp/dsp/modules/colbertv2.py:55\u001b[0m, in \u001b[0;36mcolbertv2_get_request_v2_wrapped\u001b[0;34m(*args, **kwargs)\u001b[0m\n\u001b[1;32m     52\u001b[0m \u001b[39m@functools\u001b[39m\u001b[39m.\u001b[39mlru_cache(maxsize\u001b[39m=\u001b[39m\u001b[39mNone\u001b[39;00m)\n\u001b[1;32m     53\u001b[0m \u001b[39m@NotebookCacheMemory\u001b[39m\u001b[39m.\u001b[39mcache\n\u001b[1;32m     54\u001b[0m \u001b[39mdef\u001b[39;00m \u001b[39mcolbertv2_get_request_v2_wrapped\u001b[39m(\u001b[39m*\u001b[39margs, \u001b[39m*\u001b[39m\u001b[39m*\u001b[39mkwargs):\n\u001b[0;32m---> 55\u001b[0m     \u001b[39mreturn\u001b[39;00m colbertv2_get_request_v2(\u001b[39m*\u001b[39;49margs, \u001b[39m*\u001b[39;49m\u001b[39m*\u001b[39;49mkwargs)\n",
      "File \u001b[0;32m~/.pyenv/versions/dsp-env/lib/python3.11/site-packages/joblib/memory.py:594\u001b[0m, in \u001b[0;36mMemorizedFunc.__call__\u001b[0;34m(self, *args, **kwargs)\u001b[0m\n\u001b[1;32m    593\u001b[0m \u001b[39mdef\u001b[39;00m \u001b[39m__call__\u001b[39m(\u001b[39mself\u001b[39m, \u001b[39m*\u001b[39margs, \u001b[39m*\u001b[39m\u001b[39m*\u001b[39mkwargs):\n\u001b[0;32m--> 594\u001b[0m     \u001b[39mreturn\u001b[39;00m \u001b[39mself\u001b[39;49m\u001b[39m.\u001b[39;49m_cached_call(args, kwargs)[\u001b[39m0\u001b[39m]\n",
      "File \u001b[0;32m~/.pyenv/versions/dsp-env/lib/python3.11/site-packages/joblib/memory.py:537\u001b[0m, in \u001b[0;36mMemorizedFunc._cached_call\u001b[0;34m(self, args, kwargs, shelving)\u001b[0m\n\u001b[1;32m    534\u001b[0m         must_call \u001b[39m=\u001b[39m \u001b[39mTrue\u001b[39;00m\n\u001b[1;32m    536\u001b[0m \u001b[39mif\u001b[39;00m must_call:\n\u001b[0;32m--> 537\u001b[0m     out, metadata \u001b[39m=\u001b[39m \u001b[39mself\u001b[39;49m\u001b[39m.\u001b[39;49mcall(\u001b[39m*\u001b[39;49margs, \u001b[39m*\u001b[39;49m\u001b[39m*\u001b[39;49mkwargs)\n\u001b[1;32m    538\u001b[0m     \u001b[39mif\u001b[39;00m \u001b[39mself\u001b[39m\u001b[39m.\u001b[39mmmap_mode \u001b[39mis\u001b[39;00m \u001b[39mnot\u001b[39;00m \u001b[39mNone\u001b[39;00m:\n\u001b[1;32m    539\u001b[0m         \u001b[39m# Memmap the output at the first call to be consistent with\u001b[39;00m\n\u001b[1;32m    540\u001b[0m         \u001b[39m# later calls\u001b[39;00m\n\u001b[1;32m    541\u001b[0m         \u001b[39mif\u001b[39;00m \u001b[39mself\u001b[39m\u001b[39m.\u001b[39m_verbose:\n",
      "File \u001b[0;32m~/.pyenv/versions/dsp-env/lib/python3.11/site-packages/joblib/memory.py:779\u001b[0m, in \u001b[0;36mMemorizedFunc.call\u001b[0;34m(self, *args, **kwargs)\u001b[0m\n\u001b[1;32m    777\u001b[0m \u001b[39mif\u001b[39;00m \u001b[39mself\u001b[39m\u001b[39m.\u001b[39m_verbose \u001b[39m>\u001b[39m \u001b[39m0\u001b[39m:\n\u001b[1;32m    778\u001b[0m     \u001b[39mprint\u001b[39m(format_call(\u001b[39mself\u001b[39m\u001b[39m.\u001b[39mfunc, args, kwargs))\n\u001b[0;32m--> 779\u001b[0m output \u001b[39m=\u001b[39m \u001b[39mself\u001b[39;49m\u001b[39m.\u001b[39;49mfunc(\u001b[39m*\u001b[39;49margs, \u001b[39m*\u001b[39;49m\u001b[39m*\u001b[39;49mkwargs)\n\u001b[1;32m    780\u001b[0m \u001b[39mself\u001b[39m\u001b[39m.\u001b[39mstore_backend\u001b[39m.\u001b[39mdump_item(\n\u001b[1;32m    781\u001b[0m     [func_id, args_id], output, verbose\u001b[39m=\u001b[39m\u001b[39mself\u001b[39m\u001b[39m.\u001b[39m_verbose)\n\u001b[1;32m    783\u001b[0m duration \u001b[39m=\u001b[39m time\u001b[39m.\u001b[39mtime() \u001b[39m-\u001b[39m start_time\n",
      "File \u001b[0;32m~/programming/dsp/dsp/modules/colbertv2.py:45\u001b[0m, in \u001b[0;36mcolbertv2_get_request_v2\u001b[0;34m(url, query, k)\u001b[0m\n\u001b[1;32m     40\u001b[0m \u001b[39massert\u001b[39;00m (\n\u001b[1;32m     41\u001b[0m     k \u001b[39m<\u001b[39m\u001b[39m=\u001b[39m \u001b[39m100\u001b[39m\n\u001b[1;32m     42\u001b[0m ), \u001b[39m\"\u001b[39m\u001b[39mOnly k <= 100 is supported for the hosted ColBERTv2 server at the moment.\u001b[39m\u001b[39m\"\u001b[39m\n\u001b[1;32m     44\u001b[0m payload \u001b[39m=\u001b[39m {\u001b[39m\"\u001b[39m\u001b[39mquery\u001b[39m\u001b[39m\"\u001b[39m: query, \u001b[39m\"\u001b[39m\u001b[39mk\u001b[39m\u001b[39m\"\u001b[39m: k}\n\u001b[0;32m---> 45\u001b[0m res \u001b[39m=\u001b[39m requests\u001b[39m.\u001b[39;49mget(url, params\u001b[39m=\u001b[39;49mpayload, timeout\u001b[39m=\u001b[39;49m\u001b[39m10\u001b[39;49m)\n\u001b[1;32m     47\u001b[0m topk \u001b[39m=\u001b[39m res\u001b[39m.\u001b[39mjson()[\u001b[39m\"\u001b[39m\u001b[39mtopk\u001b[39m\u001b[39m\"\u001b[39m][:k]\n\u001b[1;32m     48\u001b[0m topk \u001b[39m=\u001b[39m [{\u001b[39m*\u001b[39m\u001b[39m*\u001b[39md, \u001b[39m\"\u001b[39m\u001b[39mlong_text\u001b[39m\u001b[39m\"\u001b[39m: d[\u001b[39m\"\u001b[39m\u001b[39mtext\u001b[39m\u001b[39m\"\u001b[39m]} \u001b[39mfor\u001b[39;00m d \u001b[39min\u001b[39;00m topk]\n",
      "File \u001b[0;32m~/.pyenv/versions/dsp-env/lib/python3.11/site-packages/requests/api.py:73\u001b[0m, in \u001b[0;36mget\u001b[0;34m(url, params, **kwargs)\u001b[0m\n\u001b[1;32m     62\u001b[0m \u001b[39mdef\u001b[39;00m \u001b[39mget\u001b[39m(url, params\u001b[39m=\u001b[39m\u001b[39mNone\u001b[39;00m, \u001b[39m*\u001b[39m\u001b[39m*\u001b[39mkwargs):\n\u001b[1;32m     63\u001b[0m \u001b[39m    \u001b[39m\u001b[39mr\u001b[39m\u001b[39m\"\"\"Sends a GET request.\u001b[39;00m\n\u001b[1;32m     64\u001b[0m \n\u001b[1;32m     65\u001b[0m \u001b[39m    :param url: URL for the new :class:`Request` object.\u001b[39;00m\n\u001b[0;32m   (...)\u001b[0m\n\u001b[1;32m     70\u001b[0m \u001b[39m    :rtype: requests.Response\u001b[39;00m\n\u001b[1;32m     71\u001b[0m \u001b[39m    \"\"\"\u001b[39;00m\n\u001b[0;32m---> 73\u001b[0m     \u001b[39mreturn\u001b[39;00m request(\u001b[39m\"\u001b[39;49m\u001b[39mget\u001b[39;49m\u001b[39m\"\u001b[39;49m, url, params\u001b[39m=\u001b[39;49mparams, \u001b[39m*\u001b[39;49m\u001b[39m*\u001b[39;49mkwargs)\n",
      "File \u001b[0;32m~/.pyenv/versions/dsp-env/lib/python3.11/site-packages/requests/api.py:59\u001b[0m, in \u001b[0;36mrequest\u001b[0;34m(method, url, **kwargs)\u001b[0m\n\u001b[1;32m     55\u001b[0m \u001b[39m# By using the 'with' statement we are sure the session is closed, thus we\u001b[39;00m\n\u001b[1;32m     56\u001b[0m \u001b[39m# avoid leaving sockets open which can trigger a ResourceWarning in some\u001b[39;00m\n\u001b[1;32m     57\u001b[0m \u001b[39m# cases, and look like a memory leak in others.\u001b[39;00m\n\u001b[1;32m     58\u001b[0m \u001b[39mwith\u001b[39;00m sessions\u001b[39m.\u001b[39mSession() \u001b[39mas\u001b[39;00m session:\n\u001b[0;32m---> 59\u001b[0m     \u001b[39mreturn\u001b[39;00m session\u001b[39m.\u001b[39;49mrequest(method\u001b[39m=\u001b[39;49mmethod, url\u001b[39m=\u001b[39;49murl, \u001b[39m*\u001b[39;49m\u001b[39m*\u001b[39;49mkwargs)\n",
      "File \u001b[0;32m~/.pyenv/versions/dsp-env/lib/python3.11/site-packages/requests/sessions.py:589\u001b[0m, in \u001b[0;36mSession.request\u001b[0;34m(self, method, url, params, data, headers, cookies, files, auth, timeout, allow_redirects, proxies, hooks, stream, verify, cert, json)\u001b[0m\n\u001b[1;32m    584\u001b[0m send_kwargs \u001b[39m=\u001b[39m {\n\u001b[1;32m    585\u001b[0m     \u001b[39m\"\u001b[39m\u001b[39mtimeout\u001b[39m\u001b[39m\"\u001b[39m: timeout,\n\u001b[1;32m    586\u001b[0m     \u001b[39m\"\u001b[39m\u001b[39mallow_redirects\u001b[39m\u001b[39m\"\u001b[39m: allow_redirects,\n\u001b[1;32m    587\u001b[0m }\n\u001b[1;32m    588\u001b[0m send_kwargs\u001b[39m.\u001b[39mupdate(settings)\n\u001b[0;32m--> 589\u001b[0m resp \u001b[39m=\u001b[39m \u001b[39mself\u001b[39;49m\u001b[39m.\u001b[39;49msend(prep, \u001b[39m*\u001b[39;49m\u001b[39m*\u001b[39;49msend_kwargs)\n\u001b[1;32m    591\u001b[0m \u001b[39mreturn\u001b[39;00m resp\n",
      "File \u001b[0;32m~/.pyenv/versions/dsp-env/lib/python3.11/site-packages/requests/sessions.py:703\u001b[0m, in \u001b[0;36mSession.send\u001b[0;34m(self, request, **kwargs)\u001b[0m\n\u001b[1;32m    700\u001b[0m start \u001b[39m=\u001b[39m preferred_clock()\n\u001b[1;32m    702\u001b[0m \u001b[39m# Send the request\u001b[39;00m\n\u001b[0;32m--> 703\u001b[0m r \u001b[39m=\u001b[39m adapter\u001b[39m.\u001b[39;49msend(request, \u001b[39m*\u001b[39;49m\u001b[39m*\u001b[39;49mkwargs)\n\u001b[1;32m    705\u001b[0m \u001b[39m# Total elapsed time of the request (approximately)\u001b[39;00m\n\u001b[1;32m    706\u001b[0m elapsed \u001b[39m=\u001b[39m preferred_clock() \u001b[39m-\u001b[39m start\n",
      "File \u001b[0;32m~/.pyenv/versions/dsp-env/lib/python3.11/site-packages/requests/adapters.py:507\u001b[0m, in \u001b[0;36mHTTPAdapter.send\u001b[0;34m(self, request, stream, timeout, verify, cert, proxies)\u001b[0m\n\u001b[1;32m    504\u001b[0m \u001b[39mif\u001b[39;00m \u001b[39misinstance\u001b[39m(e\u001b[39m.\u001b[39mreason, ConnectTimeoutError):\n\u001b[1;32m    505\u001b[0m     \u001b[39m# TODO: Remove this in 3.0.0: see #2811\u001b[39;00m\n\u001b[1;32m    506\u001b[0m     \u001b[39mif\u001b[39;00m \u001b[39mnot\u001b[39;00m \u001b[39misinstance\u001b[39m(e\u001b[39m.\u001b[39mreason, NewConnectionError):\n\u001b[0;32m--> 507\u001b[0m         \u001b[39mraise\u001b[39;00m ConnectTimeout(e, request\u001b[39m=\u001b[39mrequest)\n\u001b[1;32m    509\u001b[0m \u001b[39mif\u001b[39;00m \u001b[39misinstance\u001b[39m(e\u001b[39m.\u001b[39mreason, ResponseError):\n\u001b[1;32m    510\u001b[0m     \u001b[39mraise\u001b[39;00m RetryError(e, request\u001b[39m=\u001b[39mrequest)\n",
      "\u001b[0;31mConnectTimeout\u001b[0m: HTTPConnectionPool(host='ec2-44-228-128-229.us-west-2.compute.amazonaws.com', port=8893): Max retries exceeded with url: /api/search?query=%22What+is+the+name+of+Gary+Zukav%27s+first+book%3F%22&k=2 (Caused by ConnectTimeoutError(<urllib3.connection.HTTPConnection object at 0x126df8dd0>, 'Connection to ec2-44-228-128-229.us-west-2.compute.amazonaws.com timed out. (connect timeout=10)'))"
     ]
    }
   ],
   "source": [
    "dsp.settings.configure(lm=davinci, rm=rm, adapter=BasicAdapter())\n",
    "multihop_QA_v3(dev[1].question), davinci.inspect_history(n=1)"
   ]
  },
  {
   "cell_type": "code",
   "execution_count": 82,
   "id": "dfeae104",
   "metadata": {},
   "outputs": [
    {
     "name": "stderr",
     "output_type": "stream",
     "text": [
      "  0%|          | 0/13 [00:00<?, ?it/s]\n"
     ]
    },
    {
     "ename": "TypeError",
     "evalue": "unhashable type: 'dict'",
     "output_type": "error",
     "traceback": [
      "\u001b[0;31m---------------------------------------------------------------------------\u001b[0m",
      "\u001b[0;31mTypeError\u001b[0m                                 Traceback (most recent call last)",
      "Cell \u001b[0;32mIn[82], line 1\u001b[0m\n\u001b[0;32m----> 1\u001b[0m evaluate(multihop_QA_v3, dev)\n",
      "File \u001b[0;32m~/programming/dsp/dsp/evaluation/utils.py:63\u001b[0m, in \u001b[0;36mevaluate\u001b[0;34m(fn, dev, metric)\u001b[0m\n\u001b[1;32m     61\u001b[0m \u001b[39mfor\u001b[39;00m example \u001b[39min\u001b[39;00m tqdm\u001b[39m.\u001b[39mtqdm(dev):\n\u001b[1;32m     62\u001b[0m     question \u001b[39m=\u001b[39m example\u001b[39m.\u001b[39mquestion\n\u001b[0;32m---> 63\u001b[0m     prediction \u001b[39m=\u001b[39m fn(question)\n\u001b[1;32m     65\u001b[0m     d \u001b[39m=\u001b[39m \u001b[39mdict\u001b[39m(example)\n\u001b[1;32m     67\u001b[0m     pred \u001b[39m=\u001b[39m prediction\u001b[39m#.answer\u001b[39;00m\n",
      "Cell \u001b[0;32mIn[80], line 23\u001b[0m, in \u001b[0;36mmultihop_QA_v3\u001b[0;34m(question)\u001b[0m\n\u001b[1;32m     21\u001b[0m x \u001b[39m=\u001b[39m dsp\u001b[39m.\u001b[39mExample(question\u001b[39m=\u001b[39mquestion)\n\u001b[1;32m     22\u001b[0m \u001b[39mwith\u001b[39;00m dsp\u001b[39m.\u001b[39msettings\u001b[39m.\u001b[39mcontext(lm\u001b[39m=\u001b[39mdavinci):\n\u001b[0;32m---> 23\u001b[0m     x \u001b[39m=\u001b[39m multihop_demonstrate(x)\n\u001b[1;32m     24\u001b[0m x \u001b[39m=\u001b[39m multihop_search_v3(x)\n\u001b[1;32m     25\u001b[0m x \u001b[39m=\u001b[39m QA_predict(x)\n",
      "File \u001b[0;32m~/programming/dsp/dsp/primitives/primitives.py:19\u001b[0m, in \u001b[0;36mshallow_copy_example_args.<locals>.wrapper\u001b[0;34m(*args, **kwargs)\u001b[0m\n\u001b[1;32m     17\u001b[0m args \u001b[39m=\u001b[39m [dsp\u001b[39m.\u001b[39mExample(arg) \u001b[39mif\u001b[39;00m \u001b[39misinstance\u001b[39m(arg, dsp\u001b[39m.\u001b[39mExample) \u001b[39melse\u001b[39;00m arg \u001b[39mfor\u001b[39;00m arg \u001b[39min\u001b[39;00m args]\n\u001b[1;32m     18\u001b[0m kwargs \u001b[39m=\u001b[39m {key: dsp\u001b[39m.\u001b[39mExample(value) \u001b[39mif\u001b[39;00m \u001b[39misinstance\u001b[39m(value, dsp\u001b[39m.\u001b[39mExample) \u001b[39melse\u001b[39;00m value \u001b[39mfor\u001b[39;00m key, value \u001b[39min\u001b[39;00m kwargs\u001b[39m.\u001b[39mitems()}\n\u001b[0;32m---> 19\u001b[0m \u001b[39mreturn\u001b[39;00m func(\u001b[39m*\u001b[39;49margs, \u001b[39m*\u001b[39;49m\u001b[39m*\u001b[39;49mkwargs)\n",
      "Cell \u001b[0;32mIn[79], line 20\u001b[0m, in \u001b[0;36mmultihop_demonstrate\u001b[0;34m(x)\u001b[0m\n\u001b[1;32m     17\u001b[0m \u001b[39m@dsp\u001b[39m\u001b[39m.\u001b[39mtransformation\n\u001b[1;32m     18\u001b[0m \u001b[39mdef\u001b[39;00m \u001b[39mmultihop_demonstrate\u001b[39m(x: dsp\u001b[39m.\u001b[39mExample) \u001b[39m-\u001b[39m\u001b[39m>\u001b[39m dsp\u001b[39m.\u001b[39mExample:\n\u001b[1;32m     19\u001b[0m     demos \u001b[39m=\u001b[39m dsp\u001b[39m.\u001b[39msample(train, k\u001b[39m=\u001b[39m\u001b[39m7\u001b[39m)\n\u001b[0;32m---> 20\u001b[0m     x\u001b[39m.\u001b[39mdemos \u001b[39m=\u001b[39m dsp\u001b[39m.\u001b[39;49mannotate(multihop_attempt)(demos, k\u001b[39m=\u001b[39;49m\u001b[39m3\u001b[39;49m, return_all\u001b[39m=\u001b[39;49m\u001b[39mTrue\u001b[39;49;00m)\n\u001b[1;32m     21\u001b[0m     \u001b[39mreturn\u001b[39;00m x\n",
      "File \u001b[0;32m~/programming/dsp/dsp/primitives/demonstrate.py:65\u001b[0m, in \u001b[0;36mannotate.<locals>.do_augment\u001b[0;34m(train, k, return_all)\u001b[0m\n\u001b[1;32m     62\u001b[0m     \u001b[39mif\u001b[39;00m example \u001b[39mis\u001b[39;00m \u001b[39mNone\u001b[39;00m:\n\u001b[1;32m     63\u001b[0m         \u001b[39mbreak\u001b[39;00m\n\u001b[0;32m---> 65\u001b[0m     example \u001b[39m=\u001b[39m f(example)\n\u001b[1;32m     67\u001b[0m \u001b[39mif\u001b[39;00m example \u001b[39mis\u001b[39;00m \u001b[39mnot\u001b[39;00m \u001b[39mNone\u001b[39;00m:\n\u001b[1;32m     68\u001b[0m     example\u001b[39m.\u001b[39maugmented \u001b[39m=\u001b[39m \u001b[39mTrue\u001b[39;00m\n",
      "File \u001b[0;32m~/programming/dsp/dsp/primitives/primitives.py:19\u001b[0m, in \u001b[0;36mshallow_copy_example_args.<locals>.wrapper\u001b[0;34m(*args, **kwargs)\u001b[0m\n\u001b[1;32m     17\u001b[0m args \u001b[39m=\u001b[39m [dsp\u001b[39m.\u001b[39mExample(arg) \u001b[39mif\u001b[39;00m \u001b[39misinstance\u001b[39m(arg, dsp\u001b[39m.\u001b[39mExample) \u001b[39melse\u001b[39;00m arg \u001b[39mfor\u001b[39;00m arg \u001b[39min\u001b[39;00m args]\n\u001b[1;32m     18\u001b[0m kwargs \u001b[39m=\u001b[39m {key: dsp\u001b[39m.\u001b[39mExample(value) \u001b[39mif\u001b[39;00m \u001b[39misinstance\u001b[39m(value, dsp\u001b[39m.\u001b[39mExample) \u001b[39melse\u001b[39;00m value \u001b[39mfor\u001b[39;00m key, value \u001b[39min\u001b[39;00m kwargs\u001b[39m.\u001b[39mitems()}\n\u001b[0;32m---> 19\u001b[0m \u001b[39mreturn\u001b[39;00m func(\u001b[39m*\u001b[39;49margs, \u001b[39m*\u001b[39;49m\u001b[39m*\u001b[39;49mkwargs)\n",
      "Cell \u001b[0;32mIn[79], line 8\u001b[0m, in \u001b[0;36mmultihop_attempt\u001b[0;34m(d)\u001b[0m\n\u001b[1;32m      4\u001b[0m x \u001b[39m=\u001b[39m dsp\u001b[39m.\u001b[39mExample(question\u001b[39m=\u001b[39md\u001b[39m.\u001b[39mquestion, demos\u001b[39m=\u001b[39mdsp\u001b[39m.\u001b[39mall_but(train, d))\n\u001b[1;32m      6\u001b[0m \u001b[39m# Search. And skip examples where search fails.\u001b[39;00m\n\u001b[1;32m      7\u001b[0m \u001b[39m# Annotate demonstrations for multihop_search_v2 with the simpler multihop_search_v1 pipeline.\u001b[39;00m\n\u001b[0;32m----> 8\u001b[0m x \u001b[39m=\u001b[39m multihop_search_v1(x)\n\u001b[1;32m      9\u001b[0m \u001b[39mif\u001b[39;00m \u001b[39mnot\u001b[39;00m dsp\u001b[39m.\u001b[39mpassage_match(x\u001b[39m.\u001b[39mcontext, d\u001b[39m.\u001b[39manswer): \u001b[39mreturn\u001b[39;00m \u001b[39mNone\u001b[39;00m\n\u001b[1;32m     11\u001b[0m \u001b[39m# Predict. And skip examples where predict fails.\u001b[39;00m\n",
      "File \u001b[0;32m~/programming/dsp/dsp/primitives/primitives.py:19\u001b[0m, in \u001b[0;36mshallow_copy_example_args.<locals>.wrapper\u001b[0;34m(*args, **kwargs)\u001b[0m\n\u001b[1;32m     17\u001b[0m args \u001b[39m=\u001b[39m [dsp\u001b[39m.\u001b[39mExample(arg) \u001b[39mif\u001b[39;00m \u001b[39misinstance\u001b[39m(arg, dsp\u001b[39m.\u001b[39mExample) \u001b[39melse\u001b[39;00m arg \u001b[39mfor\u001b[39;00m arg \u001b[39min\u001b[39;00m args]\n\u001b[1;32m     18\u001b[0m kwargs \u001b[39m=\u001b[39m {key: dsp\u001b[39m.\u001b[39mExample(value) \u001b[39mif\u001b[39;00m \u001b[39misinstance\u001b[39m(value, dsp\u001b[39m.\u001b[39mExample) \u001b[39melse\u001b[39;00m value \u001b[39mfor\u001b[39;00m key, value \u001b[39min\u001b[39;00m kwargs\u001b[39m.\u001b[39mitems()}\n\u001b[0;32m---> 19\u001b[0m \u001b[39mreturn\u001b[39;00m func(\u001b[39m*\u001b[39;49margs, \u001b[39m*\u001b[39;49m\u001b[39m*\u001b[39;49mkwargs)\n",
      "Cell \u001b[0;32mIn[53], line 10\u001b[0m, in \u001b[0;36mmultihop_search_v1\u001b[0;34m(example, max_hops, k)\u001b[0m\n\u001b[1;32m      7\u001b[0m \u001b[39mfor\u001b[39;00m hop \u001b[39min\u001b[39;00m \u001b[39mrange\u001b[39m(max_hops):\n\u001b[1;32m      8\u001b[0m     \u001b[39m# Generate a query based\u001b[39;00m\n\u001b[1;32m      9\u001b[0m     template \u001b[39m=\u001b[39m rewrite_template \u001b[39mif\u001b[39;00m hop \u001b[39m==\u001b[39m \u001b[39m0\u001b[39m \u001b[39melse\u001b[39;00m hop_template\n\u001b[0;32m---> 10\u001b[0m     example, completions \u001b[39m=\u001b[39m dsp\u001b[39m.\u001b[39;49mgenerate(template)(example, stage\u001b[39m=\u001b[39;49m\u001b[39mf\u001b[39;49m\u001b[39m'\u001b[39;49m\u001b[39mh\u001b[39;49m\u001b[39m{\u001b[39;49;00mhop\u001b[39m}\u001b[39;49;00m\u001b[39m'\u001b[39;49m)\n\u001b[1;32m     12\u001b[0m     \u001b[39m# Retrieve k results based on the query generated\u001b[39;00m\n\u001b[1;32m     13\u001b[0m     passages \u001b[39m=\u001b[39m dsp\u001b[39m.\u001b[39mretrieve(completions\u001b[39m.\u001b[39mquery, k\u001b[39m=\u001b[39mk)\n",
      "File \u001b[0;32m~/programming/dsp/dsp/primitives/predict.py:78\u001b[0m, in \u001b[0;36m_generate.<locals>.do_generate\u001b[0;34m(example, stage, max_depth, original_example)\u001b[0m\n\u001b[1;32m     76\u001b[0m \u001b[39m# Generate and extract the fields.\u001b[39;00m\n\u001b[1;32m     77\u001b[0m prompt \u001b[39m=\u001b[39m adapter(template(example))\n\u001b[0;32m---> 78\u001b[0m completions: \u001b[39mlist\u001b[39m[\u001b[39mdict\u001b[39m[\u001b[39mstr\u001b[39m, Any]] \u001b[39m=\u001b[39m generator(prompt, \u001b[39m*\u001b[39;49m\u001b[39m*\u001b[39;49mkwargs)\n\u001b[1;32m     79\u001b[0m completions: \u001b[39mlist\u001b[39m[Example] \u001b[39m=\u001b[39m [template\u001b[39m.\u001b[39mextract(example, p) \u001b[39mfor\u001b[39;00m p \u001b[39min\u001b[39;00m completions]\n\u001b[1;32m     81\u001b[0m \u001b[39m# Find the completions that are most comple\u001b[39;00m\n",
      "File \u001b[0;32m~/programming/dsp/dsp/modules/gpt3.py:321\u001b[0m, in \u001b[0;36mGPT3.__call__\u001b[0;34m(self, prompt, only_completed, return_sorted, **kwargs)\u001b[0m\n\u001b[1;32m    318\u001b[0m     \u001b[39melse\u001b[39;00m:\n\u001b[1;32m    319\u001b[0m         kwargs \u001b[39m=\u001b[39m {\u001b[39m*\u001b[39m\u001b[39m*\u001b[39mkwargs, \u001b[39m\"\u001b[39m\u001b[39mlogprobs\u001b[39m\u001b[39m\"\u001b[39m: \u001b[39m5\u001b[39m}\n\u001b[0;32m--> 321\u001b[0m response \u001b[39m=\u001b[39m \u001b[39mself\u001b[39;49m\u001b[39m.\u001b[39;49mrequest(prompt, \u001b[39m*\u001b[39;49m\u001b[39m*\u001b[39;49mkwargs)\n\u001b[1;32m    322\u001b[0m choices \u001b[39m=\u001b[39m response[\u001b[39m\"\u001b[39m\u001b[39mchoices\u001b[39m\u001b[39m\"\u001b[39m]\n\u001b[1;32m    324\u001b[0m completed_choices \u001b[39m=\u001b[39m [c \u001b[39mfor\u001b[39;00m c \u001b[39min\u001b[39;00m choices \u001b[39mif\u001b[39;00m c[\u001b[39m\"\u001b[39m\u001b[39mfinish_reason\u001b[39m\u001b[39m\"\u001b[39m] \u001b[39m!=\u001b[39m \u001b[39m\"\u001b[39m\u001b[39mlength\u001b[39m\u001b[39m\"\u001b[39m]\n",
      "File \u001b[0;32m~/.pyenv/versions/dsp-env/lib/python3.11/site-packages/backoff/_sync.py:105\u001b[0m, in \u001b[0;36mretry_exception.<locals>.retry\u001b[0;34m(*args, **kwargs)\u001b[0m\n\u001b[1;32m     96\u001b[0m details \u001b[39m=\u001b[39m {\n\u001b[1;32m     97\u001b[0m     \u001b[39m\"\u001b[39m\u001b[39mtarget\u001b[39m\u001b[39m\"\u001b[39m: target,\n\u001b[1;32m     98\u001b[0m     \u001b[39m\"\u001b[39m\u001b[39margs\u001b[39m\u001b[39m\"\u001b[39m: args,\n\u001b[0;32m   (...)\u001b[0m\n\u001b[1;32m    101\u001b[0m     \u001b[39m\"\u001b[39m\u001b[39melapsed\u001b[39m\u001b[39m\"\u001b[39m: elapsed,\n\u001b[1;32m    102\u001b[0m }\n\u001b[1;32m    104\u001b[0m \u001b[39mtry\u001b[39;00m:\n\u001b[0;32m--> 105\u001b[0m     ret \u001b[39m=\u001b[39m target(\u001b[39m*\u001b[39;49margs, \u001b[39m*\u001b[39;49m\u001b[39m*\u001b[39;49mkwargs)\n\u001b[1;32m    106\u001b[0m \u001b[39mexcept\u001b[39;00m exception \u001b[39mas\u001b[39;00m e:\n\u001b[1;32m    107\u001b[0m     max_tries_exceeded \u001b[39m=\u001b[39m (tries \u001b[39m==\u001b[39m max_tries_value)\n",
      "File \u001b[0;32m~/programming/dsp/dsp/modules/gpt3.py:287\u001b[0m, in \u001b[0;36mGPT3.request\u001b[0;34m(self, prompt, **kwargs)\u001b[0m\n\u001b[1;32m    284\u001b[0m \u001b[39mif\u001b[39;00m \u001b[39m\"\u001b[39m\u001b[39mmodel_type\u001b[39m\u001b[39m\"\u001b[39m \u001b[39min\u001b[39;00m kwargs:\n\u001b[1;32m    285\u001b[0m     \u001b[39mdel\u001b[39;00m kwargs[\u001b[39m\"\u001b[39m\u001b[39mmodel_type\u001b[39m\u001b[39m\"\u001b[39m]\n\u001b[0;32m--> 287\u001b[0m \u001b[39mreturn\u001b[39;00m \u001b[39mself\u001b[39;49m\u001b[39m.\u001b[39;49mbasic_request(prompt, \u001b[39m*\u001b[39;49m\u001b[39m*\u001b[39;49mkwargs)\n",
      "File \u001b[0;32m~/programming/dsp/dsp/modules/gpt3.py:264\u001b[0m, in \u001b[0;36mGPT3.basic_request\u001b[0;34m(self, prompt, **kwargs)\u001b[0m\n\u001b[1;32m    262\u001b[0m \u001b[39melse\u001b[39;00m:\n\u001b[1;32m    263\u001b[0m     kwargs[\u001b[39m\"\u001b[39m\u001b[39mprompt\u001b[39m\u001b[39m\"\u001b[39m] \u001b[39m=\u001b[39m prompt\n\u001b[0;32m--> 264\u001b[0m     response \u001b[39m=\u001b[39m cached_gpt3_request(\u001b[39m*\u001b[39;49m\u001b[39m*\u001b[39;49mkwargs)\n\u001b[1;32m    266\u001b[0m history \u001b[39m=\u001b[39m {\n\u001b[1;32m    267\u001b[0m     \u001b[39m\"\u001b[39m\u001b[39mprompt\u001b[39m\u001b[39m\"\u001b[39m: prompt,\n\u001b[1;32m    268\u001b[0m     \u001b[39m\"\u001b[39m\u001b[39mresponse\u001b[39m\u001b[39m\"\u001b[39m: response,\n\u001b[1;32m    269\u001b[0m     \u001b[39m\"\u001b[39m\u001b[39mkwargs\u001b[39m\u001b[39m\"\u001b[39m: kwargs,\n\u001b[1;32m    270\u001b[0m     \u001b[39m\"\u001b[39m\u001b[39mraw_kwargs\u001b[39m\u001b[39m\"\u001b[39m: raw_kwargs,\n\u001b[1;32m    271\u001b[0m }\n\u001b[1;32m    272\u001b[0m \u001b[39mself\u001b[39m\u001b[39m.\u001b[39mhistory\u001b[39m.\u001b[39mappend(history)\n",
      "\u001b[0;31mTypeError\u001b[0m: unhashable type: 'dict'"
     ]
    }
   ],
   "source": [
    "evaluate(multihop_QA_v3, dev)"
   ]
  }
 ],
 "metadata": {
  "kernelspec": {
   "display_name": "Python 3 (ipykernel)",
   "language": "python",
   "name": "python3"
  },
  "language_info": {
   "codemirror_mode": {
    "name": "ipython",
    "version": 3
   },
   "file_extension": ".py",
   "mimetype": "text/x-python",
   "name": "python",
   "nbconvert_exporter": "python",
   "pygments_lexer": "ipython3",
   "version": "3.11.2"
  }
 },
 "nbformat": 4,
 "nbformat_minor": 5
}
