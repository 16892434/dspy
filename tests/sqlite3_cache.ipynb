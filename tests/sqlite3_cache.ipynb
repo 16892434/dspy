{
 "cells": [
  {
   "cell_type": "code",
   "execution_count": null,
   "id": "858aabab-a30f-4516-bd4d-37ed200f7014",
   "metadata": {
    "tags": []
   },
   "outputs": [],
   "source": [
    "cd ../"
   ]
  },
  {
   "cell_type": "code",
   "execution_count": null,
   "id": "07e11831-15c2-4be9-9819-d412ade74fd5",
   "metadata": {
    "tags": []
   },
   "outputs": [],
   "source": [
    "root_path = '.'\n",
    "\n",
    "import os\n",
    "import logging\n",
    "os.environ[\"DSP_NOTEBOOK_CACHEDIR\"] = os.path.join(root_path, 'cache')\n",
    "os.environ[\"DSP_CACHE_SQLITE_PATH\"] = \"cache.db\"\n",
    "os.environ[\"DSP_LOGGING_LEVEL\"] = str(logging.DEBUG)\n",
    "\n",
    "import dsp\n",
    "import openai\n",
    "import hashlib\n",
    "from dsp.utils.cache import sqlite_cache_wrapper\n",
    "from dsp.utils.cache import sqlite_cache_splitter\n",
    "\n",
    "# openai_key = os.getenv('OPENAI_API_KEY')  # or replace with your API key\n",
    "colbert_server = 'http://ec2-44-228-128-229.us-west-2.compute.amazonaws.com:8893/api/search'\n",
    "\n",
    "lm = dsp.GPT3(model='gpt-3.5-turbo', model_type=\"chat\")\n",
    "rm = dsp.ColBERTv2(url=colbert_server)\n"
   ]
  },
  {
   "cell_type": "code",
   "execution_count": null,
   "id": "239bb364",
   "metadata": {},
   "outputs": [],
   "source": [
    "from datetime import datetime, timedelta\n",
    "import time\n",
    "import random\n",
    "import string\n"
   ]
  },
  {
   "cell_type": "markdown",
   "id": "ae444418",
   "metadata": {},
   "source": [
    "### SQLite cache unit tests"
   ]
  },
  {
   "cell_type": "code",
   "execution_count": null,
   "id": "cb689006",
   "metadata": {},
   "outputs": [],
   "source": [
    "@sqlite_cache_splitter\n",
    "@sqlite_cache_wrapper\n",
    "def test_function_cached(**kwargs):\n",
    "    kwargs_ = ','.join(f'{key}={value}' for key, value in kwargs.items())\n",
    "    return hashlib.sha256(kwargs_.encode()).hexdigest()\n",
    "\n",
    "def test_function(**kwargs):\n",
    "    kwargs_ = ','.join(f'{key}={value}' for key, value in kwargs.items())\n",
    "    return hashlib.sha256(kwargs_.encode()).hexdigest()"
   ]
  },
  {
   "cell_type": "code",
   "execution_count": null,
   "id": "69fa0e84",
   "metadata": {},
   "outputs": [],
   "source": [
    "def generate_random_string(length):\n",
    "    # Define the pool of characters to choose from\n",
    "    characters = string.ascii_letters + string.digits  \n",
    "\n",
    "    # Generate a random string of given length\n",
    "    random_string = ''.join(random.choices(characters, k=length))\n",
    "    return random_string\n",
    "\n",
    "def generate_random_value():\n",
    "    value_type = random.choice(['long_string', 'short_string', 'float', 'int', 'list'])\n",
    "\n",
    "    if value_type == 'long_string':\n",
    "        return generate_random_string(random.randint(20, 50))\n",
    "    elif value_type == 'short_string':\n",
    "        return generate_random_string(random.randint(5, 10))\n",
    "    elif value_type == 'float':\n",
    "        return random.uniform(0.0, 100.0)\n",
    "    elif value_type == 'int':\n",
    "        return random.randint(1, 100)\n",
    "    elif value_type == 'list':\n",
    "        list_length = random.randint(1, 5)\n",
    "        return [generate_random_value() for _ in range(list_length)]\n",
    "\n",
    "def generate_random_dict(num_items):\n",
    "    random_dict = {}\n",
    "    for _ in range(num_items):\n",
    "        key = generate_random_string(random.randint(5, 10))\n",
    "        value = generate_random_value()\n",
    "        random_dict[key] = value\n",
    "    return random_dict\n",
    "\n",
    "kwargs = [generate_random_dict(random.randint(0, 30)) for _ in range(50)]\n",
    "\n",
    "print(kwargs)"
   ]
  },
  {
   "cell_type": "code",
   "execution_count": null,
   "id": "1042a0b9",
   "metadata": {},
   "outputs": [],
   "source": [
    "# test write performance\n",
    "start_time = time.time()\n",
    "for kwarg in kwargs:\n",
    "    test_function_cached(**kwarg)\n",
    "end_time = time.time()\n",
    "print(f'Cached function writes took {end_time - start_time} seconds')\n",
    "\n",
    "# test read performance + save outputs\n",
    "outputs = []\n",
    "start_time2 = time.time()\n",
    "for kwarg in kwargs:\n",
    "    outputs.append(test_function_cached(**kwarg))\n",
    "end_time2 = time.time()\n",
    "print(f'Cached function reads took {end_time2 - start_time2} seconds')\n",
    "\n",
    "\n",
    "# test correctness\n",
    "for i, kwarg in enumerate(kwargs):\n",
    "    assert test_function(**kwarg) == outputs[i]\n",
    "\n",
    "\n"
   ]
  },
  {
   "cell_type": "code",
   "execution_count": null,
   "id": "d7807c3a",
   "metadata": {},
   "outputs": [],
   "source": [
    "# threaded tests\n",
    "import threading \n",
    "\n",
    "@sqlite_cache_splitter\n",
    "@sqlite_cache_wrapper\n",
    "def test_function_cached2(**kwargs):\n",
    "    kwargs_ = ','.join(f'{key}={value}' for key, value in kwargs.items())\n",
    "    time.sleep(5)\n",
    "    return hashlib.sha256(kwargs_.encode()).hexdigest()\n",
    "\n",
    "def run_function_in_thread(kwargs):\n",
    "    result = test_function_cached2(**kwargs)\n",
    "    \n",
    "start_time = time.time()\n",
    "# thread_results = []\n",
    "threads = []\n",
    "\n",
    "kwargs = [{\"kwarg1\": 1, \"kwarg2\": 2, \"kwarg3\": 5}, {\"kwarg1\": 1, \"kwarg2\": 2, \"kwarg3\": 5}, {\"kwarg1\": 1, \"kwarg2\": 2, \"kwarg3\": 5}, {\"kwarg1\": 1, \"kwarg2\": 2, \"kwarg3\": 5}]\n",
    "\n",
    "# Create a thread for each call to test_function_cached\n",
    "for kwarg in kwargs:\n",
    "    thread = threading.Thread(target=run_function_in_thread, args=(kwarg,))\n",
    "    threads.append(thread)\n",
    "    thread.start()\n",
    "\n",
    "# Wait for all threads to complete\n",
    "for thread in threads:\n",
    "    thread.join()\n",
    "\n",
    "end_time = time.time()\n",
    "\n",
    "print(f'Cached function writes (threaded) took {end_time - start_time} seconds')\n",
    "\n",
    "# test read performance + save outputs\n",
    "outputs = []\n",
    "start_time2 = time.time()\n",
    "threads = []\n",
    "\n",
    "# Create a thread for each call to test_function_cached\n",
    "for kwarg in kwargs:\n",
    "    thread = threading.Thread(target=run_function_in_thread, args=(kwarg,))\n",
    "    threads.append(thread)\n",
    "    thread.start()\n",
    "\n",
    "# Wait for all threads to complete\n",
    "for thread in threads:\n",
    "    thread.join()\n",
    "\n",
    "end_time2 = time.time()\n",
    "print(f'Cached function reads (threaded) took {end_time2 - start_time2} seconds')"
   ]
  },
  {
   "cell_type": "code",
   "execution_count": null,
   "id": "616dfe43",
   "metadata": {},
   "outputs": [],
   "source": [
    "# check correctness threaded\n",
    "for kwarg in kwargs:\n",
    "    ref = test_function(**kwarg)\n",
    "    cached = test_function_cached(**kwarg)\n",
    "    assert ref == cached"
   ]
  },
  {
   "cell_type": "markdown",
   "id": "518616ae",
   "metadata": {},
   "source": [
    "### SQLite cache integration tests\n"
   ]
  },
  {
   "cell_type": "markdown",
   "id": "462c7a8b-bac2-4517-bc0f-4b8890dd15e0",
   "metadata": {},
   "source": [
    "###### Case 1: \n",
    "- Example doesn't exists in the cache and the experiment end timestamp is not set to the future\n",
    "- Expected:\n",
    "    - Runs into an exception since it affects reproducibility. The example is missing in that timerange and should not be computed."
   ]
  },
  {
   "cell_type": "code",
   "execution_count": null,
   "id": "2284b6e7-df1d-4ee8-8042-bf0399c131af",
   "metadata": {
    "tags": []
   },
   "outputs": [],
   "source": [
    "case1_cache_end_timerange = datetime.now().timestamp()\n",
    "\n",
    "with dsp.settings.context(lm=lm, experiment_end_timestamp=case1_cache_end_timerange):\n",
    "    answer = dsp.settings.lm.basic_request(prompt=\"Q: At which year was synchronized swimming considered as a valid olympic sport?\\nA:\")\n",
    "    print(answer)"
   ]
  },
  {
   "cell_type": "markdown",
   "id": "e2f1db59-eba2-40b4-875f-78f978d49f98",
   "metadata": {},
   "source": [
    "###### Case 2: \n",
    "- Example doesn't exists in the cache and the experiment end timestamp is set to the future (by default)\n",
    "- Expected:\n",
    "    - The experiment is not trying to reproduce but create new reproducible results. Therefore, it is allowed to re-compute"
   ]
  },
  {
   "cell_type": "code",
   "execution_count": null,
   "id": "c640fb6b-cd1e-4443-9895-ce8858977f4f",
   "metadata": {
    "tags": []
   },
   "outputs": [],
   "source": [
    "\n",
    "with dsp.settings.context(lm=lm):\n",
    "    answer = dsp.settings.lm.basic_request(prompt=\"Q: At which year was synchronized swimming considered as a valid olympic sport?\\nA:\")\n",
    "    print(answer)"
   ]
  },
  {
   "cell_type": "markdown",
   "id": "7b279fc2-9ed6-4c19-a864-e755b107970c",
   "metadata": {},
   "source": [
    "###### Case 3: \n",
    "- Example already exists in the cache within the specified timerange\n",
    "- Expected:\n",
    "    - Returns the results of the example without re-computing"
   ]
  },
  {
   "cell_type": "code",
   "execution_count": null,
   "id": "696a9ad0-e8bf-411c-8ff4-44ba948086af",
   "metadata": {
    "tags": []
   },
   "outputs": [],
   "source": [
    "case3_cache_end_timerange = (datetime.now() + timedelta(days=2)).timestamp()\n",
    "\n",
    "with dsp.settings.context(lm=lm, experiment_end_timestamp=case3_cache_end_timerange):\n",
    "    answer = dsp.settings.lm.basic_request(prompt=\"Q: At which year was synchronized swimming considered as a valid olympic sport?\\nA:\")\n",
    "    print(answer)"
   ]
  },
  {
   "cell_type": "markdown",
   "id": "1c37c441-52ec-47a5-880f-7f4721617672",
   "metadata": {},
   "source": [
    "###### Case 4: \n",
    "- There exists an example specified in the timerange but it failed for some reason.\n",
    "- Expected:\n",
    "    - Returns the exact error that occured, for the sake of reproducibility"
   ]
  },
  {
   "cell_type": "code",
   "execution_count": null,
   "id": "b482233f-5d64-4860-b3a5-62c4770f9fae",
   "metadata": {
    "tags": []
   },
   "outputs": [],
   "source": [
    "# Let's intentionally make it fail\n",
    "case4_cache_end_timerange = (datetime.now() + timedelta(seconds=3)).timestamp()\n",
    "try:\n",
    "    with dsp.settings.context(lm=lm, experiment_end_timestamp=case4_cache_end_timerange):\n",
    "        answer = dsp.settings.lm.basic_request(prompt=\"Q: At which year was synchronized swimming considered as a valid olympic sport?\\nA:\", dummy_kwargs=\"sample\")\n",
    "finally:\n",
    "    time.sleep(3)"
   ]
  },
  {
   "cell_type": "code",
   "execution_count": null,
   "id": "ed267ea1-acc9-451e-8f23-bb3a8491781e",
   "metadata": {
    "tags": []
   },
   "outputs": [],
   "source": [
    "# Should fail with the same exception\n",
    "case4_cache_end_timerange = datetime.now().timestamp()\n",
    "\n",
    "with dsp.settings.context(lm=lm, experiment_end_timestamp=case4_cache_end_timerange):\n",
    "    answer = dsp.settings.lm.basic_request(prompt=\"Q: At which year was synchronized swimming considered as a valid olympic sport?\\nA:\", dummy_kwargs=\"sample\")"
   ]
  },
  {
   "cell_type": "markdown",
   "id": "c19bb567-bc81-48c8-955d-9612de1fdb08",
   "metadata": {},
   "source": [
    "# concurrency test"
   ]
  },
  {
   "cell_type": "code",
   "execution_count": null,
   "id": "027de92c-5866-40cf-a80c-94a565fec732",
   "metadata": {
    "tags": []
   },
   "outputs": [],
   "source": [
    "import threading\n",
    "case5_cache_end_timerange = (datetime.now() + timedelta(days=2)).timestamp()\n",
    "\n",
    "    \n",
    "def run_snippet():\n",
    "    with dsp.settings.context(lm=lm, experiment_end_timestamp=case5_cache_end_timerange):\n",
    "        answer = dsp.settings.lm.basic_request(prompt=\"Q: which war did Archimedes invent war machines for?\\nA:\")\n",
    "\n",
    "threads = []\n",
    "for _ in range(10):\n",
    "    thread = threading.Thread(target=run_snippet)\n",
    "    thread.start()\n",
    "    threads.append(thread)\n",
    "\n",
    "for thread in threads:\n",
    "    thread.join()\n"
   ]
  },
  {
   "cell_type": "code",
   "execution_count": null,
   "id": "cdc42a13-9b13-44dc-a74a-4ed5da3d2212",
   "metadata": {},
   "outputs": [],
   "source": []
  }
 ],
 "metadata": {
  "kernelspec": {
   "display_name": "Python 3",
   "language": "python",
   "name": "python3"
  },
  "language_info": {
   "codemirror_mode": {
    "name": "ipython",
    "version": 3
   },
   "file_extension": ".py",
   "mimetype": "text/x-python",
   "name": "python",
   "nbconvert_exporter": "python",
   "pygments_lexer": "ipython3",
   "version": "3.9.12"
  },
  "widgets": {
   "application/vnd.jupyter.widget-state+json": {
    "state": {},
    "version_major": 2,
    "version_minor": 0
   }
  }
 },
 "nbformat": 4,
 "nbformat_minor": 5
}
