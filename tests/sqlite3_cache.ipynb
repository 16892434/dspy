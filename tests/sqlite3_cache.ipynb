{
 "cells": [
  {
   "cell_type": "code",
   "execution_count": 1,
   "id": "858aabab-a30f-4516-bd4d-37ed200f7014",
   "metadata": {
    "tags": []
   },
   "outputs": [
    {
     "name": "stdout",
     "output_type": "stream",
     "text": [
      "/future/u/hmoazam/home/dsp\n"
     ]
    }
   ],
   "source": [
    "cd ../"
   ]
  },
  {
   "cell_type": "code",
   "execution_count": 16,
   "id": "07e11831-15c2-4be9-9819-d412ade74fd5",
   "metadata": {
    "tags": []
   },
   "outputs": [],
   "source": [
    "root_path = '.'\n",
    "\n",
    "import os\n",
    "import logging\n",
    "os.environ[\"DSP_NOTEBOOK_CACHEDIR\"] = os.path.join(root_path, 'cache')\n",
    "os.environ[\"DSP_CACHE_SQLITE_PATH\"] = \"cache.db\"\n",
    "os.environ[\"DSP_LOGGING_LEVEL\"] = str(logging.INFO)\n",
    "\n",
    "import dsp\n",
    "import openai\n",
    "from dsp.utils.cache import cache_wrapper\n",
    "\n",
    "# openai_key = os.getenv('OPENAI_API_KEY')  # or replace with your API key\n",
    "colbert_server = 'http://ec2-44-228-128-229.us-west-2.compute.amazonaws.com:8893/api/search'\n",
    "\n",
    "lm = dsp.GPT3(model='gpt-3.5-turbo', model_type=\"chat\")\n",
    "rm = dsp.ColBERTv2(url=colbert_server)\n"
   ]
  },
  {
   "cell_type": "code",
   "execution_count": 17,
   "id": "239bb364",
   "metadata": {},
   "outputs": [],
   "source": [
    "from datetime import datetime, timedelta\n",
    "import time\n",
    "import random\n",
    "import string\n"
   ]
  },
  {
   "cell_type": "markdown",
   "id": "ae444418",
   "metadata": {},
   "source": [
    "### SQLite cache unit tests"
   ]
  },
  {
   "cell_type": "code",
   "execution_count": 45,
   "id": "cb689006",
   "metadata": {},
   "outputs": [],
   "source": [
    "@cache_wrapper\n",
    "def test_function_cached(**kwargs):\n",
    "    kwargs_ = ','.join(f'{key}={value}' for key, value in kwargs.items())\n",
    "    return hash(kwargs_)\n",
    "\n",
    "def test_function(**kwargs):\n",
    "    kwargs_ = ','.join(f'{key}={value}' for key, value in kwargs.items())\n",
    "    return hash(kwargs_)"
   ]
  },
  {
   "cell_type": "code",
   "execution_count": 42,
   "id": "69fa0e84",
   "metadata": {},
   "outputs": [
    {
     "name": "stdout",
     "output_type": "stream",
     "text": [
      "[{'BAAmffcR9': 'x7wwA60UN', 'PDHAaONd': [94, 4], 'OoPUDDxy0M': 'bMEas', '6fma5qY': '6n7NiEKvAGq6l8g44UrDDuvJQ7fBFdkWmP', 'pEDRV2': 5, 'wnCBe': 87.7625883183242, 'F8HyzhT': 12, 'gjdR6K': 5.4599287859469765, 'tg2Ea0w7h': [[80], 'pYHE891ajR', 'JpUOxKc4uoK0fZJ42ZX72vMaB7TlV9VV3lYAP2VYCSz'], 'iWecC': 35, '1RqSU0bz': 75, 'oVyXoxH': 73.1900464002794, 'i1Rm0B': ['5Dama0So0oTs8EwbeAXgBt'], 'Glx44MgfH': 'Jd1EAJA3GZxyYCo3pPE7WMntAYZ', 'gPwCY1HuZ': [75.0589930909783, 'm2qfgXayB2cagGdUaPQfpsw7BGbLLxeSV39sF29cPIZOJWBAN'], 'VgEPam': 23, 'dNcyS': '3Mmdr', 'Mk0dKt3AWm': 'n3Ben01D'}, {'3vPhWxVY3O': 'rcaOBjieJYxovJUMVGrNLw', '9gl9v': 39.27176496947131, 'Ndvjsn': 'RIIEAEEMBX027JGHzeUVOps6', 'SR77cPyE': ['QK6lfRu7520M8sKn5Ym6ipDRnwYbLejhvsa1', 70.87942663473808, 27], 'M4f3pZTz00': ['b9HozL5jCG', ['7FeHnV', 'CVsznYRX0', 'HVOQmbYo2HbV17vjV4FDNr']], '7Fp5gbQK': 80, 'F78QTj': [63.386665323049826, 'HCi0IfcJjSot24bWOT9L2RiwYUAGwm', 18], 'hooZ3sC': 'seveOaB', 'kLKmTdMy': 83, '84u0N': 'PrZakb', 'qig4LJpvT': 'Qw4Q598rCE', 'IWZEf1': ['TAJxe0Yt7DVewdMjYsLXsCsJh1Axn0PNsFFjrxMZ9TnHYb72F9', 18.60759235831938, 16, 13.576498727320619], 'yzefLn': 'y51bg2mM0z7Cz8sgSseTEI0qY0WKpVEOd9lSJmRHOKNGaHz7NQ', 'UqTk8Moi': [17, 'LpzWHOBS'], 'M7D1b9WH7K': 'WxycWpM8nvuhlKmq0KO2DOoPOUaDPOo5VgHE8NkYuw', '8whl13': 94, 'SNjxEMF': 'dvATpE', 'oMUZO3J': [11.457105777315368, 2, [8.482672699746507, 'f22PGs5huNkaVF0bz0ZmWpS8unIcytlp2WudsVjlph7FZ5N', 'F6SSnlntPH2vtLeF4YutVQCdvpzGe9WcDy1'], 60.666693022299526, 58], '3LAC7JCeHh': 'DOdsALrzVZWpPrpdRpAv18uCb09oVT0mc2qvK'}, {'4e6ZREa': 'dU53q', 'SyDFB2cxz': 88, 'BWNvnMw': 40, '7fsYOnx1L': 68, '3PNEinc': [82, 'Dsq8wnzkj', [['hQCHzTmJvnoeRJpHHnGks3D', 'rQW6rI4FW', [89, 'WTGP9Uq6F4', 'UuxpHDfhx2X2vXs5IVPzuLmHgqNSfclfeZqB8UnoCCHfO2CM', 87.96002609516881], 'lDO0ciWLd2tMyY5rNTouFs'], 30, ['4tUn9RRksgOL549vF5RCKWtvJY2Wug5mGaK2I5n5zVDD', 'vzPAZUpmv0iQ4rpFkPyDonq6M1zokxb', '50FtjntT', 73], [2.419169448671654, 'z3YoIrF2T4']]], 'xZN8ue': 'kYq52Qh', 'AIIg7LWc4': 'RhLIr', 'LTbfatc': '9wceNvOh6u', 'JjbXVr': 90, 'wnVkHz': 10, 'XUH33Yf': 'nCHU7qxz3jKtQl6byvxHncCzfW3ZlsOl4gS88ngPXw7Hj', 'OvuMyjJwT': ['LEQM4Ys02MypbS9tB1Zc1yF3f5zO4aK11dX', 'N1AhBUA'], 'VCwW7': 8.685276773257478, 'WOPh2jKi8': 88.86341887546023, 'RJ2kOB8': [['maSP5Rq5ssDoAQLaV60ePNlUGomnjRo8kYACZij4qw1sfb44', 'o7Jc5KMgjEGmrHjA94C6lTyCQplBwSZ6PKxiRTNI482CHThYE', 'sWTg7MKX8Y'], [33, 'WGAWSZp36', ['zV4NH21bqZ', 'B5x9nu', 'Qwh9R7WFEReNLXJULdAc6R7DdSzDoTuaPvclPidALIEv'], 87.70775379208197, [71.88872864573025]], 'VnEv5AUY'], 'E42XKHm': 'WIii4AuDQUiCrGdBIyHRh02sEw2oIzGZszBj0V', 'N7nGjaS': 95, '0OsyCzjin': 93}, {'N1ykA': 'oG5suCo0', 'EMaK0pt5P': ['7LEYuYN3u5nfI3QOJc4LTQ3QRSkvhBvMphs9iS1Q2l', 18.5257659055855, ['pWE7fefItybCzXAZD8z06wBbkxvcbKD', 67.84753204563594, 9.124055725668946, 'JMK7GS7rGLlYZ4CBnx6z0BLzOCca7ClbmyZhlGktKUKl2NzK'], 31, [['ul3cHiR6qD', 57, 24.46860906111813]]], 'pEHBl03ja': 83.56459971377451, 'rcvgsEkY6': 84.82516867714727, 'BR6WALpL': 'Yv2v1inV', 'U4NrieN': '6ztWSV', 'ISgpkxKt': 'RyWg0fcuizkkoCu6DsaKRmQwp1G0zbCoVXqR', 'gu3JPd6': 'DkNVNOIv4no7xp836ILKmJIehJtcRMbokvP6h8YLi0wCIX8ILd', 'XeKiBpoOV1': 10, 'ZH8wmmytrs': 'iz52N2VcUokobiMMa0cjSnI1f7kbdrWKPBDZHS592f', 'eA7tYw': 'aofeCSLIqHj407P4xOWpPOoPWFt0nivmvBMDGu9j', 'edFS9hmP': 'Tbk2z', 'p62eFFP2EH': 'lAeScOzix1qYi0eOC2UEm3wOG', 'bMsB5q': ['tXB8m9Dv'], '2Gbm8R': 82, 'LfxuCIZ': 'i5zODKhdn6qfIbuTFqFRI6PMZElGNtl0CM1e', 'coShLbQb': 44}, {'N6dhLHf2T': 'ohv8r', '0Hizl': ['T3NnaM8a1rGS3VMdLR0k8vFLx'], 'mtEen': 't9Yzwap0vynl5RNUYz3h9eGh8EZhUC5ix0C', 'ZwOEV8x': '92d5edKWP', 'yurj1pZih': 30, 'GEAScxCM': 56.96539284043779, 'RdOU5EkBYN': 'zW9lPaem', 'j64Ta7': 'oZCMuJcxZ9xzQgjI0jd9afRcQKsJO3uxBsybO', 'YnNbr': 54, 'p5kMct': 42, 'toYWnm6': 'aIpBX3lOQo', 'RKLEOi4': 'ZnM2FSA6JCwAuiEV5FZ3iCEAWZxjKgkgwg', 'iYvIEjBlzm': 'm3caRbzi6T', 'YuG6V7LpO': 'vN8C1x', 'a8u8QnRtC': [62, ['M2X2AA', '6EsypkBO2', 'RMHC2rRAQaFKKVnn7umh1kIh1NJ4OIQYw']], 'Ml1DRDuPR': 70, 'zVbLN': 'f6V2ecdtUGqcOq8wELKNs9pf', '3GG11MJl': ['r4o1eLDdpvLWqeyMASYjzBXoFdrbZzzby3bYLVUHQWFDc7FheZ'], 'Je4Hp8bdYd': 24.211202622287477, 'AXst3imDL': 38.48000568323881, 'v7cIC': '7yNAd0z68hjGjfRXwJMt', 'qQGfawA': ['CTamvrB'], 'M5jtCL8B': 30, '5mfkpZHMgg': 57, 'PZYbhkVgK': 'NVvyf', 'uNvU3Zb': 'oZ4Fp7SpzwoG0vTHsMS81WtnvgDlVfklyrsT8QGJ9umHSS6V'}, {'PCDxYhV1N': ['4CTRPlMPspSF85KEbqH6W5KSfs5o9yRV4IHPjATg'], 'Vvxdff': 'awhescxBd4Ei2XOyLZk0KjdABlYvv6gJGsX1jX', 'Wzg7718n': [23.725839903759592, 16], 'WJLBQhge': 'Op2K3AIWUqWyETMlwLUqvy2uSCk3H', 'k38Bk9': 'CqN7k0', 'W9HJ99fhU': [84.52249652940044, 'whnyTpOlMbboNAp98TngJ8AXqN', 73], 'X4jNTnv': '1NhPWaJlZe67vUYHXTF844xub6O', 'v3zuQ': 48, 'dEbxQ2PW': 92, 'sZf40': 86.49181647690152, 'P4m8Z95BWW': 1.7918587310596146, 'PAIECL5F': 64, 'xKvnFwknz': 53, 'HnzGxAAl': '19wWnZnEbSFXTx7UNb0hTtSzl9Ijn9', '4IzidEEuJl': 32.32983884639699, 'cWxo64ykl': 'ldvRCad19U3izoxF8UG4GNx3pGy', 'vzVCyIj': 83, 'QF0KaVMvGX': 30.398471291201467, '99jDg': '5QC9iicOdem87zrog4Oay5FAYlQs7VC4', 'ODuxktE': 42.32707355369292, 'KLPtEtMUm': [3.016429097409834], 'hKA4w': 50.32427410278713}, {'RQqYMvol': 78, 'CW1VqC': 49, '0TO6a': 98, 'iFFCFcvwMp': 'KZgeVsX', 'rgvORP': 81.7864746284265, 'uVZK7dTT': 25.972363562084986}, {'NioMswI': 'aZGCBuJi1'}, {'e2giRB3M': 15, 'dMPEa': 'yOaGJ44UrqvlQWSHlOE2pJR', 'vBuhQ': 99.40530805834918, 'AiQrfdug2': 93, '5w0PSs': 19.323650792275426, 'jwQVxO5Dgz': 15.626565626685384, '2jIdaYm': 91.1315957538138, 'FJihUNb': 'fqarNVa'}, {'xbqp9a1e': 'lGjsvbzR9', 'MJ2xWSfe': [[7.87165298462088, 98], ['sXTJLFyXHkVSNA2CselGderHT3oJ5E', 60.60341338538229], 'sRPyH9aDHy1wC18CmHnIvds2SyvOPue3dBUMDq6J6hJB1Qj6Ma', 'ZG5rMcYUaF6vB6lB2PWsKmyYME'], '43sT1XA0L': 45, 'Q2ICk18b': '2WGrJjIYy', '7VkMWPT': 0.09091097286424432, 'hrKLU9pT': 15, 'hkZ1sIWGbx': 71, '7v48P9Ju': 'V7R1Bd7zLupeVC485uk7', 'j13o2I': ['vsBni1oSAmzOeDwVckg3cS3ql70oVJr'], 'aGuYVxB': [14.308015666292928, 56, 53.55001350014271], 'xvCDm0nD0S': [46.78676472691674, 'dpzCA3zaxinNOluqLKa5TY6QUI'], '1W2cP': 'HGD7Qe1ptn', 'SdHhws': [['OGcB2jdpsJ5CnHkdJGxSROMJ0tdZSX', 'S20itL4xjL', 91.57677478358761], 'odu6BV', 41.14329843219259, 'VxRUSb'], 'BiyWGosAWY': 14.736571861037472, 'P3Mwg0Hd5': 'q8mkqCH7KjZr3Fbuf249MoUOqo0GGjdDrNVPcqrS5cC4f1IU', 'Lk0HKbXj6': 0.8808839422825177, 'gp6KFizAT': 25, 'd6FeGbW': 22.381531766925868, '4lH7S7': [81, 'f1VX3Sh6Uwk8BofXEVbxSP']}, {'yaHvy6e3wW': [5.757055858922344, 40.77694936884198], 'LIGbR2mp3L': 'ow1cLs3NsJQFmNLJITuT', 'nDhSdE5': [18, 100], 'glu7MV6TSL': ['ux4CPe', ['c7krDtA', [63, 'BJy8T47eEyWcGJfFm5u707qmaSyRfdzFQ4', 86.43030466316422, [['j5JTm2GX8', [43.06388349294311, 18.08179491490095, 19.16086359585559], 13]]], 'eZZxvipmxakQy6LKHZ7RB0xb', 66.73387696789746]]}, {'2u8iO46cY': ['H4w8fj6x3', 'Q30NVM7q'], 'HBeggw': 95, 'syIo7iYbQ': [66, 'y3Yslh5yLWXyG3XdGBQyasVSvVevxRdDdWu590odUfyhcMf4G4', 'fL8eyL', 78.8271307900863], 'MKIaUP': 'ivNVqG65', 'D5zMLK': 'NohWiVu7lSTIHN1IXduWRFIQ73HpWP', 'B7UtGz': ['H1P1Dy', 14, 'Mhp5HXJ', '2gQm2olDLiOmwz97fvyJH46AV6F8OpIVokiclUxxKZRQcgi', 61.995625577409996], 'HnoWl': 'fOvIHq5UWz', 'pu04jXTi': 85, 'iDR6Kxm': 24.673574782578, 'QpfgQs': [36, 'tI3zNZkI'], '5N4GSR': 53.56211492262336, 'l8UoEVvrL': 23.893259501161403, '7AKKPQrwB': 'zao7LL7', 'G75K1uP': 26, '0e44x2ftI': [56, 40.744109729859886, [9, 47.4275549834256, 'beatpw']], '87EkP': 25.937333398601613, 'z6ouqvi9': 'ikErVoW', 'DtoibHsQt5': 98, '581gZWvGzt': 95, 'MFZr4fMp': 64.14220071998555, 'INQ6TSKECD': 17, '5PvOWipF': 85}, {'6S6q9rZ0C': [[['HB5jqCRoSsd3MbmoDrAHQbDQbrFqcdfziU', 41], 'RFxvWirTFihJdA814D09n'], 'PYuYxV9sdCeOhk9svri7ZNo3X2euS0EHLUqa2w', 'etdIUtd61NXa5Vp1lgFrDSF7nAWyzZRTSeP6W6xbeWbZG'], 'fZ4gDZke': [[38, 70.07229524565268, [35, 55, 'QqywIdSU8kcypuOu3SQLVfM65UbrYW2bkFT3h2', ['8UdXqLrM', 18.754688790940165, 45, 77]], [[[[88, ['giNep7nM1cNCgiYkkQUr01'], 'PmSo96347taS2IvvRswNsjSFBABHUUI7IGNh', ['yR2iOEd8CMsWyKeQBVSnKQHIkPYb3EDJiwkbym9cfKAKQ9BuT', 76], 'cd3GM0'], 30]], [73, 'ygiXgRX', 't6i5d', 71.77046467713896, ['DlF0HuDORYiWYGQCIwk8aZtg6hHzFdGy2QWG2rUVluFEpWB', 'zftVn9LNnbCirRSVpRmRHAS5P9jwDzB1vpRE', '5yMAJar', 'nn4vp', 'b50iYw9D5KASsrpEShJVxudPibfw6JIlBLze1aN3X']], 'KUs6Zr', 'bMQ5Ny3Cw'], [95, [[[62, ['lF2ytgpI3XpWsIkbG56kgXKf9I7apLwoU0gI4za81HOR5', '7mhOiE3inG289dX1LMtUJIJSVRNjo', 29]], 67.99349430165859]], '4Ft6YezPC5qknhE5PBKwI4a5g9tz7p24lGdpS', 28.921301666424036]], 49, ['NT8EA', 28, ['3khyAgnp5nPPQlYj9JwR57LFyqfJOon2X21BX'], 68], '2fe7dczLN20dzTQjXG44lNVYtSszP'], 'P9aaL': 'Tyn4uq', 'VNsotAm': 17, 'NwPNxSV8q': 4, 'JDADrn': [66.15380205650719], 'T8V5lRBYDd': 'w7NBnoiNxTnOmPy6Pyt8loOqZps65GkPpwF3kt4r5D3H2rQf', 'LwZ5Nn19V': 73.46842612055259, 'gNTgRhtb': 88.2448675968231, 'EayUXt': 'PStq1Fp3d3sHh93I1A4aB0Sc7ScC5jnG', 'l7vnn': 68, 'NZT0vU': 48.67585631816682, '3Mej1e': 83, 'jfFFO4klFv': 43.02553228915771, 'v47S15Vi': 47, 'W43Dy5': 59, 'dXzWCB99z': 36, '68avcVJep': ['qdeYNkFgJ', ['XOMluTiD9Mm7bNGAkLz21hT5fWNXIvUR'], 27], '7CoBJvEKj': 98.18939326586464, 'CajoP': [21.647852201741035, 'LPiXcPf5', 'ZSf1rf', 59.08140164686]}, {'hSCpuW8Z4': 9, 'LZijGIfA': 47.540400343934444, 'tIEr2': 'Q72s0xiBcyixWVqyt708iS3q8IcSOwTSlz', 'uhFyjCxu': 10.762807570214438, '9uUSYsATAq': 'xiHYfSyf3q3MitY02gcuQHosgSno3GKRvaT0Z5rv', 'RjXkHn': 10, 'sQLrb': [[54.89287506060639, 97, [4.008613830559026, [['3RmU7MNE', 30, 95, [48.60557120211235, 'Wzqb2'], 43.7814792164264], 31], 56, 'LwT8kYpZVxo328mqIo9GAwuEno', 50], 'vjSZsSLvVkw7YT7gMbLu7gwquRCNX'], 'Ew9X1iqgF3feoEU1MFp2us', ['LR9SBlqH7g8MjzXS4UEsNOWmUb3jmTHRP', 4, [29.73795492915211, 'fbhR5QiT', '8VBigq3bcXosijXuiaApSR2qAo9vwVz8CUvFXhdkwtvAv0wt', 34, [90]], 28, 'Kk5g9VW63']], 'kzJ66sF': 27, 'zwl5RPK': 26.36828894749963, 'zxfBz': 'hhY8Fr', 'yom0eFAwR4': '9bqKLaduXg', 'Rqp1d': 94.44488677894185, 'XrQ8ZoSff': 28.351419122823195, 'ODgqlq': 97, 'vi0vFa': 'MujPMtAIB7YJCfIH4Gf9jHW1CZv5XDcbmu2Ykrlul', 'dRMa6I': 36.930516916841846, 'tFCXI': 'G4kGHpW0MFdf2rALQ0XzX4e41urQChAQu6WXjDvI1UZ0', 'tfmHeNeI': 49, 'dqB6H5HvS': 'd0lmdEmMDT', 'TX3KAb': '3BicLuMdU'}, {'xhyRp2R': 51, 'T8M91ob': 'ZL63BFi5Qq', 'GX1Cq': 'RDAGz3uw', '2G6qDtLqH': 'q097Zi6DUFpWmgUbW4OMJosohoxb7XUf2MbF6ZvcD56', 'plLjwcL': 'GM90PXZIgymmxzIsDgTjNmWmhZv2b', 'Lgk2F5': 97.10540891141316, 'k1KE7XYTS': ['NwLTvtF8yjMlwU7a6B8U1CYkAbM9UKzOgIiEqW4RZ', 'B3QlKZ'], 'fs58k': [67, 54, 63.35640220338298, 'yeeCHZbrM'], 'ilnA0': 'nBxRAacf', 'XbgGLn3PnS': 26, 'S82dEuKZ6': 77, '9JkVl': ['pUb9F6bjZxVK7XZKOtwxPssHE', 'Pb3FJeIDjliFECjEX4d70p', ['KeTsIPcOsvW4ieq23gcxT', 15]], 'MGOgVRn': 'jXmM69WvkiTpPq30hjFFCI64Q9QpoNA', 'fg6hvuL7OK': 72.77536867224428, 'Vgv5BP': 'rep3qIn9TIAqQFxJEBkQEulyj0MApPE2pOBAN9', 'rZfvwCX': 67.24408052595143, 'b0GO0EdGcM': 'l5McyXmLAypmPv1V6bKVdV5rofhD0Bb3', '50d6PI7P': 'deZJI50FqB', '3I882BI': 61.55764357341086, 'JGffVNE': 81, 'PrQ1X6qW': 40.49248619580242, 'gDT6Ul': [25, [46.68955742849686, 87.46204001133177], 41], 'JhLYw7k': [['exvXFq9jHwHCJ8GJg87Wr67aHs9sYIhztE31dViN3KwC', 'l0choyK'], 'tDG07BudSxDmW8BNkcLXWY9m22udI5gkqL8KRfkia', '1hJwLZiDUUQZ6jShAyRf', 90.61356063972511, 30.879421054523903], 'MOUYVzkwd': 50.02695487774265}, {'kywYSJjoO': 33.25577522287748, 'JSOb8': 12.222549936519322, 'uoKGow5dBu': 'ZBrkNS6jCC8xQJ4kDNtvGFmG8rEUd9fzMdp', '2Tjx6': 51.244260104982395, 'F9NDv': 46, 'uAoXjkir': [45.945842301513665, [42, 'T5pU9IDUuGetEyQDYDhaCl', [[31.96080518483675, 'hZDCl6Rwxc', 35.990779767939465, 'DRm4ZgcNj'], 41], 'mgdVJxgiNeY3E61qJwWf'], 's6hhIA08Fg3laODKXys8CimJvGoRnZG5', 84.45955957530975], 'q4hjU': ['gLiG5RUMKL6R6eYfAQskxtQE5gUxfAIoRnYZD0SWvxV', 58], '8fBQ2dC': ['9SOnXXa0zOp6mv5UKaNabL8MUWNmstCmsUXZFrdTpcUqnxH', '1JXLzi4gP4OYkM67VH6rlsm3tUScL54a', 'CxWEY0f', 99, 52], 'I2UFWlvKLv': [['D0kcTtl0', 91.87678245558455, 96, 51], 'VtFC4hk7iFa6BBF5qlVpTCWPVFB1e826l2IBMNpI', [33.02118380880618]], 'Qm9nuq4': 'LCS0ar9rIz'}, {'Qryu15vjb': '74cctj464', 'wx1KuuyN6H': 'IxCShrH', '9dvtwOug': 'nnOMk', '5swypK8Xm': 'lYZqZ', 'a1WW2': [[45.12787234104779, [62, ['pXbPKf', 46], ['ae5b7htjA7ML2TZTp5yt9Fg5LzIHaXmBonA0aSYES'], 31.788564609717895], '0JnUsla', 'sAcHG'], [18.71766581262865, 75.92449762610643, [[75.00920183669646, 47, 96], 'HRyaQzfx', 'RuT26KJ6z', 25.76258213311007], 'XvqaDkAiJVIimqeCAE6kQncAfd', 'lKcKbi']], 'ccxhym0m': 'brEi7W'}, {'poBLTAO4': 15.826779767470144, 'Mjd3QMd': 'rXpPOYpGfSgw7zVzBdG4x3EcXOLFS', 'kIHvg': 60.994737955563735, 'gjZyn': ['TCFe4fQ'], 'wovKQ': 'Wxxaql', 'KWPdb4FtpI': 'GM2Zgf13VbscdlJyTDla4JeOStUbsr7T6uAbUml', 'HkQIR58oK': ['2YpoqNpnw', 50.45593856860465, 82.29979076978171, [[83.76426472393901, [54.323805460449414, 57.97769394595179, 31.840372747371692], 66], 2, ['PCZU3aItcNowWeXZA9mZvT5nLtjtv8UyfAvJeiWEeTrzeP77M', 23.439836567267648]]], 'yqtLAa': 66.65300156994996, 'WvXbY': 20.92238910379414, '6PmdQ7GZho': 63.7730166804958, 'yaj1g': 85, 'awaskd': 33, 'ZEt4Y8O8m': 75}, {'uLvK57FZ': ['MMGnlyHtRW', 'Vou6UTKThtZwPhgSHRHvw6Wk2vaYaUDXp6Y7XdMXca2'], '4XfUiM': 'gfxDt0W', 'sRkhrVum77': ['TKWt7EowciueGJfPQK0EO0hVR2pwUlN', [54.43656768585927], 'a62lW4w'], '87180R2': ['mGFKCErGJ3L9dLzp7kk4ZVLzmD52Yri6mBr2F57G7TaCt', 'YGtO7m4nT', 'dms5eZOT3W', [98, 69.17901296300984, 56.380208642507625, 65.86681616612086], ['efICJ26Tzulwpyv8r9dJUP1lwVa7K8AOl5ZSiGEJnSp1z8K', 'yFibYIfg3mWgaPgb48e0mLppZXlKZ1hDKoL']], 'i9n3J': 10, 'IhZ9QCG': 11, 'xeFqdq6': ['6p01PBI'], 'niExPVS': 81, 'IaNNoJL': 'Qg38mWxWs', '2jF3o': '4d2tH7'}, {}, {'7rlFAF4': 21, 'HsW803nst': [['ntNyiYQD', 'wwdPhb', '0cRAVf', 69, 28.111603815173027], 88, 'RHwKFGmfGfqngCZKVBo0m'], '9IX0VfWzv': 'pVcozLOG', 'RYRPZNDMd': 'fyy9g2xau5nHGbn9UGAcF3CNo4Kp', 'hLwS5R6Xkc': 81.75305396741412, 'l76l2TNmDn': 'kNwgpLtyJZkfdzeQ5Dur0RVV7OnpOKT8BZyfq3FAOV', 'pqiRQ88': 43.860024708099175, 'sidi2I': [58, 47]}, {'yU8atqz': '3pQeB', 'EWvT6NKMA': 'po0vri2PiMdviTGSEsL3W', 'PebAgOLs9F': 'ZTP7AFirOERFh7qGvk7xBcB7HtvVpr', 'VEpsvYb': 23.724578331712365, 'vJxezLmlqY': 'l8gDso4w3vEiObzk8tkCFlD2jHyoZqCPy8pVzblwY', 'dWRKCW': 'XoG3BSU8TOjOQi5tnCvI9ukU0uvn5eMK', 'F47ng': 98.5782809362234, 'IQSyBE': ['4vX5SxfGr', 'sUnqMPKwz'], 'XJw6XRVMG8': 22.27771225415599, 'BtjIPHWyt': 'cMuBLLAVi8ZnwOhDwDuQmfiGS4u', 'qksFwDN': [[[['YIn0Uj9ai0Fmau7zS46RQSi3UF2BFRDL7NZoNC9EZw5'], 'osn7s8xozJMfDiIZ1ZE3lix0HOea', 'IjuM2RetPaL2Gj80WuxTSVhETNqu', 34.320843675788524, 'scgvbiPa'], 86.94158432451566], 'jzqMlLpoaP'], 'SnWg5Jz5z': 58, 'kimBx': ['8J86eDWV0KihRppaI5j5lYUeZ17WJF4SxF1BeBbjj1vOWvRZsE', 100], 'YmvRSxKZ': 41.39351594141697, '18ZGaHNQR': 'JEhZGf7Q1', 'erkj7Uukn': 'Zul0t3SHy993vd8LdECuuIZoTWdsF9u', 'TIY2GPSB': 68.33204516658124, 'cHhm0xzyG7': 'NoxUdjoTY', 'AXvi0z': 'mKgmMEnZGb8QQvJRi83ryuw', 'hkNAidViy9': 7.566967158613835, 'uCSt4': 'ndEWqeLO', 'yfD8tIhlwM': 'qGlmVSGI', 't6hGcM8Yi': ['YU17kvibuKO28K8cqKddXEhGMvzQnu', 64, ['HY3KmrEkib', 'kRgixYD'], 'NU9CHyBXelFljvq4SfOjOX', 'IF9a51DkT3ldAQ7RZSLEJbEkiaBgj'], 'lmxBdgGe': '7qZ8f2AOa', 'SxSF2GPj': 'fKwvE4m9gn', 'aEoISKTR09': [['GX6fSkCh', [['7WcUvARRdg9v5wCilW0uLYp3wZUp', ['iYd8hDG', ['lgs3U', 'HmVBzn9', 46.5878520027512, '5iwBQ0F'], 72], 'kxkYuUEhwRA1rIXnKauHU8Z9AgRFaOQ', 52, 'vp0BxXzU5DYCWNft4SP6jAxkZP2vdHU2OIevw'], [66, 'zIjkIbIHi', [21.604671820005827], 'e7p4ZDiE', 53.66236777098013], 'lEnP5O8v8PQjs626sFlp42huAAcZmjzZhXV0ujI1IHBwVh8', ['9A12qLpgwd8hWZ7XjW4hQOE7iSqugYQ'], 'EMpuhPoa37Dhve5nHNqzcRPW8Q9a2pKhVAGB5tGls'], 'xRVYcRlkdAIs2w7EImpP07PT7EdIJ1JIoxZ54UY', 33, 'mY6TDn']], 'xwtGoOdxM': 'drgvQwT', 'eHBzO': [79.0663289467976, 77.15020641941618, 51], 'nmRkDnl': 76.1607494014363}, {'mGGiWm': 50, 'NppSKW1g': 94.61651356445041, '4MuBDL': 14.662825583471307, 'f1dJ9NMK': 82, '1WB5kzyS': [['zYQo9Mh7Ku', 17.341384082931754], 42.63413552318923, 18], 'GMTQG': 'tR7HUb8jEHOiRLRxCfBuKn7lGzg', 'lmvhiZWJT5': 'pAjfKQt', 'GErtxG': 76, 'r0urgCTn9': 2, 'f6x5SF7mO': 'rDSSZGDrDA', 'pynuMQ': 'W6ROcYDnsI4Jr0FlqzP5D', 'L5mXZb': [['7gMAvmXUUxdIIaLqJYExrgfvPpAhUkDwx0fDkrPPU', ['lH7rzsYt', 'iNItVJ2DbBtAZv8pFb50oBtQK7Ts', 'HwcL7IPrKOzAbJUagAHtLhgdS5yUwxc']]], 'rJVhrTe': 'HuDqliT3TZPOVK08O2Lbjn9UQCvCR54qbiRCFKNFgjp9', 'RjlgSub': [75, 'mr3KhOSfLNU2MhWuR8C2aMef79A'], 'llDDRP': 91.08702121906236, 'Unt7jgP2RT': 45.96452388897717, 'L7W0oE61': 'l26udWLA8pScEANQCAkAHUaE', 'FB1aKPiQVf': 37, 'IpbTK': ['MvysJ'], 'VSzZ9K2R': ['p6WMkfPDY4zjFYh892AlzfxpL', 6.333044559425593, 'aEInDQ3', 33.58609571726012], 'I5PsuBlrGq': 'Gn4e1vbV', 'oGdlfYE5b': [81.70070941344868, 'jTC2EXWGPoA5DVP7HFNdU9SP5i2PjHA1', 62.921667242467, 'VIoS3jt', 'DT8UC'], 'Lz77OqMuk': ['GYTixSJo3C3LkxjhlbmQ2c1ldcyUKF4GfjuAUSRfrzy', [97, 'N8ltn7dDpxVEAc747lqNAAWT1R84gVbbHbZwAKcv7e7pr'], [[46, 'kCrBGmNqJRPlkiS7Eqi0mOAiTOf0UC4Rcow', [49, 'ZQgPA7hMsoc0clOXUSjFlVa3lkNig', 'UZW92Hyve'], 32, 34.557334455212604], [64.37916224690184, 'cPNLca5', 'Lb40DMGGPfaPz9c8a7vT0YIAgkJTWSd', 70.06947915792293, [[18.81617191448697], ['C1CGoOCwsE', 67.31490100463927, ['f71vQx6TpBRYbeAITg5zy2hjWBiIXScy', 'V02X0DmBOpnp7whxlH2zbB7VP6'], 'dkFJ2BAdvNnMcCS4uIdliNjPxsnuRgSnXEv2DrH', 'dSI4ylj9DoopgRlc7fBhxQQSntA7']]], 66, 87.19942159148229, 23.280768055403623], 56, ['Jmzvw', [['mMDb0SgZrbe39MqA8x5vXSc2dgi0zp4guKjLRLXnLON5aH6MIp'], ['8QT3UPFuqOXAmkZc68gsMy2oi8Mj8eJ6', [87, 'g9kWEDdg9UxXsl7UmzBZxQ5qzEaeWPeWwNREg0Ufg', ['1GbIv8LGixflqhQDgxtXmGrlMhikTbnn1k4eZOcrbM4'], 'yqsoNTWmNH', [59, 13, [80], 35]]]], 12.246882898268074, 'fQmZvRQ9cl2IaAh97T48el']], 'idD5lv5X69': 39, 'fgEMOIz': 95.67346629349937, '1peiVUtf8': 87}, {'29M4Jnb': ['GHvr5v4KxfdIA7iBdpNIJm9czry0OKMFFOEU5fLWG'], 'NSCJt': 'aOzYohaOYjm9axBHOO9v', 'xj6IBFmQID': 'dMpgfVF73eCrFOeGYjDo7BhEXMuOks9mh4WScjX11gSLdRJVk', 'EzEuDvK4pp': 81.02325061351273, '86pHlKi': 67, 'z1pGf': ['3P9kyS5nXH'], 'yMBGTCON': [68.23960511985428, 78.8451848080668], 'Ej3JARs6h': [42, 'CAF28BBzs', 22], 'AHafIxMEEX': [16, 5.073851928380346, 64.34406546512184], 'RF0NF3mLBZ': [98, [[0.3555205957332275, ['A1dbT5PlAe'], 'CMAn32h7WOmXqOGEybhA0xyxRViUCYDZZTyy7HHjvYJsW2', 'IJDJ9E8e0'], 100, 'vYKyJnJGN6fbaa5Awx0lAVDVkrrRY6xEJYvgBRyfWTafBKSyW', 'WulRXXmUYXZtFa9JDltTvZMoqGylHWP7uJ4', ['awAzMGencUO6f1ARzkuOlcpR7IOKcXOpRwD', [42, [77.51594360857514, 21]]]], ['JVkIs5Qg2bEWOHPLEJQ2UrIBaQN0p']], '5QV4b': 55, 'iOfrzjf': 'JcLjT2MVX', 'zWPS2I': 'V8qnciV', 'vfQ54rU33j': 94, 'cBKeYJB9xJ': [['qE949eyTP', 'ovKNo5ZrAe67EJDYGAUjRc1Y2wYMJcqCca3qH4QcKUf', 'OP16CfYpX'], 88.97924275110557], 'kOE7Vht7k': 39, 'f5H6b': 80.2045209463424, 'Z7YU8h': 'XSBPqbL9ucpzreZLfYFEAXrP6', 'dQVCaP': [86, 62.43479568263298, 'CJoxdzHACIgghpOF0cGVNV4OMIHYmASsq', 74, [25, [35, '22oztiw', 42], 50.33106066634997, 'zxBriDrrW']], 'wDLHc': 26, 'f0JTLsaIQ': [93.6842084629889, 36.34786440146948, 'd89gL0Ji'], 'rZUMPH': 'oqT9ETuaJ', 'SPEB7EoWwW': 94, 'KgtiYZp': 90.59491840146497, '5xnkmtiVzY': 89, '35KTa8Nz': 'sNciCMWBYraIuMYNPnAxCYEL', 'MQTw0Ld': '9NK8lxKIe1UX80jqQ8fcmnUcOummfSeFTw16gZhzIIRjpDokLM', 'gRm66X': 'lVCPieuY5', 'KNoPz9ara': 9.706378991786401, 'DUcn3Sx22O': 26.2312022424815}, {'FO9mmf': 58, 'GyPCjgubSC': 96, 'cG1YJBYWai': 'do1dbJn7xDJqgJnJqlhEd1Mkjir2n9mJpoh66RhXVd7', 'd49Pvy': 'p4HZi'}, {'q0rTtAl5y': [[39, 'JHNl2Xu', [12, ['ik9So', 2, 22.662359786849816, [['XiVwQNk', 13]], [14.10278248223914, 'zjIo9737Zl', ['epMUG4A', 'sLsNw8LU0ylJk3OMyWX9QyXjfly62tJzuQ5C2epWgc86', [[65, 'g0XLQoPtm1FyUFbdA7zBCWt1RMycmOhHR9PozAB'], 99, 13.476988128638467, 'ZliCUyi6s4HYHi9eVi0hqvlUg9Hkr3tlbZklXS5A', 54.706986038911474], 'om2BJt0'], 'by7hENo', 'GxRoTKmCk']], 'S6SS5NvYu', 'vVYey6mLsgh7iJcwD9d4gvcnAp4MJwzX', [['2Hg3LhaASKaAd7u2zq3o7EHlNJc63MyrplHcu1uvO'], [14.84298219351884, 83.4253691507806], 17, 86]]], 'DqH1hKn8XJUmNgcWUM4xYKj7Ft5'], 'Dad8thnXV': '6dtavFSXsMzCpbvDFWDmvnvpr40MemHnPhVMw', 'ImjRZy': 'D3b6FUp3H8cswv9wykT9ZfrTJ9rcqkID', '4uTXotR': 'soWIINXkrFf9yCOmKOSRyOXCbRA3jCoddUhO43fqh0uNg7fY1', 'ZaxCwxrwdn': 'GVMkq5I9Yf', 'M77AKhMAa': 27.565316529295437}, {'LMP08wgQ': 54.06479473770801, 'Xl0168B48P': [['uCYV9q712bzud3SddJO3Uk4f7ISjJz', 82.77118374971349, 66], 'vnDcK5JKX5oGqRopmtVrDZU43Bd', 60], '2XAfXC': 26, 'xmom2kkmQ5': 'OyArCEd', 'qYHjy5D6T': 'uiK2Y1ioHiRjzAavTPUb3', 'qZJcXfQ': 48, 'bDZT78Y': 'xxwXvsti5mGqudVBCdtG5', '3jm8vhXH': 'HVGX7PUWILLWrSud06YZYRFl3TDEkb98', 'zIxWe': 'QGAddgeE', 'RKnKovKI': 71, 'wH8cZjw9GE': 'uUfDsQYrvQ', 'Gds4e349md': 'iQTwB', 'TaKg5peN': 'GItNghez', 'ob4nKHQ': 'puhrShfcNUj0iJUGzgyTnZ', 'odx76nglM': 55.085475099100414, 'QKwDdWaL': 'hhIMTn', 'juH3x3sZb': 'GnT6IBw7b', 'hnpzYPA3c': [58, 79.93336682811861, 86.40702490781584, 'CtxCG', 98], 'xweE45': ['7zil9j4rFfrKBv9UStdezjWExmSscnVrqMZHVXE', 61, 'PSmt0b'], 'vbuq1H0yII': 44.98057896240972, '9B0bGQR': 'TlialrkA', 'P00rCQL': 'W95yhHF', 'bkEvBP7': 24, '9yZkC': 53, 'e0vnew9cu': 'ZPEnl', 'GlkfWD': 87}, {'cOqqRtzuk': 23.152310645996586, 'qAIpJ': 'k6486NJB', 'mciIOyvz': 88.89066540625329, 'FmLj1z2ckO': 42, 'Yiww9KAj': 'ZMyEMnul33nfFOFtJqpxCvQk', '2T7Qq': 'xtp4Zck6lo', 'vJmid': 21.875852172676737, 'cvNZXLYLo': [['CqJ7vptSxSFk6uNgu5OymGLjC', ['EdEoAWh', [43], '1fyg39xL', '3EIPuwIxmC', 33.78015245550916], ['ulP5RNfME3l5fIc2PsYsPKrmw9BxQ', 'w1d9i7BcbwiunDqN1nBjZEmy60BQnaMt7tItNIj3kLD', 73.147966026669, 'eHG1ViqzjZvEWnWhqVPUi'], 'f0DDqEcGNe', 60.47609443673419], ['nlUBIkpQ', 49.40618536266786, 82.24851328716579], [[[43, 21.407757333265785, 13]], 'h34L9sL8yCKIsbZT8YEJiJQVhISA3YEyBuY2bl8D4dN', 'Ko1yH44'], 's5tId8RzGO6w1fFc5C2FET', [88.70588850291561, ['Kk9SSBNpmKWqoU9tHHAW1F1MgwErcM65zSQMXJphjQcoe', 23.46745568214739, 'kS1JVB3PvUyZYqGxsJTWe2vmK56ssnJUHUat5irl'], 'OVrSDSBsEHMuHBUoEB7nzQNkqWzX5']], 'Qj8nZ0': [42, 27], 'O4q6W0P': 70.85506131991698, 'YoEX0LQp': 23.776433599202306, 'zTIsKrt8u': 'WL62x0qmr4EaP1t5l8C0', 'm1oylO': ['AyWjSolm8N', 'yqpDLeyVhX', [['TEHVIp', 'CWxGI3pXt4UpCbptjQ8i8e71L3gkGv', 3.2099764548796483], 'd6zyEl', ['leSPXl2rlJcbQu7IlXFBnmk4maquh']], [[[98, [['Hl4pN', 't01TrlMsjz1RjZq8FuP1YJMkjnJle5rG98evi', '1XL6eKLC640EHfcNGBkXd7xIGVKzeVcyqwd', 'l1e1Iq8', 5], 'aQlzB', 'IOiW9A7plgod9TbAAZkFx1HyM0DVODo2dSl3H9iUF7', [[53, '2aKncZIu6pLkV4giq1BrcmzFf8AiVCiHR']], 'h0zz1lho'], 'mTKwCWZB2ps5YNThUsJiG5tOEAvwb1l'], [63, 'nl0hxlhb67Y0C0D5EEuckTUQwSFfn', 'kcWEWm9aM'], 95.25142767818708], 7, [21, 44.83841021861292], 0.04785595046894464]]}, {'9fqmR': 21.927138181236884, 'vvwg5Jeq': [45.70343835544687, 'ewlM527k', 91.82810513329767], 'jpUQfbi': 'ZeiF8fuP', 'pMTBrhgyFx': '9O7OVR9EaIiFRZUprspzSONwc', 'XOXsp': [[96, 55, [64, 'odEN2DfaMxep4AdiMPTeMpqDNPUGamn', 82.04566574257554, 'RxFZn', 57], 47, 97.21753032702503], 'esxXTx'], 'jSXmWJHRzc': ['fUOTSHsM5IlWu57G4UU47jKYbuMxJaZrtloN1ATEZnZPFYJT3', 'ciGh7VbdG6aCe9Vy3QcsJB4kyNW47LItPhPRY4w0UNJE', 97.14888854832968, 'XyMwTFQaZy', 'Du7UemEi'], 'rwX8sku4kD': 17, 'JlB9cjr': 41.86120850825782, 'bqchkg7': ['AdOhaMYadv', 35, 95.70164187388676, 66], 'GV59M': 98, 'WzHXBJ': 'o4NTPzhzf1wKXkNdAVcZcfcOunr4ExgF2HLM', 'GZ3WI': 51.05427242380972, 'UYgvCLXmBA': [[54.878116842270074, 95.20111194583134, ['sIL4Na050'], 23]], 'U5MaJm4wx': 'wP8ixSXDqjhimzFVleWATYGmC2r4Cq4lrVp', 'YhhyP': 'YigyAwat'}, {'FcMuEagSG': ['DlPtl', '7M4Xoop', 11, 'kWeWXX4BLvQNqdL3As5M9OSn', 44], 'gq5K4yR6': 'PIHnZxV', 'BN6Z8': '6N98U', 'vM1t88Pfz9': ['HSBtwJnlEtdkrkccC2GJQcHaKOH3Y', 'O828y', 59, '8WdIh', 'QzU1HNUmUakoX68rsBiuMYVUGFEOgQZ5f7vFqiXbBXe'], 'YMpMQ8fyxE': 'vpDvXZlx0IkRquTOi3k4GAoA5WotuJn5S8wQ1', 'qUlKZ': 71, '70Qoyj6': 15.411811946468013, 'kwRqAdbkfw': 60.030720534968864, 'TkRaXVvpgV': 45, 'Pr4Tf': ['YsSftH0vo'], 'rZ1J3uy': 48, 'oEGIEH6D': [60.44370007685572, 82, ['8BgFlTM4TQIK0EkKNtLhCsOsWr0I7ZdBosDJ'], 'PLt3t', 89], '7zmjY': 94, 'ANMyrkt': 'APHPq8neH', 'OiLLzsv': 53.48289610269295, 'Scun6O0xzb': [47, 53.24120892099565]}, {'q767G': 'u8hNwKAvOF', '89lc5N': ['dWSlGJWmD'], 'uQgbFF4': [40.56491923038704, 49.40976963269471], '9lMTC': 79, '6OnijX': 'Ws9xufbamfS6Szth2T0bJnkeQBebzOK5YE0MtwV41'}, {'vyhqOJeU1': 46.76219262788636, 'C26tCn7j': [12.182280300140702, 'Gde55Bo0GWFgAMMu01DLNlxxsiGWqqIwYeMw', 58, 'M4d34hUx3DnhnDEcuJlvn772t3lWc'], 'mZxZTPl': 2.250630341264692, 'NN7SkG': 75.14835987567604, 'PY2KN1ClI': 3.1217057223324574, 'ck4GmuOr': [26], 'qoTNIUpRWS': 'JVO89ZpeC', 'suEGt': 57.51133884463548, 'XzZBqo': 41.29216625687637, 'TIbEORzg': 'X43pO4hVKZtC2fsbxsu0A8KitkKfmzVeyBS', 'HkC11rQnd': '8alPHo', 't1vRcssCSU': 74.88208424922382, 'Rbo0RuA': [95.23842735459166, [19, 84, 85, 'Kx1xD2Mnx0dmVY3CyobwabKJ4v2V'], 32.46905599223253, 89.50832486207251, ['74vIEKCaMPYgIhk84CL7QunmfKc4WUAqFMcWWpW973m4lJr', 76, 'hFQPwtxFovjpzBb4CjJDOjY4ZO5x0GxHU3Xlup']], 'zPpQP': 'cMCp27FOs', 'mEXwf': 68, 'sNq5Xpbi': [37.594452248542744], 'Z0gZkD9ubp': 'ppSCMd', 'tL1Dz': 'cso1TVSyjXRsaHJhhWNJfUb29U5VjO', 'CA78706u': ['vQAzF', 54.650667204777015, 25, 49], 'PcvVUhT': 84, 'XWoaj': 'Ecib68fI6B', 'GOmet7WEic': '3FA1OM5YlsN1YxY7R3EmUpAxt0pmk3', 'sWQEjPU3xd': 42, '400zPIf': 'tQCiuhrft1gRGXoldGUXduX52rWfu9E', '5OjzJIIO5T': [42, ['kGLqjzGhKyIaeG08GKSKA5iMNXEgV', 'L0YyzCnoCEvr5S9WTdKz0k1PV7XfvhrcY7txE0ce2BKeLrRX6F'], 16.232496284155495, 'UiW36ygml6c8uvEgYNxfq2kpYBGhCDYgJUrreI4N3YHll9hG'], '69IspRM3Y': 49.411272512126594, 'yf89j3p': 'F1tKd3dRVlPijxudAn0aRhdUkaNjMpUjRSqWpB1kvSjK', 'IG76Q': 30}, {'YlAn1o': 72, '1mPt0LVOE': '8MQ8zmAB6GApXsflrW78fmhf9hitNxuRqQK1X9pW', 'zcMOcT5': 'q7hfUipyOk4aMbwAUt2fslCn'}, {'cvGmIM5VH': 'Vn9CjPCLru', 'Xkt40qW': 97, '4FFbJlMo': [84.6454301369497, [2.357308428636351, 45], 40.27214831741942, 'wUyHdsOSB6ftjuMdtwoMwdABfq', '4g4tfPOI06yDfBZns4bHihRZ4aLiI9mIkp7JBaMjW1HZplR3'], 'h1IrRJRF': 'urpK0', 'zPQjI2Y': '7wdIyX', '3s9wuA6vg': 'VsqunrZXR0XArLmYT9Yts1C0dAft1txKrLwyi1N4iZoqdKJsa', 'iV4VGAX': 'e5gwJnqaoXctoVqxSbGPtlcWRY0iS9Od6', 'tTN7odwK': 13.89315764504615, 'H8qy5m': 53, 'znrKDkjL6': 'E4ouS', 'GSnXAqStQV': ['aWpvNMmY', '97NAU', 'pZHI3zkBWuaMOK82RgTcwzH5cpb1hW1407tW9f3N', 77.91173904342583, [8.149195767583329, 63.324938702188994, [[39, 20], [['HCjAduU6', 'TRBd6jqLP3', 'J4B0hf1K6'], 91], 'TSTb1hK', ['l8yHsdtojMLeXUrRC0ghi165UdfdxrtWAJP96XQUVd274E348', 'Qc96pqf', 48, 88, 'et3b2BJnrQuLo2s52rXF0eAI9RFCuWs91y4sIK98anfRBMibR'], 'Dj1UhyOwJohz1Vqi5UPd8'], [45.39104938268308, 'NyL3I4da', 'uG36PA', ['zEG1n2WiGcxRf6SoCzify2G29qMP', [[29.465839945750393, '53AR2Ic', [['lNXzmGTHVXUT0flttW9yv7yu0qTJmLjCimpUS', 88.16862166890445, '0XESkZv', 'CPQES0YTmeU71IalPBdSa2'], 'CgR6A486WDARatbUqwM8yE19itob9l9f8DSlobv1t7', 'iOvikpDw5nAKZ5OqqZ9ZqFaZiOi9YGWcz3bW4OdrGUVGKeg8i', 'CgY0plHIy8nDJMuOClHVhr4hoVaro'], '8pHks5a3iUHOxOGvWUkMF', 39.90329969347245], [['ZtsbzIb', 12.312670567466677], 'EgMNECjqM', 22.665787103919143], 'YdZoshyVySrgm5WELxNCsm5K21t', '7tBTO5qptQ2FsHaIuZE1zrB7j6kNFPevzEC1UKYf99FT1SKt'], 26], 75.63135178978354]]], 'AH6fy7': 51.21421439941941, 'hFAPB': '3CCPQ8AfXxublfiuK1pDy9B1Qwkzw', 'yoLrBHBN': 'ZCxKmUk99c19Dc8ydi818zfRG5F6gxVu3eNlebqCTtQR4c3o6h', 'AlWFIBe': 9, 'IgVRS0': 'c8H5YG44C4', 'gd7SbMk': 'RkUtuF', 'BNnQxIBnJ8': 72.74435811900217, 'oKEkPT': ['1jFBBw'], 'WY2zmMvh': [87.18794836156222], 'vEnNCCuD': 'ddGyXVasjuBvhNMdP0BnU4KVQ2VjI5coBv7K7JiV4GyhFrti3k', '4QJlPzUJ': 92.9185257443328, 'tbSaQBN': 28, 'bF7N8': '6IRaH2', 'o6nfJ': 'wk15N', '5Qt3v7GWv': 96.97808119200143, '3JeIcH8F': 73.32608952458136, 'yjXm1XnN': 'kscIhzf'}, {'bfherX7VQv': ['jc6Y2xdu']}, {'CrBVs07eL': 'euqnSE', 'cT4Nfx': [90], '0E7EKO7w2i': ['ZCejyBK2shbSMCGYnMXu', 'nr9ZC3rd3IIfF2y20Wz17o7WwVFgdLfj31aO1aIqSAgV'], '3Ucem': 'VbPcUMFSatJA91kX9KAAeI5lNnUOMkjYTKHJ2fGz0nRh1qxvT', '83eEcvq': 'qREjE', '5frWx': 'BnXOBcxA', 'NiXKK4T': [76.18871243045174, 'Ja3hun7uLC'], 'RT78vM90W3': 92.89394807431513, 'bWLzV': 'sLzz7vZTAr8zj1JtilsMb2d5j0rs7OMzugGs9Ao', 'CwCo1K': 17.034319132545804, 'CkutnR': 95, 'xnWJhO': 91.54689990088598, '0CWDhr': ['WOHkrlobl', 'q4kr06B8xYOGnBsAcgjA8kXqXKoCeNeXZZJptjYXVkDz2eevKJ', 'LAmy4PwDHR7krJTpA3NM5GQEDRT4G3oMN5Bs76Mq4uY', 'p2zBNMN54QGsSTuVjFBo7rYY0'], '7x7jZEs': 'sQkl2lRl', 'BU92P': 'sS1FRsL29E', '9fjzL': 'c0v6soHzpoNTf2UvOX6H5Qk5YNO45N', 'WDSlECX': '3BJIYluMp', 'dDOwdX7anP': 'Jz5QaAgq4eyGAD0WV3VIRlRa2TIwkXsdyiuiSMstOH8Vzgu', 'CYhXBcZb': 'nVJQnDK5ptc2pzTfRvlw6A', 'SxcvwX': 1, 'rHKLg1J': [[[[5, 60.92114192460741], 62], 'aMYFaYJddKOHdVMLY2pbc1asdNTLqN3EzBGUh', ['Du5VmNbBEWNReJAhZpkcLBW', 53, [[67], 'ofa9YDV', ['KxjYyQYe'], 9, '2lZAss'], '4UYv0VOHz', 'H03zt297vXXk474Sh6fijUAzHquzUjnfs7']], 'vdYbxNOSKV581tKSqBIZkSslWEfvuLiLpNgpoP0GE'], '2xMA0eHzj': 'C3wsvp', 'H2oeu1W5': 'YkXZtYoCl', 'kKnAl': 'kUuoLLlJ', 'nxVIvLZD': 92.57481475124662, 'qjfZm': 9.46033748799091, 'S1rojRBp': 63, '3h5Dqav': '99ggNf'}, {'4v0rRYYIqN': 25}, {}, {'x3ZrgGCeBq': [['dhnbXiCsBHNM1NXpjjxAOTeVAYs1o5kqN443uKlpoyTdzNx', 'Zw1a5Wl79JNwP5LzJiPPDhsH'], 'l0ixCw2', '6ZAVePWIrzyqedUXu2c9'], 'YcT2OT9w': 54, 'KcJrns': 'nQJdhwx', 'MiSQL': 23, 'pHutXLieJO': [52.59514785087202, 'K0hYanoXx'], 'JCYad6CK1': 98.80349913598637, 'GZSfCU': 74, '4DmqvF15U3': 40.39050017298038, 'iAw7VGL3S': 89.87965749435412, 'oEuuAXPMRL': [73.80621263302253, [50, 2.4537554979611853, 'Q1hKWq01QKPkoPQZacNVMZEQh3ecPfjRFvgCRRqUi1x', '3aoYY2Fnvg3gV0g0GxEc28qZwXHNTihBO1hEbRb', ['zxTmX1']]]}, {'QyJnqfK2': [[4, [71], 48.94196565280434, 52], 'k6GmUg'], 'LnTmD8re': 'mfC3zEhNG2vO1PpFctEabAgDe9XblyfrlwwKXMQa', 'RqKL8': 'YJ5kk0S871', 'SFp2P': ['DniUpKW', [76.11957742429807, 33], ['CPKFZJnwOMP1wxfEGHiKzLlTjakQ5cvjhc8K5', 'xLP9XztEtURNk1saANz68TP1UO1cXtJt1kqXmqu87Q'], 96], 'kdDOaAB5VD': 'Zxa0JTAvNk', 'OWXNioJA': 'g2OjltRMOF', 'Gj6iDlL': 'BgTX00bsPjkiyG1qvp6TiQRxYxlT', 'L5w4hW': 17, 'GzZj1sh': 'rUozfqEqIx7daZ9NjB97XPlr1fnIzjIUivyG3P13', 'Ywdcd': 'd5ai8rrJoVvSeEDl7JxNKiKTskKCJCyFkIgkSpXUeIfEFbi6j', '5urok': 'mkTq7a', '93aadYpKP': 'PQFcb6vCF45L5tsXOkg39uAq8ugrEB', 'KxaiORnY': '5pVEVY'}, {'1j5Vpr': 'Xs8nZzxt', 'YFvlP2UPe': ['qytwuXJl1ojwWmay5HJOA58t4QxAGNv4c'], 'fUGjm90kf': [[[44.72357752690436]], 'zGOueTKtaFuRGb1dBm632vir4FzvdSsSI2h3EIW', ['ikt489kjJALcIjsjPto7cb2AjH5uOLD0RPOa5ZNK', '3uxovwIE8jWFLaIs210bsi4IdCpNCGvJhDGjcvit', 'X8AG7', 2.6846456524915685], 'JElLWlMKN'], 'sRklGS6': [[['qIoafoHjX75kIkbC2ZUcBngEzy01cAAITaZae', 'eTxGJo', 67, [76.57238469433713, 'aXjvkxlFlRf22g9HemvIBhGx2sPs91g0TKHpW9oqRr', 97, 95.99965165714865, ['WlCT7m4j', 'VQQaw']]], [70, 21], [37, 48.61131361440781], 57.67264070951813, 'pjAWyPitl4tIa8QRS3UCV1O1J9NMHBbMmN5E25pAiQ0Fc'], 29.04115140665461, 17.587656224172854, 33, 'liyg3EmDoBwFeCJfotSC7DddRTcaGkk1Olxv'], 'yPqxG': 'RC6XbOpj', 'DnWsYwL': 'JpVXyABIzxkwFDdo1wHdU9J7VP5n1q0gmBfLo', '5tccki52': [85, 73, 74.02458866602517, 'Ris5TvwyGWGYxXKG1Jnv5UWlBu2B0nf7sg', 63.581249470075974], '5eq4B': 'SDZrADqsZK', 'raxH5': 'XlASOWr0fnxV7Lpw19hTURLyrcPyphoUeoMBf3v2', 'qyDjQSgJtK': 5, 'iFDNCjbB2Y': 'mgZIQ', 'zmx42StfJG': 'NUvLIDAsj6', 'PLOqn': [45.29314836493842], 'jZ0Nn8dZI': 'PC8EKT7zyNdQQ9mvHV8e2f2eyhBMQ0ElFUTGS6mhS32KpUy', 'XkHbm': 'ovw0yBszib', 'e1crRVp': 63, 'Ppz6Rpk': 'D69c4ALnI4PFHWkHiJh7Y2Bo2U1duOwz4M41AgAHPU'}, {'nalqVQFq': 36.939435897053954, 'qcNw0eLn': [41.1763260945996, 'EwftrjQeg1VqJeWEKvJ5JwRok9uUHjbWgOd2s4e', '8qRIPzOGWZUFkPSIemVOkbAOdXwvD', 'gljguw4zmFburFCJoTbs6AGQO840cYaOMwW'], 'PHn2e': [31.3359344336141, 54.381587737161105], '2OT6E': 'SRvuNSbUcq', '24Ey8j1S4F': ['6PxZej', [7, 22, 27.4946229874242], 'omUp3k4hKAOkiHVRAIY8', 48], 'jz3UrC': 'rysHeXK0Dgo8QOcjlA4CAChHRxxoblyXyg9XBNVxjy5j', '3Y0Int': 78.37954374835758, 'VB7kUZ2e9L': 3.486561713505598, 'KUA7t': 'JPwwBq14Z0PkIkun35rp'}, {'Sm6wr': 'tBJXMY', 'SwP71s': 96.95165211251293, 'cqR8E': 60, 'zSNUHZO6': 16, 'ZpOofIVhSB': 'P4M0Resg1', '7yceD': 84, 'VlZ1tVMVA': '7I8s68I45c', 'RQFiz88Ed': [60.429288240739986, 49], 'rbuq8vRJu': ['wqWjoWOr28SadNOeaPLMqU', [[['9edW1NlfA1vSkAHvHSgKTq8PGRPaRYuKGmbHc8m', 11, 49.90243766791627, 'gyQjbhe1XqQv7dbOxNJCIyYK5hqZ1RzDgDzhI1GoQJ6Bx']]], 'kDfQxEiceMSqwGaivBEzWhRI5o7oITfJc0', 'rG8uaiw', 'johCm9AfacpTh6H93L8xg4Gm4UK'], '93Rpe': 60.97856069485508, '1B6TYvu': 44, 'hNSnLiZuHk': 42.14019592663748}, {'rUuxW': [[36, 65, 'iryW0Cem7Uxdr0OvNuBoRC2TfETe1unK3BdbFsVGnet1MF4V', 67.39922451050383], 70.43545157727429], 'uMgHjFec': [30, 74.53163393642274], 'Cilrm9bKc': ['hoZFdKWyu', [71, 'CIh2oKwtJAsAhKuS2FkZtqlwXBcEPrka2S4WMwz']], 'V8EqZYDyXu': 'sfjlWirc0d6pPwchrYqBgbVDuQSRsxJm6pa5ebPxa4V0uv', 'AgqaVeK6': 89, 'rxdkHUHm': 57.36235243966069, 'N2vPHhMA5v': 87, 'RLEHPrDl': 67.00261936458357, 'yXvqK': [81.05457111419133, 'JeKNpphjeJ6AHI6aEMhbzvZfLG3A6', 45, '51yvKmypltpv7LfQ5zaJNBFzYCUJKQRmZD8pb'], 'ExzSgJ': 'Qekz0P', 'XbOlvm': [88], 'eznZz': 18.03395658027259, 'MA8wUj0Rg': 'lTF4i'}, {'Wxvva': 4.524330113399532, 'A6YRUbaZ': 53.61521510147119, 'PV20NmDB': 7.154986285359222, 'divY59': 66.90755920615705, 'eUgYwBBR7j': 24.996275942672476, 'wiHiVI': 13, 'ZmypX': 77, 'bl17QBt3': [61, ['6A58Hn', 15], [21.063123334534517, [56], 'ablg2ODN7xyE9Wy9cPkVv0xU5gTJ', [[27.946954773915433, 96, 68, [['iIoPamz'], 'PHmCpB9Ituq2tb2OFgc0', 32.464939951814685, 'KGmuETobjyvdXjExmrK0D49RUoG1l90irKl5Bmjh'], 57], 65, '1tkVU2WcRfHWkEYJsfgcF3Hnm1', [[['5LyJDgm', 'RfLl4VrgAlZ3mFv3pO3kFG7nOfv', [8.264053741797362], 40, 55.72855934928024], 53]], 'QRlhZ']]], 'tX0pnwWnp': 37, '7tZ6zXTlQc': 'VwTuJL59UJbBE3rkIUdmKPd8t2OYiKAxroNFEEax', 'fWzDJv': 87.19528372763584, 'iu0KGKwVb': 70.7732382871418, 'diFvev4PG': 'sq2ST4HO', 'fZdOy2qkaF': 44, 'hPKn6': '4YvVdymEC', 'c1TNW1D': 'urx0SVl', '8mYaiigZ7K': 40.05657611164774, 'Czgf28vPr': 6.862465791303684, 'lXjRGdTZ': 'aRUSUbbq6EIdD0GAvrUHFKooDXoEJg', 'EICEgW': 96, 'JMYfyc3MmF': 43, 'XrGigyZhi': 69.30749117383232, 'WJEXa1s': 53.76235397938546}, {'d0x8BD94': 'rDMRjLcg', 'PSS2oYEL': 'entxwYt', 'u8M9kFPq': 65.0453947554543, 'QwzeqnpH': 'Y6z5wE1lxYvyKtILu2e2wpwOecmHCXrh7s7pqnbsNokmah3', '6jEZztuv': 'YyysnXrDfJnAWyDY1OspgXaQORZCooZkOFVsFF', 'qSkVNVaI': 78.83474134149245, 'uR58Ae20c': ['iPROE'], 'gyV97JbJ': 68, 'snbZY7': 'unH8o', '9gPq5y': 18.88062287924146, '8dJLbkA': 'zd83w', 'vr5Lpv6': 'Wgycbb0AQ9ZAX4d2E8ye', 'rgimdft': [71.31870964999489], 'czimYc1dPK': [59, 'HcylMF', '6pvG2y7P', [63, 'TRJv0', [87.17836864365448], 25.758554235921196, 'Mzy8pFKaRCypfMOyHlfzrf']], '2PsVPHPtb2': 'F02B0mrG5', 'dyMstt': 'uifqQOLyWayvqh5QNtB7uT1FPoV5h08bjZVyu4ql'}, {'3JHaNB': '0Ee0ZQjnu9iAo5RmISlmtqxFWrgL3zXZSG', 'kDJvG4Lkmt': [24, 'yBxLoj1fiQkSMQSwRcCWqH', 23.024425699802997, [30.824082985432334, '4NPnV1dL', 'fRS2avah0cynXSkYv4dQNWJZ6454giOy2Ppw', ['hxKIj', 'hzJZENr9f', 66.65783286443343, ['YIlzplP1hnD7sAOyVDT3q7mAkGHwIDibtX', ['EuPA1LfKjh', 'cXzu6z26cQ0jy8litjRja63K72ULfrrS7h41G1EwnLKco', [['q0G6Awj3LfdOgBSygiex093AWvSM2Wnm4nLkV5eeDHzO'], 81, 8.395481546610561], [92], 'nPPs1RbfRaOgMT9CLg6Zcl84BHexbCGoJBCm'], 13.510692503725984], 'msT9pWBFOHFAMCU1iUWLmxHaITo'], ['VxkDLls0ms', 'aBlkT6I7CnLwRouptP89LV6ZskAJ1RtY1xvq9eBgae8XbQBm']], 6], 'Ya1uM425FM': 'SGeDm', '3Y7LqH': 'L7fbX', 'tibEpVxe': 10, 'zmJAAO': 'XeyzfUM3U', 'z0UNon': 'cjD12h2Njbzcb78ALtwwLHsWJ22RdurClDbwihzhZUNrJW7TV6', 'tp7t10q': 'Vo27ms', 'xg5tvqs': 'lREy2', 'LHZJPFCYzt': '4AuR0GvEIb2cbgnr6Tf9s0t3UaKHEt', 'pWsjMqNY9': 1, 'NMfDiO': [15, 93.44475735479763, '9yvXc31LF', 'k26gyNzbCuY1ut9vyQclJEu6FtQri3wUNnfrzRr', [21, 88, 'NxdOHuJXjWhRihC36wKPujx']], 'If9xj8OK6': [[19.344830717111726, [[['Lc8WxilkHuD4FSszvgsG1'], 25.258772818068252, 17, 72, 87.6486511242641], 'R1jMCANChC', 'yYrLL7LoizWr17CL5JBLmY6TLYZRKAsGHqHlmxRGSn', 45, ['VxTBW6edq', 'iKZ8pzz3TneopTCuo4CM8MZFIH', 'gIFPZns3hztu8GjCkSH31isXYlPZG9U']], 21, [61, 29], 'lTRKM'], 14.935428226873205, 87.11025910506058, 'JLkvvjt4n'], '7K2Eq': 9, 'sfXcd': [6.809371240558349, ['phkOH2', 'tEuvOjEj2'], 80, 'cMPi75WKbb3Uw4ci79FSS2mkE69J2CoJfAKXKaO5NxDwTac', 'tC7JeoUiD75kaKFVOkF3pvbzAXW2wHul52gliWoonYoLq'], 'qeYNaglD': 53.171639304007925, '4UJUWyoyN': 93, 'FARI3lf': 59, 'HV7Xh': [42.150877020482305, 50.1919785706535, 'jHq6OuMWT5jWN8vue7fYyQzBM4TcNBiamWdDcvET', ['aNuSmQkIh1cOSe2DKrFrougFjpi70okcnkj5uxtITIQHT1', [57, [71, 76, 25], ['oSeC9YPJ2bgR3KmNctUwZWl54CMAXhughBQ8', 98, [2, 70, 59], 10.623911282287713], 'SrVuqW', [99, 10.08709357387687, 'EhTie3AjIKBczOxyzx8Lgfo']]], 'EjfrfM3cV7ctAlOK1XYQsabnICM8Xp1ioPpSbrxDOJ'], 'M6BQOX': [[21.259745217044458, '9OYCtLSeRg', 'leWbYmPy7LrhBwk3iPBPgh2Zn8vCtP3vRw2P9MGeb', ['qXl8JXcYnZ50IF1U931iZC']], ['OAS4zN', [['7UPR4xMz2QwvpKWjYPkPv0U2PJ', 'YIaQki'], ['RKvZJIErzi'], [[48.3368377040201, 'VbYRU0sTErSNbr3LBa2H2ZxMWD1zq1OqtGKQ', [76.1100399721617, 92, 'NcklfoNCZw1tglDPPLatMNH', 89.78251893047778], ['AOjpWOMYo', 'IlPwIx1jY', 94, 4], 'acJ4h'], 'eT1aID9wr'], [25.80009273941617, '6NtEwKbhxb']], ['vnrSUdEkA', 16, 'AAp1prT1XQvA16xHd8bkwgD6gqONgHiQZlPJBH1uVHs', 'qh0VT8CdwjpPo21mFRQV'], 28, '7TkOtixAC22UWt0ju4Pjyru5NxN']], 'thBqmx4LI': 'CARH09Kxna8KxUuDTCXlLhEm4hf4Ixlub9rGwLn0XpGMu', 'X5F2GS2': [19], '7UnoHyC': 'qH2BDLc'}, {'RZS6CY': 'HvLU1SGWzIBtpmNaiO72uPDPb59YZt', 'GFQdGn': 69.76851061113572, 'pgU1rBda': 47.00958408501832, '0USabTeED': 'w22GhuUpyA0kZ6VMlhjdKwfbSGV91UXBS2p3ZyMwrG2cy9jeC', 'FGEEWcsOf': 4.49674826730635, 'p1Dh0F': 'uoexxBitbR6mjn1v9uMVbMEB2I6AdodjwEqpsPwmKRNNZf5T', 'cTa4Xm': 'jX8y53r6s', 'UAhj2Cs15': ['2JyT9', [60], 40.926125516243125, 50], 'booxI5xkp': ['JVLeLth6gWCV1eS3E2mqR5y', 'jhPLb9Su'], 'lq7Lf': [81.14193664221227, 'Sr27mfwRfnjtEYGFFvgB9lMh5eto6TNkziHhsh1UR3Kx', 63, [75, 'KGYCa', ['SZO7xyXIj', 'fGMLAZVRt'], [['Ss8bMXI', 40, 38.63227378781284, ['sNn9S0zBF4d3SFRkeFV4yV']], 'KLjeH5', 28.74423920167768, 'cvpS3Px37MOIe334dZbQHSQ0JgIA1fs1', 81], ['XVpbhhbDy9Mg2y0MZcImAlAa', [99, 'Sexr2BbijPgN5eCAlGLRvl1XVh7yqhKIYT8', 1.1132823168921946, 'PUGnPdRL', [[32, 8.757158445325219], 93.2675749530577]], 96.07239236186375, [[76, 62, 'PakgsDQy1Zw11pJkbd99w45qgTdHHIhNic33AqoimRunQRPF', 'jfMJdTZP'], 'FvbVLA7DBvUwDPeMiCMio43tDPIIoVdbsREsmnsEn', 1, [60.93220670779269], '01qbb'], [7, 78.79786994694712, 95, [43, 'jyL5GLlPJ4u6QzUgexrChR0u3Pf7DEHkO'], 92.3159879320956]]], [37, 'Sv1auV2iW', '78Vc33Da1uT0jm92phfZJqKYzZDdkRPIQoSb5VXXz1ulJcN', 'SsvjrO']], 'U3PbqA': 'Lj6ts0qmGkAcB9ipnNlf', 'cd83c9': 89, 'ZIMYghL': '836sO1N', 'STpAhZwDx': ['oaFRZEeq73b8mlxpuZFlLFFNVfHuL8avYwookA38Fj', 87, 20, 48.1050123225807], 'rzjZUJ': [22, 'L7w0gnFF', '8PULSiz76ud5xM0rRtkXm3rferyeY8H8oFokSha', 71.80862607107571, '4CVU3HQsKntWBfy8J6OZrsS6UAi1ShwFNjJcNJvDqX'], 'dkZJyKn': 'xHk9g', 'KeomyYtAT8': 'rtwll', 'JwBikded': 'CSy7Qstz', 'WwhagkSZAZ': 82.4484917311279, '6W7RMQLV': 1.7035478911405222, '8jEkoj72W': 47.669126524939685, 'z31bFXwpt': 'SCQDgbwIwjTOkRphIhzP9NoMJN5I9es9hTZnEN5mOonKHM', '6XMoXF5U': 'lzebhMuTXLB9e0gbWemcHz'}, {'cw3Ip': ['w2wlIES'], '77VeV2': '66sZZzZRZXeeEweVaN2oifs3XhmNF41qFLO6gjIlDAxI4XJ4CF'}, {'5TmEDUJ': 'LLdZJi', 'cDz1rTh': 'gWt9CAuTuAltTZmkZyaB6cnYTfaGhJEdgl9fhna7GMMVnn9N4'}]\n"
     ]
    }
   ],
   "source": [
    "def generate_random_string(length):\n",
    "    # Define the pool of characters to choose from\n",
    "    characters = string.ascii_letters + string.digits  \n",
    "\n",
    "    # Generate a random string of given length\n",
    "    random_string = ''.join(random.choices(characters, k=length))\n",
    "    return random_string\n",
    "\n",
    "def generate_random_value():\n",
    "    value_type = random.choice(['long_string', 'short_string', 'float', 'int', 'list'])\n",
    "\n",
    "    if value_type == 'long_string':\n",
    "        return generate_random_string(random.randint(20, 50))\n",
    "    elif value_type == 'short_string':\n",
    "        return generate_random_string(random.randint(5, 10))\n",
    "    elif value_type == 'float':\n",
    "        return random.uniform(0.0, 100.0)\n",
    "    elif value_type == 'int':\n",
    "        return random.randint(1, 100)\n",
    "    elif value_type == 'list':\n",
    "        list_length = random.randint(1, 5)\n",
    "        return [generate_random_value() for _ in range(list_length)]\n",
    "\n",
    "def generate_random_dict(num_items):\n",
    "    random_dict = {}\n",
    "    for _ in range(num_items):\n",
    "        key = generate_random_string(random.randint(5, 10))\n",
    "        value = generate_random_value()\n",
    "        random_dict[key] = value\n",
    "    return random_dict\n",
    "\n",
    "kwargs = [generate_random_dict(random.randint(0, 30)) for _ in range(50)]\n",
    "\n",
    "print(kwargs)"
   ]
  },
  {
   "cell_type": "code",
   "execution_count": 14,
   "id": "1042a0b9",
   "metadata": {},
   "outputs": [
    {
     "name": "stdout",
     "output_type": "stream",
     "text": [
      "Cached function writes took 9.680100679397583 seconds\n",
      "Cached function reads took 2.423262357711792 seconds\n"
     ]
    }
   ],
   "source": [
    "# test write performance\n",
    "start_time = time.time()\n",
    "for kwarg in kwargs:\n",
    "    test_function_cached(**kwarg)\n",
    "end_time = time.time()\n",
    "print(f'Cached function writes took {end_time - start_time} seconds')\n",
    "\n",
    "# test read performance + save outputs\n",
    "outputs = []\n",
    "start_time2 = time.time()\n",
    "for kwarg in kwargs:\n",
    "    outputs.append(test_function_cached(**kwarg))\n",
    "end_time2 = time.time()\n",
    "print(f'Cached function reads took {end_time2 - start_time2} seconds')\n",
    "\n",
    "\n",
    "# test correctness\n",
    "for i, kwarg in enumerate(kwargs):\n",
    "    assert test_function(**kwarg) == outputs[i]\n",
    "\n",
    "\n"
   ]
  },
  {
   "cell_type": "code",
   "execution_count": 43,
   "id": "d7807c3a",
   "metadata": {},
   "outputs": [
    {
     "name": "stdout",
     "output_type": "stream",
     "text": [
      "Cached function writes (threaded) took 0.8201169967651367 seconds\n",
      "Cached function reads (threaded) took 0.22392773628234863 seconds\n"
     ]
    }
   ],
   "source": [
    "# threaded tests\n",
    "import threading \n",
    "\n",
    "@cache_wrapper\n",
    "def test_function_cached2(**kwargs):\n",
    "    kwargs_ = ','.join(f'{key}={value}' for key, value in kwargs.items())\n",
    "    random.randint(0, 5)\n",
    "    return hash(kwargs_)\n",
    "\n",
    "def run_function_in_thread(kwargs):\n",
    "    result = test_function_cached2(**kwargs)\n",
    "    \n",
    "start_time = time.time()\n",
    "# thread_results = []\n",
    "threads = []\n",
    "\n",
    "# Create a thread for each call to test_function_cached\n",
    "for kwarg in kwargs:\n",
    "    thread = threading.Thread(target=run_function_in_thread, args=(kwarg,))\n",
    "    threads.append(thread)\n",
    "    thread.start()\n",
    "\n",
    "# Wait for all threads to complete\n",
    "for thread in threads:\n",
    "    thread.join()\n",
    "\n",
    "end_time = time.time()\n",
    "\n",
    "print(f'Cached function writes (threaded) took {end_time - start_time} seconds')\n",
    "\n",
    "# test read performance + save outputs\n",
    "outputs = []\n",
    "start_time2 = time.time()\n",
    "threads = []\n",
    "\n",
    "# Create a thread for each call to test_function_cached\n",
    "for kwarg in kwargs:\n",
    "    thread = threading.Thread(target=run_function_in_thread, args=(kwarg,))\n",
    "    threads.append(thread)\n",
    "    thread.start()\n",
    "\n",
    "# Wait for all threads to complete\n",
    "for thread in threads:\n",
    "    thread.join()\n",
    "\n",
    "end_time2 = time.time()\n",
    "print(f'Cached function reads (threaded) took {end_time2 - start_time2} seconds')"
   ]
  },
  {
   "cell_type": "code",
   "execution_count": 47,
   "id": "616dfe43",
   "metadata": {},
   "outputs": [],
   "source": [
    "# check correctness threaded\n",
    "for kwarg in kwargs:\n",
    "    ref = test_function(**kwarg)\n",
    "    cached = test_function_cached(**kwarg)\n",
    "    assert ref == cached"
   ]
  },
  {
   "cell_type": "markdown",
   "id": "518616ae",
   "metadata": {},
   "source": [
    "### SQLite cache integration tests\n"
   ]
  },
  {
   "cell_type": "markdown",
   "id": "462c7a8b-bac2-4517-bc0f-4b8890dd15e0",
   "metadata": {},
   "source": [
    "###### Case 1: \n",
    "- Example doesn't exists in the cache and the experiment end timestamp is not set to the future\n",
    "- Expected:\n",
    "    - Runs into an exception since it affects reproducibility. The example is missing in that timerange and should not be computed."
   ]
  },
  {
   "cell_type": "code",
   "execution_count": 4,
   "id": "2284b6e7-df1d-4ee8-8042-bf0399c131af",
   "metadata": {
    "tags": []
   },
   "outputs": [
    {
     "ename": "Exception",
     "evalue": "Cache does not exist for the given experiment timerange of between 1970-01-01T05:30:00 and 2023-07-02T23:23:49.595134.",
     "output_type": "error",
     "traceback": [
      "\u001b[0;31m---------------------------------------------------------------------------\u001b[0m",
      "\u001b[0;31mException\u001b[0m                                 Traceback (most recent call last)",
      "Cell \u001b[0;32mIn[4], line 4\u001b[0m\n\u001b[1;32m      1\u001b[0m case1_cache_end_timerange \u001b[38;5;241m=\u001b[39m datetime\u001b[38;5;241m.\u001b[39mnow()\u001b[38;5;241m.\u001b[39mtimestamp()\n\u001b[1;32m      3\u001b[0m \u001b[38;5;28;01mwith\u001b[39;00m dsp\u001b[38;5;241m.\u001b[39msettings\u001b[38;5;241m.\u001b[39mcontext(lm\u001b[38;5;241m=\u001b[39mlm, experiment_end_timestamp\u001b[38;5;241m=\u001b[39mcase1_cache_end_timerange):\n\u001b[0;32m----> 4\u001b[0m     answer \u001b[38;5;241m=\u001b[39m \u001b[43mdsp\u001b[49m\u001b[38;5;241;43m.\u001b[39;49m\u001b[43msettings\u001b[49m\u001b[38;5;241;43m.\u001b[39;49m\u001b[43mlm\u001b[49m\u001b[38;5;241;43m.\u001b[39;49m\u001b[43mbasic_request\u001b[49m\u001b[43m(\u001b[49m\u001b[43mprompt\u001b[49m\u001b[38;5;241;43m=\u001b[39;49m\u001b[38;5;124;43m\"\u001b[39;49m\u001b[38;5;124;43mQ: At which year was synchronized swimming considered as a valid olympic sport?\u001b[39;49m\u001b[38;5;130;43;01m\\n\u001b[39;49;00m\u001b[38;5;124;43mA:\u001b[39;49m\u001b[38;5;124;43m\"\u001b[39;49m\u001b[43m)\u001b[49m\n\u001b[1;32m      5\u001b[0m     \u001b[38;5;28mprint\u001b[39m(answer)\n",
      "File \u001b[0;32m~/CS/Research/Stanford/research_2023/dsp/dsp/modules/gpt3.py:89\u001b[0m, in \u001b[0;36mGPT3.basic_request\u001b[0;34m(self, prompt, **kwargs)\u001b[0m\n\u001b[1;32m     87\u001b[0m     kwargs[\u001b[38;5;124m\"\u001b[39m\u001b[38;5;124mmessages\u001b[39m\u001b[38;5;124m\"\u001b[39m] \u001b[38;5;241m=\u001b[39m [{\u001b[38;5;124m\"\u001b[39m\u001b[38;5;124mrole\u001b[39m\u001b[38;5;124m\"\u001b[39m: \u001b[38;5;124m\"\u001b[39m\u001b[38;5;124muser\u001b[39m\u001b[38;5;124m\"\u001b[39m, \u001b[38;5;124m\"\u001b[39m\u001b[38;5;124mcontent\u001b[39m\u001b[38;5;124m\"\u001b[39m: prompt}]\n\u001b[1;32m     88\u001b[0m     kwargs \u001b[38;5;241m=\u001b[39m {\u001b[38;5;124m\"\u001b[39m\u001b[38;5;124mstringify_request\u001b[39m\u001b[38;5;124m\"\u001b[39m: json\u001b[38;5;241m.\u001b[39mdumps(kwargs)}\n\u001b[0;32m---> 89\u001b[0m     response \u001b[38;5;241m=\u001b[39m \u001b[43mcached_gpt3_turbo_request\u001b[49m\u001b[43m(\u001b[49m\u001b[38;5;241;43m*\u001b[39;49m\u001b[38;5;241;43m*\u001b[39;49m\u001b[43mkwargs\u001b[49m\u001b[43m,\u001b[49m\u001b[43m \u001b[49m\u001b[38;5;241;43m*\u001b[39;49m\u001b[38;5;241;43m*\u001b[39;49m\u001b[43mcache_args\u001b[49m\u001b[43m)\u001b[49m\n\u001b[1;32m     90\u001b[0m \u001b[38;5;28;01melse\u001b[39;00m:\n\u001b[1;32m     91\u001b[0m     kwargs[\u001b[38;5;124m\"\u001b[39m\u001b[38;5;124mprompt\u001b[39m\u001b[38;5;124m\"\u001b[39m] \u001b[38;5;241m=\u001b[39m prompt\n",
      "File \u001b[0;32m~/CS/Research/Stanford/research_2023/dsp/dsp/utils/cache.py:320\u001b[0m, in \u001b[0;36mcache_wrapper.<locals>.wrapper\u001b[0;34m(*args, **kwargs)\u001b[0m\n\u001b[1;32m    317\u001b[0m         \u001b[38;5;28;01mraise\u001b[39;00m \u001b[38;5;167;01mException\u001b[39;00m(result)\n\u001b[1;32m    319\u001b[0m \u001b[38;5;28;01mif\u001b[39;00m end_time \u001b[38;5;241m<\u001b[39m request_time:\n\u001b[0;32m--> 320\u001b[0m     \u001b[38;5;28;01mraise\u001b[39;00m \u001b[38;5;167;01mException\u001b[39;00m(\n\u001b[1;32m    321\u001b[0m         \u001b[38;5;124mf\u001b[39m\u001b[38;5;124m\"\u001b[39m\u001b[38;5;124mCache does not exist for the given experiment timerange of between \u001b[39m\u001b[38;5;132;01m{\u001b[39;00mtimerange_in_iso\u001b[38;5;132;01m}\u001b[39;00m\u001b[38;5;124m.\u001b[39m\u001b[38;5;124m\"\u001b[39m\n\u001b[1;32m    322\u001b[0m     )\n\u001b[1;32m    324\u001b[0m \u001b[38;5;66;03m# insert the operation as pending\u001b[39;00m\n\u001b[1;32m    325\u001b[0m row_idx \u001b[38;5;241m=\u001b[39m cache_client\u001b[38;5;241m.\u001b[39minsert_operation_started(\n\u001b[1;32m    326\u001b[0m     function_hash, cache_branch, request_time\n\u001b[1;32m    327\u001b[0m )\n",
      "\u001b[0;31mException\u001b[0m: Cache does not exist for the given experiment timerange of between 1970-01-01T05:30:00 and 2023-07-02T23:23:49.595134."
     ]
    }
   ],
   "source": [
    "case1_cache_end_timerange = datetime.now().timestamp()\n",
    "\n",
    "with dsp.settings.context(lm=lm, experiment_end_timestamp=case1_cache_end_timerange):\n",
    "    answer = dsp.settings.lm.basic_request(prompt=\"Q: At which year was synchronized swimming considered as a valid olympic sport?\\nA:\")\n",
    "    print(answer)"
   ]
  },
  {
   "cell_type": "markdown",
   "id": "e2f1db59-eba2-40b4-875f-78f978d49f98",
   "metadata": {},
   "source": [
    "###### Case 2: \n",
    "- Example doesn't exists in the cache and the experiment end timestamp is set to the future (by default)\n",
    "- Expected:\n",
    "    - The experiment is not trying to reproduce but create new reproducible results. Therefore, it is allowed to re-compute"
   ]
  },
  {
   "cell_type": "code",
   "execution_count": 5,
   "id": "c640fb6b-cd1e-4443-9895-ce8858977f4f",
   "metadata": {
    "tags": []
   },
   "outputs": [
    {
     "name": "stdout",
     "output_type": "stream",
     "text": [
      "2023-07-02 23:23:55,545 - DSP - DEBUG - Could not find a succesful experiment result in the cache for timerange between 1970-01-01T05:30:00 and future. Computing!\n",
      "2023-07-02 23:23:57,303 - DSP - DEBUG - returning record: cfce7175-a710-4de0-8a97-b742163fbd10\n",
      "{'choices': [{'finish_reason': 'stop', 'index': 0, 'message': {'content': 'Synchronized swimming was considered a valid Olympic sport in the year 1984.', 'role': 'assistant'}}], 'created': 1688320436, 'id': 'chatcmpl-7XvYiddyDMG9XhlW2J81IbXDRN6io', 'model': 'gpt-3.5-turbo-0613', 'object': 'chat.completion', 'usage': {'completion_tokens': 16, 'prompt_tokens': 26, 'total_tokens': 42}}\n"
     ]
    }
   ],
   "source": [
    "\n",
    "with dsp.settings.context(lm=lm):\n",
    "    answer = dsp.settings.lm.basic_request(prompt=\"Q: At which year was synchronized swimming considered as a valid olympic sport?\\nA:\")\n",
    "    print(answer)"
   ]
  },
  {
   "cell_type": "markdown",
   "id": "7b279fc2-9ed6-4c19-a864-e755b107970c",
   "metadata": {},
   "source": [
    "###### Case 3: \n",
    "- Example already exists in the cache within the specified timerange\n",
    "- Expected:\n",
    "    - Returns the results of the example without re-computing"
   ]
  },
  {
   "cell_type": "code",
   "execution_count": 6,
   "id": "696a9ad0-e8bf-411c-8ff4-44ba948086af",
   "metadata": {
    "tags": []
   },
   "outputs": [
    {
     "name": "stdout",
     "output_type": "stream",
     "text": [
      "2023-07-02 23:24:02,178 - DSP - DEBUG - Cached experiment result found between 1970-01-01T05:30:00 and 2023-07-04T23:24:02.177181. Retrieving result from cache.\n",
      "2023-07-02 23:24:02,183 - DSP - DEBUG - returning record: cfce7175-a710-4de0-8a97-b742163fbd10\n",
      "{'choices': [{'finish_reason': 'stop', 'index': 0, 'message': {'content': 'Synchronized swimming was considered a valid Olympic sport in the year 1984.', 'role': 'assistant'}}], 'created': 1688320436, 'id': 'chatcmpl-7XvYiddyDMG9XhlW2J81IbXDRN6io', 'model': 'gpt-3.5-turbo-0613', 'object': 'chat.completion', 'usage': {'completion_tokens': 16, 'prompt_tokens': 26, 'total_tokens': 42}}\n"
     ]
    }
   ],
   "source": [
    "case3_cache_end_timerange = (datetime.now() + timedelta(days=2)).timestamp()\n",
    "\n",
    "with dsp.settings.context(lm=lm, experiment_end_timestamp=case3_cache_end_timerange):\n",
    "    answer = dsp.settings.lm.basic_request(prompt=\"Q: At which year was synchronized swimming considered as a valid olympic sport?\\nA:\")\n",
    "    print(answer)"
   ]
  },
  {
   "cell_type": "markdown",
   "id": "1c37c441-52ec-47a5-880f-7f4721617672",
   "metadata": {},
   "source": [
    "###### Case 4: \n",
    "- There exists an example specified in the timerange but it failed for some reason.\n",
    "- Expected:\n",
    "    - Returns the exact error that occured, for the sake of reproducibility"
   ]
  },
  {
   "cell_type": "code",
   "execution_count": 7,
   "id": "b482233f-5d64-4860-b3a5-62c4770f9fae",
   "metadata": {
    "tags": []
   },
   "outputs": [
    {
     "name": "stdout",
     "output_type": "stream",
     "text": [
      "2023-07-02 23:24:09,363 - DSP - DEBUG - Could not find a succesful experiment result in the cache for timerange between 1970-01-01T05:30:00 and 2023-07-02T23:24:12.357561. Computing!\n"
     ]
    },
    {
     "ename": "InvalidRequestError",
     "evalue": "Unrecognized request argument supplied: dummy_kwargs",
     "output_type": "error",
     "traceback": [
      "\u001b[0;31m---------------------------------------------------------------------------\u001b[0m",
      "\u001b[0;31mInvalidRequestError\u001b[0m                       Traceback (most recent call last)",
      "Cell \u001b[0;32mIn[7], line 5\u001b[0m\n\u001b[1;32m      3\u001b[0m \u001b[38;5;28;01mtry\u001b[39;00m:\n\u001b[1;32m      4\u001b[0m     \u001b[38;5;28;01mwith\u001b[39;00m dsp\u001b[38;5;241m.\u001b[39msettings\u001b[38;5;241m.\u001b[39mcontext(lm\u001b[38;5;241m=\u001b[39mlm, experiment_end_timestamp\u001b[38;5;241m=\u001b[39mcase4_cache_end_timerange):\n\u001b[0;32m----> 5\u001b[0m         answer \u001b[38;5;241m=\u001b[39m \u001b[43mdsp\u001b[49m\u001b[38;5;241;43m.\u001b[39;49m\u001b[43msettings\u001b[49m\u001b[38;5;241;43m.\u001b[39;49m\u001b[43mlm\u001b[49m\u001b[38;5;241;43m.\u001b[39;49m\u001b[43mbasic_request\u001b[49m\u001b[43m(\u001b[49m\u001b[43mprompt\u001b[49m\u001b[38;5;241;43m=\u001b[39;49m\u001b[38;5;124;43m\"\u001b[39;49m\u001b[38;5;124;43mQ: At which year was synchronized swimming considered as a valid olympic sport?\u001b[39;49m\u001b[38;5;130;43;01m\\n\u001b[39;49;00m\u001b[38;5;124;43mA:\u001b[39;49m\u001b[38;5;124;43m\"\u001b[39;49m\u001b[43m,\u001b[49m\u001b[43m \u001b[49m\u001b[43mdummy_kwargs\u001b[49m\u001b[38;5;241;43m=\u001b[39;49m\u001b[38;5;124;43m\"\u001b[39;49m\u001b[38;5;124;43msample\u001b[39;49m\u001b[38;5;124;43m\"\u001b[39;49m\u001b[43m)\u001b[49m\n\u001b[1;32m      6\u001b[0m \u001b[38;5;28;01mfinally\u001b[39;00m:\n\u001b[1;32m      7\u001b[0m     time\u001b[38;5;241m.\u001b[39msleep(\u001b[38;5;241m3\u001b[39m)\n",
      "File \u001b[0;32m~/CS/Research/Stanford/research_2023/dsp/dsp/modules/gpt3.py:89\u001b[0m, in \u001b[0;36mGPT3.basic_request\u001b[0;34m(self, prompt, **kwargs)\u001b[0m\n\u001b[1;32m     87\u001b[0m     kwargs[\u001b[38;5;124m\"\u001b[39m\u001b[38;5;124mmessages\u001b[39m\u001b[38;5;124m\"\u001b[39m] \u001b[38;5;241m=\u001b[39m [{\u001b[38;5;124m\"\u001b[39m\u001b[38;5;124mrole\u001b[39m\u001b[38;5;124m\"\u001b[39m: \u001b[38;5;124m\"\u001b[39m\u001b[38;5;124muser\u001b[39m\u001b[38;5;124m\"\u001b[39m, \u001b[38;5;124m\"\u001b[39m\u001b[38;5;124mcontent\u001b[39m\u001b[38;5;124m\"\u001b[39m: prompt}]\n\u001b[1;32m     88\u001b[0m     kwargs \u001b[38;5;241m=\u001b[39m {\u001b[38;5;124m\"\u001b[39m\u001b[38;5;124mstringify_request\u001b[39m\u001b[38;5;124m\"\u001b[39m: json\u001b[38;5;241m.\u001b[39mdumps(kwargs)}\n\u001b[0;32m---> 89\u001b[0m     response \u001b[38;5;241m=\u001b[39m \u001b[43mcached_gpt3_turbo_request\u001b[49m\u001b[43m(\u001b[49m\u001b[38;5;241;43m*\u001b[39;49m\u001b[38;5;241;43m*\u001b[39;49m\u001b[43mkwargs\u001b[49m\u001b[43m,\u001b[49m\u001b[43m \u001b[49m\u001b[38;5;241;43m*\u001b[39;49m\u001b[38;5;241;43m*\u001b[39;49m\u001b[43mcache_args\u001b[49m\u001b[43m)\u001b[49m\n\u001b[1;32m     90\u001b[0m \u001b[38;5;28;01melse\u001b[39;00m:\n\u001b[1;32m     91\u001b[0m     kwargs[\u001b[38;5;124m\"\u001b[39m\u001b[38;5;124mprompt\u001b[39m\u001b[38;5;124m\"\u001b[39m] \u001b[38;5;241m=\u001b[39m prompt\n",
      "File \u001b[0;32m~/CS/Research/Stanford/research_2023/dsp/dsp/utils/cache.py:366\u001b[0m, in \u001b[0;36mcache_wrapper.<locals>.wrapper\u001b[0;34m(*args, **kwargs)\u001b[0m\n\u001b[1;32m    356\u001b[0m \u001b[38;5;66;03m# update the cache as completed\u001b[39;00m\n\u001b[1;32m    357\u001b[0m cache_client\u001b[38;5;241m.\u001b[39mupdate_operation_status(\n\u001b[1;32m    358\u001b[0m     function_hash,\n\u001b[1;32m    359\u001b[0m     cache_branch,\n\u001b[0;32m   (...)\u001b[0m\n\u001b[1;32m    364\u001b[0m     status\u001b[38;5;241m=\u001b[39m\u001b[38;5;241m0\u001b[39m,\n\u001b[1;32m    365\u001b[0m )\n\u001b[0;32m--> 366\u001b[0m \u001b[38;5;28;01mraise\u001b[39;00m exc\n",
      "File \u001b[0;32m~/CS/Research/Stanford/research_2023/dsp/dsp/utils/cache.py:333\u001b[0m, in \u001b[0;36mcache_wrapper.<locals>.wrapper\u001b[0;34m(*args, **kwargs)\u001b[0m\n\u001b[1;32m    329\u001b[0m logger\u001b[38;5;241m.\u001b[39mdebug(\n\u001b[1;32m    330\u001b[0m     \u001b[38;5;124mf\u001b[39m\u001b[38;5;124m\"\u001b[39m\u001b[38;5;124mCould not find a succesful experiment result in the cache for timerange between \u001b[39m\u001b[38;5;132;01m{\u001b[39;00mtimerange_in_iso\u001b[38;5;132;01m}\u001b[39;00m\u001b[38;5;124m. Computing!\u001b[39m\u001b[38;5;124m\"\u001b[39m\n\u001b[1;32m    331\u001b[0m )\n\u001b[1;32m    332\u001b[0m \u001b[38;5;28;01mtry\u001b[39;00m:\n\u001b[0;32m--> 333\u001b[0m     result \u001b[38;5;241m=\u001b[39m \u001b[43mfunc\u001b[49m\u001b[43m(\u001b[49m\u001b[38;5;241;43m*\u001b[39;49m\u001b[43margs\u001b[49m\u001b[43m,\u001b[49m\u001b[43m \u001b[49m\u001b[38;5;241;43m*\u001b[39;49m\u001b[38;5;241;43m*\u001b[39;49m\u001b[43mkwargs\u001b[49m\u001b[43m)\u001b[49m\n\u001b[1;32m    334\u001b[0m     \u001b[38;5;66;03m# update the cache as completed\u001b[39;00m\n\u001b[1;32m    335\u001b[0m     cache_client\u001b[38;5;241m.\u001b[39mupdate_operation_status(\n\u001b[1;32m    336\u001b[0m         function_hash,\n\u001b[1;32m    337\u001b[0m         cache_branch,\n\u001b[0;32m   (...)\u001b[0m\n\u001b[1;32m    342\u001b[0m         status\u001b[38;5;241m=\u001b[39m\u001b[38;5;241m2\u001b[39m,\n\u001b[1;32m    343\u001b[0m     )\n",
      "File \u001b[0;32m~/CS/Research/Stanford/research_2023/dsp/dsp/modules/gpt3.py:190\u001b[0m, in \u001b[0;36mcached_gpt3_turbo_request\u001b[0;34m(**kwargs)\u001b[0m\n\u001b[1;32m    188\u001b[0m \u001b[38;5;28;01mif\u001b[39;00m \u001b[38;5;124m\"\u001b[39m\u001b[38;5;124mstringify_request\u001b[39m\u001b[38;5;124m\"\u001b[39m \u001b[38;5;129;01min\u001b[39;00m kwargs:\n\u001b[1;32m    189\u001b[0m     kwargs \u001b[38;5;241m=\u001b[39m json\u001b[38;5;241m.\u001b[39mloads(kwargs[\u001b[38;5;124m\"\u001b[39m\u001b[38;5;124mstringify_request\u001b[39m\u001b[38;5;124m\"\u001b[39m])\n\u001b[0;32m--> 190\u001b[0m \u001b[38;5;28;01mreturn\u001b[39;00m cast(OpenAIObject, \u001b[43mopenai\u001b[49m\u001b[38;5;241;43m.\u001b[39;49m\u001b[43mChatCompletion\u001b[49m\u001b[38;5;241;43m.\u001b[39;49m\u001b[43mcreate\u001b[49m\u001b[43m(\u001b[49m\u001b[38;5;241;43m*\u001b[39;49m\u001b[38;5;241;43m*\u001b[39;49m\u001b[43mkwargs\u001b[49m\u001b[43m)\u001b[49m)\n",
      "File \u001b[0;32m~/.pyenv/versions/dsp/lib/python3.9/site-packages/openai/api_resources/chat_completion.py:25\u001b[0m, in \u001b[0;36mChatCompletion.create\u001b[0;34m(cls, *args, **kwargs)\u001b[0m\n\u001b[1;32m     23\u001b[0m \u001b[38;5;28;01mwhile\u001b[39;00m \u001b[38;5;28;01mTrue\u001b[39;00m:\n\u001b[1;32m     24\u001b[0m     \u001b[38;5;28;01mtry\u001b[39;00m:\n\u001b[0;32m---> 25\u001b[0m         \u001b[38;5;28;01mreturn\u001b[39;00m \u001b[38;5;28;43msuper\u001b[39;49m\u001b[43m(\u001b[49m\u001b[43m)\u001b[49m\u001b[38;5;241;43m.\u001b[39;49m\u001b[43mcreate\u001b[49m\u001b[43m(\u001b[49m\u001b[38;5;241;43m*\u001b[39;49m\u001b[43margs\u001b[49m\u001b[43m,\u001b[49m\u001b[43m \u001b[49m\u001b[38;5;241;43m*\u001b[39;49m\u001b[38;5;241;43m*\u001b[39;49m\u001b[43mkwargs\u001b[49m\u001b[43m)\u001b[49m\n\u001b[1;32m     26\u001b[0m     \u001b[38;5;28;01mexcept\u001b[39;00m TryAgain \u001b[38;5;28;01mas\u001b[39;00m e:\n\u001b[1;32m     27\u001b[0m         \u001b[38;5;28;01mif\u001b[39;00m timeout \u001b[38;5;129;01mis\u001b[39;00m \u001b[38;5;129;01mnot\u001b[39;00m \u001b[38;5;28;01mNone\u001b[39;00m \u001b[38;5;129;01mand\u001b[39;00m time\u001b[38;5;241m.\u001b[39mtime() \u001b[38;5;241m>\u001b[39m start \u001b[38;5;241m+\u001b[39m timeout:\n",
      "File \u001b[0;32m~/.pyenv/versions/dsp/lib/python3.9/site-packages/openai/api_resources/abstract/engine_api_resource.py:153\u001b[0m, in \u001b[0;36mEngineAPIResource.create\u001b[0;34m(cls, api_key, api_base, api_type, request_id, api_version, organization, **params)\u001b[0m\n\u001b[1;32m    127\u001b[0m \u001b[38;5;129m@classmethod\u001b[39m\n\u001b[1;32m    128\u001b[0m \u001b[38;5;28;01mdef\u001b[39;00m \u001b[38;5;21mcreate\u001b[39m(\n\u001b[1;32m    129\u001b[0m     \u001b[38;5;28mcls\u001b[39m,\n\u001b[0;32m   (...)\u001b[0m\n\u001b[1;32m    136\u001b[0m     \u001b[38;5;241m*\u001b[39m\u001b[38;5;241m*\u001b[39mparams,\n\u001b[1;32m    137\u001b[0m ):\n\u001b[1;32m    138\u001b[0m     (\n\u001b[1;32m    139\u001b[0m         deployment_id,\n\u001b[1;32m    140\u001b[0m         engine,\n\u001b[0;32m   (...)\u001b[0m\n\u001b[1;32m    150\u001b[0m         api_key, api_base, api_type, api_version, organization, \u001b[38;5;241m*\u001b[39m\u001b[38;5;241m*\u001b[39mparams\n\u001b[1;32m    151\u001b[0m     )\n\u001b[0;32m--> 153\u001b[0m     response, _, api_key \u001b[38;5;241m=\u001b[39m \u001b[43mrequestor\u001b[49m\u001b[38;5;241;43m.\u001b[39;49m\u001b[43mrequest\u001b[49m\u001b[43m(\u001b[49m\n\u001b[1;32m    154\u001b[0m \u001b[43m        \u001b[49m\u001b[38;5;124;43m\"\u001b[39;49m\u001b[38;5;124;43mpost\u001b[39;49m\u001b[38;5;124;43m\"\u001b[39;49m\u001b[43m,\u001b[49m\n\u001b[1;32m    155\u001b[0m \u001b[43m        \u001b[49m\u001b[43murl\u001b[49m\u001b[43m,\u001b[49m\n\u001b[1;32m    156\u001b[0m \u001b[43m        \u001b[49m\u001b[43mparams\u001b[49m\u001b[38;5;241;43m=\u001b[39;49m\u001b[43mparams\u001b[49m\u001b[43m,\u001b[49m\n\u001b[1;32m    157\u001b[0m \u001b[43m        \u001b[49m\u001b[43mheaders\u001b[49m\u001b[38;5;241;43m=\u001b[39;49m\u001b[43mheaders\u001b[49m\u001b[43m,\u001b[49m\n\u001b[1;32m    158\u001b[0m \u001b[43m        \u001b[49m\u001b[43mstream\u001b[49m\u001b[38;5;241;43m=\u001b[39;49m\u001b[43mstream\u001b[49m\u001b[43m,\u001b[49m\n\u001b[1;32m    159\u001b[0m \u001b[43m        \u001b[49m\u001b[43mrequest_id\u001b[49m\u001b[38;5;241;43m=\u001b[39;49m\u001b[43mrequest_id\u001b[49m\u001b[43m,\u001b[49m\n\u001b[1;32m    160\u001b[0m \u001b[43m        \u001b[49m\u001b[43mrequest_timeout\u001b[49m\u001b[38;5;241;43m=\u001b[39;49m\u001b[43mrequest_timeout\u001b[49m\u001b[43m,\u001b[49m\n\u001b[1;32m    161\u001b[0m \u001b[43m    \u001b[49m\u001b[43m)\u001b[49m\n\u001b[1;32m    163\u001b[0m     \u001b[38;5;28;01mif\u001b[39;00m stream:\n\u001b[1;32m    164\u001b[0m         \u001b[38;5;66;03m# must be an iterator\u001b[39;00m\n\u001b[1;32m    165\u001b[0m         \u001b[38;5;28;01massert\u001b[39;00m \u001b[38;5;129;01mnot\u001b[39;00m \u001b[38;5;28misinstance\u001b[39m(response, OpenAIResponse)\n",
      "File \u001b[0;32m~/.pyenv/versions/dsp/lib/python3.9/site-packages/openai/api_requestor.py:226\u001b[0m, in \u001b[0;36mAPIRequestor.request\u001b[0;34m(self, method, url, params, headers, files, stream, request_id, request_timeout)\u001b[0m\n\u001b[1;32m    205\u001b[0m \u001b[38;5;28;01mdef\u001b[39;00m \u001b[38;5;21mrequest\u001b[39m(\n\u001b[1;32m    206\u001b[0m     \u001b[38;5;28mself\u001b[39m,\n\u001b[1;32m    207\u001b[0m     method,\n\u001b[0;32m   (...)\u001b[0m\n\u001b[1;32m    214\u001b[0m     request_timeout: Optional[Union[\u001b[38;5;28mfloat\u001b[39m, Tuple[\u001b[38;5;28mfloat\u001b[39m, \u001b[38;5;28mfloat\u001b[39m]]] \u001b[38;5;241m=\u001b[39m \u001b[38;5;28;01mNone\u001b[39;00m,\n\u001b[1;32m    215\u001b[0m ) \u001b[38;5;241m-\u001b[39m\u001b[38;5;241m>\u001b[39m Tuple[Union[OpenAIResponse, Iterator[OpenAIResponse]], \u001b[38;5;28mbool\u001b[39m, \u001b[38;5;28mstr\u001b[39m]:\n\u001b[1;32m    216\u001b[0m     result \u001b[38;5;241m=\u001b[39m \u001b[38;5;28mself\u001b[39m\u001b[38;5;241m.\u001b[39mrequest_raw(\n\u001b[1;32m    217\u001b[0m         method\u001b[38;5;241m.\u001b[39mlower(),\n\u001b[1;32m    218\u001b[0m         url,\n\u001b[0;32m   (...)\u001b[0m\n\u001b[1;32m    224\u001b[0m         request_timeout\u001b[38;5;241m=\u001b[39mrequest_timeout,\n\u001b[1;32m    225\u001b[0m     )\n\u001b[0;32m--> 226\u001b[0m     resp, got_stream \u001b[38;5;241m=\u001b[39m \u001b[38;5;28;43mself\u001b[39;49m\u001b[38;5;241;43m.\u001b[39;49m\u001b[43m_interpret_response\u001b[49m\u001b[43m(\u001b[49m\u001b[43mresult\u001b[49m\u001b[43m,\u001b[49m\u001b[43m \u001b[49m\u001b[43mstream\u001b[49m\u001b[43m)\u001b[49m\n\u001b[1;32m    227\u001b[0m     \u001b[38;5;28;01mreturn\u001b[39;00m resp, got_stream, \u001b[38;5;28mself\u001b[39m\u001b[38;5;241m.\u001b[39mapi_key\n",
      "File \u001b[0;32m~/.pyenv/versions/dsp/lib/python3.9/site-packages/openai/api_requestor.py:619\u001b[0m, in \u001b[0;36mAPIRequestor._interpret_response\u001b[0;34m(self, result, stream)\u001b[0m\n\u001b[1;32m    611\u001b[0m     \u001b[38;5;28;01mreturn\u001b[39;00m (\n\u001b[1;32m    612\u001b[0m         \u001b[38;5;28mself\u001b[39m\u001b[38;5;241m.\u001b[39m_interpret_response_line(\n\u001b[1;32m    613\u001b[0m             line, result\u001b[38;5;241m.\u001b[39mstatus_code, result\u001b[38;5;241m.\u001b[39mheaders, stream\u001b[38;5;241m=\u001b[39m\u001b[38;5;28;01mTrue\u001b[39;00m\n\u001b[1;32m    614\u001b[0m         )\n\u001b[1;32m    615\u001b[0m         \u001b[38;5;28;01mfor\u001b[39;00m line \u001b[38;5;129;01min\u001b[39;00m parse_stream(result\u001b[38;5;241m.\u001b[39miter_lines())\n\u001b[1;32m    616\u001b[0m     ), \u001b[38;5;28;01mTrue\u001b[39;00m\n\u001b[1;32m    617\u001b[0m \u001b[38;5;28;01melse\u001b[39;00m:\n\u001b[1;32m    618\u001b[0m     \u001b[38;5;28;01mreturn\u001b[39;00m (\n\u001b[0;32m--> 619\u001b[0m         \u001b[38;5;28;43mself\u001b[39;49m\u001b[38;5;241;43m.\u001b[39;49m\u001b[43m_interpret_response_line\u001b[49m\u001b[43m(\u001b[49m\n\u001b[1;32m    620\u001b[0m \u001b[43m            \u001b[49m\u001b[43mresult\u001b[49m\u001b[38;5;241;43m.\u001b[39;49m\u001b[43mcontent\u001b[49m\u001b[38;5;241;43m.\u001b[39;49m\u001b[43mdecode\u001b[49m\u001b[43m(\u001b[49m\u001b[38;5;124;43m\"\u001b[39;49m\u001b[38;5;124;43mutf-8\u001b[39;49m\u001b[38;5;124;43m\"\u001b[39;49m\u001b[43m)\u001b[49m\u001b[43m,\u001b[49m\n\u001b[1;32m    621\u001b[0m \u001b[43m            \u001b[49m\u001b[43mresult\u001b[49m\u001b[38;5;241;43m.\u001b[39;49m\u001b[43mstatus_code\u001b[49m\u001b[43m,\u001b[49m\n\u001b[1;32m    622\u001b[0m \u001b[43m            \u001b[49m\u001b[43mresult\u001b[49m\u001b[38;5;241;43m.\u001b[39;49m\u001b[43mheaders\u001b[49m\u001b[43m,\u001b[49m\n\u001b[1;32m    623\u001b[0m \u001b[43m            \u001b[49m\u001b[43mstream\u001b[49m\u001b[38;5;241;43m=\u001b[39;49m\u001b[38;5;28;43;01mFalse\u001b[39;49;00m\u001b[43m,\u001b[49m\n\u001b[1;32m    624\u001b[0m \u001b[43m        \u001b[49m\u001b[43m)\u001b[49m,\n\u001b[1;32m    625\u001b[0m         \u001b[38;5;28;01mFalse\u001b[39;00m,\n\u001b[1;32m    626\u001b[0m     )\n",
      "File \u001b[0;32m~/.pyenv/versions/dsp/lib/python3.9/site-packages/openai/api_requestor.py:679\u001b[0m, in \u001b[0;36mAPIRequestor._interpret_response_line\u001b[0;34m(self, rbody, rcode, rheaders, stream)\u001b[0m\n\u001b[1;32m    677\u001b[0m stream_error \u001b[38;5;241m=\u001b[39m stream \u001b[38;5;129;01mand\u001b[39;00m \u001b[38;5;124m\"\u001b[39m\u001b[38;5;124merror\u001b[39m\u001b[38;5;124m\"\u001b[39m \u001b[38;5;129;01min\u001b[39;00m resp\u001b[38;5;241m.\u001b[39mdata\n\u001b[1;32m    678\u001b[0m \u001b[38;5;28;01mif\u001b[39;00m stream_error \u001b[38;5;129;01mor\u001b[39;00m \u001b[38;5;129;01mnot\u001b[39;00m \u001b[38;5;241m200\u001b[39m \u001b[38;5;241m<\u001b[39m\u001b[38;5;241m=\u001b[39m rcode \u001b[38;5;241m<\u001b[39m \u001b[38;5;241m300\u001b[39m:\n\u001b[0;32m--> 679\u001b[0m     \u001b[38;5;28;01mraise\u001b[39;00m \u001b[38;5;28mself\u001b[39m\u001b[38;5;241m.\u001b[39mhandle_error_response(\n\u001b[1;32m    680\u001b[0m         rbody, rcode, resp\u001b[38;5;241m.\u001b[39mdata, rheaders, stream_error\u001b[38;5;241m=\u001b[39mstream_error\n\u001b[1;32m    681\u001b[0m     )\n\u001b[1;32m    682\u001b[0m \u001b[38;5;28;01mreturn\u001b[39;00m resp\n",
      "\u001b[0;31mInvalidRequestError\u001b[0m: Unrecognized request argument supplied: dummy_kwargs"
     ]
    }
   ],
   "source": [
    "# Let's intentionally make it fail\n",
    "case4_cache_end_timerange = (datetime.now() + timedelta(seconds=3)).timestamp()\n",
    "try:\n",
    "    with dsp.settings.context(lm=lm, experiment_end_timestamp=case4_cache_end_timerange):\n",
    "        answer = dsp.settings.lm.basic_request(prompt=\"Q: At which year was synchronized swimming considered as a valid olympic sport?\\nA:\", dummy_kwargs=\"sample\")\n",
    "finally:\n",
    "    time.sleep(3)"
   ]
  },
  {
   "cell_type": "code",
   "execution_count": 8,
   "id": "ed267ea1-acc9-451e-8f23-bb3a8491781e",
   "metadata": {
    "tags": []
   },
   "outputs": [
    {
     "name": "stdout",
     "output_type": "stream",
     "text": [
      "2023-07-02 23:24:18,425 - DSP - DEBUG - returning record: a0713e07-ad74-4ac8-a1a8-58a5b94b3860\n",
      "2023-07-02 23:24:18,430 - DSP - DEBUG - Failed operation found in the cache for experiment timerange between 1970-01-01T05:30:00 and 2023-07-02T23:24:18.424656. Raising the same exception.\n"
     ]
    },
    {
     "ename": "Exception",
     "evalue": "Traceback (most recent call last):\n\n  File \"/Users/sri/CS/Research/Stanford/research_2023/dsp/dsp/utils/cache.py\", line 333, in wrapper\n    result = func(*args, **kwargs)\n\n  File \"/Users/sri/CS/Research/Stanford/research_2023/dsp/dsp/modules/gpt3.py\", line 190, in cached_gpt3_turbo_request\n    return cast(OpenAIObject, openai.ChatCompletion.create(**kwargs))\n\n  File \"/Users/sri/.pyenv/versions/dsp/lib/python3.9/site-packages/openai/api_resources/chat_completion.py\", line 25, in create\n    return super().create(*args, **kwargs)\n\n  File \"/Users/sri/.pyenv/versions/dsp/lib/python3.9/site-packages/openai/api_resources/abstract/engine_api_resource.py\", line 153, in create\n    response, _, api_key = requestor.request(\n\n  File \"/Users/sri/.pyenv/versions/dsp/lib/python3.9/site-packages/openai/api_requestor.py\", line 226, in request\n    resp, got_stream = self._interpret_response(result, stream)\n\n  File \"/Users/sri/.pyenv/versions/dsp/lib/python3.9/site-packages/openai/api_requestor.py\", line 619, in _interpret_response\n    self._interpret_response_line(\n\n  File \"/Users/sri/.pyenv/versions/dsp/lib/python3.9/site-packages/openai/api_requestor.py\", line 679, in _interpret_response_line\n    raise self.handle_error_response(\n\nopenai.error.InvalidRequestError: Unrecognized request argument supplied: dummy_kwargs\n",
     "output_type": "error",
     "traceback": [
      "\u001b[0;31m---------------------------------------------------------------------------\u001b[0m",
      "\u001b[0;31mException\u001b[0m                                 Traceback (most recent call last)",
      "Cell \u001b[0;32mIn[8], line 5\u001b[0m\n\u001b[1;32m      2\u001b[0m case4_cache_end_timerange \u001b[38;5;241m=\u001b[39m datetime\u001b[38;5;241m.\u001b[39mnow()\u001b[38;5;241m.\u001b[39mtimestamp()\n\u001b[1;32m      4\u001b[0m \u001b[38;5;28;01mwith\u001b[39;00m dsp\u001b[38;5;241m.\u001b[39msettings\u001b[38;5;241m.\u001b[39mcontext(lm\u001b[38;5;241m=\u001b[39mlm, experiment_end_timestamp\u001b[38;5;241m=\u001b[39mcase4_cache_end_timerange):\n\u001b[0;32m----> 5\u001b[0m     answer \u001b[38;5;241m=\u001b[39m \u001b[43mdsp\u001b[49m\u001b[38;5;241;43m.\u001b[39;49m\u001b[43msettings\u001b[49m\u001b[38;5;241;43m.\u001b[39;49m\u001b[43mlm\u001b[49m\u001b[38;5;241;43m.\u001b[39;49m\u001b[43mbasic_request\u001b[49m\u001b[43m(\u001b[49m\u001b[43mprompt\u001b[49m\u001b[38;5;241;43m=\u001b[39;49m\u001b[38;5;124;43m\"\u001b[39;49m\u001b[38;5;124;43mQ: At which year was synchronized swimming considered as a valid olympic sport?\u001b[39;49m\u001b[38;5;130;43;01m\\n\u001b[39;49;00m\u001b[38;5;124;43mA:\u001b[39;49m\u001b[38;5;124;43m\"\u001b[39;49m\u001b[43m,\u001b[49m\u001b[43m \u001b[49m\u001b[43mdummy_kwargs\u001b[49m\u001b[38;5;241;43m=\u001b[39;49m\u001b[38;5;124;43m\"\u001b[39;49m\u001b[38;5;124;43msample\u001b[39;49m\u001b[38;5;124;43m\"\u001b[39;49m\u001b[43m)\u001b[49m\n",
      "File \u001b[0;32m~/CS/Research/Stanford/research_2023/dsp/dsp/modules/gpt3.py:89\u001b[0m, in \u001b[0;36mGPT3.basic_request\u001b[0;34m(self, prompt, **kwargs)\u001b[0m\n\u001b[1;32m     87\u001b[0m     kwargs[\u001b[38;5;124m\"\u001b[39m\u001b[38;5;124mmessages\u001b[39m\u001b[38;5;124m\"\u001b[39m] \u001b[38;5;241m=\u001b[39m [{\u001b[38;5;124m\"\u001b[39m\u001b[38;5;124mrole\u001b[39m\u001b[38;5;124m\"\u001b[39m: \u001b[38;5;124m\"\u001b[39m\u001b[38;5;124muser\u001b[39m\u001b[38;5;124m\"\u001b[39m, \u001b[38;5;124m\"\u001b[39m\u001b[38;5;124mcontent\u001b[39m\u001b[38;5;124m\"\u001b[39m: prompt}]\n\u001b[1;32m     88\u001b[0m     kwargs \u001b[38;5;241m=\u001b[39m {\u001b[38;5;124m\"\u001b[39m\u001b[38;5;124mstringify_request\u001b[39m\u001b[38;5;124m\"\u001b[39m: json\u001b[38;5;241m.\u001b[39mdumps(kwargs)}\n\u001b[0;32m---> 89\u001b[0m     response \u001b[38;5;241m=\u001b[39m \u001b[43mcached_gpt3_turbo_request\u001b[49m\u001b[43m(\u001b[49m\u001b[38;5;241;43m*\u001b[39;49m\u001b[38;5;241;43m*\u001b[39;49m\u001b[43mkwargs\u001b[49m\u001b[43m,\u001b[49m\u001b[43m \u001b[49m\u001b[38;5;241;43m*\u001b[39;49m\u001b[38;5;241;43m*\u001b[39;49m\u001b[43mcache_args\u001b[49m\u001b[43m)\u001b[49m\n\u001b[1;32m     90\u001b[0m \u001b[38;5;28;01melse\u001b[39;00m:\n\u001b[1;32m     91\u001b[0m     kwargs[\u001b[38;5;124m\"\u001b[39m\u001b[38;5;124mprompt\u001b[39m\u001b[38;5;124m\"\u001b[39m] \u001b[38;5;241m=\u001b[39m prompt\n",
      "File \u001b[0;32m~/CS/Research/Stanford/research_2023/dsp/dsp/utils/cache.py:317\u001b[0m, in \u001b[0;36mcache_wrapper.<locals>.wrapper\u001b[0;34m(*args, **kwargs)\u001b[0m\n\u001b[1;32m    306\u001b[0m         _, result \u001b[38;5;241m=\u001b[39m cache_client\u001b[38;5;241m.\u001b[39mretrieve_earliest_record(\n\u001b[1;32m    307\u001b[0m             function_hash,\n\u001b[1;32m    308\u001b[0m             cache_branch,\n\u001b[0;32m   (...)\u001b[0m\n\u001b[1;32m    312\u001b[0m             return_record_result\u001b[38;5;241m=\u001b[39m\u001b[38;5;28;01mTrue\u001b[39;00m,\n\u001b[1;32m    313\u001b[0m         )\n\u001b[1;32m    314\u001b[0m         logger\u001b[38;5;241m.\u001b[39mdebug(\n\u001b[1;32m    315\u001b[0m             \u001b[38;5;124mf\u001b[39m\u001b[38;5;124m\"\u001b[39m\u001b[38;5;124mFailed operation found in the cache for experiment timerange between \u001b[39m\u001b[38;5;132;01m{\u001b[39;00mtimerange_in_iso\u001b[38;5;132;01m}\u001b[39;00m\u001b[38;5;124m. Raising the same exception.\u001b[39m\u001b[38;5;124m\"\u001b[39m\n\u001b[1;32m    316\u001b[0m         )\n\u001b[0;32m--> 317\u001b[0m         \u001b[38;5;28;01mraise\u001b[39;00m \u001b[38;5;167;01mException\u001b[39;00m(result)\n\u001b[1;32m    319\u001b[0m \u001b[38;5;28;01mif\u001b[39;00m end_time \u001b[38;5;241m<\u001b[39m request_time:\n\u001b[1;32m    320\u001b[0m     \u001b[38;5;28;01mraise\u001b[39;00m \u001b[38;5;167;01mException\u001b[39;00m(\n\u001b[1;32m    321\u001b[0m         \u001b[38;5;124mf\u001b[39m\u001b[38;5;124m\"\u001b[39m\u001b[38;5;124mCache does not exist for the given experiment timerange of between \u001b[39m\u001b[38;5;132;01m{\u001b[39;00mtimerange_in_iso\u001b[38;5;132;01m}\u001b[39;00m\u001b[38;5;124m.\u001b[39m\u001b[38;5;124m\"\u001b[39m\n\u001b[1;32m    322\u001b[0m     )\n",
      "\u001b[0;31mException\u001b[0m: Traceback (most recent call last):\n\n  File \"/Users/sri/CS/Research/Stanford/research_2023/dsp/dsp/utils/cache.py\", line 333, in wrapper\n    result = func(*args, **kwargs)\n\n  File \"/Users/sri/CS/Research/Stanford/research_2023/dsp/dsp/modules/gpt3.py\", line 190, in cached_gpt3_turbo_request\n    return cast(OpenAIObject, openai.ChatCompletion.create(**kwargs))\n\n  File \"/Users/sri/.pyenv/versions/dsp/lib/python3.9/site-packages/openai/api_resources/chat_completion.py\", line 25, in create\n    return super().create(*args, **kwargs)\n\n  File \"/Users/sri/.pyenv/versions/dsp/lib/python3.9/site-packages/openai/api_resources/abstract/engine_api_resource.py\", line 153, in create\n    response, _, api_key = requestor.request(\n\n  File \"/Users/sri/.pyenv/versions/dsp/lib/python3.9/site-packages/openai/api_requestor.py\", line 226, in request\n    resp, got_stream = self._interpret_response(result, stream)\n\n  File \"/Users/sri/.pyenv/versions/dsp/lib/python3.9/site-packages/openai/api_requestor.py\", line 619, in _interpret_response\n    self._interpret_response_line(\n\n  File \"/Users/sri/.pyenv/versions/dsp/lib/python3.9/site-packages/openai/api_requestor.py\", line 679, in _interpret_response_line\n    raise self.handle_error_response(\n\nopenai.error.InvalidRequestError: Unrecognized request argument supplied: dummy_kwargs\n"
     ]
    }
   ],
   "source": [
    "# Should fail with the same exception\n",
    "case4_cache_end_timerange = datetime.now().timestamp()\n",
    "\n",
    "with dsp.settings.context(lm=lm, experiment_end_timestamp=case4_cache_end_timerange):\n",
    "    answer = dsp.settings.lm.basic_request(prompt=\"Q: At which year was synchronized swimming considered as a valid olympic sport?\\nA:\", dummy_kwargs=\"sample\")"
   ]
  },
  {
   "cell_type": "markdown",
   "id": "c19bb567-bc81-48c8-955d-9612de1fdb08",
   "metadata": {},
   "source": [
    "# concurrency test"
   ]
  },
  {
   "cell_type": "code",
   "execution_count": 9,
   "id": "027de92c-5866-40cf-a80c-94a565fec732",
   "metadata": {
    "tags": []
   },
   "outputs": [
    {
     "name": "stdout",
     "output_type": "stream",
     "text": [
      "2023-07-02 23:24:39,663 - DSP - DEBUG - Could not find a succesful experiment result in the cache for timerange between 1970-01-01T05:30:00 and 2023-07-04T23:24:39.655138. Computing!\n",
      "2023-07-02 23:24:39,666 - DSP - DEBUG - Operation is pending in the cache. Polling for result.\n",
      "2023-07-02 23:24:39,667 - DSP - DEBUG - Operation is pending in the cache. Polling for result.\n",
      "2023-07-02 23:24:39,670 - DSP - DEBUG - Operation is pending in the cache. Polling for result.\n",
      "2023-07-02 23:24:39,676 - DSP - DEBUG - Operation is pending in the cache. Polling for result.\n",
      "2023-07-02 23:24:39,680 - DSP - DEBUG - Operation is pending in the cache. Polling for result.\n",
      "2023-07-02 23:24:39,680 - DSP - DEBUG - Operation is pending in the cache. Polling for result.\n",
      "2023-07-02 23:24:39,682 - DSP - DEBUG - Operation is pending in the cache. Polling for result.\n",
      "2023-07-02 23:24:39,683 - DSP - DEBUG - Operation is pending in the cache. Polling for result.\n",
      "2023-07-02 23:24:39,684 - DSP - DEBUG - Operation is pending in the cache. Polling for result.\n",
      "2023-07-02 23:24:41,651 - DSP - DEBUG - returning record: 9fd5745a-3b49-4390-9520-008e80d5974d\n",
      "2023-07-02 23:24:41,653 - DSP - DEBUG - Result found after polling. Retrieving from cache.\n",
      "2023-07-02 23:24:41,655 - DSP - DEBUG - returning record: 9fd5745a-3b49-4390-9520-008e80d5974d\n",
      "2023-07-02 23:24:41,654 - DSP - DEBUG - Result found after polling. Retrieving from cache.\n",
      "2023-07-02 23:24:41,662 - DSP - DEBUG - returning record: 9fd5745a-3b49-4390-9520-008e80d5974d\n",
      "2023-07-02 23:24:41,654 - DSP - DEBUG - Result found after polling. Retrieving from cache.\n",
      "2023-07-02 23:24:41,654 - DSP - DEBUG - Result found after polling. Retrieving from cache.\n",
      "2023-07-02 23:24:41,654 - DSP - DEBUG - Result found after polling. Retrieving from cache.\n",
      "2023-07-02 23:24:41,654 - DSP - DEBUG - Result found after polling. Retrieving from cache.\n",
      "2023-07-02 23:24:41,654 - DSP - DEBUG - Result found after polling. Retrieving from cache.\n",
      "2023-07-02 23:24:41,654 - DSP - DEBUG - Result found after polling. Retrieving from cache.\n",
      "2023-07-02 23:24:41,654 - DSP - DEBUG - Result found after polling. Retrieving from cache.\n",
      "2023-07-02 23:24:41,665 - DSP - DEBUG - returning record: 9fd5745a-3b49-4390-9520-008e80d5974d\n",
      "2023-07-02 23:24:41,670 - DSP - DEBUG - returning record: 9fd5745a-3b49-4390-9520-008e80d5974d\n",
      "2023-07-02 23:24:41,671 - DSP - DEBUG - returning record: 9fd5745a-3b49-4390-9520-008e80d5974d\n",
      "2023-07-02 23:24:41,672 - DSP - DEBUG - returning record: 9fd5745a-3b49-4390-9520-008e80d5974d\n",
      "2023-07-02 23:24:41,674 - DSP - DEBUG - returning record: 9fd5745a-3b49-4390-9520-008e80d5974d\n",
      "2023-07-02 23:24:41,675 - DSP - DEBUG - returning record: 9fd5745a-3b49-4390-9520-008e80d5974d\n",
      "2023-07-02 23:24:41,676 - DSP - DEBUG - returning record: 9fd5745a-3b49-4390-9520-008e80d5974d\n"
     ]
    }
   ],
   "source": [
    "import threading\n",
    "case5_cache_end_timerange = (datetime.now() + timedelta(days=2)).timestamp()\n",
    "\n",
    "    \n",
    "def run_snippet():\n",
    "    with dsp.settings.context(lm=lm, experiment_end_timestamp=case5_cache_end_timerange):\n",
    "        answer = dsp.settings.lm.basic_request(prompt=\"Q: which war did Archimedes invent war machines for?\\nA:\")\n",
    "\n",
    "threads = []\n",
    "for _ in range(10):\n",
    "    thread = threading.Thread(target=run_snippet)\n",
    "    thread.start()\n",
    "    threads.append(thread)\n",
    "\n",
    "for thread in threads:\n",
    "    thread.join()\n"
   ]
  },
  {
   "cell_type": "code",
   "execution_count": null,
   "id": "cdc42a13-9b13-44dc-a74a-4ed5da3d2212",
   "metadata": {},
   "outputs": [],
   "source": []
  }
 ],
 "metadata": {
  "kernelspec": {
   "display_name": "Python 3",
   "language": "python",
   "name": "python3"
  },
  "language_info": {
   "codemirror_mode": {
    "name": "ipython",
    "version": 3
   },
   "file_extension": ".py",
   "mimetype": "text/x-python",
   "name": "python",
   "nbconvert_exporter": "python",
   "pygments_lexer": "ipython3",
   "version": "3.9.12"
  },
  "widgets": {
   "application/vnd.jupyter.widget-state+json": {
    "state": {},
    "version_major": 2,
    "version_minor": 0
   }
  }
 },
 "nbformat": 4,
 "nbformat_minor": 5
}
