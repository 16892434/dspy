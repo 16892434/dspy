{
 "cells": [
  {
   "cell_type": "markdown",
   "id": "219211db",
   "metadata": {},
   "source": [
    "# Given example and template, demonstrate how chat adapter works"
   ]
  },
  {
   "cell_type": "code",
   "execution_count": 3,
   "id": "13235a66",
   "metadata": {},
   "outputs": [
    {
     "name": "stdout",
     "output_type": "stream",
     "text": [
      "The autoreload extension is already loaded. To reload it, use:\n",
      "  %reload_ext autoreload\n"
     ]
    }
   ],
   "source": [
    "%load_ext autoreload\n",
    "%autoreload 2\n",
    "\n",
    "import openai\n",
    "import os\n",
    "\n",
    "openai.api_key = os.getenv('PERSONAL_OPENAI_API_KEY')\n",
    "openai.api_base = os.getenv('API_BASE')"
   ]
  },
  {
   "cell_type": "code",
   "execution_count": 4,
   "id": "1810a047",
   "metadata": {},
   "outputs": [
    {
     "name": "stdout",
     "output_type": "stream",
     "text": [
      "Not loading Cohere because it is not installed.\n"
     ]
    }
   ],
   "source": [
    "try: import google.colab; root_path = 'dsp'\n",
    "except: root_path = '.'\n",
    "    \n",
    "import dsp\n",
    "    \n",
    "os.environ[\"DSP_NOTEBOOK_CACHEDIR\"] = os.path.join(root_path, 'cache')\n",
    "\n",
    "openai_key = os.getenv('PERSONAL_OPENAI_API_KEY')  # or replace with your API key (optional)\n",
    "colbert_server = 'http://ec2-44-228-128-229.us-west-2.compute.amazonaws.com:8893/api/search'"
   ]
  },
  {
   "cell_type": "code",
   "execution_count": 5,
   "id": "f61109d4",
   "metadata": {},
   "outputs": [],
   "source": [
    "train = [('Who produced the album that included a re-recording of \"Lithium\"?', ['Butch Vig']),\n",
    "         ('Who was the director of the 2009 movie featuring Peter Outerbridge as William Easton?', ['Kevin Greutert']),\n",
    "         ('The heir to the Du Pont family fortune sponsored what wrestling team?', ['Foxcatcher', 'Team Foxcatcher', 'Foxcatcher Team']),\n",
    "         ('In what year was the star of To Hell and Back born?', ['1925']),\n",
    "         ('Which award did the first book of Gary Zukav receive?', ['U.S. National Book Award', 'National Book Award']),\n",
    "         ('What city was the victim of Joseph Druces working in?', ['Boston, Massachusetts', 'Boston']),]\n",
    "\n",
    "# Train is an array of examples\n",
    "train = [dsp.Example(question=question, answer=answer) for question, answer in train]"
   ]
  },
  {
   "cell_type": "code",
   "execution_count": 6,
   "id": "cafcba3b",
   "metadata": {},
   "outputs": [],
   "source": [
    "dev = [('Who has a broader scope of profession: E. L. Doctorow or Julia Peterkin?', ['E. L. Doctorow', 'E.L. Doctorow', 'Doctorow']),\n",
    "       ('What documentary about the Gilgo Beach Killer debuted on A&E?', ['The Killing Season']),\n",
    "       ('Right Back At It Again contains lyrics co-written by the singer born in what city?', ['Gainesville, Florida', 'Gainesville']),\n",
    "       ('What year was the party of the winner of the 1971 San Francisco mayoral election founded?', ['1828']),\n",
    "       ('Which author is English: John Braine or Studs Terkel?', ['John Braine']),\n",
    "       ('Anthony Dirrell is the brother of which super middleweight title holder?', ['Andre Dirrell']),\n",
    "       ('In which city is the sports nutrition business established by Oliver Cookson based ?', ['Cheshire', 'Cheshire, UK']),\n",
    "       ('Find the birth date of the actor who played roles in First Wives Club and Searching for the Elephant.', ['February 13, 1980']),\n",
    "       ('Kyle Moran was born in the town on what river?', ['Castletown', 'Castletown River']),\n",
    "       (\"What is the name of one branch of Robert D. Braun's speciality?\", ['aeronautical engineering', 'astronautical engineering', 'aeronautics', 'astronautics']),\n",
    "       (\"Where was the actress who played the niece in the Priest film born?\", ['Surrey', 'Guildford, Surrey']),\n",
    "       ('Name the movie in which the daughter of Noel Harrison plays Violet Trefusis.', ['Portrait of a Marriage']),\n",
    "       ('What year was the father of the Princes in the Tower born?', ['1442'])]\n",
    "\n",
    "dev = [dsp.Example(question=question, answer=answer) for question, answer in dev]"
   ]
  },
  {
   "cell_type": "markdown",
   "id": "226a9107",
   "metadata": {},
   "source": [
    "Basic Adapter Input: Template with Example\n",
    "\n",
    "Basic Adapter Output: Prompt String\n",
    "\n",
    "Chat Adapter Input: Template with Example\n",
    "\n",
    "Chat Adapter Output: Prompt Dictionairy"
   ]
  },
  {
   "cell_type": "code",
   "execution_count": 7,
   "id": "ab0e23bf",
   "metadata": {},
   "outputs": [],
   "source": [
    "# Template, Demos, and Question Construction\n",
    "Question = dsp.Type(prefix=\"Question:\", desc=\"${the question to be answered}\")\n",
    "Answer = dsp.Type(prefix=\"Answer:\", desc=\"${a short factoid answer, often between 1 and 5 words}\", format=dsp.format_answers)\n",
    "qa_template = dsp.Template(instructions=\"Answer questions with short factoid answers.\", question=Question(), answer=Answer())\n",
    "\n",
    "question = dev[0].question\n",
    "demos = dsp.sample(train, k=1)\n",
    "training_demos = dsp.sample(train, k=4)\n",
    "example = dsp.Example(question=question, demos=demos)"
   ]
  },
  {
   "cell_type": "markdown",
   "id": "f579170f",
   "metadata": {},
   "source": [
    "### Load Models and Adapters"
   ]
  },
  {
   "cell_type": "code",
   "execution_count": 8,
   "id": "9109feb6",
   "metadata": {},
   "outputs": [],
   "source": [
    "rm = dsp.ColBERTv2(url=colbert_server)\n",
    "davinci = dsp.GPT3(model='text-davinci-002', api_key=openai_key)\n",
    "turbo = dsp.GPT3(model='gpt-3.5-turbo', api_key=openai_key, model_type=\"chat\")\n",
    "\n",
    "\n",
    "basic_adapter = dsp.modules.BasicAdapter()\n",
    "chat_adapter = dsp.modules.ChatAdapter()"
   ]
  },
  {
   "cell_type": "markdown",
   "id": "09dcb15e",
   "metadata": {},
   "source": [
    "## Basic Adapter"
   ]
  },
  {
   "cell_type": "markdown",
   "id": "b6847a05",
   "metadata": {},
   "source": [
    "### Basic Adapter with demos\n"
   ]
  },
  {
   "cell_type": "code",
   "execution_count": 35,
   "id": "f4204f54",
   "metadata": {
    "scrolled": true
   },
   "outputs": [
    {
     "name": "stdout",
     "output_type": "stream",
     "text": [
      "------\n",
      "PARTS\n",
      "instructions:\n",
      "Answer questions with short factoid answers.\n",
      "guidelines:\n",
      "Follow the following format.\n",
      "\n",
      "Question: ${the question to be answered}\n",
      "Answer: ${a short factoid answer, often between 1 and 5 words}\n",
      "rdemos:\n",
      "['Question: Which award did the first book of Gary Zukav receive?\\nAnswer: U.S. National Book Award']\n",
      "ademos:\n",
      "[]\n",
      "query:\n",
      "Question: Who has a broader scope of profession: E. L. Doctorow or Julia Peterkin?\n",
      "Answer: \n",
      "long_query:\n",
      "False\n",
      "------\n",
      "PROMPT\n",
      "Answer questions with short factoid answers.\n",
      "\n",
      "---\n",
      "\n",
      "Follow the following format.\n",
      "\n",
      "Question: ${the question to be answered}\n",
      "Answer: ${a short factoid answer, often between 1 and 5 words}\n",
      "\n",
      "---\n",
      "\n",
      "Question: Which award did the first book of Gary Zukav receive?\n",
      "Answer: U.S. National Book Award\n",
      "\n",
      "Question: Who has a broader scope of profession: E. L. Doctorow or Julia Peterkin?\n",
      "Answer:\n"
     ]
    }
   ],
   "source": [
    "dsp.settings.configure(lm=davinci, rm=rm)\n",
    "\n",
    "parts = qa_template(example)\n",
    "prompt = basic_adapter(parts)\n",
    "\n",
    "print(\"------\")\n",
    "print(\"PARTS\")\n",
    "for k, v in parts.items():\n",
    "    print(k+\":\")\n",
    "    print(v)\n",
    "\n",
    "print(\"------\")\n",
    "print(\"PROMPT\")\n",
    "print(prompt)"
   ]
  },
  {
   "cell_type": "markdown",
   "id": "5e9c3ff3",
   "metadata": {},
   "source": [
    "### Chat Adapter with demos"
   ]
  },
  {
   "cell_type": "code",
   "execution_count": 36,
   "id": "ccfba721",
   "metadata": {
    "scrolled": true
   },
   "outputs": [
    {
     "name": "stdout",
     "output_type": "stream",
     "text": [
      "------\n",
      "parts\n",
      "instructions:\n",
      "Answer questions with short factoid answers.\n",
      "guidelines:\n",
      "Follow the following format.\n",
      "\n",
      "Question: ${the question to be answered}\n",
      "Answer: ${a short factoid answer, often between 1 and 5 words}\n",
      "rdemos:\n",
      "['Question: Which award did the first book of Gary Zukav receive?\\nAnswer: U.S. National Book Award']\n",
      "ademos:\n",
      "[]\n",
      "query:\n",
      "Question: Who has a broader scope of profession: E. L. Doctorow or Julia Peterkin?\n",
      "Answer: \n",
      "long_query:\n",
      "False\n",
      "------\n",
      "prompt\n",
      "model:\n",
      "gpt-3.5-turbo\n",
      "messages:\n",
      "{'role': 'user', 'content': 'Answer questions with short factoid answers.\\n\\n---\\n\\nFollow the following format.\\n\\nQuestion: ${the question to be answered}\\nAnswer: ${a short factoid answer, often between 1 and 5 words}\\n\\n---\\n\\nQuestion: Which award did the first book of Gary Zukav receive?\\nAnswer: U.S. National Book Award\\n\\nQuestion: Who has a broader scope of profession: E. L. Doctorow or Julia Peterkin?\\nAnswer:'}\n"
     ]
    }
   ],
   "source": [
    "dsp.settings.configure(lm=turbo, rm=rm)\n",
    "\n",
    "example = dsp.Example(question=question, demos=demos)\n",
    "parts = qa_template(example)\n",
    "prompt = chat_adapter(parts)\n",
    "\n",
    "print(\"------\")\n",
    "print(\"parts\")\n",
    "for k, v in parts.items():\n",
    "    print(k+\":\")\n",
    "    print(v)\n",
    "\n",
    "print(\"------\")\n",
    "print(\"prompt\")\n",
    "for k, v in prompt.items():\n",
    "    print(k+\":\")\n",
    "    if k==\"messages\":\n",
    "        for turn in v:\n",
    "            print(turn)\n",
    "    else:\n",
    "        print(v)"
   ]
  },
  {
   "cell_type": "markdown",
   "id": "c8753768",
   "metadata": {},
   "source": [
    "### Basic Adapter with no demos"
   ]
  },
  {
   "cell_type": "code",
   "execution_count": 37,
   "id": "6552e0ab",
   "metadata": {
    "scrolled": true
   },
   "outputs": [
    {
     "name": "stdout",
     "output_type": "stream",
     "text": [
      "------\n",
      "PARTS\n",
      "instructions:\n",
      "Answer questions with short factoid answers.\n",
      "guidelines:\n",
      "Follow the following format.\n",
      "\n",
      "Question: ${the question to be answered}\n",
      "Answer: ${a short factoid answer, often between 1 and 5 words}\n",
      "rdemos:\n",
      "[]\n",
      "ademos:\n",
      "[]\n",
      "query:\n",
      "Question: Who has a broader scope of profession: E. L. Doctorow or Julia Peterkin?\n",
      "Answer: \n",
      "long_query:\n",
      "False\n",
      "------\n",
      "PROMPT\n",
      "Answer questions with short factoid answers.\n",
      "\n",
      "---\n",
      "\n",
      "Follow the following format.\n",
      "\n",
      "Question: ${the question to be answered}\n",
      "Answer: ${a short factoid answer, often between 1 and 5 words}\n",
      "\n",
      "---\n",
      "\n",
      "Question: Who has a broader scope of profession: E. L. Doctorow or Julia Peterkin?\n",
      "Answer:\n"
     ]
    }
   ],
   "source": [
    "dsp.settings.configure(lm=davinci, rm=rm)\n",
    "\n",
    "example = dsp.Example(question=question)\n",
    "parts = qa_template(example)\n",
    "prompt = basic_adapter(parts)\n",
    "\n",
    "print(\"------\")\n",
    "print(\"PARTS\")\n",
    "for k, v in parts.items():\n",
    "    print(k+\":\")\n",
    "    print(v)\n",
    "\n",
    "print(\"------\")\n",
    "print(\"PROMPT\")\n",
    "print(prompt)"
   ]
  },
  {
   "cell_type": "markdown",
   "id": "4089048b",
   "metadata": {},
   "source": [
    "### Chat Adapter with no demos\n"
   ]
  },
  {
   "cell_type": "code",
   "execution_count": 38,
   "id": "d4b9f51d",
   "metadata": {
    "scrolled": true
   },
   "outputs": [
    {
     "name": "stdout",
     "output_type": "stream",
     "text": [
      "------\n",
      "PARTS\n",
      "instructions:\n",
      "Answer questions with short factoid answers.\n",
      "guidelines:\n",
      "Follow the following format.\n",
      "\n",
      "Question: ${the question to be answered}\n",
      "Answer: ${a short factoid answer, often between 1 and 5 words}\n",
      "rdemos:\n",
      "[]\n",
      "ademos:\n",
      "[]\n",
      "query:\n",
      "Question: Who has a broader scope of profession: E. L. Doctorow or Julia Peterkin?\n",
      "Answer: \n",
      "long_query:\n",
      "False\n",
      "------\n",
      "PROMPT\n",
      "{'model': 'gpt-3.5-turbo', 'messages': [{'role': 'user', 'content': 'Answer questions with short factoid answers.\\n\\n---\\n\\nFollow the following format.\\n\\nQuestion: ${the question to be answered}\\nAnswer: ${a short factoid answer, often between 1 and 5 words}\\n\\n---\\n\\nQuestion: Who has a broader scope of profession: E. L. Doctorow or Julia Peterkin?\\nAnswer:'}]}\n"
     ]
    }
   ],
   "source": [
    "dsp.settings.configure(lm=turbo, rm=rm)\n",
    "\n",
    "example = dsp.Example(question=question)\n",
    "parts = qa_template(example)\n",
    "prompt = chat_adapter(parts)\n",
    "\n",
    "print(\"------\")\n",
    "print(\"PARTS\")\n",
    "for k, v in parts.items():\n",
    "    print(k+\":\")\n",
    "    print(v)\n",
    "\n",
    "print(\"------\")\n",
    "print(\"PROMPT\")\n",
    "print(prompt)"
   ]
  },
  {
   "cell_type": "markdown",
   "id": "bd38d034",
   "metadata": {},
   "source": [
    "### Basic Adapter with demos and context"
   ]
  },
  {
   "cell_type": "code",
   "execution_count": 39,
   "id": "9c6b7a33",
   "metadata": {
    "scrolled": true
   },
   "outputs": [],
   "source": [
    "Context = dsp.Type(\n",
    "    prefix=\"Context:\\n\",\n",
    "    desc=\"${sources that may contain relevant content}\",\n",
    "    format=dsp.passages2text\n",
    ")\n",
    "\n",
    "qa_template_with_passages = dsp.Template(\n",
    "    instructions=qa_template.instructions,\n",
    "    context=Context(), question=Question(), answer=Answer()\n",
    ")\n",
    "\n",
    "passages = dsp.retrieve(question, k=1)\n",
    "example = dsp.Example(question=question, context=passages, demos=demos)"
   ]
  },
  {
   "cell_type": "code",
   "execution_count": 40,
   "id": "465c9778",
   "metadata": {
    "scrolled": true
   },
   "outputs": [
    {
     "name": "stdout",
     "output_type": "stream",
     "text": [
      "------\n",
      "PASSAGES\n",
      "0:\n",
      "Julia Peterkin | Julia Peterkin Julia Peterkin (October 31, 1880 – August 10, 1961) was an American author from South Carolina. In 1929 she won the Pulitzer Prize for Novel/Literature, for her novel \"Scarlet Sister Mary.\" She wrote several novels about the plantation South, especially the Gullah people of the Low Country. She was one of the few white authors who wrote about the African-American experience. Julia Mood was born in Laurens County, South Carolina. Her father was a physician, and she was the third of his four children. Her mother died soon after her birth, and her father later married Janie Brogdon.\n",
      "------\n",
      "PARTS\n",
      "instructions:\n",
      "Answer questions with short factoid answers.\n",
      "guidelines:\n",
      "Follow the following format.\n",
      "\n",
      "Context:\n",
      "${sources that may contain relevant content}\n",
      "\n",
      "Question: ${the question to be answered}\n",
      "\n",
      "Answer: ${a short factoid answer, often between 1 and 5 words}\n",
      "rdemos:\n",
      "['Question: Which award did the first book of Gary Zukav receive?\\nAnswer: U.S. National Book Award']\n",
      "ademos:\n",
      "[]\n",
      "query:\n",
      "Context:\n",
      "«Julia Peterkin | Julia Peterkin Julia Peterkin (October 31, 1880 – August 10, 1961) was an American author from South Carolina. In 1929 she won the Pulitzer Prize for Novel/Literature, for her novel \"Scarlet Sister Mary.\" She wrote several novels about the plantation South, especially the Gullah people of the Low Country. She was one of the few white authors who wrote about the African-American experience. Julia Mood was born in Laurens County, South Carolina. Her father was a physician, and she was the third of his four children. Her mother died soon after her birth, and her father later married Janie Brogdon.»\n",
      "\n",
      "Question: Who has a broader scope of profession: E. L. Doctorow or Julia Peterkin?\n",
      "\n",
      "Answer: \n",
      "long_query:\n",
      "True\n",
      "------\n",
      "PROMPT\n",
      "Answer questions with short factoid answers.\n",
      "\n",
      "---\n",
      "\n",
      "Question: Which award did the first book of Gary Zukav receive?\n",
      "Answer: U.S. National Book Award\n",
      "\n",
      "---\n",
      "\n",
      "Follow the following format.\n",
      "\n",
      "Context:\n",
      "${sources that may contain relevant content}\n",
      "\n",
      "Question: ${the question to be answered}\n",
      "\n",
      "Answer: ${a short factoid answer, often between 1 and 5 words}\n",
      "\n",
      "---\n",
      "\n",
      "Context:\n",
      "«Julia Peterkin | Julia Peterkin Julia Peterkin (October 31, 1880 – August 10, 1961) was an American author from South Carolina. In 1929 she won the Pulitzer Prize for Novel/Literature, for her novel \"Scarlet Sister Mary.\" She wrote several novels about the plantation South, especially the Gullah people of the Low Country. She was one of the few white authors who wrote about the African-American experience. Julia Mood was born in Laurens County, South Carolina. Her father was a physician, and she was the third of his four children. Her mother died soon after her birth, and her father later married Janie Brogdon.»\n",
      "\n",
      "Question: Who has a broader scope of profession: E. L. Doctorow or Julia Peterkin?\n",
      "\n",
      "Answer:\n"
     ]
    }
   ],
   "source": [
    "dsp.settings.configure(lm=davinci, rm=rm)\n",
    "parts = qa_template_with_passages(example)\n",
    "prompt = basic_adapter(parts)\n",
    "\n",
    "print(\"------\")\n",
    "print(\"PASSAGES\")\n",
    "for i, v in enumerate(passages):\n",
    "    print(str(i)+\":\")\n",
    "    print(v)\n",
    "\n",
    "print(\"------\")\n",
    "print(\"PARTS\")\n",
    "for k, v in parts.items():\n",
    "    print(k+\":\")\n",
    "    print(v)\n",
    "\n",
    "print(\"------\")\n",
    "print(\"PROMPT\")\n",
    "print(prompt)"
   ]
  },
  {
   "cell_type": "markdown",
   "id": "0774400c",
   "metadata": {},
   "source": [
    "### Chat Adapter with demos and context"
   ]
  },
  {
   "cell_type": "code",
   "execution_count": 41,
   "id": "649dee23",
   "metadata": {
    "scrolled": true
   },
   "outputs": [
    {
     "name": "stdout",
     "output_type": "stream",
     "text": [
      "------\n",
      "PASSAGES\n",
      "0:\n",
      "Julia Peterkin | Julia Peterkin Julia Peterkin (October 31, 1880 – August 10, 1961) was an American author from South Carolina. In 1929 she won the Pulitzer Prize for Novel/Literature, for her novel \"Scarlet Sister Mary.\" She wrote several novels about the plantation South, especially the Gullah people of the Low Country. She was one of the few white authors who wrote about the African-American experience. Julia Mood was born in Laurens County, South Carolina. Her father was a physician, and she was the third of his four children. Her mother died soon after her birth, and her father later married Janie Brogdon.\n",
      "------\n",
      "PARTS\n",
      "instructions:\n",
      "Answer questions with short factoid answers.\n",
      "guidelines:\n",
      "Follow the following format.\n",
      "\n",
      "Context:\n",
      "${sources that may contain relevant content}\n",
      "\n",
      "Question: ${the question to be answered}\n",
      "\n",
      "Answer: ${a short factoid answer, often between 1 and 5 words}\n",
      "rdemos:\n",
      "['Question: Which award did the first book of Gary Zukav receive?\\nAnswer: U.S. National Book Award']\n",
      "ademos:\n",
      "[]\n",
      "query:\n",
      "Context:\n",
      "«Julia Peterkin | Julia Peterkin Julia Peterkin (October 31, 1880 – August 10, 1961) was an American author from South Carolina. In 1929 she won the Pulitzer Prize for Novel/Literature, for her novel \"Scarlet Sister Mary.\" She wrote several novels about the plantation South, especially the Gullah people of the Low Country. She was one of the few white authors who wrote about the African-American experience. Julia Mood was born in Laurens County, South Carolina. Her father was a physician, and she was the third of his four children. Her mother died soon after her birth, and her father later married Janie Brogdon.»\n",
      "\n",
      "Question: Who has a broader scope of profession: E. L. Doctorow or Julia Peterkin?\n",
      "\n",
      "Answer: \n",
      "long_query:\n",
      "True\n",
      "------\n",
      "PROMPT\n",
      "gpt-3.5-turbo\n",
      "messages\n",
      "0:\n",
      "{'role': 'user', 'content': 'Answer questions with short factoid answers.\\n\\n---\\n\\nQuestion: Which award did the first book of Gary Zukav receive?\\nAnswer: U.S. National Book Award\\n\\n---\\n\\nFollow the following format.\\n\\nContext:\\n${sources that may contain relevant content}\\n\\nQuestion: ${the question to be answered}\\n\\nAnswer: ${a short factoid answer, often between 1 and 5 words}\\n\\n---\\n\\nContext:\\n«Julia Peterkin | Julia Peterkin Julia Peterkin (October 31, 1880 – August 10, 1961) was an American author from South Carolina. In 1929 she won the Pulitzer Prize for Novel/Literature, for her novel \"Scarlet Sister Mary.\" She wrote several novels about the plantation South, especially the Gullah people of the Low Country. She was one of the few white authors who wrote about the African-American experience. Julia Mood was born in Laurens County, South Carolina. Her father was a physician, and she was the third of his four children. Her mother died soon after her birth, and her father later married Janie Brogdon.»\\n\\nQuestion: Who has a broader scope of profession: E. L. Doctorow or Julia Peterkin?\\n\\nAnswer:'}\n"
     ]
    }
   ],
   "source": [
    "dsp.settings.configure(lm=turbo, rm=rm)\n",
    "\n",
    "parts = qa_template_with_passages(example)\n",
    "prompt = chat_adapter(parts)\n",
    "\n",
    "print(\"------\")\n",
    "print(\"PASSAGES\")\n",
    "for i, v in enumerate(passages):\n",
    "    print(str(i)+\":\")\n",
    "    print(v)\n",
    "\n",
    "print(\"------\")\n",
    "print(\"PARTS\")\n",
    "for k, v in parts.items():\n",
    "    print(k+\":\")\n",
    "    print(v)\n",
    "\n",
    "print(\"------\")\n",
    "print(\"PROMPT\")\n",
    "print(prompt['model'])\n",
    "print(\"messages\")\n",
    "for i, v in enumerate(prompt['messages']):\n",
    "    print(str(i)+\":\")\n",
    "    print(v)"
   ]
  },
  {
   "cell_type": "markdown",
   "id": "6116b0e4",
   "metadata": {},
   "source": [
    "# Program 1: Vanilla GPT-3.5"
   ]
  },
  {
   "cell_type": "code",
   "execution_count": 9,
   "id": "635800d7",
   "metadata": {},
   "outputs": [],
   "source": [
    "from dsp.evaluation.utils import evaluate\n",
    "\n",
    "def vanilla_LM_QA(q: str) -> str:\n",
    "    e = dsp.Example(question=q, demos=training_demos)\n",
    "    e, completions = dsp.generate(qa_template)(e, stage='qa')\n",
    "    return completions.answer"
   ]
  },
  {
   "cell_type": "markdown",
   "id": "93eee16d",
   "metadata": {},
   "source": [
    "## Testing Chat Adapter Flags with demos"
   ]
  },
  {
   "cell_type": "markdown",
   "id": "956a8cfc",
   "metadata": {},
   "source": [
    "### Chat Adapter with system_turn=True, multi_turn=True, strict_turn=True"
   ]
  },
  {
   "cell_type": "code",
   "execution_count": 10,
   "id": "1e80f347",
   "metadata": {
    "scrolled": true
   },
   "outputs": [
    {
     "name": "stdout",
     "output_type": "stream",
     "text": [
      "------\n",
      "parts\n",
      "instructions:\n",
      "Answer questions with short factoid answers.\n",
      "guidelines:\n",
      "Follow the following format.\n",
      "\n",
      "Question: ${the question to be answered}\n",
      "Answer: ${a short factoid answer, often between 1 and 5 words}\n",
      "rdemos:\n",
      "['Question: Which award did the first book of Gary Zukav receive?\\nAnswer: U.S. National Book Award']\n",
      "ademos:\n",
      "[]\n",
      "query:\n",
      "Question: Who has a broader scope of profession: E. L. Doctorow or Julia Peterkin?\n",
      "Answer: \n",
      "long_query:\n",
      "False\n",
      "------\n",
      "prompt\n",
      "model:\n",
      "gpt-3.5-turbo\n",
      "messages:\n",
      "{'role': 'system', 'content': 'Answer questions with short factoid answers.'}\n",
      "{'role': 'user', 'content': 'Follow the following format.\\n\\nQuestion: ${the question to be answered}\\nAnswer: ${a short factoid answer, often between 1 and 5 words}'}\n",
      "{'role': 'assistant', 'content': 'Got it.'}\n",
      "{'role': 'user', 'content': 'Question: Which award did the first book of Gary Zukav receive?\\nAnswer: U.S. National Book Award'}\n",
      "{'role': 'assistant', 'content': 'Got it.'}\n",
      "{'role': 'user', 'content': 'Question: Who has a broader scope of profession: E. L. Doctorow or Julia Peterkin?\\nAnswer:'}\n"
     ]
    }
   ],
   "source": [
    "dsp.settings.configure(lm=turbo, rm=rm)\n",
    "\n",
    "example = dsp.Example(question=question, demos=demos)\n",
    "parts = qa_template(example)\n",
    "prompt = chat_adapter(parts, system_turn=True, multi_turn=True, strict_turn=True)\n",
    "\n",
    "print(\"------\")\n",
    "print(\"parts\")\n",
    "for k, v in parts.items():\n",
    "    print(k+\":\")\n",
    "    print(v)\n",
    "\n",
    "print(\"------\")\n",
    "print(\"prompt\")\n",
    "for k, v in prompt.items():\n",
    "    print(k+\":\")\n",
    "    if k==\"messages\":\n",
    "        for turn in v:\n",
    "            print(turn)\n",
    "    else:\n",
    "        print(v)"
   ]
  },
  {
   "cell_type": "code",
   "execution_count": 11,
   "id": "cfeb80b3",
   "metadata": {},
   "outputs": [
    {
     "ename": "InvalidRequestError",
     "evalue": "Invalid key (or out of budget).",
     "output_type": "error",
     "traceback": [
      "\u001b[0;31m---------------------------------------------------------------------------\u001b[0m",
      "\u001b[0;31mInvalidRequestError\u001b[0m                       Traceback (most recent call last)",
      "Cell \u001b[0;32mIn[11], line 1\u001b[0m\n\u001b[0;32m----> 1\u001b[0m \u001b[43mvanilla_LM_QA\u001b[49m\u001b[43m(\u001b[49m\u001b[43mdev\u001b[49m\u001b[43m[\u001b[49m\u001b[38;5;241;43m0\u001b[39;49m\u001b[43m]\u001b[49m\u001b[38;5;241;43m.\u001b[39;49m\u001b[43mquestion\u001b[49m\u001b[43m)\u001b[49m, lm\u001b[38;5;241m.\u001b[39minspect_history(n\u001b[38;5;241m=\u001b[39m\u001b[38;5;241m1\u001b[39m)\n",
      "Cell \u001b[0;32mIn[9], line 5\u001b[0m, in \u001b[0;36mvanilla_LM_QA\u001b[0;34m(q)\u001b[0m\n\u001b[1;32m      3\u001b[0m \u001b[38;5;28;01mdef\u001b[39;00m \u001b[38;5;21mvanilla_LM_QA\u001b[39m(q: \u001b[38;5;28mstr\u001b[39m) \u001b[38;5;241m-\u001b[39m\u001b[38;5;241m>\u001b[39m \u001b[38;5;28mstr\u001b[39m:\n\u001b[1;32m      4\u001b[0m     e \u001b[38;5;241m=\u001b[39m dsp\u001b[38;5;241m.\u001b[39mExample(question\u001b[38;5;241m=\u001b[39mq, demos\u001b[38;5;241m=\u001b[39mtraining_demos)\n\u001b[0;32m----> 5\u001b[0m     e, completions \u001b[38;5;241m=\u001b[39m \u001b[43mdsp\u001b[49m\u001b[38;5;241;43m.\u001b[39;49m\u001b[43mgenerate\u001b[49m\u001b[43m(\u001b[49m\u001b[43mqa_template\u001b[49m\u001b[43m)\u001b[49m\u001b[43m(\u001b[49m\u001b[43me\u001b[49m\u001b[43m,\u001b[49m\u001b[43m \u001b[49m\u001b[43mstage\u001b[49m\u001b[38;5;241;43m=\u001b[39;49m\u001b[38;5;124;43m'\u001b[39;49m\u001b[38;5;124;43mqa\u001b[39;49m\u001b[38;5;124;43m'\u001b[39;49m\u001b[43m)\u001b[49m\n\u001b[1;32m      6\u001b[0m     \u001b[38;5;28;01mreturn\u001b[39;00m completions\u001b[38;5;241m.\u001b[39manswer\n",
      "File \u001b[0;32m~/programming/dsp/dsp/primitives/predict.py:78\u001b[0m, in \u001b[0;36m_generate.<locals>.do_generate\u001b[0;34m(example, stage, max_depth, original_example)\u001b[0m\n\u001b[1;32m     76\u001b[0m \u001b[38;5;66;03m# Generate and extract the fields.\u001b[39;00m\n\u001b[1;32m     77\u001b[0m prompt \u001b[38;5;241m=\u001b[39m adapter(template(example))\n\u001b[0;32m---> 78\u001b[0m completions: \u001b[38;5;28mlist\u001b[39m[\u001b[38;5;28mdict\u001b[39m[\u001b[38;5;28mstr\u001b[39m, Any]] \u001b[38;5;241m=\u001b[39m \u001b[43mgenerator\u001b[49m\u001b[43m(\u001b[49m\u001b[43mprompt\u001b[49m\u001b[43m,\u001b[49m\u001b[43m \u001b[49m\u001b[38;5;241;43m*\u001b[39;49m\u001b[38;5;241;43m*\u001b[39;49m\u001b[43mkwargs\u001b[49m\u001b[43m)\u001b[49m\n\u001b[1;32m     79\u001b[0m completions: \u001b[38;5;28mlist\u001b[39m[Example] \u001b[38;5;241m=\u001b[39m [template\u001b[38;5;241m.\u001b[39mextract(example, p) \u001b[38;5;28;01mfor\u001b[39;00m p \u001b[38;5;129;01min\u001b[39;00m completions]\n\u001b[1;32m     81\u001b[0m \u001b[38;5;66;03m# Find the completions that are most comple\u001b[39;00m\n",
      "File \u001b[0;32m~/programming/dsp/dsp/modules/gpt3.py:321\u001b[0m, in \u001b[0;36mGPT3.__call__\u001b[0;34m(self, prompt, only_completed, return_sorted, **kwargs)\u001b[0m\n\u001b[1;32m    318\u001b[0m     \u001b[38;5;28;01melse\u001b[39;00m:\n\u001b[1;32m    319\u001b[0m         kwargs \u001b[38;5;241m=\u001b[39m {\u001b[38;5;241m*\u001b[39m\u001b[38;5;241m*\u001b[39mkwargs, \u001b[38;5;124m\"\u001b[39m\u001b[38;5;124mlogprobs\u001b[39m\u001b[38;5;124m\"\u001b[39m: \u001b[38;5;241m5\u001b[39m}\n\u001b[0;32m--> 321\u001b[0m response \u001b[38;5;241m=\u001b[39m \u001b[38;5;28;43mself\u001b[39;49m\u001b[38;5;241;43m.\u001b[39;49m\u001b[43mrequest\u001b[49m\u001b[43m(\u001b[49m\u001b[43mprompt\u001b[49m\u001b[43m,\u001b[49m\u001b[43m \u001b[49m\u001b[38;5;241;43m*\u001b[39;49m\u001b[38;5;241;43m*\u001b[39;49m\u001b[43mkwargs\u001b[49m\u001b[43m)\u001b[49m\n\u001b[1;32m    322\u001b[0m choices \u001b[38;5;241m=\u001b[39m response[\u001b[38;5;124m\"\u001b[39m\u001b[38;5;124mchoices\u001b[39m\u001b[38;5;124m\"\u001b[39m]\n\u001b[1;32m    324\u001b[0m completed_choices \u001b[38;5;241m=\u001b[39m [c \u001b[38;5;28;01mfor\u001b[39;00m c \u001b[38;5;129;01min\u001b[39;00m choices \u001b[38;5;28;01mif\u001b[39;00m c[\u001b[38;5;124m\"\u001b[39m\u001b[38;5;124mfinish_reason\u001b[39m\u001b[38;5;124m\"\u001b[39m] \u001b[38;5;241m!=\u001b[39m \u001b[38;5;124m\"\u001b[39m\u001b[38;5;124mlength\u001b[39m\u001b[38;5;124m\"\u001b[39m]\n",
      "File \u001b[0;32m/usr/local/lib/python3.11/site-packages/backoff/_sync.py:105\u001b[0m, in \u001b[0;36mretry_exception.<locals>.retry\u001b[0;34m(*args, **kwargs)\u001b[0m\n\u001b[1;32m     96\u001b[0m details \u001b[38;5;241m=\u001b[39m {\n\u001b[1;32m     97\u001b[0m     \u001b[38;5;124m\"\u001b[39m\u001b[38;5;124mtarget\u001b[39m\u001b[38;5;124m\"\u001b[39m: target,\n\u001b[1;32m     98\u001b[0m     \u001b[38;5;124m\"\u001b[39m\u001b[38;5;124margs\u001b[39m\u001b[38;5;124m\"\u001b[39m: args,\n\u001b[0;32m   (...)\u001b[0m\n\u001b[1;32m    101\u001b[0m     \u001b[38;5;124m\"\u001b[39m\u001b[38;5;124melapsed\u001b[39m\u001b[38;5;124m\"\u001b[39m: elapsed,\n\u001b[1;32m    102\u001b[0m }\n\u001b[1;32m    104\u001b[0m \u001b[38;5;28;01mtry\u001b[39;00m:\n\u001b[0;32m--> 105\u001b[0m     ret \u001b[38;5;241m=\u001b[39m \u001b[43mtarget\u001b[49m\u001b[43m(\u001b[49m\u001b[38;5;241;43m*\u001b[39;49m\u001b[43margs\u001b[49m\u001b[43m,\u001b[49m\u001b[43m \u001b[49m\u001b[38;5;241;43m*\u001b[39;49m\u001b[38;5;241;43m*\u001b[39;49m\u001b[43mkwargs\u001b[49m\u001b[43m)\u001b[49m\n\u001b[1;32m    106\u001b[0m \u001b[38;5;28;01mexcept\u001b[39;00m exception \u001b[38;5;28;01mas\u001b[39;00m e:\n\u001b[1;32m    107\u001b[0m     max_tries_exceeded \u001b[38;5;241m=\u001b[39m (tries \u001b[38;5;241m==\u001b[39m max_tries_value)\n",
      "File \u001b[0;32m~/programming/dsp/dsp/modules/gpt3.py:287\u001b[0m, in \u001b[0;36mGPT3.request\u001b[0;34m(self, prompt, **kwargs)\u001b[0m\n\u001b[1;32m    284\u001b[0m \u001b[38;5;28;01mif\u001b[39;00m \u001b[38;5;124m\"\u001b[39m\u001b[38;5;124mmodel_type\u001b[39m\u001b[38;5;124m\"\u001b[39m \u001b[38;5;129;01min\u001b[39;00m kwargs:\n\u001b[1;32m    285\u001b[0m     \u001b[38;5;28;01mdel\u001b[39;00m kwargs[\u001b[38;5;124m\"\u001b[39m\u001b[38;5;124mmodel_type\u001b[39m\u001b[38;5;124m\"\u001b[39m]\n\u001b[0;32m--> 287\u001b[0m \u001b[38;5;28;01mreturn\u001b[39;00m \u001b[38;5;28;43mself\u001b[39;49m\u001b[38;5;241;43m.\u001b[39;49m\u001b[43mbasic_request\u001b[49m\u001b[43m(\u001b[49m\u001b[43mprompt\u001b[49m\u001b[43m,\u001b[49m\u001b[43m \u001b[49m\u001b[38;5;241;43m*\u001b[39;49m\u001b[38;5;241;43m*\u001b[39;49m\u001b[43mkwargs\u001b[49m\u001b[43m)\u001b[49m\n",
      "File \u001b[0;32m~/programming/dsp/dsp/modules/gpt3.py:261\u001b[0m, in \u001b[0;36mGPT3.basic_request\u001b[0;34m(self, prompt, **kwargs)\u001b[0m\n\u001b[1;32m    257\u001b[0m     kwargs[\u001b[38;5;124m\"\u001b[39m\u001b[38;5;124mmessages\u001b[39m\u001b[38;5;124m\"\u001b[39m] \u001b[38;5;241m=\u001b[39m \u001b[38;5;28mtuple\u001b[39m(prompt[\u001b[38;5;124m\"\u001b[39m\u001b[38;5;124mmessages\u001b[39m\u001b[38;5;124m\"\u001b[39m])\n\u001b[1;32m    258\u001b[0m     kwargs \u001b[38;5;241m=\u001b[39m {\n\u001b[1;32m    259\u001b[0m         \u001b[38;5;124m\"\u001b[39m\u001b[38;5;124mstringify_request\u001b[39m\u001b[38;5;124m\"\u001b[39m: json\u001b[38;5;241m.\u001b[39mdumps(kwargs)\n\u001b[1;32m    260\u001b[0m     }\n\u001b[0;32m--> 261\u001b[0m     response \u001b[38;5;241m=\u001b[39m \u001b[43mcached_gpt3_turbo_request\u001b[49m\u001b[43m(\u001b[49m\u001b[38;5;241;43m*\u001b[39;49m\u001b[38;5;241;43m*\u001b[39;49m\u001b[43mkwargs\u001b[49m\u001b[43m)\u001b[49m\u001b[38;5;241m.\u001b[39mstrip()\n\u001b[1;32m    262\u001b[0m \u001b[38;5;28;01melse\u001b[39;00m:\n\u001b[1;32m    263\u001b[0m     kwargs[\u001b[38;5;124m\"\u001b[39m\u001b[38;5;124mprompt\u001b[39m\u001b[38;5;124m\"\u001b[39m] \u001b[38;5;241m=\u001b[39m prompt\n",
      "File \u001b[0;32m~/programming/dsp/dsp/modules/cache_utils.py:16\u001b[0m, in \u001b[0;36mnoop_decorator.<locals>.wrapper\u001b[0;34m(*args, **kwargs)\u001b[0m\n\u001b[1;32m     14\u001b[0m \u001b[38;5;129m@wraps\u001b[39m(func)\n\u001b[1;32m     15\u001b[0m \u001b[38;5;28;01mdef\u001b[39;00m \u001b[38;5;21mwrapper\u001b[39m(\u001b[38;5;241m*\u001b[39margs, \u001b[38;5;241m*\u001b[39m\u001b[38;5;241m*\u001b[39mkwargs):\n\u001b[0;32m---> 16\u001b[0m     \u001b[38;5;28;01mreturn\u001b[39;00m \u001b[43mfunc\u001b[49m\u001b[43m(\u001b[49m\u001b[38;5;241;43m*\u001b[39;49m\u001b[43margs\u001b[49m\u001b[43m,\u001b[49m\u001b[43m \u001b[49m\u001b[38;5;241;43m*\u001b[39;49m\u001b[38;5;241;43m*\u001b[39;49m\u001b[43mkwargs\u001b[49m\u001b[43m)\u001b[49m\n",
      "File \u001b[0;32m~/programming/dsp/dsp/modules/gpt3.py:377\u001b[0m, in \u001b[0;36m_cached_gpt3_turbo_request_v2_wrapped\u001b[0;34m(**kwargs)\u001b[0m\n\u001b[1;32m    374\u001b[0m \u001b[38;5;129m@functools\u001b[39m\u001b[38;5;241m.\u001b[39mlru_cache(maxsize\u001b[38;5;241m=\u001b[39m\u001b[38;5;28;01mNone\u001b[39;00m \u001b[38;5;28;01mif\u001b[39;00m cache_turn_on \u001b[38;5;28;01melse\u001b[39;00m \u001b[38;5;241m0\u001b[39m)\n\u001b[1;32m    375\u001b[0m \u001b[38;5;129m@NotebookCacheMemory\u001b[39m\u001b[38;5;241m.\u001b[39mcache\n\u001b[1;32m    376\u001b[0m \u001b[38;5;28;01mdef\u001b[39;00m \u001b[38;5;21m_cached_gpt3_turbo_request_v2_wrapped\u001b[39m(\u001b[38;5;241m*\u001b[39m\u001b[38;5;241m*\u001b[39mkwargs) \u001b[38;5;241m-\u001b[39m\u001b[38;5;241m>\u001b[39m OpenAIObject:\n\u001b[0;32m--> 377\u001b[0m     \u001b[38;5;28;01mreturn\u001b[39;00m \u001b[43m_cached_gpt3_turbo_request_v2\u001b[49m\u001b[43m(\u001b[49m\u001b[38;5;241;43m*\u001b[39;49m\u001b[38;5;241;43m*\u001b[39;49m\u001b[43mkwargs\u001b[49m\u001b[43m)\u001b[49m\n",
      "File \u001b[0;32m/usr/local/lib/python3.11/site-packages/joblib/memory.py:594\u001b[0m, in \u001b[0;36mMemorizedFunc.__call__\u001b[0;34m(self, *args, **kwargs)\u001b[0m\n\u001b[1;32m    593\u001b[0m \u001b[38;5;28;01mdef\u001b[39;00m \u001b[38;5;21m__call__\u001b[39m(\u001b[38;5;28mself\u001b[39m, \u001b[38;5;241m*\u001b[39margs, \u001b[38;5;241m*\u001b[39m\u001b[38;5;241m*\u001b[39mkwargs):\n\u001b[0;32m--> 594\u001b[0m     \u001b[38;5;28;01mreturn\u001b[39;00m \u001b[38;5;28;43mself\u001b[39;49m\u001b[38;5;241;43m.\u001b[39;49m\u001b[43m_cached_call\u001b[49m\u001b[43m(\u001b[49m\u001b[43margs\u001b[49m\u001b[43m,\u001b[49m\u001b[43m \u001b[49m\u001b[43mkwargs\u001b[49m\u001b[43m)\u001b[49m[\u001b[38;5;241m0\u001b[39m]\n",
      "File \u001b[0;32m/usr/local/lib/python3.11/site-packages/joblib/memory.py:537\u001b[0m, in \u001b[0;36mMemorizedFunc._cached_call\u001b[0;34m(self, args, kwargs, shelving)\u001b[0m\n\u001b[1;32m    534\u001b[0m         must_call \u001b[38;5;241m=\u001b[39m \u001b[38;5;28;01mTrue\u001b[39;00m\n\u001b[1;32m    536\u001b[0m \u001b[38;5;28;01mif\u001b[39;00m must_call:\n\u001b[0;32m--> 537\u001b[0m     out, metadata \u001b[38;5;241m=\u001b[39m \u001b[38;5;28;43mself\u001b[39;49m\u001b[38;5;241;43m.\u001b[39;49m\u001b[43mcall\u001b[49m\u001b[43m(\u001b[49m\u001b[38;5;241;43m*\u001b[39;49m\u001b[43margs\u001b[49m\u001b[43m,\u001b[49m\u001b[43m \u001b[49m\u001b[38;5;241;43m*\u001b[39;49m\u001b[38;5;241;43m*\u001b[39;49m\u001b[43mkwargs\u001b[49m\u001b[43m)\u001b[49m\n\u001b[1;32m    538\u001b[0m     \u001b[38;5;28;01mif\u001b[39;00m \u001b[38;5;28mself\u001b[39m\u001b[38;5;241m.\u001b[39mmmap_mode \u001b[38;5;129;01mis\u001b[39;00m \u001b[38;5;129;01mnot\u001b[39;00m \u001b[38;5;28;01mNone\u001b[39;00m:\n\u001b[1;32m    539\u001b[0m         \u001b[38;5;66;03m# Memmap the output at the first call to be consistent with\u001b[39;00m\n\u001b[1;32m    540\u001b[0m         \u001b[38;5;66;03m# later calls\u001b[39;00m\n\u001b[1;32m    541\u001b[0m         \u001b[38;5;28;01mif\u001b[39;00m \u001b[38;5;28mself\u001b[39m\u001b[38;5;241m.\u001b[39m_verbose:\n",
      "File \u001b[0;32m/usr/local/lib/python3.11/site-packages/joblib/memory.py:779\u001b[0m, in \u001b[0;36mMemorizedFunc.call\u001b[0;34m(self, *args, **kwargs)\u001b[0m\n\u001b[1;32m    777\u001b[0m \u001b[38;5;28;01mif\u001b[39;00m \u001b[38;5;28mself\u001b[39m\u001b[38;5;241m.\u001b[39m_verbose \u001b[38;5;241m>\u001b[39m \u001b[38;5;241m0\u001b[39m:\n\u001b[1;32m    778\u001b[0m     \u001b[38;5;28mprint\u001b[39m(format_call(\u001b[38;5;28mself\u001b[39m\u001b[38;5;241m.\u001b[39mfunc, args, kwargs))\n\u001b[0;32m--> 779\u001b[0m output \u001b[38;5;241m=\u001b[39m \u001b[38;5;28;43mself\u001b[39;49m\u001b[38;5;241;43m.\u001b[39;49m\u001b[43mfunc\u001b[49m\u001b[43m(\u001b[49m\u001b[38;5;241;43m*\u001b[39;49m\u001b[43margs\u001b[49m\u001b[43m,\u001b[49m\u001b[43m \u001b[49m\u001b[38;5;241;43m*\u001b[39;49m\u001b[38;5;241;43m*\u001b[39;49m\u001b[43mkwargs\u001b[49m\u001b[43m)\u001b[49m\n\u001b[1;32m    780\u001b[0m \u001b[38;5;28mself\u001b[39m\u001b[38;5;241m.\u001b[39mstore_backend\u001b[38;5;241m.\u001b[39mdump_item(\n\u001b[1;32m    781\u001b[0m     [func_id, args_id], output, verbose\u001b[38;5;241m=\u001b[39m\u001b[38;5;28mself\u001b[39m\u001b[38;5;241m.\u001b[39m_verbose)\n\u001b[1;32m    783\u001b[0m duration \u001b[38;5;241m=\u001b[39m time\u001b[38;5;241m.\u001b[39mtime() \u001b[38;5;241m-\u001b[39m start_time\n",
      "File \u001b[0;32m~/programming/dsp/dsp/modules/gpt3.py:371\u001b[0m, in \u001b[0;36m_cached_gpt3_turbo_request_v2\u001b[0;34m(**kwargs)\u001b[0m\n\u001b[1;32m    369\u001b[0m \u001b[38;5;28;01mif\u001b[39;00m \u001b[38;5;124m\"\u001b[39m\u001b[38;5;124mstringify_request\u001b[39m\u001b[38;5;124m\"\u001b[39m \u001b[38;5;129;01min\u001b[39;00m kwargs:\n\u001b[1;32m    370\u001b[0m     kwargs \u001b[38;5;241m=\u001b[39m json\u001b[38;5;241m.\u001b[39mloads(kwargs[\u001b[38;5;124m\"\u001b[39m\u001b[38;5;124mstringify_request\u001b[39m\u001b[38;5;124m\"\u001b[39m])\n\u001b[0;32m--> 371\u001b[0m \u001b[38;5;28;01mreturn\u001b[39;00m cast(OpenAIObject, \u001b[43mopenai\u001b[49m\u001b[38;5;241;43m.\u001b[39;49m\u001b[43mChatCompletion\u001b[49m\u001b[38;5;241;43m.\u001b[39;49m\u001b[43mcreate\u001b[49m\u001b[43m(\u001b[49m\u001b[38;5;241;43m*\u001b[39;49m\u001b[38;5;241;43m*\u001b[39;49m\u001b[43mkwargs\u001b[49m\u001b[43m)\u001b[49m)\n",
      "File \u001b[0;32m/usr/local/lib/python3.11/site-packages/openai/api_resources/chat_completion.py:25\u001b[0m, in \u001b[0;36mChatCompletion.create\u001b[0;34m(cls, *args, **kwargs)\u001b[0m\n\u001b[1;32m     23\u001b[0m \u001b[38;5;28;01mwhile\u001b[39;00m \u001b[38;5;28;01mTrue\u001b[39;00m:\n\u001b[1;32m     24\u001b[0m     \u001b[38;5;28;01mtry\u001b[39;00m:\n\u001b[0;32m---> 25\u001b[0m         \u001b[38;5;28;01mreturn\u001b[39;00m \u001b[38;5;28;43msuper\u001b[39;49m\u001b[43m(\u001b[49m\u001b[43m)\u001b[49m\u001b[38;5;241;43m.\u001b[39;49m\u001b[43mcreate\u001b[49m\u001b[43m(\u001b[49m\u001b[38;5;241;43m*\u001b[39;49m\u001b[43margs\u001b[49m\u001b[43m,\u001b[49m\u001b[43m \u001b[49m\u001b[38;5;241;43m*\u001b[39;49m\u001b[38;5;241;43m*\u001b[39;49m\u001b[43mkwargs\u001b[49m\u001b[43m)\u001b[49m\n\u001b[1;32m     26\u001b[0m     \u001b[38;5;28;01mexcept\u001b[39;00m TryAgain \u001b[38;5;28;01mas\u001b[39;00m e:\n\u001b[1;32m     27\u001b[0m         \u001b[38;5;28;01mif\u001b[39;00m timeout \u001b[38;5;129;01mis\u001b[39;00m \u001b[38;5;129;01mnot\u001b[39;00m \u001b[38;5;28;01mNone\u001b[39;00m \u001b[38;5;129;01mand\u001b[39;00m time\u001b[38;5;241m.\u001b[39mtime() \u001b[38;5;241m>\u001b[39m start \u001b[38;5;241m+\u001b[39m timeout:\n",
      "File \u001b[0;32m/usr/local/lib/python3.11/site-packages/openai/api_resources/abstract/engine_api_resource.py:153\u001b[0m, in \u001b[0;36mEngineAPIResource.create\u001b[0;34m(cls, api_key, api_base, api_type, request_id, api_version, organization, **params)\u001b[0m\n\u001b[1;32m    127\u001b[0m \u001b[38;5;129m@classmethod\u001b[39m\n\u001b[1;32m    128\u001b[0m \u001b[38;5;28;01mdef\u001b[39;00m \u001b[38;5;21mcreate\u001b[39m(\n\u001b[1;32m    129\u001b[0m     \u001b[38;5;28mcls\u001b[39m,\n\u001b[0;32m   (...)\u001b[0m\n\u001b[1;32m    136\u001b[0m     \u001b[38;5;241m*\u001b[39m\u001b[38;5;241m*\u001b[39mparams,\n\u001b[1;32m    137\u001b[0m ):\n\u001b[1;32m    138\u001b[0m     (\n\u001b[1;32m    139\u001b[0m         deployment_id,\n\u001b[1;32m    140\u001b[0m         engine,\n\u001b[0;32m   (...)\u001b[0m\n\u001b[1;32m    150\u001b[0m         api_key, api_base, api_type, api_version, organization, \u001b[38;5;241m*\u001b[39m\u001b[38;5;241m*\u001b[39mparams\n\u001b[1;32m    151\u001b[0m     )\n\u001b[0;32m--> 153\u001b[0m     response, _, api_key \u001b[38;5;241m=\u001b[39m \u001b[43mrequestor\u001b[49m\u001b[38;5;241;43m.\u001b[39;49m\u001b[43mrequest\u001b[49m\u001b[43m(\u001b[49m\n\u001b[1;32m    154\u001b[0m \u001b[43m        \u001b[49m\u001b[38;5;124;43m\"\u001b[39;49m\u001b[38;5;124;43mpost\u001b[39;49m\u001b[38;5;124;43m\"\u001b[39;49m\u001b[43m,\u001b[49m\n\u001b[1;32m    155\u001b[0m \u001b[43m        \u001b[49m\u001b[43murl\u001b[49m\u001b[43m,\u001b[49m\n\u001b[1;32m    156\u001b[0m \u001b[43m        \u001b[49m\u001b[43mparams\u001b[49m\u001b[38;5;241;43m=\u001b[39;49m\u001b[43mparams\u001b[49m\u001b[43m,\u001b[49m\n\u001b[1;32m    157\u001b[0m \u001b[43m        \u001b[49m\u001b[43mheaders\u001b[49m\u001b[38;5;241;43m=\u001b[39;49m\u001b[43mheaders\u001b[49m\u001b[43m,\u001b[49m\n\u001b[1;32m    158\u001b[0m \u001b[43m        \u001b[49m\u001b[43mstream\u001b[49m\u001b[38;5;241;43m=\u001b[39;49m\u001b[43mstream\u001b[49m\u001b[43m,\u001b[49m\n\u001b[1;32m    159\u001b[0m \u001b[43m        \u001b[49m\u001b[43mrequest_id\u001b[49m\u001b[38;5;241;43m=\u001b[39;49m\u001b[43mrequest_id\u001b[49m\u001b[43m,\u001b[49m\n\u001b[1;32m    160\u001b[0m \u001b[43m        \u001b[49m\u001b[43mrequest_timeout\u001b[49m\u001b[38;5;241;43m=\u001b[39;49m\u001b[43mrequest_timeout\u001b[49m\u001b[43m,\u001b[49m\n\u001b[1;32m    161\u001b[0m \u001b[43m    \u001b[49m\u001b[43m)\u001b[49m\n\u001b[1;32m    163\u001b[0m     \u001b[38;5;28;01mif\u001b[39;00m stream:\n\u001b[1;32m    164\u001b[0m         \u001b[38;5;66;03m# must be an iterator\u001b[39;00m\n\u001b[1;32m    165\u001b[0m         \u001b[38;5;28;01massert\u001b[39;00m \u001b[38;5;129;01mnot\u001b[39;00m \u001b[38;5;28misinstance\u001b[39m(response, OpenAIResponse)\n",
      "File \u001b[0;32m/usr/local/lib/python3.11/site-packages/openai/api_requestor.py:230\u001b[0m, in \u001b[0;36mAPIRequestor.request\u001b[0;34m(self, method, url, params, headers, files, stream, request_id, request_timeout)\u001b[0m\n\u001b[1;32m    209\u001b[0m \u001b[38;5;28;01mdef\u001b[39;00m \u001b[38;5;21mrequest\u001b[39m(\n\u001b[1;32m    210\u001b[0m     \u001b[38;5;28mself\u001b[39m,\n\u001b[1;32m    211\u001b[0m     method,\n\u001b[0;32m   (...)\u001b[0m\n\u001b[1;32m    218\u001b[0m     request_timeout: Optional[Union[\u001b[38;5;28mfloat\u001b[39m, Tuple[\u001b[38;5;28mfloat\u001b[39m, \u001b[38;5;28mfloat\u001b[39m]]] \u001b[38;5;241m=\u001b[39m \u001b[38;5;28;01mNone\u001b[39;00m,\n\u001b[1;32m    219\u001b[0m ) \u001b[38;5;241m-\u001b[39m\u001b[38;5;241m>\u001b[39m Tuple[Union[OpenAIResponse, Iterator[OpenAIResponse]], \u001b[38;5;28mbool\u001b[39m, \u001b[38;5;28mstr\u001b[39m]:\n\u001b[1;32m    220\u001b[0m     result \u001b[38;5;241m=\u001b[39m \u001b[38;5;28mself\u001b[39m\u001b[38;5;241m.\u001b[39mrequest_raw(\n\u001b[1;32m    221\u001b[0m         method\u001b[38;5;241m.\u001b[39mlower(),\n\u001b[1;32m    222\u001b[0m         url,\n\u001b[0;32m   (...)\u001b[0m\n\u001b[1;32m    228\u001b[0m         request_timeout\u001b[38;5;241m=\u001b[39mrequest_timeout,\n\u001b[1;32m    229\u001b[0m     )\n\u001b[0;32m--> 230\u001b[0m     resp, got_stream \u001b[38;5;241m=\u001b[39m \u001b[38;5;28;43mself\u001b[39;49m\u001b[38;5;241;43m.\u001b[39;49m\u001b[43m_interpret_response\u001b[49m\u001b[43m(\u001b[49m\u001b[43mresult\u001b[49m\u001b[43m,\u001b[49m\u001b[43m \u001b[49m\u001b[43mstream\u001b[49m\u001b[43m)\u001b[49m\n\u001b[1;32m    231\u001b[0m     \u001b[38;5;28;01mreturn\u001b[39;00m resp, got_stream, \u001b[38;5;28mself\u001b[39m\u001b[38;5;241m.\u001b[39mapi_key\n",
      "File \u001b[0;32m/usr/local/lib/python3.11/site-packages/openai/api_requestor.py:624\u001b[0m, in \u001b[0;36mAPIRequestor._interpret_response\u001b[0;34m(self, result, stream)\u001b[0m\n\u001b[1;32m    616\u001b[0m     \u001b[38;5;28;01mreturn\u001b[39;00m (\n\u001b[1;32m    617\u001b[0m         \u001b[38;5;28mself\u001b[39m\u001b[38;5;241m.\u001b[39m_interpret_response_line(\n\u001b[1;32m    618\u001b[0m             line, result\u001b[38;5;241m.\u001b[39mstatus_code, result\u001b[38;5;241m.\u001b[39mheaders, stream\u001b[38;5;241m=\u001b[39m\u001b[38;5;28;01mTrue\u001b[39;00m\n\u001b[1;32m    619\u001b[0m         )\n\u001b[1;32m    620\u001b[0m         \u001b[38;5;28;01mfor\u001b[39;00m line \u001b[38;5;129;01min\u001b[39;00m parse_stream(result\u001b[38;5;241m.\u001b[39miter_lines())\n\u001b[1;32m    621\u001b[0m     ), \u001b[38;5;28;01mTrue\u001b[39;00m\n\u001b[1;32m    622\u001b[0m \u001b[38;5;28;01melse\u001b[39;00m:\n\u001b[1;32m    623\u001b[0m     \u001b[38;5;28;01mreturn\u001b[39;00m (\n\u001b[0;32m--> 624\u001b[0m         \u001b[38;5;28;43mself\u001b[39;49m\u001b[38;5;241;43m.\u001b[39;49m\u001b[43m_interpret_response_line\u001b[49m\u001b[43m(\u001b[49m\n\u001b[1;32m    625\u001b[0m \u001b[43m            \u001b[49m\u001b[43mresult\u001b[49m\u001b[38;5;241;43m.\u001b[39;49m\u001b[43mcontent\u001b[49m\u001b[38;5;241;43m.\u001b[39;49m\u001b[43mdecode\u001b[49m\u001b[43m(\u001b[49m\u001b[38;5;124;43m\"\u001b[39;49m\u001b[38;5;124;43mutf-8\u001b[39;49m\u001b[38;5;124;43m\"\u001b[39;49m\u001b[43m)\u001b[49m\u001b[43m,\u001b[49m\n\u001b[1;32m    626\u001b[0m \u001b[43m            \u001b[49m\u001b[43mresult\u001b[49m\u001b[38;5;241;43m.\u001b[39;49m\u001b[43mstatus_code\u001b[49m\u001b[43m,\u001b[49m\n\u001b[1;32m    627\u001b[0m \u001b[43m            \u001b[49m\u001b[43mresult\u001b[49m\u001b[38;5;241;43m.\u001b[39;49m\u001b[43mheaders\u001b[49m\u001b[43m,\u001b[49m\n\u001b[1;32m    628\u001b[0m \u001b[43m            \u001b[49m\u001b[43mstream\u001b[49m\u001b[38;5;241;43m=\u001b[39;49m\u001b[38;5;28;43;01mFalse\u001b[39;49;00m\u001b[43m,\u001b[49m\n\u001b[1;32m    629\u001b[0m \u001b[43m        \u001b[49m\u001b[43m)\u001b[49m,\n\u001b[1;32m    630\u001b[0m         \u001b[38;5;28;01mFalse\u001b[39;00m,\n\u001b[1;32m    631\u001b[0m     )\n",
      "File \u001b[0;32m/usr/local/lib/python3.11/site-packages/openai/api_requestor.py:687\u001b[0m, in \u001b[0;36mAPIRequestor._interpret_response_line\u001b[0;34m(self, rbody, rcode, rheaders, stream)\u001b[0m\n\u001b[1;32m    685\u001b[0m stream_error \u001b[38;5;241m=\u001b[39m stream \u001b[38;5;129;01mand\u001b[39;00m \u001b[38;5;124m\"\u001b[39m\u001b[38;5;124merror\u001b[39m\u001b[38;5;124m\"\u001b[39m \u001b[38;5;129;01min\u001b[39;00m resp\u001b[38;5;241m.\u001b[39mdata\n\u001b[1;32m    686\u001b[0m \u001b[38;5;28;01mif\u001b[39;00m stream_error \u001b[38;5;129;01mor\u001b[39;00m \u001b[38;5;129;01mnot\u001b[39;00m \u001b[38;5;241m200\u001b[39m \u001b[38;5;241m<\u001b[39m\u001b[38;5;241m=\u001b[39m rcode \u001b[38;5;241m<\u001b[39m \u001b[38;5;241m300\u001b[39m:\n\u001b[0;32m--> 687\u001b[0m     \u001b[38;5;28;01mraise\u001b[39;00m \u001b[38;5;28mself\u001b[39m\u001b[38;5;241m.\u001b[39mhandle_error_response(\n\u001b[1;32m    688\u001b[0m         rbody, rcode, resp\u001b[38;5;241m.\u001b[39mdata, rheaders, stream_error\u001b[38;5;241m=\u001b[39mstream_error\n\u001b[1;32m    689\u001b[0m     )\n\u001b[1;32m    690\u001b[0m \u001b[38;5;28;01mreturn\u001b[39;00m resp\n",
      "\u001b[0;31mInvalidRequestError\u001b[0m: Invalid key (or out of budget)."
     ]
    }
   ],
   "source": [
    "vanilla_LM_QA(dev[0].question), lm.inspect_history(n=1)"
   ]
  },
  {
   "cell_type": "code",
   "execution_count": 18,
   "id": "72c4f1b1",
   "metadata": {},
   "outputs": [
    {
     "name": "stderr",
     "output_type": "stream",
     "text": [
      "  0%|                                                                                                                               | 0/13 [00:00<?, ?it/s]\n"
     ]
    },
    {
     "ename": "InvalidRequestError",
     "evalue": "Invalid key (or out of budget).",
     "output_type": "error",
     "traceback": [
      "\u001b[0;31m---------------------------------------------------------------------------\u001b[0m",
      "\u001b[0;31mInvalidRequestError\u001b[0m                       Traceback (most recent call last)",
      "Cell \u001b[0;32mIn[18], line 1\u001b[0m\n\u001b[0;32m----> 1\u001b[0m \u001b[43mevaluate\u001b[49m\u001b[43m(\u001b[49m\u001b[43mvanilla_LM_QA\u001b[49m\u001b[43m,\u001b[49m\u001b[43m \u001b[49m\u001b[43mdev\u001b[49m\u001b[43m)\u001b[49m\n",
      "File \u001b[0;32m~/programming/dsp/dsp/evaluation/utils.py:63\u001b[0m, in \u001b[0;36mevaluate\u001b[0;34m(fn, dev, metric)\u001b[0m\n\u001b[1;32m     61\u001b[0m \u001b[38;5;28;01mfor\u001b[39;00m example \u001b[38;5;129;01min\u001b[39;00m tqdm\u001b[38;5;241m.\u001b[39mtqdm(dev):\n\u001b[1;32m     62\u001b[0m     question \u001b[38;5;241m=\u001b[39m example\u001b[38;5;241m.\u001b[39mquestion\n\u001b[0;32m---> 63\u001b[0m     prediction \u001b[38;5;241m=\u001b[39m \u001b[43mfn\u001b[49m\u001b[43m(\u001b[49m\u001b[43mquestion\u001b[49m\u001b[43m)\u001b[49m\n\u001b[1;32m     65\u001b[0m     d \u001b[38;5;241m=\u001b[39m \u001b[38;5;28mdict\u001b[39m(example)\n\u001b[1;32m     67\u001b[0m     pred \u001b[38;5;241m=\u001b[39m prediction\u001b[38;5;66;03m#.answer\u001b[39;00m\n",
      "Cell \u001b[0;32mIn[15], line 5\u001b[0m, in \u001b[0;36mvanilla_LM_QA\u001b[0;34m(q)\u001b[0m\n\u001b[1;32m      3\u001b[0m \u001b[38;5;28;01mdef\u001b[39;00m \u001b[38;5;21mvanilla_LM_QA\u001b[39m(q: \u001b[38;5;28mstr\u001b[39m) \u001b[38;5;241m-\u001b[39m\u001b[38;5;241m>\u001b[39m \u001b[38;5;28mstr\u001b[39m:\n\u001b[1;32m      4\u001b[0m     e \u001b[38;5;241m=\u001b[39m dsp\u001b[38;5;241m.\u001b[39mExample(question\u001b[38;5;241m=\u001b[39mq, demos\u001b[38;5;241m=\u001b[39mtraining_demos)\n\u001b[0;32m----> 5\u001b[0m     e, completions \u001b[38;5;241m=\u001b[39m \u001b[43mdsp\u001b[49m\u001b[38;5;241;43m.\u001b[39;49m\u001b[43mgenerate\u001b[49m\u001b[43m(\u001b[49m\u001b[43mqa_template\u001b[49m\u001b[43m)\u001b[49m\u001b[43m(\u001b[49m\u001b[43me\u001b[49m\u001b[43m,\u001b[49m\u001b[43m \u001b[49m\u001b[43mstage\u001b[49m\u001b[38;5;241;43m=\u001b[39;49m\u001b[38;5;124;43m'\u001b[39;49m\u001b[38;5;124;43mqa\u001b[39;49m\u001b[38;5;124;43m'\u001b[39;49m\u001b[43m)\u001b[49m\n\u001b[1;32m      6\u001b[0m     \u001b[38;5;28;01mreturn\u001b[39;00m completions\u001b[38;5;241m.\u001b[39manswer\n",
      "File \u001b[0;32m~/programming/dsp/dsp/primitives/predict.py:78\u001b[0m, in \u001b[0;36m_generate.<locals>.do_generate\u001b[0;34m(example, stage, max_depth, original_example)\u001b[0m\n\u001b[1;32m     76\u001b[0m \u001b[38;5;66;03m# Generate and extract the fields.\u001b[39;00m\n\u001b[1;32m     77\u001b[0m prompt \u001b[38;5;241m=\u001b[39m adapter(template(example))\n\u001b[0;32m---> 78\u001b[0m completions: \u001b[38;5;28mlist\u001b[39m[\u001b[38;5;28mdict\u001b[39m[\u001b[38;5;28mstr\u001b[39m, Any]] \u001b[38;5;241m=\u001b[39m \u001b[43mgenerator\u001b[49m\u001b[43m(\u001b[49m\u001b[43mprompt\u001b[49m\u001b[43m,\u001b[49m\u001b[43m \u001b[49m\u001b[38;5;241;43m*\u001b[39;49m\u001b[38;5;241;43m*\u001b[39;49m\u001b[43mkwargs\u001b[49m\u001b[43m)\u001b[49m\n\u001b[1;32m     79\u001b[0m completions: \u001b[38;5;28mlist\u001b[39m[Example] \u001b[38;5;241m=\u001b[39m [template\u001b[38;5;241m.\u001b[39mextract(example, p) \u001b[38;5;28;01mfor\u001b[39;00m p \u001b[38;5;129;01min\u001b[39;00m completions]\n\u001b[1;32m     81\u001b[0m \u001b[38;5;66;03m# Find the completions that are most comple\u001b[39;00m\n",
      "File \u001b[0;32m~/programming/dsp/dsp/modules/gpt3.py:321\u001b[0m, in \u001b[0;36mGPT3.__call__\u001b[0;34m(self, prompt, only_completed, return_sorted, **kwargs)\u001b[0m\n\u001b[1;32m    318\u001b[0m     \u001b[38;5;28;01melse\u001b[39;00m:\n\u001b[1;32m    319\u001b[0m         kwargs \u001b[38;5;241m=\u001b[39m {\u001b[38;5;241m*\u001b[39m\u001b[38;5;241m*\u001b[39mkwargs, \u001b[38;5;124m\"\u001b[39m\u001b[38;5;124mlogprobs\u001b[39m\u001b[38;5;124m\"\u001b[39m: \u001b[38;5;241m5\u001b[39m}\n\u001b[0;32m--> 321\u001b[0m response \u001b[38;5;241m=\u001b[39m \u001b[38;5;28;43mself\u001b[39;49m\u001b[38;5;241;43m.\u001b[39;49m\u001b[43mrequest\u001b[49m\u001b[43m(\u001b[49m\u001b[43mprompt\u001b[49m\u001b[43m,\u001b[49m\u001b[43m \u001b[49m\u001b[38;5;241;43m*\u001b[39;49m\u001b[38;5;241;43m*\u001b[39;49m\u001b[43mkwargs\u001b[49m\u001b[43m)\u001b[49m\n\u001b[1;32m    322\u001b[0m choices \u001b[38;5;241m=\u001b[39m response[\u001b[38;5;124m\"\u001b[39m\u001b[38;5;124mchoices\u001b[39m\u001b[38;5;124m\"\u001b[39m]\n\u001b[1;32m    324\u001b[0m completed_choices \u001b[38;5;241m=\u001b[39m [c \u001b[38;5;28;01mfor\u001b[39;00m c \u001b[38;5;129;01min\u001b[39;00m choices \u001b[38;5;28;01mif\u001b[39;00m c[\u001b[38;5;124m\"\u001b[39m\u001b[38;5;124mfinish_reason\u001b[39m\u001b[38;5;124m\"\u001b[39m] \u001b[38;5;241m!=\u001b[39m \u001b[38;5;124m\"\u001b[39m\u001b[38;5;124mlength\u001b[39m\u001b[38;5;124m\"\u001b[39m]\n",
      "File \u001b[0;32m/usr/local/lib/python3.11/site-packages/backoff/_sync.py:105\u001b[0m, in \u001b[0;36mretry_exception.<locals>.retry\u001b[0;34m(*args, **kwargs)\u001b[0m\n\u001b[1;32m     96\u001b[0m details \u001b[38;5;241m=\u001b[39m {\n\u001b[1;32m     97\u001b[0m     \u001b[38;5;124m\"\u001b[39m\u001b[38;5;124mtarget\u001b[39m\u001b[38;5;124m\"\u001b[39m: target,\n\u001b[1;32m     98\u001b[0m     \u001b[38;5;124m\"\u001b[39m\u001b[38;5;124margs\u001b[39m\u001b[38;5;124m\"\u001b[39m: args,\n\u001b[0;32m   (...)\u001b[0m\n\u001b[1;32m    101\u001b[0m     \u001b[38;5;124m\"\u001b[39m\u001b[38;5;124melapsed\u001b[39m\u001b[38;5;124m\"\u001b[39m: elapsed,\n\u001b[1;32m    102\u001b[0m }\n\u001b[1;32m    104\u001b[0m \u001b[38;5;28;01mtry\u001b[39;00m:\n\u001b[0;32m--> 105\u001b[0m     ret \u001b[38;5;241m=\u001b[39m \u001b[43mtarget\u001b[49m\u001b[43m(\u001b[49m\u001b[38;5;241;43m*\u001b[39;49m\u001b[43margs\u001b[49m\u001b[43m,\u001b[49m\u001b[43m \u001b[49m\u001b[38;5;241;43m*\u001b[39;49m\u001b[38;5;241;43m*\u001b[39;49m\u001b[43mkwargs\u001b[49m\u001b[43m)\u001b[49m\n\u001b[1;32m    106\u001b[0m \u001b[38;5;28;01mexcept\u001b[39;00m exception \u001b[38;5;28;01mas\u001b[39;00m e:\n\u001b[1;32m    107\u001b[0m     max_tries_exceeded \u001b[38;5;241m=\u001b[39m (tries \u001b[38;5;241m==\u001b[39m max_tries_value)\n",
      "File \u001b[0;32m~/programming/dsp/dsp/modules/gpt3.py:287\u001b[0m, in \u001b[0;36mGPT3.request\u001b[0;34m(self, prompt, **kwargs)\u001b[0m\n\u001b[1;32m    284\u001b[0m \u001b[38;5;28;01mif\u001b[39;00m \u001b[38;5;124m\"\u001b[39m\u001b[38;5;124mmodel_type\u001b[39m\u001b[38;5;124m\"\u001b[39m \u001b[38;5;129;01min\u001b[39;00m kwargs:\n\u001b[1;32m    285\u001b[0m     \u001b[38;5;28;01mdel\u001b[39;00m kwargs[\u001b[38;5;124m\"\u001b[39m\u001b[38;5;124mmodel_type\u001b[39m\u001b[38;5;124m\"\u001b[39m]\n\u001b[0;32m--> 287\u001b[0m \u001b[38;5;28;01mreturn\u001b[39;00m \u001b[38;5;28;43mself\u001b[39;49m\u001b[38;5;241;43m.\u001b[39;49m\u001b[43mbasic_request\u001b[49m\u001b[43m(\u001b[49m\u001b[43mprompt\u001b[49m\u001b[43m,\u001b[49m\u001b[43m \u001b[49m\u001b[38;5;241;43m*\u001b[39;49m\u001b[38;5;241;43m*\u001b[39;49m\u001b[43mkwargs\u001b[49m\u001b[43m)\u001b[49m\n",
      "File \u001b[0;32m~/programming/dsp/dsp/modules/gpt3.py:261\u001b[0m, in \u001b[0;36mGPT3.basic_request\u001b[0;34m(self, prompt, **kwargs)\u001b[0m\n\u001b[1;32m    257\u001b[0m     kwargs[\u001b[38;5;124m\"\u001b[39m\u001b[38;5;124mmessages\u001b[39m\u001b[38;5;124m\"\u001b[39m] \u001b[38;5;241m=\u001b[39m \u001b[38;5;28mtuple\u001b[39m(prompt[\u001b[38;5;124m\"\u001b[39m\u001b[38;5;124mmessages\u001b[39m\u001b[38;5;124m\"\u001b[39m])\n\u001b[1;32m    258\u001b[0m     kwargs \u001b[38;5;241m=\u001b[39m {\n\u001b[1;32m    259\u001b[0m         \u001b[38;5;124m\"\u001b[39m\u001b[38;5;124mstringify_request\u001b[39m\u001b[38;5;124m\"\u001b[39m: json\u001b[38;5;241m.\u001b[39mdumps(kwargs)\n\u001b[1;32m    260\u001b[0m     }\n\u001b[0;32m--> 261\u001b[0m     response \u001b[38;5;241m=\u001b[39m \u001b[43mcached_gpt3_turbo_request\u001b[49m\u001b[43m(\u001b[49m\u001b[38;5;241;43m*\u001b[39;49m\u001b[38;5;241;43m*\u001b[39;49m\u001b[43mkwargs\u001b[49m\u001b[43m)\u001b[49m\u001b[38;5;241m.\u001b[39mstrip()\n\u001b[1;32m    262\u001b[0m \u001b[38;5;28;01melse\u001b[39;00m:\n\u001b[1;32m    263\u001b[0m     kwargs[\u001b[38;5;124m\"\u001b[39m\u001b[38;5;124mprompt\u001b[39m\u001b[38;5;124m\"\u001b[39m] \u001b[38;5;241m=\u001b[39m prompt\n",
      "File \u001b[0;32m~/programming/dsp/dsp/modules/cache_utils.py:16\u001b[0m, in \u001b[0;36mnoop_decorator.<locals>.wrapper\u001b[0;34m(*args, **kwargs)\u001b[0m\n\u001b[1;32m     14\u001b[0m \u001b[38;5;129m@wraps\u001b[39m(func)\n\u001b[1;32m     15\u001b[0m \u001b[38;5;28;01mdef\u001b[39;00m \u001b[38;5;21mwrapper\u001b[39m(\u001b[38;5;241m*\u001b[39margs, \u001b[38;5;241m*\u001b[39m\u001b[38;5;241m*\u001b[39mkwargs):\n\u001b[0;32m---> 16\u001b[0m     \u001b[38;5;28;01mreturn\u001b[39;00m \u001b[43mfunc\u001b[49m\u001b[43m(\u001b[49m\u001b[38;5;241;43m*\u001b[39;49m\u001b[43margs\u001b[49m\u001b[43m,\u001b[49m\u001b[43m \u001b[49m\u001b[38;5;241;43m*\u001b[39;49m\u001b[38;5;241;43m*\u001b[39;49m\u001b[43mkwargs\u001b[49m\u001b[43m)\u001b[49m\n",
      "File \u001b[0;32m~/programming/dsp/dsp/modules/gpt3.py:377\u001b[0m, in \u001b[0;36m_cached_gpt3_turbo_request_v2_wrapped\u001b[0;34m(**kwargs)\u001b[0m\n\u001b[1;32m    374\u001b[0m \u001b[38;5;129m@functools\u001b[39m\u001b[38;5;241m.\u001b[39mlru_cache(maxsize\u001b[38;5;241m=\u001b[39m\u001b[38;5;28;01mNone\u001b[39;00m \u001b[38;5;28;01mif\u001b[39;00m cache_turn_on \u001b[38;5;28;01melse\u001b[39;00m \u001b[38;5;241m0\u001b[39m)\n\u001b[1;32m    375\u001b[0m \u001b[38;5;129m@NotebookCacheMemory\u001b[39m\u001b[38;5;241m.\u001b[39mcache\n\u001b[1;32m    376\u001b[0m \u001b[38;5;28;01mdef\u001b[39;00m \u001b[38;5;21m_cached_gpt3_turbo_request_v2_wrapped\u001b[39m(\u001b[38;5;241m*\u001b[39m\u001b[38;5;241m*\u001b[39mkwargs) \u001b[38;5;241m-\u001b[39m\u001b[38;5;241m>\u001b[39m OpenAIObject:\n\u001b[0;32m--> 377\u001b[0m     \u001b[38;5;28;01mreturn\u001b[39;00m \u001b[43m_cached_gpt3_turbo_request_v2\u001b[49m\u001b[43m(\u001b[49m\u001b[38;5;241;43m*\u001b[39;49m\u001b[38;5;241;43m*\u001b[39;49m\u001b[43mkwargs\u001b[49m\u001b[43m)\u001b[49m\n",
      "File \u001b[0;32m/usr/local/lib/python3.11/site-packages/joblib/memory.py:594\u001b[0m, in \u001b[0;36mMemorizedFunc.__call__\u001b[0;34m(self, *args, **kwargs)\u001b[0m\n\u001b[1;32m    593\u001b[0m \u001b[38;5;28;01mdef\u001b[39;00m \u001b[38;5;21m__call__\u001b[39m(\u001b[38;5;28mself\u001b[39m, \u001b[38;5;241m*\u001b[39margs, \u001b[38;5;241m*\u001b[39m\u001b[38;5;241m*\u001b[39mkwargs):\n\u001b[0;32m--> 594\u001b[0m     \u001b[38;5;28;01mreturn\u001b[39;00m \u001b[38;5;28;43mself\u001b[39;49m\u001b[38;5;241;43m.\u001b[39;49m\u001b[43m_cached_call\u001b[49m\u001b[43m(\u001b[49m\u001b[43margs\u001b[49m\u001b[43m,\u001b[49m\u001b[43m \u001b[49m\u001b[43mkwargs\u001b[49m\u001b[43m)\u001b[49m[\u001b[38;5;241m0\u001b[39m]\n",
      "File \u001b[0;32m/usr/local/lib/python3.11/site-packages/joblib/memory.py:537\u001b[0m, in \u001b[0;36mMemorizedFunc._cached_call\u001b[0;34m(self, args, kwargs, shelving)\u001b[0m\n\u001b[1;32m    534\u001b[0m         must_call \u001b[38;5;241m=\u001b[39m \u001b[38;5;28;01mTrue\u001b[39;00m\n\u001b[1;32m    536\u001b[0m \u001b[38;5;28;01mif\u001b[39;00m must_call:\n\u001b[0;32m--> 537\u001b[0m     out, metadata \u001b[38;5;241m=\u001b[39m \u001b[38;5;28;43mself\u001b[39;49m\u001b[38;5;241;43m.\u001b[39;49m\u001b[43mcall\u001b[49m\u001b[43m(\u001b[49m\u001b[38;5;241;43m*\u001b[39;49m\u001b[43margs\u001b[49m\u001b[43m,\u001b[49m\u001b[43m \u001b[49m\u001b[38;5;241;43m*\u001b[39;49m\u001b[38;5;241;43m*\u001b[39;49m\u001b[43mkwargs\u001b[49m\u001b[43m)\u001b[49m\n\u001b[1;32m    538\u001b[0m     \u001b[38;5;28;01mif\u001b[39;00m \u001b[38;5;28mself\u001b[39m\u001b[38;5;241m.\u001b[39mmmap_mode \u001b[38;5;129;01mis\u001b[39;00m \u001b[38;5;129;01mnot\u001b[39;00m \u001b[38;5;28;01mNone\u001b[39;00m:\n\u001b[1;32m    539\u001b[0m         \u001b[38;5;66;03m# Memmap the output at the first call to be consistent with\u001b[39;00m\n\u001b[1;32m    540\u001b[0m         \u001b[38;5;66;03m# later calls\u001b[39;00m\n\u001b[1;32m    541\u001b[0m         \u001b[38;5;28;01mif\u001b[39;00m \u001b[38;5;28mself\u001b[39m\u001b[38;5;241m.\u001b[39m_verbose:\n",
      "File \u001b[0;32m/usr/local/lib/python3.11/site-packages/joblib/memory.py:779\u001b[0m, in \u001b[0;36mMemorizedFunc.call\u001b[0;34m(self, *args, **kwargs)\u001b[0m\n\u001b[1;32m    777\u001b[0m \u001b[38;5;28;01mif\u001b[39;00m \u001b[38;5;28mself\u001b[39m\u001b[38;5;241m.\u001b[39m_verbose \u001b[38;5;241m>\u001b[39m \u001b[38;5;241m0\u001b[39m:\n\u001b[1;32m    778\u001b[0m     \u001b[38;5;28mprint\u001b[39m(format_call(\u001b[38;5;28mself\u001b[39m\u001b[38;5;241m.\u001b[39mfunc, args, kwargs))\n\u001b[0;32m--> 779\u001b[0m output \u001b[38;5;241m=\u001b[39m \u001b[38;5;28;43mself\u001b[39;49m\u001b[38;5;241;43m.\u001b[39;49m\u001b[43mfunc\u001b[49m\u001b[43m(\u001b[49m\u001b[38;5;241;43m*\u001b[39;49m\u001b[43margs\u001b[49m\u001b[43m,\u001b[49m\u001b[43m \u001b[49m\u001b[38;5;241;43m*\u001b[39;49m\u001b[38;5;241;43m*\u001b[39;49m\u001b[43mkwargs\u001b[49m\u001b[43m)\u001b[49m\n\u001b[1;32m    780\u001b[0m \u001b[38;5;28mself\u001b[39m\u001b[38;5;241m.\u001b[39mstore_backend\u001b[38;5;241m.\u001b[39mdump_item(\n\u001b[1;32m    781\u001b[0m     [func_id, args_id], output, verbose\u001b[38;5;241m=\u001b[39m\u001b[38;5;28mself\u001b[39m\u001b[38;5;241m.\u001b[39m_verbose)\n\u001b[1;32m    783\u001b[0m duration \u001b[38;5;241m=\u001b[39m time\u001b[38;5;241m.\u001b[39mtime() \u001b[38;5;241m-\u001b[39m start_time\n",
      "File \u001b[0;32m~/programming/dsp/dsp/modules/gpt3.py:371\u001b[0m, in \u001b[0;36m_cached_gpt3_turbo_request_v2\u001b[0;34m(**kwargs)\u001b[0m\n\u001b[1;32m    369\u001b[0m \u001b[38;5;28;01mif\u001b[39;00m \u001b[38;5;124m\"\u001b[39m\u001b[38;5;124mstringify_request\u001b[39m\u001b[38;5;124m\"\u001b[39m \u001b[38;5;129;01min\u001b[39;00m kwargs:\n\u001b[1;32m    370\u001b[0m     kwargs \u001b[38;5;241m=\u001b[39m json\u001b[38;5;241m.\u001b[39mloads(kwargs[\u001b[38;5;124m\"\u001b[39m\u001b[38;5;124mstringify_request\u001b[39m\u001b[38;5;124m\"\u001b[39m])\n\u001b[0;32m--> 371\u001b[0m \u001b[38;5;28;01mreturn\u001b[39;00m cast(OpenAIObject, \u001b[43mopenai\u001b[49m\u001b[38;5;241;43m.\u001b[39;49m\u001b[43mChatCompletion\u001b[49m\u001b[38;5;241;43m.\u001b[39;49m\u001b[43mcreate\u001b[49m\u001b[43m(\u001b[49m\u001b[38;5;241;43m*\u001b[39;49m\u001b[38;5;241;43m*\u001b[39;49m\u001b[43mkwargs\u001b[49m\u001b[43m)\u001b[49m)\n",
      "File \u001b[0;32m/usr/local/lib/python3.11/site-packages/openai/api_resources/chat_completion.py:25\u001b[0m, in \u001b[0;36mChatCompletion.create\u001b[0;34m(cls, *args, **kwargs)\u001b[0m\n\u001b[1;32m     23\u001b[0m \u001b[38;5;28;01mwhile\u001b[39;00m \u001b[38;5;28;01mTrue\u001b[39;00m:\n\u001b[1;32m     24\u001b[0m     \u001b[38;5;28;01mtry\u001b[39;00m:\n\u001b[0;32m---> 25\u001b[0m         \u001b[38;5;28;01mreturn\u001b[39;00m \u001b[38;5;28;43msuper\u001b[39;49m\u001b[43m(\u001b[49m\u001b[43m)\u001b[49m\u001b[38;5;241;43m.\u001b[39;49m\u001b[43mcreate\u001b[49m\u001b[43m(\u001b[49m\u001b[38;5;241;43m*\u001b[39;49m\u001b[43margs\u001b[49m\u001b[43m,\u001b[49m\u001b[43m \u001b[49m\u001b[38;5;241;43m*\u001b[39;49m\u001b[38;5;241;43m*\u001b[39;49m\u001b[43mkwargs\u001b[49m\u001b[43m)\u001b[49m\n\u001b[1;32m     26\u001b[0m     \u001b[38;5;28;01mexcept\u001b[39;00m TryAgain \u001b[38;5;28;01mas\u001b[39;00m e:\n\u001b[1;32m     27\u001b[0m         \u001b[38;5;28;01mif\u001b[39;00m timeout \u001b[38;5;129;01mis\u001b[39;00m \u001b[38;5;129;01mnot\u001b[39;00m \u001b[38;5;28;01mNone\u001b[39;00m \u001b[38;5;129;01mand\u001b[39;00m time\u001b[38;5;241m.\u001b[39mtime() \u001b[38;5;241m>\u001b[39m start \u001b[38;5;241m+\u001b[39m timeout:\n",
      "File \u001b[0;32m/usr/local/lib/python3.11/site-packages/openai/api_resources/abstract/engine_api_resource.py:153\u001b[0m, in \u001b[0;36mEngineAPIResource.create\u001b[0;34m(cls, api_key, api_base, api_type, request_id, api_version, organization, **params)\u001b[0m\n\u001b[1;32m    127\u001b[0m \u001b[38;5;129m@classmethod\u001b[39m\n\u001b[1;32m    128\u001b[0m \u001b[38;5;28;01mdef\u001b[39;00m \u001b[38;5;21mcreate\u001b[39m(\n\u001b[1;32m    129\u001b[0m     \u001b[38;5;28mcls\u001b[39m,\n\u001b[0;32m   (...)\u001b[0m\n\u001b[1;32m    136\u001b[0m     \u001b[38;5;241m*\u001b[39m\u001b[38;5;241m*\u001b[39mparams,\n\u001b[1;32m    137\u001b[0m ):\n\u001b[1;32m    138\u001b[0m     (\n\u001b[1;32m    139\u001b[0m         deployment_id,\n\u001b[1;32m    140\u001b[0m         engine,\n\u001b[0;32m   (...)\u001b[0m\n\u001b[1;32m    150\u001b[0m         api_key, api_base, api_type, api_version, organization, \u001b[38;5;241m*\u001b[39m\u001b[38;5;241m*\u001b[39mparams\n\u001b[1;32m    151\u001b[0m     )\n\u001b[0;32m--> 153\u001b[0m     response, _, api_key \u001b[38;5;241m=\u001b[39m \u001b[43mrequestor\u001b[49m\u001b[38;5;241;43m.\u001b[39;49m\u001b[43mrequest\u001b[49m\u001b[43m(\u001b[49m\n\u001b[1;32m    154\u001b[0m \u001b[43m        \u001b[49m\u001b[38;5;124;43m\"\u001b[39;49m\u001b[38;5;124;43mpost\u001b[39;49m\u001b[38;5;124;43m\"\u001b[39;49m\u001b[43m,\u001b[49m\n\u001b[1;32m    155\u001b[0m \u001b[43m        \u001b[49m\u001b[43murl\u001b[49m\u001b[43m,\u001b[49m\n\u001b[1;32m    156\u001b[0m \u001b[43m        \u001b[49m\u001b[43mparams\u001b[49m\u001b[38;5;241;43m=\u001b[39;49m\u001b[43mparams\u001b[49m\u001b[43m,\u001b[49m\n\u001b[1;32m    157\u001b[0m \u001b[43m        \u001b[49m\u001b[43mheaders\u001b[49m\u001b[38;5;241;43m=\u001b[39;49m\u001b[43mheaders\u001b[49m\u001b[43m,\u001b[49m\n\u001b[1;32m    158\u001b[0m \u001b[43m        \u001b[49m\u001b[43mstream\u001b[49m\u001b[38;5;241;43m=\u001b[39;49m\u001b[43mstream\u001b[49m\u001b[43m,\u001b[49m\n\u001b[1;32m    159\u001b[0m \u001b[43m        \u001b[49m\u001b[43mrequest_id\u001b[49m\u001b[38;5;241;43m=\u001b[39;49m\u001b[43mrequest_id\u001b[49m\u001b[43m,\u001b[49m\n\u001b[1;32m    160\u001b[0m \u001b[43m        \u001b[49m\u001b[43mrequest_timeout\u001b[49m\u001b[38;5;241;43m=\u001b[39;49m\u001b[43mrequest_timeout\u001b[49m\u001b[43m,\u001b[49m\n\u001b[1;32m    161\u001b[0m \u001b[43m    \u001b[49m\u001b[43m)\u001b[49m\n\u001b[1;32m    163\u001b[0m     \u001b[38;5;28;01mif\u001b[39;00m stream:\n\u001b[1;32m    164\u001b[0m         \u001b[38;5;66;03m# must be an iterator\u001b[39;00m\n\u001b[1;32m    165\u001b[0m         \u001b[38;5;28;01massert\u001b[39;00m \u001b[38;5;129;01mnot\u001b[39;00m \u001b[38;5;28misinstance\u001b[39m(response, OpenAIResponse)\n",
      "File \u001b[0;32m/usr/local/lib/python3.11/site-packages/openai/api_requestor.py:230\u001b[0m, in \u001b[0;36mAPIRequestor.request\u001b[0;34m(self, method, url, params, headers, files, stream, request_id, request_timeout)\u001b[0m\n\u001b[1;32m    209\u001b[0m \u001b[38;5;28;01mdef\u001b[39;00m \u001b[38;5;21mrequest\u001b[39m(\n\u001b[1;32m    210\u001b[0m     \u001b[38;5;28mself\u001b[39m,\n\u001b[1;32m    211\u001b[0m     method,\n\u001b[0;32m   (...)\u001b[0m\n\u001b[1;32m    218\u001b[0m     request_timeout: Optional[Union[\u001b[38;5;28mfloat\u001b[39m, Tuple[\u001b[38;5;28mfloat\u001b[39m, \u001b[38;5;28mfloat\u001b[39m]]] \u001b[38;5;241m=\u001b[39m \u001b[38;5;28;01mNone\u001b[39;00m,\n\u001b[1;32m    219\u001b[0m ) \u001b[38;5;241m-\u001b[39m\u001b[38;5;241m>\u001b[39m Tuple[Union[OpenAIResponse, Iterator[OpenAIResponse]], \u001b[38;5;28mbool\u001b[39m, \u001b[38;5;28mstr\u001b[39m]:\n\u001b[1;32m    220\u001b[0m     result \u001b[38;5;241m=\u001b[39m \u001b[38;5;28mself\u001b[39m\u001b[38;5;241m.\u001b[39mrequest_raw(\n\u001b[1;32m    221\u001b[0m         method\u001b[38;5;241m.\u001b[39mlower(),\n\u001b[1;32m    222\u001b[0m         url,\n\u001b[0;32m   (...)\u001b[0m\n\u001b[1;32m    228\u001b[0m         request_timeout\u001b[38;5;241m=\u001b[39mrequest_timeout,\n\u001b[1;32m    229\u001b[0m     )\n\u001b[0;32m--> 230\u001b[0m     resp, got_stream \u001b[38;5;241m=\u001b[39m \u001b[38;5;28;43mself\u001b[39;49m\u001b[38;5;241;43m.\u001b[39;49m\u001b[43m_interpret_response\u001b[49m\u001b[43m(\u001b[49m\u001b[43mresult\u001b[49m\u001b[43m,\u001b[49m\u001b[43m \u001b[49m\u001b[43mstream\u001b[49m\u001b[43m)\u001b[49m\n\u001b[1;32m    231\u001b[0m     \u001b[38;5;28;01mreturn\u001b[39;00m resp, got_stream, \u001b[38;5;28mself\u001b[39m\u001b[38;5;241m.\u001b[39mapi_key\n",
      "File \u001b[0;32m/usr/local/lib/python3.11/site-packages/openai/api_requestor.py:624\u001b[0m, in \u001b[0;36mAPIRequestor._interpret_response\u001b[0;34m(self, result, stream)\u001b[0m\n\u001b[1;32m    616\u001b[0m     \u001b[38;5;28;01mreturn\u001b[39;00m (\n\u001b[1;32m    617\u001b[0m         \u001b[38;5;28mself\u001b[39m\u001b[38;5;241m.\u001b[39m_interpret_response_line(\n\u001b[1;32m    618\u001b[0m             line, result\u001b[38;5;241m.\u001b[39mstatus_code, result\u001b[38;5;241m.\u001b[39mheaders, stream\u001b[38;5;241m=\u001b[39m\u001b[38;5;28;01mTrue\u001b[39;00m\n\u001b[1;32m    619\u001b[0m         )\n\u001b[1;32m    620\u001b[0m         \u001b[38;5;28;01mfor\u001b[39;00m line \u001b[38;5;129;01min\u001b[39;00m parse_stream(result\u001b[38;5;241m.\u001b[39miter_lines())\n\u001b[1;32m    621\u001b[0m     ), \u001b[38;5;28;01mTrue\u001b[39;00m\n\u001b[1;32m    622\u001b[0m \u001b[38;5;28;01melse\u001b[39;00m:\n\u001b[1;32m    623\u001b[0m     \u001b[38;5;28;01mreturn\u001b[39;00m (\n\u001b[0;32m--> 624\u001b[0m         \u001b[38;5;28;43mself\u001b[39;49m\u001b[38;5;241;43m.\u001b[39;49m\u001b[43m_interpret_response_line\u001b[49m\u001b[43m(\u001b[49m\n\u001b[1;32m    625\u001b[0m \u001b[43m            \u001b[49m\u001b[43mresult\u001b[49m\u001b[38;5;241;43m.\u001b[39;49m\u001b[43mcontent\u001b[49m\u001b[38;5;241;43m.\u001b[39;49m\u001b[43mdecode\u001b[49m\u001b[43m(\u001b[49m\u001b[38;5;124;43m\"\u001b[39;49m\u001b[38;5;124;43mutf-8\u001b[39;49m\u001b[38;5;124;43m\"\u001b[39;49m\u001b[43m)\u001b[49m\u001b[43m,\u001b[49m\n\u001b[1;32m    626\u001b[0m \u001b[43m            \u001b[49m\u001b[43mresult\u001b[49m\u001b[38;5;241;43m.\u001b[39;49m\u001b[43mstatus_code\u001b[49m\u001b[43m,\u001b[49m\n\u001b[1;32m    627\u001b[0m \u001b[43m            \u001b[49m\u001b[43mresult\u001b[49m\u001b[38;5;241;43m.\u001b[39;49m\u001b[43mheaders\u001b[49m\u001b[43m,\u001b[49m\n\u001b[1;32m    628\u001b[0m \u001b[43m            \u001b[49m\u001b[43mstream\u001b[49m\u001b[38;5;241;43m=\u001b[39;49m\u001b[38;5;28;43;01mFalse\u001b[39;49;00m\u001b[43m,\u001b[49m\n\u001b[1;32m    629\u001b[0m \u001b[43m        \u001b[49m\u001b[43m)\u001b[49m,\n\u001b[1;32m    630\u001b[0m         \u001b[38;5;28;01mFalse\u001b[39;00m,\n\u001b[1;32m    631\u001b[0m     )\n",
      "File \u001b[0;32m/usr/local/lib/python3.11/site-packages/openai/api_requestor.py:687\u001b[0m, in \u001b[0;36mAPIRequestor._interpret_response_line\u001b[0;34m(self, rbody, rcode, rheaders, stream)\u001b[0m\n\u001b[1;32m    685\u001b[0m stream_error \u001b[38;5;241m=\u001b[39m stream \u001b[38;5;129;01mand\u001b[39;00m \u001b[38;5;124m\"\u001b[39m\u001b[38;5;124merror\u001b[39m\u001b[38;5;124m\"\u001b[39m \u001b[38;5;129;01min\u001b[39;00m resp\u001b[38;5;241m.\u001b[39mdata\n\u001b[1;32m    686\u001b[0m \u001b[38;5;28;01mif\u001b[39;00m stream_error \u001b[38;5;129;01mor\u001b[39;00m \u001b[38;5;129;01mnot\u001b[39;00m \u001b[38;5;241m200\u001b[39m \u001b[38;5;241m<\u001b[39m\u001b[38;5;241m=\u001b[39m rcode \u001b[38;5;241m<\u001b[39m \u001b[38;5;241m300\u001b[39m:\n\u001b[0;32m--> 687\u001b[0m     \u001b[38;5;28;01mraise\u001b[39;00m \u001b[38;5;28mself\u001b[39m\u001b[38;5;241m.\u001b[39mhandle_error_response(\n\u001b[1;32m    688\u001b[0m         rbody, rcode, resp\u001b[38;5;241m.\u001b[39mdata, rheaders, stream_error\u001b[38;5;241m=\u001b[39mstream_error\n\u001b[1;32m    689\u001b[0m     )\n\u001b[1;32m    690\u001b[0m \u001b[38;5;28;01mreturn\u001b[39;00m resp\n",
      "\u001b[0;31mInvalidRequestError\u001b[0m: Invalid key (or out of budget)."
     ]
    }
   ],
   "source": [
    "evaluate(vanilla_LM_QA, dev)"
   ]
  },
  {
   "cell_type": "markdown",
   "id": "d1e14d3e",
   "metadata": {},
   "source": [
    "### Chat Adapter with system_turn=True, multi_turn=True, strict_turn=False"
   ]
  },
  {
   "cell_type": "code",
   "execution_count": 12,
   "id": "bde061cc",
   "metadata": {
    "scrolled": true
   },
   "outputs": [
    {
     "name": "stdout",
     "output_type": "stream",
     "text": [
      "------\n",
      "parts\n",
      "instructions:\n",
      "Answer questions with short factoid answers.\n",
      "guidelines:\n",
      "Follow the following format.\n",
      "\n",
      "Question: ${the question to be answered}\n",
      "Answer: ${a short factoid answer, often between 1 and 5 words}\n",
      "rdemos:\n",
      "['Question: Which award did the first book of Gary Zukav receive?\\nAnswer: U.S. National Book Award']\n",
      "ademos:\n",
      "[]\n",
      "query:\n",
      "Question: Who has a broader scope of profession: E. L. Doctorow or Julia Peterkin?\n",
      "Answer: \n",
      "long_query:\n",
      "False\n",
      "------\n",
      "prompt\n",
      "model:\n",
      "gpt-3.5-turbo\n",
      "messages:\n",
      "{'role': 'system', 'content': 'Answer questions with short factoid answers.'}\n",
      "{'role': 'user', 'content': 'Follow the following format.\\n\\nQuestion: ${the question to be answered}\\nAnswer: ${a short factoid answer, often between 1 and 5 words}'}\n",
      "{'role': 'user', 'content': 'Question: Which award did the first book of Gary Zukav receive?\\nAnswer: U.S. National Book Award'}\n",
      "{'role': 'user', 'content': 'Question: Who has a broader scope of profession: E. L. Doctorow or Julia Peterkin?\\nAnswer:'}\n"
     ]
    }
   ],
   "source": [
    "dsp.settings.configure(lm=turbo, rm=rm)\n",
    "\n",
    "example = dsp.Example(question=question, demos=demos)\n",
    "parts = qa_template(example)\n",
    "prompt = chat_adapter(parts, system_turn=True, multi_turn=True, strict_turn=False)\n",
    "\n",
    "print(\"------\")\n",
    "print(\"parts\")\n",
    "for k, v in parts.items():\n",
    "    print(k+\":\")\n",
    "    print(v)\n",
    "\n",
    "print(\"------\")\n",
    "print(\"prompt\")\n",
    "for k, v in prompt.items():\n",
    "    print(k+\":\")\n",
    "    if k==\"messages\":\n",
    "        for turn in v:\n",
    "            print(turn)\n",
    "    else:\n",
    "        print(v)"
   ]
  },
  {
   "cell_type": "markdown",
   "id": "0a56bb8b",
   "metadata": {},
   "source": [
    "### Chat Adapter with system_turn=True, multi_turn=False, strict_turn=True"
   ]
  },
  {
   "cell_type": "code",
   "execution_count": 13,
   "id": "b4b2ee73",
   "metadata": {
    "scrolled": true
   },
   "outputs": [
    {
     "name": "stdout",
     "output_type": "stream",
     "text": [
      "------\n",
      "parts\n",
      "instructions:\n",
      "Answer questions with short factoid answers.\n",
      "guidelines:\n",
      "Follow the following format.\n",
      "\n",
      "Question: ${the question to be answered}\n",
      "Answer: ${a short factoid answer, often between 1 and 5 words}\n",
      "rdemos:\n",
      "['Question: Which award did the first book of Gary Zukav receive?\\nAnswer: U.S. National Book Award']\n",
      "ademos:\n",
      "[]\n",
      "query:\n",
      "Question: Who has a broader scope of profession: E. L. Doctorow or Julia Peterkin?\n",
      "Answer: \n",
      "long_query:\n",
      "False\n",
      "------\n",
      "prompt\n",
      "model:\n",
      "gpt-3.5-turbo\n",
      "messages:\n",
      "{'role': 'system', 'content': 'Answer questions with short factoid answers.'}\n",
      "{'role': 'user', 'content': 'Follow the following format.\\n\\nQuestion: ${the question to be answered}\\nAnswer: ${a short factoid answer, often between 1 and 5 words}\\n\\n---\\n\\nQuestion: Which award did the first book of Gary Zukav receive?\\nAnswer: U.S. National Book Award\\n\\nQuestion: Who has a broader scope of profession: E. L. Doctorow or Julia Peterkin?\\nAnswer:'}\n"
     ]
    }
   ],
   "source": [
    "dsp.settings.configure(lm=turbo, rm=rm)\n",
    "\n",
    "example = dsp.Example(question=question, demos=demos)\n",
    "parts = qa_template(example)\n",
    "prompt = chat_adapter(parts, system_turn=True, multi_turn=False, strict_turn=True)\n",
    "\n",
    "print(\"------\")\n",
    "print(\"parts\")\n",
    "for k, v in parts.items():\n",
    "    print(k+\":\")\n",
    "    print(v)\n",
    "\n",
    "print(\"------\")\n",
    "print(\"prompt\")\n",
    "for k, v in prompt.items():\n",
    "    print(k+\":\")\n",
    "    if k==\"messages\":\n",
    "        for turn in v:\n",
    "            print(turn)\n",
    "    else:\n",
    "        print(v)"
   ]
  },
  {
   "cell_type": "markdown",
   "id": "9f4d9619",
   "metadata": {},
   "source": [
    "### Chat Adapter with system_turn=True, multi_turn=False, strict_turn=False"
   ]
  },
  {
   "cell_type": "code",
   "execution_count": 14,
   "id": "1f0cbdc2",
   "metadata": {
    "scrolled": true
   },
   "outputs": [
    {
     "name": "stdout",
     "output_type": "stream",
     "text": [
      "------\n",
      "parts\n",
      "instructions:\n",
      "Answer questions with short factoid answers.\n",
      "guidelines:\n",
      "Follow the following format.\n",
      "\n",
      "Question: ${the question to be answered}\n",
      "Answer: ${a short factoid answer, often between 1 and 5 words}\n",
      "rdemos:\n",
      "['Question: Which award did the first book of Gary Zukav receive?\\nAnswer: U.S. National Book Award']\n",
      "ademos:\n",
      "[]\n",
      "query:\n",
      "Question: Who has a broader scope of profession: E. L. Doctorow or Julia Peterkin?\n",
      "Answer: \n",
      "long_query:\n",
      "False\n",
      "------\n",
      "prompt\n",
      "model:\n",
      "gpt-3.5-turbo\n",
      "messages:\n",
      "{'role': 'system', 'content': 'Answer questions with short factoid answers.'}\n",
      "{'role': 'user', 'content': 'Follow the following format.\\n\\nQuestion: ${the question to be answered}\\nAnswer: ${a short factoid answer, often between 1 and 5 words}\\n\\n---\\n\\nQuestion: Which award did the first book of Gary Zukav receive?\\nAnswer: U.S. National Book Award\\n\\nQuestion: Who has a broader scope of profession: E. L. Doctorow or Julia Peterkin?\\nAnswer:'}\n"
     ]
    }
   ],
   "source": [
    "dsp.settings.configure(lm=turbo, rm=rm)\n",
    "\n",
    "example = dsp.Example(question=question, demos=demos)\n",
    "parts = qa_template(example)\n",
    "prompt = chat_adapter(parts, system_turn=True, multi_turn=False, strict_turn=False)\n",
    "\n",
    "print(\"------\")\n",
    "print(\"parts\")\n",
    "for k, v in parts.items():\n",
    "    print(k+\":\")\n",
    "    print(v)\n",
    "\n",
    "print(\"------\")\n",
    "print(\"prompt\")\n",
    "for k, v in prompt.items():\n",
    "    print(k+\":\")\n",
    "    if k==\"messages\":\n",
    "        for turn in v:\n",
    "            print(turn)\n",
    "    else:\n",
    "        print(v)"
   ]
  },
  {
   "cell_type": "markdown",
   "id": "a5f8361b",
   "metadata": {},
   "source": [
    "### Chat Adapter with system_turn=False, multi_turn=True, strict_turn=True"
   ]
  },
  {
   "cell_type": "code",
   "execution_count": 16,
   "id": "ab098ad7",
   "metadata": {
    "scrolled": true
   },
   "outputs": [
    {
     "name": "stdout",
     "output_type": "stream",
     "text": [
      "------\n",
      "parts\n",
      "instructions:\n",
      "Answer questions with short factoid answers.\n",
      "guidelines:\n",
      "Follow the following format.\n",
      "\n",
      "Question: ${the question to be answered}\n",
      "Answer: ${a short factoid answer, often between 1 and 5 words}\n",
      "rdemos:\n",
      "['Question: Which award did the first book of Gary Zukav receive?\\nAnswer: U.S. National Book Award']\n",
      "ademos:\n",
      "[]\n",
      "query:\n",
      "Question: Who has a broader scope of profession: E. L. Doctorow or Julia Peterkin?\n",
      "Answer: \n",
      "long_query:\n",
      "False\n",
      "------\n",
      "prompt\n",
      "model:\n",
      "gpt-3.5-turbo\n",
      "messages:\n",
      "{'role': 'user', 'content': 'Answer questions with short factoid answers.'}\n",
      "{'role': 'assistant', 'content': 'Got it.'}\n",
      "{'role': 'user', 'content': 'Follow the following format.\\n\\nQuestion: ${the question to be answered}\\nAnswer: ${a short factoid answer, often between 1 and 5 words}'}\n",
      "{'role': 'assistant', 'content': 'Got it.'}\n",
      "{'role': 'user', 'content': 'Question: Which award did the first book of Gary Zukav receive?\\nAnswer: U.S. National Book Award'}\n",
      "{'role': 'assistant', 'content': 'Got it.'}\n",
      "{'role': 'user', 'content': 'Question: Who has a broader scope of profession: E. L. Doctorow or Julia Peterkin?\\nAnswer:'}\n"
     ]
    }
   ],
   "source": [
    "dsp.settings.configure(lm=turbo, rm=rm)\n",
    "\n",
    "example = dsp.Example(question=question, demos=demos)\n",
    "parts = qa_template(example)\n",
    "prompt = chat_adapter(parts, system_turn=False, multi_turn=True, strict_turn=True)\n",
    "\n",
    "print(\"------\")\n",
    "print(\"parts\")\n",
    "for k, v in parts.items():\n",
    "    print(k+\":\")\n",
    "    print(v)\n",
    "\n",
    "print(\"------\")\n",
    "print(\"prompt\")\n",
    "for k, v in prompt.items():\n",
    "    print(k+\":\")\n",
    "    if k==\"messages\":\n",
    "        for turn in v:\n",
    "            print(turn)\n",
    "    else:\n",
    "        print(v)"
   ]
  },
  {
   "cell_type": "markdown",
   "id": "e5824fdb",
   "metadata": {},
   "source": [
    "### Chat Adapter with system_turn=False, multi_turn=True, strict_turn=False"
   ]
  },
  {
   "cell_type": "code",
   "execution_count": 18,
   "id": "3be0b80b",
   "metadata": {
    "scrolled": true
   },
   "outputs": [
    {
     "name": "stdout",
     "output_type": "stream",
     "text": [
      "------\n",
      "parts\n",
      "instructions:\n",
      "Answer questions with short factoid answers.\n",
      "guidelines:\n",
      "Follow the following format.\n",
      "\n",
      "Question: ${the question to be answered}\n",
      "Answer: ${a short factoid answer, often between 1 and 5 words}\n",
      "rdemos:\n",
      "['Question: Which award did the first book of Gary Zukav receive?\\nAnswer: U.S. National Book Award']\n",
      "ademos:\n",
      "[]\n",
      "query:\n",
      "Question: Who has a broader scope of profession: E. L. Doctorow or Julia Peterkin?\n",
      "Answer: \n",
      "long_query:\n",
      "False\n",
      "------\n",
      "prompt\n",
      "model:\n",
      "gpt-3.5-turbo\n",
      "messages:\n",
      "{'role': 'user', 'content': 'Answer questions with short factoid answers.'}\n",
      "{'role': 'user', 'content': 'Follow the following format.\\n\\nQuestion: ${the question to be answered}\\nAnswer: ${a short factoid answer, often between 1 and 5 words}'}\n",
      "{'role': 'user', 'content': 'Question: Which award did the first book of Gary Zukav receive?\\nAnswer: U.S. National Book Award'}\n",
      "{'role': 'user', 'content': 'Question: Who has a broader scope of profession: E. L. Doctorow or Julia Peterkin?\\nAnswer:'}\n"
     ]
    }
   ],
   "source": [
    "dsp.settings.configure(lm=turbo, rm=rm)\n",
    "\n",
    "example = dsp.Example(question=question, demos=demos)\n",
    "parts = qa_template(example)\n",
    "prompt = chat_adapter(parts, system_turn=False, multi_turn=True, strict_turn=False)\n",
    "\n",
    "print(\"------\")\n",
    "print(\"parts\")\n",
    "for k, v in parts.items():\n",
    "    print(k+\":\")\n",
    "    print(v)\n",
    "\n",
    "print(\"------\")\n",
    "print(\"prompt\")\n",
    "for k, v in prompt.items():\n",
    "    print(k+\":\")\n",
    "    if k==\"messages\":\n",
    "        for turn in v:\n",
    "            print(turn)\n",
    "    else:\n",
    "        print(v)"
   ]
  },
  {
   "cell_type": "markdown",
   "id": "972dcbbe",
   "metadata": {},
   "source": [
    "### Chat Adapter with system_turn=False, multi_turn=False, strict_turn=True"
   ]
  },
  {
   "cell_type": "code",
   "execution_count": 19,
   "id": "f19b3931",
   "metadata": {
    "scrolled": true
   },
   "outputs": [
    {
     "name": "stdout",
     "output_type": "stream",
     "text": [
      "------\n",
      "parts\n",
      "instructions:\n",
      "Answer questions with short factoid answers.\n",
      "guidelines:\n",
      "Follow the following format.\n",
      "\n",
      "Question: ${the question to be answered}\n",
      "Answer: ${a short factoid answer, often between 1 and 5 words}\n",
      "rdemos:\n",
      "['Question: Which award did the first book of Gary Zukav receive?\\nAnswer: U.S. National Book Award']\n",
      "ademos:\n",
      "[]\n",
      "query:\n",
      "Question: Who has a broader scope of profession: E. L. Doctorow or Julia Peterkin?\n",
      "Answer: \n",
      "long_query:\n",
      "False\n",
      "------\n",
      "prompt\n",
      "model:\n",
      "gpt-3.5-turbo\n",
      "messages:\n",
      "{'role': 'user', 'content': 'Answer questions with short factoid answers.\\n\\n---\\n\\nFollow the following format.\\n\\nQuestion: ${the question to be answered}\\nAnswer: ${a short factoid answer, often between 1 and 5 words}\\n\\n---\\n\\nQuestion: Which award did the first book of Gary Zukav receive?\\nAnswer: U.S. National Book Award\\n\\nQuestion: Who has a broader scope of profession: E. L. Doctorow or Julia Peterkin?\\nAnswer:'}\n"
     ]
    }
   ],
   "source": [
    "dsp.settings.configure(lm=turbo, rm=rm)\n",
    "\n",
    "example = dsp.Example(question=question, demos=demos)\n",
    "parts = qa_template(example)\n",
    "prompt = chat_adapter(parts, system_turn=False, multi_turn=False, strict_turn=True)\n",
    "\n",
    "print(\"------\")\n",
    "print(\"parts\")\n",
    "for k, v in parts.items():\n",
    "    print(k+\":\")\n",
    "    print(v)\n",
    "\n",
    "print(\"------\")\n",
    "print(\"prompt\")\n",
    "for k, v in prompt.items():\n",
    "    print(k+\":\")\n",
    "    if k==\"messages\":\n",
    "        for turn in v:\n",
    "            print(turn)\n",
    "    else:\n",
    "        print(v)"
   ]
  },
  {
   "cell_type": "markdown",
   "id": "0847aec2",
   "metadata": {},
   "source": [
    "### Chat Adapter with system_turn=False, multi_turn=False, strict_turn=False"
   ]
  },
  {
   "cell_type": "code",
   "execution_count": 20,
   "id": "db650cb9",
   "metadata": {
    "scrolled": true
   },
   "outputs": [
    {
     "name": "stdout",
     "output_type": "stream",
     "text": [
      "------\n",
      "parts\n",
      "instructions:\n",
      "Answer questions with short factoid answers.\n",
      "guidelines:\n",
      "Follow the following format.\n",
      "\n",
      "Question: ${the question to be answered}\n",
      "Answer: ${a short factoid answer, often between 1 and 5 words}\n",
      "rdemos:\n",
      "['Question: Which award did the first book of Gary Zukav receive?\\nAnswer: U.S. National Book Award']\n",
      "ademos:\n",
      "[]\n",
      "query:\n",
      "Question: Who has a broader scope of profession: E. L. Doctorow or Julia Peterkin?\n",
      "Answer: \n",
      "long_query:\n",
      "False\n",
      "------\n",
      "prompt\n",
      "model:\n",
      "gpt-3.5-turbo\n",
      "messages:\n",
      "{'role': 'user', 'content': 'Answer questions with short factoid answers.\\n\\n---\\n\\nFollow the following format.\\n\\nQuestion: ${the question to be answered}\\nAnswer: ${a short factoid answer, often between 1 and 5 words}\\n\\n---\\n\\nQuestion: Which award did the first book of Gary Zukav receive?\\nAnswer: U.S. National Book Award\\n\\nQuestion: Who has a broader scope of profession: E. L. Doctorow or Julia Peterkin?\\nAnswer:'}\n"
     ]
    }
   ],
   "source": [
    "dsp.settings.configure(lm=turbo, rm=rm)\n",
    "\n",
    "example = dsp.Example(question=question, demos=demos)\n",
    "parts = qa_template(example)\n",
    "prompt = chat_adapter(parts, system_turn=False, multi_turn=False, strict_turn=False)\n",
    "\n",
    "print(\"------\")\n",
    "print(\"parts\")\n",
    "for k, v in parts.items():\n",
    "    print(k+\":\")\n",
    "    print(v)\n",
    "\n",
    "print(\"------\")\n",
    "print(\"prompt\")\n",
    "for k, v in prompt.items():\n",
    "    print(k+\":\")\n",
    "    if k==\"messages\":\n",
    "        for turn in v:\n",
    "            print(turn)\n",
    "    else:\n",
    "        print(v)"
   ]
  },
  {
   "cell_type": "markdown",
   "id": "6c8eac8d",
   "metadata": {},
   "source": [
    "## Testing Chat Adapter Flags with no demos"
   ]
  },
  {
   "cell_type": "markdown",
   "id": "7ce5865b",
   "metadata": {},
   "source": [
    "### Chat Adapter with system_turn=True, multi_turn=True, strict_turn=True"
   ]
  },
  {
   "cell_type": "code",
   "execution_count": 23,
   "id": "09bf55aa",
   "metadata": {
    "scrolled": true
   },
   "outputs": [
    {
     "name": "stdout",
     "output_type": "stream",
     "text": [
      "------\n",
      "parts\n",
      "instructions:\n",
      "Answer questions with short factoid answers.\n",
      "guidelines:\n",
      "Follow the following format.\n",
      "\n",
      "Question: ${the question to be answered}\n",
      "Answer: ${a short factoid answer, often between 1 and 5 words}\n",
      "rdemos:\n",
      "[]\n",
      "ademos:\n",
      "[]\n",
      "query:\n",
      "Question: Who has a broader scope of profession: E. L. Doctorow or Julia Peterkin?\n",
      "Answer: \n",
      "long_query:\n",
      "False\n",
      "------\n",
      "prompt\n",
      "model:\n",
      "gpt-3.5-turbo\n",
      "messages:\n",
      "{'role': 'system', 'content': 'Answer questions with short factoid answers.'}\n",
      "{'role': 'user', 'content': 'Follow the following format.\\n\\nQuestion: ${the question to be answered}\\nAnswer: ${a short factoid answer, often between 1 and 5 words}'}\n",
      "{'role': 'assistant', 'content': 'Got it.'}\n",
      "{'role': 'user', 'content': 'Question: Who has a broader scope of profession: E. L. Doctorow or Julia Peterkin?\\nAnswer:'}\n"
     ]
    }
   ],
   "source": [
    "dsp.settings.configure(lm=turbo, rm=rm)\n",
    "\n",
    "example = dsp.Example(question=question)\n",
    "parts = qa_template(example)\n",
    "prompt = chat_adapter(parts, system_turn=True, multi_turn=True, strict_turn=True)\n",
    "\n",
    "print(\"------\")\n",
    "print(\"parts\")\n",
    "for k, v in parts.items():\n",
    "    print(k+\":\")\n",
    "    print(v)\n",
    "\n",
    "print(\"------\")\n",
    "print(\"prompt\")\n",
    "for k, v in prompt.items():\n",
    "    print(k+\":\")\n",
    "    if k==\"messages\":\n",
    "        for turn in v:\n",
    "            print(turn)\n",
    "    else:\n",
    "        print(v)"
   ]
  },
  {
   "cell_type": "markdown",
   "id": "35523e9e",
   "metadata": {},
   "source": [
    "### Chat Adapter with system_turn=True, multi_turn=True, strict_turn=False"
   ]
  },
  {
   "cell_type": "code",
   "execution_count": 24,
   "id": "c06f1567",
   "metadata": {
    "scrolled": true
   },
   "outputs": [
    {
     "name": "stdout",
     "output_type": "stream",
     "text": [
      "------\n",
      "parts\n",
      "instructions:\n",
      "Answer questions with short factoid answers.\n",
      "guidelines:\n",
      "Follow the following format.\n",
      "\n",
      "Question: ${the question to be answered}\n",
      "Answer: ${a short factoid answer, often between 1 and 5 words}\n",
      "rdemos:\n",
      "[]\n",
      "ademos:\n",
      "[]\n",
      "query:\n",
      "Question: Who has a broader scope of profession: E. L. Doctorow or Julia Peterkin?\n",
      "Answer: \n",
      "long_query:\n",
      "False\n",
      "------\n",
      "prompt\n",
      "model:\n",
      "gpt-3.5-turbo\n",
      "messages:\n",
      "{'role': 'system', 'content': 'Answer questions with short factoid answers.'}\n",
      "{'role': 'user', 'content': 'Follow the following format.\\n\\nQuestion: ${the question to be answered}\\nAnswer: ${a short factoid answer, often between 1 and 5 words}'}\n",
      "{'role': 'user', 'content': 'Question: Who has a broader scope of profession: E. L. Doctorow or Julia Peterkin?\\nAnswer:'}\n"
     ]
    }
   ],
   "source": [
    "dsp.settings.configure(lm=turbo, rm=rm)\n",
    "\n",
    "example = dsp.Example(question=question)\n",
    "parts = qa_template(example)\n",
    "prompt = chat_adapter(parts, system_turn=True, multi_turn=True, strict_turn=False)\n",
    "\n",
    "print(\"------\")\n",
    "print(\"parts\")\n",
    "for k, v in parts.items():\n",
    "    print(k+\":\")\n",
    "    print(v)\n",
    "\n",
    "print(\"------\")\n",
    "print(\"prompt\")\n",
    "for k, v in prompt.items():\n",
    "    print(k+\":\")\n",
    "    if k==\"messages\":\n",
    "        for turn in v:\n",
    "            print(turn)\n",
    "    else:\n",
    "        print(v)"
   ]
  },
  {
   "cell_type": "markdown",
   "id": "44fad687",
   "metadata": {},
   "source": [
    "### Chat Adapter with system_turn=True, multi_turn=False, strict_turn=True"
   ]
  },
  {
   "cell_type": "code",
   "execution_count": 25,
   "id": "74a97cd6",
   "metadata": {
    "scrolled": true
   },
   "outputs": [
    {
     "name": "stdout",
     "output_type": "stream",
     "text": [
      "------\n",
      "parts\n",
      "instructions:\n",
      "Answer questions with short factoid answers.\n",
      "guidelines:\n",
      "Follow the following format.\n",
      "\n",
      "Question: ${the question to be answered}\n",
      "Answer: ${a short factoid answer, often between 1 and 5 words}\n",
      "rdemos:\n",
      "[]\n",
      "ademos:\n",
      "[]\n",
      "query:\n",
      "Question: Who has a broader scope of profession: E. L. Doctorow or Julia Peterkin?\n",
      "Answer: \n",
      "long_query:\n",
      "False\n",
      "------\n",
      "prompt\n",
      "model:\n",
      "gpt-3.5-turbo\n",
      "messages:\n",
      "{'role': 'system', 'content': 'Answer questions with short factoid answers.'}\n",
      "{'role': 'user', 'content': 'Follow the following format.\\n\\nQuestion: ${the question to be answered}\\nAnswer: ${a short factoid answer, often between 1 and 5 words}\\n\\n---\\n\\nQuestion: Who has a broader scope of profession: E. L. Doctorow or Julia Peterkin?\\nAnswer:'}\n"
     ]
    }
   ],
   "source": [
    "dsp.settings.configure(lm=turbo, rm=rm)\n",
    "\n",
    "example = dsp.Example(question=question)\n",
    "parts = qa_template(example)\n",
    "prompt = chat_adapter(parts, system_turn=True, multi_turn=False, strict_turn=True)\n",
    "\n",
    "print(\"------\")\n",
    "print(\"parts\")\n",
    "for k, v in parts.items():\n",
    "    print(k+\":\")\n",
    "    print(v)\n",
    "\n",
    "print(\"------\")\n",
    "print(\"prompt\")\n",
    "for k, v in prompt.items():\n",
    "    print(k+\":\")\n",
    "    if k==\"messages\":\n",
    "        for turn in v:\n",
    "            print(turn)\n",
    "    else:\n",
    "        print(v)"
   ]
  },
  {
   "cell_type": "markdown",
   "id": "c3e1ccb7",
   "metadata": {},
   "source": [
    "### Chat Adapter with system_turn=True, multi_turn=False, strict_turn=False"
   ]
  },
  {
   "cell_type": "code",
   "execution_count": 26,
   "id": "5413c942",
   "metadata": {
    "scrolled": true
   },
   "outputs": [
    {
     "name": "stdout",
     "output_type": "stream",
     "text": [
      "------\n",
      "parts\n",
      "instructions:\n",
      "Answer questions with short factoid answers.\n",
      "guidelines:\n",
      "Follow the following format.\n",
      "\n",
      "Question: ${the question to be answered}\n",
      "Answer: ${a short factoid answer, often between 1 and 5 words}\n",
      "rdemos:\n",
      "[]\n",
      "ademos:\n",
      "[]\n",
      "query:\n",
      "Question: Who has a broader scope of profession: E. L. Doctorow or Julia Peterkin?\n",
      "Answer: \n",
      "long_query:\n",
      "False\n",
      "------\n",
      "prompt\n",
      "model:\n",
      "gpt-3.5-turbo\n",
      "messages:\n",
      "{'role': 'system', 'content': 'Answer questions with short factoid answers.'}\n",
      "{'role': 'user', 'content': 'Follow the following format.\\n\\nQuestion: ${the question to be answered}\\nAnswer: ${a short factoid answer, often between 1 and 5 words}\\n\\n---\\n\\nQuestion: Who has a broader scope of profession: E. L. Doctorow or Julia Peterkin?\\nAnswer:'}\n"
     ]
    }
   ],
   "source": [
    "dsp.settings.configure(lm=turbo, rm=rm)\n",
    "\n",
    "example = dsp.Example(question=question)\n",
    "parts = qa_template(example)\n",
    "prompt = chat_adapter(parts, system_turn=True, multi_turn=False, strict_turn=False)\n",
    "\n",
    "print(\"------\")\n",
    "print(\"parts\")\n",
    "for k, v in parts.items():\n",
    "    print(k+\":\")\n",
    "    print(v)\n",
    "\n",
    "print(\"------\")\n",
    "print(\"prompt\")\n",
    "for k, v in prompt.items():\n",
    "    print(k+\":\")\n",
    "    if k==\"messages\":\n",
    "        for turn in v:\n",
    "            print(turn)\n",
    "    else:\n",
    "        print(v)"
   ]
  },
  {
   "cell_type": "markdown",
   "id": "025a71e2",
   "metadata": {},
   "source": [
    "### Chat Adapter with system_turn=False, multi_turn=True, strict_turn=True"
   ]
  },
  {
   "cell_type": "code",
   "execution_count": 27,
   "id": "cc770be3",
   "metadata": {
    "scrolled": true
   },
   "outputs": [
    {
     "name": "stdout",
     "output_type": "stream",
     "text": [
      "------\n",
      "parts\n",
      "instructions:\n",
      "Answer questions with short factoid answers.\n",
      "guidelines:\n",
      "Follow the following format.\n",
      "\n",
      "Question: ${the question to be answered}\n",
      "Answer: ${a short factoid answer, often between 1 and 5 words}\n",
      "rdemos:\n",
      "[]\n",
      "ademos:\n",
      "[]\n",
      "query:\n",
      "Question: Who has a broader scope of profession: E. L. Doctorow or Julia Peterkin?\n",
      "Answer: \n",
      "long_query:\n",
      "False\n",
      "------\n",
      "prompt\n",
      "model:\n",
      "gpt-3.5-turbo\n",
      "messages:\n",
      "{'role': 'user', 'content': 'Answer questions with short factoid answers.'}\n",
      "{'role': 'assistant', 'content': 'Got it.'}\n",
      "{'role': 'user', 'content': 'Follow the following format.\\n\\nQuestion: ${the question to be answered}\\nAnswer: ${a short factoid answer, often between 1 and 5 words}'}\n",
      "{'role': 'assistant', 'content': 'Got it.'}\n",
      "{'role': 'user', 'content': 'Question: Who has a broader scope of profession: E. L. Doctorow or Julia Peterkin?\\nAnswer:'}\n"
     ]
    }
   ],
   "source": [
    "dsp.settings.configure(lm=turbo, rm=rm)\n",
    "\n",
    "example = dsp.Example(question=question)\n",
    "parts = qa_template(example)\n",
    "prompt = chat_adapter(parts, system_turn=False, multi_turn=True, strict_turn=True)\n",
    "\n",
    "print(\"------\")\n",
    "print(\"parts\")\n",
    "for k, v in parts.items():\n",
    "    print(k+\":\")\n",
    "    print(v)\n",
    "\n",
    "print(\"------\")\n",
    "print(\"prompt\")\n",
    "for k, v in prompt.items():\n",
    "    print(k+\":\")\n",
    "    if k==\"messages\":\n",
    "        for turn in v:\n",
    "            print(turn)\n",
    "    else:\n",
    "        print(v)"
   ]
  },
  {
   "cell_type": "markdown",
   "id": "2c9879a7",
   "metadata": {},
   "source": [
    "### Chat Adapter with system_turn=False, multi_turn=True, strict_turn=False"
   ]
  },
  {
   "cell_type": "code",
   "execution_count": 28,
   "id": "68c6452d",
   "metadata": {
    "scrolled": true
   },
   "outputs": [
    {
     "name": "stdout",
     "output_type": "stream",
     "text": [
      "------\n",
      "parts\n",
      "instructions:\n",
      "Answer questions with short factoid answers.\n",
      "guidelines:\n",
      "Follow the following format.\n",
      "\n",
      "Question: ${the question to be answered}\n",
      "Answer: ${a short factoid answer, often between 1 and 5 words}\n",
      "rdemos:\n",
      "[]\n",
      "ademos:\n",
      "[]\n",
      "query:\n",
      "Question: Who has a broader scope of profession: E. L. Doctorow or Julia Peterkin?\n",
      "Answer: \n",
      "long_query:\n",
      "False\n",
      "------\n",
      "prompt\n",
      "model:\n",
      "gpt-3.5-turbo\n",
      "messages:\n",
      "{'role': 'user', 'content': 'Answer questions with short factoid answers.'}\n",
      "{'role': 'user', 'content': 'Follow the following format.\\n\\nQuestion: ${the question to be answered}\\nAnswer: ${a short factoid answer, often between 1 and 5 words}'}\n",
      "{'role': 'user', 'content': 'Question: Who has a broader scope of profession: E. L. Doctorow or Julia Peterkin?\\nAnswer:'}\n"
     ]
    }
   ],
   "source": [
    "dsp.settings.configure(lm=turbo, rm=rm)\n",
    "\n",
    "example = dsp.Example(question=question)\n",
    "parts = qa_template(example)\n",
    "prompt = chat_adapter(parts, system_turn=False, multi_turn=True, strict_turn=False)\n",
    "\n",
    "print(\"------\")\n",
    "print(\"parts\")\n",
    "for k, v in parts.items():\n",
    "    print(k+\":\")\n",
    "    print(v)\n",
    "\n",
    "print(\"------\")\n",
    "print(\"prompt\")\n",
    "for k, v in prompt.items():\n",
    "    print(k+\":\")\n",
    "    if k==\"messages\":\n",
    "        for turn in v:\n",
    "            print(turn)\n",
    "    else:\n",
    "        print(v)"
   ]
  },
  {
   "cell_type": "markdown",
   "id": "649d33af",
   "metadata": {},
   "source": [
    "### Chat Adapter with system_turn=False, multi_turn=False, strict_turn=True"
   ]
  },
  {
   "cell_type": "code",
   "execution_count": 29,
   "id": "2b48641f",
   "metadata": {
    "scrolled": true
   },
   "outputs": [
    {
     "name": "stdout",
     "output_type": "stream",
     "text": [
      "------\n",
      "parts\n",
      "instructions:\n",
      "Answer questions with short factoid answers.\n",
      "guidelines:\n",
      "Follow the following format.\n",
      "\n",
      "Question: ${the question to be answered}\n",
      "Answer: ${a short factoid answer, often between 1 and 5 words}\n",
      "rdemos:\n",
      "['Question: Which award did the first book of Gary Zukav receive?\\nAnswer: U.S. National Book Award']\n",
      "ademos:\n",
      "[]\n",
      "query:\n",
      "Question: Who has a broader scope of profession: E. L. Doctorow or Julia Peterkin?\n",
      "Answer: \n",
      "long_query:\n",
      "False\n",
      "------\n",
      "prompt\n",
      "model:\n",
      "gpt-3.5-turbo\n",
      "messages:\n",
      "{'role': 'user', 'content': 'Answer questions with short factoid answers.\\n\\n---\\n\\nFollow the following format.\\n\\nQuestion: ${the question to be answered}\\nAnswer: ${a short factoid answer, often between 1 and 5 words}\\n\\n---\\n\\nQuestion: Which award did the first book of Gary Zukav receive?\\nAnswer: U.S. National Book Award\\n\\nQuestion: Who has a broader scope of profession: E. L. Doctorow or Julia Peterkin?\\nAnswer:'}\n"
     ]
    }
   ],
   "source": [
    "dsp.settings.configure(lm=turbo, rm=rm)\n",
    "\n",
    "example = dsp.Example(question=question, demos=demos)\n",
    "parts = qa_template(example)\n",
    "prompt = chat_adapter(parts, system_turn=False, multi_turn=False, strict_turn=True)\n",
    "\n",
    "print(\"------\")\n",
    "print(\"parts\")\n",
    "for k, v in parts.items():\n",
    "    print(k+\":\")\n",
    "    print(v)\n",
    "\n",
    "print(\"------\")\n",
    "print(\"prompt\")\n",
    "for k, v in prompt.items():\n",
    "    print(k+\":\")\n",
    "    if k==\"messages\":\n",
    "        for turn in v:\n",
    "            print(turn)\n",
    "    else:\n",
    "        print(v)"
   ]
  },
  {
   "cell_type": "markdown",
   "id": "7882e0f2",
   "metadata": {},
   "source": [
    "### Chat Adapter with system_turn=False, multi_turn=False, strict_turn=False"
   ]
  },
  {
   "cell_type": "code",
   "execution_count": 30,
   "id": "23340ea2",
   "metadata": {
    "scrolled": true
   },
   "outputs": [
    {
     "name": "stdout",
     "output_type": "stream",
     "text": [
      "------\n",
      "parts\n",
      "instructions:\n",
      "Answer questions with short factoid answers.\n",
      "guidelines:\n",
      "Follow the following format.\n",
      "\n",
      "Question: ${the question to be answered}\n",
      "Answer: ${a short factoid answer, often between 1 and 5 words}\n",
      "rdemos:\n",
      "['Question: Which award did the first book of Gary Zukav receive?\\nAnswer: U.S. National Book Award']\n",
      "ademos:\n",
      "[]\n",
      "query:\n",
      "Question: Who has a broader scope of profession: E. L. Doctorow or Julia Peterkin?\n",
      "Answer: \n",
      "long_query:\n",
      "False\n",
      "------\n",
      "prompt\n",
      "model:\n",
      "gpt-3.5-turbo\n",
      "messages:\n",
      "{'role': 'user', 'content': 'Answer questions with short factoid answers.\\n\\n---\\n\\nFollow the following format.\\n\\nQuestion: ${the question to be answered}\\nAnswer: ${a short factoid answer, often between 1 and 5 words}\\n\\n---\\n\\nQuestion: Which award did the first book of Gary Zukav receive?\\nAnswer: U.S. National Book Award\\n\\nQuestion: Who has a broader scope of profession: E. L. Doctorow or Julia Peterkin?\\nAnswer:'}\n"
     ]
    }
   ],
   "source": [
    "dsp.settings.configure(lm=turbo, rm=rm)\n",
    "\n",
    "example = dsp.Example(question=question, demos=demos)\n",
    "parts = qa_template(example)\n",
    "prompt = chat_adapter(parts, system_turn=False, multi_turn=False, strict_turn=False)\n",
    "\n",
    "print(\"------\")\n",
    "print(\"parts\")\n",
    "for k, v in parts.items():\n",
    "    print(k+\":\")\n",
    "    print(v)\n",
    "\n",
    "print(\"------\")\n",
    "print(\"prompt\")\n",
    "for k, v in prompt.items():\n",
    "    print(k+\":\")\n",
    "    if k==\"messages\":\n",
    "        for turn in v:\n",
    "            print(turn)\n",
    "    else:\n",
    "        print(v)"
   ]
  },
  {
   "cell_type": "markdown",
   "id": "c2fff535",
   "metadata": {},
   "source": [
    "# Program 2: Retrieve-then-Read w/ GPT-3.5"
   ]
  },
  {
   "cell_type": "code",
   "execution_count": 9,
   "id": "e11307b1",
   "metadata": {},
   "outputs": [],
   "source": [
    "Context = dsp.Type(\n",
    "    prefix=\"Context:\\n\",\n",
    "    desc=\"${sources that may contain relevant content}\",\n",
    "    format=dsp.passages2text\n",
    ")\n",
    "\n",
    "qa_template_with_passages = dsp.Template(\n",
    "    instructions=qa_template.instructions,\n",
    "    context=Context(), question=Question(), answer=Answer()\n",
    ")\n",
    "\n",
    "passages = dsp.retrieve(question, k=5)"
   ]
  },
  {
   "cell_type": "code",
   "execution_count": null,
   "id": "ba6711b0",
   "metadata": {},
   "outputs": [],
   "source": [
    "from dsp.evaluation.utils import evaluate\n",
    "\n",
    "def retrieve_then_read_QA(question: str) -> str:\n",
    "    e = dsp.Example(question=question, context=passages, demos=training_demos)\n",
    "    e, completions = dsp.generate(qa_template_with_passages)(example, stage='qa')\n",
    "\n",
    "    return completions.answer"
   ]
  },
  {
   "cell_type": "markdown",
   "id": "1f96f121",
   "metadata": {},
   "source": [
    "## Testing Chat Adapter Flags with demos"
   ]
  },
  {
   "cell_type": "markdown",
   "id": "083fa75e",
   "metadata": {},
   "source": [
    "### Chat Adapter with system_turn=True, multi_turn=True, strict_turn=True"
   ]
  },
  {
   "cell_type": "code",
   "execution_count": 10,
   "id": "3195cc01",
   "metadata": {
    "scrolled": true
   },
   "outputs": [
    {
     "name": "stdout",
     "output_type": "stream",
     "text": [
      "------\n",
      "parts\n",
      "instructions:\n",
      "Answer questions with short factoid answers.\n",
      "guidelines:\n",
      "Follow the following format.\n",
      "\n",
      "Question: ${the question to be answered}\n",
      "Answer: ${a short factoid answer, often between 1 and 5 words}\n",
      "rdemos:\n",
      "['Question: Which award did the first book of Gary Zukav receive?\\nAnswer: U.S. National Book Award']\n",
      "ademos:\n",
      "[]\n",
      "query:\n",
      "Question: Who has a broader scope of profession: E. L. Doctorow or Julia Peterkin?\n",
      "Answer: \n",
      "long_query:\n",
      "False\n",
      "------\n",
      "prompt\n",
      "model:\n",
      "gpt-3.5-turbo\n",
      "messages:\n",
      "{'role': 'system', 'content': 'Answer questions with short factoid answers.'}\n",
      "{'role': 'user', 'content': 'Follow the following format.\\n\\nQuestion: ${the question to be answered}\\nAnswer: ${a short factoid answer, often between 1 and 5 words}'}\n",
      "{'role': 'assistant', 'content': 'Got it.'}\n",
      "{'role': 'user', 'content': 'Question: Which award did the first book of Gary Zukav receive?\\nAnswer: U.S. National Book Award'}\n",
      "{'role': 'assistant', 'content': 'Got it.'}\n",
      "{'role': 'user', 'content': 'Question: Who has a broader scope of profession: E. L. Doctorow or Julia Peterkin?\\nAnswer:'}\n"
     ]
    }
   ],
   "source": [
    "dsp.settings.configure(lm=turbo, rm=rm)\n",
    "\n",
    "example = dsp.Example(question=question, demos=demos)\n",
    "parts = qa_template(example)\n",
    "prompt = chat_adapter(parts, system_turn=True, multi_turn=True, strict_turn=True)\n",
    "\n",
    "print(\"------\")\n",
    "print(\"parts\")\n",
    "for k, v in parts.items():\n",
    "    print(k+\":\")\n",
    "    print(v)\n",
    "\n",
    "print(\"------\")\n",
    "print(\"prompt\")\n",
    "for k, v in prompt.items():\n",
    "    print(k+\":\")\n",
    "    if k==\"messages\":\n",
    "        for turn in v:\n",
    "            print(turn)\n",
    "    else:\n",
    "        print(v)"
   ]
  },
  {
   "cell_type": "code",
   "execution_count": null,
   "id": "872e0266",
   "metadata": {},
   "outputs": [],
   "source": [
    "retrieve_then_read_QA(dev[0].question), lm.inspect_history(n=1)"
   ]
  },
  {
   "cell_type": "code",
   "execution_count": null,
   "id": "19219d17",
   "metadata": {
    "scrolled": true
   },
   "outputs": [],
   "source": [
    "evaluate(retrieve_then_read_QA, dev)"
   ]
  },
  {
   "cell_type": "markdown",
   "id": "e6b0c65a",
   "metadata": {},
   "source": [
    "### Chat Adapter with system_turn=True, multi_turn=True, strict_turn=False"
   ]
  },
  {
   "cell_type": "code",
   "execution_count": 12,
   "id": "f4773a39",
   "metadata": {
    "scrolled": true
   },
   "outputs": [
    {
     "name": "stdout",
     "output_type": "stream",
     "text": [
      "------\n",
      "parts\n",
      "instructions:\n",
      "Answer questions with short factoid answers.\n",
      "guidelines:\n",
      "Follow the following format.\n",
      "\n",
      "Question: ${the question to be answered}\n",
      "Answer: ${a short factoid answer, often between 1 and 5 words}\n",
      "rdemos:\n",
      "['Question: Which award did the first book of Gary Zukav receive?\\nAnswer: U.S. National Book Award']\n",
      "ademos:\n",
      "[]\n",
      "query:\n",
      "Question: Who has a broader scope of profession: E. L. Doctorow or Julia Peterkin?\n",
      "Answer: \n",
      "long_query:\n",
      "False\n",
      "------\n",
      "prompt\n",
      "model:\n",
      "gpt-3.5-turbo\n",
      "messages:\n",
      "{'role': 'system', 'content': 'Answer questions with short factoid answers.'}\n",
      "{'role': 'user', 'content': 'Follow the following format.\\n\\nQuestion: ${the question to be answered}\\nAnswer: ${a short factoid answer, often between 1 and 5 words}'}\n",
      "{'role': 'user', 'content': 'Question: Which award did the first book of Gary Zukav receive?\\nAnswer: U.S. National Book Award'}\n",
      "{'role': 'user', 'content': 'Question: Who has a broader scope of profession: E. L. Doctorow or Julia Peterkin?\\nAnswer:'}\n"
     ]
    }
   ],
   "source": [
    "dsp.settings.configure(lm=turbo, rm=rm)\n",
    "\n",
    "example = dsp.Example(question=question, demos=demos)\n",
    "parts = qa_template(example)\n",
    "prompt = chat_adapter(parts, system_turn=True, multi_turn=True, strict_turn=False)\n",
    "\n",
    "print(\"------\")\n",
    "print(\"parts\")\n",
    "for k, v in parts.items():\n",
    "    print(k+\":\")\n",
    "    print(v)\n",
    "\n",
    "print(\"------\")\n",
    "print(\"prompt\")\n",
    "for k, v in prompt.items():\n",
    "    print(k+\":\")\n",
    "    if k==\"messages\":\n",
    "        for turn in v:\n",
    "            print(turn)\n",
    "    else:\n",
    "        print(v)"
   ]
  },
  {
   "cell_type": "code",
   "execution_count": null,
   "id": "fbad86f5",
   "metadata": {},
   "outputs": [],
   "source": [
    "retrieve_then_read_QA(dev[0].question), lm.inspect_history(n=1)"
   ]
  },
  {
   "cell_type": "code",
   "execution_count": null,
   "id": "3f54d8b6",
   "metadata": {
    "scrolled": true
   },
   "outputs": [],
   "source": [
    "evaluate(retrieve_then_read_QA, dev)"
   ]
  },
  {
   "cell_type": "markdown",
   "id": "e665cfd6",
   "metadata": {},
   "source": [
    "### Chat Adapter with system_turn=True, multi_turn=False, strict_turn=True"
   ]
  },
  {
   "cell_type": "code",
   "execution_count": 13,
   "id": "7b66bdbd",
   "metadata": {
    "scrolled": true
   },
   "outputs": [
    {
     "name": "stdout",
     "output_type": "stream",
     "text": [
      "------\n",
      "parts\n",
      "instructions:\n",
      "Answer questions with short factoid answers.\n",
      "guidelines:\n",
      "Follow the following format.\n",
      "\n",
      "Question: ${the question to be answered}\n",
      "Answer: ${a short factoid answer, often between 1 and 5 words}\n",
      "rdemos:\n",
      "['Question: Which award did the first book of Gary Zukav receive?\\nAnswer: U.S. National Book Award']\n",
      "ademos:\n",
      "[]\n",
      "query:\n",
      "Question: Who has a broader scope of profession: E. L. Doctorow or Julia Peterkin?\n",
      "Answer: \n",
      "long_query:\n",
      "False\n",
      "------\n",
      "prompt\n",
      "model:\n",
      "gpt-3.5-turbo\n",
      "messages:\n",
      "{'role': 'system', 'content': 'Answer questions with short factoid answers.'}\n",
      "{'role': 'user', 'content': 'Follow the following format.\\n\\nQuestion: ${the question to be answered}\\nAnswer: ${a short factoid answer, often between 1 and 5 words}\\n\\n---\\n\\nQuestion: Which award did the first book of Gary Zukav receive?\\nAnswer: U.S. National Book Award\\n\\nQuestion: Who has a broader scope of profession: E. L. Doctorow or Julia Peterkin?\\nAnswer:'}\n"
     ]
    }
   ],
   "source": [
    "dsp.settings.configure(lm=turbo, rm=rm)\n",
    "\n",
    "example = dsp.Example(question=question, demos=demos)\n",
    "parts = qa_template(example)\n",
    "prompt = chat_adapter(parts, system_turn=True, multi_turn=False, strict_turn=True)\n",
    "\n",
    "print(\"------\")\n",
    "print(\"parts\")\n",
    "for k, v in parts.items():\n",
    "    print(k+\":\")\n",
    "    print(v)\n",
    "\n",
    "print(\"------\")\n",
    "print(\"prompt\")\n",
    "for k, v in prompt.items():\n",
    "    print(k+\":\")\n",
    "    if k==\"messages\":\n",
    "        for turn in v:\n",
    "            print(turn)\n",
    "    else:\n",
    "        print(v)"
   ]
  },
  {
   "cell_type": "code",
   "execution_count": null,
   "id": "c25b864f",
   "metadata": {},
   "outputs": [],
   "source": [
    "retrieve_then_read_QA(dev[0].question), lm.inspect_history(n=1)"
   ]
  },
  {
   "cell_type": "code",
   "execution_count": null,
   "id": "077494a4",
   "metadata": {
    "scrolled": true
   },
   "outputs": [],
   "source": [
    "evaluate(retrieve_then_read_QA, dev)"
   ]
  },
  {
   "cell_type": "markdown",
   "id": "3faaf537",
   "metadata": {},
   "source": [
    "### Chat Adapter with system_turn=True, multi_turn=False, strict_turn=False"
   ]
  },
  {
   "cell_type": "code",
   "execution_count": 14,
   "id": "8694bd14",
   "metadata": {
    "scrolled": true
   },
   "outputs": [
    {
     "name": "stdout",
     "output_type": "stream",
     "text": [
      "------\n",
      "parts\n",
      "instructions:\n",
      "Answer questions with short factoid answers.\n",
      "guidelines:\n",
      "Follow the following format.\n",
      "\n",
      "Question: ${the question to be answered}\n",
      "Answer: ${a short factoid answer, often between 1 and 5 words}\n",
      "rdemos:\n",
      "['Question: Which award did the first book of Gary Zukav receive?\\nAnswer: U.S. National Book Award']\n",
      "ademos:\n",
      "[]\n",
      "query:\n",
      "Question: Who has a broader scope of profession: E. L. Doctorow or Julia Peterkin?\n",
      "Answer: \n",
      "long_query:\n",
      "False\n",
      "------\n",
      "prompt\n",
      "model:\n",
      "gpt-3.5-turbo\n",
      "messages:\n",
      "{'role': 'system', 'content': 'Answer questions with short factoid answers.'}\n",
      "{'role': 'user', 'content': 'Follow the following format.\\n\\nQuestion: ${the question to be answered}\\nAnswer: ${a short factoid answer, often between 1 and 5 words}\\n\\n---\\n\\nQuestion: Which award did the first book of Gary Zukav receive?\\nAnswer: U.S. National Book Award\\n\\nQuestion: Who has a broader scope of profession: E. L. Doctorow or Julia Peterkin?\\nAnswer:'}\n"
     ]
    }
   ],
   "source": [
    "dsp.settings.configure(lm=turbo, rm=rm)\n",
    "\n",
    "example = dsp.Example(question=question, demos=demos)\n",
    "parts = qa_template(example)\n",
    "prompt = chat_adapter(parts, system_turn=True, multi_turn=False, strict_turn=False)\n",
    "\n",
    "print(\"------\")\n",
    "print(\"parts\")\n",
    "for k, v in parts.items():\n",
    "    print(k+\":\")\n",
    "    print(v)\n",
    "\n",
    "print(\"------\")\n",
    "print(\"prompt\")\n",
    "for k, v in prompt.items():\n",
    "    print(k+\":\")\n",
    "    if k==\"messages\":\n",
    "        for turn in v:\n",
    "            print(turn)\n",
    "    else:\n",
    "        print(v)"
   ]
  },
  {
   "cell_type": "code",
   "execution_count": null,
   "id": "6e0adcf7",
   "metadata": {},
   "outputs": [],
   "source": [
    "retrieve_then_read_QA(dev[0].question), lm.inspect_history(n=1)"
   ]
  },
  {
   "cell_type": "code",
   "execution_count": null,
   "id": "b1361328",
   "metadata": {
    "scrolled": true
   },
   "outputs": [],
   "source": [
    "evaluate(retrieve_then_read_QA, dev)"
   ]
  },
  {
   "cell_type": "markdown",
   "id": "315dbd00",
   "metadata": {},
   "source": [
    "### Chat Adapter with system_turn=False, multi_turn=True, strict_turn=True"
   ]
  },
  {
   "cell_type": "code",
   "execution_count": 16,
   "id": "fe1c8fd6",
   "metadata": {
    "scrolled": true
   },
   "outputs": [
    {
     "name": "stdout",
     "output_type": "stream",
     "text": [
      "------\n",
      "parts\n",
      "instructions:\n",
      "Answer questions with short factoid answers.\n",
      "guidelines:\n",
      "Follow the following format.\n",
      "\n",
      "Question: ${the question to be answered}\n",
      "Answer: ${a short factoid answer, often between 1 and 5 words}\n",
      "rdemos:\n",
      "['Question: Which award did the first book of Gary Zukav receive?\\nAnswer: U.S. National Book Award']\n",
      "ademos:\n",
      "[]\n",
      "query:\n",
      "Question: Who has a broader scope of profession: E. L. Doctorow or Julia Peterkin?\n",
      "Answer: \n",
      "long_query:\n",
      "False\n",
      "------\n",
      "prompt\n",
      "model:\n",
      "gpt-3.5-turbo\n",
      "messages:\n",
      "{'role': 'user', 'content': 'Answer questions with short factoid answers.'}\n",
      "{'role': 'assistant', 'content': 'Got it.'}\n",
      "{'role': 'user', 'content': 'Follow the following format.\\n\\nQuestion: ${the question to be answered}\\nAnswer: ${a short factoid answer, often between 1 and 5 words}'}\n",
      "{'role': 'assistant', 'content': 'Got it.'}\n",
      "{'role': 'user', 'content': 'Question: Which award did the first book of Gary Zukav receive?\\nAnswer: U.S. National Book Award'}\n",
      "{'role': 'assistant', 'content': 'Got it.'}\n",
      "{'role': 'user', 'content': 'Question: Who has a broader scope of profession: E. L. Doctorow or Julia Peterkin?\\nAnswer:'}\n"
     ]
    }
   ],
   "source": [
    "dsp.settings.configure(lm=turbo, rm=rm)\n",
    "\n",
    "example = dsp.Example(question=question, demos=demos)\n",
    "parts = qa_template(example)\n",
    "prompt = chat_adapter(parts, system_turn=False, multi_turn=True, strict_turn=True)\n",
    "\n",
    "print(\"------\")\n",
    "print(\"parts\")\n",
    "for k, v in parts.items():\n",
    "    print(k+\":\")\n",
    "    print(v)\n",
    "\n",
    "print(\"------\")\n",
    "print(\"prompt\")\n",
    "for k, v in prompt.items():\n",
    "    print(k+\":\")\n",
    "    if k==\"messages\":\n",
    "        for turn in v:\n",
    "            print(turn)\n",
    "    else:\n",
    "        print(v)"
   ]
  },
  {
   "cell_type": "code",
   "execution_count": null,
   "id": "9a4214c0",
   "metadata": {},
   "outputs": [],
   "source": [
    "retrieve_then_read_QA(dev[0].question), lm.inspect_history(n=1)"
   ]
  },
  {
   "cell_type": "code",
   "execution_count": null,
   "id": "9f8aa4a8",
   "metadata": {
    "scrolled": true
   },
   "outputs": [],
   "source": [
    "evaluate(retrieve_then_read_QA, dev)"
   ]
  },
  {
   "cell_type": "markdown",
   "id": "dbcc3541",
   "metadata": {},
   "source": [
    "### Chat Adapter with system_turn=False, multi_turn=True, strict_turn=False"
   ]
  },
  {
   "cell_type": "code",
   "execution_count": 18,
   "id": "ad284996",
   "metadata": {
    "scrolled": true
   },
   "outputs": [
    {
     "name": "stdout",
     "output_type": "stream",
     "text": [
      "------\n",
      "parts\n",
      "instructions:\n",
      "Answer questions with short factoid answers.\n",
      "guidelines:\n",
      "Follow the following format.\n",
      "\n",
      "Question: ${the question to be answered}\n",
      "Answer: ${a short factoid answer, often between 1 and 5 words}\n",
      "rdemos:\n",
      "['Question: Which award did the first book of Gary Zukav receive?\\nAnswer: U.S. National Book Award']\n",
      "ademos:\n",
      "[]\n",
      "query:\n",
      "Question: Who has a broader scope of profession: E. L. Doctorow or Julia Peterkin?\n",
      "Answer: \n",
      "long_query:\n",
      "False\n",
      "------\n",
      "prompt\n",
      "model:\n",
      "gpt-3.5-turbo\n",
      "messages:\n",
      "{'role': 'user', 'content': 'Answer questions with short factoid answers.'}\n",
      "{'role': 'user', 'content': 'Follow the following format.\\n\\nQuestion: ${the question to be answered}\\nAnswer: ${a short factoid answer, often between 1 and 5 words}'}\n",
      "{'role': 'user', 'content': 'Question: Which award did the first book of Gary Zukav receive?\\nAnswer: U.S. National Book Award'}\n",
      "{'role': 'user', 'content': 'Question: Who has a broader scope of profession: E. L. Doctorow or Julia Peterkin?\\nAnswer:'}\n"
     ]
    }
   ],
   "source": [
    "dsp.settings.configure(lm=turbo, rm=rm)\n",
    "\n",
    "example = dsp.Example(question=question, demos=demos)\n",
    "parts = qa_template(example)\n",
    "prompt = chat_adapter(parts, system_turn=False, multi_turn=True, strict_turn=False)\n",
    "\n",
    "print(\"------\")\n",
    "print(\"parts\")\n",
    "for k, v in parts.items():\n",
    "    print(k+\":\")\n",
    "    print(v)\n",
    "\n",
    "print(\"------\")\n",
    "print(\"prompt\")\n",
    "for k, v in prompt.items():\n",
    "    print(k+\":\")\n",
    "    if k==\"messages\":\n",
    "        for turn in v:\n",
    "            print(turn)\n",
    "    else:\n",
    "        print(v)"
   ]
  },
  {
   "cell_type": "code",
   "execution_count": null,
   "id": "7f2343c0",
   "metadata": {},
   "outputs": [],
   "source": [
    "retrieve_then_read_QA(dev[0].question), lm.inspect_history(n=1)"
   ]
  },
  {
   "cell_type": "code",
   "execution_count": null,
   "id": "944d202f",
   "metadata": {
    "scrolled": true
   },
   "outputs": [],
   "source": [
    "evaluate(retrieve_then_read_QA, dev)"
   ]
  },
  {
   "cell_type": "markdown",
   "id": "ee68cde8",
   "metadata": {},
   "source": [
    "### Chat Adapter with system_turn=False, multi_turn=False, strict_turn=True"
   ]
  },
  {
   "cell_type": "code",
   "execution_count": 19,
   "id": "b613f0ef",
   "metadata": {
    "scrolled": true
   },
   "outputs": [
    {
     "name": "stdout",
     "output_type": "stream",
     "text": [
      "------\n",
      "parts\n",
      "instructions:\n",
      "Answer questions with short factoid answers.\n",
      "guidelines:\n",
      "Follow the following format.\n",
      "\n",
      "Question: ${the question to be answered}\n",
      "Answer: ${a short factoid answer, often between 1 and 5 words}\n",
      "rdemos:\n",
      "['Question: Which award did the first book of Gary Zukav receive?\\nAnswer: U.S. National Book Award']\n",
      "ademos:\n",
      "[]\n",
      "query:\n",
      "Question: Who has a broader scope of profession: E. L. Doctorow or Julia Peterkin?\n",
      "Answer: \n",
      "long_query:\n",
      "False\n",
      "------\n",
      "prompt\n",
      "model:\n",
      "gpt-3.5-turbo\n",
      "messages:\n",
      "{'role': 'user', 'content': 'Answer questions with short factoid answers.\\n\\n---\\n\\nFollow the following format.\\n\\nQuestion: ${the question to be answered}\\nAnswer: ${a short factoid answer, often between 1 and 5 words}\\n\\n---\\n\\nQuestion: Which award did the first book of Gary Zukav receive?\\nAnswer: U.S. National Book Award\\n\\nQuestion: Who has a broader scope of profession: E. L. Doctorow or Julia Peterkin?\\nAnswer:'}\n"
     ]
    }
   ],
   "source": [
    "dsp.settings.configure(lm=turbo, rm=rm)\n",
    "\n",
    "example = dsp.Example(question=question, demos=demos)\n",
    "parts = qa_template(example)\n",
    "prompt = chat_adapter(parts, system_turn=False, multi_turn=False, strict_turn=True)\n",
    "\n",
    "print(\"------\")\n",
    "print(\"parts\")\n",
    "for k, v in parts.items():\n",
    "    print(k+\":\")\n",
    "    print(v)\n",
    "\n",
    "print(\"------\")\n",
    "print(\"prompt\")\n",
    "for k, v in prompt.items():\n",
    "    print(k+\":\")\n",
    "    if k==\"messages\":\n",
    "        for turn in v:\n",
    "            print(turn)\n",
    "    else:\n",
    "        print(v)"
   ]
  },
  {
   "cell_type": "code",
   "execution_count": null,
   "id": "29bb0e35",
   "metadata": {},
   "outputs": [],
   "source": [
    "retrieve_then_read_QA(dev[0].question), lm.inspect_history(n=1)"
   ]
  },
  {
   "cell_type": "code",
   "execution_count": null,
   "id": "9901dab1",
   "metadata": {
    "scrolled": true
   },
   "outputs": [],
   "source": [
    "evaluate(retrieve_then_read_QA, dev)"
   ]
  },
  {
   "cell_type": "markdown",
   "id": "c4e7fdf1",
   "metadata": {},
   "source": [
    "### Chat Adapter with system_turn=False, multi_turn=False, strict_turn=False"
   ]
  },
  {
   "cell_type": "code",
   "execution_count": 20,
   "id": "32667aaa",
   "metadata": {
    "scrolled": true
   },
   "outputs": [
    {
     "name": "stdout",
     "output_type": "stream",
     "text": [
      "------\n",
      "parts\n",
      "instructions:\n",
      "Answer questions with short factoid answers.\n",
      "guidelines:\n",
      "Follow the following format.\n",
      "\n",
      "Question: ${the question to be answered}\n",
      "Answer: ${a short factoid answer, often between 1 and 5 words}\n",
      "rdemos:\n",
      "['Question: Which award did the first book of Gary Zukav receive?\\nAnswer: U.S. National Book Award']\n",
      "ademos:\n",
      "[]\n",
      "query:\n",
      "Question: Who has a broader scope of profession: E. L. Doctorow or Julia Peterkin?\n",
      "Answer: \n",
      "long_query:\n",
      "False\n",
      "------\n",
      "prompt\n",
      "model:\n",
      "gpt-3.5-turbo\n",
      "messages:\n",
      "{'role': 'user', 'content': 'Answer questions with short factoid answers.\\n\\n---\\n\\nFollow the following format.\\n\\nQuestion: ${the question to be answered}\\nAnswer: ${a short factoid answer, often between 1 and 5 words}\\n\\n---\\n\\nQuestion: Which award did the first book of Gary Zukav receive?\\nAnswer: U.S. National Book Award\\n\\nQuestion: Who has a broader scope of profession: E. L. Doctorow or Julia Peterkin?\\nAnswer:'}\n"
     ]
    }
   ],
   "source": [
    "dsp.settings.configure(lm=turbo, rm=rm)\n",
    "\n",
    "example = dsp.Example(question=question, demos=demos)\n",
    "parts = qa_template(example)\n",
    "prompt = chat_adapter(parts, system_turn=False, multi_turn=False, strict_turn=False)\n",
    "\n",
    "print(\"------\")\n",
    "print(\"parts\")\n",
    "for k, v in parts.items():\n",
    "    print(k+\":\")\n",
    "    print(v)\n",
    "\n",
    "print(\"------\")\n",
    "print(\"prompt\")\n",
    "for k, v in prompt.items():\n",
    "    print(k+\":\")\n",
    "    if k==\"messages\":\n",
    "        for turn in v:\n",
    "            print(turn)\n",
    "    else:\n",
    "        print(v)"
   ]
  },
  {
   "cell_type": "code",
   "execution_count": null,
   "id": "5a9f2d3c",
   "metadata": {},
   "outputs": [],
   "source": [
    "retrieve_then_read_QA(dev[0].question), lm.inspect_history(n=1)"
   ]
  },
  {
   "cell_type": "code",
   "execution_count": null,
   "id": "a30eaed3",
   "metadata": {
    "scrolled": true
   },
   "outputs": [],
   "source": [
    "evaluate(retrieve_then_read_QA, dev)"
   ]
  },
  {
   "cell_type": "markdown",
   "id": "864d5604",
   "metadata": {},
   "source": [
    "## Testing Chat Adapter Flags with no demos"
   ]
  },
  {
   "cell_type": "markdown",
   "id": "49a1d95c",
   "metadata": {},
   "source": [
    "### Chat Adapter with system_turn=True, multi_turn=True, strict_turn=True"
   ]
  },
  {
   "cell_type": "code",
   "execution_count": 23,
   "id": "a741c64d",
   "metadata": {
    "scrolled": true
   },
   "outputs": [
    {
     "name": "stdout",
     "output_type": "stream",
     "text": [
      "------\n",
      "parts\n",
      "instructions:\n",
      "Answer questions with short factoid answers.\n",
      "guidelines:\n",
      "Follow the following format.\n",
      "\n",
      "Question: ${the question to be answered}\n",
      "Answer: ${a short factoid answer, often between 1 and 5 words}\n",
      "rdemos:\n",
      "[]\n",
      "ademos:\n",
      "[]\n",
      "query:\n",
      "Question: Who has a broader scope of profession: E. L. Doctorow or Julia Peterkin?\n",
      "Answer: \n",
      "long_query:\n",
      "False\n",
      "------\n",
      "prompt\n",
      "model:\n",
      "gpt-3.5-turbo\n",
      "messages:\n",
      "{'role': 'system', 'content': 'Answer questions with short factoid answers.'}\n",
      "{'role': 'user', 'content': 'Follow the following format.\\n\\nQuestion: ${the question to be answered}\\nAnswer: ${a short factoid answer, often between 1 and 5 words}'}\n",
      "{'role': 'assistant', 'content': 'Got it.'}\n",
      "{'role': 'user', 'content': 'Question: Who has a broader scope of profession: E. L. Doctorow or Julia Peterkin?\\nAnswer:'}\n"
     ]
    }
   ],
   "source": [
    "dsp.settings.configure(lm=turbo, rm=rm)\n",
    "\n",
    "example = dsp.Example(question=question)\n",
    "parts = qa_template(example)\n",
    "prompt = chat_adapter(parts, system_turn=True, multi_turn=True, strict_turn=True)\n",
    "\n",
    "print(\"------\")\n",
    "print(\"parts\")\n",
    "for k, v in parts.items():\n",
    "    print(k+\":\")\n",
    "    print(v)\n",
    "\n",
    "print(\"------\")\n",
    "print(\"prompt\")\n",
    "for k, v in prompt.items():\n",
    "    print(k+\":\")\n",
    "    if k==\"messages\":\n",
    "        for turn in v:\n",
    "            print(turn)\n",
    "    else:\n",
    "        print(v)"
   ]
  },
  {
   "cell_type": "code",
   "execution_count": null,
   "id": "17ac0be1",
   "metadata": {},
   "outputs": [],
   "source": [
    "retrieve_then_read_QA(dev[0].question), lm.inspect_history(n=1)"
   ]
  },
  {
   "cell_type": "code",
   "execution_count": null,
   "id": "9e53ecbe",
   "metadata": {
    "scrolled": true
   },
   "outputs": [],
   "source": [
    "evaluate(retrieve_then_read_QA, dev)"
   ]
  },
  {
   "cell_type": "markdown",
   "id": "2c6d89a4",
   "metadata": {},
   "source": [
    "### Chat Adapter with system_turn=True, multi_turn=True, strict_turn=False"
   ]
  },
  {
   "cell_type": "code",
   "execution_count": 24,
   "id": "dd3963ec",
   "metadata": {
    "scrolled": true
   },
   "outputs": [
    {
     "name": "stdout",
     "output_type": "stream",
     "text": [
      "------\n",
      "parts\n",
      "instructions:\n",
      "Answer questions with short factoid answers.\n",
      "guidelines:\n",
      "Follow the following format.\n",
      "\n",
      "Question: ${the question to be answered}\n",
      "Answer: ${a short factoid answer, often between 1 and 5 words}\n",
      "rdemos:\n",
      "[]\n",
      "ademos:\n",
      "[]\n",
      "query:\n",
      "Question: Who has a broader scope of profession: E. L. Doctorow or Julia Peterkin?\n",
      "Answer: \n",
      "long_query:\n",
      "False\n",
      "------\n",
      "prompt\n",
      "model:\n",
      "gpt-3.5-turbo\n",
      "messages:\n",
      "{'role': 'system', 'content': 'Answer questions with short factoid answers.'}\n",
      "{'role': 'user', 'content': 'Follow the following format.\\n\\nQuestion: ${the question to be answered}\\nAnswer: ${a short factoid answer, often between 1 and 5 words}'}\n",
      "{'role': 'user', 'content': 'Question: Who has a broader scope of profession: E. L. Doctorow or Julia Peterkin?\\nAnswer:'}\n"
     ]
    }
   ],
   "source": [
    "dsp.settings.configure(lm=turbo, rm=rm)\n",
    "\n",
    "example = dsp.Example(question=question)\n",
    "parts = qa_template(example)\n",
    "prompt = chat_adapter(parts, system_turn=True, multi_turn=True, strict_turn=False)\n",
    "\n",
    "print(\"------\")\n",
    "print(\"parts\")\n",
    "for k, v in parts.items():\n",
    "    print(k+\":\")\n",
    "    print(v)\n",
    "\n",
    "print(\"------\")\n",
    "print(\"prompt\")\n",
    "for k, v in prompt.items():\n",
    "    print(k+\":\")\n",
    "    if k==\"messages\":\n",
    "        for turn in v:\n",
    "            print(turn)\n",
    "    else:\n",
    "        print(v)"
   ]
  },
  {
   "cell_type": "code",
   "execution_count": null,
   "id": "7254ddda",
   "metadata": {},
   "outputs": [],
   "source": [
    "retrieve_then_read_QA(dev[0].question), lm.inspect_history(n=1)"
   ]
  },
  {
   "cell_type": "code",
   "execution_count": null,
   "id": "62100096",
   "metadata": {
    "scrolled": true
   },
   "outputs": [],
   "source": [
    "evaluate(retrieve_then_read_QA, dev)"
   ]
  },
  {
   "cell_type": "markdown",
   "id": "8b3109b4",
   "metadata": {},
   "source": [
    "### Chat Adapter with system_turn=True, multi_turn=False, strict_turn=True"
   ]
  },
  {
   "cell_type": "code",
   "execution_count": 25,
   "id": "5763319a",
   "metadata": {
    "scrolled": true
   },
   "outputs": [
    {
     "name": "stdout",
     "output_type": "stream",
     "text": [
      "------\n",
      "parts\n",
      "instructions:\n",
      "Answer questions with short factoid answers.\n",
      "guidelines:\n",
      "Follow the following format.\n",
      "\n",
      "Question: ${the question to be answered}\n",
      "Answer: ${a short factoid answer, often between 1 and 5 words}\n",
      "rdemos:\n",
      "[]\n",
      "ademos:\n",
      "[]\n",
      "query:\n",
      "Question: Who has a broader scope of profession: E. L. Doctorow or Julia Peterkin?\n",
      "Answer: \n",
      "long_query:\n",
      "False\n",
      "------\n",
      "prompt\n",
      "model:\n",
      "gpt-3.5-turbo\n",
      "messages:\n",
      "{'role': 'system', 'content': 'Answer questions with short factoid answers.'}\n",
      "{'role': 'user', 'content': 'Follow the following format.\\n\\nQuestion: ${the question to be answered}\\nAnswer: ${a short factoid answer, often between 1 and 5 words}\\n\\n---\\n\\nQuestion: Who has a broader scope of profession: E. L. Doctorow or Julia Peterkin?\\nAnswer:'}\n"
     ]
    }
   ],
   "source": [
    "dsp.settings.configure(lm=turbo, rm=rm)\n",
    "\n",
    "example = dsp.Example(question=question)\n",
    "parts = qa_template(example)\n",
    "prompt = chat_adapter(parts, system_turn=True, multi_turn=False, strict_turn=True)\n",
    "\n",
    "print(\"------\")\n",
    "print(\"parts\")\n",
    "for k, v in parts.items():\n",
    "    print(k+\":\")\n",
    "    print(v)\n",
    "\n",
    "print(\"------\")\n",
    "print(\"prompt\")\n",
    "for k, v in prompt.items():\n",
    "    print(k+\":\")\n",
    "    if k==\"messages\":\n",
    "        for turn in v:\n",
    "            print(turn)\n",
    "    else:\n",
    "        print(v)"
   ]
  },
  {
   "cell_type": "code",
   "execution_count": null,
   "id": "0056a0dc",
   "metadata": {},
   "outputs": [],
   "source": [
    "retrieve_then_read_QA(dev[0].question), lm.inspect_history(n=1)"
   ]
  },
  {
   "cell_type": "code",
   "execution_count": null,
   "id": "97c1b69e",
   "metadata": {
    "scrolled": true
   },
   "outputs": [],
   "source": [
    "evaluate(retrieve_then_read_QA, dev)"
   ]
  },
  {
   "cell_type": "markdown",
   "id": "08dcb586",
   "metadata": {},
   "source": [
    "### Chat Adapter with system_turn=True, multi_turn=False, strict_turn=False"
   ]
  },
  {
   "cell_type": "code",
   "execution_count": 26,
   "id": "d7bf59f6",
   "metadata": {
    "scrolled": true
   },
   "outputs": [
    {
     "name": "stdout",
     "output_type": "stream",
     "text": [
      "------\n",
      "parts\n",
      "instructions:\n",
      "Answer questions with short factoid answers.\n",
      "guidelines:\n",
      "Follow the following format.\n",
      "\n",
      "Question: ${the question to be answered}\n",
      "Answer: ${a short factoid answer, often between 1 and 5 words}\n",
      "rdemos:\n",
      "[]\n",
      "ademos:\n",
      "[]\n",
      "query:\n",
      "Question: Who has a broader scope of profession: E. L. Doctorow or Julia Peterkin?\n",
      "Answer: \n",
      "long_query:\n",
      "False\n",
      "------\n",
      "prompt\n",
      "model:\n",
      "gpt-3.5-turbo\n",
      "messages:\n",
      "{'role': 'system', 'content': 'Answer questions with short factoid answers.'}\n",
      "{'role': 'user', 'content': 'Follow the following format.\\n\\nQuestion: ${the question to be answered}\\nAnswer: ${a short factoid answer, often between 1 and 5 words}\\n\\n---\\n\\nQuestion: Who has a broader scope of profession: E. L. Doctorow or Julia Peterkin?\\nAnswer:'}\n"
     ]
    }
   ],
   "source": [
    "dsp.settings.configure(lm=turbo, rm=rm)\n",
    "\n",
    "example = dsp.Example(question=question)\n",
    "parts = qa_template(example)\n",
    "prompt = chat_adapter(parts, system_turn=True, multi_turn=False, strict_turn=False)\n",
    "\n",
    "print(\"------\")\n",
    "print(\"parts\")\n",
    "for k, v in parts.items():\n",
    "    print(k+\":\")\n",
    "    print(v)\n",
    "\n",
    "print(\"------\")\n",
    "print(\"prompt\")\n",
    "for k, v in prompt.items():\n",
    "    print(k+\":\")\n",
    "    if k==\"messages\":\n",
    "        for turn in v:\n",
    "            print(turn)\n",
    "    else:\n",
    "        print(v)"
   ]
  },
  {
   "cell_type": "code",
   "execution_count": null,
   "id": "e0dc30bf",
   "metadata": {},
   "outputs": [],
   "source": [
    "retrieve_then_read_QA(dev[0].question), lm.inspect_history(n=1)"
   ]
  },
  {
   "cell_type": "code",
   "execution_count": null,
   "id": "75687fe4",
   "metadata": {
    "scrolled": true
   },
   "outputs": [],
   "source": [
    "evaluate(retrieve_then_read_QA, dev)"
   ]
  },
  {
   "cell_type": "markdown",
   "id": "9de49b1d",
   "metadata": {},
   "source": [
    "### Chat Adapter with system_turn=False, multi_turn=True, strict_turn=True"
   ]
  },
  {
   "cell_type": "code",
   "execution_count": 27,
   "id": "0771b5a4",
   "metadata": {
    "scrolled": true
   },
   "outputs": [
    {
     "name": "stdout",
     "output_type": "stream",
     "text": [
      "------\n",
      "parts\n",
      "instructions:\n",
      "Answer questions with short factoid answers.\n",
      "guidelines:\n",
      "Follow the following format.\n",
      "\n",
      "Question: ${the question to be answered}\n",
      "Answer: ${a short factoid answer, often between 1 and 5 words}\n",
      "rdemos:\n",
      "[]\n",
      "ademos:\n",
      "[]\n",
      "query:\n",
      "Question: Who has a broader scope of profession: E. L. Doctorow or Julia Peterkin?\n",
      "Answer: \n",
      "long_query:\n",
      "False\n",
      "------\n",
      "prompt\n",
      "model:\n",
      "gpt-3.5-turbo\n",
      "messages:\n",
      "{'role': 'user', 'content': 'Answer questions with short factoid answers.'}\n",
      "{'role': 'assistant', 'content': 'Got it.'}\n",
      "{'role': 'user', 'content': 'Follow the following format.\\n\\nQuestion: ${the question to be answered}\\nAnswer: ${a short factoid answer, often between 1 and 5 words}'}\n",
      "{'role': 'assistant', 'content': 'Got it.'}\n",
      "{'role': 'user', 'content': 'Question: Who has a broader scope of profession: E. L. Doctorow or Julia Peterkin?\\nAnswer:'}\n"
     ]
    }
   ],
   "source": [
    "dsp.settings.configure(lm=turbo, rm=rm)\n",
    "\n",
    "example = dsp.Example(question=question)\n",
    "parts = qa_template(example)\n",
    "prompt = chat_adapter(parts, system_turn=False, multi_turn=True, strict_turn=True)\n",
    "\n",
    "print(\"------\")\n",
    "print(\"parts\")\n",
    "for k, v in parts.items():\n",
    "    print(k+\":\")\n",
    "    print(v)\n",
    "\n",
    "print(\"------\")\n",
    "print(\"prompt\")\n",
    "for k, v in prompt.items():\n",
    "    print(k+\":\")\n",
    "    if k==\"messages\":\n",
    "        for turn in v:\n",
    "            print(turn)\n",
    "    else:\n",
    "        print(v)"
   ]
  },
  {
   "cell_type": "code",
   "execution_count": null,
   "id": "e03fb5e0",
   "metadata": {},
   "outputs": [],
   "source": [
    "retrieve_then_read_QA(dev[0].question), lm.inspect_history(n=1)"
   ]
  },
  {
   "cell_type": "code",
   "execution_count": null,
   "id": "5677fe98",
   "metadata": {
    "scrolled": true
   },
   "outputs": [],
   "source": [
    "evaluate(retrieve_then_read_QA, dev)"
   ]
  },
  {
   "cell_type": "markdown",
   "id": "04f4ade4",
   "metadata": {},
   "source": [
    "### Chat Adapter with system_turn=False, multi_turn=True, strict_turn=False"
   ]
  },
  {
   "cell_type": "code",
   "execution_count": 28,
   "id": "9eda83ea",
   "metadata": {
    "scrolled": true
   },
   "outputs": [
    {
     "name": "stdout",
     "output_type": "stream",
     "text": [
      "------\n",
      "parts\n",
      "instructions:\n",
      "Answer questions with short factoid answers.\n",
      "guidelines:\n",
      "Follow the following format.\n",
      "\n",
      "Question: ${the question to be answered}\n",
      "Answer: ${a short factoid answer, often between 1 and 5 words}\n",
      "rdemos:\n",
      "[]\n",
      "ademos:\n",
      "[]\n",
      "query:\n",
      "Question: Who has a broader scope of profession: E. L. Doctorow or Julia Peterkin?\n",
      "Answer: \n",
      "long_query:\n",
      "False\n",
      "------\n",
      "prompt\n",
      "model:\n",
      "gpt-3.5-turbo\n",
      "messages:\n",
      "{'role': 'user', 'content': 'Answer questions with short factoid answers.'}\n",
      "{'role': 'user', 'content': 'Follow the following format.\\n\\nQuestion: ${the question to be answered}\\nAnswer: ${a short factoid answer, often between 1 and 5 words}'}\n",
      "{'role': 'user', 'content': 'Question: Who has a broader scope of profession: E. L. Doctorow or Julia Peterkin?\\nAnswer:'}\n"
     ]
    }
   ],
   "source": [
    "dsp.settings.configure(lm=turbo, rm=rm)\n",
    "\n",
    "example = dsp.Example(question=question)\n",
    "parts = qa_template(example)\n",
    "prompt = chat_adapter(parts, system_turn=False, multi_turn=True, strict_turn=False)\n",
    "\n",
    "print(\"------\")\n",
    "print(\"parts\")\n",
    "for k, v in parts.items():\n",
    "    print(k+\":\")\n",
    "    print(v)\n",
    "\n",
    "print(\"------\")\n",
    "print(\"prompt\")\n",
    "for k, v in prompt.items():\n",
    "    print(k+\":\")\n",
    "    if k==\"messages\":\n",
    "        for turn in v:\n",
    "            print(turn)\n",
    "    else:\n",
    "        print(v)"
   ]
  },
  {
   "cell_type": "code",
   "execution_count": null,
   "id": "08c2e938",
   "metadata": {},
   "outputs": [],
   "source": [
    "retrieve_then_read_QA(dev[0].question), lm.inspect_history(n=1)"
   ]
  },
  {
   "cell_type": "code",
   "execution_count": null,
   "id": "c1233448",
   "metadata": {
    "scrolled": true
   },
   "outputs": [],
   "source": [
    "evaluate(retrieve_then_read_QA, dev)"
   ]
  },
  {
   "cell_type": "markdown",
   "id": "dbb36943",
   "metadata": {},
   "source": [
    "### Chat Adapter with system_turn=False, multi_turn=False, strict_turn=True"
   ]
  },
  {
   "cell_type": "code",
   "execution_count": 29,
   "id": "1fa1a464",
   "metadata": {
    "scrolled": true
   },
   "outputs": [
    {
     "name": "stdout",
     "output_type": "stream",
     "text": [
      "------\n",
      "parts\n",
      "instructions:\n",
      "Answer questions with short factoid answers.\n",
      "guidelines:\n",
      "Follow the following format.\n",
      "\n",
      "Question: ${the question to be answered}\n",
      "Answer: ${a short factoid answer, often between 1 and 5 words}\n",
      "rdemos:\n",
      "['Question: Which award did the first book of Gary Zukav receive?\\nAnswer: U.S. National Book Award']\n",
      "ademos:\n",
      "[]\n",
      "query:\n",
      "Question: Who has a broader scope of profession: E. L. Doctorow or Julia Peterkin?\n",
      "Answer: \n",
      "long_query:\n",
      "False\n",
      "------\n",
      "prompt\n",
      "model:\n",
      "gpt-3.5-turbo\n",
      "messages:\n",
      "{'role': 'user', 'content': 'Answer questions with short factoid answers.\\n\\n---\\n\\nFollow the following format.\\n\\nQuestion: ${the question to be answered}\\nAnswer: ${a short factoid answer, often between 1 and 5 words}\\n\\n---\\n\\nQuestion: Which award did the first book of Gary Zukav receive?\\nAnswer: U.S. National Book Award\\n\\nQuestion: Who has a broader scope of profession: E. L. Doctorow or Julia Peterkin?\\nAnswer:'}\n"
     ]
    }
   ],
   "source": [
    "dsp.settings.configure(lm=turbo, rm=rm)\n",
    "\n",
    "example = dsp.Example(question=question, demos=demos)\n",
    "parts = qa_template(example)\n",
    "prompt = chat_adapter(parts, system_turn=False, multi_turn=False, strict_turn=True)\n",
    "\n",
    "print(\"------\")\n",
    "print(\"parts\")\n",
    "for k, v in parts.items():\n",
    "    print(k+\":\")\n",
    "    print(v)\n",
    "\n",
    "print(\"------\")\n",
    "print(\"prompt\")\n",
    "for k, v in prompt.items():\n",
    "    print(k+\":\")\n",
    "    if k==\"messages\":\n",
    "        for turn in v:\n",
    "            print(turn)\n",
    "    else:\n",
    "        print(v)"
   ]
  },
  {
   "cell_type": "code",
   "execution_count": null,
   "id": "ae3ec8a6",
   "metadata": {},
   "outputs": [],
   "source": [
    "retrieve_then_read_QA(dev[0].question), lm.inspect_history(n=1)"
   ]
  },
  {
   "cell_type": "code",
   "execution_count": null,
   "id": "deaf238d",
   "metadata": {
    "scrolled": true
   },
   "outputs": [],
   "source": [
    "evaluate(retrieve_then_read_QA, dev)"
   ]
  },
  {
   "cell_type": "markdown",
   "id": "e1ff4260",
   "metadata": {},
   "source": [
    "### Chat Adapter with system_turn=False, multi_turn=False, strict_turn=False"
   ]
  },
  {
   "cell_type": "code",
   "execution_count": 30,
   "id": "4538c64e",
   "metadata": {
    "scrolled": true
   },
   "outputs": [
    {
     "name": "stdout",
     "output_type": "stream",
     "text": [
      "------\n",
      "parts\n",
      "instructions:\n",
      "Answer questions with short factoid answers.\n",
      "guidelines:\n",
      "Follow the following format.\n",
      "\n",
      "Question: ${the question to be answered}\n",
      "Answer: ${a short factoid answer, often between 1 and 5 words}\n",
      "rdemos:\n",
      "['Question: Which award did the first book of Gary Zukav receive?\\nAnswer: U.S. National Book Award']\n",
      "ademos:\n",
      "[]\n",
      "query:\n",
      "Question: Who has a broader scope of profession: E. L. Doctorow or Julia Peterkin?\n",
      "Answer: \n",
      "long_query:\n",
      "False\n",
      "------\n",
      "prompt\n",
      "model:\n",
      "gpt-3.5-turbo\n",
      "messages:\n",
      "{'role': 'user', 'content': 'Answer questions with short factoid answers.\\n\\n---\\n\\nFollow the following format.\\n\\nQuestion: ${the question to be answered}\\nAnswer: ${a short factoid answer, often between 1 and 5 words}\\n\\n---\\n\\nQuestion: Which award did the first book of Gary Zukav receive?\\nAnswer: U.S. National Book Award\\n\\nQuestion: Who has a broader scope of profession: E. L. Doctorow or Julia Peterkin?\\nAnswer:'}\n"
     ]
    }
   ],
   "source": [
    "dsp.settings.configure(lm=turbo, rm=rm)\n",
    "\n",
    "example = dsp.Example(question=question, demos=demos)\n",
    "parts = qa_template(example)\n",
    "prompt = chat_adapter(parts, system_turn=False, multi_turn=False, strict_turn=False)\n",
    "\n",
    "print(\"------\")\n",
    "print(\"parts\")\n",
    "for k, v in parts.items():\n",
    "    print(k+\":\")\n",
    "    print(v)\n",
    "\n",
    "print(\"------\")\n",
    "print(\"prompt\")\n",
    "for k, v in prompt.items():\n",
    "    print(k+\":\")\n",
    "    if k==\"messages\":\n",
    "        for turn in v:\n",
    "            print(turn)\n",
    "    else:\n",
    "        print(v)"
   ]
  },
  {
   "cell_type": "code",
   "execution_count": null,
   "id": "68f724b6",
   "metadata": {},
   "outputs": [],
   "source": [
    "retrieve_then_read_QA(dev[0].question), lm.inspect_history(n=1)"
   ]
  },
  {
   "cell_type": "code",
   "execution_count": null,
   "id": "6047be17",
   "metadata": {
    "scrolled": true
   },
   "outputs": [],
   "source": [
    "evaluate(retrieve_then_read_QA, dev)"
   ]
  },
  {
   "cell_type": "markdown",
   "id": "0ed7b6ce",
   "metadata": {},
   "source": [
    "# Program 3: Retrieve-then-Read w/ Self-Consistency"
   ]
  },
  {
   "cell_type": "code",
   "execution_count": 9,
   "id": "72a0132d",
   "metadata": {},
   "outputs": [],
   "source": [
    "Rationale = dsp.Type(\n",
    "    prefix=\"Rationale: Let's think step by step.\",\n",
    "    desc=\"${a step-by-step deduction that identifies the correct response, which will be provided below}\"\n",
    ")\n",
    "\n",
    "qa_template_with_CoT = dsp.Template(\n",
    "    instructions=qa_template.instructions,\n",
    "    context=Context(), question=Question(), rationale=Rationale(), answer=Answer()\n",
    ")\n",
    "\n",
    "passages = dsp.retrieve(question, k=5)"
   ]
  },
  {
   "cell_type": "code",
   "execution_count": null,
   "id": "6339ed99",
   "metadata": {},
   "outputs": [],
   "source": [
    "from dsp.evaluation.utils import evaluate\n",
    "\n",
    "@dsp.transformation\n",
    "def QA_predict(e: dsp.Example, sc=True):\n",
    "    if sc:\n",
    "        e, completions = dsp.generate(qa_template_with_CoT, n=20, temperature=0.7)(example, stage='qa')\n",
    "        completions = dsp.majority(completions)\n",
    "    else:\n",
    "        e, completions = dsp.generate(qa_template_with_CoT)(example, stage='qa')\n",
    "    \n",
    "    return e.copy(answer=completions.answer)\n",
    "\n",
    "def retrieve_then_read_QA_v2(question: str) -> str:\n",
    "    e = dsp.Example(question=question, context=passages, demos=training_demos)\n",
    "    \n",
    "    return QA_predict(e).answer"
   ]
  },
  {
   "cell_type": "markdown",
   "id": "6e36d9e8",
   "metadata": {},
   "source": [
    "## Testing Chat Adapter Flags with demos"
   ]
  },
  {
   "cell_type": "markdown",
   "id": "c327813d",
   "metadata": {},
   "source": [
    "### Chat Adapter with system_turn=True, multi_turn=True, strict_turn=True"
   ]
  },
  {
   "cell_type": "code",
   "execution_count": 10,
   "id": "ce020c64",
   "metadata": {
    "scrolled": true
   },
   "outputs": [
    {
     "name": "stdout",
     "output_type": "stream",
     "text": [
      "------\n",
      "parts\n",
      "instructions:\n",
      "Answer questions with short factoid answers.\n",
      "guidelines:\n",
      "Follow the following format.\n",
      "\n",
      "Question: ${the question to be answered}\n",
      "Answer: ${a short factoid answer, often between 1 and 5 words}\n",
      "rdemos:\n",
      "['Question: Which award did the first book of Gary Zukav receive?\\nAnswer: U.S. National Book Award']\n",
      "ademos:\n",
      "[]\n",
      "query:\n",
      "Question: Who has a broader scope of profession: E. L. Doctorow or Julia Peterkin?\n",
      "Answer: \n",
      "long_query:\n",
      "False\n",
      "------\n",
      "prompt\n",
      "model:\n",
      "gpt-3.5-turbo\n",
      "messages:\n",
      "{'role': 'system', 'content': 'Answer questions with short factoid answers.'}\n",
      "{'role': 'user', 'content': 'Follow the following format.\\n\\nQuestion: ${the question to be answered}\\nAnswer: ${a short factoid answer, often between 1 and 5 words}'}\n",
      "{'role': 'assistant', 'content': 'Got it.'}\n",
      "{'role': 'user', 'content': 'Question: Which award did the first book of Gary Zukav receive?\\nAnswer: U.S. National Book Award'}\n",
      "{'role': 'assistant', 'content': 'Got it.'}\n",
      "{'role': 'user', 'content': 'Question: Who has a broader scope of profession: E. L. Doctorow or Julia Peterkin?\\nAnswer:'}\n"
     ]
    }
   ],
   "source": [
    "dsp.settings.configure(lm=turbo, rm=rm)\n",
    "\n",
    "example = dsp.Example(question=question, demos=demos)\n",
    "parts = qa_template(example)\n",
    "prompt = chat_adapter(parts, system_turn=True, multi_turn=True, strict_turn=True)\n",
    "\n",
    "print(\"------\")\n",
    "print(\"parts\")\n",
    "for k, v in parts.items():\n",
    "    print(k+\":\")\n",
    "    print(v)\n",
    "\n",
    "print(\"------\")\n",
    "print(\"prompt\")\n",
    "for k, v in prompt.items():\n",
    "    print(k+\":\")\n",
    "    if k==\"messages\":\n",
    "        for turn in v:\n",
    "            print(turn)\n",
    "    else:\n",
    "        print(v)"
   ]
  },
  {
   "cell_type": "code",
   "execution_count": null,
   "id": "1c43996f",
   "metadata": {},
   "outputs": [],
   "source": [
    "retrieve_then_read_QA_v2(dev[0].question), lm.inspect_history(n=1)"
   ]
  },
  {
   "cell_type": "code",
   "execution_count": null,
   "id": "8d360c87",
   "metadata": {
    "scrolled": true
   },
   "outputs": [],
   "source": [
    "evaluate(retrieve_then_read_QA_v2, dev)"
   ]
  },
  {
   "cell_type": "markdown",
   "id": "cec1fb6c",
   "metadata": {},
   "source": [
    "### Chat Adapter with system_turn=True, multi_turn=True, strict_turn=False"
   ]
  },
  {
   "cell_type": "code",
   "execution_count": 12,
   "id": "caea570f",
   "metadata": {
    "scrolled": true
   },
   "outputs": [
    {
     "name": "stdout",
     "output_type": "stream",
     "text": [
      "------\n",
      "parts\n",
      "instructions:\n",
      "Answer questions with short factoid answers.\n",
      "guidelines:\n",
      "Follow the following format.\n",
      "\n",
      "Question: ${the question to be answered}\n",
      "Answer: ${a short factoid answer, often between 1 and 5 words}\n",
      "rdemos:\n",
      "['Question: Which award did the first book of Gary Zukav receive?\\nAnswer: U.S. National Book Award']\n",
      "ademos:\n",
      "[]\n",
      "query:\n",
      "Question: Who has a broader scope of profession: E. L. Doctorow or Julia Peterkin?\n",
      "Answer: \n",
      "long_query:\n",
      "False\n",
      "------\n",
      "prompt\n",
      "model:\n",
      "gpt-3.5-turbo\n",
      "messages:\n",
      "{'role': 'system', 'content': 'Answer questions with short factoid answers.'}\n",
      "{'role': 'user', 'content': 'Follow the following format.\\n\\nQuestion: ${the question to be answered}\\nAnswer: ${a short factoid answer, often between 1 and 5 words}'}\n",
      "{'role': 'user', 'content': 'Question: Which award did the first book of Gary Zukav receive?\\nAnswer: U.S. National Book Award'}\n",
      "{'role': 'user', 'content': 'Question: Who has a broader scope of profession: E. L. Doctorow or Julia Peterkin?\\nAnswer:'}\n"
     ]
    }
   ],
   "source": [
    "dsp.settings.configure(lm=turbo, rm=rm)\n",
    "\n",
    "example = dsp.Example(question=question, demos=demos)\n",
    "parts = qa_template(example)\n",
    "prompt = chat_adapter(parts, system_turn=True, multi_turn=True, strict_turn=False)\n",
    "\n",
    "print(\"------\")\n",
    "print(\"parts\")\n",
    "for k, v in parts.items():\n",
    "    print(k+\":\")\n",
    "    print(v)\n",
    "\n",
    "print(\"------\")\n",
    "print(\"prompt\")\n",
    "for k, v in prompt.items():\n",
    "    print(k+\":\")\n",
    "    if k==\"messages\":\n",
    "        for turn in v:\n",
    "            print(turn)\n",
    "    else:\n",
    "        print(v)"
   ]
  },
  {
   "cell_type": "code",
   "execution_count": null,
   "id": "92a0987a",
   "metadata": {},
   "outputs": [],
   "source": [
    "retrieve_then_read_QA_v2(dev[0].question), lm.inspect_history(n=1)"
   ]
  },
  {
   "cell_type": "code",
   "execution_count": null,
   "id": "90407e9c",
   "metadata": {
    "scrolled": true
   },
   "outputs": [],
   "source": [
    "evaluate(retrieve_then_read_QA_v2, dev)"
   ]
  },
  {
   "cell_type": "markdown",
   "id": "a7067e3f",
   "metadata": {},
   "source": [
    "### Chat Adapter with system_turn=True, multi_turn=False, strict_turn=True"
   ]
  },
  {
   "cell_type": "code",
   "execution_count": 13,
   "id": "e8b128c5",
   "metadata": {
    "scrolled": true
   },
   "outputs": [
    {
     "name": "stdout",
     "output_type": "stream",
     "text": [
      "------\n",
      "parts\n",
      "instructions:\n",
      "Answer questions with short factoid answers.\n",
      "guidelines:\n",
      "Follow the following format.\n",
      "\n",
      "Question: ${the question to be answered}\n",
      "Answer: ${a short factoid answer, often between 1 and 5 words}\n",
      "rdemos:\n",
      "['Question: Which award did the first book of Gary Zukav receive?\\nAnswer: U.S. National Book Award']\n",
      "ademos:\n",
      "[]\n",
      "query:\n",
      "Question: Who has a broader scope of profession: E. L. Doctorow or Julia Peterkin?\n",
      "Answer: \n",
      "long_query:\n",
      "False\n",
      "------\n",
      "prompt\n",
      "model:\n",
      "gpt-3.5-turbo\n",
      "messages:\n",
      "{'role': 'system', 'content': 'Answer questions with short factoid answers.'}\n",
      "{'role': 'user', 'content': 'Follow the following format.\\n\\nQuestion: ${the question to be answered}\\nAnswer: ${a short factoid answer, often between 1 and 5 words}\\n\\n---\\n\\nQuestion: Which award did the first book of Gary Zukav receive?\\nAnswer: U.S. National Book Award\\n\\nQuestion: Who has a broader scope of profession: E. L. Doctorow or Julia Peterkin?\\nAnswer:'}\n"
     ]
    }
   ],
   "source": [
    "dsp.settings.configure(lm=turbo, rm=rm)\n",
    "\n",
    "example = dsp.Example(question=question, demos=demos)\n",
    "parts = qa_template(example)\n",
    "prompt = chat_adapter(parts, system_turn=True, multi_turn=False, strict_turn=True)\n",
    "\n",
    "print(\"------\")\n",
    "print(\"parts\")\n",
    "for k, v in parts.items():\n",
    "    print(k+\":\")\n",
    "    print(v)\n",
    "\n",
    "print(\"------\")\n",
    "print(\"prompt\")\n",
    "for k, v in prompt.items():\n",
    "    print(k+\":\")\n",
    "    if k==\"messages\":\n",
    "        for turn in v:\n",
    "            print(turn)\n",
    "    else:\n",
    "        print(v)"
   ]
  },
  {
   "cell_type": "code",
   "execution_count": null,
   "id": "a57798c3",
   "metadata": {},
   "outputs": [],
   "source": [
    "retrieve_then_read_QA_v2(dev[0].question), lm.inspect_history(n=1)"
   ]
  },
  {
   "cell_type": "code",
   "execution_count": null,
   "id": "ab76cb9a",
   "metadata": {
    "scrolled": true
   },
   "outputs": [],
   "source": [
    "evaluate(retrieve_then_read_QA_v2, dev)"
   ]
  },
  {
   "cell_type": "markdown",
   "id": "4ccb3906",
   "metadata": {},
   "source": [
    "### Chat Adapter with system_turn=True, multi_turn=False, strict_turn=False"
   ]
  },
  {
   "cell_type": "code",
   "execution_count": 14,
   "id": "38cf9974",
   "metadata": {
    "scrolled": true
   },
   "outputs": [
    {
     "name": "stdout",
     "output_type": "stream",
     "text": [
      "------\n",
      "parts\n",
      "instructions:\n",
      "Answer questions with short factoid answers.\n",
      "guidelines:\n",
      "Follow the following format.\n",
      "\n",
      "Question: ${the question to be answered}\n",
      "Answer: ${a short factoid answer, often between 1 and 5 words}\n",
      "rdemos:\n",
      "['Question: Which award did the first book of Gary Zukav receive?\\nAnswer: U.S. National Book Award']\n",
      "ademos:\n",
      "[]\n",
      "query:\n",
      "Question: Who has a broader scope of profession: E. L. Doctorow or Julia Peterkin?\n",
      "Answer: \n",
      "long_query:\n",
      "False\n",
      "------\n",
      "prompt\n",
      "model:\n",
      "gpt-3.5-turbo\n",
      "messages:\n",
      "{'role': 'system', 'content': 'Answer questions with short factoid answers.'}\n",
      "{'role': 'user', 'content': 'Follow the following format.\\n\\nQuestion: ${the question to be answered}\\nAnswer: ${a short factoid answer, often between 1 and 5 words}\\n\\n---\\n\\nQuestion: Which award did the first book of Gary Zukav receive?\\nAnswer: U.S. National Book Award\\n\\nQuestion: Who has a broader scope of profession: E. L. Doctorow or Julia Peterkin?\\nAnswer:'}\n"
     ]
    }
   ],
   "source": [
    "dsp.settings.configure(lm=turbo, rm=rm)\n",
    "\n",
    "example = dsp.Example(question=question, demos=demos)\n",
    "parts = qa_template(example)\n",
    "prompt = chat_adapter(parts, system_turn=True, multi_turn=False, strict_turn=False)\n",
    "\n",
    "print(\"------\")\n",
    "print(\"parts\")\n",
    "for k, v in parts.items():\n",
    "    print(k+\":\")\n",
    "    print(v)\n",
    "\n",
    "print(\"------\")\n",
    "print(\"prompt\")\n",
    "for k, v in prompt.items():\n",
    "    print(k+\":\")\n",
    "    if k==\"messages\":\n",
    "        for turn in v:\n",
    "            print(turn)\n",
    "    else:\n",
    "        print(v)"
   ]
  },
  {
   "cell_type": "code",
   "execution_count": null,
   "id": "7c17c9b3",
   "metadata": {},
   "outputs": [],
   "source": [
    "retrieve_then_read_QA_v2(dev[0].question), lm.inspect_history(n=1)"
   ]
  },
  {
   "cell_type": "code",
   "execution_count": null,
   "id": "bc84b96c",
   "metadata": {
    "scrolled": true
   },
   "outputs": [],
   "source": [
    "evaluate(retrieve_then_read_QA_v2, dev)"
   ]
  },
  {
   "cell_type": "markdown",
   "id": "6ca94b1a",
   "metadata": {},
   "source": [
    "### Chat Adapter with system_turn=False, multi_turn=True, strict_turn=True"
   ]
  },
  {
   "cell_type": "code",
   "execution_count": 16,
   "id": "c09d270a",
   "metadata": {
    "scrolled": true
   },
   "outputs": [
    {
     "name": "stdout",
     "output_type": "stream",
     "text": [
      "------\n",
      "parts\n",
      "instructions:\n",
      "Answer questions with short factoid answers.\n",
      "guidelines:\n",
      "Follow the following format.\n",
      "\n",
      "Question: ${the question to be answered}\n",
      "Answer: ${a short factoid answer, often between 1 and 5 words}\n",
      "rdemos:\n",
      "['Question: Which award did the first book of Gary Zukav receive?\\nAnswer: U.S. National Book Award']\n",
      "ademos:\n",
      "[]\n",
      "query:\n",
      "Question: Who has a broader scope of profession: E. L. Doctorow or Julia Peterkin?\n",
      "Answer: \n",
      "long_query:\n",
      "False\n",
      "------\n",
      "prompt\n",
      "model:\n",
      "gpt-3.5-turbo\n",
      "messages:\n",
      "{'role': 'user', 'content': 'Answer questions with short factoid answers.'}\n",
      "{'role': 'assistant', 'content': 'Got it.'}\n",
      "{'role': 'user', 'content': 'Follow the following format.\\n\\nQuestion: ${the question to be answered}\\nAnswer: ${a short factoid answer, often between 1 and 5 words}'}\n",
      "{'role': 'assistant', 'content': 'Got it.'}\n",
      "{'role': 'user', 'content': 'Question: Which award did the first book of Gary Zukav receive?\\nAnswer: U.S. National Book Award'}\n",
      "{'role': 'assistant', 'content': 'Got it.'}\n",
      "{'role': 'user', 'content': 'Question: Who has a broader scope of profession: E. L. Doctorow or Julia Peterkin?\\nAnswer:'}\n"
     ]
    }
   ],
   "source": [
    "dsp.settings.configure(lm=turbo, rm=rm)\n",
    "\n",
    "example = dsp.Example(question=question, demos=demos)\n",
    "parts = qa_template(example)\n",
    "prompt = chat_adapter(parts, system_turn=False, multi_turn=True, strict_turn=True)\n",
    "\n",
    "print(\"------\")\n",
    "print(\"parts\")\n",
    "for k, v in parts.items():\n",
    "    print(k+\":\")\n",
    "    print(v)\n",
    "\n",
    "print(\"------\")\n",
    "print(\"prompt\")\n",
    "for k, v in prompt.items():\n",
    "    print(k+\":\")\n",
    "    if k==\"messages\":\n",
    "        for turn in v:\n",
    "            print(turn)\n",
    "    else:\n",
    "        print(v)"
   ]
  },
  {
   "cell_type": "code",
   "execution_count": null,
   "id": "94124133",
   "metadata": {},
   "outputs": [],
   "source": [
    "retrieve_then_read_QA_v2(dev[0].question), lm.inspect_history(n=1)"
   ]
  },
  {
   "cell_type": "code",
   "execution_count": null,
   "id": "878f9af8",
   "metadata": {
    "scrolled": true
   },
   "outputs": [],
   "source": [
    "evaluate(retrieve_then_read_QA_v2, dev)"
   ]
  },
  {
   "cell_type": "markdown",
   "id": "3a0e3859",
   "metadata": {},
   "source": [
    "### Chat Adapter with system_turn=False, multi_turn=True, strict_turn=False"
   ]
  },
  {
   "cell_type": "code",
   "execution_count": 18,
   "id": "6dcb17d1",
   "metadata": {
    "scrolled": true
   },
   "outputs": [
    {
     "name": "stdout",
     "output_type": "stream",
     "text": [
      "------\n",
      "parts\n",
      "instructions:\n",
      "Answer questions with short factoid answers.\n",
      "guidelines:\n",
      "Follow the following format.\n",
      "\n",
      "Question: ${the question to be answered}\n",
      "Answer: ${a short factoid answer, often between 1 and 5 words}\n",
      "rdemos:\n",
      "['Question: Which award did the first book of Gary Zukav receive?\\nAnswer: U.S. National Book Award']\n",
      "ademos:\n",
      "[]\n",
      "query:\n",
      "Question: Who has a broader scope of profession: E. L. Doctorow or Julia Peterkin?\n",
      "Answer: \n",
      "long_query:\n",
      "False\n",
      "------\n",
      "prompt\n",
      "model:\n",
      "gpt-3.5-turbo\n",
      "messages:\n",
      "{'role': 'user', 'content': 'Answer questions with short factoid answers.'}\n",
      "{'role': 'user', 'content': 'Follow the following format.\\n\\nQuestion: ${the question to be answered}\\nAnswer: ${a short factoid answer, often between 1 and 5 words}'}\n",
      "{'role': 'user', 'content': 'Question: Which award did the first book of Gary Zukav receive?\\nAnswer: U.S. National Book Award'}\n",
      "{'role': 'user', 'content': 'Question: Who has a broader scope of profession: E. L. Doctorow or Julia Peterkin?\\nAnswer:'}\n"
     ]
    }
   ],
   "source": [
    "dsp.settings.configure(lm=turbo, rm=rm)\n",
    "\n",
    "example = dsp.Example(question=question, demos=demos)\n",
    "parts = qa_template(example)\n",
    "prompt = chat_adapter(parts, system_turn=False, multi_turn=True, strict_turn=False)\n",
    "\n",
    "print(\"------\")\n",
    "print(\"parts\")\n",
    "for k, v in parts.items():\n",
    "    print(k+\":\")\n",
    "    print(v)\n",
    "\n",
    "print(\"------\")\n",
    "print(\"prompt\")\n",
    "for k, v in prompt.items():\n",
    "    print(k+\":\")\n",
    "    if k==\"messages\":\n",
    "        for turn in v:\n",
    "            print(turn)\n",
    "    else:\n",
    "        print(v)"
   ]
  },
  {
   "cell_type": "code",
   "execution_count": null,
   "id": "596e88d8",
   "metadata": {},
   "outputs": [],
   "source": [
    "retrieve_then_read_QA_v2(dev[0].question), lm.inspect_history(n=1)"
   ]
  },
  {
   "cell_type": "code",
   "execution_count": null,
   "id": "fe967857",
   "metadata": {
    "scrolled": true
   },
   "outputs": [],
   "source": [
    "evaluate(retrieve_then_read_QA_v2, dev)"
   ]
  },
  {
   "cell_type": "markdown",
   "id": "512401d0",
   "metadata": {},
   "source": [
    "### Chat Adapter with system_turn=False, multi_turn=False, strict_turn=True"
   ]
  },
  {
   "cell_type": "code",
   "execution_count": 19,
   "id": "ce75c931",
   "metadata": {
    "scrolled": true
   },
   "outputs": [
    {
     "name": "stdout",
     "output_type": "stream",
     "text": [
      "------\n",
      "parts\n",
      "instructions:\n",
      "Answer questions with short factoid answers.\n",
      "guidelines:\n",
      "Follow the following format.\n",
      "\n",
      "Question: ${the question to be answered}\n",
      "Answer: ${a short factoid answer, often between 1 and 5 words}\n",
      "rdemos:\n",
      "['Question: Which award did the first book of Gary Zukav receive?\\nAnswer: U.S. National Book Award']\n",
      "ademos:\n",
      "[]\n",
      "query:\n",
      "Question: Who has a broader scope of profession: E. L. Doctorow or Julia Peterkin?\n",
      "Answer: \n",
      "long_query:\n",
      "False\n",
      "------\n",
      "prompt\n",
      "model:\n",
      "gpt-3.5-turbo\n",
      "messages:\n",
      "{'role': 'user', 'content': 'Answer questions with short factoid answers.\\n\\n---\\n\\nFollow the following format.\\n\\nQuestion: ${the question to be answered}\\nAnswer: ${a short factoid answer, often between 1 and 5 words}\\n\\n---\\n\\nQuestion: Which award did the first book of Gary Zukav receive?\\nAnswer: U.S. National Book Award\\n\\nQuestion: Who has a broader scope of profession: E. L. Doctorow or Julia Peterkin?\\nAnswer:'}\n"
     ]
    }
   ],
   "source": [
    "dsp.settings.configure(lm=turbo, rm=rm)\n",
    "\n",
    "example = dsp.Example(question=question, demos=demos)\n",
    "parts = qa_template(example)\n",
    "prompt = chat_adapter(parts, system_turn=False, multi_turn=False, strict_turn=True)\n",
    "\n",
    "print(\"------\")\n",
    "print(\"parts\")\n",
    "for k, v in parts.items():\n",
    "    print(k+\":\")\n",
    "    print(v)\n",
    "\n",
    "print(\"------\")\n",
    "print(\"prompt\")\n",
    "for k, v in prompt.items():\n",
    "    print(k+\":\")\n",
    "    if k==\"messages\":\n",
    "        for turn in v:\n",
    "            print(turn)\n",
    "    else:\n",
    "        print(v)"
   ]
  },
  {
   "cell_type": "code",
   "execution_count": null,
   "id": "6983cfd9",
   "metadata": {},
   "outputs": [],
   "source": [
    "retrieve_then_read_QA_v2(dev[0].question), lm.inspect_history(n=1)"
   ]
  },
  {
   "cell_type": "code",
   "execution_count": null,
   "id": "a5c69ddc",
   "metadata": {
    "scrolled": true
   },
   "outputs": [],
   "source": [
    "evaluate(retrieve_then_read_QA_v2, dev)"
   ]
  },
  {
   "cell_type": "markdown",
   "id": "9f528da1",
   "metadata": {},
   "source": [
    "### Chat Adapter with system_turn=False, multi_turn=False, strict_turn=False"
   ]
  },
  {
   "cell_type": "code",
   "execution_count": 20,
   "id": "d48c16a0",
   "metadata": {
    "scrolled": true
   },
   "outputs": [
    {
     "name": "stdout",
     "output_type": "stream",
     "text": [
      "------\n",
      "parts\n",
      "instructions:\n",
      "Answer questions with short factoid answers.\n",
      "guidelines:\n",
      "Follow the following format.\n",
      "\n",
      "Question: ${the question to be answered}\n",
      "Answer: ${a short factoid answer, often between 1 and 5 words}\n",
      "rdemos:\n",
      "['Question: Which award did the first book of Gary Zukav receive?\\nAnswer: U.S. National Book Award']\n",
      "ademos:\n",
      "[]\n",
      "query:\n",
      "Question: Who has a broader scope of profession: E. L. Doctorow or Julia Peterkin?\n",
      "Answer: \n",
      "long_query:\n",
      "False\n",
      "------\n",
      "prompt\n",
      "model:\n",
      "gpt-3.5-turbo\n",
      "messages:\n",
      "{'role': 'user', 'content': 'Answer questions with short factoid answers.\\n\\n---\\n\\nFollow the following format.\\n\\nQuestion: ${the question to be answered}\\nAnswer: ${a short factoid answer, often between 1 and 5 words}\\n\\n---\\n\\nQuestion: Which award did the first book of Gary Zukav receive?\\nAnswer: U.S. National Book Award\\n\\nQuestion: Who has a broader scope of profession: E. L. Doctorow or Julia Peterkin?\\nAnswer:'}\n"
     ]
    }
   ],
   "source": [
    "dsp.settings.configure(lm=turbo, rm=rm)\n",
    "\n",
    "example = dsp.Example(question=question, demos=demos)\n",
    "parts = qa_template(example)\n",
    "prompt = chat_adapter(parts, system_turn=False, multi_turn=False, strict_turn=False)\n",
    "\n",
    "print(\"------\")\n",
    "print(\"parts\")\n",
    "for k, v in parts.items():\n",
    "    print(k+\":\")\n",
    "    print(v)\n",
    "\n",
    "print(\"------\")\n",
    "print(\"prompt\")\n",
    "for k, v in prompt.items():\n",
    "    print(k+\":\")\n",
    "    if k==\"messages\":\n",
    "        for turn in v:\n",
    "            print(turn)\n",
    "    else:\n",
    "        print(v)"
   ]
  },
  {
   "cell_type": "code",
   "execution_count": null,
   "id": "1cbeb2a0",
   "metadata": {},
   "outputs": [],
   "source": [
    "retrieve_then_read_QA_v2(dev[0].question), lm.inspect_history(n=1)"
   ]
  },
  {
   "cell_type": "code",
   "execution_count": null,
   "id": "e6447689",
   "metadata": {
    "scrolled": true
   },
   "outputs": [],
   "source": [
    "evaluate(retrieve_then_read_QA_v2, dev)"
   ]
  },
  {
   "cell_type": "markdown",
   "id": "59a20bc5",
   "metadata": {},
   "source": [
    "## Testing Chat Adapter Flags with no demos"
   ]
  },
  {
   "cell_type": "markdown",
   "id": "b812be9c",
   "metadata": {},
   "source": [
    "### Chat Adapter with system_turn=True, multi_turn=True, strict_turn=True"
   ]
  },
  {
   "cell_type": "code",
   "execution_count": 23,
   "id": "d06c93a6",
   "metadata": {
    "scrolled": true
   },
   "outputs": [
    {
     "name": "stdout",
     "output_type": "stream",
     "text": [
      "------\n",
      "parts\n",
      "instructions:\n",
      "Answer questions with short factoid answers.\n",
      "guidelines:\n",
      "Follow the following format.\n",
      "\n",
      "Question: ${the question to be answered}\n",
      "Answer: ${a short factoid answer, often between 1 and 5 words}\n",
      "rdemos:\n",
      "[]\n",
      "ademos:\n",
      "[]\n",
      "query:\n",
      "Question: Who has a broader scope of profession: E. L. Doctorow or Julia Peterkin?\n",
      "Answer: \n",
      "long_query:\n",
      "False\n",
      "------\n",
      "prompt\n",
      "model:\n",
      "gpt-3.5-turbo\n",
      "messages:\n",
      "{'role': 'system', 'content': 'Answer questions with short factoid answers.'}\n",
      "{'role': 'user', 'content': 'Follow the following format.\\n\\nQuestion: ${the question to be answered}\\nAnswer: ${a short factoid answer, often between 1 and 5 words}'}\n",
      "{'role': 'assistant', 'content': 'Got it.'}\n",
      "{'role': 'user', 'content': 'Question: Who has a broader scope of profession: E. L. Doctorow or Julia Peterkin?\\nAnswer:'}\n"
     ]
    }
   ],
   "source": [
    "dsp.settings.configure(lm=turbo, rm=rm)\n",
    "\n",
    "example = dsp.Example(question=question)\n",
    "parts = qa_template(example)\n",
    "prompt = chat_adapter(parts, system_turn=True, multi_turn=True, strict_turn=True)\n",
    "\n",
    "print(\"------\")\n",
    "print(\"parts\")\n",
    "for k, v in parts.items():\n",
    "    print(k+\":\")\n",
    "    print(v)\n",
    "\n",
    "print(\"------\")\n",
    "print(\"prompt\")\n",
    "for k, v in prompt.items():\n",
    "    print(k+\":\")\n",
    "    if k==\"messages\":\n",
    "        for turn in v:\n",
    "            print(turn)\n",
    "    else:\n",
    "        print(v)"
   ]
  },
  {
   "cell_type": "code",
   "execution_count": null,
   "id": "cc12e29c",
   "metadata": {},
   "outputs": [],
   "source": [
    "retrieve_then_read_QA_v2(dev[0].question), lm.inspect_history(n=1)"
   ]
  },
  {
   "cell_type": "code",
   "execution_count": null,
   "id": "03fdc352",
   "metadata": {
    "scrolled": true
   },
   "outputs": [],
   "source": [
    "evaluate(retrieve_then_read_QA_v2, dev)"
   ]
  },
  {
   "cell_type": "markdown",
   "id": "3d2ffafa",
   "metadata": {},
   "source": [
    "### Chat Adapter with system_turn=True, multi_turn=True, strict_turn=False"
   ]
  },
  {
   "cell_type": "code",
   "execution_count": 24,
   "id": "a6d77409",
   "metadata": {
    "scrolled": true
   },
   "outputs": [
    {
     "name": "stdout",
     "output_type": "stream",
     "text": [
      "------\n",
      "parts\n",
      "instructions:\n",
      "Answer questions with short factoid answers.\n",
      "guidelines:\n",
      "Follow the following format.\n",
      "\n",
      "Question: ${the question to be answered}\n",
      "Answer: ${a short factoid answer, often between 1 and 5 words}\n",
      "rdemos:\n",
      "[]\n",
      "ademos:\n",
      "[]\n",
      "query:\n",
      "Question: Who has a broader scope of profession: E. L. Doctorow or Julia Peterkin?\n",
      "Answer: \n",
      "long_query:\n",
      "False\n",
      "------\n",
      "prompt\n",
      "model:\n",
      "gpt-3.5-turbo\n",
      "messages:\n",
      "{'role': 'system', 'content': 'Answer questions with short factoid answers.'}\n",
      "{'role': 'user', 'content': 'Follow the following format.\\n\\nQuestion: ${the question to be answered}\\nAnswer: ${a short factoid answer, often between 1 and 5 words}'}\n",
      "{'role': 'user', 'content': 'Question: Who has a broader scope of profession: E. L. Doctorow or Julia Peterkin?\\nAnswer:'}\n"
     ]
    }
   ],
   "source": [
    "dsp.settings.configure(lm=turbo, rm=rm)\n",
    "\n",
    "example = dsp.Example(question=question)\n",
    "parts = qa_template(example)\n",
    "prompt = chat_adapter(parts, system_turn=True, multi_turn=True, strict_turn=False)\n",
    "\n",
    "print(\"------\")\n",
    "print(\"parts\")\n",
    "for k, v in parts.items():\n",
    "    print(k+\":\")\n",
    "    print(v)\n",
    "\n",
    "print(\"------\")\n",
    "print(\"prompt\")\n",
    "for k, v in prompt.items():\n",
    "    print(k+\":\")\n",
    "    if k==\"messages\":\n",
    "        for turn in v:\n",
    "            print(turn)\n",
    "    else:\n",
    "        print(v)"
   ]
  },
  {
   "cell_type": "code",
   "execution_count": null,
   "id": "001391f6",
   "metadata": {},
   "outputs": [],
   "source": [
    "retrieve_then_read_QA_v2(dev[0].question), lm.inspect_history(n=1)"
   ]
  },
  {
   "cell_type": "code",
   "execution_count": null,
   "id": "e5249e78",
   "metadata": {
    "scrolled": true
   },
   "outputs": [],
   "source": [
    "evaluate(retrieve_then_read_QA_v2, dev)"
   ]
  },
  {
   "cell_type": "markdown",
   "id": "2cf67c56",
   "metadata": {},
   "source": [
    "### Chat Adapter with system_turn=True, multi_turn=False, strict_turn=True"
   ]
  },
  {
   "cell_type": "code",
   "execution_count": 25,
   "id": "93d28dd1",
   "metadata": {
    "scrolled": true
   },
   "outputs": [
    {
     "name": "stdout",
     "output_type": "stream",
     "text": [
      "------\n",
      "parts\n",
      "instructions:\n",
      "Answer questions with short factoid answers.\n",
      "guidelines:\n",
      "Follow the following format.\n",
      "\n",
      "Question: ${the question to be answered}\n",
      "Answer: ${a short factoid answer, often between 1 and 5 words}\n",
      "rdemos:\n",
      "[]\n",
      "ademos:\n",
      "[]\n",
      "query:\n",
      "Question: Who has a broader scope of profession: E. L. Doctorow or Julia Peterkin?\n",
      "Answer: \n",
      "long_query:\n",
      "False\n",
      "------\n",
      "prompt\n",
      "model:\n",
      "gpt-3.5-turbo\n",
      "messages:\n",
      "{'role': 'system', 'content': 'Answer questions with short factoid answers.'}\n",
      "{'role': 'user', 'content': 'Follow the following format.\\n\\nQuestion: ${the question to be answered}\\nAnswer: ${a short factoid answer, often between 1 and 5 words}\\n\\n---\\n\\nQuestion: Who has a broader scope of profession: E. L. Doctorow or Julia Peterkin?\\nAnswer:'}\n"
     ]
    }
   ],
   "source": [
    "dsp.settings.configure(lm=turbo, rm=rm)\n",
    "\n",
    "example = dsp.Example(question=question)\n",
    "parts = qa_template(example)\n",
    "prompt = chat_adapter(parts, system_turn=True, multi_turn=False, strict_turn=True)\n",
    "\n",
    "print(\"------\")\n",
    "print(\"parts\")\n",
    "for k, v in parts.items():\n",
    "    print(k+\":\")\n",
    "    print(v)\n",
    "\n",
    "print(\"------\")\n",
    "print(\"prompt\")\n",
    "for k, v in prompt.items():\n",
    "    print(k+\":\")\n",
    "    if k==\"messages\":\n",
    "        for turn in v:\n",
    "            print(turn)\n",
    "    else:\n",
    "        print(v)"
   ]
  },
  {
   "cell_type": "code",
   "execution_count": null,
   "id": "ef53eb5d",
   "metadata": {},
   "outputs": [],
   "source": [
    "retrieve_then_read_QA_v2(dev[0].question), lm.inspect_history(n=1)"
   ]
  },
  {
   "cell_type": "code",
   "execution_count": null,
   "id": "e7f2ca79",
   "metadata": {
    "scrolled": true
   },
   "outputs": [],
   "source": [
    "evaluate(retrieve_then_read_QA_v2, dev)"
   ]
  },
  {
   "cell_type": "markdown",
   "id": "1e725365",
   "metadata": {},
   "source": [
    "### Chat Adapter with system_turn=True, multi_turn=False, strict_turn=False"
   ]
  },
  {
   "cell_type": "code",
   "execution_count": 26,
   "id": "37ebdc4a",
   "metadata": {
    "scrolled": true
   },
   "outputs": [
    {
     "name": "stdout",
     "output_type": "stream",
     "text": [
      "------\n",
      "parts\n",
      "instructions:\n",
      "Answer questions with short factoid answers.\n",
      "guidelines:\n",
      "Follow the following format.\n",
      "\n",
      "Question: ${the question to be answered}\n",
      "Answer: ${a short factoid answer, often between 1 and 5 words}\n",
      "rdemos:\n",
      "[]\n",
      "ademos:\n",
      "[]\n",
      "query:\n",
      "Question: Who has a broader scope of profession: E. L. Doctorow or Julia Peterkin?\n",
      "Answer: \n",
      "long_query:\n",
      "False\n",
      "------\n",
      "prompt\n",
      "model:\n",
      "gpt-3.5-turbo\n",
      "messages:\n",
      "{'role': 'system', 'content': 'Answer questions with short factoid answers.'}\n",
      "{'role': 'user', 'content': 'Follow the following format.\\n\\nQuestion: ${the question to be answered}\\nAnswer: ${a short factoid answer, often between 1 and 5 words}\\n\\n---\\n\\nQuestion: Who has a broader scope of profession: E. L. Doctorow or Julia Peterkin?\\nAnswer:'}\n"
     ]
    }
   ],
   "source": [
    "dsp.settings.configure(lm=turbo, rm=rm)\n",
    "\n",
    "example = dsp.Example(question=question)\n",
    "parts = qa_template(example)\n",
    "prompt = chat_adapter(parts, system_turn=True, multi_turn=False, strict_turn=False)\n",
    "\n",
    "print(\"------\")\n",
    "print(\"parts\")\n",
    "for k, v in parts.items():\n",
    "    print(k+\":\")\n",
    "    print(v)\n",
    "\n",
    "print(\"------\")\n",
    "print(\"prompt\")\n",
    "for k, v in prompt.items():\n",
    "    print(k+\":\")\n",
    "    if k==\"messages\":\n",
    "        for turn in v:\n",
    "            print(turn)\n",
    "    else:\n",
    "        print(v)"
   ]
  },
  {
   "cell_type": "code",
   "execution_count": null,
   "id": "9001f22f",
   "metadata": {},
   "outputs": [],
   "source": [
    "retrieve_then_read_QA_v2(dev[0].question), lm.inspect_history(n=1)"
   ]
  },
  {
   "cell_type": "code",
   "execution_count": null,
   "id": "f3a5f0b8",
   "metadata": {
    "scrolled": true
   },
   "outputs": [],
   "source": [
    "evaluate(retrieve_then_read_QA_v2, dev)"
   ]
  },
  {
   "cell_type": "markdown",
   "id": "5ebd549e",
   "metadata": {},
   "source": [
    "### Chat Adapter with system_turn=False, multi_turn=True, strict_turn=True"
   ]
  },
  {
   "cell_type": "code",
   "execution_count": 27,
   "id": "cc2d07aa",
   "metadata": {
    "scrolled": true
   },
   "outputs": [
    {
     "name": "stdout",
     "output_type": "stream",
     "text": [
      "------\n",
      "parts\n",
      "instructions:\n",
      "Answer questions with short factoid answers.\n",
      "guidelines:\n",
      "Follow the following format.\n",
      "\n",
      "Question: ${the question to be answered}\n",
      "Answer: ${a short factoid answer, often between 1 and 5 words}\n",
      "rdemos:\n",
      "[]\n",
      "ademos:\n",
      "[]\n",
      "query:\n",
      "Question: Who has a broader scope of profession: E. L. Doctorow or Julia Peterkin?\n",
      "Answer: \n",
      "long_query:\n",
      "False\n",
      "------\n",
      "prompt\n",
      "model:\n",
      "gpt-3.5-turbo\n",
      "messages:\n",
      "{'role': 'user', 'content': 'Answer questions with short factoid answers.'}\n",
      "{'role': 'assistant', 'content': 'Got it.'}\n",
      "{'role': 'user', 'content': 'Follow the following format.\\n\\nQuestion: ${the question to be answered}\\nAnswer: ${a short factoid answer, often between 1 and 5 words}'}\n",
      "{'role': 'assistant', 'content': 'Got it.'}\n",
      "{'role': 'user', 'content': 'Question: Who has a broader scope of profession: E. L. Doctorow or Julia Peterkin?\\nAnswer:'}\n"
     ]
    }
   ],
   "source": [
    "dsp.settings.configure(lm=turbo, rm=rm)\n",
    "\n",
    "example = dsp.Example(question=question)\n",
    "parts = qa_template(example)\n",
    "prompt = chat_adapter(parts, system_turn=False, multi_turn=True, strict_turn=True)\n",
    "\n",
    "print(\"------\")\n",
    "print(\"parts\")\n",
    "for k, v in parts.items():\n",
    "    print(k+\":\")\n",
    "    print(v)\n",
    "\n",
    "print(\"------\")\n",
    "print(\"prompt\")\n",
    "for k, v in prompt.items():\n",
    "    print(k+\":\")\n",
    "    if k==\"messages\":\n",
    "        for turn in v:\n",
    "            print(turn)\n",
    "    else:\n",
    "        print(v)"
   ]
  },
  {
   "cell_type": "code",
   "execution_count": null,
   "id": "04aa1fd8",
   "metadata": {},
   "outputs": [],
   "source": [
    "retrieve_then_read_QA_v2(dev[0].question), lm.inspect_history(n=1)"
   ]
  },
  {
   "cell_type": "code",
   "execution_count": null,
   "id": "297d9501",
   "metadata": {
    "scrolled": true
   },
   "outputs": [],
   "source": [
    "evaluate(retrieve_then_read_QA_v2, dev)"
   ]
  },
  {
   "cell_type": "markdown",
   "id": "01d0ef4e",
   "metadata": {},
   "source": [
    "### Chat Adapter with system_turn=False, multi_turn=True, strict_turn=False"
   ]
  },
  {
   "cell_type": "code",
   "execution_count": 28,
   "id": "f0955beb",
   "metadata": {
    "scrolled": true
   },
   "outputs": [
    {
     "name": "stdout",
     "output_type": "stream",
     "text": [
      "------\n",
      "parts\n",
      "instructions:\n",
      "Answer questions with short factoid answers.\n",
      "guidelines:\n",
      "Follow the following format.\n",
      "\n",
      "Question: ${the question to be answered}\n",
      "Answer: ${a short factoid answer, often between 1 and 5 words}\n",
      "rdemos:\n",
      "[]\n",
      "ademos:\n",
      "[]\n",
      "query:\n",
      "Question: Who has a broader scope of profession: E. L. Doctorow or Julia Peterkin?\n",
      "Answer: \n",
      "long_query:\n",
      "False\n",
      "------\n",
      "prompt\n",
      "model:\n",
      "gpt-3.5-turbo\n",
      "messages:\n",
      "{'role': 'user', 'content': 'Answer questions with short factoid answers.'}\n",
      "{'role': 'user', 'content': 'Follow the following format.\\n\\nQuestion: ${the question to be answered}\\nAnswer: ${a short factoid answer, often between 1 and 5 words}'}\n",
      "{'role': 'user', 'content': 'Question: Who has a broader scope of profession: E. L. Doctorow or Julia Peterkin?\\nAnswer:'}\n"
     ]
    }
   ],
   "source": [
    "dsp.settings.configure(lm=turbo, rm=rm)\n",
    "\n",
    "example = dsp.Example(question=question)\n",
    "parts = qa_template(example)\n",
    "prompt = chat_adapter(parts, system_turn=False, multi_turn=True, strict_turn=False)\n",
    "\n",
    "print(\"------\")\n",
    "print(\"parts\")\n",
    "for k, v in parts.items():\n",
    "    print(k+\":\")\n",
    "    print(v)\n",
    "\n",
    "print(\"------\")\n",
    "print(\"prompt\")\n",
    "for k, v in prompt.items():\n",
    "    print(k+\":\")\n",
    "    if k==\"messages\":\n",
    "        for turn in v:\n",
    "            print(turn)\n",
    "    else:\n",
    "        print(v)"
   ]
  },
  {
   "cell_type": "code",
   "execution_count": null,
   "id": "a99c8665",
   "metadata": {},
   "outputs": [],
   "source": [
    "retrieve_then_read_QA_v2(dev[0].question), lm.inspect_history(n=1)"
   ]
  },
  {
   "cell_type": "code",
   "execution_count": null,
   "id": "9488dffb",
   "metadata": {
    "scrolled": true
   },
   "outputs": [],
   "source": [
    "evaluate(retrieve_then_read_QA_v2, dev)"
   ]
  },
  {
   "cell_type": "markdown",
   "id": "f116b348",
   "metadata": {},
   "source": [
    "### Chat Adapter with system_turn=False, multi_turn=False, strict_turn=True"
   ]
  },
  {
   "cell_type": "code",
   "execution_count": 29,
   "id": "13c7bd6b",
   "metadata": {
    "scrolled": true
   },
   "outputs": [
    {
     "name": "stdout",
     "output_type": "stream",
     "text": [
      "------\n",
      "parts\n",
      "instructions:\n",
      "Answer questions with short factoid answers.\n",
      "guidelines:\n",
      "Follow the following format.\n",
      "\n",
      "Question: ${the question to be answered}\n",
      "Answer: ${a short factoid answer, often between 1 and 5 words}\n",
      "rdemos:\n",
      "['Question: Which award did the first book of Gary Zukav receive?\\nAnswer: U.S. National Book Award']\n",
      "ademos:\n",
      "[]\n",
      "query:\n",
      "Question: Who has a broader scope of profession: E. L. Doctorow or Julia Peterkin?\n",
      "Answer: \n",
      "long_query:\n",
      "False\n",
      "------\n",
      "prompt\n",
      "model:\n",
      "gpt-3.5-turbo\n",
      "messages:\n",
      "{'role': 'user', 'content': 'Answer questions with short factoid answers.\\n\\n---\\n\\nFollow the following format.\\n\\nQuestion: ${the question to be answered}\\nAnswer: ${a short factoid answer, often between 1 and 5 words}\\n\\n---\\n\\nQuestion: Which award did the first book of Gary Zukav receive?\\nAnswer: U.S. National Book Award\\n\\nQuestion: Who has a broader scope of profession: E. L. Doctorow or Julia Peterkin?\\nAnswer:'}\n"
     ]
    }
   ],
   "source": [
    "dsp.settings.configure(lm=turbo, rm=rm)\n",
    "\n",
    "example = dsp.Example(question=question, demos=demos)\n",
    "parts = qa_template(example)\n",
    "prompt = chat_adapter(parts, system_turn=False, multi_turn=False, strict_turn=True)\n",
    "\n",
    "print(\"------\")\n",
    "print(\"parts\")\n",
    "for k, v in parts.items():\n",
    "    print(k+\":\")\n",
    "    print(v)\n",
    "\n",
    "print(\"------\")\n",
    "print(\"prompt\")\n",
    "for k, v in prompt.items():\n",
    "    print(k+\":\")\n",
    "    if k==\"messages\":\n",
    "        for turn in v:\n",
    "            print(turn)\n",
    "    else:\n",
    "        print(v)"
   ]
  },
  {
   "cell_type": "code",
   "execution_count": null,
   "id": "62c8ca6d",
   "metadata": {},
   "outputs": [],
   "source": [
    "retrieve_then_read_QA_v2(dev[0].question), lm.inspect_history(n=1)"
   ]
  },
  {
   "cell_type": "code",
   "execution_count": null,
   "id": "f14d844f",
   "metadata": {
    "scrolled": true
   },
   "outputs": [],
   "source": [
    "evaluate(retrieve_then_read_QA_v2, dev)"
   ]
  },
  {
   "cell_type": "markdown",
   "id": "7fbafd9e",
   "metadata": {},
   "source": [
    "### Chat Adapter with system_turn=False, multi_turn=False, strict_turn=False"
   ]
  },
  {
   "cell_type": "code",
   "execution_count": 30,
   "id": "2d738caa",
   "metadata": {
    "scrolled": true
   },
   "outputs": [
    {
     "name": "stdout",
     "output_type": "stream",
     "text": [
      "------\n",
      "parts\n",
      "instructions:\n",
      "Answer questions with short factoid answers.\n",
      "guidelines:\n",
      "Follow the following format.\n",
      "\n",
      "Question: ${the question to be answered}\n",
      "Answer: ${a short factoid answer, often between 1 and 5 words}\n",
      "rdemos:\n",
      "['Question: Which award did the first book of Gary Zukav receive?\\nAnswer: U.S. National Book Award']\n",
      "ademos:\n",
      "[]\n",
      "query:\n",
      "Question: Who has a broader scope of profession: E. L. Doctorow or Julia Peterkin?\n",
      "Answer: \n",
      "long_query:\n",
      "False\n",
      "------\n",
      "prompt\n",
      "model:\n",
      "gpt-3.5-turbo\n",
      "messages:\n",
      "{'role': 'user', 'content': 'Answer questions with short factoid answers.\\n\\n---\\n\\nFollow the following format.\\n\\nQuestion: ${the question to be answered}\\nAnswer: ${a short factoid answer, often between 1 and 5 words}\\n\\n---\\n\\nQuestion: Which award did the first book of Gary Zukav receive?\\nAnswer: U.S. National Book Award\\n\\nQuestion: Who has a broader scope of profession: E. L. Doctorow or Julia Peterkin?\\nAnswer:'}\n"
     ]
    }
   ],
   "source": [
    "dsp.settings.configure(lm=turbo, rm=rm)\n",
    "\n",
    "example = dsp.Example(question=question, demos=demos)\n",
    "parts = qa_template(example)\n",
    "prompt = chat_adapter(parts, system_turn=False, multi_turn=False, strict_turn=False)\n",
    "\n",
    "print(\"------\")\n",
    "print(\"parts\")\n",
    "for k, v in parts.items():\n",
    "    print(k+\":\")\n",
    "    print(v)\n",
    "\n",
    "print(\"------\")\n",
    "print(\"prompt\")\n",
    "for k, v in prompt.items():\n",
    "    print(k+\":\")\n",
    "    if k==\"messages\":\n",
    "        for turn in v:\n",
    "            print(turn)\n",
    "    else:\n",
    "        print(v)"
   ]
  },
  {
   "cell_type": "code",
   "execution_count": null,
   "id": "d50d7e1f",
   "metadata": {},
   "outputs": [],
   "source": [
    "retrieve_then_read_QA_v2(dev[0].question), lm.inspect_history(n=1)"
   ]
  },
  {
   "cell_type": "code",
   "execution_count": null,
   "id": "726b9e67",
   "metadata": {
    "scrolled": true
   },
   "outputs": [],
   "source": [
    "evaluate(retrieve_then_read_QA_v2, dev)"
   ]
  },
  {
   "cell_type": "markdown",
   "id": "56433ec6",
   "metadata": {},
   "source": [
    "# Program 4: Multi-Hop Retrieval"
   ]
  },
  {
   "cell_type": "code",
   "execution_count": 9,
   "id": "4dc40d10",
   "metadata": {},
   "outputs": [],
   "source": [
    "SearchRationale = dsp.Type(\n",
    "    prefix=\"Rationale: Let's think step by step. To answer this question, we first need to find out\",\n",
    "    desc=\"${the missing information}\"\n",
    ")\n",
    "\n",
    "SearchQuery = dsp.Type(\n",
    "    prefix=\"Search Query:\",\n",
    "    desc=\"${a simple question for seeking the missing information}\"\n",
    ")\n",
    "\n",
    "rewrite_template = dsp.Template(\n",
    "    instructions=\"Write a search query that will help answer a complex question.\",\n",
    "    question=Question(), rationale=SearchRationale(), query=SearchQuery()\n",
    ")"
   ]
  },
  {
   "cell_type": "code",
   "execution_count": null,
   "id": "9fb3093c",
   "metadata": {},
   "outputs": [],
   "source": [
    "CondenseRationale = dsp.Type(\n",
    "    prefix=\"Rationale: Let's think step by step. Based on the context, we have learned the following.\",\n",
    "    desc=\"${information from the context that provides useful clues}\"\n",
    ")\n",
    "\n",
    "hop_template = dsp.Template(\n",
    "    instructions=rewrite_template.instructions,\n",
    "    context=Context(), question=Question(), rationale=CondenseRationale(), query=SearchQuery()\n",
    ")"
   ]
  },
  {
   "cell_type": "code",
   "execution_count": null,
   "id": "6c6cabf0",
   "metadata": {},
   "outputs": [],
   "source": [
    "from dsp.evaluation.utils import evaluate\n",
    "from dsp.utils import deduplicate\n",
    "\n",
    "@dsp.transformation\n",
    "def multihop_search_v1(e: dsp.Example, max_hops=2, k=2) -> dsp.Example:\n",
    "    e.context = []\n",
    "    \n",
    "    for hop in range(max_hops):\n",
    "        # Generate a query based\n",
    "        template = rewrite_template if hop == 0 else hop_template\n",
    "        e, completions = dsp.generate(template)(e, stage=f'h{hop}')\n",
    "\n",
    "        # Retrieve k results based on the query generated\n",
    "        passages = dsp.retrieve(completions.query, k=k)\n",
    "\n",
    "        # Update the context by concatenating old and new passages\n",
    "        e.context = deduplicate(e.context + passages)\n",
    "\n",
    "    return e\n",
    "\n",
    "\n",
    "def multihop_QA_v1(question: str) -> str:\n",
    "    demos = dsp.sample(train, k=7)\n",
    "    x = dsp.Example(question=question, demos=training_demos)\n",
    "    \n",
    "    x = multihop_search_v1(x)\n",
    "    x = QA_predict(x, sc=False)\n",
    "\n",
    "    return x.answer"
   ]
  },
  {
   "cell_type": "markdown",
   "id": "cf054e21",
   "metadata": {},
   "source": [
    "## Testing Chat Adapter Flags with demos"
   ]
  },
  {
   "cell_type": "markdown",
   "id": "2da8148c",
   "metadata": {},
   "source": [
    "### Chat Adapter with system_turn=True, multi_turn=True, strict_turn=True"
   ]
  },
  {
   "cell_type": "code",
   "execution_count": 10,
   "id": "f4208676",
   "metadata": {
    "scrolled": true
   },
   "outputs": [
    {
     "name": "stdout",
     "output_type": "stream",
     "text": [
      "------\n",
      "parts\n",
      "instructions:\n",
      "Answer questions with short factoid answers.\n",
      "guidelines:\n",
      "Follow the following format.\n",
      "\n",
      "Question: ${the question to be answered}\n",
      "Answer: ${a short factoid answer, often between 1 and 5 words}\n",
      "rdemos:\n",
      "['Question: Which award did the first book of Gary Zukav receive?\\nAnswer: U.S. National Book Award']\n",
      "ademos:\n",
      "[]\n",
      "query:\n",
      "Question: Who has a broader scope of profession: E. L. Doctorow or Julia Peterkin?\n",
      "Answer: \n",
      "long_query:\n",
      "False\n",
      "------\n",
      "prompt\n",
      "model:\n",
      "gpt-3.5-turbo\n",
      "messages:\n",
      "{'role': 'system', 'content': 'Answer questions with short factoid answers.'}\n",
      "{'role': 'user', 'content': 'Follow the following format.\\n\\nQuestion: ${the question to be answered}\\nAnswer: ${a short factoid answer, often between 1 and 5 words}'}\n",
      "{'role': 'assistant', 'content': 'Got it.'}\n",
      "{'role': 'user', 'content': 'Question: Which award did the first book of Gary Zukav receive?\\nAnswer: U.S. National Book Award'}\n",
      "{'role': 'assistant', 'content': 'Got it.'}\n",
      "{'role': 'user', 'content': 'Question: Who has a broader scope of profession: E. L. Doctorow or Julia Peterkin?\\nAnswer:'}\n"
     ]
    }
   ],
   "source": [
    "dsp.settings.configure(lm=turbo, rm=rm)\n",
    "\n",
    "example = dsp.Example(question=question, demos=demos)\n",
    "parts = qa_template(example)\n",
    "prompt = chat_adapter(parts, system_turn=True, multi_turn=True, strict_turn=True)\n",
    "\n",
    "print(\"------\")\n",
    "print(\"parts\")\n",
    "for k, v in parts.items():\n",
    "    print(k+\":\")\n",
    "    print(v)\n",
    "\n",
    "print(\"------\")\n",
    "print(\"prompt\")\n",
    "for k, v in prompt.items():\n",
    "    print(k+\":\")\n",
    "    if k==\"messages\":\n",
    "        for turn in v:\n",
    "            print(turn)\n",
    "    else:\n",
    "        print(v)"
   ]
  },
  {
   "cell_type": "code",
   "execution_count": null,
   "id": "12505393",
   "metadata": {},
   "outputs": [],
   "source": [
    "multihop_QA_v1(dev[0].question), lm.inspect_history(n=3)"
   ]
  },
  {
   "cell_type": "code",
   "execution_count": null,
   "id": "001f25dd",
   "metadata": {
    "scrolled": true
   },
   "outputs": [],
   "source": [
    "evaluate(multihop_QA_v1, dev)"
   ]
  },
  {
   "cell_type": "markdown",
   "id": "9fefff5e",
   "metadata": {},
   "source": [
    "### Chat Adapter with system_turn=True, multi_turn=True, strict_turn=False"
   ]
  },
  {
   "cell_type": "code",
   "execution_count": 12,
   "id": "991f2b08",
   "metadata": {
    "scrolled": true
   },
   "outputs": [
    {
     "name": "stdout",
     "output_type": "stream",
     "text": [
      "------\n",
      "parts\n",
      "instructions:\n",
      "Answer questions with short factoid answers.\n",
      "guidelines:\n",
      "Follow the following format.\n",
      "\n",
      "Question: ${the question to be answered}\n",
      "Answer: ${a short factoid answer, often between 1 and 5 words}\n",
      "rdemos:\n",
      "['Question: Which award did the first book of Gary Zukav receive?\\nAnswer: U.S. National Book Award']\n",
      "ademos:\n",
      "[]\n",
      "query:\n",
      "Question: Who has a broader scope of profession: E. L. Doctorow or Julia Peterkin?\n",
      "Answer: \n",
      "long_query:\n",
      "False\n",
      "------\n",
      "prompt\n",
      "model:\n",
      "gpt-3.5-turbo\n",
      "messages:\n",
      "{'role': 'system', 'content': 'Answer questions with short factoid answers.'}\n",
      "{'role': 'user', 'content': 'Follow the following format.\\n\\nQuestion: ${the question to be answered}\\nAnswer: ${a short factoid answer, often between 1 and 5 words}'}\n",
      "{'role': 'user', 'content': 'Question: Which award did the first book of Gary Zukav receive?\\nAnswer: U.S. National Book Award'}\n",
      "{'role': 'user', 'content': 'Question: Who has a broader scope of profession: E. L. Doctorow or Julia Peterkin?\\nAnswer:'}\n"
     ]
    }
   ],
   "source": [
    "dsp.settings.configure(lm=turbo, rm=rm)\n",
    "\n",
    "example = dsp.Example(question=question, demos=demos)\n",
    "parts = qa_template(example)\n",
    "prompt = chat_adapter(parts, system_turn=True, multi_turn=True, strict_turn=False)\n",
    "\n",
    "print(\"------\")\n",
    "print(\"parts\")\n",
    "for k, v in parts.items():\n",
    "    print(k+\":\")\n",
    "    print(v)\n",
    "\n",
    "print(\"------\")\n",
    "print(\"prompt\")\n",
    "for k, v in prompt.items():\n",
    "    print(k+\":\")\n",
    "    if k==\"messages\":\n",
    "        for turn in v:\n",
    "            print(turn)\n",
    "    else:\n",
    "        print(v)"
   ]
  },
  {
   "cell_type": "code",
   "execution_count": null,
   "id": "1a4d5245",
   "metadata": {},
   "outputs": [],
   "source": [
    "multihop_QA_v1(dev[0].question), lm.inspect_history(n=3)"
   ]
  },
  {
   "cell_type": "code",
   "execution_count": null,
   "id": "4c6318dc",
   "metadata": {
    "scrolled": true
   },
   "outputs": [],
   "source": [
    "evaluate(multihop_QA_v1, dev)"
   ]
  },
  {
   "cell_type": "markdown",
   "id": "33842a86",
   "metadata": {},
   "source": [
    "### Chat Adapter with system_turn=True, multi_turn=False, strict_turn=True"
   ]
  },
  {
   "cell_type": "code",
   "execution_count": 13,
   "id": "1803d670",
   "metadata": {
    "scrolled": true
   },
   "outputs": [
    {
     "name": "stdout",
     "output_type": "stream",
     "text": [
      "------\n",
      "parts\n",
      "instructions:\n",
      "Answer questions with short factoid answers.\n",
      "guidelines:\n",
      "Follow the following format.\n",
      "\n",
      "Question: ${the question to be answered}\n",
      "Answer: ${a short factoid answer, often between 1 and 5 words}\n",
      "rdemos:\n",
      "['Question: Which award did the first book of Gary Zukav receive?\\nAnswer: U.S. National Book Award']\n",
      "ademos:\n",
      "[]\n",
      "query:\n",
      "Question: Who has a broader scope of profession: E. L. Doctorow or Julia Peterkin?\n",
      "Answer: \n",
      "long_query:\n",
      "False\n",
      "------\n",
      "prompt\n",
      "model:\n",
      "gpt-3.5-turbo\n",
      "messages:\n",
      "{'role': 'system', 'content': 'Answer questions with short factoid answers.'}\n",
      "{'role': 'user', 'content': 'Follow the following format.\\n\\nQuestion: ${the question to be answered}\\nAnswer: ${a short factoid answer, often between 1 and 5 words}\\n\\n---\\n\\nQuestion: Which award did the first book of Gary Zukav receive?\\nAnswer: U.S. National Book Award\\n\\nQuestion: Who has a broader scope of profession: E. L. Doctorow or Julia Peterkin?\\nAnswer:'}\n"
     ]
    }
   ],
   "source": [
    "dsp.settings.configure(lm=turbo, rm=rm)\n",
    "\n",
    "example = dsp.Example(question=question, demos=demos)\n",
    "parts = qa_template(example)\n",
    "prompt = chat_adapter(parts, system_turn=True, multi_turn=False, strict_turn=True)\n",
    "\n",
    "print(\"------\")\n",
    "print(\"parts\")\n",
    "for k, v in parts.items():\n",
    "    print(k+\":\")\n",
    "    print(v)\n",
    "\n",
    "print(\"------\")\n",
    "print(\"prompt\")\n",
    "for k, v in prompt.items():\n",
    "    print(k+\":\")\n",
    "    if k==\"messages\":\n",
    "        for turn in v:\n",
    "            print(turn)\n",
    "    else:\n",
    "        print(v)"
   ]
  },
  {
   "cell_type": "code",
   "execution_count": null,
   "id": "31f6524d",
   "metadata": {},
   "outputs": [],
   "source": [
    "multihop_QA_v1(dev[2].question), lm.inspect_history(n=3)"
   ]
  },
  {
   "cell_type": "code",
   "execution_count": null,
   "id": "b05892f8",
   "metadata": {
    "scrolled": true
   },
   "outputs": [],
   "source": [
    "evaluate(multihop_QA_v1, dev)"
   ]
  },
  {
   "cell_type": "markdown",
   "id": "08bcdf52",
   "metadata": {},
   "source": [
    "### Chat Adapter with system_turn=True, multi_turn=False, strict_turn=False"
   ]
  },
  {
   "cell_type": "code",
   "execution_count": 14,
   "id": "161d4513",
   "metadata": {
    "scrolled": true
   },
   "outputs": [
    {
     "name": "stdout",
     "output_type": "stream",
     "text": [
      "------\n",
      "parts\n",
      "instructions:\n",
      "Answer questions with short factoid answers.\n",
      "guidelines:\n",
      "Follow the following format.\n",
      "\n",
      "Question: ${the question to be answered}\n",
      "Answer: ${a short factoid answer, often between 1 and 5 words}\n",
      "rdemos:\n",
      "['Question: Which award did the first book of Gary Zukav receive?\\nAnswer: U.S. National Book Award']\n",
      "ademos:\n",
      "[]\n",
      "query:\n",
      "Question: Who has a broader scope of profession: E. L. Doctorow or Julia Peterkin?\n",
      "Answer: \n",
      "long_query:\n",
      "False\n",
      "------\n",
      "prompt\n",
      "model:\n",
      "gpt-3.5-turbo\n",
      "messages:\n",
      "{'role': 'system', 'content': 'Answer questions with short factoid answers.'}\n",
      "{'role': 'user', 'content': 'Follow the following format.\\n\\nQuestion: ${the question to be answered}\\nAnswer: ${a short factoid answer, often between 1 and 5 words}\\n\\n---\\n\\nQuestion: Which award did the first book of Gary Zukav receive?\\nAnswer: U.S. National Book Award\\n\\nQuestion: Who has a broader scope of profession: E. L. Doctorow or Julia Peterkin?\\nAnswer:'}\n"
     ]
    }
   ],
   "source": [
    "dsp.settings.configure(lm=turbo, rm=rm)\n",
    "\n",
    "example = dsp.Example(question=question, demos=demos)\n",
    "parts = qa_template(example)\n",
    "prompt = chat_adapter(parts, system_turn=True, multi_turn=False, strict_turn=False)\n",
    "\n",
    "print(\"------\")\n",
    "print(\"parts\")\n",
    "for k, v in parts.items():\n",
    "    print(k+\":\")\n",
    "    print(v)\n",
    "\n",
    "print(\"------\")\n",
    "print(\"prompt\")\n",
    "for k, v in prompt.items():\n",
    "    print(k+\":\")\n",
    "    if k==\"messages\":\n",
    "        for turn in v:\n",
    "            print(turn)\n",
    "    else:\n",
    "        print(v)"
   ]
  },
  {
   "cell_type": "code",
   "execution_count": null,
   "id": "3a48c9d7",
   "metadata": {},
   "outputs": [],
   "source": [
    "multihop_QA_v1(dev[0].question), lm.inspect_history(n=3)"
   ]
  },
  {
   "cell_type": "code",
   "execution_count": null,
   "id": "6ecc2bc1",
   "metadata": {
    "scrolled": true
   },
   "outputs": [],
   "source": [
    "evaluate(multihop_QA_v1, dev)"
   ]
  },
  {
   "cell_type": "markdown",
   "id": "b84c96db",
   "metadata": {},
   "source": [
    "### Chat Adapter with system_turn=False, multi_turn=True, strict_turn=True"
   ]
  },
  {
   "cell_type": "code",
   "execution_count": 16,
   "id": "c8b82312",
   "metadata": {
    "scrolled": true
   },
   "outputs": [
    {
     "name": "stdout",
     "output_type": "stream",
     "text": [
      "------\n",
      "parts\n",
      "instructions:\n",
      "Answer questions with short factoid answers.\n",
      "guidelines:\n",
      "Follow the following format.\n",
      "\n",
      "Question: ${the question to be answered}\n",
      "Answer: ${a short factoid answer, often between 1 and 5 words}\n",
      "rdemos:\n",
      "['Question: Which award did the first book of Gary Zukav receive?\\nAnswer: U.S. National Book Award']\n",
      "ademos:\n",
      "[]\n",
      "query:\n",
      "Question: Who has a broader scope of profession: E. L. Doctorow or Julia Peterkin?\n",
      "Answer: \n",
      "long_query:\n",
      "False\n",
      "------\n",
      "prompt\n",
      "model:\n",
      "gpt-3.5-turbo\n",
      "messages:\n",
      "{'role': 'user', 'content': 'Answer questions with short factoid answers.'}\n",
      "{'role': 'assistant', 'content': 'Got it.'}\n",
      "{'role': 'user', 'content': 'Follow the following format.\\n\\nQuestion: ${the question to be answered}\\nAnswer: ${a short factoid answer, often between 1 and 5 words}'}\n",
      "{'role': 'assistant', 'content': 'Got it.'}\n",
      "{'role': 'user', 'content': 'Question: Which award did the first book of Gary Zukav receive?\\nAnswer: U.S. National Book Award'}\n",
      "{'role': 'assistant', 'content': 'Got it.'}\n",
      "{'role': 'user', 'content': 'Question: Who has a broader scope of profession: E. L. Doctorow or Julia Peterkin?\\nAnswer:'}\n"
     ]
    }
   ],
   "source": [
    "dsp.settings.configure(lm=turbo, rm=rm)\n",
    "\n",
    "example = dsp.Example(question=question, demos=demos)\n",
    "parts = qa_template(example)\n",
    "prompt = chat_adapter(parts, system_turn=False, multi_turn=True, strict_turn=True)\n",
    "\n",
    "print(\"------\")\n",
    "print(\"parts\")\n",
    "for k, v in parts.items():\n",
    "    print(k+\":\")\n",
    "    print(v)\n",
    "\n",
    "print(\"------\")\n",
    "print(\"prompt\")\n",
    "for k, v in prompt.items():\n",
    "    print(k+\":\")\n",
    "    if k==\"messages\":\n",
    "        for turn in v:\n",
    "            print(turn)\n",
    "    else:\n",
    "        print(v)"
   ]
  },
  {
   "cell_type": "code",
   "execution_count": null,
   "id": "224cedc8",
   "metadata": {},
   "outputs": [],
   "source": [
    "multihop_QA_v1(dev[2].question), lm.inspect_history(n=3)"
   ]
  },
  {
   "cell_type": "code",
   "execution_count": null,
   "id": "03b0eabd",
   "metadata": {
    "scrolled": true
   },
   "outputs": [],
   "source": [
    "evaluate(multihop_QA_v1, dev)"
   ]
  },
  {
   "cell_type": "markdown",
   "id": "dd8ca727",
   "metadata": {},
   "source": [
    "### Chat Adapter with system_turn=False, multi_turn=True, strict_turn=False"
   ]
  },
  {
   "cell_type": "code",
   "execution_count": 18,
   "id": "506b26bd",
   "metadata": {
    "scrolled": true
   },
   "outputs": [
    {
     "name": "stdout",
     "output_type": "stream",
     "text": [
      "------\n",
      "parts\n",
      "instructions:\n",
      "Answer questions with short factoid answers.\n",
      "guidelines:\n",
      "Follow the following format.\n",
      "\n",
      "Question: ${the question to be answered}\n",
      "Answer: ${a short factoid answer, often between 1 and 5 words}\n",
      "rdemos:\n",
      "['Question: Which award did the first book of Gary Zukav receive?\\nAnswer: U.S. National Book Award']\n",
      "ademos:\n",
      "[]\n",
      "query:\n",
      "Question: Who has a broader scope of profession: E. L. Doctorow or Julia Peterkin?\n",
      "Answer: \n",
      "long_query:\n",
      "False\n",
      "------\n",
      "prompt\n",
      "model:\n",
      "gpt-3.5-turbo\n",
      "messages:\n",
      "{'role': 'user', 'content': 'Answer questions with short factoid answers.'}\n",
      "{'role': 'user', 'content': 'Follow the following format.\\n\\nQuestion: ${the question to be answered}\\nAnswer: ${a short factoid answer, often between 1 and 5 words}'}\n",
      "{'role': 'user', 'content': 'Question: Which award did the first book of Gary Zukav receive?\\nAnswer: U.S. National Book Award'}\n",
      "{'role': 'user', 'content': 'Question: Who has a broader scope of profession: E. L. Doctorow or Julia Peterkin?\\nAnswer:'}\n"
     ]
    }
   ],
   "source": [
    "dsp.settings.configure(lm=turbo, rm=rm)\n",
    "\n",
    "example = dsp.Example(question=question, demos=demos)\n",
    "parts = qa_template(example)\n",
    "prompt = chat_adapter(parts, system_turn=False, multi_turn=True, strict_turn=False)\n",
    "\n",
    "print(\"------\")\n",
    "print(\"parts\")\n",
    "for k, v in parts.items():\n",
    "    print(k+\":\")\n",
    "    print(v)\n",
    "\n",
    "print(\"------\")\n",
    "print(\"prompt\")\n",
    "for k, v in prompt.items():\n",
    "    print(k+\":\")\n",
    "    if k==\"messages\":\n",
    "        for turn in v:\n",
    "            print(turn)\n",
    "    else:\n",
    "        print(v)"
   ]
  },
  {
   "cell_type": "code",
   "execution_count": null,
   "id": "7e026c2b",
   "metadata": {},
   "outputs": [],
   "source": [
    "multihop_QA_v1(dev[0].question), lm.inspect_history(n=3)"
   ]
  },
  {
   "cell_type": "code",
   "execution_count": null,
   "id": "67245457",
   "metadata": {
    "scrolled": true
   },
   "outputs": [],
   "source": [
    "evaluate(multihop_QA_v1, dev)"
   ]
  },
  {
   "cell_type": "markdown",
   "id": "db3abba6",
   "metadata": {},
   "source": [
    "### Chat Adapter with system_turn=False, multi_turn=False, strict_turn=True"
   ]
  },
  {
   "cell_type": "code",
   "execution_count": 19,
   "id": "f118b76f",
   "metadata": {
    "scrolled": true
   },
   "outputs": [
    {
     "name": "stdout",
     "output_type": "stream",
     "text": [
      "------\n",
      "parts\n",
      "instructions:\n",
      "Answer questions with short factoid answers.\n",
      "guidelines:\n",
      "Follow the following format.\n",
      "\n",
      "Question: ${the question to be answered}\n",
      "Answer: ${a short factoid answer, often between 1 and 5 words}\n",
      "rdemos:\n",
      "['Question: Which award did the first book of Gary Zukav receive?\\nAnswer: U.S. National Book Award']\n",
      "ademos:\n",
      "[]\n",
      "query:\n",
      "Question: Who has a broader scope of profession: E. L. Doctorow or Julia Peterkin?\n",
      "Answer: \n",
      "long_query:\n",
      "False\n",
      "------\n",
      "prompt\n",
      "model:\n",
      "gpt-3.5-turbo\n",
      "messages:\n",
      "{'role': 'user', 'content': 'Answer questions with short factoid answers.\\n\\n---\\n\\nFollow the following format.\\n\\nQuestion: ${the question to be answered}\\nAnswer: ${a short factoid answer, often between 1 and 5 words}\\n\\n---\\n\\nQuestion: Which award did the first book of Gary Zukav receive?\\nAnswer: U.S. National Book Award\\n\\nQuestion: Who has a broader scope of profession: E. L. Doctorow or Julia Peterkin?\\nAnswer:'}\n"
     ]
    }
   ],
   "source": [
    "dsp.settings.configure(lm=turbo, rm=rm)\n",
    "\n",
    "example = dsp.Example(question=question, demos=demos)\n",
    "parts = qa_template(example)\n",
    "prompt = chat_adapter(parts, system_turn=False, multi_turn=False, strict_turn=True)\n",
    "\n",
    "print(\"------\")\n",
    "print(\"parts\")\n",
    "for k, v in parts.items():\n",
    "    print(k+\":\")\n",
    "    print(v)\n",
    "\n",
    "print(\"------\")\n",
    "print(\"prompt\")\n",
    "for k, v in prompt.items():\n",
    "    print(k+\":\")\n",
    "    if k==\"messages\":\n",
    "        for turn in v:\n",
    "            print(turn)\n",
    "    else:\n",
    "        print(v)"
   ]
  },
  {
   "cell_type": "code",
   "execution_count": null,
   "id": "f7100717",
   "metadata": {},
   "outputs": [],
   "source": [
    "multihop_QA_v1(dev[0].question), lm.inspect_history(n=3)"
   ]
  },
  {
   "cell_type": "code",
   "execution_count": null,
   "id": "45bc97bf",
   "metadata": {
    "scrolled": true
   },
   "outputs": [],
   "source": [
    "evaluate(multihop_QA_v1, dev)"
   ]
  },
  {
   "cell_type": "markdown",
   "id": "d42f3eae",
   "metadata": {},
   "source": [
    "### Chat Adapter with system_turn=False, multi_turn=False, strict_turn=False"
   ]
  },
  {
   "cell_type": "code",
   "execution_count": 20,
   "id": "a59d4cda",
   "metadata": {
    "scrolled": true
   },
   "outputs": [
    {
     "name": "stdout",
     "output_type": "stream",
     "text": [
      "------\n",
      "parts\n",
      "instructions:\n",
      "Answer questions with short factoid answers.\n",
      "guidelines:\n",
      "Follow the following format.\n",
      "\n",
      "Question: ${the question to be answered}\n",
      "Answer: ${a short factoid answer, often between 1 and 5 words}\n",
      "rdemos:\n",
      "['Question: Which award did the first book of Gary Zukav receive?\\nAnswer: U.S. National Book Award']\n",
      "ademos:\n",
      "[]\n",
      "query:\n",
      "Question: Who has a broader scope of profession: E. L. Doctorow or Julia Peterkin?\n",
      "Answer: \n",
      "long_query:\n",
      "False\n",
      "------\n",
      "prompt\n",
      "model:\n",
      "gpt-3.5-turbo\n",
      "messages:\n",
      "{'role': 'user', 'content': 'Answer questions with short factoid answers.\\n\\n---\\n\\nFollow the following format.\\n\\nQuestion: ${the question to be answered}\\nAnswer: ${a short factoid answer, often between 1 and 5 words}\\n\\n---\\n\\nQuestion: Which award did the first book of Gary Zukav receive?\\nAnswer: U.S. National Book Award\\n\\nQuestion: Who has a broader scope of profession: E. L. Doctorow or Julia Peterkin?\\nAnswer:'}\n"
     ]
    }
   ],
   "source": [
    "dsp.settings.configure(lm=turbo, rm=rm)\n",
    "\n",
    "example = dsp.Example(question=question, demos=demos)\n",
    "parts = qa_template(example)\n",
    "prompt = chat_adapter(parts, system_turn=False, multi_turn=False, strict_turn=False)\n",
    "\n",
    "print(\"------\")\n",
    "print(\"parts\")\n",
    "for k, v in parts.items():\n",
    "    print(k+\":\")\n",
    "    print(v)\n",
    "\n",
    "print(\"------\")\n",
    "print(\"prompt\")\n",
    "for k, v in prompt.items():\n",
    "    print(k+\":\")\n",
    "    if k==\"messages\":\n",
    "        for turn in v:\n",
    "            print(turn)\n",
    "    else:\n",
    "        print(v)"
   ]
  },
  {
   "cell_type": "code",
   "execution_count": null,
   "id": "52286120",
   "metadata": {},
   "outputs": [],
   "source": [
    "multihop_QA_v1(dev[2].question), lm.inspect_history(n=3)"
   ]
  },
  {
   "cell_type": "code",
   "execution_count": null,
   "id": "63024c89",
   "metadata": {
    "scrolled": true
   },
   "outputs": [],
   "source": [
    "evaluate(multihop_QA_v1, dev)"
   ]
  },
  {
   "cell_type": "markdown",
   "id": "d2a7cdc0",
   "metadata": {},
   "source": [
    "## Testing Chat Adapter Flags with no demos"
   ]
  },
  {
   "cell_type": "markdown",
   "id": "d82128c6",
   "metadata": {},
   "source": [
    "### Chat Adapter with system_turn=True, multi_turn=True, strict_turn=True"
   ]
  },
  {
   "cell_type": "code",
   "execution_count": 23,
   "id": "78647f45",
   "metadata": {
    "scrolled": true
   },
   "outputs": [
    {
     "name": "stdout",
     "output_type": "stream",
     "text": [
      "------\n",
      "parts\n",
      "instructions:\n",
      "Answer questions with short factoid answers.\n",
      "guidelines:\n",
      "Follow the following format.\n",
      "\n",
      "Question: ${the question to be answered}\n",
      "Answer: ${a short factoid answer, often between 1 and 5 words}\n",
      "rdemos:\n",
      "[]\n",
      "ademos:\n",
      "[]\n",
      "query:\n",
      "Question: Who has a broader scope of profession: E. L. Doctorow or Julia Peterkin?\n",
      "Answer: \n",
      "long_query:\n",
      "False\n",
      "------\n",
      "prompt\n",
      "model:\n",
      "gpt-3.5-turbo\n",
      "messages:\n",
      "{'role': 'system', 'content': 'Answer questions with short factoid answers.'}\n",
      "{'role': 'user', 'content': 'Follow the following format.\\n\\nQuestion: ${the question to be answered}\\nAnswer: ${a short factoid answer, often between 1 and 5 words}'}\n",
      "{'role': 'assistant', 'content': 'Got it.'}\n",
      "{'role': 'user', 'content': 'Question: Who has a broader scope of profession: E. L. Doctorow or Julia Peterkin?\\nAnswer:'}\n"
     ]
    }
   ],
   "source": [
    "dsp.settings.configure(lm=turbo, rm=rm)\n",
    "\n",
    "example = dsp.Example(question=question)\n",
    "parts = qa_template(example)\n",
    "prompt = chat_adapter(parts, system_turn=True, multi_turn=True, strict_turn=True)\n",
    "\n",
    "print(\"------\")\n",
    "print(\"parts\")\n",
    "for k, v in parts.items():\n",
    "    print(k+\":\")\n",
    "    print(v)\n",
    "\n",
    "print(\"------\")\n",
    "print(\"prompt\")\n",
    "for k, v in prompt.items():\n",
    "    print(k+\":\")\n",
    "    if k==\"messages\":\n",
    "        for turn in v:\n",
    "            print(turn)\n",
    "    else:\n",
    "        print(v)"
   ]
  },
  {
   "cell_type": "code",
   "execution_count": null,
   "id": "eef44a58",
   "metadata": {},
   "outputs": [],
   "source": [
    "multihop_QA_v1(dev[0].question), lm.inspect_history(n=3)"
   ]
  },
  {
   "cell_type": "code",
   "execution_count": null,
   "id": "5c65d712",
   "metadata": {
    "scrolled": true
   },
   "outputs": [],
   "source": [
    "evaluate(multihop_QA_v1, dev)"
   ]
  },
  {
   "cell_type": "markdown",
   "id": "97817087",
   "metadata": {},
   "source": [
    "### Chat Adapter with system_turn=True, multi_turn=True, strict_turn=False"
   ]
  },
  {
   "cell_type": "code",
   "execution_count": 24,
   "id": "53dcf32b",
   "metadata": {
    "scrolled": true
   },
   "outputs": [
    {
     "name": "stdout",
     "output_type": "stream",
     "text": [
      "------\n",
      "parts\n",
      "instructions:\n",
      "Answer questions with short factoid answers.\n",
      "guidelines:\n",
      "Follow the following format.\n",
      "\n",
      "Question: ${the question to be answered}\n",
      "Answer: ${a short factoid answer, often between 1 and 5 words}\n",
      "rdemos:\n",
      "[]\n",
      "ademos:\n",
      "[]\n",
      "query:\n",
      "Question: Who has a broader scope of profession: E. L. Doctorow or Julia Peterkin?\n",
      "Answer: \n",
      "long_query:\n",
      "False\n",
      "------\n",
      "prompt\n",
      "model:\n",
      "gpt-3.5-turbo\n",
      "messages:\n",
      "{'role': 'system', 'content': 'Answer questions with short factoid answers.'}\n",
      "{'role': 'user', 'content': 'Follow the following format.\\n\\nQuestion: ${the question to be answered}\\nAnswer: ${a short factoid answer, often between 1 and 5 words}'}\n",
      "{'role': 'user', 'content': 'Question: Who has a broader scope of profession: E. L. Doctorow or Julia Peterkin?\\nAnswer:'}\n"
     ]
    }
   ],
   "source": [
    "dsp.settings.configure(lm=turbo, rm=rm)\n",
    "\n",
    "example = dsp.Example(question=question)\n",
    "parts = qa_template(example)\n",
    "prompt = chat_adapter(parts, system_turn=True, multi_turn=True, strict_turn=False)\n",
    "\n",
    "print(\"------\")\n",
    "print(\"parts\")\n",
    "for k, v in parts.items():\n",
    "    print(k+\":\")\n",
    "    print(v)\n",
    "\n",
    "print(\"------\")\n",
    "print(\"prompt\")\n",
    "for k, v in prompt.items():\n",
    "    print(k+\":\")\n",
    "    if k==\"messages\":\n",
    "        for turn in v:\n",
    "            print(turn)\n",
    "    else:\n",
    "        print(v)"
   ]
  },
  {
   "cell_type": "code",
   "execution_count": null,
   "id": "bc39b74a",
   "metadata": {},
   "outputs": [],
   "source": [
    "multihop_QA_v1(dev[0].question), lm.inspect_history(n=3)"
   ]
  },
  {
   "cell_type": "code",
   "execution_count": null,
   "id": "f853dd23",
   "metadata": {
    "scrolled": true
   },
   "outputs": [],
   "source": [
    "evaluate(multihop_QA_v1, dev)"
   ]
  },
  {
   "cell_type": "markdown",
   "id": "b7eebd98",
   "metadata": {},
   "source": [
    "### Chat Adapter with system_turn=True, multi_turn=False, strict_turn=True"
   ]
  },
  {
   "cell_type": "code",
   "execution_count": 25,
   "id": "c32aea4d",
   "metadata": {
    "scrolled": true
   },
   "outputs": [
    {
     "name": "stdout",
     "output_type": "stream",
     "text": [
      "------\n",
      "parts\n",
      "instructions:\n",
      "Answer questions with short factoid answers.\n",
      "guidelines:\n",
      "Follow the following format.\n",
      "\n",
      "Question: ${the question to be answered}\n",
      "Answer: ${a short factoid answer, often between 1 and 5 words}\n",
      "rdemos:\n",
      "[]\n",
      "ademos:\n",
      "[]\n",
      "query:\n",
      "Question: Who has a broader scope of profession: E. L. Doctorow or Julia Peterkin?\n",
      "Answer: \n",
      "long_query:\n",
      "False\n",
      "------\n",
      "prompt\n",
      "model:\n",
      "gpt-3.5-turbo\n",
      "messages:\n",
      "{'role': 'system', 'content': 'Answer questions with short factoid answers.'}\n",
      "{'role': 'user', 'content': 'Follow the following format.\\n\\nQuestion: ${the question to be answered}\\nAnswer: ${a short factoid answer, often between 1 and 5 words}\\n\\n---\\n\\nQuestion: Who has a broader scope of profession: E. L. Doctorow or Julia Peterkin?\\nAnswer:'}\n"
     ]
    }
   ],
   "source": [
    "dsp.settings.configure(lm=turbo, rm=rm)\n",
    "\n",
    "example = dsp.Example(question=question)\n",
    "parts = qa_template(example)\n",
    "prompt = chat_adapter(parts, system_turn=True, multi_turn=False, strict_turn=True)\n",
    "\n",
    "print(\"------\")\n",
    "print(\"parts\")\n",
    "for k, v in parts.items():\n",
    "    print(k+\":\")\n",
    "    print(v)\n",
    "\n",
    "print(\"------\")\n",
    "print(\"prompt\")\n",
    "for k, v in prompt.items():\n",
    "    print(k+\":\")\n",
    "    if k==\"messages\":\n",
    "        for turn in v:\n",
    "            print(turn)\n",
    "    else:\n",
    "        print(v)"
   ]
  },
  {
   "cell_type": "code",
   "execution_count": null,
   "id": "44b4e883",
   "metadata": {},
   "outputs": [],
   "source": [
    "multihop_QA_v1(dev[0].question), lm.inspect_history(n=3)"
   ]
  },
  {
   "cell_type": "code",
   "execution_count": null,
   "id": "1dab8a6d",
   "metadata": {
    "scrolled": true
   },
   "outputs": [],
   "source": [
    "evaluate(multihop_QA_v1, dev)"
   ]
  },
  {
   "cell_type": "markdown",
   "id": "f1aa3943",
   "metadata": {},
   "source": [
    "### Chat Adapter with system_turn=True, multi_turn=False, strict_turn=False"
   ]
  },
  {
   "cell_type": "code",
   "execution_count": 26,
   "id": "bd0c5cfd",
   "metadata": {
    "scrolled": true
   },
   "outputs": [
    {
     "name": "stdout",
     "output_type": "stream",
     "text": [
      "------\n",
      "parts\n",
      "instructions:\n",
      "Answer questions with short factoid answers.\n",
      "guidelines:\n",
      "Follow the following format.\n",
      "\n",
      "Question: ${the question to be answered}\n",
      "Answer: ${a short factoid answer, often between 1 and 5 words}\n",
      "rdemos:\n",
      "[]\n",
      "ademos:\n",
      "[]\n",
      "query:\n",
      "Question: Who has a broader scope of profession: E. L. Doctorow or Julia Peterkin?\n",
      "Answer: \n",
      "long_query:\n",
      "False\n",
      "------\n",
      "prompt\n",
      "model:\n",
      "gpt-3.5-turbo\n",
      "messages:\n",
      "{'role': 'system', 'content': 'Answer questions with short factoid answers.'}\n",
      "{'role': 'user', 'content': 'Follow the following format.\\n\\nQuestion: ${the question to be answered}\\nAnswer: ${a short factoid answer, often between 1 and 5 words}\\n\\n---\\n\\nQuestion: Who has a broader scope of profession: E. L. Doctorow or Julia Peterkin?\\nAnswer:'}\n"
     ]
    }
   ],
   "source": [
    "dsp.settings.configure(lm=turbo, rm=rm)\n",
    "\n",
    "example = dsp.Example(question=question)\n",
    "parts = qa_template(example)\n",
    "prompt = chat_adapter(parts, system_turn=True, multi_turn=False, strict_turn=False)\n",
    "\n",
    "print(\"------\")\n",
    "print(\"parts\")\n",
    "for k, v in parts.items():\n",
    "    print(k+\":\")\n",
    "    print(v)\n",
    "\n",
    "print(\"------\")\n",
    "print(\"prompt\")\n",
    "for k, v in prompt.items():\n",
    "    print(k+\":\")\n",
    "    if k==\"messages\":\n",
    "        for turn in v:\n",
    "            print(turn)\n",
    "    else:\n",
    "        print(v)"
   ]
  },
  {
   "cell_type": "code",
   "execution_count": null,
   "id": "638e934e",
   "metadata": {},
   "outputs": [],
   "source": [
    "multihop_QA_v1(dev[0].question), lm.inspect_history(n=3)"
   ]
  },
  {
   "cell_type": "code",
   "execution_count": null,
   "id": "f7a27bf7",
   "metadata": {
    "scrolled": true
   },
   "outputs": [],
   "source": [
    "evaluate(multihop_QA_v1, dev)"
   ]
  },
  {
   "cell_type": "markdown",
   "id": "ebd4bbee",
   "metadata": {},
   "source": [
    "### Chat Adapter with system_turn=False, multi_turn=True, strict_turn=True"
   ]
  },
  {
   "cell_type": "code",
   "execution_count": 27,
   "id": "ad3ab210",
   "metadata": {
    "scrolled": true
   },
   "outputs": [
    {
     "name": "stdout",
     "output_type": "stream",
     "text": [
      "------\n",
      "parts\n",
      "instructions:\n",
      "Answer questions with short factoid answers.\n",
      "guidelines:\n",
      "Follow the following format.\n",
      "\n",
      "Question: ${the question to be answered}\n",
      "Answer: ${a short factoid answer, often between 1 and 5 words}\n",
      "rdemos:\n",
      "[]\n",
      "ademos:\n",
      "[]\n",
      "query:\n",
      "Question: Who has a broader scope of profession: E. L. Doctorow or Julia Peterkin?\n",
      "Answer: \n",
      "long_query:\n",
      "False\n",
      "------\n",
      "prompt\n",
      "model:\n",
      "gpt-3.5-turbo\n",
      "messages:\n",
      "{'role': 'user', 'content': 'Answer questions with short factoid answers.'}\n",
      "{'role': 'assistant', 'content': 'Got it.'}\n",
      "{'role': 'user', 'content': 'Follow the following format.\\n\\nQuestion: ${the question to be answered}\\nAnswer: ${a short factoid answer, often between 1 and 5 words}'}\n",
      "{'role': 'assistant', 'content': 'Got it.'}\n",
      "{'role': 'user', 'content': 'Question: Who has a broader scope of profession: E. L. Doctorow or Julia Peterkin?\\nAnswer:'}\n"
     ]
    }
   ],
   "source": [
    "dsp.settings.configure(lm=turbo, rm=rm)\n",
    "\n",
    "example = dsp.Example(question=question)\n",
    "parts = qa_template(example)\n",
    "prompt = chat_adapter(parts, system_turn=False, multi_turn=True, strict_turn=True)\n",
    "\n",
    "print(\"------\")\n",
    "print(\"parts\")\n",
    "for k, v in parts.items():\n",
    "    print(k+\":\")\n",
    "    print(v)\n",
    "\n",
    "print(\"------\")\n",
    "print(\"prompt\")\n",
    "for k, v in prompt.items():\n",
    "    print(k+\":\")\n",
    "    if k==\"messages\":\n",
    "        for turn in v:\n",
    "            print(turn)\n",
    "    else:\n",
    "        print(v)"
   ]
  },
  {
   "cell_type": "code",
   "execution_count": null,
   "id": "e333e7f9",
   "metadata": {},
   "outputs": [],
   "source": [
    "retrieve_then_read_QA_v2(dev[2].question), lm.inspect_history(n=1)"
   ]
  },
  {
   "cell_type": "code",
   "execution_count": null,
   "id": "a7d40d54",
   "metadata": {
    "scrolled": true
   },
   "outputs": [],
   "source": [
    "evaluate(retrieve_then_read_QA_v2, dev)"
   ]
  },
  {
   "cell_type": "code",
   "execution_count": null,
   "id": "5e175adb",
   "metadata": {},
   "outputs": [],
   "source": [
    "multihop_QA_v1(dev[0].question), lm.inspect_history(n=3)"
   ]
  },
  {
   "cell_type": "code",
   "execution_count": null,
   "id": "6a4bf9b3",
   "metadata": {
    "scrolled": true
   },
   "outputs": [],
   "source": [
    "evaluate(multihop_QA_v1, dev)"
   ]
  },
  {
   "cell_type": "markdown",
   "id": "472d3746",
   "metadata": {},
   "source": [
    "### Chat Adapter with system_turn=False, multi_turn=True, strict_turn=False"
   ]
  },
  {
   "cell_type": "code",
   "execution_count": 28,
   "id": "3db09848",
   "metadata": {
    "scrolled": true
   },
   "outputs": [
    {
     "name": "stdout",
     "output_type": "stream",
     "text": [
      "------\n",
      "parts\n",
      "instructions:\n",
      "Answer questions with short factoid answers.\n",
      "guidelines:\n",
      "Follow the following format.\n",
      "\n",
      "Question: ${the question to be answered}\n",
      "Answer: ${a short factoid answer, often between 1 and 5 words}\n",
      "rdemos:\n",
      "[]\n",
      "ademos:\n",
      "[]\n",
      "query:\n",
      "Question: Who has a broader scope of profession: E. L. Doctorow or Julia Peterkin?\n",
      "Answer: \n",
      "long_query:\n",
      "False\n",
      "------\n",
      "prompt\n",
      "model:\n",
      "gpt-3.5-turbo\n",
      "messages:\n",
      "{'role': 'user', 'content': 'Answer questions with short factoid answers.'}\n",
      "{'role': 'user', 'content': 'Follow the following format.\\n\\nQuestion: ${the question to be answered}\\nAnswer: ${a short factoid answer, often between 1 and 5 words}'}\n",
      "{'role': 'user', 'content': 'Question: Who has a broader scope of profession: E. L. Doctorow or Julia Peterkin?\\nAnswer:'}\n"
     ]
    }
   ],
   "source": [
    "dsp.settings.configure(lm=turbo, rm=rm)\n",
    "\n",
    "example = dsp.Example(question=question)\n",
    "parts = qa_template(example)\n",
    "prompt = chat_adapter(parts, system_turn=False, multi_turn=True, strict_turn=False)\n",
    "\n",
    "print(\"------\")\n",
    "print(\"parts\")\n",
    "for k, v in parts.items():\n",
    "    print(k+\":\")\n",
    "    print(v)\n",
    "\n",
    "print(\"------\")\n",
    "print(\"prompt\")\n",
    "for k, v in prompt.items():\n",
    "    print(k+\":\")\n",
    "    if k==\"messages\":\n",
    "        for turn in v:\n",
    "            print(turn)\n",
    "    else:\n",
    "        print(v)"
   ]
  },
  {
   "cell_type": "code",
   "execution_count": null,
   "id": "df463b77",
   "metadata": {},
   "outputs": [],
   "source": [
    "retrieve_then_read_QA_v2(dev[2].question), lm.inspect_history(n=1)"
   ]
  },
  {
   "cell_type": "code",
   "execution_count": null,
   "id": "351cb211",
   "metadata": {
    "scrolled": true
   },
   "outputs": [],
   "source": [
    "evaluate(retrieve_then_read_QA_v2, dev)"
   ]
  },
  {
   "cell_type": "code",
   "execution_count": null,
   "id": "c6524062",
   "metadata": {},
   "outputs": [],
   "source": [
    "multihop_QA_v1(dev[0].question), lm.inspect_history(n=3)"
   ]
  },
  {
   "cell_type": "code",
   "execution_count": null,
   "id": "599c46fc",
   "metadata": {
    "scrolled": true
   },
   "outputs": [],
   "source": [
    "evaluate(multihop_QA_v1, dev)"
   ]
  },
  {
   "cell_type": "markdown",
   "id": "10ceb8ca",
   "metadata": {},
   "source": [
    "### Chat Adapter with system_turn=False, multi_turn=False, strict_turn=True"
   ]
  },
  {
   "cell_type": "code",
   "execution_count": 29,
   "id": "2a5f4a8a",
   "metadata": {
    "scrolled": true
   },
   "outputs": [
    {
     "name": "stdout",
     "output_type": "stream",
     "text": [
      "------\n",
      "parts\n",
      "instructions:\n",
      "Answer questions with short factoid answers.\n",
      "guidelines:\n",
      "Follow the following format.\n",
      "\n",
      "Question: ${the question to be answered}\n",
      "Answer: ${a short factoid answer, often between 1 and 5 words}\n",
      "rdemos:\n",
      "['Question: Which award did the first book of Gary Zukav receive?\\nAnswer: U.S. National Book Award']\n",
      "ademos:\n",
      "[]\n",
      "query:\n",
      "Question: Who has a broader scope of profession: E. L. Doctorow or Julia Peterkin?\n",
      "Answer: \n",
      "long_query:\n",
      "False\n",
      "------\n",
      "prompt\n",
      "model:\n",
      "gpt-3.5-turbo\n",
      "messages:\n",
      "{'role': 'user', 'content': 'Answer questions with short factoid answers.\\n\\n---\\n\\nFollow the following format.\\n\\nQuestion: ${the question to be answered}\\nAnswer: ${a short factoid answer, often between 1 and 5 words}\\n\\n---\\n\\nQuestion: Which award did the first book of Gary Zukav receive?\\nAnswer: U.S. National Book Award\\n\\nQuestion: Who has a broader scope of profession: E. L. Doctorow or Julia Peterkin?\\nAnswer:'}\n"
     ]
    }
   ],
   "source": [
    "dsp.settings.configure(lm=turbo, rm=rm)\n",
    "\n",
    "example = dsp.Example(question=question, demos=demos)\n",
    "parts = qa_template(example)\n",
    "prompt = chat_adapter(parts, system_turn=False, multi_turn=False, strict_turn=True)\n",
    "\n",
    "print(\"------\")\n",
    "print(\"parts\")\n",
    "for k, v in parts.items():\n",
    "    print(k+\":\")\n",
    "    print(v)\n",
    "\n",
    "print(\"------\")\n",
    "print(\"prompt\")\n",
    "for k, v in prompt.items():\n",
    "    print(k+\":\")\n",
    "    if k==\"messages\":\n",
    "        for turn in v:\n",
    "            print(turn)\n",
    "    else:\n",
    "        print(v)"
   ]
  },
  {
   "cell_type": "code",
   "execution_count": null,
   "id": "2e1a9971",
   "metadata": {},
   "outputs": [],
   "source": [
    "multihop_QA_v1(dev[0].question), lm.inspect_history(n=3)"
   ]
  },
  {
   "cell_type": "code",
   "execution_count": null,
   "id": "df120414",
   "metadata": {
    "scrolled": true
   },
   "outputs": [],
   "source": [
    "evaluate(multihop_QA_v1, dev)"
   ]
  },
  {
   "cell_type": "markdown",
   "id": "b737157e",
   "metadata": {},
   "source": [
    "### Chat Adapter with system_turn=False, multi_turn=False, strict_turn=False"
   ]
  },
  {
   "cell_type": "code",
   "execution_count": 30,
   "id": "cf64e759",
   "metadata": {
    "scrolled": true
   },
   "outputs": [
    {
     "name": "stdout",
     "output_type": "stream",
     "text": [
      "------\n",
      "parts\n",
      "instructions:\n",
      "Answer questions with short factoid answers.\n",
      "guidelines:\n",
      "Follow the following format.\n",
      "\n",
      "Question: ${the question to be answered}\n",
      "Answer: ${a short factoid answer, often between 1 and 5 words}\n",
      "rdemos:\n",
      "['Question: Which award did the first book of Gary Zukav receive?\\nAnswer: U.S. National Book Award']\n",
      "ademos:\n",
      "[]\n",
      "query:\n",
      "Question: Who has a broader scope of profession: E. L. Doctorow or Julia Peterkin?\n",
      "Answer: \n",
      "long_query:\n",
      "False\n",
      "------\n",
      "prompt\n",
      "model:\n",
      "gpt-3.5-turbo\n",
      "messages:\n",
      "{'role': 'user', 'content': 'Answer questions with short factoid answers.\\n\\n---\\n\\nFollow the following format.\\n\\nQuestion: ${the question to be answered}\\nAnswer: ${a short factoid answer, often between 1 and 5 words}\\n\\n---\\n\\nQuestion: Which award did the first book of Gary Zukav receive?\\nAnswer: U.S. National Book Award\\n\\nQuestion: Who has a broader scope of profession: E. L. Doctorow or Julia Peterkin?\\nAnswer:'}\n"
     ]
    }
   ],
   "source": [
    "dsp.settings.configure(lm=turbo, rm=rm)\n",
    "\n",
    "example = dsp.Example(question=question, demos=demos)\n",
    "parts = qa_template(example)\n",
    "prompt = chat_adapter(parts, system_turn=False, multi_turn=False, strict_turn=False)\n",
    "\n",
    "print(\"------\")\n",
    "print(\"parts\")\n",
    "for k, v in parts.items():\n",
    "    print(k+\":\")\n",
    "    print(v)\n",
    "\n",
    "print(\"------\")\n",
    "print(\"prompt\")\n",
    "for k, v in prompt.items():\n",
    "    print(k+\":\")\n",
    "    if k==\"messages\":\n",
    "        for turn in v:\n",
    "            print(turn)\n",
    "    else:\n",
    "        print(v)"
   ]
  },
  {
   "cell_type": "code",
   "execution_count": null,
   "id": "01925cc7",
   "metadata": {},
   "outputs": [],
   "source": [
    "multihop_QA_v1(dev[0].question), lm.inspect_history(n=3)"
   ]
  },
  {
   "cell_type": "code",
   "execution_count": null,
   "id": "2e3fcbf5",
   "metadata": {
    "scrolled": true
   },
   "outputs": [],
   "source": [
    "evaluate(multihop_QA_v1, dev)"
   ]
  },
  {
   "cell_type": "markdown",
   "id": "1713188e",
   "metadata": {},
   "source": [
    "# Program 5: Multi-Hop Condensed Retrieval w/ Automatic Demos and Query Fusion"
   ]
  },
  {
   "cell_type": "code",
   "execution_count": 9,
   "id": "b0296117",
   "metadata": {},
   "outputs": [],
   "source": [
    "SearchRationale = dsp.Type(\n",
    "    prefix=\"Rationale: Let's think step by step. To answer this question, we first need to find out\",\n",
    "    desc=\"${the missing information}\"\n",
    ")\n",
    "\n",
    "SearchQuery = dsp.Type(\n",
    "    prefix=\"Search Query:\",\n",
    "    desc=\"${a simple question for seeking the missing information}\"\n",
    ")\n",
    "\n",
    "rewrite_template = dsp.Template(\n",
    "    instructions=\"Write a search query that will help answer a complex question.\",\n",
    "    question=Question(), rationale=SearchRationale(), query=SearchQuery()\n",
    ")"
   ]
  },
  {
   "cell_type": "code",
   "execution_count": null,
   "id": "48dc8ef9",
   "metadata": {},
   "outputs": [],
   "source": [
    "CondenseRationale = dsp.Type(\n",
    "    prefix=\"Rationale: Let's think step by step. Based on the context, we have learned the following.\",\n",
    "    desc=\"${information from the context that provides useful clues}\"\n",
    ")\n",
    "\n",
    "hop_template = dsp.Template(\n",
    "    instructions=rewrite_template.instructions,\n",
    "    context=Context(), question=Question(), rationale=CondenseRationale(), query=SearchQuery()\n",
    ")"
   ]
  },
  {
   "cell_type": "code",
   "execution_count": null,
   "id": "4fdb752a",
   "metadata": {},
   "outputs": [],
   "source": [
    "from dsp.evaluation.utils import evaluate\n",
    "from dsp.utils import deduplicate\n",
    "\n",
    "@dsp.transformation\n",
    "def multihop_attempt(d: dsp.Example) -> dsp.Example:\n",
    "    # Prepare unaugmented demonstrations for the example.\n",
    "    x = dsp.Example(question=d.question, demos=dsp.all_but(train, d))\n",
    "    \n",
    "    # Search. And skip examples where search fails.\n",
    "    # Annotate demonstrations for multihop_search_v2 with the simpler multihop_search_v1 pipeline.\n",
    "    x = multihop_search_v1(x)\n",
    "    if not dsp.passage_match(x.context, d.answer): return None\n",
    "    \n",
    "    # Predict. And skip examples where predict fails.\n",
    "    x = QA_predict(x, sc=False)\n",
    "    if not dsp.answer_match(x.answer, d.answer): return None\n",
    "    \n",
    "    return d.copy(**x)\n",
    "\n",
    "@dsp.transformation\n",
    "def multihop_demonstrate(x: dsp.Example) -> dsp.Example:\n",
    "    demos = dsp.sample(train, k=7)\n",
    "    x.demos = dsp.annotate(multihop_attempt)(demos, k=3, return_all=True)\n",
    "    return x"
   ]
  },
  {
   "cell_type": "code",
   "execution_count": null,
   "id": "7aae81a6",
   "metadata": {},
   "outputs": [],
   "source": [
    "@dsp.transformation\n",
    "def multihop_search_v2(example: dsp.Example, max_hops=2, k=5) -> dsp.Example:\n",
    "    example.context = []\n",
    "\n",
    "    for hop in range(max_hops):\n",
    "        # Generate queries\n",
    "        template = rewrite_template if hop == 0 else hop_template\n",
    "        example, completions = dsp.generate(template, n=10, temperature=0.7)(example, stage=f'h{hop}')\n",
    "        \n",
    "        # Collect the queries and search with result fusion\n",
    "        queries = [c.query for c in completions] + [example.question]\n",
    "        example.context = dsp.retrieveEnsemble(queries, k=k)\n",
    "\n",
    "        # Arrange the passages for the next hop\n",
    "        if hop > 0:\n",
    "            example.context = [completions[0].rationale] + example.context\n",
    "    \n",
    "    return example\n",
    "\n",
    "def multihop_QA_v2(question: str) -> str:\n",
    "    x = dsp.Example(question=question)\n",
    "    x = multihop_demonstrate(x)\n",
    "    x = multihop_search_v2(x)\n",
    "    x = QA_predict(x)\n",
    "    return x.answer"
   ]
  },
  {
   "cell_type": "markdown",
   "id": "db438290",
   "metadata": {},
   "source": [
    "## Testing Chat Adapter Flags with demos"
   ]
  },
  {
   "cell_type": "markdown",
   "id": "09f1952f",
   "metadata": {},
   "source": [
    "### Chat Adapter with system_turn=True, multi_turn=True, strict_turn=True"
   ]
  },
  {
   "cell_type": "code",
   "execution_count": 10,
   "id": "2932bbc8",
   "metadata": {
    "scrolled": true
   },
   "outputs": [
    {
     "name": "stdout",
     "output_type": "stream",
     "text": [
      "------\n",
      "parts\n",
      "instructions:\n",
      "Answer questions with short factoid answers.\n",
      "guidelines:\n",
      "Follow the following format.\n",
      "\n",
      "Question: ${the question to be answered}\n",
      "Answer: ${a short factoid answer, often between 1 and 5 words}\n",
      "rdemos:\n",
      "['Question: Which award did the first book of Gary Zukav receive?\\nAnswer: U.S. National Book Award']\n",
      "ademos:\n",
      "[]\n",
      "query:\n",
      "Question: Who has a broader scope of profession: E. L. Doctorow or Julia Peterkin?\n",
      "Answer: \n",
      "long_query:\n",
      "False\n",
      "------\n",
      "prompt\n",
      "model:\n",
      "gpt-3.5-turbo\n",
      "messages:\n",
      "{'role': 'system', 'content': 'Answer questions with short factoid answers.'}\n",
      "{'role': 'user', 'content': 'Follow the following format.\\n\\nQuestion: ${the question to be answered}\\nAnswer: ${a short factoid answer, often between 1 and 5 words}'}\n",
      "{'role': 'assistant', 'content': 'Got it.'}\n",
      "{'role': 'user', 'content': 'Question: Which award did the first book of Gary Zukav receive?\\nAnswer: U.S. National Book Award'}\n",
      "{'role': 'assistant', 'content': 'Got it.'}\n",
      "{'role': 'user', 'content': 'Question: Who has a broader scope of profession: E. L. Doctorow or Julia Peterkin?\\nAnswer:'}\n"
     ]
    }
   ],
   "source": [
    "dsp.settings.configure(lm=turbo, rm=rm)\n",
    "\n",
    "example = dsp.Example(question=question, demos=demos)\n",
    "parts = qa_template(example)\n",
    "prompt = chat_adapter(parts, system_turn=True, multi_turn=True, strict_turn=True)\n",
    "\n",
    "print(\"------\")\n",
    "print(\"parts\")\n",
    "for k, v in parts.items():\n",
    "    print(k+\":\")\n",
    "    print(v)\n",
    "\n",
    "print(\"------\")\n",
    "print(\"prompt\")\n",
    "for k, v in prompt.items():\n",
    "    print(k+\":\")\n",
    "    if k==\"messages\":\n",
    "        for turn in v:\n",
    "            print(turn)\n",
    "    else:\n",
    "        print(v)"
   ]
  },
  {
   "cell_type": "code",
   "execution_count": null,
   "id": "0e3fe6b1",
   "metadata": {},
   "outputs": [],
   "source": [
    "multihop_QA_v2(dev[0].question), lm.inspect_history(n=3)"
   ]
  },
  {
   "cell_type": "code",
   "execution_count": null,
   "id": "3f7da510",
   "metadata": {
    "scrolled": true
   },
   "outputs": [],
   "source": [
    "evaluate(multihop_QA_v2, dev)"
   ]
  },
  {
   "cell_type": "markdown",
   "id": "09c22c9b",
   "metadata": {},
   "source": [
    "### Chat Adapter with system_turn=True, multi_turn=True, strict_turn=False"
   ]
  },
  {
   "cell_type": "code",
   "execution_count": 12,
   "id": "413909bb",
   "metadata": {
    "scrolled": true
   },
   "outputs": [
    {
     "name": "stdout",
     "output_type": "stream",
     "text": [
      "------\n",
      "parts\n",
      "instructions:\n",
      "Answer questions with short factoid answers.\n",
      "guidelines:\n",
      "Follow the following format.\n",
      "\n",
      "Question: ${the question to be answered}\n",
      "Answer: ${a short factoid answer, often between 1 and 5 words}\n",
      "rdemos:\n",
      "['Question: Which award did the first book of Gary Zukav receive?\\nAnswer: U.S. National Book Award']\n",
      "ademos:\n",
      "[]\n",
      "query:\n",
      "Question: Who has a broader scope of profession: E. L. Doctorow or Julia Peterkin?\n",
      "Answer: \n",
      "long_query:\n",
      "False\n",
      "------\n",
      "prompt\n",
      "model:\n",
      "gpt-3.5-turbo\n",
      "messages:\n",
      "{'role': 'system', 'content': 'Answer questions with short factoid answers.'}\n",
      "{'role': 'user', 'content': 'Follow the following format.\\n\\nQuestion: ${the question to be answered}\\nAnswer: ${a short factoid answer, often between 1 and 5 words}'}\n",
      "{'role': 'user', 'content': 'Question: Which award did the first book of Gary Zukav receive?\\nAnswer: U.S. National Book Award'}\n",
      "{'role': 'user', 'content': 'Question: Who has a broader scope of profession: E. L. Doctorow or Julia Peterkin?\\nAnswer:'}\n"
     ]
    }
   ],
   "source": [
    "dsp.settings.configure(lm=turbo, rm=rm)\n",
    "\n",
    "example = dsp.Example(question=question, demos=demos)\n",
    "parts = qa_template(example)\n",
    "prompt = chat_adapter(parts, system_turn=True, multi_turn=True, strict_turn=False)\n",
    "\n",
    "print(\"------\")\n",
    "print(\"parts\")\n",
    "for k, v in parts.items():\n",
    "    print(k+\":\")\n",
    "    print(v)\n",
    "\n",
    "print(\"------\")\n",
    "print(\"prompt\")\n",
    "for k, v in prompt.items():\n",
    "    print(k+\":\")\n",
    "    if k==\"messages\":\n",
    "        for turn in v:\n",
    "            print(turn)\n",
    "    else:\n",
    "        print(v)"
   ]
  },
  {
   "cell_type": "code",
   "execution_count": null,
   "id": "5430f810",
   "metadata": {},
   "outputs": [],
   "source": [
    "multihop_QA_v2(dev[0].question), lm.inspect_history(n=3)"
   ]
  },
  {
   "cell_type": "code",
   "execution_count": null,
   "id": "83c033f9",
   "metadata": {
    "scrolled": true
   },
   "outputs": [],
   "source": [
    "evaluate(multihop_QA_v2, dev)"
   ]
  },
  {
   "cell_type": "markdown",
   "id": "54ae04a2",
   "metadata": {},
   "source": [
    "### Chat Adapter with system_turn=True, multi_turn=False, strict_turn=True"
   ]
  },
  {
   "cell_type": "code",
   "execution_count": 13,
   "id": "6e95978a",
   "metadata": {
    "scrolled": true
   },
   "outputs": [
    {
     "name": "stdout",
     "output_type": "stream",
     "text": [
      "------\n",
      "parts\n",
      "instructions:\n",
      "Answer questions with short factoid answers.\n",
      "guidelines:\n",
      "Follow the following format.\n",
      "\n",
      "Question: ${the question to be answered}\n",
      "Answer: ${a short factoid answer, often between 1 and 5 words}\n",
      "rdemos:\n",
      "['Question: Which award did the first book of Gary Zukav receive?\\nAnswer: U.S. National Book Award']\n",
      "ademos:\n",
      "[]\n",
      "query:\n",
      "Question: Who has a broader scope of profession: E. L. Doctorow or Julia Peterkin?\n",
      "Answer: \n",
      "long_query:\n",
      "False\n",
      "------\n",
      "prompt\n",
      "model:\n",
      "gpt-3.5-turbo\n",
      "messages:\n",
      "{'role': 'system', 'content': 'Answer questions with short factoid answers.'}\n",
      "{'role': 'user', 'content': 'Follow the following format.\\n\\nQuestion: ${the question to be answered}\\nAnswer: ${a short factoid answer, often between 1 and 5 words}\\n\\n---\\n\\nQuestion: Which award did the first book of Gary Zukav receive?\\nAnswer: U.S. National Book Award\\n\\nQuestion: Who has a broader scope of profession: E. L. Doctorow or Julia Peterkin?\\nAnswer:'}\n"
     ]
    }
   ],
   "source": [
    "dsp.settings.configure(lm=turbo, rm=rm)\n",
    "\n",
    "example = dsp.Example(question=question, demos=demos)\n",
    "parts = qa_template(example)\n",
    "prompt = chat_adapter(parts, system_turn=True, multi_turn=False, strict_turn=True)\n",
    "\n",
    "print(\"------\")\n",
    "print(\"parts\")\n",
    "for k, v in parts.items():\n",
    "    print(k+\":\")\n",
    "    print(v)\n",
    "\n",
    "print(\"------\")\n",
    "print(\"prompt\")\n",
    "for k, v in prompt.items():\n",
    "    print(k+\":\")\n",
    "    if k==\"messages\":\n",
    "        for turn in v:\n",
    "            print(turn)\n",
    "    else:\n",
    "        print(v)"
   ]
  },
  {
   "cell_type": "code",
   "execution_count": null,
   "id": "a9829eaa",
   "metadata": {},
   "outputs": [],
   "source": [
    "multihop_QA_v2(dev[0].question), lm.inspect_history(n=3)"
   ]
  },
  {
   "cell_type": "code",
   "execution_count": null,
   "id": "39e49b0e",
   "metadata": {
    "scrolled": true
   },
   "outputs": [],
   "source": [
    "evaluate(multihop_QA_v2, dev)"
   ]
  },
  {
   "cell_type": "markdown",
   "id": "36232aa2",
   "metadata": {},
   "source": [
    "### Chat Adapter with system_turn=True, multi_turn=False, strict_turn=False"
   ]
  },
  {
   "cell_type": "code",
   "execution_count": 14,
   "id": "dbbcd450",
   "metadata": {
    "scrolled": true
   },
   "outputs": [
    {
     "name": "stdout",
     "output_type": "stream",
     "text": [
      "------\n",
      "parts\n",
      "instructions:\n",
      "Answer questions with short factoid answers.\n",
      "guidelines:\n",
      "Follow the following format.\n",
      "\n",
      "Question: ${the question to be answered}\n",
      "Answer: ${a short factoid answer, often between 1 and 5 words}\n",
      "rdemos:\n",
      "['Question: Which award did the first book of Gary Zukav receive?\\nAnswer: U.S. National Book Award']\n",
      "ademos:\n",
      "[]\n",
      "query:\n",
      "Question: Who has a broader scope of profession: E. L. Doctorow or Julia Peterkin?\n",
      "Answer: \n",
      "long_query:\n",
      "False\n",
      "------\n",
      "prompt\n",
      "model:\n",
      "gpt-3.5-turbo\n",
      "messages:\n",
      "{'role': 'system', 'content': 'Answer questions with short factoid answers.'}\n",
      "{'role': 'user', 'content': 'Follow the following format.\\n\\nQuestion: ${the question to be answered}\\nAnswer: ${a short factoid answer, often between 1 and 5 words}\\n\\n---\\n\\nQuestion: Which award did the first book of Gary Zukav receive?\\nAnswer: U.S. National Book Award\\n\\nQuestion: Who has a broader scope of profession: E. L. Doctorow or Julia Peterkin?\\nAnswer:'}\n"
     ]
    }
   ],
   "source": [
    "dsp.settings.configure(lm=turbo, rm=rm)\n",
    "\n",
    "example = dsp.Example(question=question, demos=demos)\n",
    "parts = qa_template(example)\n",
    "prompt = chat_adapter(parts, system_turn=True, multi_turn=False, strict_turn=False)\n",
    "\n",
    "print(\"------\")\n",
    "print(\"parts\")\n",
    "for k, v in parts.items():\n",
    "    print(k+\":\")\n",
    "    print(v)\n",
    "\n",
    "print(\"------\")\n",
    "print(\"prompt\")\n",
    "for k, v in prompt.items():\n",
    "    print(k+\":\")\n",
    "    if k==\"messages\":\n",
    "        for turn in v:\n",
    "            print(turn)\n",
    "    else:\n",
    "        print(v)"
   ]
  },
  {
   "cell_type": "code",
   "execution_count": null,
   "id": "53b260e7",
   "metadata": {},
   "outputs": [],
   "source": [
    "multihop_QA_v2(dev[0].question), lm.inspect_history(n=3)"
   ]
  },
  {
   "cell_type": "code",
   "execution_count": null,
   "id": "95736624",
   "metadata": {
    "scrolled": true
   },
   "outputs": [],
   "source": [
    "evaluate(multihop_QA_v2, dev)"
   ]
  },
  {
   "cell_type": "markdown",
   "id": "0355100f",
   "metadata": {},
   "source": [
    "### Chat Adapter with system_turn=False, multi_turn=True, strict_turn=True"
   ]
  },
  {
   "cell_type": "code",
   "execution_count": 16,
   "id": "fe93d30e",
   "metadata": {
    "scrolled": true
   },
   "outputs": [
    {
     "name": "stdout",
     "output_type": "stream",
     "text": [
      "------\n",
      "parts\n",
      "instructions:\n",
      "Answer questions with short factoid answers.\n",
      "guidelines:\n",
      "Follow the following format.\n",
      "\n",
      "Question: ${the question to be answered}\n",
      "Answer: ${a short factoid answer, often between 1 and 5 words}\n",
      "rdemos:\n",
      "['Question: Which award did the first book of Gary Zukav receive?\\nAnswer: U.S. National Book Award']\n",
      "ademos:\n",
      "[]\n",
      "query:\n",
      "Question: Who has a broader scope of profession: E. L. Doctorow or Julia Peterkin?\n",
      "Answer: \n",
      "long_query:\n",
      "False\n",
      "------\n",
      "prompt\n",
      "model:\n",
      "gpt-3.5-turbo\n",
      "messages:\n",
      "{'role': 'user', 'content': 'Answer questions with short factoid answers.'}\n",
      "{'role': 'assistant', 'content': 'Got it.'}\n",
      "{'role': 'user', 'content': 'Follow the following format.\\n\\nQuestion: ${the question to be answered}\\nAnswer: ${a short factoid answer, often between 1 and 5 words}'}\n",
      "{'role': 'assistant', 'content': 'Got it.'}\n",
      "{'role': 'user', 'content': 'Question: Which award did the first book of Gary Zukav receive?\\nAnswer: U.S. National Book Award'}\n",
      "{'role': 'assistant', 'content': 'Got it.'}\n",
      "{'role': 'user', 'content': 'Question: Who has a broader scope of profession: E. L. Doctorow or Julia Peterkin?\\nAnswer:'}\n"
     ]
    }
   ],
   "source": [
    "dsp.settings.configure(lm=turbo, rm=rm)\n",
    "\n",
    "example = dsp.Example(question=question, demos=demos)\n",
    "parts = qa_template(example)\n",
    "prompt = chat_adapter(parts, system_turn=False, multi_turn=True, strict_turn=True)\n",
    "\n",
    "print(\"------\")\n",
    "print(\"parts\")\n",
    "for k, v in parts.items():\n",
    "    print(k+\":\")\n",
    "    print(v)\n",
    "\n",
    "print(\"------\")\n",
    "print(\"prompt\")\n",
    "for k, v in prompt.items():\n",
    "    print(k+\":\")\n",
    "    if k==\"messages\":\n",
    "        for turn in v:\n",
    "            print(turn)\n",
    "    else:\n",
    "        print(v)"
   ]
  },
  {
   "cell_type": "code",
   "execution_count": null,
   "id": "3da64c45",
   "metadata": {},
   "outputs": [],
   "source": [
    "multihop_QA_v2(dev[0].question), lm.inspect_history(n=3)"
   ]
  },
  {
   "cell_type": "code",
   "execution_count": null,
   "id": "5bd78157",
   "metadata": {
    "scrolled": true
   },
   "outputs": [],
   "source": [
    "evaluate(multihop_QA_v2, dev)"
   ]
  },
  {
   "cell_type": "markdown",
   "id": "3b74965c",
   "metadata": {},
   "source": [
    "### Chat Adapter with system_turn=False, multi_turn=True, strict_turn=False"
   ]
  },
  {
   "cell_type": "code",
   "execution_count": 18,
   "id": "9cbeddde",
   "metadata": {
    "scrolled": true
   },
   "outputs": [
    {
     "name": "stdout",
     "output_type": "stream",
     "text": [
      "------\n",
      "parts\n",
      "instructions:\n",
      "Answer questions with short factoid answers.\n",
      "guidelines:\n",
      "Follow the following format.\n",
      "\n",
      "Question: ${the question to be answered}\n",
      "Answer: ${a short factoid answer, often between 1 and 5 words}\n",
      "rdemos:\n",
      "['Question: Which award did the first book of Gary Zukav receive?\\nAnswer: U.S. National Book Award']\n",
      "ademos:\n",
      "[]\n",
      "query:\n",
      "Question: Who has a broader scope of profession: E. L. Doctorow or Julia Peterkin?\n",
      "Answer: \n",
      "long_query:\n",
      "False\n",
      "------\n",
      "prompt\n",
      "model:\n",
      "gpt-3.5-turbo\n",
      "messages:\n",
      "{'role': 'user', 'content': 'Answer questions with short factoid answers.'}\n",
      "{'role': 'user', 'content': 'Follow the following format.\\n\\nQuestion: ${the question to be answered}\\nAnswer: ${a short factoid answer, often between 1 and 5 words}'}\n",
      "{'role': 'user', 'content': 'Question: Which award did the first book of Gary Zukav receive?\\nAnswer: U.S. National Book Award'}\n",
      "{'role': 'user', 'content': 'Question: Who has a broader scope of profession: E. L. Doctorow or Julia Peterkin?\\nAnswer:'}\n"
     ]
    }
   ],
   "source": [
    "dsp.settings.configure(lm=turbo, rm=rm)\n",
    "\n",
    "example = dsp.Example(question=question, demos=demos)\n",
    "parts = qa_template(example)\n",
    "prompt = chat_adapter(parts, system_turn=False, multi_turn=True, strict_turn=False)\n",
    "\n",
    "print(\"------\")\n",
    "print(\"parts\")\n",
    "for k, v in parts.items():\n",
    "    print(k+\":\")\n",
    "    print(v)\n",
    "\n",
    "print(\"------\")\n",
    "print(\"prompt\")\n",
    "for k, v in prompt.items():\n",
    "    print(k+\":\")\n",
    "    if k==\"messages\":\n",
    "        for turn in v:\n",
    "            print(turn)\n",
    "    else:\n",
    "        print(v)"
   ]
  },
  {
   "cell_type": "code",
   "execution_count": null,
   "id": "56d54466",
   "metadata": {},
   "outputs": [],
   "source": [
    "multihop_QA_v2(dev[0].question), lm.inspect_history(n=3)"
   ]
  },
  {
   "cell_type": "code",
   "execution_count": null,
   "id": "deb0cfeb",
   "metadata": {
    "scrolled": true
   },
   "outputs": [],
   "source": [
    "evaluate(multihop_QA_v2, dev)"
   ]
  },
  {
   "cell_type": "markdown",
   "id": "11b65a44",
   "metadata": {},
   "source": [
    "### Chat Adapter with system_turn=False, multi_turn=False, strict_turn=True"
   ]
  },
  {
   "cell_type": "code",
   "execution_count": 19,
   "id": "2505775e",
   "metadata": {
    "scrolled": true
   },
   "outputs": [
    {
     "name": "stdout",
     "output_type": "stream",
     "text": [
      "------\n",
      "parts\n",
      "instructions:\n",
      "Answer questions with short factoid answers.\n",
      "guidelines:\n",
      "Follow the following format.\n",
      "\n",
      "Question: ${the question to be answered}\n",
      "Answer: ${a short factoid answer, often between 1 and 5 words}\n",
      "rdemos:\n",
      "['Question: Which award did the first book of Gary Zukav receive?\\nAnswer: U.S. National Book Award']\n",
      "ademos:\n",
      "[]\n",
      "query:\n",
      "Question: Who has a broader scope of profession: E. L. Doctorow or Julia Peterkin?\n",
      "Answer: \n",
      "long_query:\n",
      "False\n",
      "------\n",
      "prompt\n",
      "model:\n",
      "gpt-3.5-turbo\n",
      "messages:\n",
      "{'role': 'user', 'content': 'Answer questions with short factoid answers.\\n\\n---\\n\\nFollow the following format.\\n\\nQuestion: ${the question to be answered}\\nAnswer: ${a short factoid answer, often between 1 and 5 words}\\n\\n---\\n\\nQuestion: Which award did the first book of Gary Zukav receive?\\nAnswer: U.S. National Book Award\\n\\nQuestion: Who has a broader scope of profession: E. L. Doctorow or Julia Peterkin?\\nAnswer:'}\n"
     ]
    }
   ],
   "source": [
    "dsp.settings.configure(lm=turbo, rm=rm)\n",
    "\n",
    "example = dsp.Example(question=question, demos=demos)\n",
    "parts = qa_template(example)\n",
    "prompt = chat_adapter(parts, system_turn=False, multi_turn=False, strict_turn=True)\n",
    "\n",
    "print(\"------\")\n",
    "print(\"parts\")\n",
    "for k, v in parts.items():\n",
    "    print(k+\":\")\n",
    "    print(v)\n",
    "\n",
    "print(\"------\")\n",
    "print(\"prompt\")\n",
    "for k, v in prompt.items():\n",
    "    print(k+\":\")\n",
    "    if k==\"messages\":\n",
    "        for turn in v:\n",
    "            print(turn)\n",
    "    else:\n",
    "        print(v)"
   ]
  },
  {
   "cell_type": "code",
   "execution_count": null,
   "id": "e289141a",
   "metadata": {},
   "outputs": [],
   "source": [
    "multihop_QA_v2(dev[0].question), lm.inspect_history(n=3)"
   ]
  },
  {
   "cell_type": "code",
   "execution_count": null,
   "id": "ce292aa9",
   "metadata": {
    "scrolled": true
   },
   "outputs": [],
   "source": [
    "evaluate(multihop_QA_v2, dev)"
   ]
  },
  {
   "cell_type": "markdown",
   "id": "c586affd",
   "metadata": {},
   "source": [
    "### Chat Adapter with system_turn=False, multi_turn=False, strict_turn=False"
   ]
  },
  {
   "cell_type": "code",
   "execution_count": 20,
   "id": "b128cbc2",
   "metadata": {
    "scrolled": true
   },
   "outputs": [
    {
     "name": "stdout",
     "output_type": "stream",
     "text": [
      "------\n",
      "parts\n",
      "instructions:\n",
      "Answer questions with short factoid answers.\n",
      "guidelines:\n",
      "Follow the following format.\n",
      "\n",
      "Question: ${the question to be answered}\n",
      "Answer: ${a short factoid answer, often between 1 and 5 words}\n",
      "rdemos:\n",
      "['Question: Which award did the first book of Gary Zukav receive?\\nAnswer: U.S. National Book Award']\n",
      "ademos:\n",
      "[]\n",
      "query:\n",
      "Question: Who has a broader scope of profession: E. L. Doctorow or Julia Peterkin?\n",
      "Answer: \n",
      "long_query:\n",
      "False\n",
      "------\n",
      "prompt\n",
      "model:\n",
      "gpt-3.5-turbo\n",
      "messages:\n",
      "{'role': 'user', 'content': 'Answer questions with short factoid answers.\\n\\n---\\n\\nFollow the following format.\\n\\nQuestion: ${the question to be answered}\\nAnswer: ${a short factoid answer, often between 1 and 5 words}\\n\\n---\\n\\nQuestion: Which award did the first book of Gary Zukav receive?\\nAnswer: U.S. National Book Award\\n\\nQuestion: Who has a broader scope of profession: E. L. Doctorow or Julia Peterkin?\\nAnswer:'}\n"
     ]
    }
   ],
   "source": [
    "dsp.settings.configure(lm=turbo, rm=rm)\n",
    "\n",
    "example = dsp.Example(question=question, demos=demos)\n",
    "parts = qa_template(example)\n",
    "prompt = chat_adapter(parts, system_turn=False, multi_turn=False, strict_turn=False)\n",
    "\n",
    "print(\"------\")\n",
    "print(\"parts\")\n",
    "for k, v in parts.items():\n",
    "    print(k+\":\")\n",
    "    print(v)\n",
    "\n",
    "print(\"------\")\n",
    "print(\"prompt\")\n",
    "for k, v in prompt.items():\n",
    "    print(k+\":\")\n",
    "    if k==\"messages\":\n",
    "        for turn in v:\n",
    "            print(turn)\n",
    "    else:\n",
    "        print(v)"
   ]
  },
  {
   "cell_type": "code",
   "execution_count": null,
   "id": "35de47d8",
   "metadata": {},
   "outputs": [],
   "source": [
    "multihop_QA_v2(dev[0].question), lm.inspect_history(n=3)"
   ]
  },
  {
   "cell_type": "code",
   "execution_count": null,
   "id": "13824938",
   "metadata": {
    "scrolled": true
   },
   "outputs": [],
   "source": [
    "evaluate(multihop_QA_v2, dev)"
   ]
  },
  {
   "cell_type": "markdown",
   "id": "e772401e",
   "metadata": {},
   "source": [
    "## Testing Chat Adapter Flags with no demos"
   ]
  },
  {
   "cell_type": "markdown",
   "id": "35045b40",
   "metadata": {},
   "source": [
    "### Chat Adapter with system_turn=True, multi_turn=True, strict_turn=True"
   ]
  },
  {
   "cell_type": "code",
   "execution_count": 23,
   "id": "e7c6660e",
   "metadata": {
    "scrolled": true
   },
   "outputs": [
    {
     "name": "stdout",
     "output_type": "stream",
     "text": [
      "------\n",
      "parts\n",
      "instructions:\n",
      "Answer questions with short factoid answers.\n",
      "guidelines:\n",
      "Follow the following format.\n",
      "\n",
      "Question: ${the question to be answered}\n",
      "Answer: ${a short factoid answer, often between 1 and 5 words}\n",
      "rdemos:\n",
      "[]\n",
      "ademos:\n",
      "[]\n",
      "query:\n",
      "Question: Who has a broader scope of profession: E. L. Doctorow or Julia Peterkin?\n",
      "Answer: \n",
      "long_query:\n",
      "False\n",
      "------\n",
      "prompt\n",
      "model:\n",
      "gpt-3.5-turbo\n",
      "messages:\n",
      "{'role': 'system', 'content': 'Answer questions with short factoid answers.'}\n",
      "{'role': 'user', 'content': 'Follow the following format.\\n\\nQuestion: ${the question to be answered}\\nAnswer: ${a short factoid answer, often between 1 and 5 words}'}\n",
      "{'role': 'assistant', 'content': 'Got it.'}\n",
      "{'role': 'user', 'content': 'Question: Who has a broader scope of profession: E. L. Doctorow or Julia Peterkin?\\nAnswer:'}\n"
     ]
    }
   ],
   "source": [
    "dsp.settings.configure(lm=turbo, rm=rm)\n",
    "\n",
    "example = dsp.Example(question=question)\n",
    "parts = qa_template(example)\n",
    "prompt = chat_adapter(parts, system_turn=True, multi_turn=True, strict_turn=True)\n",
    "\n",
    "print(\"------\")\n",
    "print(\"parts\")\n",
    "for k, v in parts.items():\n",
    "    print(k+\":\")\n",
    "    print(v)\n",
    "\n",
    "print(\"------\")\n",
    "print(\"prompt\")\n",
    "for k, v in prompt.items():\n",
    "    print(k+\":\")\n",
    "    if k==\"messages\":\n",
    "        for turn in v:\n",
    "            print(turn)\n",
    "    else:\n",
    "        print(v)"
   ]
  },
  {
   "cell_type": "code",
   "execution_count": null,
   "id": "3aafb78a",
   "metadata": {},
   "outputs": [],
   "source": [
    "multihop_QA_v2(dev[0].question), lm.inspect_history(n=3)"
   ]
  },
  {
   "cell_type": "code",
   "execution_count": null,
   "id": "cc265344",
   "metadata": {
    "scrolled": true
   },
   "outputs": [],
   "source": [
    "evaluate(multihop_QA_v2, dev)"
   ]
  },
  {
   "cell_type": "markdown",
   "id": "94f216f8",
   "metadata": {},
   "source": [
    "### Chat Adapter with system_turn=True, multi_turn=True, strict_turn=False"
   ]
  },
  {
   "cell_type": "code",
   "execution_count": 24,
   "id": "567463da",
   "metadata": {
    "scrolled": true
   },
   "outputs": [
    {
     "name": "stdout",
     "output_type": "stream",
     "text": [
      "------\n",
      "parts\n",
      "instructions:\n",
      "Answer questions with short factoid answers.\n",
      "guidelines:\n",
      "Follow the following format.\n",
      "\n",
      "Question: ${the question to be answered}\n",
      "Answer: ${a short factoid answer, often between 1 and 5 words}\n",
      "rdemos:\n",
      "[]\n",
      "ademos:\n",
      "[]\n",
      "query:\n",
      "Question: Who has a broader scope of profession: E. L. Doctorow or Julia Peterkin?\n",
      "Answer: \n",
      "long_query:\n",
      "False\n",
      "------\n",
      "prompt\n",
      "model:\n",
      "gpt-3.5-turbo\n",
      "messages:\n",
      "{'role': 'system', 'content': 'Answer questions with short factoid answers.'}\n",
      "{'role': 'user', 'content': 'Follow the following format.\\n\\nQuestion: ${the question to be answered}\\nAnswer: ${a short factoid answer, often between 1 and 5 words}'}\n",
      "{'role': 'user', 'content': 'Question: Who has a broader scope of profession: E. L. Doctorow or Julia Peterkin?\\nAnswer:'}\n"
     ]
    }
   ],
   "source": [
    "dsp.settings.configure(lm=turbo, rm=rm)\n",
    "\n",
    "example = dsp.Example(question=question)\n",
    "parts = qa_template(example)\n",
    "prompt = chat_adapter(parts, system_turn=True, multi_turn=True, strict_turn=False)\n",
    "\n",
    "print(\"------\")\n",
    "print(\"parts\")\n",
    "for k, v in parts.items():\n",
    "    print(k+\":\")\n",
    "    print(v)\n",
    "\n",
    "print(\"------\")\n",
    "print(\"prompt\")\n",
    "for k, v in prompt.items():\n",
    "    print(k+\":\")\n",
    "    if k==\"messages\":\n",
    "        for turn in v:\n",
    "            print(turn)\n",
    "    else:\n",
    "        print(v)"
   ]
  },
  {
   "cell_type": "code",
   "execution_count": null,
   "id": "b42e0bde",
   "metadata": {},
   "outputs": [],
   "source": [
    "multihop_QA_v2(dev[0].question), lm.inspect_history(n=3)"
   ]
  },
  {
   "cell_type": "code",
   "execution_count": null,
   "id": "1e86a117",
   "metadata": {
    "scrolled": true
   },
   "outputs": [],
   "source": [
    "evaluate(multihop_QA_v2, dev)"
   ]
  },
  {
   "cell_type": "markdown",
   "id": "10032898",
   "metadata": {},
   "source": [
    "### Chat Adapter with system_turn=True, multi_turn=False, strict_turn=True"
   ]
  },
  {
   "cell_type": "code",
   "execution_count": 25,
   "id": "3fca8cb0",
   "metadata": {
    "scrolled": true
   },
   "outputs": [
    {
     "name": "stdout",
     "output_type": "stream",
     "text": [
      "------\n",
      "parts\n",
      "instructions:\n",
      "Answer questions with short factoid answers.\n",
      "guidelines:\n",
      "Follow the following format.\n",
      "\n",
      "Question: ${the question to be answered}\n",
      "Answer: ${a short factoid answer, often between 1 and 5 words}\n",
      "rdemos:\n",
      "[]\n",
      "ademos:\n",
      "[]\n",
      "query:\n",
      "Question: Who has a broader scope of profession: E. L. Doctorow or Julia Peterkin?\n",
      "Answer: \n",
      "long_query:\n",
      "False\n",
      "------\n",
      "prompt\n",
      "model:\n",
      "gpt-3.5-turbo\n",
      "messages:\n",
      "{'role': 'system', 'content': 'Answer questions with short factoid answers.'}\n",
      "{'role': 'user', 'content': 'Follow the following format.\\n\\nQuestion: ${the question to be answered}\\nAnswer: ${a short factoid answer, often between 1 and 5 words}\\n\\n---\\n\\nQuestion: Who has a broader scope of profession: E. L. Doctorow or Julia Peterkin?\\nAnswer:'}\n"
     ]
    }
   ],
   "source": [
    "dsp.settings.configure(lm=turbo, rm=rm)\n",
    "\n",
    "example = dsp.Example(question=question)\n",
    "parts = qa_template(example)\n",
    "prompt = chat_adapter(parts, system_turn=True, multi_turn=False, strict_turn=True)\n",
    "\n",
    "print(\"------\")\n",
    "print(\"parts\")\n",
    "for k, v in parts.items():\n",
    "    print(k+\":\")\n",
    "    print(v)\n",
    "\n",
    "print(\"------\")\n",
    "print(\"prompt\")\n",
    "for k, v in prompt.items():\n",
    "    print(k+\":\")\n",
    "    if k==\"messages\":\n",
    "        for turn in v:\n",
    "            print(turn)\n",
    "    else:\n",
    "        print(v)"
   ]
  },
  {
   "cell_type": "code",
   "execution_count": null,
   "id": "62b16a97",
   "metadata": {},
   "outputs": [],
   "source": [
    "multihop_QA_v2(dev[0].question), lm.inspect_history(n=3)"
   ]
  },
  {
   "cell_type": "code",
   "execution_count": null,
   "id": "bf53d30f",
   "metadata": {
    "scrolled": true
   },
   "outputs": [],
   "source": [
    "evaluate(multihop_QA_v2, dev)"
   ]
  },
  {
   "cell_type": "markdown",
   "id": "c6b6e6f3",
   "metadata": {},
   "source": [
    "### Chat Adapter with system_turn=True, multi_turn=False, strict_turn=False"
   ]
  },
  {
   "cell_type": "code",
   "execution_count": 26,
   "id": "f74c26b1",
   "metadata": {
    "scrolled": true
   },
   "outputs": [
    {
     "name": "stdout",
     "output_type": "stream",
     "text": [
      "------\n",
      "parts\n",
      "instructions:\n",
      "Answer questions with short factoid answers.\n",
      "guidelines:\n",
      "Follow the following format.\n",
      "\n",
      "Question: ${the question to be answered}\n",
      "Answer: ${a short factoid answer, often between 1 and 5 words}\n",
      "rdemos:\n",
      "[]\n",
      "ademos:\n",
      "[]\n",
      "query:\n",
      "Question: Who has a broader scope of profession: E. L. Doctorow or Julia Peterkin?\n",
      "Answer: \n",
      "long_query:\n",
      "False\n",
      "------\n",
      "prompt\n",
      "model:\n",
      "gpt-3.5-turbo\n",
      "messages:\n",
      "{'role': 'system', 'content': 'Answer questions with short factoid answers.'}\n",
      "{'role': 'user', 'content': 'Follow the following format.\\n\\nQuestion: ${the question to be answered}\\nAnswer: ${a short factoid answer, often between 1 and 5 words}\\n\\n---\\n\\nQuestion: Who has a broader scope of profession: E. L. Doctorow or Julia Peterkin?\\nAnswer:'}\n"
     ]
    }
   ],
   "source": [
    "dsp.settings.configure(lm=turbo, rm=rm)\n",
    "\n",
    "example = dsp.Example(question=question)\n",
    "parts = qa_template(example)\n",
    "prompt = chat_adapter(parts, system_turn=True, multi_turn=False, strict_turn=False)\n",
    "\n",
    "print(\"------\")\n",
    "print(\"parts\")\n",
    "for k, v in parts.items():\n",
    "    print(k+\":\")\n",
    "    print(v)\n",
    "\n",
    "print(\"------\")\n",
    "print(\"prompt\")\n",
    "for k, v in prompt.items():\n",
    "    print(k+\":\")\n",
    "    if k==\"messages\":\n",
    "        for turn in v:\n",
    "            print(turn)\n",
    "    else:\n",
    "        print(v)"
   ]
  },
  {
   "cell_type": "code",
   "execution_count": null,
   "id": "bcf3df4e",
   "metadata": {},
   "outputs": [],
   "source": [
    "multihop_QA_v2(dev[0].question), lm.inspect_history(n=3)"
   ]
  },
  {
   "cell_type": "code",
   "execution_count": null,
   "id": "967ce3fd",
   "metadata": {
    "scrolled": true
   },
   "outputs": [],
   "source": [
    "evaluate(multihop_QA_v2, dev)"
   ]
  },
  {
   "cell_type": "markdown",
   "id": "6b92b415",
   "metadata": {},
   "source": [
    "### Chat Adapter with system_turn=False, multi_turn=True, strict_turn=True"
   ]
  },
  {
   "cell_type": "code",
   "execution_count": 27,
   "id": "e9642095",
   "metadata": {
    "scrolled": true
   },
   "outputs": [
    {
     "name": "stdout",
     "output_type": "stream",
     "text": [
      "------\n",
      "parts\n",
      "instructions:\n",
      "Answer questions with short factoid answers.\n",
      "guidelines:\n",
      "Follow the following format.\n",
      "\n",
      "Question: ${the question to be answered}\n",
      "Answer: ${a short factoid answer, often between 1 and 5 words}\n",
      "rdemos:\n",
      "[]\n",
      "ademos:\n",
      "[]\n",
      "query:\n",
      "Question: Who has a broader scope of profession: E. L. Doctorow or Julia Peterkin?\n",
      "Answer: \n",
      "long_query:\n",
      "False\n",
      "------\n",
      "prompt\n",
      "model:\n",
      "gpt-3.5-turbo\n",
      "messages:\n",
      "{'role': 'user', 'content': 'Answer questions with short factoid answers.'}\n",
      "{'role': 'assistant', 'content': 'Got it.'}\n",
      "{'role': 'user', 'content': 'Follow the following format.\\n\\nQuestion: ${the question to be answered}\\nAnswer: ${a short factoid answer, often between 1 and 5 words}'}\n",
      "{'role': 'assistant', 'content': 'Got it.'}\n",
      "{'role': 'user', 'content': 'Question: Who has a broader scope of profession: E. L. Doctorow or Julia Peterkin?\\nAnswer:'}\n"
     ]
    }
   ],
   "source": [
    "dsp.settings.configure(lm=turbo, rm=rm)\n",
    "\n",
    "example = dsp.Example(question=question)\n",
    "parts = qa_template(example)\n",
    "prompt = chat_adapter(parts, system_turn=False, multi_turn=True, strict_turn=True)\n",
    "\n",
    "print(\"------\")\n",
    "print(\"parts\")\n",
    "for k, v in parts.items():\n",
    "    print(k+\":\")\n",
    "    print(v)\n",
    "\n",
    "print(\"------\")\n",
    "print(\"prompt\")\n",
    "for k, v in prompt.items():\n",
    "    print(k+\":\")\n",
    "    if k==\"messages\":\n",
    "        for turn in v:\n",
    "            print(turn)\n",
    "    else:\n",
    "        print(v)"
   ]
  },
  {
   "cell_type": "code",
   "execution_count": null,
   "id": "23cffcbf",
   "metadata": {},
   "outputs": [],
   "source": [
    "multihop_QA_v2(dev[0].question), lm.inspect_history(n=3)"
   ]
  },
  {
   "cell_type": "code",
   "execution_count": null,
   "id": "fab57778",
   "metadata": {
    "scrolled": true
   },
   "outputs": [],
   "source": [
    "evaluate(multihop_QA_v2, dev)"
   ]
  },
  {
   "cell_type": "markdown",
   "id": "d7b44481",
   "metadata": {},
   "source": [
    "### Chat Adapter with system_turn=False, multi_turn=True, strict_turn=False"
   ]
  },
  {
   "cell_type": "code",
   "execution_count": 28,
   "id": "1f79ad40",
   "metadata": {
    "scrolled": true
   },
   "outputs": [
    {
     "name": "stdout",
     "output_type": "stream",
     "text": [
      "------\n",
      "parts\n",
      "instructions:\n",
      "Answer questions with short factoid answers.\n",
      "guidelines:\n",
      "Follow the following format.\n",
      "\n",
      "Question: ${the question to be answered}\n",
      "Answer: ${a short factoid answer, often between 1 and 5 words}\n",
      "rdemos:\n",
      "[]\n",
      "ademos:\n",
      "[]\n",
      "query:\n",
      "Question: Who has a broader scope of profession: E. L. Doctorow or Julia Peterkin?\n",
      "Answer: \n",
      "long_query:\n",
      "False\n",
      "------\n",
      "prompt\n",
      "model:\n",
      "gpt-3.5-turbo\n",
      "messages:\n",
      "{'role': 'user', 'content': 'Answer questions with short factoid answers.'}\n",
      "{'role': 'user', 'content': 'Follow the following format.\\n\\nQuestion: ${the question to be answered}\\nAnswer: ${a short factoid answer, often between 1 and 5 words}'}\n",
      "{'role': 'user', 'content': 'Question: Who has a broader scope of profession: E. L. Doctorow or Julia Peterkin?\\nAnswer:'}\n"
     ]
    }
   ],
   "source": [
    "dsp.settings.configure(lm=turbo, rm=rm)\n",
    "\n",
    "example = dsp.Example(question=question)\n",
    "parts = qa_template(example)\n",
    "prompt = chat_adapter(parts, system_turn=False, multi_turn=True, strict_turn=False)\n",
    "\n",
    "print(\"------\")\n",
    "print(\"parts\")\n",
    "for k, v in parts.items():\n",
    "    print(k+\":\")\n",
    "    print(v)\n",
    "\n",
    "print(\"------\")\n",
    "print(\"prompt\")\n",
    "for k, v in prompt.items():\n",
    "    print(k+\":\")\n",
    "    if k==\"messages\":\n",
    "        for turn in v:\n",
    "            print(turn)\n",
    "    else:\n",
    "        print(v)"
   ]
  },
  {
   "cell_type": "code",
   "execution_count": null,
   "id": "3d0f3b8b",
   "metadata": {},
   "outputs": [],
   "source": [
    "multihop_QA_v2(dev[0].question), lm.inspect_history(n=3)"
   ]
  },
  {
   "cell_type": "code",
   "execution_count": null,
   "id": "9c3ac358",
   "metadata": {
    "scrolled": true
   },
   "outputs": [],
   "source": [
    "evaluate(multihop_QA_v2, dev)"
   ]
  },
  {
   "cell_type": "markdown",
   "id": "48463205",
   "metadata": {},
   "source": [
    "### Chat Adapter with system_turn=False, multi_turn=False, strict_turn=True"
   ]
  },
  {
   "cell_type": "code",
   "execution_count": 29,
   "id": "561251fc",
   "metadata": {
    "scrolled": true
   },
   "outputs": [
    {
     "name": "stdout",
     "output_type": "stream",
     "text": [
      "------\n",
      "parts\n",
      "instructions:\n",
      "Answer questions with short factoid answers.\n",
      "guidelines:\n",
      "Follow the following format.\n",
      "\n",
      "Question: ${the question to be answered}\n",
      "Answer: ${a short factoid answer, often between 1 and 5 words}\n",
      "rdemos:\n",
      "['Question: Which award did the first book of Gary Zukav receive?\\nAnswer: U.S. National Book Award']\n",
      "ademos:\n",
      "[]\n",
      "query:\n",
      "Question: Who has a broader scope of profession: E. L. Doctorow or Julia Peterkin?\n",
      "Answer: \n",
      "long_query:\n",
      "False\n",
      "------\n",
      "prompt\n",
      "model:\n",
      "gpt-3.5-turbo\n",
      "messages:\n",
      "{'role': 'user', 'content': 'Answer questions with short factoid answers.\\n\\n---\\n\\nFollow the following format.\\n\\nQuestion: ${the question to be answered}\\nAnswer: ${a short factoid answer, often between 1 and 5 words}\\n\\n---\\n\\nQuestion: Which award did the first book of Gary Zukav receive?\\nAnswer: U.S. National Book Award\\n\\nQuestion: Who has a broader scope of profession: E. L. Doctorow or Julia Peterkin?\\nAnswer:'}\n"
     ]
    }
   ],
   "source": [
    "dsp.settings.configure(lm=turbo, rm=rm)\n",
    "\n",
    "example = dsp.Example(question=question, demos=demos)\n",
    "parts = qa_template(example)\n",
    "prompt = chat_adapter(parts, system_turn=False, multi_turn=False, strict_turn=True)\n",
    "\n",
    "print(\"------\")\n",
    "print(\"parts\")\n",
    "for k, v in parts.items():\n",
    "    print(k+\":\")\n",
    "    print(v)\n",
    "\n",
    "print(\"------\")\n",
    "print(\"prompt\")\n",
    "for k, v in prompt.items():\n",
    "    print(k+\":\")\n",
    "    if k==\"messages\":\n",
    "        for turn in v:\n",
    "            print(turn)\n",
    "    else:\n",
    "        print(v)"
   ]
  },
  {
   "cell_type": "code",
   "execution_count": null,
   "id": "f4250efe",
   "metadata": {},
   "outputs": [],
   "source": [
    "multihop_QA_v2(dev[0].question), lm.inspect_history(n=3)"
   ]
  },
  {
   "cell_type": "code",
   "execution_count": null,
   "id": "4627a701",
   "metadata": {
    "scrolled": true
   },
   "outputs": [],
   "source": [
    "evaluate(multihop_QA_v2, dev)"
   ]
  },
  {
   "cell_type": "markdown",
   "id": "4042e136",
   "metadata": {},
   "source": [
    "### Chat Adapter with system_turn=False, multi_turn=False, strict_turn=False"
   ]
  },
  {
   "cell_type": "code",
   "execution_count": 30,
   "id": "3d1d88a3",
   "metadata": {
    "scrolled": true
   },
   "outputs": [
    {
     "name": "stdout",
     "output_type": "stream",
     "text": [
      "------\n",
      "parts\n",
      "instructions:\n",
      "Answer questions with short factoid answers.\n",
      "guidelines:\n",
      "Follow the following format.\n",
      "\n",
      "Question: ${the question to be answered}\n",
      "Answer: ${a short factoid answer, often between 1 and 5 words}\n",
      "rdemos:\n",
      "['Question: Which award did the first book of Gary Zukav receive?\\nAnswer: U.S. National Book Award']\n",
      "ademos:\n",
      "[]\n",
      "query:\n",
      "Question: Who has a broader scope of profession: E. L. Doctorow or Julia Peterkin?\n",
      "Answer: \n",
      "long_query:\n",
      "False\n",
      "------\n",
      "prompt\n",
      "model:\n",
      "gpt-3.5-turbo\n",
      "messages:\n",
      "{'role': 'user', 'content': 'Answer questions with short factoid answers.\\n\\n---\\n\\nFollow the following format.\\n\\nQuestion: ${the question to be answered}\\nAnswer: ${a short factoid answer, often between 1 and 5 words}\\n\\n---\\n\\nQuestion: Which award did the first book of Gary Zukav receive?\\nAnswer: U.S. National Book Award\\n\\nQuestion: Who has a broader scope of profession: E. L. Doctorow or Julia Peterkin?\\nAnswer:'}\n"
     ]
    }
   ],
   "source": [
    "dsp.settings.configure(lm=turbo, rm=rm)\n",
    "\n",
    "example = dsp.Example(question=question, demos=demos)\n",
    "parts = qa_template(example)\n",
    "prompt = chat_adapter(parts, system_turn=False, multi_turn=False, strict_turn=False)\n",
    "\n",
    "print(\"------\")\n",
    "print(\"parts\")\n",
    "for k, v in parts.items():\n",
    "    print(k+\":\")\n",
    "    print(v)\n",
    "\n",
    "print(\"------\")\n",
    "print(\"prompt\")\n",
    "for k, v in prompt.items():\n",
    "    print(k+\":\")\n",
    "    if k==\"messages\":\n",
    "        for turn in v:\n",
    "            print(turn)\n",
    "    else:\n",
    "        print(v)"
   ]
  },
  {
   "cell_type": "code",
   "execution_count": null,
   "id": "51b82516",
   "metadata": {},
   "outputs": [],
   "source": [
    "multihop_QA_v2(dev[0].question), lm.inspect_history(n=3)"
   ]
  },
  {
   "cell_type": "code",
   "execution_count": null,
   "id": "1ac03f34",
   "metadata": {
    "scrolled": true
   },
   "outputs": [],
   "source": [
    "evaluate(multihop_QA_v2, dev)"
   ]
  }
 ],
 "metadata": {
  "kernelspec": {
   "display_name": "Python 3 (ipykernel)",
   "language": "python",
   "name": "python3"
  },
  "language_info": {
   "codemirror_mode": {
    "name": "ipython",
    "version": 3
   },
   "file_extension": ".py",
   "mimetype": "text/x-python",
   "name": "python",
   "nbconvert_exporter": "python",
   "pygments_lexer": "ipython3",
   "version": "3.11.2"
  }
 },
 "nbformat": 4,
 "nbformat_minor": 5
}
