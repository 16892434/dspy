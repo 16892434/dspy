{
 "cells": [
  {
   "cell_type": "markdown",
   "id": "219211db",
   "metadata": {},
   "source": [
    "# Given example and template, demonstrate how chat adapter works"
   ]
  },
  {
   "cell_type": "code",
   "execution_count": 1,
   "id": "1810a047",
   "metadata": {},
   "outputs": [
    {
     "name": "stdout",
     "output_type": "stream",
     "text": [
      "Not loading Cohere because it is not installed.\n"
     ]
    }
   ],
   "source": [
    "%load_ext autoreload\n",
    "%autoreload 2\n",
    "\n",
    "try: import google.colab; root_path = 'dsp'\n",
    "except: root_path = '.'\n",
    "\n",
    "import os\n",
    "os.environ[\"DSP_NOTEBOOK_CACHEDIR\"] = os.path.join(root_path, 'cache')\n",
    "\n",
    "import dsp\n",
    "\n",
    "openai_key = os.getenv('OPENAI_API_KEY')  # or replace with your API key (optional)\n",
    "colbert_server = 'http://ec2-44-228-128-229.us-west-2.compute.amazonaws.com:8893/api/search'"
   ]
  },
  {
   "cell_type": "code",
   "execution_count": 31,
   "id": "f61109d4",
   "metadata": {},
   "outputs": [],
   "source": [
    "train = [('Who produced the album that included a re-recording of \"Lithium\"?', ['Butch Vig']),\n",
    "         ('Who was the director of the 2009 movie featuring Peter Outerbridge as William Easton?', ['Kevin Greutert']),\n",
    "         ('The heir to the Du Pont family fortune sponsored what wrestling team?', ['Foxcatcher', 'Team Foxcatcher', 'Foxcatcher Team']),\n",
    "         ('In what year was the star of To Hell and Back born?', ['1925']),\n",
    "         ('Which award did the first book of Gary Zukav receive?', ['U.S. National Book Award', 'National Book Award']),\n",
    "         ('What city was the victim of Joseph Druces working in?', ['Boston, Massachusetts', 'Boston']),]\n",
    "\n",
    "# Train is an array of examples\n",
    "train = [dsp.Example(question=question, answer=answer) for question, answer in train]"
   ]
  },
  {
   "cell_type": "code",
   "execution_count": 32,
   "id": "cafcba3b",
   "metadata": {},
   "outputs": [],
   "source": [
    "dev = [('Who has a broader scope of profession: E. L. Doctorow or Julia Peterkin?', ['E. L. Doctorow', 'E.L. Doctorow', 'Doctorow']),\n",
    "       ('What documentary about the Gilgo Beach Killer debuted on A&E?', ['The Killing Season']),\n",
    "       ('Right Back At It Again contains lyrics co-written by the singer born in what city?', ['Gainesville, Florida', 'Gainesville']),\n",
    "       ('What year was the party of the winner of the 1971 San Francisco mayoral election founded?', ['1828']),\n",
    "       ('Which author is English: John Braine or Studs Terkel?', ['John Braine']),\n",
    "       ('Anthony Dirrell is the brother of which super middleweight title holder?', ['Andre Dirrell']),\n",
    "       ('In which city is the sports nutrition business established by Oliver Cookson based ?', ['Cheshire', 'Cheshire, UK']),\n",
    "       ('Find the birth date of the actor who played roles in First Wives Club and Searching for the Elephant.', ['February 13, 1980']),\n",
    "       ('Kyle Moran was born in the town on what river?', ['Castletown', 'Castletown River']),\n",
    "       (\"What is the name of one branch of Robert D. Braun's speciality?\", ['aeronautical engineering', 'astronautical engineering', 'aeronautics', 'astronautics']),\n",
    "       (\"Where was the actress who played the niece in the Priest film born?\", ['Surrey', 'Guildford, Surrey']),\n",
    "       ('Name the movie in which the daughter of Noel Harrison plays Violet Trefusis.', ['Portrait of a Marriage']),\n",
    "       ('What year was the father of the Princes in the Tower born?', ['1442'])]\n",
    "\n",
    "dev = [dsp.Example(question=question, answer=answer) for question, answer in dev]"
   ]
  },
  {
   "cell_type": "markdown",
   "id": "226a9107",
   "metadata": {},
   "source": [
    "Basic Adapter Input: Template with Example\n",
    "\n",
    "Basic Adapter Output: Prompt String\n",
    "\n",
    "Chat Adapter Input: Template with Example\n",
    "\n",
    "Chat Adapter Output: Prompt Dictionairy"
   ]
  },
  {
   "cell_type": "code",
   "execution_count": 33,
   "id": "ab0e23bf",
   "metadata": {},
   "outputs": [],
   "source": [
    "# Template, Demos, and Question Construction\n",
    "Question = dsp.Type(prefix=\"Question:\", desc=\"${the question to be answered}\")\n",
    "Answer = dsp.Type(prefix=\"Answer:\", desc=\"${a short factoid answer, often between 1 and 5 words}\", format=dsp.format_answers)\n",
    "qa_template = dsp.Template(instructions=\"Answer questions with short factoid answers.\", question=Question(), answer=Answer())\n",
    "\n",
    "question = dev[0].question\n",
    "demos = dsp.sample(train, k=1)\n",
    "example = dsp.Example(question=question, demos=demos)"
   ]
  },
  {
   "cell_type": "markdown",
   "id": "f579170f",
   "metadata": {},
   "source": [
    "### Load Models and Adapters"
   ]
  },
  {
   "cell_type": "code",
   "execution_count": 34,
   "id": "9109feb6",
   "metadata": {},
   "outputs": [],
   "source": [
    "rm = dsp.ColBERTv2(url=colbert_server)\n",
    "davinci = dsp.GPT3(model='text-davinci-002', api_key=openai_key)\n",
    "turbo = dsp.GPT3(model='gpt-3.5-turbo', api_key=openai_key, model_type=\"chat\")\n",
    "\n",
    "\n",
    "basic_adapter = dsp.modules.BasicAdapter()\n",
    "chat_adapter = dsp.modules.ChatAdapter()"
   ]
  },
  {
   "cell_type": "markdown",
   "id": "b6847a05",
   "metadata": {},
   "source": [
    "### Basic Adapter with demos\n"
   ]
  },
  {
   "cell_type": "code",
   "execution_count": 35,
   "id": "f4204f54",
   "metadata": {
    "scrolled": true
   },
   "outputs": [
    {
     "name": "stdout",
     "output_type": "stream",
     "text": [
      "------\n",
      "PARTS\n",
      "instructions:\n",
      "Answer questions with short factoid answers.\n",
      "guidelines:\n",
      "Follow the following format.\n",
      "\n",
      "Question: ${the question to be answered}\n",
      "Answer: ${a short factoid answer, often between 1 and 5 words}\n",
      "rdemos:\n",
      "['Question: Which award did the first book of Gary Zukav receive?\\nAnswer: U.S. National Book Award']\n",
      "ademos:\n",
      "[]\n",
      "query:\n",
      "Question: Who has a broader scope of profession: E. L. Doctorow or Julia Peterkin?\n",
      "Answer: \n",
      "long_query:\n",
      "False\n",
      "------\n",
      "PROMPT\n",
      "Answer questions with short factoid answers.\n",
      "\n",
      "---\n",
      "\n",
      "Follow the following format.\n",
      "\n",
      "Question: ${the question to be answered}\n",
      "Answer: ${a short factoid answer, often between 1 and 5 words}\n",
      "\n",
      "---\n",
      "\n",
      "Question: Which award did the first book of Gary Zukav receive?\n",
      "Answer: U.S. National Book Award\n",
      "\n",
      "Question: Who has a broader scope of profession: E. L. Doctorow or Julia Peterkin?\n",
      "Answer:\n"
     ]
    }
   ],
   "source": [
    "dsp.settings.configure(lm=davinci, rm=rm)\n",
    "\n",
    "parts = qa_template(example)\n",
    "prompt = basic_adapter(parts)\n",
    "\n",
    "print(\"------\")\n",
    "print(\"PARTS\")\n",
    "for k, v in parts.items():\n",
    "    print(k+\":\")\n",
    "    print(v)\n",
    "\n",
    "print(\"------\")\n",
    "print(\"PROMPT\")\n",
    "print(prompt)"
   ]
  },
  {
   "cell_type": "markdown",
   "id": "5e9c3ff3",
   "metadata": {},
   "source": [
    "### Chat Adapter with demos"
   ]
  },
  {
   "cell_type": "code",
   "execution_count": 36,
   "id": "ccfba721",
   "metadata": {
    "scrolled": true
   },
   "outputs": [
    {
     "name": "stdout",
     "output_type": "stream",
     "text": [
      "------\n",
      "parts\n",
      "instructions:\n",
      "Answer questions with short factoid answers.\n",
      "guidelines:\n",
      "Follow the following format.\n",
      "\n",
      "Question: ${the question to be answered}\n",
      "Answer: ${a short factoid answer, often between 1 and 5 words}\n",
      "rdemos:\n",
      "['Question: Which award did the first book of Gary Zukav receive?\\nAnswer: U.S. National Book Award']\n",
      "ademos:\n",
      "[]\n",
      "query:\n",
      "Question: Who has a broader scope of profession: E. L. Doctorow or Julia Peterkin?\n",
      "Answer: \n",
      "long_query:\n",
      "False\n",
      "------\n",
      "prompt\n",
      "model:\n",
      "gpt-3.5-turbo\n",
      "messages:\n",
      "{'role': 'user', 'content': 'Answer questions with short factoid answers.\\n\\n---\\n\\nFollow the following format.\\n\\nQuestion: ${the question to be answered}\\nAnswer: ${a short factoid answer, often between 1 and 5 words}\\n\\n---\\n\\nQuestion: Which award did the first book of Gary Zukav receive?\\nAnswer: U.S. National Book Award\\n\\nQuestion: Who has a broader scope of profession: E. L. Doctorow or Julia Peterkin?\\nAnswer:'}\n"
     ]
    }
   ],
   "source": [
    "dsp.settings.configure(lm=turbo, rm=rm)\n",
    "\n",
    "example = dsp.Example(question=question, demos=demos)\n",
    "parts = qa_template(example)\n",
    "prompt = chat_adapter(parts)\n",
    "\n",
    "print(\"------\")\n",
    "print(\"parts\")\n",
    "for k, v in parts.items():\n",
    "    print(k+\":\")\n",
    "    print(v)\n",
    "\n",
    "print(\"------\")\n",
    "print(\"prompt\")\n",
    "for k, v in prompt.items():\n",
    "    print(k+\":\")\n",
    "    if k==\"messages\":\n",
    "        for turn in v:\n",
    "            print(turn)\n",
    "    else:\n",
    "        print(v)"
   ]
  },
  {
   "cell_type": "markdown",
   "id": "c8753768",
   "metadata": {},
   "source": [
    "### Basic Adapter with no demos"
   ]
  },
  {
   "cell_type": "code",
   "execution_count": 37,
   "id": "6552e0ab",
   "metadata": {
    "scrolled": true
   },
   "outputs": [
    {
     "name": "stdout",
     "output_type": "stream",
     "text": [
      "------\n",
      "PARTS\n",
      "instructions:\n",
      "Answer questions with short factoid answers.\n",
      "guidelines:\n",
      "Follow the following format.\n",
      "\n",
      "Question: ${the question to be answered}\n",
      "Answer: ${a short factoid answer, often between 1 and 5 words}\n",
      "rdemos:\n",
      "[]\n",
      "ademos:\n",
      "[]\n",
      "query:\n",
      "Question: Who has a broader scope of profession: E. L. Doctorow or Julia Peterkin?\n",
      "Answer: \n",
      "long_query:\n",
      "False\n",
      "------\n",
      "PROMPT\n",
      "Answer questions with short factoid answers.\n",
      "\n",
      "---\n",
      "\n",
      "Follow the following format.\n",
      "\n",
      "Question: ${the question to be answered}\n",
      "Answer: ${a short factoid answer, often between 1 and 5 words}\n",
      "\n",
      "---\n",
      "\n",
      "Question: Who has a broader scope of profession: E. L. Doctorow or Julia Peterkin?\n",
      "Answer:\n"
     ]
    }
   ],
   "source": [
    "dsp.settings.configure(lm=davinci, rm=rm)\n",
    "\n",
    "example = dsp.Example(question=question)\n",
    "parts = qa_template(example)\n",
    "prompt = basic_adapter(parts)\n",
    "\n",
    "print(\"------\")\n",
    "print(\"PARTS\")\n",
    "for k, v in parts.items():\n",
    "    print(k+\":\")\n",
    "    print(v)\n",
    "\n",
    "print(\"------\")\n",
    "print(\"PROMPT\")\n",
    "print(prompt)"
   ]
  },
  {
   "cell_type": "markdown",
   "id": "4089048b",
   "metadata": {},
   "source": [
    "### Chat Adapter with no demos\n"
   ]
  },
  {
   "cell_type": "code",
   "execution_count": 38,
   "id": "d4b9f51d",
   "metadata": {
    "scrolled": true
   },
   "outputs": [
    {
     "name": "stdout",
     "output_type": "stream",
     "text": [
      "------\n",
      "PARTS\n",
      "instructions:\n",
      "Answer questions with short factoid answers.\n",
      "guidelines:\n",
      "Follow the following format.\n",
      "\n",
      "Question: ${the question to be answered}\n",
      "Answer: ${a short factoid answer, often between 1 and 5 words}\n",
      "rdemos:\n",
      "[]\n",
      "ademos:\n",
      "[]\n",
      "query:\n",
      "Question: Who has a broader scope of profession: E. L. Doctorow or Julia Peterkin?\n",
      "Answer: \n",
      "long_query:\n",
      "False\n",
      "------\n",
      "PROMPT\n",
      "{'model': 'gpt-3.5-turbo', 'messages': [{'role': 'user', 'content': 'Answer questions with short factoid answers.\\n\\n---\\n\\nFollow the following format.\\n\\nQuestion: ${the question to be answered}\\nAnswer: ${a short factoid answer, often between 1 and 5 words}\\n\\n---\\n\\nQuestion: Who has a broader scope of profession: E. L. Doctorow or Julia Peterkin?\\nAnswer:'}]}\n"
     ]
    }
   ],
   "source": [
    "dsp.settings.configure(lm=turbo, rm=rm)\n",
    "\n",
    "example = dsp.Example(question=question)\n",
    "parts = qa_template(example)\n",
    "prompt = chat_adapter(parts)\n",
    "\n",
    "print(\"------\")\n",
    "print(\"PARTS\")\n",
    "for k, v in parts.items():\n",
    "    print(k+\":\")\n",
    "    print(v)\n",
    "\n",
    "print(\"------\")\n",
    "print(\"PROMPT\")\n",
    "print(prompt)"
   ]
  },
  {
   "cell_type": "markdown",
   "id": "bd38d034",
   "metadata": {},
   "source": [
    "### Basic Adapter with demos and context"
   ]
  },
  {
   "cell_type": "code",
   "execution_count": 39,
   "id": "9c6b7a33",
   "metadata": {
    "scrolled": true
   },
   "outputs": [],
   "source": [
    "Context = dsp.Type(\n",
    "    prefix=\"Context:\\n\",\n",
    "    desc=\"${sources that may contain relevant content}\",\n",
    "    format=dsp.passages2text\n",
    ")\n",
    "\n",
    "qa_template_with_passages = dsp.Template(\n",
    "    instructions=qa_template.instructions,\n",
    "    context=Context(), question=Question(), answer=Answer()\n",
    ")\n",
    "\n",
    "passages = dsp.retrieve(question, k=1)\n",
    "example = dsp.Example(question=question, context=passages, demos=demos)"
   ]
  },
  {
   "cell_type": "code",
   "execution_count": 40,
   "id": "465c9778",
   "metadata": {
    "scrolled": true
   },
   "outputs": [
    {
     "name": "stdout",
     "output_type": "stream",
     "text": [
      "------\n",
      "PASSAGES\n",
      "0:\n",
      "Julia Peterkin | Julia Peterkin Julia Peterkin (October 31, 1880 – August 10, 1961) was an American author from South Carolina. In 1929 she won the Pulitzer Prize for Novel/Literature, for her novel \"Scarlet Sister Mary.\" She wrote several novels about the plantation South, especially the Gullah people of the Low Country. She was one of the few white authors who wrote about the African-American experience. Julia Mood was born in Laurens County, South Carolina. Her father was a physician, and she was the third of his four children. Her mother died soon after her birth, and her father later married Janie Brogdon.\n",
      "------\n",
      "PARTS\n",
      "instructions:\n",
      "Answer questions with short factoid answers.\n",
      "guidelines:\n",
      "Follow the following format.\n",
      "\n",
      "Context:\n",
      "${sources that may contain relevant content}\n",
      "\n",
      "Question: ${the question to be answered}\n",
      "\n",
      "Answer: ${a short factoid answer, often between 1 and 5 words}\n",
      "rdemos:\n",
      "['Question: Which award did the first book of Gary Zukav receive?\\nAnswer: U.S. National Book Award']\n",
      "ademos:\n",
      "[]\n",
      "query:\n",
      "Context:\n",
      "«Julia Peterkin | Julia Peterkin Julia Peterkin (October 31, 1880 – August 10, 1961) was an American author from South Carolina. In 1929 she won the Pulitzer Prize for Novel/Literature, for her novel \"Scarlet Sister Mary.\" She wrote several novels about the plantation South, especially the Gullah people of the Low Country. She was one of the few white authors who wrote about the African-American experience. Julia Mood was born in Laurens County, South Carolina. Her father was a physician, and she was the third of his four children. Her mother died soon after her birth, and her father later married Janie Brogdon.»\n",
      "\n",
      "Question: Who has a broader scope of profession: E. L. Doctorow or Julia Peterkin?\n",
      "\n",
      "Answer: \n",
      "long_query:\n",
      "True\n",
      "------\n",
      "PROMPT\n",
      "Answer questions with short factoid answers.\n",
      "\n",
      "---\n",
      "\n",
      "Question: Which award did the first book of Gary Zukav receive?\n",
      "Answer: U.S. National Book Award\n",
      "\n",
      "---\n",
      "\n",
      "Follow the following format.\n",
      "\n",
      "Context:\n",
      "${sources that may contain relevant content}\n",
      "\n",
      "Question: ${the question to be answered}\n",
      "\n",
      "Answer: ${a short factoid answer, often between 1 and 5 words}\n",
      "\n",
      "---\n",
      "\n",
      "Context:\n",
      "«Julia Peterkin | Julia Peterkin Julia Peterkin (October 31, 1880 – August 10, 1961) was an American author from South Carolina. In 1929 she won the Pulitzer Prize for Novel/Literature, for her novel \"Scarlet Sister Mary.\" She wrote several novels about the plantation South, especially the Gullah people of the Low Country. She was one of the few white authors who wrote about the African-American experience. Julia Mood was born in Laurens County, South Carolina. Her father was a physician, and she was the third of his four children. Her mother died soon after her birth, and her father later married Janie Brogdon.»\n",
      "\n",
      "Question: Who has a broader scope of profession: E. L. Doctorow or Julia Peterkin?\n",
      "\n",
      "Answer:\n"
     ]
    }
   ],
   "source": [
    "dsp.settings.configure(lm=davinci, rm=rm)\n",
    "parts = qa_template_with_passages(example)\n",
    "prompt = basic_adapter(parts)\n",
    "\n",
    "print(\"------\")\n",
    "print(\"PASSAGES\")\n",
    "for i, v in enumerate(passages):\n",
    "    print(str(i)+\":\")\n",
    "    print(v)\n",
    "\n",
    "print(\"------\")\n",
    "print(\"PARTS\")\n",
    "for k, v in parts.items():\n",
    "    print(k+\":\")\n",
    "    print(v)\n",
    "\n",
    "print(\"------\")\n",
    "print(\"PROMPT\")\n",
    "print(prompt)"
   ]
  },
  {
   "cell_type": "markdown",
   "id": "0774400c",
   "metadata": {},
   "source": [
    "### Chat Adapter with demos and context"
   ]
  },
  {
   "cell_type": "code",
   "execution_count": 41,
   "id": "649dee23",
   "metadata": {
    "scrolled": true
   },
   "outputs": [
    {
     "name": "stdout",
     "output_type": "stream",
     "text": [
      "------\n",
      "PASSAGES\n",
      "0:\n",
      "Julia Peterkin | Julia Peterkin Julia Peterkin (October 31, 1880 – August 10, 1961) was an American author from South Carolina. In 1929 she won the Pulitzer Prize for Novel/Literature, for her novel \"Scarlet Sister Mary.\" She wrote several novels about the plantation South, especially the Gullah people of the Low Country. She was one of the few white authors who wrote about the African-American experience. Julia Mood was born in Laurens County, South Carolina. Her father was a physician, and she was the third of his four children. Her mother died soon after her birth, and her father later married Janie Brogdon.\n",
      "------\n",
      "PARTS\n",
      "instructions:\n",
      "Answer questions with short factoid answers.\n",
      "guidelines:\n",
      "Follow the following format.\n",
      "\n",
      "Context:\n",
      "${sources that may contain relevant content}\n",
      "\n",
      "Question: ${the question to be answered}\n",
      "\n",
      "Answer: ${a short factoid answer, often between 1 and 5 words}\n",
      "rdemos:\n",
      "['Question: Which award did the first book of Gary Zukav receive?\\nAnswer: U.S. National Book Award']\n",
      "ademos:\n",
      "[]\n",
      "query:\n",
      "Context:\n",
      "«Julia Peterkin | Julia Peterkin Julia Peterkin (October 31, 1880 – August 10, 1961) was an American author from South Carolina. In 1929 she won the Pulitzer Prize for Novel/Literature, for her novel \"Scarlet Sister Mary.\" She wrote several novels about the plantation South, especially the Gullah people of the Low Country. She was one of the few white authors who wrote about the African-American experience. Julia Mood was born in Laurens County, South Carolina. Her father was a physician, and she was the third of his four children. Her mother died soon after her birth, and her father later married Janie Brogdon.»\n",
      "\n",
      "Question: Who has a broader scope of profession: E. L. Doctorow or Julia Peterkin?\n",
      "\n",
      "Answer: \n",
      "long_query:\n",
      "True\n",
      "------\n",
      "PROMPT\n",
      "gpt-3.5-turbo\n",
      "messages\n",
      "0:\n",
      "{'role': 'user', 'content': 'Answer questions with short factoid answers.\\n\\n---\\n\\nQuestion: Which award did the first book of Gary Zukav receive?\\nAnswer: U.S. National Book Award\\n\\n---\\n\\nFollow the following format.\\n\\nContext:\\n${sources that may contain relevant content}\\n\\nQuestion: ${the question to be answered}\\n\\nAnswer: ${a short factoid answer, often between 1 and 5 words}\\n\\n---\\n\\nContext:\\n«Julia Peterkin | Julia Peterkin Julia Peterkin (October 31, 1880 – August 10, 1961) was an American author from South Carolina. In 1929 she won the Pulitzer Prize for Novel/Literature, for her novel \"Scarlet Sister Mary.\" She wrote several novels about the plantation South, especially the Gullah people of the Low Country. She was one of the few white authors who wrote about the African-American experience. Julia Mood was born in Laurens County, South Carolina. Her father was a physician, and she was the third of his four children. Her mother died soon after her birth, and her father later married Janie Brogdon.»\\n\\nQuestion: Who has a broader scope of profession: E. L. Doctorow or Julia Peterkin?\\n\\nAnswer:'}\n"
     ]
    }
   ],
   "source": [
    "dsp.settings.configure(lm=turbo, rm=rm)\n",
    "\n",
    "parts = qa_template_with_passages(example)\n",
    "prompt = chat_adapter(parts)\n",
    "\n",
    "print(\"------\")\n",
    "print(\"PASSAGES\")\n",
    "for i, v in enumerate(passages):\n",
    "    print(str(i)+\":\")\n",
    "    print(v)\n",
    "\n",
    "print(\"------\")\n",
    "print(\"PARTS\")\n",
    "for k, v in parts.items():\n",
    "    print(k+\":\")\n",
    "    print(v)\n",
    "\n",
    "print(\"------\")\n",
    "print(\"PROMPT\")\n",
    "print(prompt['model'])\n",
    "print(\"messages\")\n",
    "for i, v in enumerate(prompt['messages']):\n",
    "    print(str(i)+\":\")\n",
    "    print(v)"
   ]
  },
  {
   "cell_type": "markdown",
   "id": "93eee16d",
   "metadata": {},
   "source": [
    "## Testing Chat Adapter Flags with demos"
   ]
  },
  {
   "cell_type": "markdown",
   "id": "956a8cfc",
   "metadata": {},
   "source": [
    "### Chat Adapter with system_turn=True, multi_turn=True, strict_turn=True"
   ]
  },
  {
   "cell_type": "code",
   "execution_count": 11,
   "id": "1e80f347",
   "metadata": {
    "scrolled": true
   },
   "outputs": [
    {
     "name": "stdout",
     "output_type": "stream",
     "text": [
      "------\n",
      "parts\n",
      "instructions:\n",
      "Answer questions with short factoid answers.\n",
      "guidelines:\n",
      "Follow the following format.\n",
      "\n",
      "Question: ${the question to be answered}\n",
      "Answer: ${a short factoid answer, often between 1 and 5 words}\n",
      "rdemos:\n",
      "['Question: Which award did the first book of Gary Zukav receive?\\nAnswer: U.S. National Book Award']\n",
      "ademos:\n",
      "[]\n",
      "query:\n",
      "Question: Who has a broader scope of profession: E. L. Doctorow or Julia Peterkin?\n",
      "Answer: \n",
      "long_query:\n",
      "False\n",
      "------\n",
      "prompt\n",
      "model:\n",
      "gpt-3.5-turbo\n",
      "messages:\n",
      "{'role': 'system', 'content': 'Answer questions with short factoid answers.'}\n",
      "{'role': 'user', 'content': 'Follow the following format.\\n\\nQuestion: ${the question to be answered}\\nAnswer: ${a short factoid answer, often between 1 and 5 words}'}\n",
      "{'role': 'assistant', 'content': 'Got it.'}\n",
      "{'role': 'user', 'content': 'Question: Which award did the first book of Gary Zukav receive?\\nAnswer: U.S. National Book Award'}\n",
      "{'role': 'assistant', 'content': 'Got it.'}\n",
      "{'role': 'user', 'content': 'Question: Who has a broader scope of profession: E. L. Doctorow or Julia Peterkin?\\nAnswer:'}\n"
     ]
    }
   ],
   "source": [
    "dsp.settings.configure(lm=turbo, rm=rm)\n",
    "\n",
    "example = dsp.Example(question=question, demos=demos)\n",
    "parts = qa_template(example)\n",
    "prompt = chat_adapter(parts, system_turn=True, multi_turn=True, strict_turn=True)\n",
    "\n",
    "print(\"------\")\n",
    "print(\"parts\")\n",
    "for k, v in parts.items():\n",
    "    print(k+\":\")\n",
    "    print(v)\n",
    "\n",
    "print(\"------\")\n",
    "print(\"prompt\")\n",
    "for k, v in prompt.items():\n",
    "    print(k+\":\")\n",
    "    if k==\"messages\":\n",
    "        for turn in v:\n",
    "            print(turn)\n",
    "    else:\n",
    "        print(v)"
   ]
  },
  {
   "cell_type": "markdown",
   "id": "d1e14d3e",
   "metadata": {},
   "source": [
    "### Chat Adapter with system_turn=True, multi_turn=True, strict_turn=False"
   ]
  },
  {
   "cell_type": "code",
   "execution_count": 12,
   "id": "bde061cc",
   "metadata": {
    "scrolled": true
   },
   "outputs": [
    {
     "name": "stdout",
     "output_type": "stream",
     "text": [
      "------\n",
      "parts\n",
      "instructions:\n",
      "Answer questions with short factoid answers.\n",
      "guidelines:\n",
      "Follow the following format.\n",
      "\n",
      "Question: ${the question to be answered}\n",
      "Answer: ${a short factoid answer, often between 1 and 5 words}\n",
      "rdemos:\n",
      "['Question: Which award did the first book of Gary Zukav receive?\\nAnswer: U.S. National Book Award']\n",
      "ademos:\n",
      "[]\n",
      "query:\n",
      "Question: Who has a broader scope of profession: E. L. Doctorow or Julia Peterkin?\n",
      "Answer: \n",
      "long_query:\n",
      "False\n",
      "------\n",
      "prompt\n",
      "model:\n",
      "gpt-3.5-turbo\n",
      "messages:\n",
      "{'role': 'system', 'content': 'Answer questions with short factoid answers.'}\n",
      "{'role': 'user', 'content': 'Follow the following format.\\n\\nQuestion: ${the question to be answered}\\nAnswer: ${a short factoid answer, often between 1 and 5 words}'}\n",
      "{'role': 'user', 'content': 'Question: Which award did the first book of Gary Zukav receive?\\nAnswer: U.S. National Book Award'}\n",
      "{'role': 'user', 'content': 'Question: Who has a broader scope of profession: E. L. Doctorow or Julia Peterkin?\\nAnswer:'}\n"
     ]
    }
   ],
   "source": [
    "dsp.settings.configure(lm=turbo, rm=rm)\n",
    "\n",
    "example = dsp.Example(question=question, demos=demos)\n",
    "parts = qa_template(example)\n",
    "prompt = chat_adapter(parts, system_turn=True, multi_turn=True, strict_turn=False)\n",
    "\n",
    "print(\"------\")\n",
    "print(\"parts\")\n",
    "for k, v in parts.items():\n",
    "    print(k+\":\")\n",
    "    print(v)\n",
    "\n",
    "print(\"------\")\n",
    "print(\"prompt\")\n",
    "for k, v in prompt.items():\n",
    "    print(k+\":\")\n",
    "    if k==\"messages\":\n",
    "        for turn in v:\n",
    "            print(turn)\n",
    "    else:\n",
    "        print(v)"
   ]
  },
  {
   "cell_type": "markdown",
   "id": "0a56bb8b",
   "metadata": {},
   "source": [
    "### Chat Adapter with system_turn=True, multi_turn=False, strict_turn=True"
   ]
  },
  {
   "cell_type": "code",
   "execution_count": 13,
   "id": "b4b2ee73",
   "metadata": {
    "scrolled": true
   },
   "outputs": [
    {
     "name": "stdout",
     "output_type": "stream",
     "text": [
      "------\n",
      "parts\n",
      "instructions:\n",
      "Answer questions with short factoid answers.\n",
      "guidelines:\n",
      "Follow the following format.\n",
      "\n",
      "Question: ${the question to be answered}\n",
      "Answer: ${a short factoid answer, often between 1 and 5 words}\n",
      "rdemos:\n",
      "['Question: Which award did the first book of Gary Zukav receive?\\nAnswer: U.S. National Book Award']\n",
      "ademos:\n",
      "[]\n",
      "query:\n",
      "Question: Who has a broader scope of profession: E. L. Doctorow or Julia Peterkin?\n",
      "Answer: \n",
      "long_query:\n",
      "False\n",
      "------\n",
      "prompt\n",
      "model:\n",
      "gpt-3.5-turbo\n",
      "messages:\n",
      "{'role': 'system', 'content': 'Answer questions with short factoid answers.'}\n",
      "{'role': 'user', 'content': 'Follow the following format.\\n\\nQuestion: ${the question to be answered}\\nAnswer: ${a short factoid answer, often between 1 and 5 words}\\n\\n---\\n\\nQuestion: Which award did the first book of Gary Zukav receive?\\nAnswer: U.S. National Book Award\\n\\nQuestion: Who has a broader scope of profession: E. L. Doctorow or Julia Peterkin?\\nAnswer:'}\n"
     ]
    }
   ],
   "source": [
    "dsp.settings.configure(lm=turbo, rm=rm)\n",
    "\n",
    "example = dsp.Example(question=question, demos=demos)\n",
    "parts = qa_template(example)\n",
    "prompt = chat_adapter(parts, system_turn=True, multi_turn=False, strict_turn=True)\n",
    "\n",
    "print(\"------\")\n",
    "print(\"parts\")\n",
    "for k, v in parts.items():\n",
    "    print(k+\":\")\n",
    "    print(v)\n",
    "\n",
    "print(\"------\")\n",
    "print(\"prompt\")\n",
    "for k, v in prompt.items():\n",
    "    print(k+\":\")\n",
    "    if k==\"messages\":\n",
    "        for turn in v:\n",
    "            print(turn)\n",
    "    else:\n",
    "        print(v)"
   ]
  },
  {
   "cell_type": "markdown",
   "id": "9f4d9619",
   "metadata": {},
   "source": [
    "### Chat Adapter with system_turn=True, multi_turn=False, strict_turn=False"
   ]
  },
  {
   "cell_type": "code",
   "execution_count": 14,
   "id": "1f0cbdc2",
   "metadata": {
    "scrolled": true
   },
   "outputs": [
    {
     "name": "stdout",
     "output_type": "stream",
     "text": [
      "------\n",
      "parts\n",
      "instructions:\n",
      "Answer questions with short factoid answers.\n",
      "guidelines:\n",
      "Follow the following format.\n",
      "\n",
      "Question: ${the question to be answered}\n",
      "Answer: ${a short factoid answer, often between 1 and 5 words}\n",
      "rdemos:\n",
      "['Question: Which award did the first book of Gary Zukav receive?\\nAnswer: U.S. National Book Award']\n",
      "ademos:\n",
      "[]\n",
      "query:\n",
      "Question: Who has a broader scope of profession: E. L. Doctorow or Julia Peterkin?\n",
      "Answer: \n",
      "long_query:\n",
      "False\n",
      "------\n",
      "prompt\n",
      "model:\n",
      "gpt-3.5-turbo\n",
      "messages:\n",
      "{'role': 'system', 'content': 'Answer questions with short factoid answers.'}\n",
      "{'role': 'user', 'content': 'Follow the following format.\\n\\nQuestion: ${the question to be answered}\\nAnswer: ${a short factoid answer, often between 1 and 5 words}\\n\\n---\\n\\nQuestion: Which award did the first book of Gary Zukav receive?\\nAnswer: U.S. National Book Award\\n\\nQuestion: Who has a broader scope of profession: E. L. Doctorow or Julia Peterkin?\\nAnswer:'}\n"
     ]
    }
   ],
   "source": [
    "dsp.settings.configure(lm=turbo, rm=rm)\n",
    "\n",
    "example = dsp.Example(question=question, demos=demos)\n",
    "parts = qa_template(example)\n",
    "prompt = chat_adapter(parts, system_turn=True, multi_turn=False, strict_turn=False)\n",
    "\n",
    "print(\"------\")\n",
    "print(\"parts\")\n",
    "for k, v in parts.items():\n",
    "    print(k+\":\")\n",
    "    print(v)\n",
    "\n",
    "print(\"------\")\n",
    "print(\"prompt\")\n",
    "for k, v in prompt.items():\n",
    "    print(k+\":\")\n",
    "    if k==\"messages\":\n",
    "        for turn in v:\n",
    "            print(turn)\n",
    "    else:\n",
    "        print(v)"
   ]
  },
  {
   "cell_type": "markdown",
   "id": "a5f8361b",
   "metadata": {},
   "source": [
    "### Chat Adapter with system_turn=False, multi_turn=True, strict_turn=True"
   ]
  },
  {
   "cell_type": "code",
   "execution_count": 16,
   "id": "ab098ad7",
   "metadata": {
    "scrolled": true
   },
   "outputs": [
    {
     "name": "stdout",
     "output_type": "stream",
     "text": [
      "------\n",
      "parts\n",
      "instructions:\n",
      "Answer questions with short factoid answers.\n",
      "guidelines:\n",
      "Follow the following format.\n",
      "\n",
      "Question: ${the question to be answered}\n",
      "Answer: ${a short factoid answer, often between 1 and 5 words}\n",
      "rdemos:\n",
      "['Question: Which award did the first book of Gary Zukav receive?\\nAnswer: U.S. National Book Award']\n",
      "ademos:\n",
      "[]\n",
      "query:\n",
      "Question: Who has a broader scope of profession: E. L. Doctorow or Julia Peterkin?\n",
      "Answer: \n",
      "long_query:\n",
      "False\n",
      "------\n",
      "prompt\n",
      "model:\n",
      "gpt-3.5-turbo\n",
      "messages:\n",
      "{'role': 'user', 'content': 'Answer questions with short factoid answers.'}\n",
      "{'role': 'assistant', 'content': 'Got it.'}\n",
      "{'role': 'user', 'content': 'Follow the following format.\\n\\nQuestion: ${the question to be answered}\\nAnswer: ${a short factoid answer, often between 1 and 5 words}'}\n",
      "{'role': 'assistant', 'content': 'Got it.'}\n",
      "{'role': 'user', 'content': 'Question: Which award did the first book of Gary Zukav receive?\\nAnswer: U.S. National Book Award'}\n",
      "{'role': 'assistant', 'content': 'Got it.'}\n",
      "{'role': 'user', 'content': 'Question: Who has a broader scope of profession: E. L. Doctorow or Julia Peterkin?\\nAnswer:'}\n"
     ]
    }
   ],
   "source": [
    "dsp.settings.configure(lm=turbo, rm=rm)\n",
    "\n",
    "example = dsp.Example(question=question, demos=demos)\n",
    "parts = qa_template(example)\n",
    "prompt = chat_adapter(parts, system_turn=False, multi_turn=True, strict_turn=True)\n",
    "\n",
    "print(\"------\")\n",
    "print(\"parts\")\n",
    "for k, v in parts.items():\n",
    "    print(k+\":\")\n",
    "    print(v)\n",
    "\n",
    "print(\"------\")\n",
    "print(\"prompt\")\n",
    "for k, v in prompt.items():\n",
    "    print(k+\":\")\n",
    "    if k==\"messages\":\n",
    "        for turn in v:\n",
    "            print(turn)\n",
    "    else:\n",
    "        print(v)"
   ]
  },
  {
   "cell_type": "markdown",
   "id": "e5824fdb",
   "metadata": {},
   "source": [
    "### Chat Adapter with system_turn=False, multi_turn=True, strict_turn=False"
   ]
  },
  {
   "cell_type": "code",
   "execution_count": 18,
   "id": "3be0b80b",
   "metadata": {
    "scrolled": true
   },
   "outputs": [
    {
     "name": "stdout",
     "output_type": "stream",
     "text": [
      "------\n",
      "parts\n",
      "instructions:\n",
      "Answer questions with short factoid answers.\n",
      "guidelines:\n",
      "Follow the following format.\n",
      "\n",
      "Question: ${the question to be answered}\n",
      "Answer: ${a short factoid answer, often between 1 and 5 words}\n",
      "rdemos:\n",
      "['Question: Which award did the first book of Gary Zukav receive?\\nAnswer: U.S. National Book Award']\n",
      "ademos:\n",
      "[]\n",
      "query:\n",
      "Question: Who has a broader scope of profession: E. L. Doctorow or Julia Peterkin?\n",
      "Answer: \n",
      "long_query:\n",
      "False\n",
      "------\n",
      "prompt\n",
      "model:\n",
      "gpt-3.5-turbo\n",
      "messages:\n",
      "{'role': 'user', 'content': 'Answer questions with short factoid answers.'}\n",
      "{'role': 'user', 'content': 'Follow the following format.\\n\\nQuestion: ${the question to be answered}\\nAnswer: ${a short factoid answer, often between 1 and 5 words}'}\n",
      "{'role': 'user', 'content': 'Question: Which award did the first book of Gary Zukav receive?\\nAnswer: U.S. National Book Award'}\n",
      "{'role': 'user', 'content': 'Question: Who has a broader scope of profession: E. L. Doctorow or Julia Peterkin?\\nAnswer:'}\n"
     ]
    }
   ],
   "source": [
    "dsp.settings.configure(lm=turbo, rm=rm)\n",
    "\n",
    "example = dsp.Example(question=question, demos=demos)\n",
    "parts = qa_template(example)\n",
    "prompt = chat_adapter(parts, system_turn=False, multi_turn=True, strict_turn=False)\n",
    "\n",
    "print(\"------\")\n",
    "print(\"parts\")\n",
    "for k, v in parts.items():\n",
    "    print(k+\":\")\n",
    "    print(v)\n",
    "\n",
    "print(\"------\")\n",
    "print(\"prompt\")\n",
    "for k, v in prompt.items():\n",
    "    print(k+\":\")\n",
    "    if k==\"messages\":\n",
    "        for turn in v:\n",
    "            print(turn)\n",
    "    else:\n",
    "        print(v)"
   ]
  },
  {
   "cell_type": "markdown",
   "id": "972dcbbe",
   "metadata": {},
   "source": [
    "### Chat Adapter with system_turn=False, multi_turn=False, strict_turn=True"
   ]
  },
  {
   "cell_type": "code",
   "execution_count": 19,
   "id": "f19b3931",
   "metadata": {
    "scrolled": true
   },
   "outputs": [
    {
     "name": "stdout",
     "output_type": "stream",
     "text": [
      "------\n",
      "parts\n",
      "instructions:\n",
      "Answer questions with short factoid answers.\n",
      "guidelines:\n",
      "Follow the following format.\n",
      "\n",
      "Question: ${the question to be answered}\n",
      "Answer: ${a short factoid answer, often between 1 and 5 words}\n",
      "rdemos:\n",
      "['Question: Which award did the first book of Gary Zukav receive?\\nAnswer: U.S. National Book Award']\n",
      "ademos:\n",
      "[]\n",
      "query:\n",
      "Question: Who has a broader scope of profession: E. L. Doctorow or Julia Peterkin?\n",
      "Answer: \n",
      "long_query:\n",
      "False\n",
      "------\n",
      "prompt\n",
      "model:\n",
      "gpt-3.5-turbo\n",
      "messages:\n",
      "{'role': 'user', 'content': 'Answer questions with short factoid answers.\\n\\n---\\n\\nFollow the following format.\\n\\nQuestion: ${the question to be answered}\\nAnswer: ${a short factoid answer, often between 1 and 5 words}\\n\\n---\\n\\nQuestion: Which award did the first book of Gary Zukav receive?\\nAnswer: U.S. National Book Award\\n\\nQuestion: Who has a broader scope of profession: E. L. Doctorow or Julia Peterkin?\\nAnswer:'}\n"
     ]
    }
   ],
   "source": [
    "dsp.settings.configure(lm=turbo, rm=rm)\n",
    "\n",
    "example = dsp.Example(question=question, demos=demos)\n",
    "parts = qa_template(example)\n",
    "prompt = chat_adapter(parts, system_turn=False, multi_turn=False, strict_turn=True)\n",
    "\n",
    "print(\"------\")\n",
    "print(\"parts\")\n",
    "for k, v in parts.items():\n",
    "    print(k+\":\")\n",
    "    print(v)\n",
    "\n",
    "print(\"------\")\n",
    "print(\"prompt\")\n",
    "for k, v in prompt.items():\n",
    "    print(k+\":\")\n",
    "    if k==\"messages\":\n",
    "        for turn in v:\n",
    "            print(turn)\n",
    "    else:\n",
    "        print(v)"
   ]
  },
  {
   "cell_type": "markdown",
   "id": "0847aec2",
   "metadata": {},
   "source": [
    "### Chat Adapter with system_turn=False, multi_turn=False, strict_turn=False"
   ]
  },
  {
   "cell_type": "code",
   "execution_count": 20,
   "id": "db650cb9",
   "metadata": {
    "scrolled": true
   },
   "outputs": [
    {
     "name": "stdout",
     "output_type": "stream",
     "text": [
      "------\n",
      "parts\n",
      "instructions:\n",
      "Answer questions with short factoid answers.\n",
      "guidelines:\n",
      "Follow the following format.\n",
      "\n",
      "Question: ${the question to be answered}\n",
      "Answer: ${a short factoid answer, often between 1 and 5 words}\n",
      "rdemos:\n",
      "['Question: Which award did the first book of Gary Zukav receive?\\nAnswer: U.S. National Book Award']\n",
      "ademos:\n",
      "[]\n",
      "query:\n",
      "Question: Who has a broader scope of profession: E. L. Doctorow or Julia Peterkin?\n",
      "Answer: \n",
      "long_query:\n",
      "False\n",
      "------\n",
      "prompt\n",
      "model:\n",
      "gpt-3.5-turbo\n",
      "messages:\n",
      "{'role': 'user', 'content': 'Answer questions with short factoid answers.\\n\\n---\\n\\nFollow the following format.\\n\\nQuestion: ${the question to be answered}\\nAnswer: ${a short factoid answer, often between 1 and 5 words}\\n\\n---\\n\\nQuestion: Which award did the first book of Gary Zukav receive?\\nAnswer: U.S. National Book Award\\n\\nQuestion: Who has a broader scope of profession: E. L. Doctorow or Julia Peterkin?\\nAnswer:'}\n"
     ]
    }
   ],
   "source": [
    "dsp.settings.configure(lm=turbo, rm=rm)\n",
    "\n",
    "example = dsp.Example(question=question, demos=demos)\n",
    "parts = qa_template(example)\n",
    "prompt = chat_adapter(parts, system_turn=False, multi_turn=False, strict_turn=False)\n",
    "\n",
    "print(\"------\")\n",
    "print(\"parts\")\n",
    "for k, v in parts.items():\n",
    "    print(k+\":\")\n",
    "    print(v)\n",
    "\n",
    "print(\"------\")\n",
    "print(\"prompt\")\n",
    "for k, v in prompt.items():\n",
    "    print(k+\":\")\n",
    "    if k==\"messages\":\n",
    "        for turn in v:\n",
    "            print(turn)\n",
    "    else:\n",
    "        print(v)"
   ]
  },
  {
   "cell_type": "markdown",
   "id": "6c8eac8d",
   "metadata": {},
   "source": [
    "## Testing Chat Adapter Flags with no demos"
   ]
  },
  {
   "cell_type": "markdown",
   "id": "7ce5865b",
   "metadata": {},
   "source": [
    "### Chat Adapter with system_turn=True, multi_turn=True, strict_turn=True"
   ]
  },
  {
   "cell_type": "code",
   "execution_count": 23,
   "id": "09bf55aa",
   "metadata": {
    "scrolled": true
   },
   "outputs": [
    {
     "name": "stdout",
     "output_type": "stream",
     "text": [
      "------\n",
      "parts\n",
      "instructions:\n",
      "Answer questions with short factoid answers.\n",
      "guidelines:\n",
      "Follow the following format.\n",
      "\n",
      "Question: ${the question to be answered}\n",
      "Answer: ${a short factoid answer, often between 1 and 5 words}\n",
      "rdemos:\n",
      "[]\n",
      "ademos:\n",
      "[]\n",
      "query:\n",
      "Question: Who has a broader scope of profession: E. L. Doctorow or Julia Peterkin?\n",
      "Answer: \n",
      "long_query:\n",
      "False\n",
      "------\n",
      "prompt\n",
      "model:\n",
      "gpt-3.5-turbo\n",
      "messages:\n",
      "{'role': 'system', 'content': 'Answer questions with short factoid answers.'}\n",
      "{'role': 'user', 'content': 'Follow the following format.\\n\\nQuestion: ${the question to be answered}\\nAnswer: ${a short factoid answer, often between 1 and 5 words}'}\n",
      "{'role': 'assistant', 'content': 'Got it.'}\n",
      "{'role': 'user', 'content': 'Question: Who has a broader scope of profession: E. L. Doctorow or Julia Peterkin?\\nAnswer:'}\n"
     ]
    }
   ],
   "source": [
    "dsp.settings.configure(lm=turbo, rm=rm)\n",
    "\n",
    "example = dsp.Example(question=question)\n",
    "parts = qa_template(example)\n",
    "prompt = chat_adapter(parts, system_turn=True, multi_turn=True, strict_turn=True)\n",
    "\n",
    "print(\"------\")\n",
    "print(\"parts\")\n",
    "for k, v in parts.items():\n",
    "    print(k+\":\")\n",
    "    print(v)\n",
    "\n",
    "print(\"------\")\n",
    "print(\"prompt\")\n",
    "for k, v in prompt.items():\n",
    "    print(k+\":\")\n",
    "    if k==\"messages\":\n",
    "        for turn in v:\n",
    "            print(turn)\n",
    "    else:\n",
    "        print(v)"
   ]
  },
  {
   "cell_type": "markdown",
   "id": "35523e9e",
   "metadata": {},
   "source": [
    "### Chat Adapter with system_turn=True, multi_turn=True, strict_turn=False"
   ]
  },
  {
   "cell_type": "code",
   "execution_count": 24,
   "id": "c06f1567",
   "metadata": {
    "scrolled": true
   },
   "outputs": [
    {
     "name": "stdout",
     "output_type": "stream",
     "text": [
      "------\n",
      "parts\n",
      "instructions:\n",
      "Answer questions with short factoid answers.\n",
      "guidelines:\n",
      "Follow the following format.\n",
      "\n",
      "Question: ${the question to be answered}\n",
      "Answer: ${a short factoid answer, often between 1 and 5 words}\n",
      "rdemos:\n",
      "[]\n",
      "ademos:\n",
      "[]\n",
      "query:\n",
      "Question: Who has a broader scope of profession: E. L. Doctorow or Julia Peterkin?\n",
      "Answer: \n",
      "long_query:\n",
      "False\n",
      "------\n",
      "prompt\n",
      "model:\n",
      "gpt-3.5-turbo\n",
      "messages:\n",
      "{'role': 'system', 'content': 'Answer questions with short factoid answers.'}\n",
      "{'role': 'user', 'content': 'Follow the following format.\\n\\nQuestion: ${the question to be answered}\\nAnswer: ${a short factoid answer, often between 1 and 5 words}'}\n",
      "{'role': 'user', 'content': 'Question: Who has a broader scope of profession: E. L. Doctorow or Julia Peterkin?\\nAnswer:'}\n"
     ]
    }
   ],
   "source": [
    "dsp.settings.configure(lm=turbo, rm=rm)\n",
    "\n",
    "example = dsp.Example(question=question)\n",
    "parts = qa_template(example)\n",
    "prompt = chat_adapter(parts, system_turn=True, multi_turn=True, strict_turn=False)\n",
    "\n",
    "print(\"------\")\n",
    "print(\"parts\")\n",
    "for k, v in parts.items():\n",
    "    print(k+\":\")\n",
    "    print(v)\n",
    "\n",
    "print(\"------\")\n",
    "print(\"prompt\")\n",
    "for k, v in prompt.items():\n",
    "    print(k+\":\")\n",
    "    if k==\"messages\":\n",
    "        for turn in v:\n",
    "            print(turn)\n",
    "    else:\n",
    "        print(v)"
   ]
  },
  {
   "cell_type": "markdown",
   "id": "44fad687",
   "metadata": {},
   "source": [
    "### Chat Adapter with system_turn=True, multi_turn=False, strict_turn=True"
   ]
  },
  {
   "cell_type": "code",
   "execution_count": 25,
   "id": "74a97cd6",
   "metadata": {
    "scrolled": true
   },
   "outputs": [
    {
     "name": "stdout",
     "output_type": "stream",
     "text": [
      "------\n",
      "parts\n",
      "instructions:\n",
      "Answer questions with short factoid answers.\n",
      "guidelines:\n",
      "Follow the following format.\n",
      "\n",
      "Question: ${the question to be answered}\n",
      "Answer: ${a short factoid answer, often between 1 and 5 words}\n",
      "rdemos:\n",
      "[]\n",
      "ademos:\n",
      "[]\n",
      "query:\n",
      "Question: Who has a broader scope of profession: E. L. Doctorow or Julia Peterkin?\n",
      "Answer: \n",
      "long_query:\n",
      "False\n",
      "------\n",
      "prompt\n",
      "model:\n",
      "gpt-3.5-turbo\n",
      "messages:\n",
      "{'role': 'system', 'content': 'Answer questions with short factoid answers.'}\n",
      "{'role': 'user', 'content': 'Follow the following format.\\n\\nQuestion: ${the question to be answered}\\nAnswer: ${a short factoid answer, often between 1 and 5 words}\\n\\n---\\n\\nQuestion: Who has a broader scope of profession: E. L. Doctorow or Julia Peterkin?\\nAnswer:'}\n"
     ]
    }
   ],
   "source": [
    "dsp.settings.configure(lm=turbo, rm=rm)\n",
    "\n",
    "example = dsp.Example(question=question)\n",
    "parts = qa_template(example)\n",
    "prompt = chat_adapter(parts, system_turn=True, multi_turn=False, strict_turn=True)\n",
    "\n",
    "print(\"------\")\n",
    "print(\"parts\")\n",
    "for k, v in parts.items():\n",
    "    print(k+\":\")\n",
    "    print(v)\n",
    "\n",
    "print(\"------\")\n",
    "print(\"prompt\")\n",
    "for k, v in prompt.items():\n",
    "    print(k+\":\")\n",
    "    if k==\"messages\":\n",
    "        for turn in v:\n",
    "            print(turn)\n",
    "    else:\n",
    "        print(v)"
   ]
  },
  {
   "cell_type": "markdown",
   "id": "c3e1ccb7",
   "metadata": {},
   "source": [
    "### Chat Adapter with system_turn=True, multi_turn=False, strict_turn=False"
   ]
  },
  {
   "cell_type": "code",
   "execution_count": 26,
   "id": "5413c942",
   "metadata": {
    "scrolled": true
   },
   "outputs": [
    {
     "name": "stdout",
     "output_type": "stream",
     "text": [
      "------\n",
      "parts\n",
      "instructions:\n",
      "Answer questions with short factoid answers.\n",
      "guidelines:\n",
      "Follow the following format.\n",
      "\n",
      "Question: ${the question to be answered}\n",
      "Answer: ${a short factoid answer, often between 1 and 5 words}\n",
      "rdemos:\n",
      "[]\n",
      "ademos:\n",
      "[]\n",
      "query:\n",
      "Question: Who has a broader scope of profession: E. L. Doctorow or Julia Peterkin?\n",
      "Answer: \n",
      "long_query:\n",
      "False\n",
      "------\n",
      "prompt\n",
      "model:\n",
      "gpt-3.5-turbo\n",
      "messages:\n",
      "{'role': 'system', 'content': 'Answer questions with short factoid answers.'}\n",
      "{'role': 'user', 'content': 'Follow the following format.\\n\\nQuestion: ${the question to be answered}\\nAnswer: ${a short factoid answer, often between 1 and 5 words}\\n\\n---\\n\\nQuestion: Who has a broader scope of profession: E. L. Doctorow or Julia Peterkin?\\nAnswer:'}\n"
     ]
    }
   ],
   "source": [
    "dsp.settings.configure(lm=turbo, rm=rm)\n",
    "\n",
    "example = dsp.Example(question=question)\n",
    "parts = qa_template(example)\n",
    "prompt = chat_adapter(parts, system_turn=True, multi_turn=False, strict_turn=False)\n",
    "\n",
    "print(\"------\")\n",
    "print(\"parts\")\n",
    "for k, v in parts.items():\n",
    "    print(k+\":\")\n",
    "    print(v)\n",
    "\n",
    "print(\"------\")\n",
    "print(\"prompt\")\n",
    "for k, v in prompt.items():\n",
    "    print(k+\":\")\n",
    "    if k==\"messages\":\n",
    "        for turn in v:\n",
    "            print(turn)\n",
    "    else:\n",
    "        print(v)"
   ]
  },
  {
   "cell_type": "markdown",
   "id": "025a71e2",
   "metadata": {},
   "source": [
    "### Chat Adapter with system_turn=False, multi_turn=True, strict_turn=True"
   ]
  },
  {
   "cell_type": "code",
   "execution_count": 27,
   "id": "cc770be3",
   "metadata": {
    "scrolled": true
   },
   "outputs": [
    {
     "name": "stdout",
     "output_type": "stream",
     "text": [
      "------\n",
      "parts\n",
      "instructions:\n",
      "Answer questions with short factoid answers.\n",
      "guidelines:\n",
      "Follow the following format.\n",
      "\n",
      "Question: ${the question to be answered}\n",
      "Answer: ${a short factoid answer, often between 1 and 5 words}\n",
      "rdemos:\n",
      "[]\n",
      "ademos:\n",
      "[]\n",
      "query:\n",
      "Question: Who has a broader scope of profession: E. L. Doctorow or Julia Peterkin?\n",
      "Answer: \n",
      "long_query:\n",
      "False\n",
      "------\n",
      "prompt\n",
      "model:\n",
      "gpt-3.5-turbo\n",
      "messages:\n",
      "{'role': 'user', 'content': 'Answer questions with short factoid answers.'}\n",
      "{'role': 'assistant', 'content': 'Got it.'}\n",
      "{'role': 'user', 'content': 'Follow the following format.\\n\\nQuestion: ${the question to be answered}\\nAnswer: ${a short factoid answer, often between 1 and 5 words}'}\n",
      "{'role': 'assistant', 'content': 'Got it.'}\n",
      "{'role': 'user', 'content': 'Question: Who has a broader scope of profession: E. L. Doctorow or Julia Peterkin?\\nAnswer:'}\n"
     ]
    }
   ],
   "source": [
    "dsp.settings.configure(lm=turbo, rm=rm)\n",
    "\n",
    "example = dsp.Example(question=question)\n",
    "parts = qa_template(example)\n",
    "prompt = chat_adapter(parts, system_turn=False, multi_turn=True, strict_turn=True)\n",
    "\n",
    "print(\"------\")\n",
    "print(\"parts\")\n",
    "for k, v in parts.items():\n",
    "    print(k+\":\")\n",
    "    print(v)\n",
    "\n",
    "print(\"------\")\n",
    "print(\"prompt\")\n",
    "for k, v in prompt.items():\n",
    "    print(k+\":\")\n",
    "    if k==\"messages\":\n",
    "        for turn in v:\n",
    "            print(turn)\n",
    "    else:\n",
    "        print(v)"
   ]
  },
  {
   "cell_type": "markdown",
   "id": "2c9879a7",
   "metadata": {},
   "source": [
    "### Chat Adapter with system_turn=False, multi_turn=True, strict_turn=False"
   ]
  },
  {
   "cell_type": "code",
   "execution_count": 28,
   "id": "68c6452d",
   "metadata": {
    "scrolled": true
   },
   "outputs": [
    {
     "name": "stdout",
     "output_type": "stream",
     "text": [
      "------\n",
      "parts\n",
      "instructions:\n",
      "Answer questions with short factoid answers.\n",
      "guidelines:\n",
      "Follow the following format.\n",
      "\n",
      "Question: ${the question to be answered}\n",
      "Answer: ${a short factoid answer, often between 1 and 5 words}\n",
      "rdemos:\n",
      "[]\n",
      "ademos:\n",
      "[]\n",
      "query:\n",
      "Question: Who has a broader scope of profession: E. L. Doctorow or Julia Peterkin?\n",
      "Answer: \n",
      "long_query:\n",
      "False\n",
      "------\n",
      "prompt\n",
      "model:\n",
      "gpt-3.5-turbo\n",
      "messages:\n",
      "{'role': 'user', 'content': 'Answer questions with short factoid answers.'}\n",
      "{'role': 'user', 'content': 'Follow the following format.\\n\\nQuestion: ${the question to be answered}\\nAnswer: ${a short factoid answer, often between 1 and 5 words}'}\n",
      "{'role': 'user', 'content': 'Question: Who has a broader scope of profession: E. L. Doctorow or Julia Peterkin?\\nAnswer:'}\n"
     ]
    }
   ],
   "source": [
    "dsp.settings.configure(lm=turbo, rm=rm)\n",
    "\n",
    "example = dsp.Example(question=question)\n",
    "parts = qa_template(example)\n",
    "prompt = chat_adapter(parts, system_turn=False, multi_turn=True, strict_turn=False)\n",
    "\n",
    "print(\"------\")\n",
    "print(\"parts\")\n",
    "for k, v in parts.items():\n",
    "    print(k+\":\")\n",
    "    print(v)\n",
    "\n",
    "print(\"------\")\n",
    "print(\"prompt\")\n",
    "for k, v in prompt.items():\n",
    "    print(k+\":\")\n",
    "    if k==\"messages\":\n",
    "        for turn in v:\n",
    "            print(turn)\n",
    "    else:\n",
    "        print(v)"
   ]
  },
  {
   "cell_type": "markdown",
   "id": "649d33af",
   "metadata": {},
   "source": [
    "### Chat Adapter with system_turn=False, multi_turn=False, strict_turn=True"
   ]
  },
  {
   "cell_type": "code",
   "execution_count": 29,
   "id": "2b48641f",
   "metadata": {
    "scrolled": true
   },
   "outputs": [
    {
     "name": "stdout",
     "output_type": "stream",
     "text": [
      "------\n",
      "parts\n",
      "instructions:\n",
      "Answer questions with short factoid answers.\n",
      "guidelines:\n",
      "Follow the following format.\n",
      "\n",
      "Question: ${the question to be answered}\n",
      "Answer: ${a short factoid answer, often between 1 and 5 words}\n",
      "rdemos:\n",
      "['Question: Which award did the first book of Gary Zukav receive?\\nAnswer: U.S. National Book Award']\n",
      "ademos:\n",
      "[]\n",
      "query:\n",
      "Question: Who has a broader scope of profession: E. L. Doctorow or Julia Peterkin?\n",
      "Answer: \n",
      "long_query:\n",
      "False\n",
      "------\n",
      "prompt\n",
      "model:\n",
      "gpt-3.5-turbo\n",
      "messages:\n",
      "{'role': 'user', 'content': 'Answer questions with short factoid answers.\\n\\n---\\n\\nFollow the following format.\\n\\nQuestion: ${the question to be answered}\\nAnswer: ${a short factoid answer, often between 1 and 5 words}\\n\\n---\\n\\nQuestion: Which award did the first book of Gary Zukav receive?\\nAnswer: U.S. National Book Award\\n\\nQuestion: Who has a broader scope of profession: E. L. Doctorow or Julia Peterkin?\\nAnswer:'}\n"
     ]
    }
   ],
   "source": [
    "dsp.settings.configure(lm=turbo, rm=rm)\n",
    "\n",
    "example = dsp.Example(question=question, demos=demos)\n",
    "parts = qa_template(example)\n",
    "prompt = chat_adapter(parts, system_turn=False, multi_turn=False, strict_turn=True)\n",
    "\n",
    "print(\"------\")\n",
    "print(\"parts\")\n",
    "for k, v in parts.items():\n",
    "    print(k+\":\")\n",
    "    print(v)\n",
    "\n",
    "print(\"------\")\n",
    "print(\"prompt\")\n",
    "for k, v in prompt.items():\n",
    "    print(k+\":\")\n",
    "    if k==\"messages\":\n",
    "        for turn in v:\n",
    "            print(turn)\n",
    "    else:\n",
    "        print(v)"
   ]
  },
  {
   "cell_type": "markdown",
   "id": "7882e0f2",
   "metadata": {},
   "source": [
    "### Chat Adapter with system_turn=False, multi_turn=False, strict_turn=False"
   ]
  },
  {
   "cell_type": "code",
   "execution_count": 30,
   "id": "23340ea2",
   "metadata": {
    "scrolled": true
   },
   "outputs": [
    {
     "name": "stdout",
     "output_type": "stream",
     "text": [
      "------\n",
      "parts\n",
      "instructions:\n",
      "Answer questions with short factoid answers.\n",
      "guidelines:\n",
      "Follow the following format.\n",
      "\n",
      "Question: ${the question to be answered}\n",
      "Answer: ${a short factoid answer, often between 1 and 5 words}\n",
      "rdemos:\n",
      "['Question: Which award did the first book of Gary Zukav receive?\\nAnswer: U.S. National Book Award']\n",
      "ademos:\n",
      "[]\n",
      "query:\n",
      "Question: Who has a broader scope of profession: E. L. Doctorow or Julia Peterkin?\n",
      "Answer: \n",
      "long_query:\n",
      "False\n",
      "------\n",
      "prompt\n",
      "model:\n",
      "gpt-3.5-turbo\n",
      "messages:\n",
      "{'role': 'user', 'content': 'Answer questions with short factoid answers.\\n\\n---\\n\\nFollow the following format.\\n\\nQuestion: ${the question to be answered}\\nAnswer: ${a short factoid answer, often between 1 and 5 words}\\n\\n---\\n\\nQuestion: Which award did the first book of Gary Zukav receive?\\nAnswer: U.S. National Book Award\\n\\nQuestion: Who has a broader scope of profession: E. L. Doctorow or Julia Peterkin?\\nAnswer:'}\n"
     ]
    }
   ],
   "source": [
    "dsp.settings.configure(lm=turbo, rm=rm)\n",
    "\n",
    "example = dsp.Example(question=question, demos=demos)\n",
    "parts = qa_template(example)\n",
    "prompt = chat_adapter(parts, system_turn=False, multi_turn=False, strict_turn=False)\n",
    "\n",
    "print(\"------\")\n",
    "print(\"parts\")\n",
    "for k, v in parts.items():\n",
    "    print(k+\":\")\n",
    "    print(v)\n",
    "\n",
    "print(\"------\")\n",
    "print(\"prompt\")\n",
    "for k, v in prompt.items():\n",
    "    print(k+\":\")\n",
    "    if k==\"messages\":\n",
    "        for turn in v:\n",
    "            print(turn)\n",
    "    else:\n",
    "        print(v)"
   ]
  }
 ],
 "metadata": {
  "kernelspec": {
   "display_name": "Python 3 (ipykernel)",
   "language": "python",
   "name": "python3"
  },
  "language_info": {
   "codemirror_mode": {
    "name": "ipython",
    "version": 3
   },
   "file_extension": ".py",
   "mimetype": "text/x-python",
   "name": "python",
   "nbconvert_exporter": "python",
   "pygments_lexer": "ipython3",
   "version": "3.11.2"
  }
 },
 "nbformat": 4,
 "nbformat_minor": 5
}
