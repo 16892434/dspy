{
 "cells": [
  {
   "cell_type": "markdown",
   "id": "219211db",
   "metadata": {},
   "source": [
    "# Given example and template, demonstrate how chat adapter works"
   ]
  },
  {
   "cell_type": "code",
   "execution_count": 1,
   "id": "1810a047",
   "metadata": {},
   "outputs": [
    {
     "name": "stdout",
     "output_type": "stream",
     "text": [
      "Not loading Cohere because it is not installed.\n"
     ]
    }
   ],
   "source": [
    "%load_ext autoreload\n",
    "%autoreload 2\n",
    "\n",
    "try: import google.colab; root_path = 'dsp'\n",
    "except: root_path = '.'\n",
    "\n",
    "import os\n",
    "os.environ[\"DSP_NOTEBOOK_CACHEDIR\"] = os.path.join(root_path, 'cache')\n",
    "\n",
    "import dsp\n",
    "\n",
    "openai_key = os.getenv('OPENAI_API_KEY')  # or replace with your API key (optional)\n",
    "colbert_server = 'http://ec2-44-228-128-229.us-west-2.compute.amazonaws.com:8893/api/search'"
   ]
  },
  {
   "cell_type": "code",
   "execution_count": 2,
   "id": "f61109d4",
   "metadata": {},
   "outputs": [],
   "source": [
    "train = [('Who produced the album that included a re-recording of \"Lithium\"?', ['Butch Vig']),\n",
    "         ('Who was the director of the 2009 movie featuring Peter Outerbridge as William Easton?', ['Kevin Greutert']),\n",
    "         ('The heir to the Du Pont family fortune sponsored what wrestling team?', ['Foxcatcher', 'Team Foxcatcher', 'Foxcatcher Team']),\n",
    "         ('In what year was the star of To Hell and Back born?', ['1925']),\n",
    "         ('Which award did the first book of Gary Zukav receive?', ['U.S. National Book Award', 'National Book Award']),\n",
    "         ('What city was the victim of Joseph Druces working in?', ['Boston, Massachusetts', 'Boston']),]\n",
    "\n",
    "# Train is an array of examples\n",
    "train = [dsp.Example(question=question, answer=answer) for question, answer in train]"
   ]
  },
  {
   "cell_type": "code",
   "execution_count": 3,
   "id": "cafcba3b",
   "metadata": {},
   "outputs": [],
   "source": [
    "dev = [('Who has a broader scope of profession: E. L. Doctorow or Julia Peterkin?', ['E. L. Doctorow', 'E.L. Doctorow', 'Doctorow']),\n",
    "       ('What documentary about the Gilgo Beach Killer debuted on A&E?', ['The Killing Season']),\n",
    "       ('Right Back At It Again contains lyrics co-written by the singer born in what city?', ['Gainesville, Florida', 'Gainesville']),\n",
    "       ('What year was the party of the winner of the 1971 San Francisco mayoral election founded?', ['1828']),\n",
    "       ('Which author is English: John Braine or Studs Terkel?', ['John Braine']),\n",
    "       ('Anthony Dirrell is the brother of which super middleweight title holder?', ['Andre Dirrell']),\n",
    "       ('In which city is the sports nutrition business established by Oliver Cookson based ?', ['Cheshire', 'Cheshire, UK']),\n",
    "       ('Find the birth date of the actor who played roles in First Wives Club and Searching for the Elephant.', ['February 13, 1980']),\n",
    "       ('Kyle Moran was born in the town on what river?', ['Castletown', 'Castletown River']),\n",
    "       (\"What is the name of one branch of Robert D. Braun's speciality?\", ['aeronautical engineering', 'astronautical engineering', 'aeronautics', 'astronautics']),\n",
    "       (\"Where was the actress who played the niece in the Priest film born?\", ['Surrey', 'Guildford, Surrey']),\n",
    "       ('Name the movie in which the daughter of Noel Harrison plays Violet Trefusis.', ['Portrait of a Marriage']),\n",
    "       ('What year was the father of the Princes in the Tower born?', ['1442'])]\n",
    "\n",
    "dev = [dsp.Example(question=question, answer=answer) for question, answer in dev]"
   ]
  },
  {
   "cell_type": "markdown",
   "id": "226a9107",
   "metadata": {},
   "source": [
    "Basic Adapter Input: Template with Example\n",
    "\n",
    "Basic Adapter Output: Prompt String\n",
    "\n",
    "Chat Adapter Input: Template with Example\n",
    "\n",
    "Chat Adapter Output: Prompt Dictionairy"
   ]
  },
  {
   "cell_type": "code",
   "execution_count": 4,
   "id": "ab0e23bf",
   "metadata": {},
   "outputs": [],
   "source": [
    "# Template, Demos, and Question Construction\n",
    "Question = dsp.Type(prefix=\"Question:\", desc=\"${the question to be answered}\")\n",
    "Answer = dsp.Type(prefix=\"Answer:\", desc=\"${a short factoid answer, often between 1 and 5 words}\", format=dsp.format_answers)\n",
    "qa_template = dsp.Template(instructions=\"Answer questions with short factoid answers.\", question=Question(), answer=Answer())\n",
    "\n",
    "question = dev[0].question\n",
    "demos = dsp.sample(train, k=1)\n",
    "example = dsp.Example(question=question, demos=demos)"
   ]
  },
  {
   "cell_type": "markdown",
   "id": "f579170f",
   "metadata": {},
   "source": [
    "### Load Models and Adapters"
   ]
  },
  {
   "cell_type": "code",
   "execution_count": 5,
   "id": "9109feb6",
   "metadata": {},
   "outputs": [],
   "source": [
    "rm = dsp.ColBERTv2(url=colbert_server)\n",
    "davinci = dsp.GPT3(model='text-davinci-002', api_key=openai_key)\n",
    "turbo = dsp.GPT3(model='gpt-3.5-turbo', api_key=openai_key, model_type=\"chat\")\n",
    "\n",
    "\n",
    "basic_adapter = dsp.modules.BasicAdapter()\n",
    "chat_adapter = dsp.modules.ChatAdapter()"
   ]
  },
  {
   "cell_type": "markdown",
   "id": "b6847a05",
   "metadata": {},
   "source": [
    "### Basic Adapter with demos\n"
   ]
  },
  {
   "cell_type": "code",
   "execution_count": 6,
   "id": "f4204f54",
   "metadata": {
    "scrolled": true
   },
   "outputs": [
    {
     "name": "stdout",
     "output_type": "stream",
     "text": [
      "------\n",
      "PARTS\n",
      "instructions:\n",
      "Answer questions with short factoid answers.\n",
      "guidelines:\n",
      "Follow the following format.\n",
      "\n",
      "Question: ${the question to be answered}\n",
      "Answer: ${a short factoid answer, often between 1 and 5 words}\n",
      "rdemos:\n",
      "['Question: Which award did the first book of Gary Zukav receive?\\nAnswer: U.S. National Book Award']\n",
      "ademos:\n",
      "[]\n",
      "query:\n",
      "Question: Who has a broader scope of profession: E. L. Doctorow or Julia Peterkin?\n",
      "Answer: \n",
      "long_query:\n",
      "False\n",
      "------\n",
      "PROMPT\n",
      "Answer questions with short factoid answers.\n",
      "\n",
      "---\n",
      "\n",
      "Follow the following format.\n",
      "\n",
      "Question: ${the question to be answered}\n",
      "Answer: ${a short factoid answer, often between 1 and 5 words}\n",
      "\n",
      "---\n",
      "\n",
      "Question: Which award did the first book of Gary Zukav receive?\n",
      "Answer: U.S. National Book Award\n",
      "\n",
      "Question: Who has a broader scope of profession: E. L. Doctorow or Julia Peterkin?\n",
      "Answer:\n"
     ]
    }
   ],
   "source": [
    "dsp.settings.configure(lm=davinci, rm=rm)\n",
    "\n",
    "parts = qa_template(example)\n",
    "prompt = basic_adapter(parts)\n",
    "\n",
    "print(\"------\")\n",
    "print(\"PARTS\")\n",
    "for k, v in parts.items():\n",
    "    print(k+\":\")\n",
    "    print(v)\n",
    "\n",
    "print(\"------\")\n",
    "print(\"PROMPT\")\n",
    "print(prompt)"
   ]
  },
  {
   "cell_type": "markdown",
   "id": "5e9c3ff3",
   "metadata": {},
   "source": [
    "### Chat Adapter with demos"
   ]
  },
  {
   "cell_type": "code",
   "execution_count": 7,
   "id": "ccfba721",
   "metadata": {
    "scrolled": true
   },
   "outputs": [
    {
     "ename": "AttributeError",
     "evalue": "'bool' object has no attribute 'strip'",
     "output_type": "error",
     "traceback": [
      "\u001b[0;31m---------------------------------------------------------------------------\u001b[0m",
      "\u001b[0;31mAttributeError\u001b[0m                            Traceback (most recent call last)",
      "Cell \u001b[0;32mIn[7], line 5\u001b[0m\n\u001b[1;32m      3\u001b[0m example \u001b[38;5;241m=\u001b[39m dsp\u001b[38;5;241m.\u001b[39mExample(question\u001b[38;5;241m=\u001b[39mquestion, demos\u001b[38;5;241m=\u001b[39mdemos)\n\u001b[1;32m      4\u001b[0m parts \u001b[38;5;241m=\u001b[39m qa_template(example)\n\u001b[0;32m----> 5\u001b[0m prompt \u001b[38;5;241m=\u001b[39m \u001b[43mchat_adapter\u001b[49m\u001b[43m(\u001b[49m\u001b[43mparts\u001b[49m\u001b[43m)\u001b[49m\n\u001b[1;32m      7\u001b[0m \u001b[38;5;28mprint\u001b[39m(\u001b[38;5;124m\"\u001b[39m\u001b[38;5;124m------\u001b[39m\u001b[38;5;124m\"\u001b[39m)\n\u001b[1;32m      8\u001b[0m \u001b[38;5;28mprint\u001b[39m(\u001b[38;5;124m\"\u001b[39m\u001b[38;5;124mparts\u001b[39m\u001b[38;5;124m\"\u001b[39m)\n",
      "File \u001b[0;32m~/programming/dsp/dsp/modules/gpt3.py:36\u001b[0m, in \u001b[0;36mChatAdapter.__call__\u001b[0;34m(self, parts, system_turn, multi_turn, strict_turn)\u001b[0m\n\u001b[1;32m     33\u001b[0m \u001b[38;5;28;01mdef\u001b[39;00m \u001b[38;5;21m__call__\u001b[39m(\u001b[38;5;28mself\u001b[39m, parts: \u001b[38;5;28mdict\u001b[39m, system_turn\u001b[38;5;241m=\u001b[39m\u001b[38;5;28;01mFalse\u001b[39;00m, multi_turn\u001b[38;5;241m=\u001b[39m\u001b[38;5;28;01mFalse\u001b[39;00m, strict_turn\u001b[38;5;241m=\u001b[39m\u001b[38;5;28;01mFalse\u001b[39;00m):\n\u001b[1;32m     34\u001b[0m     \u001b[38;5;28mself\u001b[39m\u001b[38;5;241m.\u001b[39mprompt[\u001b[38;5;124m\"\u001b[39m\u001b[38;5;124mmodel\u001b[39m\u001b[38;5;124m\"\u001b[39m] \u001b[38;5;241m=\u001b[39m dsp\u001b[38;5;241m.\u001b[39msettings\u001b[38;5;241m.\u001b[39mlm\u001b[38;5;241m.\u001b[39mkwargs[\u001b[38;5;124m\"\u001b[39m\u001b[38;5;124mmodel\u001b[39m\u001b[38;5;124m\"\u001b[39m]\n\u001b[0;32m---> 36\u001b[0m     instructions, guidelines, rdemos, ademos, query, long_query \u001b[38;5;241m=\u001b[39m parts[\u001b[38;5;124m\"\u001b[39m\u001b[38;5;124minstructions\u001b[39m\u001b[38;5;124m\"\u001b[39m]\u001b[38;5;241m.\u001b[39mstrip(), parts[\u001b[38;5;124m\"\u001b[39m\u001b[38;5;124mguidelines\u001b[39m\u001b[38;5;124m\"\u001b[39m]\u001b[38;5;241m.\u001b[39mstrip(), parts[\u001b[38;5;124m\"\u001b[39m\u001b[38;5;124mrdemos\u001b[39m\u001b[38;5;124m\"\u001b[39m], parts[\u001b[38;5;124m\"\u001b[39m\u001b[38;5;124mademos\u001b[39m\u001b[38;5;124m\"\u001b[39m], parts[\u001b[38;5;124m\"\u001b[39m\u001b[38;5;124mquery\u001b[39m\u001b[38;5;124m\"\u001b[39m]\u001b[38;5;241m.\u001b[39mstrip(), \u001b[43mparts\u001b[49m\u001b[43m[\u001b[49m\u001b[38;5;124;43m\"\u001b[39;49m\u001b[38;5;124;43mlong_query\u001b[39;49m\u001b[38;5;124;43m\"\u001b[39;49m\u001b[43m]\u001b[49m\u001b[38;5;241;43m.\u001b[39;49m\u001b[43mstrip\u001b[49m()        \n\u001b[1;32m     37\u001b[0m     rdemos \u001b[38;5;241m=\u001b[39m \u001b[38;5;124m\"\u001b[39m\u001b[38;5;130;01m\\n\u001b[39;00m\u001b[38;5;130;01m\\n\u001b[39;00m\u001b[38;5;124m\"\u001b[39m\u001b[38;5;241m.\u001b[39mjoin(rdemos)\u001b[38;5;241m.\u001b[39mstrip()\n\u001b[1;32m     38\u001b[0m     rdemos_and_query \u001b[38;5;241m=\u001b[39m \u001b[38;5;124m\"\u001b[39m\u001b[38;5;130;01m\\n\u001b[39;00m\u001b[38;5;130;01m\\n\u001b[39;00m\u001b[38;5;124m\"\u001b[39m\u001b[38;5;241m.\u001b[39mjoin([rdemos, query])\u001b[38;5;241m.\u001b[39mstrip()\n",
      "\u001b[0;31mAttributeError\u001b[0m: 'bool' object has no attribute 'strip'"
     ]
    }
   ],
   "source": [
    "dsp.settings.configure(lm=turbo, rm=rm)\n",
    "\n",
    "example = dsp.Example(question=question, demos=demos)\n",
    "parts = qa_template(example)\n",
    "prompt = chat_adapter(parts)\n",
    "\n",
    "print(\"------\")\n",
    "print(\"parts\")\n",
    "for k, v in parts.items():\n",
    "    print(k+\":\")\n",
    "    print(v)\n",
    "\n",
    "print(\"------\")\n",
    "print(\"prompt\")\n",
    "for k, v in prompt.items():\n",
    "    print(k+\":\")\n",
    "    if k==\"messages\":\n",
    "        for turn in v:\n",
    "            print(turn)\n",
    "    else:\n",
    "        print(v)"
   ]
  },
  {
   "cell_type": "markdown",
   "id": "c8753768",
   "metadata": {},
   "source": [
    "### Basic Adapter with no demos"
   ]
  },
  {
   "cell_type": "code",
   "execution_count": null,
   "id": "6552e0ab",
   "metadata": {
    "scrolled": true
   },
   "outputs": [],
   "source": [
    "dsp.settings.configure(lm=davinci, rm=rm)\n",
    "\n",
    "example = dsp.Example(question=question)\n",
    "parts = qa_template(example)\n",
    "prompt = basic_adapter(parts)\n",
    "\n",
    "print(\"------\")\n",
    "print(\"PARTS\")\n",
    "for k, v in parts.items():\n",
    "    print(k+\":\")\n",
    "    print(v)\n",
    "\n",
    "print(\"------\")\n",
    "print(\"PROMPT\")\n",
    "print(prompt)"
   ]
  },
  {
   "cell_type": "markdown",
   "id": "4089048b",
   "metadata": {},
   "source": [
    "### Chat Adapter with no demos\n"
   ]
  },
  {
   "cell_type": "code",
   "execution_count": null,
   "id": "d4b9f51d",
   "metadata": {
    "scrolled": true
   },
   "outputs": [],
   "source": [
    "dsp.settings.configure(lm=turbo, rm=rm)\n",
    "\n",
    "example = dsp.Example(question=question)\n",
    "parts = qa_template(example)\n",
    "prompt = chat_adapter(parts)\n",
    "\n",
    "print(\"------\")\n",
    "print(\"PARTS\")\n",
    "for k, v in parts.items():\n",
    "    print(k+\":\")\n",
    "    print(v)\n",
    "\n",
    "print(\"------\")\n",
    "print(\"PROMPT\")\n",
    "print(prompt)"
   ]
  },
  {
   "cell_type": "markdown",
   "id": "bd38d034",
   "metadata": {},
   "source": [
    "### Basic Adapter with demos and context"
   ]
  },
  {
   "cell_type": "code",
   "execution_count": 38,
   "id": "9c6b7a33",
   "metadata": {
    "scrolled": true
   },
   "outputs": [],
   "source": [
    "Context = dsp.Type(\n",
    "    prefix=\"Context:\\n\",\n",
    "    desc=\"${sources that may contain relevant content}\",\n",
    "    format=dsp.passages2text\n",
    ")\n",
    "\n",
    "qa_template_with_passages = dsp.Template(\n",
    "    instructions=qa_template.instructions,\n",
    "    context=Context(), question=Question(), answer=Answer()\n",
    ")\n",
    "\n",
    "passages = dsp.retrieve(question, k=1)\n",
    "example = dsp.Example(question=question, context=passages, demos=demos)"
   ]
  },
  {
   "cell_type": "code",
   "execution_count": 39,
   "id": "465c9778",
   "metadata": {
    "scrolled": true
   },
   "outputs": [
    {
     "name": "stdout",
     "output_type": "stream",
     "text": [
      "------\n",
      "PASSAGES\n",
      "0:\n",
      "Julia Peterkin | Julia Peterkin Julia Peterkin (October 31, 1880 – August 10, 1961) was an American author from South Carolina. In 1929 she won the Pulitzer Prize for Novel/Literature, for her novel \"Scarlet Sister Mary.\" She wrote several novels about the plantation South, especially the Gullah people of the Low Country. She was one of the few white authors who wrote about the African-American experience. Julia Mood was born in Laurens County, South Carolina. Her father was a physician, and she was the third of his four children. Her mother died soon after her birth, and her father later married Janie Brogdon.\n",
      "------\n",
      "PARTS\n",
      "instructions:\n",
      "Answer questions with short factoid answers.\n",
      "guidelines:\n",
      "Follow the following format.\n",
      "\n",
      "Context:\n",
      "${sources that may contain relevant content}\n",
      "\n",
      "Question: ${the question to be answered}\n",
      "\n",
      "Answer: ${a short factoid answer, often between 1 and 5 words}\n",
      "rdemos:\n",
      "['Question: Which award did the first book of Gary Zukav receive?\\nAnswer: U.S. National Book Award']\n",
      "ademos:\n",
      "[]\n",
      "query:\n",
      "Context:\n",
      "«Julia Peterkin | Julia Peterkin Julia Peterkin (October 31, 1880 – August 10, 1961) was an American author from South Carolina. In 1929 she won the Pulitzer Prize for Novel/Literature, for her novel \"Scarlet Sister Mary.\" She wrote several novels about the plantation South, especially the Gullah people of the Low Country. She was one of the few white authors who wrote about the African-American experience. Julia Mood was born in Laurens County, South Carolina. Her father was a physician, and she was the third of his four children. Her mother died soon after her birth, and her father later married Janie Brogdon.»\n",
      "\n",
      "Question: Who has a broader scope of profession: E. L. Doctorow or Julia Peterkin?\n",
      "\n",
      "Answer: \n",
      "long_query:\n",
      "True\n",
      "------\n",
      "PROMPT\n",
      "Answer questions with short factoid answers.\n",
      "\n",
      "---\n",
      "\n",
      "Question: Which award did the first book of Gary Zukav receive?\n",
      "Answer: U.S. National Book Award\n",
      "\n",
      "---\n",
      "\n",
      "Follow the following format.\n",
      "\n",
      "Context:\n",
      "${sources that may contain relevant content}\n",
      "\n",
      "Question: ${the question to be answered}\n",
      "\n",
      "Answer: ${a short factoid answer, often between 1 and 5 words}\n",
      "\n",
      "---\n",
      "\n",
      "Context:\n",
      "«Julia Peterkin | Julia Peterkin Julia Peterkin (October 31, 1880 – August 10, 1961) was an American author from South Carolina. In 1929 she won the Pulitzer Prize for Novel/Literature, for her novel \"Scarlet Sister Mary.\" She wrote several novels about the plantation South, especially the Gullah people of the Low Country. She was one of the few white authors who wrote about the African-American experience. Julia Mood was born in Laurens County, South Carolina. Her father was a physician, and she was the third of his four children. Her mother died soon after her birth, and her father later married Janie Brogdon.»\n",
      "\n",
      "Question: Who has a broader scope of profession: E. L. Doctorow or Julia Peterkin?\n",
      "\n",
      "Answer:\n"
     ]
    }
   ],
   "source": [
    "dsp.settings.configure(lm=davinci, rm=rm)\n",
    "parts = qa_template_with_passages(example)\n",
    "prompt = basic_adapter(parts)\n",
    "\n",
    "print(\"------\")\n",
    "print(\"PASSAGES\")\n",
    "for i, v in enumerate(passages):\n",
    "    print(str(i)+\":\")\n",
    "    print(v)\n",
    "\n",
    "print(\"------\")\n",
    "print(\"PARTS\")\n",
    "for k, v in parts.items():\n",
    "    print(k+\":\")\n",
    "    print(v)\n",
    "\n",
    "print(\"------\")\n",
    "print(\"PROMPT\")\n",
    "print(prompt)"
   ]
  },
  {
   "cell_type": "markdown",
   "id": "0774400c",
   "metadata": {},
   "source": [
    "### Chat Adapter with demos and context"
   ]
  },
  {
   "cell_type": "code",
   "execution_count": 40,
   "id": "649dee23",
   "metadata": {
    "scrolled": true
   },
   "outputs": [
    {
     "name": "stdout",
     "output_type": "stream",
     "text": [
      "------\n",
      "PASSAGES\n",
      "0:\n",
      "Julia Peterkin | Julia Peterkin Julia Peterkin (October 31, 1880 – August 10, 1961) was an American author from South Carolina. In 1929 she won the Pulitzer Prize for Novel/Literature, for her novel \"Scarlet Sister Mary.\" She wrote several novels about the plantation South, especially the Gullah people of the Low Country. She was one of the few white authors who wrote about the African-American experience. Julia Mood was born in Laurens County, South Carolina. Her father was a physician, and she was the third of his four children. Her mother died soon after her birth, and her father later married Janie Brogdon.\n",
      "------\n",
      "PARTS\n",
      "instructions:\n",
      "Answer questions with short factoid answers.\n",
      "guidelines:\n",
      "Follow the following format.\n",
      "\n",
      "Context:\n",
      "${sources that may contain relevant content}\n",
      "\n",
      "Question: ${the question to be answered}\n",
      "\n",
      "Answer: ${a short factoid answer, often between 1 and 5 words}\n",
      "rdemos:\n",
      "['Question: Which award did the first book of Gary Zukav receive?\\nAnswer: U.S. National Book Award']\n",
      "ademos:\n",
      "[]\n",
      "query:\n",
      "Context:\n",
      "«Julia Peterkin | Julia Peterkin Julia Peterkin (October 31, 1880 – August 10, 1961) was an American author from South Carolina. In 1929 she won the Pulitzer Prize for Novel/Literature, for her novel \"Scarlet Sister Mary.\" She wrote several novels about the plantation South, especially the Gullah people of the Low Country. She was one of the few white authors who wrote about the African-American experience. Julia Mood was born in Laurens County, South Carolina. Her father was a physician, and she was the third of his four children. Her mother died soon after her birth, and her father later married Janie Brogdon.»\n",
      "\n",
      "Question: Who has a broader scope of profession: E. L. Doctorow or Julia Peterkin?\n",
      "\n",
      "Answer: \n",
      "long_query:\n",
      "True\n",
      "------\n",
      "PROMPT\n",
      "gpt-3.5-turbo\n",
      "messages\n",
      "0:\n",
      "{'role': 'system', 'content': 'Answer questions with short factoid answers.'}\n",
      "1:\n",
      "{'role': 'user', 'content': 'Question: Which award did the first book of Gary Zukav receive?\\nAnswer: U.S. National Book Award'}\n",
      "2:\n",
      "{'role': 'user', 'content': 'Follow the following format.\\n\\nContext:\\n${sources that may contain relevant content}\\n\\nQuestion: ${the question to be answered}\\n\\nAnswer: ${a short factoid answer, often between 1 and 5 words}'}\n",
      "3:\n",
      "{'role': 'user', 'content': 'Context:\\n«Julia Peterkin | Julia Peterkin Julia Peterkin (October 31, 1880 – August 10, 1961) was an American author from South Carolina. In 1929 she won the Pulitzer Prize for Novel/Literature, for her novel \"Scarlet Sister Mary.\" She wrote several novels about the plantation South, especially the Gullah people of the Low Country. She was one of the few white authors who wrote about the African-American experience. Julia Mood was born in Laurens County, South Carolina. Her father was a physician, and she was the third of his four children. Her mother died soon after her birth, and her father later married Janie Brogdon.»\\n\\nQuestion: Who has a broader scope of profession: E. L. Doctorow or Julia Peterkin?\\n\\nAnswer: '}\n"
     ]
    }
   ],
   "source": [
    "dsp.settings.configure(lm=turbo, rm=rm)\n",
    "\n",
    "parts = qa_template_with_passages(example)\n",
    "prompt = chat_adapter(parts)\n",
    "\n",
    "print(\"------\")\n",
    "print(\"PASSAGES\")\n",
    "for i, v in enumerate(passages):\n",
    "    print(str(i)+\":\")\n",
    "    print(v)\n",
    "\n",
    "print(\"------\")\n",
    "print(\"PARTS\")\n",
    "for k, v in parts.items():\n",
    "    print(k+\":\")\n",
    "    print(v)\n",
    "\n",
    "print(\"------\")\n",
    "print(\"PROMPT\")\n",
    "print(prompt['model'])\n",
    "print(\"messages\")\n",
    "for i, v in enumerate(prompt['messages']):\n",
    "    print(str(i)+\":\")\n",
    "    print(v)"
   ]
  },
  {
   "cell_type": "markdown",
   "id": "8d05fc6e",
   "metadata": {},
   "source": [
    "## Testing Chat Adapter Flags with demos"
   ]
  },
  {
   "cell_type": "markdown",
   "id": "956a8cfc",
   "metadata": {},
   "source": [
    "### Chat Adapter with system_turn=True, multi_turn=True, strict_turn=True"
   ]
  },
  {
   "cell_type": "code",
   "execution_count": 11,
   "id": "1e80f347",
   "metadata": {
    "scrolled": true
   },
   "outputs": [
    {
     "name": "stdout",
     "output_type": "stream",
     "text": [
      "------\n",
      "parts\n",
      "instructions:\n",
      "Answer questions with short factoid answers.\n",
      "guidelines:\n",
      "Follow the following format.\n",
      "\n",
      "Question: ${the question to be answered}\n",
      "Answer: ${a short factoid answer, often between 1 and 5 words}\n",
      "rdemos:\n",
      "['Question: Which award did the first book of Gary Zukav receive?\\nAnswer: U.S. National Book Award']\n",
      "ademos:\n",
      "[]\n",
      "query:\n",
      "Question: Who has a broader scope of profession: E. L. Doctorow or Julia Peterkin?\n",
      "Answer: \n",
      "long_query:\n",
      "False\n",
      "------\n",
      "prompt\n",
      "model:\n",
      "gpt-3.5-turbo\n",
      "messages:\n",
      "{'role': 'system', 'content': 'Answer questions with short factoid answers.'}\n",
      "{'role': 'user', 'content': 'Follow the following format.\\n\\nQuestion: ${the question to be answered}\\nAnswer: ${a short factoid answer, often between 1 and 5 words}'}\n",
      "{'role': 'assistant', 'content': 'Got it.'}\n",
      "{'role': 'user', 'content': 'Question: Which award did the first book of Gary Zukav receive?\\nAnswer: U.S. National Book Award'}\n",
      "{'role': 'assistant', 'content': 'Got it.'}\n",
      "{'role': 'user', 'content': 'Question: Who has a broader scope of profession: E. L. Doctorow or Julia Peterkin?\\nAnswer:'}\n"
     ]
    }
   ],
   "source": [
    "dsp.settings.configure(lm=turbo, rm=rm)\n",
    "\n",
    "example = dsp.Example(question=question, demos=demos)\n",
    "parts = qa_template(example)\n",
    "prompt = chat_adapter(parts, system_turn=True, multi_turn=True, strict_turn=True)\n",
    "\n",
    "print(\"------\")\n",
    "print(\"parts\")\n",
    "for k, v in parts.items():\n",
    "    print(k+\":\")\n",
    "    print(v)\n",
    "\n",
    "print(\"------\")\n",
    "print(\"prompt\")\n",
    "for k, v in prompt.items():\n",
    "    print(k+\":\")\n",
    "    if k==\"messages\":\n",
    "        for turn in v:\n",
    "            print(turn)\n",
    "    else:\n",
    "        print(v)"
   ]
  },
  {
   "cell_type": "markdown",
   "id": "6dfc04b9",
   "metadata": {},
   "source": [
    "### Chat Adapter with system_turn=True, multi_turn=True, strict_turn=False"
   ]
  },
  {
   "cell_type": "code",
   "execution_count": 12,
   "id": "85758722",
   "metadata": {
    "scrolled": true
   },
   "outputs": [
    {
     "name": "stdout",
     "output_type": "stream",
     "text": [
      "------\n",
      "parts\n",
      "instructions:\n",
      "Answer questions with short factoid answers.\n",
      "guidelines:\n",
      "Follow the following format.\n",
      "\n",
      "Question: ${the question to be answered}\n",
      "Answer: ${a short factoid answer, often between 1 and 5 words}\n",
      "rdemos:\n",
      "['Question: Which award did the first book of Gary Zukav receive?\\nAnswer: U.S. National Book Award']\n",
      "ademos:\n",
      "[]\n",
      "query:\n",
      "Question: Who has a broader scope of profession: E. L. Doctorow or Julia Peterkin?\n",
      "Answer: \n",
      "long_query:\n",
      "False\n",
      "------\n",
      "prompt\n",
      "model:\n",
      "gpt-3.5-turbo\n",
      "messages:\n",
      "{'role': 'system', 'content': 'Answer questions with short factoid answers.'}\n",
      "{'role': 'user', 'content': 'Follow the following format.\\n\\nQuestion: ${the question to be answered}\\nAnswer: ${a short factoid answer, often between 1 and 5 words}'}\n",
      "{'role': 'user', 'content': 'Question: Which award did the first book of Gary Zukav receive?\\nAnswer: U.S. National Book Award'}\n",
      "{'role': 'user', 'content': 'Question: Who has a broader scope of profession: E. L. Doctorow or Julia Peterkin?\\nAnswer:'}\n"
     ]
    }
   ],
   "source": [
    "dsp.settings.configure(lm=turbo, rm=rm)\n",
    "\n",
    "example = dsp.Example(question=question, demos=demos)\n",
    "parts = qa_template(example)\n",
    "prompt = chat_adapter(parts, system_turn=True, multi_turn=True, strict_turn=False)\n",
    "\n",
    "print(\"------\")\n",
    "print(\"parts\")\n",
    "for k, v in parts.items():\n",
    "    print(k+\":\")\n",
    "    print(v)\n",
    "\n",
    "print(\"------\")\n",
    "print(\"prompt\")\n",
    "for k, v in prompt.items():\n",
    "    print(k+\":\")\n",
    "    if k==\"messages\":\n",
    "        for turn in v:\n",
    "            print(turn)\n",
    "    else:\n",
    "        print(v)"
   ]
  },
  {
   "cell_type": "markdown",
   "id": "af42ba60",
   "metadata": {},
   "source": [
    "### Chat Adapter with system_turn=True, multi_turn=False, strict_turn=True"
   ]
  },
  {
   "cell_type": "code",
   "execution_count": 13,
   "id": "3461eddf",
   "metadata": {
    "scrolled": true
   },
   "outputs": [
    {
     "name": "stdout",
     "output_type": "stream",
     "text": [
      "------\n",
      "parts\n",
      "instructions:\n",
      "Answer questions with short factoid answers.\n",
      "guidelines:\n",
      "Follow the following format.\n",
      "\n",
      "Question: ${the question to be answered}\n",
      "Answer: ${a short factoid answer, often between 1 and 5 words}\n",
      "rdemos:\n",
      "['Question: Which award did the first book of Gary Zukav receive?\\nAnswer: U.S. National Book Award']\n",
      "ademos:\n",
      "[]\n",
      "query:\n",
      "Question: Who has a broader scope of profession: E. L. Doctorow or Julia Peterkin?\n",
      "Answer: \n",
      "long_query:\n",
      "False\n",
      "------\n",
      "prompt\n",
      "model:\n",
      "gpt-3.5-turbo\n",
      "messages:\n",
      "{'role': 'system', 'content': 'Answer questions with short factoid answers.'}\n",
      "{'role': 'user', 'content': 'Follow the following format.\\n\\nQuestion: ${the question to be answered}\\nAnswer: ${a short factoid answer, often between 1 and 5 words}\\n\\n---\\n\\nQuestion: Which award did the first book of Gary Zukav receive?\\nAnswer: U.S. National Book Award\\n\\nQuestion: Who has a broader scope of profession: E. L. Doctorow or Julia Peterkin?\\nAnswer:'}\n"
     ]
    }
   ],
   "source": [
    "dsp.settings.configure(lm=turbo, rm=rm)\n",
    "\n",
    "example = dsp.Example(question=question, demos=demos)\n",
    "parts = qa_template(example)\n",
    "prompt = chat_adapter(parts, system_turn=True, multi_turn=False, strict_turn=True)\n",
    "\n",
    "print(\"------\")\n",
    "print(\"parts\")\n",
    "for k, v in parts.items():\n",
    "    print(k+\":\")\n",
    "    print(v)\n",
    "\n",
    "print(\"------\")\n",
    "print(\"prompt\")\n",
    "for k, v in prompt.items():\n",
    "    print(k+\":\")\n",
    "    if k==\"messages\":\n",
    "        for turn in v:\n",
    "            print(turn)\n",
    "    else:\n",
    "        print(v)"
   ]
  },
  {
   "cell_type": "markdown",
   "id": "5fae7728",
   "metadata": {},
   "source": [
    "### Chat Adapter with system_turn=True, multi_turn=False, strict_turn=False"
   ]
  },
  {
   "cell_type": "code",
   "execution_count": 14,
   "id": "b988799e",
   "metadata": {
    "scrolled": true
   },
   "outputs": [
    {
     "name": "stdout",
     "output_type": "stream",
     "text": [
      "------\n",
      "parts\n",
      "instructions:\n",
      "Answer questions with short factoid answers.\n",
      "guidelines:\n",
      "Follow the following format.\n",
      "\n",
      "Question: ${the question to be answered}\n",
      "Answer: ${a short factoid answer, often between 1 and 5 words}\n",
      "rdemos:\n",
      "['Question: Which award did the first book of Gary Zukav receive?\\nAnswer: U.S. National Book Award']\n",
      "ademos:\n",
      "[]\n",
      "query:\n",
      "Question: Who has a broader scope of profession: E. L. Doctorow or Julia Peterkin?\n",
      "Answer: \n",
      "long_query:\n",
      "False\n",
      "------\n",
      "prompt\n",
      "model:\n",
      "gpt-3.5-turbo\n",
      "messages:\n",
      "{'role': 'system', 'content': 'Answer questions with short factoid answers.'}\n",
      "{'role': 'user', 'content': 'Follow the following format.\\n\\nQuestion: ${the question to be answered}\\nAnswer: ${a short factoid answer, often between 1 and 5 words}\\n\\n---\\n\\nQuestion: Which award did the first book of Gary Zukav receive?\\nAnswer: U.S. National Book Award\\n\\nQuestion: Who has a broader scope of profession: E. L. Doctorow or Julia Peterkin?\\nAnswer:'}\n"
     ]
    }
   ],
   "source": [
    "dsp.settings.configure(lm=turbo, rm=rm)\n",
    "\n",
    "example = dsp.Example(question=question, demos=demos)\n",
    "parts = qa_template(example)\n",
    "prompt = chat_adapter(parts, system_turn=True, multi_turn=False, strict_turn=False)\n",
    "\n",
    "print(\"------\")\n",
    "print(\"parts\")\n",
    "for k, v in parts.items():\n",
    "    print(k+\":\")\n",
    "    print(v)\n",
    "\n",
    "print(\"------\")\n",
    "print(\"prompt\")\n",
    "for k, v in prompt.items():\n",
    "    print(k+\":\")\n",
    "    if k==\"messages\":\n",
    "        for turn in v:\n",
    "            print(turn)\n",
    "    else:\n",
    "        print(v)"
   ]
  },
  {
   "cell_type": "markdown",
   "id": "3843305c",
   "metadata": {},
   "source": [
    "### Chat Adapter with system_turn=False, multi_turn=True, strict_turn=True"
   ]
  },
  {
   "cell_type": "code",
   "execution_count": 16,
   "id": "aca91278",
   "metadata": {
    "scrolled": true
   },
   "outputs": [
    {
     "name": "stdout",
     "output_type": "stream",
     "text": [
      "------\n",
      "parts\n",
      "instructions:\n",
      "Answer questions with short factoid answers.\n",
      "guidelines:\n",
      "Follow the following format.\n",
      "\n",
      "Question: ${the question to be answered}\n",
      "Answer: ${a short factoid answer, often between 1 and 5 words}\n",
      "rdemos:\n",
      "['Question: Which award did the first book of Gary Zukav receive?\\nAnswer: U.S. National Book Award']\n",
      "ademos:\n",
      "[]\n",
      "query:\n",
      "Question: Who has a broader scope of profession: E. L. Doctorow or Julia Peterkin?\n",
      "Answer: \n",
      "long_query:\n",
      "False\n",
      "------\n",
      "prompt\n",
      "model:\n",
      "gpt-3.5-turbo\n",
      "messages:\n",
      "{'role': 'user', 'content': 'Answer questions with short factoid answers.'}\n",
      "{'role': 'assistant', 'content': 'Got it.'}\n",
      "{'role': 'user', 'content': 'Follow the following format.\\n\\nQuestion: ${the question to be answered}\\nAnswer: ${a short factoid answer, often between 1 and 5 words}'}\n",
      "{'role': 'assistant', 'content': 'Got it.'}\n",
      "{'role': 'user', 'content': 'Question: Which award did the first book of Gary Zukav receive?\\nAnswer: U.S. National Book Award'}\n",
      "{'role': 'assistant', 'content': 'Got it.'}\n",
      "{'role': 'user', 'content': 'Question: Who has a broader scope of profession: E. L. Doctorow or Julia Peterkin?\\nAnswer:'}\n"
     ]
    }
   ],
   "source": [
    "dsp.settings.configure(lm=turbo, rm=rm)\n",
    "\n",
    "example = dsp.Example(question=question, demos=demos)\n",
    "parts = qa_template(example)\n",
    "prompt = chat_adapter(parts, system_turn=False, multi_turn=True, strict_turn=True)\n",
    "\n",
    "print(\"------\")\n",
    "print(\"parts\")\n",
    "for k, v in parts.items():\n",
    "    print(k+\":\")\n",
    "    print(v)\n",
    "\n",
    "print(\"------\")\n",
    "print(\"prompt\")\n",
    "for k, v in prompt.items():\n",
    "    print(k+\":\")\n",
    "    if k==\"messages\":\n",
    "        for turn in v:\n",
    "            print(turn)\n",
    "    else:\n",
    "        print(v)"
   ]
  },
  {
   "cell_type": "markdown",
   "id": "b550581d",
   "metadata": {},
   "source": [
    "### Chat Adapter with system_turn=False, multi_turn=True, strict_turn=False"
   ]
  },
  {
   "cell_type": "code",
   "execution_count": 18,
   "id": "b8874890",
   "metadata": {
    "scrolled": true
   },
   "outputs": [
    {
     "name": "stdout",
     "output_type": "stream",
     "text": [
      "------\n",
      "parts\n",
      "instructions:\n",
      "Answer questions with short factoid answers.\n",
      "guidelines:\n",
      "Follow the following format.\n",
      "\n",
      "Question: ${the question to be answered}\n",
      "Answer: ${a short factoid answer, often between 1 and 5 words}\n",
      "rdemos:\n",
      "['Question: Which award did the first book of Gary Zukav receive?\\nAnswer: U.S. National Book Award']\n",
      "ademos:\n",
      "[]\n",
      "query:\n",
      "Question: Who has a broader scope of profession: E. L. Doctorow or Julia Peterkin?\n",
      "Answer: \n",
      "long_query:\n",
      "False\n",
      "------\n",
      "prompt\n",
      "model:\n",
      "gpt-3.5-turbo\n",
      "messages:\n",
      "{'role': 'user', 'content': 'Answer questions with short factoid answers.'}\n",
      "{'role': 'user', 'content': 'Follow the following format.\\n\\nQuestion: ${the question to be answered}\\nAnswer: ${a short factoid answer, often between 1 and 5 words}'}\n",
      "{'role': 'user', 'content': 'Question: Which award did the first book of Gary Zukav receive?\\nAnswer: U.S. National Book Award'}\n",
      "{'role': 'user', 'content': 'Question: Who has a broader scope of profession: E. L. Doctorow or Julia Peterkin?\\nAnswer:'}\n"
     ]
    }
   ],
   "source": [
    "dsp.settings.configure(lm=turbo, rm=rm)\n",
    "\n",
    "example = dsp.Example(question=question, demos=demos)\n",
    "parts = qa_template(example)\n",
    "prompt = chat_adapter(parts, system_turn=False, multi_turn=True, strict_turn=False)\n",
    "\n",
    "print(\"------\")\n",
    "print(\"parts\")\n",
    "for k, v in parts.items():\n",
    "    print(k+\":\")\n",
    "    print(v)\n",
    "\n",
    "print(\"------\")\n",
    "print(\"prompt\")\n",
    "for k, v in prompt.items():\n",
    "    print(k+\":\")\n",
    "    if k==\"messages\":\n",
    "        for turn in v:\n",
    "            print(turn)\n",
    "    else:\n",
    "        print(v)"
   ]
  },
  {
   "cell_type": "markdown",
   "id": "4841fb38",
   "metadata": {},
   "source": [
    "### Chat Adapter with system_turn=False, multi_turn=False, strict_turn=True"
   ]
  },
  {
   "cell_type": "code",
   "execution_count": 19,
   "id": "f9b79c4b",
   "metadata": {
    "scrolled": true
   },
   "outputs": [
    {
     "name": "stdout",
     "output_type": "stream",
     "text": [
      "------\n",
      "parts\n",
      "instructions:\n",
      "Answer questions with short factoid answers.\n",
      "guidelines:\n",
      "Follow the following format.\n",
      "\n",
      "Question: ${the question to be answered}\n",
      "Answer: ${a short factoid answer, often between 1 and 5 words}\n",
      "rdemos:\n",
      "['Question: Which award did the first book of Gary Zukav receive?\\nAnswer: U.S. National Book Award']\n",
      "ademos:\n",
      "[]\n",
      "query:\n",
      "Question: Who has a broader scope of profession: E. L. Doctorow or Julia Peterkin?\n",
      "Answer: \n",
      "long_query:\n",
      "False\n",
      "------\n",
      "prompt\n",
      "model:\n",
      "gpt-3.5-turbo\n",
      "messages:\n",
      "{'role': 'user', 'content': 'Answer questions with short factoid answers.\\n\\n---\\n\\nFollow the following format.\\n\\nQuestion: ${the question to be answered}\\nAnswer: ${a short factoid answer, often between 1 and 5 words}\\n\\n---\\n\\nQuestion: Which award did the first book of Gary Zukav receive?\\nAnswer: U.S. National Book Award\\n\\nQuestion: Who has a broader scope of profession: E. L. Doctorow or Julia Peterkin?\\nAnswer:'}\n"
     ]
    }
   ],
   "source": [
    "dsp.settings.configure(lm=turbo, rm=rm)\n",
    "\n",
    "example = dsp.Example(question=question, demos=demos)\n",
    "parts = qa_template(example)\n",
    "prompt = chat_adapter(parts, system_turn=False, multi_turn=False, strict_turn=True)\n",
    "\n",
    "print(\"------\")\n",
    "print(\"parts\")\n",
    "for k, v in parts.items():\n",
    "    print(k+\":\")\n",
    "    print(v)\n",
    "\n",
    "print(\"------\")\n",
    "print(\"prompt\")\n",
    "for k, v in prompt.items():\n",
    "    print(k+\":\")\n",
    "    if k==\"messages\":\n",
    "        for turn in v:\n",
    "            print(turn)\n",
    "    else:\n",
    "        print(v)"
   ]
  },
  {
   "cell_type": "markdown",
   "id": "436c3ab5",
   "metadata": {},
   "source": [
    "### Chat Adapter with system_turn=False, multi_turn=False, strict_turn=False"
   ]
  },
  {
   "cell_type": "code",
   "execution_count": 20,
   "id": "554980b3",
   "metadata": {
    "scrolled": true
   },
   "outputs": [
    {
     "name": "stdout",
     "output_type": "stream",
     "text": [
      "------\n",
      "parts\n",
      "instructions:\n",
      "Answer questions with short factoid answers.\n",
      "guidelines:\n",
      "Follow the following format.\n",
      "\n",
      "Question: ${the question to be answered}\n",
      "Answer: ${a short factoid answer, often between 1 and 5 words}\n",
      "rdemos:\n",
      "['Question: Which award did the first book of Gary Zukav receive?\\nAnswer: U.S. National Book Award']\n",
      "ademos:\n",
      "[]\n",
      "query:\n",
      "Question: Who has a broader scope of profession: E. L. Doctorow or Julia Peterkin?\n",
      "Answer: \n",
      "long_query:\n",
      "False\n",
      "------\n",
      "prompt\n",
      "model:\n",
      "gpt-3.5-turbo\n",
      "messages:\n",
      "{'role': 'user', 'content': 'Answer questions with short factoid answers.\\n\\n---\\n\\nFollow the following format.\\n\\nQuestion: ${the question to be answered}\\nAnswer: ${a short factoid answer, often between 1 and 5 words}\\n\\n---\\n\\nQuestion: Which award did the first book of Gary Zukav receive?\\nAnswer: U.S. National Book Award\\n\\nQuestion: Who has a broader scope of profession: E. L. Doctorow or Julia Peterkin?\\nAnswer:'}\n"
     ]
    }
   ],
   "source": [
    "dsp.settings.configure(lm=turbo, rm=rm)\n",
    "\n",
    "example = dsp.Example(question=question, demos=demos)\n",
    "parts = qa_template(example)\n",
    "prompt = chat_adapter(parts, system_turn=False, multi_turn=False, strict_turn=False)\n",
    "\n",
    "print(\"------\")\n",
    "print(\"parts\")\n",
    "for k, v in parts.items():\n",
    "    print(k+\":\")\n",
    "    print(v)\n",
    "\n",
    "print(\"------\")\n",
    "print(\"prompt\")\n",
    "for k, v in prompt.items():\n",
    "    print(k+\":\")\n",
    "    if k==\"messages\":\n",
    "        for turn in v:\n",
    "            print(turn)\n",
    "    else:\n",
    "        print(v)"
   ]
  },
  {
   "cell_type": "markdown",
   "id": "6ff97ee8",
   "metadata": {},
   "source": [
    "## Testing Chat Adapter Flags with no demos"
   ]
  },
  {
   "cell_type": "markdown",
   "id": "ed8aa11e",
   "metadata": {},
   "source": [
    "### Chat Adapter with system_turn=True, multi_turn=True, strict_turn=True"
   ]
  },
  {
   "cell_type": "code",
   "execution_count": 23,
   "id": "3e9ea5e3",
   "metadata": {
    "scrolled": true
   },
   "outputs": [
    {
     "name": "stdout",
     "output_type": "stream",
     "text": [
      "------\n",
      "parts\n",
      "instructions:\n",
      "Answer questions with short factoid answers.\n",
      "guidelines:\n",
      "Follow the following format.\n",
      "\n",
      "Question: ${the question to be answered}\n",
      "Answer: ${a short factoid answer, often between 1 and 5 words}\n",
      "rdemos:\n",
      "[]\n",
      "ademos:\n",
      "[]\n",
      "query:\n",
      "Question: Who has a broader scope of profession: E. L. Doctorow or Julia Peterkin?\n",
      "Answer: \n",
      "long_query:\n",
      "False\n",
      "------\n",
      "prompt\n",
      "model:\n",
      "gpt-3.5-turbo\n",
      "messages:\n",
      "{'role': 'system', 'content': 'Answer questions with short factoid answers.'}\n",
      "{'role': 'user', 'content': 'Follow the following format.\\n\\nQuestion: ${the question to be answered}\\nAnswer: ${a short factoid answer, often between 1 and 5 words}'}\n",
      "{'role': 'assistant', 'content': 'Got it.'}\n",
      "{'role': 'user', 'content': 'Question: Who has a broader scope of profession: E. L. Doctorow or Julia Peterkin?\\nAnswer:'}\n"
     ]
    }
   ],
   "source": [
    "dsp.settings.configure(lm=turbo, rm=rm)\n",
    "\n",
    "example = dsp.Example(question=question)\n",
    "parts = qa_template(example)\n",
    "prompt = chat_adapter(parts, system_turn=True, multi_turn=True, strict_turn=True)\n",
    "\n",
    "print(\"------\")\n",
    "print(\"parts\")\n",
    "for k, v in parts.items():\n",
    "    print(k+\":\")\n",
    "    print(v)\n",
    "\n",
    "print(\"------\")\n",
    "print(\"prompt\")\n",
    "for k, v in prompt.items():\n",
    "    print(k+\":\")\n",
    "    if k==\"messages\":\n",
    "        for turn in v:\n",
    "            print(turn)\n",
    "    else:\n",
    "        print(v)"
   ]
  },
  {
   "cell_type": "markdown",
   "id": "8f7a21a7",
   "metadata": {},
   "source": [
    "### Chat Adapter with system_turn=True, multi_turn=True, strict_turn=False"
   ]
  },
  {
   "cell_type": "code",
   "execution_count": 24,
   "id": "261441d4",
   "metadata": {
    "scrolled": true
   },
   "outputs": [
    {
     "name": "stdout",
     "output_type": "stream",
     "text": [
      "------\n",
      "parts\n",
      "instructions:\n",
      "Answer questions with short factoid answers.\n",
      "guidelines:\n",
      "Follow the following format.\n",
      "\n",
      "Question: ${the question to be answered}\n",
      "Answer: ${a short factoid answer, often between 1 and 5 words}\n",
      "rdemos:\n",
      "[]\n",
      "ademos:\n",
      "[]\n",
      "query:\n",
      "Question: Who has a broader scope of profession: E. L. Doctorow or Julia Peterkin?\n",
      "Answer: \n",
      "long_query:\n",
      "False\n",
      "------\n",
      "prompt\n",
      "model:\n",
      "gpt-3.5-turbo\n",
      "messages:\n",
      "{'role': 'system', 'content': 'Answer questions with short factoid answers.'}\n",
      "{'role': 'user', 'content': 'Follow the following format.\\n\\nQuestion: ${the question to be answered}\\nAnswer: ${a short factoid answer, often between 1 and 5 words}'}\n",
      "{'role': 'user', 'content': 'Question: Who has a broader scope of profession: E. L. Doctorow or Julia Peterkin?\\nAnswer:'}\n"
     ]
    }
   ],
   "source": [
    "dsp.settings.configure(lm=turbo, rm=rm)\n",
    "\n",
    "example = dsp.Example(question=question)\n",
    "parts = qa_template(example)\n",
    "prompt = chat_adapter(parts, system_turn=True, multi_turn=True, strict_turn=False)\n",
    "\n",
    "print(\"------\")\n",
    "print(\"parts\")\n",
    "for k, v in parts.items():\n",
    "    print(k+\":\")\n",
    "    print(v)\n",
    "\n",
    "print(\"------\")\n",
    "print(\"prompt\")\n",
    "for k, v in prompt.items():\n",
    "    print(k+\":\")\n",
    "    if k==\"messages\":\n",
    "        for turn in v:\n",
    "            print(turn)\n",
    "    else:\n",
    "        print(v)"
   ]
  },
  {
   "cell_type": "markdown",
   "id": "a77ca647",
   "metadata": {},
   "source": [
    "### Chat Adapter with system_turn=True, multi_turn=False, strict_turn=True"
   ]
  },
  {
   "cell_type": "code",
   "execution_count": 25,
   "id": "2287336c",
   "metadata": {
    "scrolled": true
   },
   "outputs": [
    {
     "name": "stdout",
     "output_type": "stream",
     "text": [
      "------\n",
      "parts\n",
      "instructions:\n",
      "Answer questions with short factoid answers.\n",
      "guidelines:\n",
      "Follow the following format.\n",
      "\n",
      "Question: ${the question to be answered}\n",
      "Answer: ${a short factoid answer, often between 1 and 5 words}\n",
      "rdemos:\n",
      "[]\n",
      "ademos:\n",
      "[]\n",
      "query:\n",
      "Question: Who has a broader scope of profession: E. L. Doctorow or Julia Peterkin?\n",
      "Answer: \n",
      "long_query:\n",
      "False\n",
      "------\n",
      "prompt\n",
      "model:\n",
      "gpt-3.5-turbo\n",
      "messages:\n",
      "{'role': 'system', 'content': 'Answer questions with short factoid answers.'}\n",
      "{'role': 'user', 'content': 'Follow the following format.\\n\\nQuestion: ${the question to be answered}\\nAnswer: ${a short factoid answer, often between 1 and 5 words}\\n\\n---\\n\\nQuestion: Who has a broader scope of profession: E. L. Doctorow or Julia Peterkin?\\nAnswer:'}\n"
     ]
    }
   ],
   "source": [
    "dsp.settings.configure(lm=turbo, rm=rm)\n",
    "\n",
    "example = dsp.Example(question=question)\n",
    "parts = qa_template(example)\n",
    "prompt = chat_adapter(parts, system_turn=True, multi_turn=False, strict_turn=True)\n",
    "\n",
    "print(\"------\")\n",
    "print(\"parts\")\n",
    "for k, v in parts.items():\n",
    "    print(k+\":\")\n",
    "    print(v)\n",
    "\n",
    "print(\"------\")\n",
    "print(\"prompt\")\n",
    "for k, v in prompt.items():\n",
    "    print(k+\":\")\n",
    "    if k==\"messages\":\n",
    "        for turn in v:\n",
    "            print(turn)\n",
    "    else:\n",
    "        print(v)"
   ]
  },
  {
   "cell_type": "markdown",
   "id": "c7b52150",
   "metadata": {},
   "source": [
    "### Chat Adapter with system_turn=True, multi_turn=False, strict_turn=False"
   ]
  },
  {
   "cell_type": "code",
   "execution_count": 26,
   "id": "f9e2fc3d",
   "metadata": {
    "scrolled": true
   },
   "outputs": [
    {
     "name": "stdout",
     "output_type": "stream",
     "text": [
      "------\n",
      "parts\n",
      "instructions:\n",
      "Answer questions with short factoid answers.\n",
      "guidelines:\n",
      "Follow the following format.\n",
      "\n",
      "Question: ${the question to be answered}\n",
      "Answer: ${a short factoid answer, often between 1 and 5 words}\n",
      "rdemos:\n",
      "[]\n",
      "ademos:\n",
      "[]\n",
      "query:\n",
      "Question: Who has a broader scope of profession: E. L. Doctorow or Julia Peterkin?\n",
      "Answer: \n",
      "long_query:\n",
      "False\n",
      "------\n",
      "prompt\n",
      "model:\n",
      "gpt-3.5-turbo\n",
      "messages:\n",
      "{'role': 'system', 'content': 'Answer questions with short factoid answers.'}\n",
      "{'role': 'user', 'content': 'Follow the following format.\\n\\nQuestion: ${the question to be answered}\\nAnswer: ${a short factoid answer, often between 1 and 5 words}\\n\\n---\\n\\nQuestion: Who has a broader scope of profession: E. L. Doctorow or Julia Peterkin?\\nAnswer:'}\n"
     ]
    }
   ],
   "source": [
    "dsp.settings.configure(lm=turbo, rm=rm)\n",
    "\n",
    "example = dsp.Example(question=question)\n",
    "parts = qa_template(example)\n",
    "prompt = chat_adapter(parts, system_turn=True, multi_turn=False, strict_turn=False)\n",
    "\n",
    "print(\"------\")\n",
    "print(\"parts\")\n",
    "for k, v in parts.items():\n",
    "    print(k+\":\")\n",
    "    print(v)\n",
    "\n",
    "print(\"------\")\n",
    "print(\"prompt\")\n",
    "for k, v in prompt.items():\n",
    "    print(k+\":\")\n",
    "    if k==\"messages\":\n",
    "        for turn in v:\n",
    "            print(turn)\n",
    "    else:\n",
    "        print(v)"
   ]
  },
  {
   "cell_type": "markdown",
   "id": "d5be8581",
   "metadata": {},
   "source": [
    "### Chat Adapter with system_turn=False, multi_turn=True, strict_turn=True"
   ]
  },
  {
   "cell_type": "code",
   "execution_count": 27,
   "id": "443b87d5",
   "metadata": {
    "scrolled": true
   },
   "outputs": [
    {
     "name": "stdout",
     "output_type": "stream",
     "text": [
      "------\n",
      "parts\n",
      "instructions:\n",
      "Answer questions with short factoid answers.\n",
      "guidelines:\n",
      "Follow the following format.\n",
      "\n",
      "Question: ${the question to be answered}\n",
      "Answer: ${a short factoid answer, often between 1 and 5 words}\n",
      "rdemos:\n",
      "[]\n",
      "ademos:\n",
      "[]\n",
      "query:\n",
      "Question: Who has a broader scope of profession: E. L. Doctorow or Julia Peterkin?\n",
      "Answer: \n",
      "long_query:\n",
      "False\n",
      "------\n",
      "prompt\n",
      "model:\n",
      "gpt-3.5-turbo\n",
      "messages:\n",
      "{'role': 'user', 'content': 'Answer questions with short factoid answers.'}\n",
      "{'role': 'assistant', 'content': 'Got it.'}\n",
      "{'role': 'user', 'content': 'Follow the following format.\\n\\nQuestion: ${the question to be answered}\\nAnswer: ${a short factoid answer, often between 1 and 5 words}'}\n",
      "{'role': 'assistant', 'content': 'Got it.'}\n",
      "{'role': 'user', 'content': 'Question: Who has a broader scope of profession: E. L. Doctorow or Julia Peterkin?\\nAnswer:'}\n"
     ]
    }
   ],
   "source": [
    "dsp.settings.configure(lm=turbo, rm=rm)\n",
    "\n",
    "example = dsp.Example(question=question)\n",
    "parts = qa_template(example)\n",
    "prompt = chat_adapter(parts, system_turn=False, multi_turn=True, strict_turn=True)\n",
    "\n",
    "print(\"------\")\n",
    "print(\"parts\")\n",
    "for k, v in parts.items():\n",
    "    print(k+\":\")\n",
    "    print(v)\n",
    "\n",
    "print(\"------\")\n",
    "print(\"prompt\")\n",
    "for k, v in prompt.items():\n",
    "    print(k+\":\")\n",
    "    if k==\"messages\":\n",
    "        for turn in v:\n",
    "            print(turn)\n",
    "    else:\n",
    "        print(v)"
   ]
  },
  {
   "cell_type": "markdown",
   "id": "2589f136",
   "metadata": {},
   "source": [
    "### Chat Adapter with system_turn=False, multi_turn=True, strict_turn=False"
   ]
  },
  {
   "cell_type": "code",
   "execution_count": 28,
   "id": "d447c8ea",
   "metadata": {
    "scrolled": true
   },
   "outputs": [
    {
     "name": "stdout",
     "output_type": "stream",
     "text": [
      "------\n",
      "parts\n",
      "instructions:\n",
      "Answer questions with short factoid answers.\n",
      "guidelines:\n",
      "Follow the following format.\n",
      "\n",
      "Question: ${the question to be answered}\n",
      "Answer: ${a short factoid answer, often between 1 and 5 words}\n",
      "rdemos:\n",
      "[]\n",
      "ademos:\n",
      "[]\n",
      "query:\n",
      "Question: Who has a broader scope of profession: E. L. Doctorow or Julia Peterkin?\n",
      "Answer: \n",
      "long_query:\n",
      "False\n",
      "------\n",
      "prompt\n",
      "model:\n",
      "gpt-3.5-turbo\n",
      "messages:\n",
      "{'role': 'user', 'content': 'Answer questions with short factoid answers.'}\n",
      "{'role': 'user', 'content': 'Follow the following format.\\n\\nQuestion: ${the question to be answered}\\nAnswer: ${a short factoid answer, often between 1 and 5 words}'}\n",
      "{'role': 'user', 'content': 'Question: Who has a broader scope of profession: E. L. Doctorow or Julia Peterkin?\\nAnswer:'}\n"
     ]
    }
   ],
   "source": [
    "dsp.settings.configure(lm=turbo, rm=rm)\n",
    "\n",
    "example = dsp.Example(question=question)\n",
    "parts = qa_template(example)\n",
    "prompt = chat_adapter(parts, system_turn=False, multi_turn=True, strict_turn=False)\n",
    "\n",
    "print(\"------\")\n",
    "print(\"parts\")\n",
    "for k, v in parts.items():\n",
    "    print(k+\":\")\n",
    "    print(v)\n",
    "\n",
    "print(\"------\")\n",
    "print(\"prompt\")\n",
    "for k, v in prompt.items():\n",
    "    print(k+\":\")\n",
    "    if k==\"messages\":\n",
    "        for turn in v:\n",
    "            print(turn)\n",
    "    else:\n",
    "        print(v)"
   ]
  },
  {
   "cell_type": "markdown",
   "id": "1d61a764",
   "metadata": {},
   "source": [
    "### Chat Adapter with system_turn=False, multi_turn=False, strict_turn=True"
   ]
  },
  {
   "cell_type": "code",
   "execution_count": 29,
   "id": "cbb5d221",
   "metadata": {
    "scrolled": true
   },
   "outputs": [
    {
     "name": "stdout",
     "output_type": "stream",
     "text": [
      "------\n",
      "parts\n",
      "instructions:\n",
      "Answer questions with short factoid answers.\n",
      "guidelines:\n",
      "Follow the following format.\n",
      "\n",
      "Question: ${the question to be answered}\n",
      "Answer: ${a short factoid answer, often between 1 and 5 words}\n",
      "rdemos:\n",
      "['Question: Which award did the first book of Gary Zukav receive?\\nAnswer: U.S. National Book Award']\n",
      "ademos:\n",
      "[]\n",
      "query:\n",
      "Question: Who has a broader scope of profession: E. L. Doctorow or Julia Peterkin?\n",
      "Answer: \n",
      "long_query:\n",
      "False\n",
      "------\n",
      "prompt\n",
      "model:\n",
      "gpt-3.5-turbo\n",
      "messages:\n",
      "{'role': 'user', 'content': 'Answer questions with short factoid answers.\\n\\n---\\n\\nFollow the following format.\\n\\nQuestion: ${the question to be answered}\\nAnswer: ${a short factoid answer, often between 1 and 5 words}\\n\\n---\\n\\nQuestion: Which award did the first book of Gary Zukav receive?\\nAnswer: U.S. National Book Award\\n\\nQuestion: Who has a broader scope of profession: E. L. Doctorow or Julia Peterkin?\\nAnswer:'}\n"
     ]
    }
   ],
   "source": [
    "dsp.settings.configure(lm=turbo, rm=rm)\n",
    "\n",
    "example = dsp.Example(question=question, demos=demos)\n",
    "parts = qa_template(example)\n",
    "prompt = chat_adapter(parts, system_turn=False, multi_turn=False, strict_turn=True)\n",
    "\n",
    "print(\"------\")\n",
    "print(\"parts\")\n",
    "for k, v in parts.items():\n",
    "    print(k+\":\")\n",
    "    print(v)\n",
    "\n",
    "print(\"------\")\n",
    "print(\"prompt\")\n",
    "for k, v in prompt.items():\n",
    "    print(k+\":\")\n",
    "    if k==\"messages\":\n",
    "        for turn in v:\n",
    "            print(turn)\n",
    "    else:\n",
    "        print(v)"
   ]
  },
  {
   "cell_type": "markdown",
   "id": "189d8210",
   "metadata": {},
   "source": [
    "### Chat Adapter with system_turn=False, multi_turn=False, strict_turn=False"
   ]
  },
  {
   "cell_type": "code",
   "execution_count": 30,
   "id": "0bab741f",
   "metadata": {
    "scrolled": true
   },
   "outputs": [
    {
     "name": "stdout",
     "output_type": "stream",
     "text": [
      "------\n",
      "parts\n",
      "instructions:\n",
      "Answer questions with short factoid answers.\n",
      "guidelines:\n",
      "Follow the following format.\n",
      "\n",
      "Question: ${the question to be answered}\n",
      "Answer: ${a short factoid answer, often between 1 and 5 words}\n",
      "rdemos:\n",
      "['Question: Which award did the first book of Gary Zukav receive?\\nAnswer: U.S. National Book Award']\n",
      "ademos:\n",
      "[]\n",
      "query:\n",
      "Question: Who has a broader scope of profession: E. L. Doctorow or Julia Peterkin?\n",
      "Answer: \n",
      "long_query:\n",
      "False\n",
      "------\n",
      "prompt\n",
      "model:\n",
      "gpt-3.5-turbo\n",
      "messages:\n",
      "{'role': 'user', 'content': 'Answer questions with short factoid answers.\\n\\n---\\n\\nFollow the following format.\\n\\nQuestion: ${the question to be answered}\\nAnswer: ${a short factoid answer, often between 1 and 5 words}\\n\\n---\\n\\nQuestion: Which award did the first book of Gary Zukav receive?\\nAnswer: U.S. National Book Award\\n\\nQuestion: Who has a broader scope of profession: E. L. Doctorow or Julia Peterkin?\\nAnswer:'}\n"
     ]
    }
   ],
   "source": [
    "dsp.settings.configure(lm=turbo, rm=rm)\n",
    "\n",
    "example = dsp.Example(question=question, demos=demos)\n",
    "parts = qa_template(example)\n",
    "prompt = chat_adapter(parts, system_turn=False, multi_turn=False, strict_turn=False)\n",
    "\n",
    "print(\"------\")\n",
    "print(\"parts\")\n",
    "for k, v in parts.items():\n",
    "    print(k+\":\")\n",
    "    print(v)\n",
    "\n",
    "print(\"------\")\n",
    "print(\"prompt\")\n",
    "for k, v in prompt.items():\n",
    "    print(k+\":\")\n",
    "    if k==\"messages\":\n",
    "        for turn in v:\n",
    "            print(turn)\n",
    "    else:\n",
    "        print(v)"
   ]
  }
 ],
 "metadata": {
  "kernelspec": {
   "display_name": "Python 3 (ipykernel)",
   "language": "python",
   "name": "python3"
  },
  "language_info": {
   "codemirror_mode": {
    "name": "ipython",
    "version": 3
   },
   "file_extension": ".py",
   "mimetype": "text/x-python",
   "name": "python",
   "nbconvert_exporter": "python",
   "pygments_lexer": "ipython3",
   "version": "3.11.2"
  }
 },
 "nbformat": 4,
 "nbformat_minor": 5
}
